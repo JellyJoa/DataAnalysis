{
 "cells": [
  {
   "cell_type": "code",
   "execution_count": 1,
   "id": "0f848493",
   "metadata": {},
   "outputs": [],
   "source": [
    "import numpy as np\n",
    "import pandas as pd\n",
    "import tensorflow as tf\n",
    "from scipy import stats\n",
    "from sklearn.preprocessing import MinMaxScaler\n",
    "import matplotlib.pyplot as plt\n",
    "from sklearn import linear_model\n",
    "import warnings\n",
    "\n",
    "warnings.filterwarnings(action='ignore')"
   ]
  },
  {
   "cell_type": "code",
   "execution_count": 2,
   "id": "a15fc3d2",
   "metadata": {},
   "outputs": [
    {
     "data": {
      "text/html": [
       "<div>\n",
       "<style scoped>\n",
       "    .dataframe tbody tr th:only-of-type {\n",
       "        vertical-align: middle;\n",
       "    }\n",
       "\n",
       "    .dataframe tbody tr th {\n",
       "        vertical-align: top;\n",
       "    }\n",
       "\n",
       "    .dataframe thead th {\n",
       "        text-align: right;\n",
       "    }\n",
       "</style>\n",
       "<table border=\"1\" class=\"dataframe\">\n",
       "  <thead>\n",
       "    <tr style=\"text-align: right;\">\n",
       "      <th></th>\n",
       "      <th>Ozone</th>\n",
       "      <th>Solar.R</th>\n",
       "      <th>Wind</th>\n",
       "      <th>Temp</th>\n",
       "      <th>Month</th>\n",
       "      <th>Day</th>\n",
       "    </tr>\n",
       "  </thead>\n",
       "  <tbody>\n",
       "    <tr>\n",
       "      <th>0</th>\n",
       "      <td>41.0</td>\n",
       "      <td>190.0</td>\n",
       "      <td>7.4</td>\n",
       "      <td>67</td>\n",
       "      <td>5</td>\n",
       "      <td>1</td>\n",
       "    </tr>\n",
       "    <tr>\n",
       "      <th>1</th>\n",
       "      <td>36.0</td>\n",
       "      <td>118.0</td>\n",
       "      <td>8.0</td>\n",
       "      <td>72</td>\n",
       "      <td>5</td>\n",
       "      <td>2</td>\n",
       "    </tr>\n",
       "    <tr>\n",
       "      <th>2</th>\n",
       "      <td>12.0</td>\n",
       "      <td>149.0</td>\n",
       "      <td>12.6</td>\n",
       "      <td>74</td>\n",
       "      <td>5</td>\n",
       "      <td>3</td>\n",
       "    </tr>\n",
       "    <tr>\n",
       "      <th>3</th>\n",
       "      <td>18.0</td>\n",
       "      <td>313.0</td>\n",
       "      <td>11.5</td>\n",
       "      <td>62</td>\n",
       "      <td>5</td>\n",
       "      <td>4</td>\n",
       "    </tr>\n",
       "    <tr>\n",
       "      <th>4</th>\n",
       "      <td>NaN</td>\n",
       "      <td>NaN</td>\n",
       "      <td>14.3</td>\n",
       "      <td>56</td>\n",
       "      <td>5</td>\n",
       "      <td>5</td>\n",
       "    </tr>\n",
       "  </tbody>\n",
       "</table>\n",
       "</div>"
      ],
      "text/plain": [
       "   Ozone  Solar.R  Wind  Temp  Month  Day\n",
       "0   41.0    190.0   7.4    67      5    1\n",
       "1   36.0    118.0   8.0    72      5    2\n",
       "2   12.0    149.0  12.6    74      5    3\n",
       "3   18.0    313.0  11.5    62      5    4\n",
       "4    NaN      NaN  14.3    56      5    5"
      ]
     },
     "metadata": {},
     "output_type": "display_data"
    }
   ],
   "source": [
    "# Raw Data\n",
    "df = pd.read_csv(r'C:\\Users\\sun\\Desktop\\Data\\ozone.csv')\n",
    "display(df.head())"
   ]
  },
  {
   "cell_type": "code",
   "execution_count": 3,
   "id": "694a081e",
   "metadata": {},
   "outputs": [
    {
     "name": "stdout",
     "output_type": "stream",
     "text": [
      "<class 'pandas.core.frame.DataFrame'>\n",
      "RangeIndex: 153 entries, 0 to 152\n",
      "Data columns (total 6 columns):\n",
      " #   Column   Non-Null Count  Dtype  \n",
      "---  ------   --------------  -----  \n",
      " 0   Ozone    116 non-null    float64\n",
      " 1   Solar.R  146 non-null    float64\n",
      " 2   Wind     153 non-null    float64\n",
      " 3   Temp     153 non-null    int64  \n",
      " 4   Month    153 non-null    int64  \n",
      " 5   Day      153 non-null    int64  \n",
      "dtypes: float64(3), int64(3)\n",
      "memory usage: 7.3 KB\n",
      "None\n",
      "Ozone      37\n",
      "Solar.R     7\n",
      "Wind        0\n",
      "Temp        0\n",
      "Month       0\n",
      "Day         0\n",
      "dtype: int64\n"
     ]
    }
   ],
   "source": [
    "print(df.info())\n",
    "print(df.isna().sum())"
   ]
  },
  {
   "cell_type": "code",
   "execution_count": 4,
   "id": "f14ea513",
   "metadata": {},
   "outputs": [
    {
     "data": {
      "text/html": [
       "<div>\n",
       "<style scoped>\n",
       "    .dataframe tbody tr th:only-of-type {\n",
       "        vertical-align: middle;\n",
       "    }\n",
       "\n",
       "    .dataframe tbody tr th {\n",
       "        vertical-align: top;\n",
       "    }\n",
       "\n",
       "    .dataframe thead th {\n",
       "        text-align: right;\n",
       "    }\n",
       "</style>\n",
       "<table border=\"1\" class=\"dataframe\">\n",
       "  <thead>\n",
       "    <tr style=\"text-align: right;\">\n",
       "      <th></th>\n",
       "      <th>Ozone</th>\n",
       "      <th>Solar.R</th>\n",
       "      <th>Wind</th>\n",
       "      <th>Temp</th>\n",
       "    </tr>\n",
       "  </thead>\n",
       "  <tbody>\n",
       "    <tr>\n",
       "      <th>0</th>\n",
       "      <td>41.0</td>\n",
       "      <td>190.0</td>\n",
       "      <td>7.4</td>\n",
       "      <td>67</td>\n",
       "    </tr>\n",
       "    <tr>\n",
       "      <th>1</th>\n",
       "      <td>36.0</td>\n",
       "      <td>118.0</td>\n",
       "      <td>8.0</td>\n",
       "      <td>72</td>\n",
       "    </tr>\n",
       "    <tr>\n",
       "      <th>2</th>\n",
       "      <td>12.0</td>\n",
       "      <td>149.0</td>\n",
       "      <td>12.6</td>\n",
       "      <td>74</td>\n",
       "    </tr>\n",
       "    <tr>\n",
       "      <th>3</th>\n",
       "      <td>18.0</td>\n",
       "      <td>313.0</td>\n",
       "      <td>11.5</td>\n",
       "      <td>62</td>\n",
       "    </tr>\n",
       "    <tr>\n",
       "      <th>6</th>\n",
       "      <td>23.0</td>\n",
       "      <td>299.0</td>\n",
       "      <td>8.6</td>\n",
       "      <td>65</td>\n",
       "    </tr>\n",
       "  </tbody>\n",
       "</table>\n",
       "</div>"
      ],
      "text/plain": [
       "   Ozone  Solar.R  Wind  Temp\n",
       "0   41.0    190.0   7.4    67\n",
       "1   36.0    118.0   8.0    72\n",
       "2   12.0    149.0  12.6    74\n",
       "3   18.0    313.0  11.5    62\n",
       "6   23.0    299.0   8.6    65"
      ]
     },
     "metadata": {},
     "output_type": "display_data"
    },
    {
     "name": "stdout",
     "output_type": "stream",
     "text": [
      "<class 'pandas.core.frame.DataFrame'>\n",
      "Int64Index: 111 entries, 0 to 152\n",
      "Data columns (total 4 columns):\n",
      " #   Column   Non-Null Count  Dtype  \n",
      "---  ------   --------------  -----  \n",
      " 0   Ozone    111 non-null    float64\n",
      " 1   Solar.R  111 non-null    float64\n",
      " 2   Wind     111 non-null    float64\n",
      " 3   Temp     111 non-null    int64  \n",
      "dtypes: float64(3), int64(1)\n",
      "memory usage: 4.3 KB\n",
      "None\n",
      "Ozone      0\n",
      "Solar.R    0\n",
      "Wind       0\n",
      "Temp       0\n",
      "dtype: int64\n"
     ]
    }
   ],
   "source": [
    "# 결측치 제거\n",
    "training_data = df[['Ozone', 'Solar.R', 'Wind', 'Temp']]\n",
    "training_data.dropna(how='any',\n",
    "                    inplace=True)\n",
    "display(training_data.head())\n",
    "print(training_data.info())\n",
    "print(training_data.isna().sum())"
   ]
  },
  {
   "cell_type": "code",
   "execution_count": 5,
   "id": "6d76d6de",
   "metadata": {},
   "outputs": [
    {
     "data": {
      "image/png": "[encoded data removed]",
      "text/plain": [
       "<Figure size 432x288 with 4 Axes>"
      ]
     },
     "metadata": {
      "needs_background": "light"
     },
     "output_type": "display_data"
    }
   ],
   "source": [
    "# 이상치 확인\n",
    "figure = plt.figure()\n",
    "\n",
    "ax1 = figure.add_subplot(1,4,1)\n",
    "ax2 = figure.add_subplot(1,4,2)\n",
    "ax3 = figure.add_subplot(1,4,3)\n",
    "ax4 = figure.add_subplot(1,4,4)\n",
    "\n",
    "ax1.set_title('Solar.R')\n",
    "ax1.boxplot(training_data['Solar.R'])\n",
    "ax2.set_title('Wind')\n",
    "ax2.boxplot(training_data['Wind'])\n",
    "ax3.set_title('Temp')\n",
    "ax3.boxplot(training_data['Temp'])\n",
    "ax4.set_title('Ozone')\n",
    "ax4.boxplot(training_data['Ozone'])\n",
    "\n",
    "plt.show()"
   ]
  },
  {
   "cell_type": "code",
   "execution_count": 6,
   "id": "54034fce",
   "metadata": {},
   "outputs": [
    {
     "data": {
      "text/html": [
       "<div>\n",
       "<style scoped>\n",
       "    .dataframe tbody tr th:only-of-type {\n",
       "        vertical-align: middle;\n",
       "    }\n",
       "\n",
       "    .dataframe tbody tr th {\n",
       "        vertical-align: top;\n",
       "    }\n",
       "\n",
       "    .dataframe thead th {\n",
       "        text-align: right;\n",
       "    }\n",
       "</style>\n",
       "<table border=\"1\" class=\"dataframe\">\n",
       "  <thead>\n",
       "    <tr style=\"text-align: right;\">\n",
       "      <th></th>\n",
       "      <th>Ozone</th>\n",
       "      <th>Solar.R</th>\n",
       "      <th>Wind</th>\n",
       "      <th>Temp</th>\n",
       "    </tr>\n",
       "  </thead>\n",
       "  <tbody>\n",
       "    <tr>\n",
       "      <th>count</th>\n",
       "      <td>101.000000</td>\n",
       "      <td>101.000000</td>\n",
       "      <td>101.000000</td>\n",
       "      <td>101.000000</td>\n",
       "    </tr>\n",
       "    <tr>\n",
       "      <th>mean</th>\n",
       "      <td>37.435644</td>\n",
       "      <td>183.485149</td>\n",
       "      <td>10.037624</td>\n",
       "      <td>77.574257</td>\n",
       "    </tr>\n",
       "    <tr>\n",
       "      <th>std</th>\n",
       "      <td>26.383107</td>\n",
       "      <td>92.012566</td>\n",
       "      <td>2.928339</td>\n",
       "      <td>9.175344</td>\n",
       "    </tr>\n",
       "    <tr>\n",
       "      <th>min</th>\n",
       "      <td>1.000000</td>\n",
       "      <td>7.000000</td>\n",
       "      <td>4.600000</td>\n",
       "      <td>58.000000</td>\n",
       "    </tr>\n",
       "    <tr>\n",
       "      <th>25%</th>\n",
       "      <td>18.000000</td>\n",
       "      <td>112.000000</td>\n",
       "      <td>7.400000</td>\n",
       "      <td>71.000000</td>\n",
       "    </tr>\n",
       "    <tr>\n",
       "      <th>50%</th>\n",
       "      <td>29.000000</td>\n",
       "      <td>201.000000</td>\n",
       "      <td>9.700000</td>\n",
       "      <td>78.000000</td>\n",
       "    </tr>\n",
       "    <tr>\n",
       "      <th>75%</th>\n",
       "      <td>50.000000</td>\n",
       "      <td>256.000000</td>\n",
       "      <td>11.500000</td>\n",
       "      <td>84.000000</td>\n",
       "    </tr>\n",
       "    <tr>\n",
       "      <th>max</th>\n",
       "      <td>108.000000</td>\n",
       "      <td>334.000000</td>\n",
       "      <td>16.600000</td>\n",
       "      <td>97.000000</td>\n",
       "    </tr>\n",
       "  </tbody>\n",
       "</table>\n",
       "</div>"
      ],
      "text/plain": [
       "            Ozone     Solar.R        Wind        Temp\n",
       "count  101.000000  101.000000  101.000000  101.000000\n",
       "mean    37.435644  183.485149   10.037624   77.574257\n",
       "std     26.383107   92.012566    2.928339    9.175344\n",
       "min      1.000000    7.000000    4.600000   58.000000\n",
       "25%     18.000000  112.000000    7.400000   71.000000\n",
       "50%     29.000000  201.000000    9.700000   78.000000\n",
       "75%     50.000000  256.000000   11.500000   84.000000\n",
       "max    108.000000  334.000000   16.600000   97.000000"
      ]
     },
     "execution_count": 6,
     "metadata": {},
     "output_type": "execute_result"
    }
   ],
   "source": [
    "zscore_threshold = 2.0\n",
    "outlier = training_data['Ozone'][np.abs(stats.zscore(training_data['Ozone'])) > zscore_threshold]\n",
    "training_data = training_data.loc[np.isin(training_data['Ozone'], outlier, invert=True)]\n",
    "\n",
    "outlier = training_data['Wind'][np.abs(stats.zscore(training_data['Wind'])) > zscore_threshold]\n",
    "training_data = training_data.loc[np.isin(training_data['Wind'], outlier, invert=True)]\n",
    "\n",
    "training_data.describe()"
   ]
  },
  {
   "cell_type": "code",
   "execution_count": 8,
   "id": "2d465b72",
   "metadata": {},
   "outputs": [],
   "source": [
    "# Training Data Set\n",
    "x_data = training_data[['Solar.R', 'Wind', 'Temp']].values.reshape(-1,3)\n",
    "y_data = training_data['Ozone'].values.reshape(-1,1)\n",
    "\n",
    "# 정규화 처리\n",
    "scaler_x = MinMaxScaler()\n",
    "scaler_y = MinMaxScaler()\n",
    "\n",
    "scaled_x = scaler_x.fit_transform(x_data)\n",
    "scaled_y = scaler_y.fit_transform(y_data)"
   ]
  },
  {
   "cell_type": "markdown",
   "id": "6ef74aa8",
   "metadata": {},
   "source": [
    "### python"
   ]
  },
  {
   "cell_type": "code",
   "execution_count": 13,
   "id": "4f1eb5d5",
   "metadata": {},
   "outputs": [
    {
     "name": "stdout",
     "output_type": "stream",
     "text": [
      "W : [[0.03633073]\n",
      " [0.81108474]\n",
      " [0.38360171]], b : [0.87767302], loss : 1.3574375953148132\n",
      "W : [[-0.13208179]\n",
      " [ 0.19833051]\n",
      " [ 0.29413607]], b : [0.1837168], loss : 0.057863671158466634\n",
      "W : [[-0.02204869]\n",
      " [ 0.00247554]\n",
      " [ 0.43244057]], b : [0.13982392], loss : 0.03350142929554638\n",
      "W : [[ 0.04362386]\n",
      " [-0.11490649]\n",
      " [ 0.515087  ]], b : [0.11381518], loss : 0.024781886868003866\n",
      "W : [[ 0.08279966]\n",
      " [-0.18531119]\n",
      " [ 0.56443001]], b : [0.09845484], loss : 0.02166096186049414\n",
      "W : [[ 0.1061571 ]\n",
      " [-0.22758322]\n",
      " [ 0.59385207]], b : [0.08943137], loss : 0.020543845540472106\n",
      "W : [[ 0.12007485]\n",
      " [-0.25300148]\n",
      " [ 0.61136181]], b : [0.08417189], loss : 0.020143934217679176\n",
      "W : [[ 0.12836207]\n",
      " [-0.26831762]\n",
      " [ 0.6217518 ]], b : [0.08114227], loss : 0.02000073846775481\n",
      "W : [[ 0.13329269]\n",
      " [-0.27757404]\n",
      " [ 0.62788981]], b : [0.07942864], loss : 0.019949440184260214\n",
      "W : [[ 0.13622358]\n",
      " [-0.28319171]\n",
      " [ 0.63149156]], b : [0.07848744], loss : 0.019931045171225934\n"
     ]
    }
   ],
   "source": [
    "# 수치미분\n",
    "def numerical_derivative(f,x):\n",
    "\n",
    "    delta_x = 1e-4\n",
    "    derivative_x = np.zeros_like(x)\n",
    "\n",
    "    # iterator를 이용해서 입력변수 x에 대한 편미분을 수행!\n",
    "    it = np.nditer(x, flags=['multi_index'])\n",
    "\n",
    "    while not it.finished:\n",
    "\n",
    "        idx = it.multi_index\n",
    "        tmp = x[idx]\n",
    "\n",
    "        x[idx] = tmp + delta_x\n",
    "        fx_plus_delta = f(x)\n",
    "\n",
    "        x[idx] = tmp - delta_x\n",
    "        fx_minus_delta = f(x)\n",
    "\n",
    "        derivative_x[idx] = (fx_plus_delta - fx_minus_delta) / (2 * delta_x)\n",
    "\n",
    "        x[idx] = tmp\n",
    "        it.iternext()\n",
    "\n",
    "    return derivative_x\n",
    "\n",
    "W = np.random.rand(3, 1)\n",
    "b = np.random.rand(1)\n",
    "\n",
    "def loss_func(input_data):\n",
    "    W = input_data[:-1].reshape(-1,1)\n",
    "    b = input_data[-1:]\n",
    "    \n",
    "    y = np.dot(scaled_x, W) + b\n",
    "    return np.mean(np.power(scaled_y-y, 2))\n",
    "\n",
    "def predict(x):\n",
    "    y = np.dot(x,W) + b\n",
    "    return y\n",
    "\n",
    "learning_rate = 1e-4\n",
    "\n",
    "for step in range(300000):\n",
    "    input_param = np.concatenate((W.ravel(), b.ravel()), axis=0)\n",
    "    derivative_result = learning_rate * numerical_derivative(loss_func, input_param)\n",
    "    \n",
    "    W = W - derivative_result[:-1].reshape(-1,1)\n",
    "    b = b - derivative_result[-1]\n",
    "    \n",
    "    if step % 30000 == 0:\n",
    "        input_param = np.concatenate((W.ravel(), b.ravel()), axis=0)\n",
    "        print('W : {}, b : {}, loss : {}'.format(W, b, loss_func(input_param)))"
   ]
  },
  {
   "cell_type": "code",
   "execution_count": 14,
   "id": "1cdfb6fc",
   "metadata": {},
   "outputs": [
    {
     "name": "stdout",
     "output_type": "stream",
     "text": [
      "[[40.24281966]]\n"
     ]
    }
   ],
   "source": [
    "scaled_predict_data = scaler_x.transform([[150.0, 10.0, 80.0]])\n",
    "scaled_result = predict(scaled_predict_data)\n",
    "print(scaler_y.inverse_transform(scaled_result))"
   ]
  },
  {
   "cell_type": "markdown",
   "id": "ca96db4b",
   "metadata": {},
   "source": [
    "### sklearn"
   ]
  },
  {
   "cell_type": "code",
   "execution_count": 17,
   "id": "02d226bb",
   "metadata": {},
   "outputs": [
    {
     "name": "stdout",
     "output_type": "stream",
     "text": [
      "[[0.36658155]]\n",
      "[[40.22422637]]\n"
     ]
    }
   ],
   "source": [
    "model = linear_model.LinearRegression()\n",
    "model.fit(scaled_x, scaled_y)\n",
    "scaled_predict_data = scaler_x.transform([[150.0, 10.0, 80.0]])\n",
    "scaled_result = model.predict(scaled_predict_data)\n",
    "print(scaled_result)\n",
    "print(scaler_y.inverse_transform(scaled_result))"
   ]
  },
  {
   "cell_type": "markdown",
   "id": "7be0827c",
   "metadata": {},
   "source": [
    "### Tensorflow"
   ]
  },
  {
   "cell_type": "code",
   "execution_count": 9,
   "id": "b41558da",
   "metadata": {},
   "outputs": [
    {
     "name": "stdout",
     "output_type": "stream",
     "text": [
      "WARNING:tensorflow:From C:\\Users\\sun\\AppData\\Local\\Temp\\ipykernel_10416\\2285720394.py:1: The name tf.placeholder is deprecated. Please use tf.compat.v1.placeholder instead.\n",
      "\n",
      "WARNING:tensorflow:From C:\\Users\\sun\\AppData\\Local\\Temp\\ipykernel_10416\\2285720394.py:11: The name tf.train.GradientDescentOptimizer is deprecated. Please use tf.compat.v1.train.GradientDescentOptimizer instead.\n",
      "\n",
      "WARNING:tensorflow:From C:\\Users\\sun\\AppData\\Local\\Temp\\ipykernel_10416\\2285720394.py:13: The name tf.Session is deprecated. Please use tf.compat.v1.Session instead.\n",
      "\n",
      "WARNING:tensorflow:From C:\\Users\\sun\\AppData\\Local\\Temp\\ipykernel_10416\\2285720394.py:14: The name tf.global_variables_initializer is deprecated. Please use tf.compat.v1.global_variables_initializer instead.\n",
      "\n",
      "W : [[0.9974517]\n",
      " [1.4445546]\n",
      " [1.9659557]], b : [1.2264862], loss : 9.681885719299316\n",
      "W : [[0.06456918]\n",
      " [0.4383593 ]\n",
      " [1.0772084 ]], b : [-0.4438272], loss : 0.047472354024648666\n",
      "W : [[0.09459341]\n",
      " [0.29156262]\n",
      " [1.0585034 ]], b : [-0.38363448], loss : 0.03858009725809097\n",
      "W : [[0.11173327]\n",
      " [0.18426414]\n",
      " [1.0267829 ]], b : [-0.32760328], loss : 0.03323151171207428\n",
      "W : [[0.12144262]\n",
      " [0.10315023]\n",
      " [0.9905711 ]], b : [-0.27694207], loss : 0.02969437837600708\n",
      "W : [[0.12706009]\n",
      " [0.04007771]\n",
      " [0.95302016]], b : [-0.23165932], loss : 0.027197694405913353\n",
      "W : [[ 0.130305  ]\n",
      " [-0.01033586]\n",
      " [ 0.91715723]], b : [-0.19169022], loss : 0.025379683822393417\n",
      "W : [[ 0.13229957]\n",
      " [-0.05148062]\n",
      " [ 0.8839234 ]], b : [-0.15666577], loss : 0.02403154969215393\n",
      "W : [[ 0.13358885]\n",
      " [-0.08559459]\n",
      " [ 0.8536572 ]], b : [-0.12601455], loss : 0.02302120067179203\n",
      "W : [[ 0.13448292]\n",
      " [-0.11424918]\n",
      " [ 0.82651097]], b : [-0.099257], loss : 0.022260824218392372\n"
     ]
    }
   ],
   "source": [
    "X = tf.placeholder(shape=[None, 3], dtype=tf.float32)\n",
    "T = tf.placeholder(shape=[None, 1], dtype=tf.float32)\n",
    "\n",
    "W = tf.Variable(tf.random.normal([3,1]))\n",
    "b = tf.Variable(tf.random.normal([1]))\n",
    "\n",
    "H = tf.matmul(X,W) + b\n",
    "\n",
    "loss = tf.reduce_mean(tf.square(H-T))\n",
    "\n",
    "train = tf.train.GradientDescentOptimizer(learning_rate=1e-4).minimize(loss)\n",
    "\n",
    "sess = tf.Session()\n",
    "sess.run(tf.global_variables_initializer())\n",
    "\n",
    "for step in range(300000):\n",
    "    _, W_val, b_val, loss_val = sess.run([train, W, b, loss],\n",
    "                                        feed_dict={X:scaled_x,\n",
    "                                                  T:scaled_y})\n",
    "    if step % 30000 == 0:\n",
    "        print('W : {}, b : {}, loss : {}'.format(W_val, b_val, loss_val))"
   ]
  },
  {
   "cell_type": "code",
   "execution_count": 10,
   "id": "057e1441",
   "metadata": {},
   "outputs": [
    {
     "name": "stdout",
     "output_type": "stream",
     "text": [
      "[[40.952637]]\n"
     ]
    }
   ],
   "source": [
    "predict_data = np.array([[150.0,10.0,80.0]])\n",
    "scaled_predict_data = scaler_x.transform(predict_data)\n",
    "\n",
    "scaled_result = sess.run(H, feed_dict={X:scaled_predict_data})\n",
    "result = scaler_y.inverse_transform(scaled_result)\n",
    "print(result)"
   ]
  }
 ],
 "metadata": {
  "kernelspec": {
   "display_name": "Python [conda env:machine_TF15] *",
   "language": "python",
   "name": "conda-env-machine_TF15-py"
  },
  "language_info": {
   "codemirror_mode": {
    "name": "ipython",
    "version": 3
   },
   "file_extension": ".py",
   "mimetype": "text/x-python",
   "name": "python",
   "nbconvert_exporter": "python",
   "pygments_lexer": "ipython3",
   "version": "3.7.13"
  }
 },
 "nbformat": 4,
 "nbformat_minor": 5
}