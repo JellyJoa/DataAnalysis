{
 "cells": [
  {
   "cell_type": "markdown",
   "id": "9d5f79ed",
   "metadata": {},
   "source": [
    "# 서울, 대구 기온분석"
   ]
  },
  {
   "cell_type": "markdown",
   "id": "263059c1",
   "metadata": {},
   "source": [
    "#### 1. 기상 관측 이래, 서울의 최고 기온이 가장 높았던 날은 언제였고, 몇도인가요?"
   ]
  },
  {
   "cell_type": "code",
   "execution_count": 16,
   "id": "c89182a1",
   "metadata": {},
   "outputs": [
    {
     "data": {
      "text/html": [
       "<div>\n",
       "<style scoped>\n",
       "    .dataframe tbody tr th:only-of-type {\n",
       "        vertical-align: middle;\n",
       "    }\n",
       "\n",
       "    .dataframe tbody tr th {\n",
       "        vertical-align: top;\n",
       "    }\n",
       "\n",
       "    .dataframe thead th {\n",
       "        text-align: right;\n",
       "    }\n",
       "</style>\n",
       "<table border=\"1\" class=\"dataframe\">\n",
       "  <thead>\n",
       "    <tr style=\"text-align: right;\">\n",
       "      <th></th>\n",
       "      <th>날짜</th>\n",
       "      <th>최고기온(℃)</th>\n",
       "    </tr>\n",
       "  </thead>\n",
       "  <tbody>\n",
       "    <tr>\n",
       "      <th>40051</th>\n",
       "      <td>2018-08-01</td>\n",
       "      <td>39.6</td>\n",
       "    </tr>\n",
       "  </tbody>\n",
       "</table>\n",
       "</div>"
      ],
      "text/plain": [
       "               날짜  최고기온(℃)\n",
       "40051  2018-08-01     39.6"
      ]
     },
     "metadata": {},
     "output_type": "display_data"
    },
    {
     "name": "stdout",
     "output_type": "stream",
     "text": [
      "평균 :  17.956986301369867\n",
      "중위값 :  19.8\n",
      "최빈값    최고기온(℃)\n",
      "0     19.0\n",
      "1     23.3\n",
      "2     25.5\n",
      "3     27.0\n",
      "4     28.2\n"
     ]
    },
    {
     "data": {
      "image/png": "[encoded data removed]",
      "text/plain": [
       "<Figure size 432x288 with 1 Axes>"
      ]
     },
     "metadata": {
      "needs_background": "light"
     },
     "output_type": "display_data"
    }
   ],
   "source": [
    "import numpy as np\n",
    "import pandas as pd\n",
    "import matplotlib.pyplot as plt\n",
    "import matplotlib.font_manager as fm\n",
    "from matplotlib import rc\n",
    "import warnings\n",
    "\n",
    "warnings.filterwarnings(action='ignore')\n",
    "\n",
    "df = pd.read_csv('./temp_seoul.csv', encoding='cp949')\n",
    "# display(df)\n",
    "maximum = df['최고기온(℃)'].max()\n",
    "result = df.loc[df['최고기온(℃)']==maximum, :]\n",
    "display(result[['날짜', '최고기온(℃)']])\n",
    "\n",
    "\n",
    "# graph\n",
    "\n",
    "font_path = 'C:/Users/sun/Desktop/Data/malgun.ttf'\n",
    "font_name = fm.FontProperties(fname=font_path).get_name()\n",
    "rc('font', family=font_name)\n",
    "\n",
    "df['날짜'] = pd.to_datetime(df['날짜'])\n",
    "e_df = df.loc[df['날짜'].dt.year==2018]\n",
    "plt.bar(e_df['날짜'], e_df['최고기온(℃)'])\n",
    "plt.title('2018년도 일별 최고기온')\n",
    "\n",
    "plt.show\n",
    "\n",
    "# 기술통계\n",
    "high_temp = e_df['최고기온(℃)']\n",
    "high_df = pd.DataFrame(high_temp)\n",
    "# display(high_df)\n",
    "print('평균 : ', high_temp.mean())\n",
    "print('중위값 : ', np.median(high_temp))\n",
    "print('최빈값', high_df.mode())"
   ]
  },
  {
   "cell_type": "markdown",
   "id": "60931a44",
   "metadata": {},
   "source": [
    "- 1월과 2월 사이에 최고기온이 영하 10도 가까이 되었던 적이 있다"
   ]
  },
  {
   "cell_type": "markdown",
   "id": "df51b9a5",
   "metadata": {},
   "source": [
    "#### 2. 역사적으로 일교차가 가장 큰 날짜는 몇년, 몇월, 몇일인가요?"
   ]
  },
  {
   "cell_type": "code",
   "execution_count": 15,
   "id": "c6baf5a1",
   "metadata": {
    "scrolled": false
   },
   "outputs": [
    {
     "name": "stdout",
     "output_type": "stream",
     "text": [
      "서울\n"
     ]
    },
    {
     "data": {
      "text/html": [
       "<div>\n",
       "<style scoped>\n",
       "    .dataframe tbody tr th:only-of-type {\n",
       "        vertical-align: middle;\n",
       "    }\n",
       "\n",
       "    .dataframe tbody tr th {\n",
       "        vertical-align: top;\n",
       "    }\n",
       "\n",
       "    .dataframe thead th {\n",
       "        text-align: right;\n",
       "    }\n",
       "</style>\n",
       "<table border=\"1\" class=\"dataframe\">\n",
       "  <thead>\n",
       "    <tr style=\"text-align: right;\">\n",
       "      <th></th>\n",
       "      <th>날짜</th>\n",
       "      <th>일교차</th>\n",
       "    </tr>\n",
       "  </thead>\n",
       "  <tbody>\n",
       "    <tr>\n",
       "      <th>12619</th>\n",
       "      <td>1942-04-19</td>\n",
       "      <td>21.8</td>\n",
       "    </tr>\n",
       "  </tbody>\n",
       "</table>\n",
       "</div>"
      ],
      "text/plain": [
       "               날짜   일교차\n",
       "12619  1942-04-19  21.8"
      ]
     },
     "metadata": {},
     "output_type": "display_data"
    },
    {
     "name": "stdout",
     "output_type": "stream",
     "text": [
      "대구\n"
     ]
    },
    {
     "data": {
      "text/html": [
       "<div>\n",
       "<style scoped>\n",
       "    .dataframe tbody tr th:only-of-type {\n",
       "        vertical-align: middle;\n",
       "    }\n",
       "\n",
       "    .dataframe tbody tr th {\n",
       "        vertical-align: top;\n",
       "    }\n",
       "\n",
       "    .dataframe thead th {\n",
       "        text-align: right;\n",
       "    }\n",
       "</style>\n",
       "<table border=\"1\" class=\"dataframe\">\n",
       "  <thead>\n",
       "    <tr style=\"text-align: right;\">\n",
       "      <th></th>\n",
       "      <th>날짜</th>\n",
       "      <th>일교차</th>\n",
       "    </tr>\n",
       "  </thead>\n",
       "  <tbody>\n",
       "    <tr>\n",
       "      <th>2255</th>\n",
       "      <td>1913-04-04</td>\n",
       "      <td>26.2</td>\n",
       "    </tr>\n",
       "  </tbody>\n",
       "</table>\n",
       "</div>"
      ],
      "text/plain": [
       "              날짜   일교차\n",
       "2255  1913-04-04  26.2"
      ]
     },
     "metadata": {},
     "output_type": "display_data"
    },
    {
     "name": "stdout",
     "output_type": "stream",
     "text": [
      "대구\n",
      "평균 :  26.0\n",
      "중위값 :  26.0\n",
      "최빈값 \n",
      " 0    26.0\n",
      "Name: 최고기온(℃), dtype: float64\n",
      "\n",
      "서울\n",
      "평균  최고기온(℃)    18.866027\n",
      "dtype: float64\n",
      "중위값  최고기온(℃)    20.2\n",
      "dtype: float64\n",
      "최빈값    최고기온(℃)\n",
      "0     29.4\n"
     ]
    }
   ],
   "source": [
    "import pandas as pd\n",
    "import warnings\n",
    "import matplotlib.pyplot as plt\n",
    "# import matplotlib.\n",
    "\n",
    "warnings.filterwarnings(action='ignore')\n",
    "\n",
    "\n",
    "# 서울\n",
    "df = pd.read_csv('./temp_seoul.csv', encoding='cp949')\n",
    "df['일교차'] = df['최고기온(℃)'] - df['최저기온(℃)']\n",
    "# display(df)\n",
    "maximum = df['일교차'].max()\n",
    "result = df.loc[df['일교차']==maximum]\n",
    "print('서울')\n",
    "display(result[['날짜', '일교차']])\n",
    "\n",
    "# 대구\n",
    "d_df = pd.read_csv('./temp_daegu.csv', encoding='cp949')\n",
    "result = d_df.dropna(subset=['평균기온(℃)', '최고기온(℃)', '최저기온(℃)'],\n",
    "                     axis=0, how='any')\n",
    "result['일교차'] = result['최고기온(℃)']-result['최저기온(℃)']\n",
    "maximum = result['일교차'].max()\n",
    "re_result = result.loc[result['일교차']==maximum]\n",
    "print('대구')\n",
    "display(re_result[['날짜', '일교차']])\n",
    "\n",
    "\n",
    "# graph\n",
    "\n",
    "\n",
    "\n",
    "\n",
    "# 기술통계\n",
    "gapd_temp = re_result['최고기온(℃)']\n",
    "print('대구')\n",
    "print('평균 : ', gapd_temp.mean())\n",
    "print('중위값 : ', gapd_temp.median())\n",
    "print('최빈값', '\\n', gapd_temp.mode())\n",
    "print()\n",
    "gaps_temp = result['최고기온(℃)']\n",
    "gaps_df = pd.DataFrame(gaps_temp)\n",
    "print('서울')\n",
    "print('평균 ', gaps_df.mean())\n",
    "print('중위값 ', gaps_df.median())\n",
    "print('최빈값', gaps_df.mode())"
   ]
  },
  {
   "cell_type": "markdown",
   "id": "406b19a1",
   "metadata": {},
   "source": [
    "#### 3. 1년 중 평균적으로 일교차가 가장 큰 날짜는 몇월, 몇일인가요?"
   ]
  },
  {
   "cell_type": "code",
   "execution_count": 27,
   "id": "dda1b8de",
   "metadata": {
    "scrolled": false
   },
   "outputs": [
    {
     "name": "stdout",
     "output_type": "stream",
     "text": [
      "11.928828828828829\n",
      "월  일 \n",
      "4  29    11.928829\n",
      "Name: 일교차, dtype: float64\n"
     ]
    },
    {
     "data": {
      "image/png": "[encoded data removed]",
      "text/plain": [
       "<Figure size 720x360 with 1 Axes>"
      ]
     },
     "metadata": {
      "needs_background": "light"
     },
     "output_type": "display_data"
    },
    {
     "name": "stdout",
     "output_type": "stream",
     "text": [
      "편차평균 :  -5.181040781584064e-16\n",
      "분산 :  1.2530518404016366\n",
      "표본분산 :  1.2530518404016366\n",
      "불편분산  일교차    1.366966\n",
      "dtype: float64\n",
      "표본분산  일교차    1.253052\n",
      "dtype: float64\n"
     ]
    }
   ],
   "source": [
    "import pandas as pd\n",
    "import numpy as np\n",
    "import matplotlib.pyplot as plt\n",
    "\n",
    "df = pd.read_csv('./temp_seoul.csv', encoding='cp949')\n",
    "df['날짜'] = pd.to_datetime(df['날짜'])\n",
    "df['월'] = df['날짜'].dt.month\n",
    "df['일'] = df['날짜'].dt.day\n",
    "df['일교차'] = df['최고기온(℃)']-df['최저기온(℃)']\n",
    "# display(df)\n",
    "\n",
    "mean_df = df.groupby(['월','일'])['일교차'].mean()\n",
    "# display(mean_df)\n",
    "max_gap = mean_df.values.max()\n",
    "print(max_gap)\n",
    "result = mean_df.loc[mean_df.values==max_gap]\n",
    "print(result)\n",
    "\n",
    "# graph\n",
    "df = df.groupby(['월']).mean()\n",
    "\n",
    "font_path = 'C:/Users/sun/Desktop/Data/malgun.ttf'\n",
    "font_name = fm.FontProperties(fname=font_path).get_name()\n",
    "rc('font', family=font_name)\n",
    "\n",
    "df.reset_index().plot(kind='bar',\n",
    "                        x='월',\n",
    "                        y='일교차',\n",
    "                        color='b',\n",
    "                        figsize=(10,5))\n",
    "plt.xticks(rotation='horizontal')\n",
    "plt.title('월별 평균 일교차')\n",
    "plt.show()\n",
    "\n",
    "\n",
    "# 기술통계\n",
    "gap = df['일교차']\n",
    "gap_df = pd.DataFrame(gap)\n",
    "deviation = gap - gap.mean()\n",
    "print('편차평균 : ', deviation.mean())\n",
    "print('분산 : ', np.mean(deviation**2))\n",
    "print('표본분산 : ', np.var(gap))\n",
    "print('불편분산 ', gap_df.var())\n",
    "print('표본분산 ', gap_df.var(ddof=0))"
   ]
  },
  {
   "cell_type": "markdown",
   "id": "6ce54e59",
   "metadata": {},
   "source": [
    "#### 4. 가장 덥다고 알려진 대구보다 서울이 더 더운 날이 가장 많은 연도는 언제인가요?"
   ]
  },
  {
   "cell_type": "code",
   "execution_count": 26,
   "id": "281f9d21",
   "metadata": {
    "scrolled": false
   },
   "outputs": [
    {
     "name": "stdout",
     "output_type": "stream",
     "text": [
      "가장 많이 더운 연도 : [1930]\n"
     ]
    },
    {
     "data": {
      "image/png": "[encoded data removed]",
      "text/plain": [
       "<Figure size 1440x720 with 1 Axes>"
      ]
     },
     "metadata": {
      "needs_background": "light"
     },
     "output_type": "display_data"
    },
    {
     "data": {
      "image/png": "[encoded data removed]",
      "text/plain": [
       "<Figure size 432x288 with 1 Axes>"
      ]
     },
     "metadata": {
      "needs_background": "light"
     },
     "output_type": "display_data"
    },
    {
     "name": "stdout",
     "output_type": "stream",
     "text": [
      "서울\n",
      "편차평균 :  2.910265653963914e-13\n",
      "분산 :  120.57046966296102\n",
      "표본분산 :  120.57046966296102\n",
      "불편분산  최고기온(℃)_x    120.573472\n",
      "dtype: float64\n",
      "표본분산  최고기온(℃)_x    120.57047\n",
      "dtype: float64\n",
      "대구\n",
      "편차평균 :  1.2760677861877183e-13\n",
      "분산 :  101.60463132970459\n",
      "표본분산 :  101.60463132970459\n",
      "불편분산  최고기온(℃)_y    101.607161\n",
      "dtype: float64\n",
      "표본분산  최고기온(℃)_y    101.604631\n",
      "dtype: float64\n"
     ]
    }
   ],
   "source": [
    "import pandas as pd\n",
    "import warnings\n",
    "import matplotlib.pyplot as plt\n",
    "import matplotlib.font_manager as fm\n",
    "from matplotlib import rc\n",
    "\n",
    "warnings.filterwarnings(action='ignore')\n",
    "\n",
    "s_df = pd.read_csv('./temp_seoul.csv', encoding='cp949')\n",
    "d_df = pd.read_csv('./temp_daegu.csv', encoding='cp949')\n",
    "mer_df = pd.merge(s_df, d_df, on='날짜', how='inner')\n",
    "df = mer_df.dropna(subset=['평균기온(℃)_x', '최고기온(℃)_x', '최저기온(℃)_x',\n",
    "                           '평균기온(℃)_y', '최고기온(℃)_y', '최저기온(℃)_y'],\n",
    "                     axis=0, how='any')\n",
    "# display(df.head())\n",
    "\n",
    "cond1 = df['최고기온(℃)_x'] > df['최고기온(℃)_y']\n",
    "result = df.loc[cond1, :]\n",
    "result['날짜'] = pd.to_datetime(result['날짜'])\n",
    "result['연도'] = result['날짜'].dt.year\n",
    "# display(result)\n",
    "\n",
    "cond = result['연도'].value_counts()\n",
    "maximum = cond.max()\n",
    "# print(maximum)\n",
    "re_result = cond.loc[cond.values==maximum]\n",
    "\n",
    "print('가장 많이 더운 연도 : ', end='')\n",
    "print(re_result.index.values)\n",
    "\n",
    "# graph\n",
    "re_df = result.groupby(['연도']).mean()\n",
    "# display(re_df)\n",
    "\n",
    "font_path = 'C:/Users/sun/Desktop/Data/malgun.ttf'\n",
    "font_name = fm.FontProperties(fname=font_path).get_name()\n",
    "rc('font', family=font_name)\n",
    "fm.rcParams.update({'font.size':22})\n",
    "\n",
    "plt.figure(figsize=(20,10))\n",
    "p1 = plt.bar(re_df.index, re_df['최고기온(℃)_x'],\n",
    "             width=1,\n",
    "            color='red',\n",
    "            label='서울 최고기온')\n",
    "p2 = plt.bar(re_df.index+1, re_df['최고기온(℃)_y'],\n",
    "             width = 1,\n",
    "            color='blue',\n",
    "            label='대구 최고기온')\n",
    "plt.show()\n",
    "\n",
    "p1 = plt.plot(re_df.index, re_df['최고기온(℃)_x'],\n",
    "             label='서울 최고기온')\n",
    "p2 = plt.plot(re_df.index, re_df['최고기온(℃)_y'],\n",
    "             label='대구 최고기온')\n",
    "plt.title('서울과 대구의 연도별 평균 최고기온')\n",
    "plt.show()\n",
    "\n",
    "\n",
    "# 기술통계\n",
    "high_temp = df['최고기온(℃)_x']\n",
    "high_df = pd.DataFrame(high_temp)\n",
    "deviation = high_temp - high_temp.mean()\n",
    "print('서울')\n",
    "print('편차평균 : ', deviation.mean())\n",
    "print('분산 : ', np.mean(deviation**2))\n",
    "print('표본분산 : ', np.var(high_temp))\n",
    "print('불편분산 ', high_df.var())\n",
    "print('표본분산 ', high_df.var(ddof=0))\n",
    "\n",
    "dhigh_temp = df['최고기온(℃)_y']\n",
    "dhigh_df = pd.DataFrame(dhigh_temp)\n",
    "deviation = dhigh_temp - dhigh_temp.mean()\n",
    "print('대구')\n",
    "print('편차평균 : ', deviation.mean())\n",
    "print('분산 : ', np.mean(deviation**2))\n",
    "print('표본분산 : ', np.var(dhigh_temp))\n",
    "print('불편분산 ', dhigh_df.var())\n",
    "print('표본분산 ', dhigh_df.var(ddof=0))"
   ]
  },
  {
   "cell_type": "markdown",
   "id": "3d3a86cc",
   "metadata": {},
   "source": [
    "#### 1+. 서울 연평균기온"
   ]
  },
  {
   "cell_type": "code",
   "execution_count": 28,
   "id": "0358d9eb",
   "metadata": {
    "scrolled": false
   },
   "outputs": [
    {
     "data": {
      "text/plain": [
       "연도\n",
       "1907     5.103261\n",
       "1908    10.427322\n",
       "1909    10.608767\n",
       "1910    10.412055\n",
       "1911    10.654795\n",
       "          ...    \n",
       "2018    13.002466\n",
       "2019    13.598904\n",
       "2020    13.271858\n",
       "2021    13.752055\n",
       "2022     0.502532\n",
       "Name: 평균기온(℃), Length: 116, dtype: float64"
      ]
     },
     "metadata": {},
     "output_type": "display_data"
    },
    {
     "data": {
      "image/png": "[encoded data removed]",
      "text/plain": [
       "<Figure size 432x288 with 1 Axes>"
      ]
     },
     "metadata": {
      "needs_background": "light"
     },
     "output_type": "display_data"
    },
    {
     "name": "stdout",
     "output_type": "stream",
     "text": [
      "nan\n"
     ]
    }
   ],
   "source": [
    "import pandas as pd\n",
    "import numpy as np\n",
    "import warnings\n",
    "\n",
    "warnings.filterwarnings(action='ignore')\n",
    "\n",
    "s_df = pd.read_csv('./temp_seoul.csv', encoding='cp949')\n",
    "s_df['날짜'] = pd.to_datetime(s_df['날짜'])\n",
    "s_df['연도'] = s_df['날짜'].dt.year\n",
    "# display(s_df)\n",
    "\n",
    "df = s_df.groupby(['연도']).mean()\n",
    "display(df['평균기온(℃)'])\n",
    "\n",
    "\n",
    "# graph\n",
    "plt.scatter(df.index, df['평균기온(℃)'])\n",
    "plt.show()\n",
    "\n",
    "\n",
    "# 기술통계\n",
    "mean_temp = df['평균기온(℃)']\n",
    "Q1 = np.percentile(mean_temp, 25)\n",
    "Q2 = np.percentile(mean_temp, 50)\n",
    "Q3 = np.percentile(mean_temp, 75)\n",
    "\n",
    "IQR = Q3 - Q1\n",
    "print(IQR)"
   ]
  },
  {
   "cell_type": "markdown",
   "id": "5b184edd",
   "metadata": {},
   "source": [
    "- 서울의 연평균 기온은 점차 상승하고 있다"
   ]
  },
  {
   "cell_type": "markdown",
   "id": "52939b0c",
   "metadata": {},
   "source": [
    "#### 2+. 대구 연평균기온"
   ]
  },
  {
   "cell_type": "code",
   "execution_count": 29,
   "id": "35caf1da",
   "metadata": {
    "scrolled": false
   },
   "outputs": [
    {
     "name": "stdout",
     "output_type": "stream",
     "text": [
      "연도\n",
      "1909    12.815068\n",
      "1910    12.224384\n",
      "1911    12.608767\n",
      "1912    12.381421\n",
      "1913    11.962466\n",
      "          ...    \n",
      "2018    14.189863\n",
      "2019    14.893425\n",
      "2020    14.545902\n",
      "2021    14.661096\n",
      "2022     3.232911\n",
      "Name: 평균기온(℃), Length: 114, dtype: float64\n"
     ]
    },
    {
     "data": {
      "image/png": "[encoded data removed]",
      "text/plain": [
       "<Figure size 432x288 with 1 Axes>"
      ]
     },
     "metadata": {
      "needs_background": "light"
     },
     "output_type": "display_data"
    },
    {
     "name": "stdout",
     "output_type": "stream",
     "text": [
      "1.5299960700651258\n"
     ]
    }
   ],
   "source": [
    "import pandas as pd\n",
    "import warnings\n",
    "\n",
    "warnings.filterwarnings(action='ignore')\n",
    "\n",
    "d_df = pd.read_csv('./temp_daegu.csv', encoding='cp949')\n",
    "df = d_df.dropna(subset=['평균기온(℃)', '최고기온(℃)', '최저기온(℃)'],\n",
    "                     axis=0, how='any')\n",
    "df['날짜'] = pd.to_datetime(df['날짜'])\n",
    "df['연도'] = df['날짜'].dt.year\n",
    "# display(df.head())\n",
    "\n",
    "result = df.groupby(['연도']).mean()\n",
    "print(result['평균기온(℃)'])\n",
    "\n",
    "\n",
    "# graph\n",
    "plt.scatter(result.index, result['평균기온(℃)'])\n",
    "plt.show()\n",
    "\n",
    "\n",
    "# 기술통계\n",
    "mean_temp = result['평균기온(℃)']\n",
    "Q1 = np.percentile(mean_temp, 25)\n",
    "Q2 = np.percentile(mean_temp, 50)\n",
    "Q3 = np.percentile(mean_temp, 75)\n",
    "\n",
    "IQR = Q3 - Q1\n",
    "print(IQR)"
   ]
  },
  {
   "cell_type": "markdown",
   "id": "b528833d",
   "metadata": {},
   "source": [
    "- 서울보다 연평균기온이 살짝 높고 서울과 마찬가지로 연평균기온이 점차 오르고있다."
   ]
  },
  {
   "cell_type": "markdown",
   "id": "125dd95a",
   "metadata": {},
   "source": [
    "#### 3+. 서울 연도별 최저 기온"
   ]
  },
  {
   "cell_type": "code",
   "execution_count": 40,
   "id": "0b880f94",
   "metadata": {
    "scrolled": false
   },
   "outputs": [
    {
     "data": {
      "text/plain": [
       "연도\n",
       "1907   -20.1\n",
       "1908   -15.8\n",
       "1909   -14.6\n",
       "1910   -19.9\n",
       "1911   -21.5\n",
       "        ... \n",
       "2018   -17.8\n",
       "2019   -10.9\n",
       "2020   -12.9\n",
       "2021   -18.6\n",
       "2022   -11.3\n",
       "Name: 최저기온(℃), Length: 116, dtype: float64"
      ]
     },
     "metadata": {},
     "output_type": "display_data"
    },
    {
     "data": {
      "image/png": "[encoded data removed]",
      "text/plain": [
       "<Figure size 432x288 with 1 Axes>"
      ]
     },
     "metadata": {
      "needs_background": "light"
     },
     "output_type": "display_data"
    }
   ],
   "source": [
    "import pandas as pd\n",
    "import warnings\n",
    "import matplotlib as mpl\n",
    "import matplotlib.pyplot as plt\n",
    "\n",
    "warnings.filterwarnings(action='ignore')\n",
    "\n",
    "s_df = pd.read_csv('./temp_seoul.csv', encoding='cp949')\n",
    "s_df['날짜'] = pd.to_datetime(s_df['날짜'])\n",
    "s_df['연도'] = s_df['날짜'].dt.year\n",
    "df = s_df.groupby(['연도']).min()\n",
    "display(df['최저기온(℃)'])\n",
    "\n",
    "\n",
    "# graph\n",
    "mpl.rcParams['axes.unicode_minus'] = False\n",
    "\n",
    "plt.scatter(df.index, df['최저기온(℃)'])\n",
    "plt.show()\n",
    "\n",
    "\n",
    "\n",
    "# 기술통계\n",
    "# low_temp = df['최저기온(℃)'].values\n",
    "# freq, tmp = np.histogram(low_temp, bins=10, range=(0,100))\n",
    "# # print(tmp)\n",
    "# # print(freq)\n",
    "# freq_class = [str(i) + '~' + str(i+10) for i in range(0,100,10)]\n",
    "# freq_dist_df = pd.DataFrame({'Frequency':freq},\n",
    "#                            index=freq_class)\n",
    "# display(freq_dist_df)"
   ]
  },
  {
   "cell_type": "markdown",
   "id": "8be9cfed",
   "metadata": {},
   "source": [
    "- 연평균 기온보다 일정하지 않지만 점점 증가하는 추세이다"
   ]
  },
  {
   "cell_type": "markdown",
   "id": "295120c5",
   "metadata": {},
   "source": [
    "#### 4+. 대구의 연도별 최저온도"
   ]
  },
  {
   "cell_type": "code",
   "execution_count": 38,
   "id": "dc5cd17a",
   "metadata": {
    "scrolled": false
   },
   "outputs": [
    {
     "name": "stdout",
     "output_type": "stream",
     "text": [
      "연도\n",
      "1909   -10.9\n",
      "1910   -14.5\n",
      "1911   -14.4\n",
      "1912   -10.2\n",
      "1913   -14.8\n",
      "        ... \n",
      "2018   -13.9\n",
      "2019    -7.2\n",
      "2020   -10.3\n",
      "2021   -13.6\n",
      "2022    -9.3\n",
      "Name: 최저기온(℃), Length: 114, dtype: float64\n"
     ]
    },
    {
     "data": {
      "image/png": "[encoded data removed]",
      "text/plain": [
       "<Figure size 432x288 with 1 Axes>"
      ]
     },
     "metadata": {
      "needs_background": "light"
     },
     "output_type": "display_data"
    },
    {
     "data": {
      "text/html": [
       "<div>\n",
       "<style scoped>\n",
       "    .dataframe tbody tr th:only-of-type {\n",
       "        vertical-align: middle;\n",
       "    }\n",
       "\n",
       "    .dataframe tbody tr th {\n",
       "        vertical-align: top;\n",
       "    }\n",
       "\n",
       "    .dataframe thead th {\n",
       "        text-align: right;\n",
       "    }\n",
       "</style>\n",
       "<table border=\"1\" class=\"dataframe\">\n",
       "  <thead>\n",
       "    <tr style=\"text-align: right;\">\n",
       "      <th></th>\n",
       "      <th>Frequency</th>\n",
       "    </tr>\n",
       "  </thead>\n",
       "  <tbody>\n",
       "    <tr>\n",
       "      <th>0~10</th>\n",
       "      <td>11596</td>\n",
       "    </tr>\n",
       "    <tr>\n",
       "      <th>10~20</th>\n",
       "      <td>12303</td>\n",
       "    </tr>\n",
       "    <tr>\n",
       "      <th>20~30</th>\n",
       "      <td>6909</td>\n",
       "    </tr>\n",
       "    <tr>\n",
       "      <th>30~40</th>\n",
       "      <td>0</td>\n",
       "    </tr>\n",
       "    <tr>\n",
       "      <th>40~50</th>\n",
       "      <td>0</td>\n",
       "    </tr>\n",
       "    <tr>\n",
       "      <th>50~60</th>\n",
       "      <td>0</td>\n",
       "    </tr>\n",
       "    <tr>\n",
       "      <th>60~70</th>\n",
       "      <td>0</td>\n",
       "    </tr>\n",
       "    <tr>\n",
       "      <th>70~80</th>\n",
       "      <td>0</td>\n",
       "    </tr>\n",
       "    <tr>\n",
       "      <th>80~90</th>\n",
       "      <td>0</td>\n",
       "    </tr>\n",
       "    <tr>\n",
       "      <th>90~100</th>\n",
       "      <td>0</td>\n",
       "    </tr>\n",
       "  </tbody>\n",
       "</table>\n",
       "</div>"
      ],
      "text/plain": [
       "        Frequency\n",
       "0~10        11596\n",
       "10~20       12303\n",
       "20~30        6909\n",
       "30~40           0\n",
       "40~50           0\n",
       "50~60           0\n",
       "60~70           0\n",
       "70~80           0\n",
       "80~90           0\n",
       "90~100          0"
      ]
     },
     "metadata": {},
     "output_type": "display_data"
    }
   ],
   "source": [
    "import pandas as pd\n",
    "import numpy as np\n",
    "import warnings\n",
    "import matplotlib as mpl\n",
    "\n",
    "warnings.filterwarnings(action='ignore')\n",
    "\n",
    "d_df = pd.read_csv('./temp_daegu.csv', encoding='cp949')\n",
    "df = d_df.dropna(subset=['평균기온(℃)', '최고기온(℃)', '최저기온(℃)'],\n",
    "                     axis=0, how='any')\n",
    "df['날짜'] = pd.to_datetime(df['날짜'])\n",
    "df['연도'] = df['날짜'].dt.year\n",
    "# display(df.head())\n",
    "\n",
    "result = df.groupby(['연도']).min()\n",
    "print(result['최저기온(℃)'])\n",
    "\n",
    "\n",
    "# graph\n",
    "mpl.rcParams['axes.unicode_minus'] = False\n",
    "\n",
    "plt.scatter(result.index, result['최저기온(℃)'])\n",
    "plt.show()\n",
    "\n",
    "\n",
    "# 기술통계\n",
    "low_temp = df['최저기온(℃)'].values\n",
    "freq, tmp = np.histogram(low_temp, bins=10, range=(0,100))\n",
    "# print(tmp)\n",
    "# print(freq)\n",
    "freq_class = [str(i) + '~' + str(i+10) for i in range(0,100,10)]\n",
    "freq_dist_df = pd.DataFrame({'Frequency':freq},\n",
    "                           index=freq_class)\n",
    "display(freq_dist_df)"
   ]
  },
  {
   "cell_type": "markdown",
   "id": "d7d47e53",
   "metadata": {},
   "source": [
    "- 서울보다 최저기온의 평균이 일정한 편이다.\n",
    "- 1900년 초반엔 영하 10도~15도 부근이었지만 최근엔 주로 영하 10도 부근이거나 이상이다"
   ]
  }
 ],
 "metadata": {
  "kernelspec": {
   "display_name": "Python [conda env:machine] *",
   "language": "python",
   "name": "conda-env-machine-py"
  },
  "language_info": {
   "codemirror_mode": {
    "name": "ipython",
    "version": 3
   },
   "file_extension": ".py",
   "mimetype": "text/x-python",
   "name": "python",
   "nbconvert_exporter": "python",
   "pygments_lexer": "ipython3",
   "version": "3.8.12"
  }
 },
 "nbformat": 4,
 "nbformat_minor": 5
}
