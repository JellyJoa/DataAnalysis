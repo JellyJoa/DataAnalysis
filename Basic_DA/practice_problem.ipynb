{
 "cells": [
  {
   "cell_type": "markdown",
   "metadata": {
    "collapsed": true,
    "pycharm": {
     "name": "#%% md\n"
    }
   },
   "source": [
    "### 2개의 정수를 입력받아 덧셈을 수행하는 프로그램"
   ]
  },
  {
   "cell_type": "code",
   "execution_count": 4,
   "outputs": [
    {
     "name": "stdout",
     "output_type": "stream",
     "text": [
      "19\n"
     ]
    }
   ],
   "source": [
    "# a, b = map(int, input().split())\n",
    "a = int(input())\n",
    "b = int(input())\n",
    "\n",
    "print(a + b)"
   ],
   "metadata": {
    "collapsed": false,
    "pycharm": {
     "name": "#%%\n"
    }
   }
  },
  {
   "cell_type": "markdown",
   "source": [
    "### 품목 이름과 수량과 단가를 입력받아 총 금액을 구하는 프로그램"
   ],
   "metadata": {
    "collapsed": false,
    "pycharm": {
     "name": "#%% md\n"
    }
   }
  },
  {
   "cell_type": "code",
   "execution_count": 6,
   "outputs": [
    {
     "name": "stdout",
     "output_type": "stream",
     "text": [
      "품목 : 사과 \n",
      "수량 : 15 \n",
      "단가 : 1000 \n",
      "총 금액 : 15000\n"
     ]
    }
   ],
   "source": [
    "name = input()\n",
    "amount = int(input())\n",
    "price = int(input())\n",
    "\n",
    "print(f'품목 : {name} \\n수량 : {amount} \\n단가 : {price} \\n총 금액 : {amount * price}')"
   ],
   "metadata": {
    "collapsed": false,
    "pycharm": {
     "name": "#%%\n"
    }
   }
  },
  {
   "cell_type": "markdown",
   "source": [
    "### 정수 1개를 입력받아서 짝수이면 제곱, 홀수이면 3제곱을 출력하는 프로그램"
   ],
   "metadata": {
    "collapsed": false,
    "pycharm": {
     "name": "#%% md\n"
    }
   }
  },
  {
   "cell_type": "code",
   "execution_count": 8,
   "outputs": [
    {
     "name": "stdout",
     "output_type": "stream",
     "text": [
      "27\n"
     ]
    }
   ],
   "source": [
    "n = int(input())\n",
    "\n",
    "if n % 2 == 0:\n",
    "    print(n ** 2)\n",
    "else:\n",
    "    print(n ** 3)"
   ],
   "metadata": {
    "collapsed": false,
    "pycharm": {
     "name": "#%%\n"
    }
   }
  },
  {
   "cell_type": "markdown",
   "source": [
    "### 리스트를 합쳐 새 리스트를 생성한 후, 요소의 값을 3으로 나누었을 때 1인 요소들만 출력하는 프로그램"
   ],
   "metadata": {
    "collapsed": false,
    "pycharm": {
     "name": "#%% md\n"
    }
   }
  },
  {
   "cell_type": "code",
   "execution_count": 9,
   "outputs": [
    {
     "name": "stdout",
     "output_type": "stream",
     "text": [
      "유만식\n",
      "윤기석\n"
     ]
    }
   ],
   "source": [
    "list_A = ['김의찬', '유만식', '이영철']\n",
    "list_B = ['심수련', '윤기석', '노윤희']\n",
    "\n",
    "new = list_A + list_B\n",
    "for i in range(len(new)):\n",
    "    if i % 3 == 1:\n",
    "        print(new[i])"
   ],
   "metadata": {
    "collapsed": false,
    "pycharm": {
     "name": "#%%\n"
    }
   }
  },
  {
   "cell_type": "markdown",
   "source": [
    "### 딕셔너리"
   ],
   "metadata": {
    "collapsed": false,
    "pycharm": {
     "name": "#%% md\n"
    }
   }
  },
  {
   "cell_type": "code",
   "execution_count": 10,
   "outputs": [
    {
     "name": "stdout",
     "output_type": "stream",
     "text": [
      "{'바나나': 10, '수박': 20, '오렌지': 15}\n"
     ]
    }
   ],
   "source": [
    "fruits = [('바나나', 10), ('수박', 20), ('오렌지', 15)]\n",
    "mydict={}\n",
    "for i in fruits:\n",
    "    mydict[i[0]] = i[1]\n",
    "\n",
    "print(mydict)"
   ],
   "metadata": {
    "collapsed": false,
    "pycharm": {
     "name": "#%%\n"
    }
   }
  },
  {
   "cell_type": "markdown",
   "source": [
    "### 두 개의 정수에 대하여 앞의 숫자에는 3제곱을, 뒤의 숫자에는 더하기 2를 수행한 다음 최종적으로 앞의 숫자에서 뒤의 숫자를 뺄셈해주는 lambda 함수 구현"
   ],
   "metadata": {
    "collapsed": false,
    "pycharm": {
     "name": "#%% md\n"
    }
   }
  },
  {
   "cell_type": "code",
   "execution_count": 12,
   "outputs": [
    {
     "name": "stdout",
     "output_type": "stream",
     "text": [
      "20\n"
     ]
    }
   ],
   "source": [
    "a = int(input())\n",
    "b = int(input())\n",
    "\n",
    "# a = a ** 3\n",
    "# b = b + 2\n",
    "\n",
    "result = lambda x, y : x**3-(y+2)\n",
    "print(result(a, b))"
   ],
   "metadata": {
    "collapsed": false,
    "pycharm": {
     "name": "#%%\n"
    }
   }
  },
  {
   "cell_type": "markdown",
   "source": [
    "### 제품명, 채널번호, 소리 크기 정보를 가지는 '텔레비전'클래스 구현"
   ],
   "metadata": {
    "collapsed": false,
    "pycharm": {
     "name": "#%% md\n"
    }
   }
  },
  {
   "cell_type": "code",
   "execution_count": 16,
   "outputs": [
    {
     "name": "stdout",
     "output_type": "stream",
     "text": [
      "이름 : 삼성 OLED\n",
      "채널 : 11\n",
      "볼륨 : 10\n"
     ]
    }
   ],
   "source": [
    "class Television:\n",
    "    def __init__(self, name, channel, volume):\n",
    "        self.name = name\n",
    "        self.channel = channel\n",
    "        self.volume = volume\n",
    "\n",
    "    def showdata(self):\n",
    "        print(f'이름 : {self.name}')\n",
    "        print(f'채널 : {self.channel}')\n",
    "        print(f'볼륨 : {self.volume}')\n",
    "\n",
    "samsung = Television('삼성 OLED', 11, 10)\n",
    "samsung.showdata()"
   ],
   "metadata": {
    "collapsed": false,
    "pycharm": {
     "name": "#%%\n"
    }
   }
  },
  {
   "cell_type": "markdown",
   "source": [
    "### 학생 정보를 사용하여 파일 작성"
   ],
   "metadata": {
    "collapsed": false,
    "pycharm": {
     "name": "#%% md\n"
    }
   }
  },
  {
   "cell_type": "code",
   "execution_count": 2,
   "outputs": [
    {
     "name": "stdout",
     "output_type": "stream",
     "text": [
      "제시카 210.0 여자\n",
      "홍길동 220.0 남자\n",
      "유재준 210.0 남자\n",
      "티파니 170.0 여자\n"
     ]
    }
   ],
   "source": [
    "file_info = open('sample03.txt', 'rt', encoding='UTF-8')\n",
    "students = file_info.readlines()\n",
    "file_info.close()\n",
    "\n",
    "for i in students:\n",
    "    info = i.strip().split(',')\n",
    "    name = info[0]\n",
    "    amount = float(info[1]) + float(info[2]) + float(info[3])\n",
    "\n",
    "    if info[4] == 'F':\n",
    "        gender = '여자'\n",
    "    else:\n",
    "        gender = '남자'\n",
    "    print(f'{name} {amount} {gender}')"
   ],
   "metadata": {
    "collapsed": false,
    "pycharm": {
     "name": "#%%\n"
    }
   }
  },
  {
   "cell_type": "code",
   "execution_count": 3,
   "outputs": [
    {
     "name": "stdout",
     "output_type": "stream",
     "text": [
      "1번 아이디 : ugcadman\n",
      "2번 아이디 : dragon\n"
     ]
    }
   ],
   "source": [
    "file_info = open('sample04.txt', 'rt', encoding='UTF-8')\n",
    "contents = file_info.readlines()\n",
    "file_info.close()\n",
    "\n",
    "cnt = 0\n",
    "\n",
    "for i in contents:\n",
    "    i = i.strip()\n",
    "    a = i.find('(')    # 해당 문자의 index (없을땐 -1 출력)\n",
    "    b = i.find(')')\n",
    "\n",
    "    if (a > -1 and b > -1):\n",
    "        cnt += 1\n",
    "        print(f'{cnt}번 아이디 : {i[a+1:b]}')"
   ],
   "metadata": {
    "collapsed": false,
    "pycharm": {
     "name": "#%%\n"
    }
   }
  },
  {
   "cell_type": "markdown",
   "source": [
    "### 미성년자 체크 프로그램"
   ],
   "metadata": {
    "collapsed": false,
    "pycharm": {
     "name": "#%% md\n"
    }
   }
  },
  {
   "cell_type": "code",
   "execution_count": 9,
   "outputs": [],
   "source": [
    "file_open = open('sample02.txt', 'rt', encoding='UTF-8')\n",
    "lists = file_open.readlines()\n",
    "file_open.close()\n",
    "\n",
    "file_open2 = open('sample02.txt', 'wt', encoding='UTF-8')\n",
    "for i in lists:\n",
    "    info = i.split(',')\n",
    "    name = info[0]\n",
    "    age = info[1]\n",
    "    if int(age) >= 19:\n",
    "        result = '성인'\n",
    "    else:\n",
    "        result = '미성년'\n",
    "\n",
    "    test = name + '/' + age + '/' + result\n",
    "    file_open2.write(test + '\\n')\n",
    "file_open2.close()"
   ],
   "metadata": {
    "collapsed": false,
    "pycharm": {
     "name": "#%%\n"
    }
   }
  },
  {
   "cell_type": "markdown",
   "source": [],
   "metadata": {
    "collapsed": false,
    "pycharm": {
     "name": "#%% md\n"
    }
   }
  },
  {
   "cell_type": "code",
   "execution_count": null,
   "outputs": [],
   "source": [],
   "metadata": {
    "collapsed": false,
    "pycharm": {
     "name": "#%%\n"
    }
   }
  },
  {
   "cell_type": "code",
   "execution_count": null,
   "outputs": [],
   "source": [],
   "metadata": {
    "collapsed": false,
    "pycharm": {
     "name": "#%%\n"
    }
   }
  }
 ],
 "metadata": {
  "kernelspec": {
   "display_name": "Python 3",
   "language": "python",
   "name": "python3"
  },
  "language_info": {
   "codemirror_mode": {
    "name": "ipython",
    "version": 2
   },
   "file_extension": ".py",
   "mimetype": "text/x-python",
   "name": "python",
   "nbconvert_exporter": "python",
   "pygments_lexer": "ipython2",
   "version": "2.7.6"
  }
 },
 "nbformat": 4,
 "nbformat_minor": 0
}