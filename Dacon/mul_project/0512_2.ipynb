{
 "cells": [
  {
   "cell_type": "markdown",
   "id": "5ff38562",
   "metadata": {},
   "source": [
    "- regnet160\n",
    "- patience=50\n",
    "- epochs=500\n",
    "- crop 추가\n",
    "- batch_size=16"
   ]
  },
  {
   "cell_type": "markdown",
   "id": "dd4479e2",
   "metadata": {},
   "source": [
    "- Ubuntu 18.04, Cuda 11\n",
    "- opencv-python\n",
    "- numpy\n",
    "- pandas\n",
    "- timm\n",
    "- torch==1.8.0 torchvision 0.9.0 with cuda 11.1\n",
    "- natsort\n",
    "- scikit-learn\n",
    "- pillow\n",
    "- torch_optimizer\n",
    "- tqdm\n",
    "- ptflops\n",
    "- easydict\n",
    "- matplotlib"
   ]
  },
  {
   "cell_type": "markdown",
   "id": "1c38e7b2",
   "metadata": {},
   "source": [
    "# Library"
   ]
  },
  {
   "cell_type": "code",
   "execution_count": 2,
   "id": "38c90d23",
   "metadata": {},
   "outputs": [],
   "source": [
    "import os\n",
    "import cv2\n",
    "import time\n",
    "import random\n",
    "import logging  # 로그 출력\n",
    "import easydict  # 속성으로 dict 값에 access할 수 있음\n",
    "import numpy as np\n",
    "import pandas as pd\n",
    "from tqdm import tqdm  # process bar\n",
    "from os.path import join as opj\n",
    "from ptflops import get_model_complexity_info\n",
    "from sklearn.model_selection import StratifiedKFold\n",
    "from sklearn.metrics import f1_score\n",
    "# from PIL import Image\n",
    "\n",
    "import timm\n",
    "import torch\n",
    "import torch.nn as nn\n",
    "import torch_optimizer as optim\n",
    "from torch.utils.data import Dataset, DataLoader\n",
    "from torch.cuda.amp import autocast, grad_scaler\n",
    "from torchvision import transforms\n",
    "\n",
    "import warnings\n",
    "warnings.filterwarnings('ignore')"
   ]
  },
  {
   "cell_type": "markdown",
   "id": "a2c90e8a",
   "metadata": {},
   "source": [
    "# Config"
   ]
  },
  {
   "cell_type": "markdown",
   "id": "73ff47ae",
   "metadata": {},
   "source": [
    "Hyper-parameter 정의"
   ]
  },
  {
   "cell_type": "code",
   "execution_count": 3,
   "id": "30d4e5b6",
   "metadata": {},
   "outputs": [],
   "source": [
    "args = easydict.EasyDict(\n",
    "    {'exp_num':'0',\n",
    "     \n",
    "     # Path settings\n",
    "     'data_path':'./data',\n",
    "     'Kfold':5,\n",
    "     'model_path':'results/',\n",
    "\n",
    "     # Model parameter settings  # 고려사항\n",
    "#      'encoder_name':'regnety_040',  \n",
    "     'encoder_name':'regnety_160',\n",
    "#      'encoder_name':'efficientnet_b3',\n",
    "     'drop_path_rate':0.2,\n",
    "     \n",
    "     # Training parameter settings\n",
    "     ## Base Parameter\n",
    "     'img_size':224,  # 고려사항\n",
    "     'batch_size':16, # 고려사항\n",
    "#      'epochs':100,  # 고려사항\n",
    "     'epochs':500,\n",
    "     'optimizer':'Lamb',\n",
    "     'initial_lr':5e-6,\n",
    "     'weight_decay':1e-3,\n",
    "\n",
    "     ## Augmentation\n",
    "     'aug_ver':2,\n",
    "\n",
    "     ## Scheduler (OnecycleLR)\n",
    "     'scheduler':'cycle',\n",
    "     'warm_epoch':5,\n",
    "     'max_lr':1e-3,\n",
    "\n",
    "     ### Cosine Annealing\n",
    "     'min_lr':5e-6,\n",
    "     'tmax':145,\n",
    "\n",
    "     ## etc.\n",
    "     'patience':50,\n",
    "     'clipping':None,\n",
    "\n",
    "     # Hardware settings\n",
    "     'amp':True,\n",
    "     'multi_gpu':False,\n",
    "     'logging':False,\n",
    "     'num_workers':0,  # RuntimeError: DataLoader worker 오류 발생으로 0으로 설정\n",
    "#      'num_workers':4,  # 고려사항\n",
    "     'seed':42\n",
    "    })"
   ]
  },
  {
   "cell_type": "markdown",
   "id": "eabf0e95",
   "metadata": {},
   "source": [
    "# Utils for training and Logging"
   ]
  },
  {
   "cell_type": "code",
   "execution_count": 4,
   "id": "d74a4b3b",
   "metadata": {},
   "outputs": [],
   "source": [
    "# Warmup Learning rate scheduler\n",
    "from torch.optim.lr_scheduler import _LRScheduler\n",
    "class WarmUpLR(_LRScheduler):\n",
    "    \"\"\"warmup_training learning rate scheduler\n",
    "    Args:\n",
    "        optimizer: optimizer(e.g. SGD)\n",
    "        total_iters: totoal_iters of warmup phase\n",
    "    \"\"\"\n",
    "    def __init__(self, optimizer, total_iters, last_epoch=-1):\n",
    "        \n",
    "        self.total_iters = total_iters\n",
    "        super().__init__(optimizer, last_epoch)\n",
    "\n",
    "    def get_lr(self):\n",
    "        \"\"\"we will use the first m batches, and set the learning\n",
    "        rate to base_lr * m / total_iters\n",
    "        \"\"\"\n",
    "        return [base_lr * self.last_epoch / (self.total_iters + 1e-8) for base_lr in self.base_lrs]\n",
    "\n",
    "# Logging\n",
    "def get_root_logger(logger_name='basicsr',\n",
    "                    log_level=logging.INFO,\n",
    "                    log_file=None):\n",
    "\n",
    "    logger = logging.getLogger(logger_name)\n",
    "    # if the logger has been initialized, just return it\n",
    "    if logger.hasHandlers():\n",
    "        return logger\n",
    "\n",
    "    format_str = '%(asctime)s %(levelname)s: %(message)s'\n",
    "    logging.basicConfig(format=format_str, level=log_level)\n",
    "\n",
    "    if log_file is not None:\n",
    "        file_handler = logging.FileHandler(log_file, 'w')\n",
    "        file_handler.setFormatter(logging.Formatter(format_str))\n",
    "        file_handler.setLevel(log_level)\n",
    "        logger.addHandler(file_handler)\n",
    "\n",
    "    return logger\n",
    "\n",
    "class AvgMeter(object):\n",
    "    def __init__(self):\n",
    "        self.reset()\n",
    "\n",
    "    def reset(self):\n",
    "        self.val = 0\n",
    "        self.avg = 0\n",
    "        self.sum = 0\n",
    "        self.count = 0\n",
    "        self.losses = []\n",
    "\n",
    "    def update(self, val, n=1):\n",
    "        self.val = val\n",
    "        self.sum += val * n\n",
    "        self.count += n\n",
    "        self.avg = self.sum / self.count\n",
    "        self.losses.append(val)"
   ]
  },
  {
   "cell_type": "markdown",
   "id": "af0c91ef",
   "metadata": {},
   "source": [
    "# Data Preprocessing\n",
    "- 원본 이미지 사이즈가 큰 점을 감안해 (256,256)로 resize하여 데이터를 새롭게 저장"
   ]
  },
  {
   "cell_type": "code",
   "execution_count": 4,
   "id": "58036821",
   "metadata": {},
   "outputs": [],
   "source": [
    "# df = pd.read_csv('./data/train_df.csv')\n",
    "\n",
    "# # Resize Train Images\n",
    "# save_path = './data/train_256_new'  # 새로 저장할 폴더 경로\n",
    "# os.makedirs(save_path, exist_ok=True)\n",
    "# for img in tqdm(df['file_name']):  # train_df의 'file_name' 컬럼을 참고하여\n",
    "#     name = os.path.basename(img)\n",
    "#     img = cv2.imread(opj('./data/train/', img))  # 해당 경로에 있는 png 이미지 읽어서\n",
    "# #     img = cv2.resize(img, dsize=(256, 256))  # resize한 후\n",
    "#     img = cv2.resize(img, dsize=(256, 256), interpolation=cv2.INTER_AREA) # 고려사항\n",
    "#     img = cv2.imwrite(opj(save_path, name), img)  # 새 폴더에 저장\n",
    "\n",
    "# # Resize Test Images\n",
    "# df = pd.read_csv('./data/test_df.csv')\n",
    "# save_path = './data/test_256_new'\n",
    "# os.makedirs(save_path, exist_ok=True)\n",
    "# for img in tqdm(df['file_name']):\n",
    "#     name = os.path.basename(img)\n",
    "#     img = cv2.imread(opj('./data/test/', img))\n",
    "# #     img = cv2.resize(img, dsize=(256, 256))\n",
    "#     img = cv2.resize(img, dsize=(256, 256), interpolation=cv2.INTER_AREA) # 고려사항\n",
    "#     img = cv2.imwrite(opj(save_path, name), img)"
   ]
  },
  {
   "cell_type": "markdown",
   "id": "34eb9c5b",
   "metadata": {},
   "source": [
    "# Dataset & Loader"
   ]
  },
  {
   "cell_type": "code",
   "execution_count": 5,
   "id": "16ad6970",
   "metadata": {},
   "outputs": [],
   "source": [
    "class Train_Dataset(Dataset):\n",
    "    def __init__(self, df, transform=None):\n",
    "        self.file_name = df['file_name'].values\n",
    "        # 각 label을 str->index로 변환\n",
    "        labels = ['bottle-broken_large', 'bottle-broken_small', 'bottle-contamination', 'bottle-good', 'cable-bent_wire', 'cable-cable_swap', 'cable-combined', 'cable-cut_inner_insulation', 'cable-cut_outer_insulation', 'cable-good', 'cable-missing_cable', 'cable-missing_wire', 'cable-poke_insulation', 'capsule-crack', 'capsule-faulty_imprint', 'capsule-good', 'capsule-poke', 'capsule-scratch', 'capsule-squeeze', 'carpet-color', 'carpet-cut', 'carpet-good', 'carpet-hole', 'carpet-metal_contamination', 'carpet-thread', 'grid-bent', 'grid-broken', 'grid-glue', 'grid-good', 'grid-metal_contamination', 'grid-thread', 'hazelnut-crack', 'hazelnut-cut', 'hazelnut-good', 'hazelnut-hole', 'hazelnut-print', 'leather-color', 'leather-cut', 'leather-fold', 'leather-glue', 'leather-good', 'leather-poke', 'metal_nut-bent', 'metal_nut-color', 'metal_nut-flip', 'metal_nut-good', 'metal_nut-scratch', 'pill-color', 'pill-combined', 'pill-contamination', 'pill-crack', 'pill-faulty_imprint', 'pill-good', 'pill-pill_type', 'pill-scratch', 'screw-good', 'screw-manipulated_front', 'screw-scratch_head', 'screw-scratch_neck', 'screw-thread_side', 'screw-thread_top', 'tile-crack', 'tile-glue_strip', 'tile-good', 'tile-gray_stroke', 'tile-oil', 'tile-rough', 'toothbrush-defective', 'toothbrush-good', 'transistor-bent_lead', 'transistor-cut_lead', 'transistor-damaged_case', 'transistor-good', 'transistor-misplaced', 'wood-color', 'wood-combined', 'wood-good', 'wood-hole', 'wood-liquid', 'wood-scratch', 'zipper-broken_teeth', 'zipper-combined', 'zipper-fabric_border', 'zipper-fabric_interior', 'zipper-good', 'zipper-rough', 'zipper-split_teeth', 'zipper-squeezed_teeth']\n",
    "        new = dict(zip(range(len(labels)),labels))\n",
    "        label_decoder = {val:key for key, val in new.items()}\n",
    "        df['label'] = df['label'].replace(label_decoder)\n",
    "\n",
    "        self.target = df['label'].values  # 목표는 label\n",
    "        self.transform = transform\n",
    "\n",
    "        print(f'Dataset size:{len(self.file_name)}')\n",
    "\n",
    "    def __getitem__(self, idx):  # train 경로에 있는 png 이미지 읽어서 float32로 변환\n",
    "        image = cv2.imread(opj('./data/train_256_new/', self.file_name[idx])).astype(np.float32)\n",
    "        image = cv2.cvtColor(image, cv2.COLOR_BGR2RGB) / 255.0  # BGR=>RGB 변환\n",
    "        \n",
    "        # PIL 사용 # 고려사항\n",
    "#         image = Image.open(opj('./data/train_256/', self.file_name[idx])).convert('RGB')\n",
    "#         image = self.transform(image)\n",
    "        \n",
    "        target = self.target[idx]\n",
    "#         print(f'target:{target}')\n",
    "\n",
    "        if self.transform is not None:\n",
    "        # HWC => CHW-layout 변환\n",
    "            image = self.transform(torch.from_numpy(image.transpose(2,0,1)))\n",
    "\n",
    "        return image, target\n",
    "\n",
    "    def __len__(self):\n",
    "        return len(self.file_name)\n",
    "\n",
    "class Test_dataset(Dataset):\n",
    "    def __init__(self, df, transform=None):\n",
    "        self.test_file_name = df['file_name'].values\n",
    "        self.transform = transform\n",
    "\n",
    "        print(f'Test Dataset size:{len(self.test_file_name)}')\n",
    "\n",
    "    def __getitem__(self, idx): # test 경로에 있는 png 이미지 읽어서 float32로 변환\n",
    "        image = cv2.imread(opj('./data/test_256_new/', self.test_file_name[idx])).astype(np.float32)\n",
    "        image = cv2.cvtColor(image, cv2.COLOR_BGR2RGB) / 255.0  # BGR=>RGB 변환\n",
    "\n",
    "        if self.transform is not None:\n",
    "            image = self.transform(torch.from_numpy(image.transpose(2,0,1)))\n",
    "\n",
    "        return image\n",
    "\n",
    "    def __len__(self):\n",
    "        return len(self.test_file_name)\n",
    "\n",
    "def get_loader(df, phase: str, batch_size, shuffle,\n",
    "               num_workers, transform):\n",
    "    if phase == 'test':\n",
    "        dataset = Test_dataset(df, transform)  \n",
    "        # num_workers : 데이터 로딩에 사용하는 subprocess 개수\n",
    "        # pin_memory : True - 데이터로더가 Tensor를 CUDA 고정 메모리에 올림\n",
    "        # drop_last : batch의 크기에 따른 의존도 높은 함수를 사용할 때 우려되는 경우 마지막 batch를 사용하지 않을 수 있음\n",
    "        data_loader = DataLoader(dataset, batch_size=batch_size, shuffle=shuffle, num_workers=num_workers, pin_memory=True)\n",
    "    else:\n",
    "        dataset = Train_Dataset(df, transform)\n",
    "        data_loader = DataLoader(dataset, batch_size=batch_size, shuffle=shuffle, num_workers=num_workers, pin_memory=True,\n",
    "                                 drop_last=False)\n",
    "    return data_loader\n",
    "\n",
    "def get_train_augmentation(img_size, ver):\n",
    "    if ver == 1: # for validset\n",
    "        transform = transforms.Compose([\n",
    "#                 transforms.Resize((img_size, img_size)),\n",
    "                transforms.Normalize(mean=[0.485, 0.456, 0.406],\n",
    "                                     std=[0.229, 0.224, 0.225]),\n",
    "                ])\n",
    "\n",
    "    if ver == 2:\n",
    "        transform = transforms.Compose([\n",
    "                transforms.RandomHorizontalFlip(),\n",
    "                transforms.RandomVerticalFlip(),  # 추가\n",
    "                transforms.RandomCrop(224),  # 추가\n",
    "                transforms.RandomPerspective(),  # 추가\n",
    "                transforms.RandomAffine((20)),  # x, y축으로 이미지 늘림\n",
    "                transforms.RandomRotation(90),\n",
    "#                 transforms.Resize((img_size, img_size)),\n",
    "                transforms.Normalize(mean=[0.485, 0.456, 0.406],\n",
    "                                     std=[0.229, 0.224, 0.225]),\n",
    "            ])\n",
    "    \n",
    "    \n",
    "    return transform"
   ]
  },
  {
   "cell_type": "markdown",
   "id": "496a3605",
   "metadata": {},
   "source": [
    "# Network"
   ]
  },
  {
   "cell_type": "code",
   "execution_count": 6,
   "id": "98c73038",
   "metadata": {},
   "outputs": [],
   "source": [
    "class Network(nn.Module):\n",
    "    def __init__(self, args):\n",
    "        super().__init__()\n",
    "        # 사전 학습된 모델 사용하기\n",
    "        self.encoder = timm.create_model(args.encoder_name, pretrained=True,\n",
    "                                    drop_path_rate=args.drop_path_rate,\n",
    "                                    )\n",
    "#         num_head = self.encoder.head.fc.in_features  # Number of parallel attention heads\n",
    "#         self.encoder.head.fc = nn.Linear(num_head, 88)\n",
    "        \n",
    "        if 'regnet' in args.encoder_name:        \n",
    "            num_head = self.encoder.head.fc.in_features\n",
    "            self.encoder.head.fc = nn.Linear(num_head, 88)\n",
    "        \n",
    "        elif 'efficient' in args.encoder_name:\n",
    "            num_head = self.encoder.classifier.in_features\n",
    "            self.encoder.classifier = nn.Linear(num_head, 88)\n",
    "\n",
    "    def forward(self, x):\n",
    "        x = self.encoder(x)\n",
    "        return x\n",
    "\n",
    "class Network_test(nn.Module):\n",
    "    def __init__(self, encoder_name):\n",
    "        super().__init__()\n",
    "        self.encoder = timm.create_model(encoder_name, pretrained=True,\n",
    "                                    drop_path_rate=0,\n",
    "                                    )\n",
    "#         num_head = self.encoder.head.fc.in_features\n",
    "#         self.encoder.head.fc = nn.Linear(num_head, 88)\n",
    "        \n",
    "        if 'regnet' in encoder_name:        \n",
    "            num_head = self.encoder.head.fc.in_features\n",
    "            self.encoder.head.fc = nn.Linear(num_head, 88)\n",
    "        \n",
    "        elif 'efficient' in encoder_name:\n",
    "            num_head = self.encoder.classifier.in_features\n",
    "            self.encoder.classifier = nn.Linear(num_head, 88)\n",
    "    \n",
    "    def forward(self, x):\n",
    "        x = self.encoder(x)\n",
    "        return x"
   ]
  },
  {
   "cell_type": "markdown",
   "id": "574592ec",
   "metadata": {},
   "source": [
    "# Trainer for Training & Validation"
   ]
  },
  {
   "cell_type": "code",
   "execution_count": 7,
   "id": "d3456802",
   "metadata": {},
   "outputs": [],
   "source": [
    "class Trainer():\n",
    "    def __init__(self, args, save_path):\n",
    "        '''\n",
    "        args: arguments\n",
    "        save_path: Model 가중치 저장 경로\n",
    "        '''\n",
    "        super(Trainer, self).__init__()\n",
    "        self.device = torch.device('cuda' if torch.cuda.is_available() else 'cpu')\n",
    "\n",
    "        # Logging\n",
    "        log_file = os.path.join(save_path, 'log_0512_2.log')\n",
    "        self.logger = get_root_logger(logger_name='IR', log_level=logging.INFO, log_file=log_file)\n",
    "        self.logger.info(args)\n",
    "        # self.logger.info(args.tag)\n",
    "\n",
    "        # Train, Valid Set load\n",
    "        ############################################################################\n",
    "        df_train = pd.read_csv(opj(args.data_path, 'train_df.csv'))\n",
    "        print('Read train_df.csv')\n",
    "            \n",
    "#         if args.step == 0 :\n",
    "#             df_train = pd.read_csv(opj(args.data_path, 'train_df.csv'))\n",
    "#             print('Read train_df.csv')\n",
    "#         else :\n",
    "#             df_train = pd.read_csv(opj(args.data_path, f'aws_0505_esb_train_{args.step}step.csv'))\n",
    "#             print(f'Read {args.step}step.csv')\n",
    "\n",
    "#         if args.image_type is not None:\n",
    "#             df_train['file_name'] = df_train['file_name'].apply(lambda x:x.replace('train_imgs', args.image_type))\n",
    "#             df_train['file_name'] = df_train['file_name'].apply(lambda x:x.replace('test_imgs', 'test_512'))\n",
    "\n",
    "        kf = StratifiedKFold(n_splits=args.Kfold, shuffle=True, random_state=args.seed)\n",
    "        for fold, (train_idx, val_idx) in enumerate(kf.split(range(len(df_train)), y=df_train['label'])):\n",
    "            df_train.loc[val_idx, 'fold'] = fold\n",
    "        val_idx = list(df_train[df_train['fold'] == int(args.fold)].index)\n",
    "\n",
    "        df_val = df_train[df_train['fold'] == args.fold].reset_index(drop=True)\n",
    "        df_train = df_train[df_train['fold'] != args.fold].reset_index(drop=True)\n",
    "\n",
    "        # Augmentation\n",
    "        self.train_transform = get_train_augmentation(img_size=args.img_size, ver=args.aug_ver)\n",
    "        self.test_transform = get_train_augmentation(img_size=args.img_size, ver=1)\n",
    "\n",
    "        # TrainLoader\n",
    "        self.train_loader = get_loader(df_train, phase='train', batch_size=args.batch_size, shuffle=True,\n",
    "                                       num_workers=args.num_workers, transform=self.train_transform)\n",
    "        self.val_loader = get_loader(df_val, phase='train', batch_size=args.batch_size, shuffle=False,\n",
    "                                       num_workers=args.num_workers, transform=self.test_transform)\n",
    "\n",
    "        # Network\n",
    "        self.model = Network(args).to(self.device)\n",
    "        macs, params = get_model_complexity_info(self.model, (3, args.img_size, args.img_size), as_strings=True,\n",
    "                                                 print_per_layer_stat=False, verbose=False)\n",
    "        self.logger.info('{:<30}  {:<8}'.format('Computational complexity: ', macs))\n",
    "        self.logger.info('{:<30}  {:<8}'.format('Number of parameters: ', params))\n",
    "\n",
    "        # Loss\n",
    "        self.criterion = nn.CrossEntropyLoss()\n",
    "        \n",
    "        # Optimizer & Scheduler\n",
    "        self.optimizer = optim.Lamb(self.model.parameters(), lr=args.initial_lr, weight_decay=args.weight_decay)\n",
    "        \n",
    "        iter_per_epoch = len(self.train_loader)\n",
    "        self.warmup_scheduler = WarmUpLR(self.optimizer, iter_per_epoch * args.warm_epoch)\n",
    "\n",
    "        if args.scheduler == 'step':\n",
    "            self.scheduler = torch.optim.lr_scheduler.MultiStepLR(self.optimizer, milestones=args.milestone, gamma=args.lr_factor, verbose=True)\n",
    "        elif args.scheduler == 'cos':\n",
    "            tmax = args.tmax # half-cycle \n",
    "            self.scheduler = torch.optim.lr_scheduler.CosineAnnealingLR(self.optimizer, T_max = tmax, eta_min=args.min_lr, verbose=True)\n",
    "        elif args.scheduler == 'cycle':\n",
    "            self.scheduler = torch.optim.lr_scheduler.OneCycleLR(self.optimizer, max_lr=args.max_lr, steps_per_epoch=iter_per_epoch, epochs=args.epochs)\n",
    "\n",
    "        if args.multi_gpu:\n",
    "            self.model = nn.DataParallel(self.model).to(self.device)\n",
    "\n",
    "        # Train / Validate\n",
    "        best_loss = np.inf\n",
    "        best_acc = 0\n",
    "        best_epoch = 0\n",
    "        early_stopping = 0\n",
    "        start = time.time()\n",
    "        \n",
    "        # 추가\n",
    "        new_batch_size = args.batch_size\n",
    "        cnt = 0\n",
    "        \n",
    "        for epoch in range(1, args.epochs+1):\n",
    "            self.epoch = epoch\n",
    "\n",
    "            if args.scheduler == 'cos':\n",
    "                if epoch > args.warm_epoch:\n",
    "                    self.scheduler.step()\n",
    "\n",
    "            # Training\n",
    "            train_loss, train_acc, train_f1 = self.training(args)\n",
    "\n",
    "            # Model weight in Multi_GPU or Single GPU\n",
    "            state_dict= self.model.module.state_dict() if args.multi_gpu else self.model.state_dict()\n",
    "\n",
    "            # Validation\n",
    "            val_loss, val_acc, val_f1 = self.validate(args, phase='val')\n",
    "\n",
    "            # Save models\n",
    "            if val_loss < best_loss:\n",
    "                early_stopping = 0\n",
    "                best_epoch = epoch\n",
    "                best_loss = val_loss\n",
    "                best_acc = val_acc\n",
    "                best_f1 = val_f1\n",
    "\n",
    "                torch.save({'epoch':epoch,\n",
    "                            'state_dict':state_dict,\n",
    "                            'optimizer': self.optimizer.state_dict(),\n",
    "                            'scheduler': self.scheduler.state_dict(),\n",
    "                    }, os.path.join(save_path, 'best_model_0512_2.pth'))\n",
    "                self.logger.info(f'-----------------SAVE:{best_epoch}epoch----------------')\n",
    "            else:\n",
    "                early_stopping += 1\n",
    "\n",
    "            # Early Stopping\n",
    "            if early_stopping == args.patience:\n",
    "                \n",
    "                cnt = 0\n",
    "                break\n",
    "                \n",
    "            # 추가 - val loss 향상되지 않으면 batch size 조정\n",
    "            \n",
    "#             if early_stopping >= 5 * (cnt + 1):\n",
    "#                 new_batch_size *= 2\n",
    "#                 cnt += 1\n",
    "#                 # TrainLoader\n",
    "#                 self.train_loader = get_loader(df_train, phase='train', batch_size=new_batch_size, shuffle=True,\n",
    "#                                                num_workers=args.num_workers, transform=self.train_transform)\n",
    "#                 self.val_loader = get_loader(df_val, phase='train', batch_size=new_batch_size, shuffle=False,\n",
    "#                                                num_workers=args.num_workers, transform=self.test_transform)\n",
    "#                 print(f'\\nchange batch size to {new_batch_size}')\n",
    "                \n",
    "            print(f'\\nbest epoch:{best_epoch}/loss:{best_loss:.4f}/f1:{best_f1:.4f}')\n",
    "\n",
    "        self.logger.info(f'\\nBest Val Epoch:{best_epoch} | Val Loss:{best_loss:.4f} | Val Acc:{best_acc:.4f} | Val F1:{best_f1:.4f}')\n",
    "        end = time.time()\n",
    "        self.logger.info(f'Total Process time:{(end - start) / 60:.3f}Minute')\n",
    "\n",
    "    # Training\n",
    "    def training(self, args):\n",
    "        self.model.train()\n",
    "        train_loss = AvgMeter()\n",
    "        train_acc = 0\n",
    "        preds_list = []\n",
    "        targets_list = []\n",
    "\n",
    "        scaler = grad_scaler.GradScaler()\n",
    "        for i, (images, targets) in enumerate(tqdm(self.train_loader)):\n",
    "            images = torch.tensor(images, device=self.device, dtype=torch.float32)\n",
    "            # ValueError: too many dimensions 'str'\n",
    "#             targets = torch.tensor(int(targets), device=self.device, dtype=torch.long)\n",
    "            targets = torch.tensor(targets, device=self.device, dtype=torch.long)\n",
    "            \n",
    "            if self.epoch <= args.warm_epoch:\n",
    "                self.warmup_scheduler.step()\n",
    "\n",
    "            self.model.zero_grad(set_to_none=True)\n",
    "            if args.amp:\n",
    "                with autocast():\n",
    "                    preds = self.model(images)\n",
    "                    loss = self.criterion(preds, targets)\n",
    "                scaler.scale(loss).backward()\n",
    "\n",
    "                # Gradient Clipping\n",
    "                if args.clipping is not None:\n",
    "                    scaler.unscale_(self.optimizer)\n",
    "                    torch.nn.utils.clip_grad_norm_(self.model.parameters(), args.clipping)\n",
    "\n",
    "                scaler.step(self.optimizer)\n",
    "                scaler.update()\n",
    "\n",
    "            else:\n",
    "                preds = self.model(images)\n",
    "                loss = self.criterion(preds, targets)\n",
    "                loss.backward()\n",
    "                nn.utils.clip_grad_norm_(self.model.parameters(), args.clipping)\n",
    "                self.optimizer.step()\n",
    "\n",
    "            if args.scheduler == 'cycle':\n",
    "                if self.epoch > args.warm_epoch:\n",
    "                    self.scheduler.step()\n",
    "\n",
    "            # Metric\n",
    "            train_acc += (preds.argmax(dim=1) == targets).sum().item()\n",
    "            preds_list.extend(preds.argmax(dim=1).cpu().detach().numpy())\n",
    "            targets_list.extend(targets.cpu().detach().numpy())\n",
    "            # log\n",
    "            train_loss.update(loss.item(), n=images.size(0))\n",
    "\n",
    "        train_acc /= len(self.train_loader.dataset)\n",
    "        train_f1 = f1_score(np.array(targets_list), np.array(preds_list), average='macro')\n",
    "\n",
    "        self.logger.info(f'Epoch:[{self.epoch:03d}/{args.epochs:03d}]')\n",
    "        self.logger.info(f'Train Loss:{train_loss.avg:.3f} | Acc:{train_acc:.4f} | F1:{train_f1:.4f}')\n",
    "        return train_loss.avg, train_acc, train_f1\n",
    "            \n",
    "    # Validation or Dev\n",
    "    def validate(self, args, phase='val'):\n",
    "        self.model.eval()\n",
    "        with torch.no_grad():\n",
    "            val_loss = AvgMeter()\n",
    "            val_acc = 0\n",
    "            preds_list = []\n",
    "            targets_list = []\n",
    "\n",
    "            for i, (images, targets) in enumerate(self.val_loader):\n",
    "                images = torch.tensor(images, device=self.device, dtype=torch.float32)\n",
    "                targets = torch.tensor(targets, device=self.device, dtype=torch.long)\n",
    "\n",
    "                preds = self.model(images)\n",
    "                loss = self.criterion(preds, targets)\n",
    "\n",
    "                # Metric\n",
    "                val_acc += (preds.argmax(dim=1) == targets).sum().item()\n",
    "                preds_list.extend(preds.argmax(dim=1).cpu().detach().numpy())\n",
    "                targets_list.extend(targets.cpu().detach().numpy())\n",
    "\n",
    "                # log\n",
    "                val_loss.update(loss.item(), n=images.size(0))\n",
    "            val_acc /= len(self.val_loader.dataset)\n",
    "            val_f1 = f1_score(np.array(targets_list), np.array(preds_list), average='macro')\n",
    "\n",
    "            self.logger.info(f'{phase} Loss:{val_loss.avg:.3f} | Acc:{val_acc:.4f} | F1:{val_f1:.4f}')\n",
    "        return val_loss.avg, val_acc, val_f1"
   ]
  },
  {
   "cell_type": "markdown",
   "id": "dc66f503",
   "metadata": {},
   "source": [
    "# Main"
   ]
  },
  {
   "cell_type": "code",
   "execution_count": 8,
   "id": "54d2a0a3",
   "metadata": {},
   "outputs": [],
   "source": [
    "def main(args):\n",
    "    print('<---- Training Params ---->')\n",
    "    \n",
    "    # Random Seed\n",
    "    seed = args.seed\n",
    "    os.environ['PYTHONHASHSEED'] = str(seed)\n",
    "    random.seed(seed)\n",
    "    np.random.seed(seed)\n",
    "    torch.manual_seed(seed)\n",
    "    torch.cuda.manual_seed(seed)\n",
    "    torch.cuda.manual_seed_all(seed)\n",
    "    torch.backends.cudnn.benchmark = True\n",
    "\n",
    "    save_path = os.path.join(args.model_path, (args.exp_num).zfill(3))\n",
    "    \n",
    "    # Create model directory\n",
    "    os.makedirs(save_path, exist_ok=True)\n",
    "    Trainer(args, save_path)\n",
    "\n",
    "    return save_path"
   ]
  },
  {
   "cell_type": "markdown",
   "id": "7e5763bf",
   "metadata": {},
   "source": [
    "# Inference & Make pseudo label set"
   ]
  },
  {
   "cell_type": "code",
   "execution_count": 9,
   "id": "0beb201c",
   "metadata": {},
   "outputs": [],
   "source": [
    "def predict(encoder_name, test_loader, device, model_path):\n",
    "    model = Network_test(encoder_name).to(device)\n",
    "    model.load_state_dict(torch.load(opj(model_path, 'best_model_0512_2.pth'))['state_dict'])\n",
    "    model.eval()\n",
    "    preds_list = []\n",
    "    with torch.no_grad():\n",
    "        for images in tqdm(test_loader):\n",
    "            images = torch.as_tensor(images, device=device, dtype=torch.float32)\n",
    "            preds = model(images)\n",
    "            preds = torch.softmax(preds, dim=1)\n",
    "            preds_list.extend(preds.cpu().tolist())\n",
    "\n",
    "    return np.array(preds_list)\n",
    "\n",
    "def ensemble_5fold(model_path_list, test_loader, device):\n",
    "    predict_list = []\n",
    "    for model_path in model_path_list:  # 고려사항\n",
    "#         prediction = predict(encoder_name= 'efficientnet_b3', \n",
    "        prediction = predict(encoder_name= 'regnety_160', \n",
    "#         prediction = predict(encoder_name= 'regnety_040', \n",
    "                             test_loader = test_loader, device = device, model_path = model_path)\n",
    "        predict_list.append(prediction)\n",
    "    ensemble = (predict_list[0] + predict_list[1] + predict_list[2] + predict_list[3] + predict_list[4])/len(predict_list)\n",
    "\n",
    "    return ensemble\n",
    "\n",
    "\n",
    "# def make_pseudo_df(train_df, test_df, ensemble, step, threshold = 0.9, z_sample = 500): \n",
    "#     train_df_copy = train_df.copy()\n",
    "#     test_df_copy = test_df.copy()\n",
    "\n",
    "#     test_df_copy['label'] = ensemble.argmax(axis=1)\n",
    "#     pseudo_test_df = test_df_copy.iloc[np.where(ensemble > threshold)[0]].reset_index(drop=True)\n",
    "#     z_idx  = pseudo_test_df[pseudo_test_df['label'] == 0].sample(n=z_sample, random_state=42).index.tolist()\n",
    "#     ot_idx = pseudo_test_df[pseudo_test_df['label'].isin([*range(1,88)])].index.tolist()  # 고려사항\n",
    "#     pseudo_test_df = pseudo_test_df.iloc[z_idx + ot_idx]\n",
    "\n",
    "#     train_df_copy = train_df_copy.append(pseudo_test_df, ignore_index=True).reset_index(drop=True) # reset_index\n",
    "#     train_df_copy.to_csv(f'./data/0505_1_train_{step}step.csv', index=False)\n",
    "#     print(f'Make train_{step}step.csv')"
   ]
  },
  {
   "cell_type": "markdown",
   "id": "3ee8c70a",
   "metadata": {},
   "source": [
    "# Train & Inference\n",
    "- 5fold Training -> Inference & Ensemble -> Make or Update Pseudo label set -> Add Dataset(Trainset + Pseudo label set)\n",
    "다음과 과정을 반복하기 때문에 Training과 Inference를 동시에 진행했습니다."
   ]
  },
  {
   "cell_type": "code",
   "execution_count": 10,
   "id": "866d58ae",
   "metadata": {},
   "outputs": [],
   "source": [
    "# img_size = 256  # 고려사항\n",
    "img_size = 224\n",
    "device = torch.device('cuda' if torch.cuda.is_available() else 'cpu')\n",
    "sub = pd.read_csv('./data/sample_submission.csv')\n",
    "df_train = pd.read_csv('./data/train_df.csv')\n",
    "df_test = pd.read_csv('./data/test_df.csv')"
   ]
  },
  {
   "cell_type": "code",
   "execution_count": 11,
   "id": "89b1d73a",
   "metadata": {},
   "outputs": [
    {
     "name": "stdout",
     "output_type": "stream",
     "text": [
      "Test Dataset size:2154\n"
     ]
    }
   ],
   "source": [
    "# df_test['file_name'] = df_test['file_name'].apply(lambda x:x.replace('test_imgs', 'test_1024'))\n",
    "test_transform = get_train_augmentation(img_size=img_size, ver=1)\n",
    "test_dataset = Test_dataset(df_test, test_transform)\n",
    "test_loader = DataLoader(test_dataset, batch_size=64, shuffle=False, num_workers=0)\n",
    "# test_loader = DataLoader(test_dataset, batch_size=32, shuffle=False, num_workers=0)  # 고려사항"
   ]
  },
  {
   "cell_type": "code",
   "execution_count": null,
   "id": "94941098",
   "metadata": {
    "scrolled": true
   },
   "outputs": [
    {
     "name": "stderr",
     "output_type": "stream",
     "text": [
      "2022-05-12 09:59:12,041 INFO: {'exp_num': '0', 'data_path': './data', 'Kfold': 5, 'model_path': 'results/', 'encoder_name': 'regnety_160', 'drop_path_rate': 0.2, 'img_size': 224, 'batch_size': 16, 'epochs': 500, 'optimizer': 'Lamb', 'initial_lr': 5e-06, 'weight_decay': 0.001, 'aug_ver': 2, 'scheduler': 'cycle', 'warm_epoch': 5, 'max_lr': 0.001, 'min_lr': 5e-06, 'tmax': 145, 'patience': 50, 'clipping': None, 'amp': True, 'multi_gpu': False, 'logging': False, 'num_workers': 0, 'seed': 42, 'fold': 0}\n"
     ]
    },
    {
     "name": "stdout",
     "output_type": "stream",
     "text": [
      "<---- Training Params ---->\n",
      "Read train_df.csv\n",
      "Dataset size:3421\n",
      "Dataset size:856\n"
     ]
    },
    {
     "name": "stderr",
     "output_type": "stream",
     "text": [
      "2022-05-12 09:59:12,808 INFO: Loading pretrained weights from url (https://dl.fbaipublicfiles.com/deit/regnety_160-a5fe301d.pth)\n",
      "2022-05-12 09:59:15,966 INFO: Computational complexity:       15.93 GMac\n",
      "2022-05-12 09:59:15,967 INFO: Number of parameters:           80.83 M \n",
      "100%|████████████████████████████████████████████████████████████████████████████████| 214/214 [01:59<00:00,  1.79it/s]\n",
      "2022-05-12 10:01:15,858 INFO: Epoch:[001/500]\n",
      "2022-05-12 10:01:15,859 INFO: Train Loss:4.484 | Acc:0.0132 | F1:0.0049\n",
      "2022-05-12 10:01:27,053 INFO: val Loss:4.537 | Acc:0.0000 | F1:0.0000\n",
      "2022-05-12 10:01:28,797 INFO: -----------------SAVE:1epoch----------------\n"
     ]
    },
    {
     "name": "stdout",
     "output_type": "stream",
     "text": [
      "\n",
      "best epoch:1/loss:4.5366/f1:0.0000\n"
     ]
    },
    {
     "name": "stderr",
     "output_type": "stream",
     "text": [
      "100%|████████████████████████████████████████████████████████████████████████████████| 214/214 [01:50<00:00,  1.93it/s]\n",
      "2022-05-12 10:03:19,679 INFO: Epoch:[002/500]\n",
      "2022-05-12 10:03:19,679 INFO: Train Loss:4.470 | Acc:0.0146 | F1:0.0041\n",
      "2022-05-12 10:03:29,447 INFO: val Loss:4.527 | Acc:0.0000 | F1:0.0000\n",
      "2022-05-12 10:03:31,337 INFO: -----------------SAVE:2epoch----------------\n"
     ]
    },
    {
     "name": "stdout",
     "output_type": "stream",
     "text": [
      "\n",
      "best epoch:2/loss:4.5266/f1:0.0000\n"
     ]
    },
    {
     "name": "stderr",
     "output_type": "stream",
     "text": [
      "100%|████████████████████████████████████████████████████████████████████████████████| 214/214 [01:51<00:00,  1.93it/s]\n",
      "2022-05-12 10:05:22,356 INFO: Epoch:[003/500]\n",
      "2022-05-12 10:05:22,356 INFO: Train Loss:4.447 | Acc:0.0187 | F1:0.0047\n",
      "2022-05-12 10:05:32,164 INFO: val Loss:4.486 | Acc:0.0012 | F1:0.0002\n",
      "2022-05-12 10:05:34,222 INFO: -----------------SAVE:3epoch----------------\n"
     ]
    },
    {
     "name": "stdout",
     "output_type": "stream",
     "text": [
      "\n",
      "best epoch:3/loss:4.4862/f1:0.0002\n"
     ]
    },
    {
     "name": "stderr",
     "output_type": "stream",
     "text": [
      "100%|████████████████████████████████████████████████████████████████████████████████| 214/214 [01:51<00:00,  1.92it/s]\n",
      "2022-05-12 10:07:25,968 INFO: Epoch:[004/500]\n",
      "2022-05-12 10:07:25,969 INFO: Train Loss:4.402 | Acc:0.0380 | F1:0.0095\n",
      "2022-05-12 10:07:35,840 INFO: val Loss:4.461 | Acc:0.0082 | F1:0.0014\n",
      "2022-05-12 10:07:37,854 INFO: -----------------SAVE:4epoch----------------\n"
     ]
    },
    {
     "name": "stdout",
     "output_type": "stream",
     "text": [
      "\n",
      "best epoch:4/loss:4.4605/f1:0.0014\n"
     ]
    },
    {
     "name": "stderr",
     "output_type": "stream",
     "text": [
      "100%|████████████████████████████████████████████████████████████████████████████████| 214/214 [01:51<00:00,  1.91it/s]\n",
      "2022-05-12 10:09:29,623 INFO: Epoch:[005/500]\n",
      "2022-05-12 10:09:29,624 INFO: Train Loss:4.353 | Acc:0.0646 | F1:0.0130\n",
      "2022-05-12 10:09:39,562 INFO: val Loss:4.400 | Acc:0.0327 | F1:0.0053\n",
      "2022-05-12 10:09:41,480 INFO: -----------------SAVE:5epoch----------------\n"
     ]
    },
    {
     "name": "stdout",
     "output_type": "stream",
     "text": [
      "\n",
      "best epoch:5/loss:4.4001/f1:0.0053\n"
     ]
    },
    {
     "name": "stderr",
     "output_type": "stream",
     "text": [
      "100%|████████████████████████████████████████████████████████████████████████████████| 214/214 [01:52<00:00,  1.91it/s]\n",
      "2022-05-12 10:11:33,624 INFO: Epoch:[006/500]\n",
      "2022-05-12 10:11:33,624 INFO: Train Loss:4.027 | Acc:0.3686 | F1:0.0736\n",
      "2022-05-12 10:11:43,460 INFO: val Loss:3.752 | Acc:0.5456 | F1:0.1009\n",
      "2022-05-12 10:11:45,277 INFO: -----------------SAVE:6epoch----------------\n"
     ]
    },
    {
     "name": "stdout",
     "output_type": "stream",
     "text": [
      "\n",
      "best epoch:6/loss:3.7519/f1:0.1009\n"
     ]
    },
    {
     "name": "stderr",
     "output_type": "stream",
     "text": [
      "100%|████████████████████████████████████████████████████████████████████████████████| 214/214 [01:52<00:00,  1.90it/s]\n",
      "2022-05-12 10:13:37,997 INFO: Epoch:[007/500]\n",
      "2022-05-12 10:13:37,998 INFO: Train Loss:3.272 | Acc:0.7314 | F1:0.1328\n",
      "2022-05-12 10:13:48,017 INFO: val Loss:2.811 | Acc:0.7664 | F1:0.1365\n",
      "2022-05-12 10:13:50,015 INFO: -----------------SAVE:7epoch----------------\n"
     ]
    },
    {
     "name": "stdout",
     "output_type": "stream",
     "text": [
      "\n",
      "best epoch:7/loss:2.8108/f1:0.1365\n"
     ]
    },
    {
     "name": "stderr",
     "output_type": "stream",
     "text": [
      "100%|████████████████████████████████████████████████████████████████████████████████| 214/214 [01:51<00:00,  1.91it/s]\n",
      "2022-05-12 10:15:41,841 INFO: Epoch:[008/500]\n",
      "2022-05-12 10:15:41,842 INFO: Train Loss:2.435 | Acc:0.8226 | F1:0.1463\n",
      "2022-05-12 10:15:51,661 INFO: val Loss:1.870 | Acc:0.8341 | F1:0.1448\n",
      "2022-05-12 10:15:53,606 INFO: -----------------SAVE:8epoch----------------\n"
     ]
    },
    {
     "name": "stdout",
     "output_type": "stream",
     "text": [
      "\n",
      "best epoch:8/loss:1.8698/f1:0.1448\n"
     ]
    },
    {
     "name": "stderr",
     "output_type": "stream",
     "text": [
      "100%|████████████████████████████████████████████████████████████████████████████████| 214/214 [01:52<00:00,  1.91it/s]\n",
      "2022-05-12 10:17:45,899 INFO: Epoch:[009/500]\n",
      "2022-05-12 10:17:45,900 INFO: Train Loss:1.724 | Acc:0.8313 | F1:0.1477\n",
      "2022-05-12 10:17:55,731 INFO: val Loss:1.223 | Acc:0.8400 | F1:0.1515\n",
      "2022-05-12 10:17:57,666 INFO: -----------------SAVE:9epoch----------------\n"
     ]
    },
    {
     "name": "stdout",
     "output_type": "stream",
     "text": [
      "\n",
      "best epoch:9/loss:1.2226/f1:0.1515\n"
     ]
    },
    {
     "name": "stderr",
     "output_type": "stream",
     "text": [
      "100%|████████████████████████████████████████████████████████████████████████████████| 214/214 [01:52<00:00,  1.91it/s]\n",
      "2022-05-12 10:19:49,943 INFO: Epoch:[010/500]\n",
      "2022-05-12 10:19:49,944 INFO: Train Loss:1.342 | Acc:0.8389 | F1:0.1519\n",
      "2022-05-12 10:19:59,796 INFO: val Loss:1.067 | Acc:0.8481 | F1:0.1560\n",
      "2022-05-12 10:20:02,041 INFO: -----------------SAVE:10epoch----------------\n"
     ]
    },
    {
     "name": "stdout",
     "output_type": "stream",
     "text": [
      "\n",
      "best epoch:10/loss:1.0668/f1:0.1560\n"
     ]
    },
    {
     "name": "stderr",
     "output_type": "stream",
     "text": [
      "100%|████████████████████████████████████████████████████████████████████████████████| 214/214 [01:51<00:00,  1.91it/s]\n",
      "2022-05-12 10:21:53,817 INFO: Epoch:[011/500]\n",
      "2022-05-12 10:21:53,817 INFO: Train Loss:1.151 | Acc:0.8439 | F1:0.1548\n",
      "2022-05-12 10:22:03,697 INFO: val Loss:0.993 | Acc:0.8481 | F1:0.1560\n",
      "2022-05-12 10:22:05,647 INFO: -----------------SAVE:11epoch----------------\n"
     ]
    },
    {
     "name": "stdout",
     "output_type": "stream",
     "text": [
      "\n",
      "best epoch:11/loss:0.9935/f1:0.1560\n"
     ]
    },
    {
     "name": "stderr",
     "output_type": "stream",
     "text": [
      "100%|████████████████████████████████████████████████████████████████████████████████| 214/214 [01:52<00:00,  1.91it/s]\n",
      "2022-05-12 10:23:57,835 INFO: Epoch:[012/500]\n",
      "2022-05-12 10:23:57,836 INFO: Train Loss:1.061 | Acc:0.8457 | F1:0.1557\n",
      "2022-05-12 10:24:07,727 INFO: val Loss:0.900 | Acc:0.8481 | F1:0.1560\n",
      "2022-05-12 10:24:09,695 INFO: -----------------SAVE:12epoch----------------\n"
     ]
    },
    {
     "name": "stdout",
     "output_type": "stream",
     "text": [
      "\n",
      "best epoch:12/loss:0.9005/f1:0.1560\n"
     ]
    },
    {
     "name": "stderr",
     "output_type": "stream",
     "text": [
      "100%|████████████████████████████████████████████████████████████████████████████████| 214/214 [01:52<00:00,  1.90it/s]\n",
      "2022-05-12 10:26:02,193 INFO: Epoch:[013/500]\n",
      "2022-05-12 10:26:02,194 INFO: Train Loss:0.988 | Acc:0.8465 | F1:0.1558\n",
      "2022-05-12 10:26:12,199 INFO: val Loss:0.824 | Acc:0.8481 | F1:0.1560\n",
      "2022-05-12 10:26:14,325 INFO: -----------------SAVE:13epoch----------------\n"
     ]
    },
    {
     "name": "stdout",
     "output_type": "stream",
     "text": [
      "\n",
      "best epoch:13/loss:0.8244/f1:0.1560\n"
     ]
    },
    {
     "name": "stderr",
     "output_type": "stream",
     "text": [
      "100%|████████████████████████████████████████████████████████████████████████████████| 214/214 [01:52<00:00,  1.90it/s]\n",
      "2022-05-12 10:28:06,739 INFO: Epoch:[014/500]\n",
      "2022-05-12 10:28:06,740 INFO: Train Loss:0.913 | Acc:0.8477 | F1:0.1560\n",
      "2022-05-12 10:28:16,610 INFO: val Loss:0.772 | Acc:0.8481 | F1:0.1560\n",
      "2022-05-12 10:28:18,471 INFO: -----------------SAVE:14epoch----------------\n"
     ]
    },
    {
     "name": "stdout",
     "output_type": "stream",
     "text": [
      "\n",
      "best epoch:14/loss:0.7720/f1:0.1560\n"
     ]
    },
    {
     "name": "stderr",
     "output_type": "stream",
     "text": [
      "100%|████████████████████████████████████████████████████████████████████████████████| 214/214 [01:52<00:00,  1.90it/s]\n",
      "2022-05-12 10:30:10,948 INFO: Epoch:[015/500]\n",
      "2022-05-12 10:30:10,948 INFO: Train Loss:0.853 | Acc:0.8477 | F1:0.1559\n",
      "2022-05-12 10:30:20,840 INFO: val Loss:0.722 | Acc:0.8481 | F1:0.1560\n",
      "2022-05-12 10:30:22,770 INFO: -----------------SAVE:15epoch----------------\n"
     ]
    },
    {
     "name": "stdout",
     "output_type": "stream",
     "text": [
      "\n",
      "best epoch:15/loss:0.7223/f1:0.1560\n"
     ]
    },
    {
     "name": "stderr",
     "output_type": "stream",
     "text": [
      "100%|████████████████████████████████████████████████████████████████████████████████| 214/214 [01:52<00:00,  1.90it/s]\n",
      "2022-05-12 10:32:15,267 INFO: Epoch:[016/500]\n",
      "2022-05-12 10:32:15,267 INFO: Train Loss:0.816 | Acc:0.8480 | F1:0.1561\n",
      "2022-05-12 10:32:25,148 INFO: val Loss:0.699 | Acc:0.8516 | F1:0.1753\n",
      "2022-05-12 10:32:27,128 INFO: -----------------SAVE:16epoch----------------\n"
     ]
    },
    {
     "name": "stdout",
     "output_type": "stream",
     "text": [
      "\n",
      "best epoch:16/loss:0.6987/f1:0.1753\n"
     ]
    },
    {
     "name": "stderr",
     "output_type": "stream",
     "text": [
      "100%|████████████████████████████████████████████████████████████████████████████████| 214/214 [01:52<00:00,  1.90it/s]\n",
      "2022-05-12 10:34:19,636 INFO: Epoch:[017/500]\n",
      "2022-05-12 10:34:19,637 INFO: Train Loss:0.778 | Acc:0.8498 | F1:0.1696\n",
      "2022-05-12 10:34:29,534 INFO: val Loss:0.667 | Acc:0.8540 | F1:0.1868\n",
      "2022-05-12 10:34:31,421 INFO: -----------------SAVE:17epoch----------------\n"
     ]
    },
    {
     "name": "stdout",
     "output_type": "stream",
     "text": [
      "\n",
      "best epoch:17/loss:0.6665/f1:0.1868\n"
     ]
    },
    {
     "name": "stderr",
     "output_type": "stream",
     "text": [
      "100%|████████████████████████████████████████████████████████████████████████████████| 214/214 [01:52<00:00,  1.91it/s]\n",
      "2022-05-12 10:36:23,703 INFO: Epoch:[018/500]\n",
      "2022-05-12 10:36:23,703 INFO: Train Loss:0.728 | Acc:0.8492 | F1:0.1714\n",
      "2022-05-12 10:36:33,583 INFO: val Loss:0.634 | Acc:0.8551 | F1:0.1885\n",
      "2022-05-12 10:36:35,439 INFO: -----------------SAVE:18epoch----------------\n"
     ]
    },
    {
     "name": "stdout",
     "output_type": "stream",
     "text": [
      "\n",
      "best epoch:18/loss:0.6343/f1:0.1885\n"
     ]
    },
    {
     "name": "stderr",
     "output_type": "stream",
     "text": [
      "100%|████████████████████████████████████████████████████████████████████████████████| 214/214 [01:52<00:00,  1.91it/s]\n",
      "2022-05-12 10:38:27,664 INFO: Epoch:[019/500]\n",
      "2022-05-12 10:38:27,665 INFO: Train Loss:0.680 | Acc:0.8512 | F1:0.1760\n",
      "2022-05-12 10:38:37,584 INFO: val Loss:0.598 | Acc:0.8621 | F1:0.2277\n",
      "2022-05-12 10:38:39,487 INFO: -----------------SAVE:19epoch----------------\n"
     ]
    },
    {
     "name": "stdout",
     "output_type": "stream",
     "text": [
      "\n",
      "best epoch:19/loss:0.5983/f1:0.2277\n"
     ]
    },
    {
     "name": "stderr",
     "output_type": "stream",
     "text": [
      "100%|████████████████████████████████████████████████████████████████████████████████| 214/214 [01:52<00:00,  1.91it/s]\n",
      "2022-05-12 10:40:31,615 INFO: Epoch:[020/500]\n",
      "2022-05-12 10:40:31,615 INFO: Train Loss:0.663 | Acc:0.8536 | F1:0.1950\n",
      "2022-05-12 10:40:41,477 INFO: val Loss:0.584 | Acc:0.8633 | F1:0.2249\n",
      "2022-05-12 10:40:43,431 INFO: -----------------SAVE:20epoch----------------\n"
     ]
    },
    {
     "name": "stdout",
     "output_type": "stream",
     "text": [
      "\n",
      "best epoch:20/loss:0.5841/f1:0.2249\n"
     ]
    },
    {
     "name": "stderr",
     "output_type": "stream",
     "text": [
      "100%|████████████████████████████████████████████████████████████████████████████████| 214/214 [01:52<00:00,  1.91it/s]\n",
      "2022-05-12 10:42:35,508 INFO: Epoch:[021/500]\n",
      "2022-05-12 10:42:35,508 INFO: Train Loss:0.624 | Acc:0.8582 | F1:0.2219\n",
      "2022-05-12 10:42:45,412 INFO: val Loss:0.575 | Acc:0.8680 | F1:0.2545\n",
      "2022-05-12 10:42:47,319 INFO: -----------------SAVE:21epoch----------------\n"
     ]
    },
    {
     "name": "stdout",
     "output_type": "stream",
     "text": [
      "\n",
      "best epoch:21/loss:0.5750/f1:0.2545\n"
     ]
    },
    {
     "name": "stderr",
     "output_type": "stream",
     "text": [
      "100%|████████████████████████████████████████████████████████████████████████████████| 214/214 [01:52<00:00,  1.91it/s]\n",
      "2022-05-12 10:44:39,517 INFO: Epoch:[022/500]\n",
      "2022-05-12 10:44:39,518 INFO: Train Loss:0.584 | Acc:0.8644 | F1:0.2504\n",
      "2022-05-12 10:44:49,395 INFO: val Loss:0.520 | Acc:0.8797 | F1:0.3199\n",
      "2022-05-12 10:44:51,328 INFO: -----------------SAVE:22epoch----------------\n"
     ]
    },
    {
     "name": "stdout",
     "output_type": "stream",
     "text": [
      "\n",
      "best epoch:22/loss:0.5195/f1:0.3199\n"
     ]
    },
    {
     "name": "stderr",
     "output_type": "stream",
     "text": [
      "100%|████████████████████████████████████████████████████████████████████████████████| 214/214 [01:52<00:00,  1.90it/s]\n",
      "2022-05-12 10:46:44,002 INFO: Epoch:[023/500]\n",
      "2022-05-12 10:46:44,002 INFO: Train Loss:0.551 | Acc:0.8714 | F1:0.2911\n",
      "2022-05-12 10:46:53,885 INFO: val Loss:0.497 | Acc:0.8808 | F1:0.3232\n",
      "2022-05-12 10:46:55,746 INFO: -----------------SAVE:23epoch----------------\n"
     ]
    },
    {
     "name": "stdout",
     "output_type": "stream",
     "text": [
      "\n",
      "best epoch:23/loss:0.4966/f1:0.3232\n"
     ]
    },
    {
     "name": "stderr",
     "output_type": "stream",
     "text": [
      "100%|████████████████████████████████████████████████████████████████████████████████| 214/214 [01:52<00:00,  1.91it/s]\n",
      "2022-05-12 10:48:47,997 INFO: Epoch:[024/500]\n",
      "2022-05-12 10:48:47,997 INFO: Train Loss:0.535 | Acc:0.8749 | F1:0.3163\n",
      "2022-05-12 10:48:57,914 INFO: val Loss:0.437 | Acc:0.8914 | F1:0.3716\n",
      "2022-05-12 10:48:59,802 INFO: -----------------SAVE:24epoch----------------\n"
     ]
    },
    {
     "name": "stdout",
     "output_type": "stream",
     "text": [
      "\n",
      "best epoch:24/loss:0.4375/f1:0.3716\n"
     ]
    },
    {
     "name": "stderr",
     "output_type": "stream",
     "text": [
      "100%|████████████████████████████████████████████████████████████████████████████████| 214/214 [01:52<00:00,  1.90it/s]\n",
      "2022-05-12 10:50:52,734 INFO: Epoch:[025/500]\n",
      "2022-05-12 10:50:52,734 INFO: Train Loss:0.491 | Acc:0.8851 | F1:0.3738\n",
      "2022-05-12 10:51:02,649 INFO: val Loss:0.433 | Acc:0.8937 | F1:0.3995\n",
      "2022-05-12 10:51:04,577 INFO: -----------------SAVE:25epoch----------------\n"
     ]
    },
    {
     "name": "stdout",
     "output_type": "stream",
     "text": [
      "\n",
      "best epoch:25/loss:0.4326/f1:0.3995\n"
     ]
    },
    {
     "name": "stderr",
     "output_type": "stream",
     "text": [
      "100%|████████████████████████████████████████████████████████████████████████████████| 214/214 [01:52<00:00,  1.90it/s]\n",
      "2022-05-12 10:52:56,976 INFO: Epoch:[026/500]\n",
      "2022-05-12 10:52:56,976 INFO: Train Loss:0.479 | Acc:0.8851 | F1:0.3771\n",
      "2022-05-12 10:53:06,921 INFO: val Loss:0.406 | Acc:0.9030 | F1:0.4664\n",
      "2022-05-12 10:53:08,867 INFO: -----------------SAVE:26epoch----------------\n"
     ]
    },
    {
     "name": "stdout",
     "output_type": "stream",
     "text": [
      "\n",
      "best epoch:26/loss:0.4062/f1:0.4664\n"
     ]
    },
    {
     "name": "stderr",
     "output_type": "stream",
     "text": [
      "100%|████████████████████████████████████████████████████████████████████████████████| 214/214 [01:52<00:00,  1.90it/s]\n",
      "2022-05-12 10:55:01,533 INFO: Epoch:[027/500]\n",
      "2022-05-12 10:55:01,533 INFO: Train Loss:0.447 | Acc:0.8962 | F1:0.4493\n",
      "2022-05-12 10:55:11,419 INFO: val Loss:0.380 | Acc:0.9054 | F1:0.4560\n",
      "2022-05-12 10:55:13,240 INFO: -----------------SAVE:27epoch----------------\n"
     ]
    },
    {
     "name": "stdout",
     "output_type": "stream",
     "text": [
      "\n",
      "best epoch:27/loss:0.3795/f1:0.4560\n"
     ]
    },
    {
     "name": "stderr",
     "output_type": "stream",
     "text": [
      "100%|████████████████████████████████████████████████████████████████████████████████| 214/214 [01:52<00:00,  1.90it/s]\n",
      "2022-05-12 10:57:05,716 INFO: Epoch:[028/500]\n",
      "2022-05-12 10:57:05,717 INFO: Train Loss:0.433 | Acc:0.8948 | F1:0.4479\n",
      "2022-05-12 10:57:15,622 INFO: val Loss:0.370 | Acc:0.9030 | F1:0.4602\n",
      "2022-05-12 10:57:17,525 INFO: -----------------SAVE:28epoch----------------\n"
     ]
    },
    {
     "name": "stdout",
     "output_type": "stream",
     "text": [
      "\n",
      "best epoch:28/loss:0.3698/f1:0.4602\n"
     ]
    },
    {
     "name": "stderr",
     "output_type": "stream",
     "text": [
      "100%|████████████████████████████████████████████████████████████████████████████████| 214/214 [01:52<00:00,  1.90it/s]\n",
      "2022-05-12 10:59:09,878 INFO: Epoch:[029/500]\n",
      "2022-05-12 10:59:09,879 INFO: Train Loss:0.398 | Acc:0.9030 | F1:0.4862\n",
      "2022-05-12 10:59:19,736 INFO: val Loss:0.348 | Acc:0.9100 | F1:0.4995\n",
      "2022-05-12 10:59:22,003 INFO: -----------------SAVE:29epoch----------------\n"
     ]
    },
    {
     "name": "stdout",
     "output_type": "stream",
     "text": [
      "\n",
      "best epoch:29/loss:0.3476/f1:0.4995\n"
     ]
    },
    {
     "name": "stderr",
     "output_type": "stream",
     "text": [
      "100%|████████████████████████████████████████████████████████████████████████████████| 214/214 [01:52<00:00,  1.91it/s]\n",
      "2022-05-12 11:01:14,198 INFO: Epoch:[030/500]\n",
      "2022-05-12 11:01:14,198 INFO: Train Loss:0.395 | Acc:0.9030 | F1:0.4892\n",
      "2022-05-12 11:01:24,097 INFO: val Loss:0.337 | Acc:0.9136 | F1:0.5258\n",
      "2022-05-12 11:01:26,141 INFO: -----------------SAVE:30epoch----------------\n"
     ]
    },
    {
     "name": "stdout",
     "output_type": "stream",
     "text": [
      "\n",
      "best epoch:30/loss:0.3370/f1:0.5258\n"
     ]
    },
    {
     "name": "stderr",
     "output_type": "stream",
     "text": [
      "100%|████████████████████████████████████████████████████████████████████████████████| 214/214 [01:52<00:00,  1.91it/s]\n",
      "2022-05-12 11:03:18,359 INFO: Epoch:[031/500]\n",
      "2022-05-12 11:03:18,359 INFO: Train Loss:0.368 | Acc:0.9068 | F1:0.5096\n",
      "2022-05-12 11:03:28,256 INFO: val Loss:0.309 | Acc:0.9159 | F1:0.5213\n",
      "2022-05-12 11:03:30,147 INFO: -----------------SAVE:31epoch----------------\n"
     ]
    },
    {
     "name": "stdout",
     "output_type": "stream",
     "text": [
      "\n",
      "best epoch:31/loss:0.3093/f1:0.5213\n"
     ]
    },
    {
     "name": "stderr",
     "output_type": "stream",
     "text": [
      "100%|████████████████████████████████████████████████████████████████████████████████| 214/214 [01:56<00:00,  1.83it/s]\n",
      "2022-05-12 11:05:27,101 INFO: Epoch:[032/500]\n",
      "2022-05-12 11:05:27,101 INFO: Train Loss:0.352 | Acc:0.9106 | F1:0.5428\n",
      "2022-05-12 11:05:37,871 INFO: val Loss:0.315 | Acc:0.9147 | F1:0.5216\n"
     ]
    },
    {
     "name": "stdout",
     "output_type": "stream",
     "text": [
      "\n",
      "best epoch:31/loss:0.3093/f1:0.5213\n"
     ]
    },
    {
     "name": "stderr",
     "output_type": "stream",
     "text": [
      "100%|████████████████████████████████████████████████████████████████████████████████| 214/214 [01:58<00:00,  1.81it/s]\n",
      "2022-05-12 11:07:36,425 INFO: Epoch:[033/500]\n",
      "2022-05-12 11:07:36,425 INFO: Train Loss:0.332 | Acc:0.9158 | F1:0.5527\n",
      "2022-05-12 11:07:47,165 INFO: val Loss:0.290 | Acc:0.9182 | F1:0.5432\n",
      "2022-05-12 11:07:49,190 INFO: -----------------SAVE:33epoch----------------\n"
     ]
    },
    {
     "name": "stdout",
     "output_type": "stream",
     "text": [
      "\n",
      "best epoch:33/loss:0.2898/f1:0.5432\n"
     ]
    },
    {
     "name": "stderr",
     "output_type": "stream",
     "text": [
      "100%|████████████████████████████████████████████████████████████████████████████████| 214/214 [01:58<00:00,  1.80it/s]\n",
      "2022-05-12 11:09:48,097 INFO: Epoch:[034/500]\n",
      "2022-05-12 11:09:48,098 INFO: Train Loss:0.316 | Acc:0.9184 | F1:0.5656\n",
      "2022-05-12 11:09:58,816 INFO: val Loss:0.265 | Acc:0.9217 | F1:0.5670\n",
      "2022-05-12 11:10:00,754 INFO: -----------------SAVE:34epoch----------------\n"
     ]
    },
    {
     "name": "stdout",
     "output_type": "stream",
     "text": [
      "\n",
      "best epoch:34/loss:0.2647/f1:0.5670\n"
     ]
    },
    {
     "name": "stderr",
     "output_type": "stream",
     "text": [
      "100%|████████████████████████████████████████████████████████████████████████████████| 214/214 [01:58<00:00,  1.81it/s]\n",
      "2022-05-12 11:11:59,295 INFO: Epoch:[035/500]\n",
      "2022-05-12 11:11:59,296 INFO: Train Loss:0.301 | Acc:0.9240 | F1:0.5975\n",
      "2022-05-12 11:12:10,123 INFO: val Loss:0.263 | Acc:0.9229 | F1:0.5716\n",
      "2022-05-12 11:12:12,035 INFO: -----------------SAVE:35epoch----------------\n"
     ]
    },
    {
     "name": "stdout",
     "output_type": "stream",
     "text": [
      "\n",
      "best epoch:35/loss:0.2629/f1:0.5716\n"
     ]
    },
    {
     "name": "stderr",
     "output_type": "stream",
     "text": [
      "100%|████████████████████████████████████████████████████████████████████████████████| 214/214 [01:58<00:00,  1.80it/s]\n",
      "2022-05-12 11:14:10,753 INFO: Epoch:[036/500]\n",
      "2022-05-12 11:14:10,753 INFO: Train Loss:0.295 | Acc:0.9202 | F1:0.5937\n",
      "2022-05-12 11:14:21,704 INFO: val Loss:0.262 | Acc:0.9229 | F1:0.5748\n",
      "2022-05-12 11:14:23,726 INFO: -----------------SAVE:36epoch----------------\n"
     ]
    },
    {
     "name": "stdout",
     "output_type": "stream",
     "text": [
      "\n",
      "best epoch:36/loss:0.2622/f1:0.5748\n"
     ]
    },
    {
     "name": "stderr",
     "output_type": "stream",
     "text": [
      "100%|████████████████████████████████████████████████████████████████████████████████| 214/214 [01:58<00:00,  1.80it/s]\n",
      "2022-05-12 11:16:22,370 INFO: Epoch:[037/500]\n",
      "2022-05-12 11:16:22,371 INFO: Train Loss:0.281 | Acc:0.9252 | F1:0.6144\n",
      "2022-05-12 11:16:33,087 INFO: val Loss:0.253 | Acc:0.9287 | F1:0.6211\n",
      "2022-05-12 11:16:35,070 INFO: -----------------SAVE:37epoch----------------\n"
     ]
    },
    {
     "name": "stdout",
     "output_type": "stream",
     "text": [
      "\n",
      "best epoch:37/loss:0.2529/f1:0.6211\n"
     ]
    },
    {
     "name": "stderr",
     "output_type": "stream",
     "text": [
      "100%|████████████████████████████████████████████████████████████████████████████████| 214/214 [01:58<00:00,  1.81it/s]\n",
      "2022-05-12 11:18:33,621 INFO: Epoch:[038/500]\n",
      "2022-05-12 11:18:33,621 INFO: Train Loss:0.263 | Acc:0.9287 | F1:0.6292\n",
      "2022-05-12 11:18:44,365 INFO: val Loss:0.223 | Acc:0.9322 | F1:0.6285\n",
      "2022-05-12 11:18:46,275 INFO: -----------------SAVE:38epoch----------------\n"
     ]
    },
    {
     "name": "stdout",
     "output_type": "stream",
     "text": [
      "\n",
      "best epoch:38/loss:0.2233/f1:0.6285\n"
     ]
    },
    {
     "name": "stderr",
     "output_type": "stream",
     "text": [
      "100%|████████████████████████████████████████████████████████████████████████████████| 214/214 [01:58<00:00,  1.80it/s]\n",
      "2022-05-12 11:20:45,188 INFO: Epoch:[039/500]\n",
      "2022-05-12 11:20:45,188 INFO: Train Loss:0.248 | Acc:0.9363 | F1:0.6731\n",
      "2022-05-12 11:20:55,897 INFO: val Loss:0.242 | Acc:0.9334 | F1:0.6467\n"
     ]
    },
    {
     "name": "stdout",
     "output_type": "stream",
     "text": [
      "\n",
      "best epoch:38/loss:0.2233/f1:0.6285\n"
     ]
    },
    {
     "name": "stderr",
     "output_type": "stream",
     "text": [
      "100%|████████████████████████████████████████████████████████████████████████████████| 214/214 [01:58<00:00,  1.81it/s]\n",
      "2022-05-12 11:22:54,241 INFO: Epoch:[040/500]\n",
      "2022-05-12 11:22:54,242 INFO: Train Loss:0.248 | Acc:0.9316 | F1:0.6750\n",
      "2022-05-12 11:23:05,069 INFO: val Loss:0.223 | Acc:0.9334 | F1:0.6142\n",
      "2022-05-12 11:23:07,070 INFO: -----------------SAVE:40epoch----------------\n"
     ]
    },
    {
     "name": "stdout",
     "output_type": "stream",
     "text": [
      "\n",
      "best epoch:40/loss:0.2230/f1:0.6142\n"
     ]
    },
    {
     "name": "stderr",
     "output_type": "stream",
     "text": [
      "100%|████████████████████████████████████████████████████████████████████████████████| 214/214 [01:59<00:00,  1.79it/s]\n",
      "2022-05-12 11:25:06,490 INFO: Epoch:[041/500]\n",
      "2022-05-12 11:25:06,491 INFO: Train Loss:0.231 | Acc:0.9383 | F1:0.6904\n",
      "2022-05-12 11:25:17,242 INFO: val Loss:0.206 | Acc:0.9369 | F1:0.6375\n",
      "2022-05-12 11:25:19,170 INFO: -----------------SAVE:41epoch----------------\n"
     ]
    },
    {
     "name": "stdout",
     "output_type": "stream",
     "text": [
      "\n",
      "best epoch:41/loss:0.2059/f1:0.6375\n"
     ]
    },
    {
     "name": "stderr",
     "output_type": "stream",
     "text": [
      "100%|████████████████████████████████████████████████████████████████████████████████| 214/214 [01:58<00:00,  1.81it/s]\n",
      "2022-05-12 11:27:17,485 INFO: Epoch:[042/500]\n",
      "2022-05-12 11:27:17,486 INFO: Train Loss:0.225 | Acc:0.9412 | F1:0.7140\n",
      "2022-05-12 11:27:28,235 INFO: val Loss:0.233 | Acc:0.9404 | F1:0.6687\n"
     ]
    },
    {
     "name": "stdout",
     "output_type": "stream",
     "text": [
      "\n",
      "best epoch:41/loss:0.2059/f1:0.6375\n"
     ]
    },
    {
     "name": "stderr",
     "output_type": "stream",
     "text": [
      "100%|████████████████████████████████████████████████████████████████████████████████| 214/214 [01:58<00:00,  1.81it/s]\n",
      "2022-05-12 11:29:26,683 INFO: Epoch:[043/500]\n",
      "2022-05-12 11:29:26,684 INFO: Train Loss:0.218 | Acc:0.9424 | F1:0.7207\n",
      "2022-05-12 11:29:37,437 INFO: val Loss:0.196 | Acc:0.9428 | F1:0.6920\n",
      "2022-05-12 11:29:39,378 INFO: -----------------SAVE:43epoch----------------\n"
     ]
    },
    {
     "name": "stdout",
     "output_type": "stream",
     "text": [
      "\n",
      "best epoch:43/loss:0.1963/f1:0.6920\n"
     ]
    },
    {
     "name": "stderr",
     "output_type": "stream",
     "text": [
      "100%|████████████████████████████████████████████████████████████████████████████████| 214/214 [01:58<00:00,  1.81it/s]\n",
      "2022-05-12 11:31:37,890 INFO: Epoch:[044/500]\n",
      "2022-05-12 11:31:37,891 INFO: Train Loss:0.196 | Acc:0.9494 | F1:0.7654\n",
      "2022-05-12 11:31:48,523 INFO: val Loss:0.214 | Acc:0.9393 | F1:0.6740\n"
     ]
    },
    {
     "name": "stdout",
     "output_type": "stream",
     "text": [
      "\n",
      "best epoch:43/loss:0.1963/f1:0.6920\n"
     ]
    },
    {
     "name": "stderr",
     "output_type": "stream",
     "text": [
      "100%|████████████████████████████████████████████████████████████████████████████████| 214/214 [01:58<00:00,  1.81it/s]\n",
      "2022-05-12 11:33:46,991 INFO: Epoch:[045/500]\n",
      "2022-05-12 11:33:46,991 INFO: Train Loss:0.205 | Acc:0.9445 | F1:0.7297\n",
      "2022-05-12 11:33:57,669 INFO: val Loss:0.189 | Acc:0.9439 | F1:0.6772\n",
      "2022-05-12 11:33:59,537 INFO: -----------------SAVE:45epoch----------------\n"
     ]
    },
    {
     "name": "stdout",
     "output_type": "stream",
     "text": [
      "\n",
      "best epoch:45/loss:0.1895/f1:0.6772\n"
     ]
    },
    {
     "name": "stderr",
     "output_type": "stream",
     "text": [
      "100%|████████████████████████████████████████████████████████████████████████████████| 214/214 [01:58<00:00,  1.80it/s]\n",
      "2022-05-12 11:35:58,451 INFO: Epoch:[046/500]\n",
      "2022-05-12 11:35:58,452 INFO: Train Loss:0.204 | Acc:0.9430 | F1:0.7344\n",
      "2022-05-12 11:36:09,372 INFO: val Loss:0.197 | Acc:0.9474 | F1:0.7230\n"
     ]
    },
    {
     "name": "stdout",
     "output_type": "stream",
     "text": [
      "\n",
      "best epoch:45/loss:0.1895/f1:0.6772\n"
     ]
    },
    {
     "name": "stderr",
     "output_type": "stream",
     "text": [
      "100%|████████████████████████████████████████████████████████████████████████████████| 214/214 [01:58<00:00,  1.80it/s]\n",
      "2022-05-12 11:38:08,306 INFO: Epoch:[047/500]\n",
      "2022-05-12 11:38:08,306 INFO: Train Loss:0.189 | Acc:0.9494 | F1:0.7658\n",
      "2022-05-12 11:38:19,009 INFO: val Loss:0.212 | Acc:0.9357 | F1:0.7118\n"
     ]
    },
    {
     "name": "stdout",
     "output_type": "stream",
     "text": [
      "\n",
      "best epoch:45/loss:0.1895/f1:0.6772\n"
     ]
    },
    {
     "name": "stderr",
     "output_type": "stream",
     "text": [
      "100%|████████████████████████████████████████████████████████████████████████████████| 214/214 [01:58<00:00,  1.81it/s]\n",
      "2022-05-12 11:40:17,535 INFO: Epoch:[048/500]\n",
      "2022-05-12 11:40:17,535 INFO: Train Loss:0.203 | Acc:0.9491 | F1:0.7876\n",
      "2022-05-12 11:40:28,236 INFO: val Loss:0.194 | Acc:0.9451 | F1:0.6814\n"
     ]
    },
    {
     "name": "stdout",
     "output_type": "stream",
     "text": [
      "\n",
      "best epoch:45/loss:0.1895/f1:0.6772\n"
     ]
    },
    {
     "name": "stderr",
     "output_type": "stream",
     "text": [
      "100%|████████████████████████████████████████████████████████████████████████████████| 214/214 [01:58<00:00,  1.81it/s]\n",
      "2022-05-12 11:42:26,596 INFO: Epoch:[049/500]\n",
      "2022-05-12 11:42:26,596 INFO: Train Loss:0.183 | Acc:0.9512 | F1:0.7905\n",
      "2022-05-12 11:42:37,301 INFO: val Loss:0.214 | Acc:0.9463 | F1:0.7329\n"
     ]
    },
    {
     "name": "stdout",
     "output_type": "stream",
     "text": [
      "\n",
      "best epoch:45/loss:0.1895/f1:0.6772\n"
     ]
    },
    {
     "name": "stderr",
     "output_type": "stream",
     "text": [
      "100%|████████████████████████████████████████████████████████████████████████████████| 214/214 [01:58<00:00,  1.81it/s]\n",
      "2022-05-12 11:44:35,730 INFO: Epoch:[050/500]\n",
      "2022-05-12 11:44:35,730 INFO: Train Loss:0.181 | Acc:0.9518 | F1:0.7853\n",
      "2022-05-12 11:44:46,448 INFO: val Loss:0.219 | Acc:0.9416 | F1:0.7119\n"
     ]
    },
    {
     "name": "stdout",
     "output_type": "stream",
     "text": [
      "\n",
      "best epoch:45/loss:0.1895/f1:0.6772\n"
     ]
    },
    {
     "name": "stderr",
     "output_type": "stream",
     "text": [
      "100%|████████████████████████████████████████████████████████████████████████████████| 214/214 [01:58<00:00,  1.81it/s]\n",
      "2022-05-12 11:46:44,892 INFO: Epoch:[051/500]\n",
      "2022-05-12 11:46:44,892 INFO: Train Loss:0.174 | Acc:0.9544 | F1:0.8010\n",
      "2022-05-12 11:46:55,642 INFO: val Loss:0.216 | Acc:0.9451 | F1:0.6952\n"
     ]
    },
    {
     "name": "stdout",
     "output_type": "stream",
     "text": [
      "\n",
      "best epoch:45/loss:0.1895/f1:0.6772\n"
     ]
    },
    {
     "name": "stderr",
     "output_type": "stream",
     "text": [
      "100%|████████████████████████████████████████████████████████████████████████████████| 214/214 [01:58<00:00,  1.80it/s]\n",
      "2022-05-12 11:48:54,240 INFO: Epoch:[052/500]\n",
      "2022-05-12 11:48:54,241 INFO: Train Loss:0.178 | Acc:0.9529 | F1:0.7928\n",
      "2022-05-12 11:49:05,036 INFO: val Loss:0.153 | Acc:0.9591 | F1:0.7810\n",
      "2022-05-12 11:49:07,017 INFO: -----------------SAVE:52epoch----------------\n"
     ]
    },
    {
     "name": "stdout",
     "output_type": "stream",
     "text": [
      "\n",
      "best epoch:52/loss:0.1529/f1:0.7810\n"
     ]
    },
    {
     "name": "stderr",
     "output_type": "stream",
     "text": [
      "100%|████████████████████████████████████████████████████████████████████████████████| 214/214 [01:58<00:00,  1.80it/s]\n",
      "2022-05-12 11:51:05,683 INFO: Epoch:[053/500]\n",
      "2022-05-12 11:51:05,684 INFO: Train Loss:0.179 | Acc:0.9550 | F1:0.8056\n",
      "2022-05-12 11:51:16,406 INFO: val Loss:0.160 | Acc:0.9544 | F1:0.7341\n"
     ]
    },
    {
     "name": "stdout",
     "output_type": "stream",
     "text": [
      "\n",
      "best epoch:52/loss:0.1529/f1:0.7810\n"
     ]
    },
    {
     "name": "stderr",
     "output_type": "stream",
     "text": [
      "100%|████████████████████████████████████████████████████████████████████████████████| 214/214 [01:58<00:00,  1.81it/s]\n",
      "2022-05-12 11:53:14,690 INFO: Epoch:[054/500]\n",
      "2022-05-12 11:53:14,690 INFO: Train Loss:0.161 | Acc:0.9556 | F1:0.7949\n",
      "2022-05-12 11:53:25,470 INFO: val Loss:0.151 | Acc:0.9533 | F1:0.7483\n",
      "2022-05-12 11:53:27,480 INFO: -----------------SAVE:54epoch----------------\n"
     ]
    },
    {
     "name": "stdout",
     "output_type": "stream",
     "text": [
      "\n",
      "best epoch:54/loss:0.1514/f1:0.7483\n"
     ]
    },
    {
     "name": "stderr",
     "output_type": "stream",
     "text": [
      "100%|████████████████████████████████████████████████████████████████████████████████| 214/214 [01:58<00:00,  1.80it/s]\n",
      "2022-05-12 11:55:26,308 INFO: Epoch:[055/500]\n",
      "2022-05-12 11:55:26,308 INFO: Train Loss:0.156 | Acc:0.9585 | F1:0.8187\n",
      "2022-05-12 11:55:37,043 INFO: val Loss:0.145 | Acc:0.9579 | F1:0.7562\n",
      "2022-05-12 11:55:38,928 INFO: -----------------SAVE:55epoch----------------\n"
     ]
    },
    {
     "name": "stdout",
     "output_type": "stream",
     "text": [
      "\n",
      "best epoch:55/loss:0.1449/f1:0.7562\n"
     ]
    },
    {
     "name": "stderr",
     "output_type": "stream",
     "text": [
      "100%|████████████████████████████████████████████████████████████████████████████████| 214/214 [01:58<00:00,  1.80it/s]\n",
      "2022-05-12 11:57:37,565 INFO: Epoch:[056/500]\n",
      "2022-05-12 11:57:37,566 INFO: Train Loss:0.161 | Acc:0.9538 | F1:0.7908\n",
      "2022-05-12 11:57:48,286 INFO: val Loss:0.174 | Acc:0.9521 | F1:0.7295\n"
     ]
    },
    {
     "name": "stdout",
     "output_type": "stream",
     "text": [
      "\n",
      "best epoch:55/loss:0.1449/f1:0.7562\n"
     ]
    },
    {
     "name": "stderr",
     "output_type": "stream",
     "text": [
      "100%|████████████████████████████████████████████████████████████████████████████████| 214/214 [01:58<00:00,  1.80it/s]\n",
      "2022-05-12 11:59:46,912 INFO: Epoch:[057/500]\n",
      "2022-05-12 11:59:46,912 INFO: Train Loss:0.161 | Acc:0.9553 | F1:0.8090\n",
      "2022-05-12 11:59:57,620 INFO: val Loss:0.172 | Acc:0.9474 | F1:0.7202\n"
     ]
    },
    {
     "name": "stdout",
     "output_type": "stream",
     "text": [
      "\n",
      "best epoch:55/loss:0.1449/f1:0.7562\n"
     ]
    },
    {
     "name": "stderr",
     "output_type": "stream",
     "text": [
      "100%|████████████████████████████████████████████████████████████████████████████████| 214/214 [01:58<00:00,  1.81it/s]\n",
      "2022-05-12 12:01:55,832 INFO: Epoch:[058/500]\n",
      "2022-05-12 12:01:55,833 INFO: Train Loss:0.142 | Acc:0.9611 | F1:0.8375\n",
      "2022-05-12 12:02:06,615 INFO: val Loss:0.212 | Acc:0.9439 | F1:0.6969\n"
     ]
    },
    {
     "name": "stdout",
     "output_type": "stream",
     "text": [
      "\n",
      "best epoch:55/loss:0.1449/f1:0.7562\n"
     ]
    },
    {
     "name": "stderr",
     "output_type": "stream",
     "text": [
      "100%|████████████████████████████████████████████████████████████████████████████████| 214/214 [01:58<00:00,  1.81it/s]\n",
      "2022-05-12 12:04:05,162 INFO: Epoch:[059/500]\n",
      "2022-05-12 12:04:05,162 INFO: Train Loss:0.147 | Acc:0.9597 | F1:0.8337\n",
      "2022-05-12 12:04:15,878 INFO: val Loss:0.162 | Acc:0.9509 | F1:0.7233\n"
     ]
    },
    {
     "name": "stdout",
     "output_type": "stream",
     "text": [
      "\n",
      "best epoch:55/loss:0.1449/f1:0.7562\n"
     ]
    },
    {
     "name": "stderr",
     "output_type": "stream",
     "text": [
      "100%|████████████████████████████████████████████████████████████████████████████████| 214/214 [01:58<00:00,  1.81it/s]\n",
      "2022-05-12 12:06:14,193 INFO: Epoch:[060/500]\n",
      "2022-05-12 12:06:14,194 INFO: Train Loss:0.147 | Acc:0.9608 | F1:0.8263\n",
      "2022-05-12 12:06:24,855 INFO: val Loss:0.159 | Acc:0.9521 | F1:0.7203\n"
     ]
    },
    {
     "name": "stdout",
     "output_type": "stream",
     "text": [
      "\n",
      "best epoch:55/loss:0.1449/f1:0.7562\n"
     ]
    },
    {
     "name": "stderr",
     "output_type": "stream",
     "text": [
      "100%|████████████████████████████████████████████████████████████████████████████████| 214/214 [01:58<00:00,  1.81it/s]\n",
      "2022-05-12 12:08:22,969 INFO: Epoch:[061/500]\n",
      "2022-05-12 12:08:22,970 INFO: Train Loss:0.137 | Acc:0.9611 | F1:0.8235\n",
      "2022-05-12 12:08:33,703 INFO: val Loss:0.148 | Acc:0.9544 | F1:0.7578\n"
     ]
    },
    {
     "name": "stdout",
     "output_type": "stream",
     "text": [
      "\n",
      "best epoch:55/loss:0.1449/f1:0.7562\n"
     ]
    },
    {
     "name": "stderr",
     "output_type": "stream",
     "text": [
      "100%|████████████████████████████████████████████████████████████████████████████████| 214/214 [01:58<00:00,  1.80it/s]\n",
      "2022-05-12 12:10:32,502 INFO: Epoch:[062/500]\n",
      "2022-05-12 12:10:32,503 INFO: Train Loss:0.147 | Acc:0.9608 | F1:0.8426\n",
      "2022-05-12 12:10:43,319 INFO: val Loss:0.213 | Acc:0.9428 | F1:0.7540\n"
     ]
    },
    {
     "name": "stdout",
     "output_type": "stream",
     "text": [
      "\n",
      "best epoch:55/loss:0.1449/f1:0.7562\n"
     ]
    },
    {
     "name": "stderr",
     "output_type": "stream",
     "text": [
      "100%|████████████████████████████████████████████████████████████████████████████████| 214/214 [01:58<00:00,  1.80it/s]\n",
      "2022-05-12 12:12:42,049 INFO: Epoch:[063/500]\n",
      "2022-05-12 12:12:42,049 INFO: Train Loss:0.137 | Acc:0.9605 | F1:0.8400\n",
      "2022-05-12 12:12:52,781 INFO: val Loss:0.185 | Acc:0.9486 | F1:0.7179\n"
     ]
    },
    {
     "name": "stdout",
     "output_type": "stream",
     "text": [
      "\n",
      "best epoch:55/loss:0.1449/f1:0.7562\n"
     ]
    },
    {
     "name": "stderr",
     "output_type": "stream",
     "text": [
      "100%|████████████████████████████████████████████████████████████████████████████████| 214/214 [01:58<00:00,  1.80it/s]\n",
      "2022-05-12 12:14:51,670 INFO: Epoch:[064/500]\n",
      "2022-05-12 12:14:51,671 INFO: Train Loss:0.131 | Acc:0.9638 | F1:0.8492\n",
      "2022-05-12 12:15:02,668 INFO: val Loss:0.170 | Acc:0.9591 | F1:0.8144\n"
     ]
    },
    {
     "name": "stdout",
     "output_type": "stream",
     "text": [
      "\n",
      "best epoch:55/loss:0.1449/f1:0.7562\n"
     ]
    },
    {
     "name": "stderr",
     "output_type": "stream",
     "text": [
      "100%|████████████████████████████████████████████████████████████████████████████████| 214/214 [01:58<00:00,  1.80it/s]\n",
      "2022-05-12 12:17:01,638 INFO: Epoch:[065/500]\n",
      "2022-05-12 12:17:01,639 INFO: Train Loss:0.158 | Acc:0.9582 | F1:0.8217\n",
      "2022-05-12 12:17:12,381 INFO: val Loss:0.158 | Acc:0.9626 | F1:0.8263\n"
     ]
    },
    {
     "name": "stdout",
     "output_type": "stream",
     "text": [
      "\n",
      "best epoch:55/loss:0.1449/f1:0.7562\n"
     ]
    },
    {
     "name": "stderr",
     "output_type": "stream",
     "text": [
      "100%|████████████████████████████████████████████████████████████████████████████████| 214/214 [01:58<00:00,  1.81it/s]\n",
      "2022-05-12 12:19:10,715 INFO: Epoch:[066/500]\n",
      "2022-05-12 12:19:10,715 INFO: Train Loss:0.138 | Acc:0.9629 | F1:0.8533\n",
      "2022-05-12 12:19:21,434 INFO: val Loss:0.154 | Acc:0.9650 | F1:0.8265\n"
     ]
    },
    {
     "name": "stdout",
     "output_type": "stream",
     "text": [
      "\n",
      "best epoch:55/loss:0.1449/f1:0.7562\n"
     ]
    },
    {
     "name": "stderr",
     "output_type": "stream",
     "text": [
      "100%|████████████████████████████████████████████████████████████████████████████████| 214/214 [01:58<00:00,  1.80it/s]\n",
      "2022-05-12 12:21:20,174 INFO: Epoch:[067/500]\n",
      "2022-05-12 12:21:20,174 INFO: Train Loss:0.139 | Acc:0.9623 | F1:0.8412\n",
      "2022-05-12 12:21:30,886 INFO: val Loss:0.159 | Acc:0.9591 | F1:0.7859\n"
     ]
    },
    {
     "name": "stdout",
     "output_type": "stream",
     "text": [
      "\n",
      "best epoch:55/loss:0.1449/f1:0.7562\n"
     ]
    },
    {
     "name": "stderr",
     "output_type": "stream",
     "text": [
      "100%|████████████████████████████████████████████████████████████████████████████████| 214/214 [01:58<00:00,  1.80it/s]\n",
      "2022-05-12 12:23:29,483 INFO: Epoch:[068/500]\n",
      "2022-05-12 12:23:29,483 INFO: Train Loss:0.142 | Acc:0.9620 | F1:0.8393\n",
      "2022-05-12 12:23:40,224 INFO: val Loss:0.177 | Acc:0.9556 | F1:0.7863\n"
     ]
    },
    {
     "name": "stdout",
     "output_type": "stream",
     "text": [
      "\n",
      "best epoch:55/loss:0.1449/f1:0.7562\n"
     ]
    },
    {
     "name": "stderr",
     "output_type": "stream",
     "text": [
      "100%|████████████████████████████████████████████████████████████████████████████████| 214/214 [01:58<00:00,  1.81it/s]\n",
      "2022-05-12 12:25:38,707 INFO: Epoch:[069/500]\n",
      "2022-05-12 12:25:38,707 INFO: Train Loss:0.141 | Acc:0.9640 | F1:0.8514\n",
      "2022-05-12 12:25:49,415 INFO: val Loss:0.166 | Acc:0.9556 | F1:0.7705\n"
     ]
    },
    {
     "name": "stdout",
     "output_type": "stream",
     "text": [
      "\n",
      "best epoch:55/loss:0.1449/f1:0.7562\n"
     ]
    },
    {
     "name": "stderr",
     "output_type": "stream",
     "text": [
      "100%|████████████████████████████████████████████████████████████████████████████████| 214/214 [01:58<00:00,  1.80it/s]\n",
      "2022-05-12 12:27:48,171 INFO: Epoch:[070/500]\n",
      "2022-05-12 12:27:48,171 INFO: Train Loss:0.141 | Acc:0.9614 | F1:0.8615\n",
      "2022-05-12 12:27:58,899 INFO: val Loss:0.181 | Acc:0.9533 | F1:0.7779\n"
     ]
    },
    {
     "name": "stdout",
     "output_type": "stream",
     "text": [
      "\n",
      "best epoch:55/loss:0.1449/f1:0.7562\n"
     ]
    },
    {
     "name": "stderr",
     "output_type": "stream",
     "text": [
      "100%|████████████████████████████████████████████████████████████████████████████████| 214/214 [01:58<00:00,  1.81it/s]\n",
      "2022-05-12 12:29:57,412 INFO: Epoch:[071/500]\n",
      "2022-05-12 12:29:57,413 INFO: Train Loss:0.138 | Acc:0.9649 | F1:0.8567\n",
      "2022-05-12 12:30:08,181 INFO: val Loss:0.147 | Acc:0.9626 | F1:0.7967\n"
     ]
    },
    {
     "name": "stdout",
     "output_type": "stream",
     "text": [
      "\n",
      "best epoch:55/loss:0.1449/f1:0.7562\n"
     ]
    },
    {
     "name": "stderr",
     "output_type": "stream",
     "text": [
      "100%|████████████████████████████████████████████████████████████████████████████████| 214/214 [01:58<00:00,  1.81it/s]\n",
      "2022-05-12 12:32:06,649 INFO: Epoch:[072/500]\n",
      "2022-05-12 12:32:06,649 INFO: Train Loss:0.128 | Acc:0.9670 | F1:0.8607\n",
      "2022-05-12 12:32:17,356 INFO: val Loss:0.151 | Acc:0.9661 | F1:0.8314\n"
     ]
    },
    {
     "name": "stdout",
     "output_type": "stream",
     "text": [
      "\n",
      "best epoch:55/loss:0.1449/f1:0.7562\n"
     ]
    },
    {
     "name": "stderr",
     "output_type": "stream",
     "text": [
      "100%|████████████████████████████████████████████████████████████████████████████████| 214/214 [01:58<00:00,  1.80it/s]\n",
      "2022-05-12 12:34:15,923 INFO: Epoch:[073/500]\n",
      "2022-05-12 12:34:15,923 INFO: Train Loss:0.148 | Acc:0.9626 | F1:0.8414\n",
      "2022-05-12 12:34:26,684 INFO: val Loss:0.188 | Acc:0.9521 | F1:0.7662\n"
     ]
    },
    {
     "name": "stdout",
     "output_type": "stream",
     "text": [
      "\n",
      "best epoch:55/loss:0.1449/f1:0.7562\n"
     ]
    },
    {
     "name": "stderr",
     "output_type": "stream",
     "text": [
      "100%|████████████████████████████████████████████████████████████████████████████████| 214/214 [01:58<00:00,  1.81it/s]\n",
      "2022-05-12 12:36:25,192 INFO: Epoch:[074/500]\n",
      "2022-05-12 12:36:25,192 INFO: Train Loss:0.123 | Acc:0.9643 | F1:0.8672\n",
      "2022-05-12 12:36:35,920 INFO: val Loss:0.164 | Acc:0.9603 | F1:0.7944\n"
     ]
    },
    {
     "name": "stdout",
     "output_type": "stream",
     "text": [
      "\n",
      "best epoch:55/loss:0.1449/f1:0.7562\n"
     ]
    },
    {
     "name": "stderr",
     "output_type": "stream",
     "text": [
      "100%|████████████████████████████████████████████████████████████████████████████████| 214/214 [01:58<00:00,  1.81it/s]\n",
      "2022-05-12 12:38:34,212 INFO: Epoch:[075/500]\n",
      "2022-05-12 12:38:34,213 INFO: Train Loss:0.131 | Acc:0.9611 | F1:0.8472\n",
      "2022-05-12 12:38:44,867 INFO: val Loss:0.177 | Acc:0.9568 | F1:0.8015\n"
     ]
    },
    {
     "name": "stdout",
     "output_type": "stream",
     "text": [
      "\n",
      "best epoch:55/loss:0.1449/f1:0.7562\n"
     ]
    },
    {
     "name": "stderr",
     "output_type": "stream",
     "text": [
      "100%|████████████████████████████████████████████████████████████████████████████████| 214/214 [01:58<00:00,  1.81it/s]\n",
      "2022-05-12 12:40:43,307 INFO: Epoch:[076/500]\n",
      "2022-05-12 12:40:43,308 INFO: Train Loss:0.134 | Acc:0.9649 | F1:0.8666\n",
      "2022-05-12 12:40:53,957 INFO: val Loss:0.146 | Acc:0.9626 | F1:0.7854\n"
     ]
    },
    {
     "name": "stdout",
     "output_type": "stream",
     "text": [
      "\n",
      "best epoch:55/loss:0.1449/f1:0.7562\n"
     ]
    },
    {
     "name": "stderr",
     "output_type": "stream",
     "text": [
      "100%|████████████████████████████████████████████████████████████████████████████████| 214/214 [01:58<00:00,  1.81it/s]\n",
      "2022-05-12 12:42:52,117 INFO: Epoch:[077/500]\n",
      "2022-05-12 12:42:52,118 INFO: Train Loss:0.118 | Acc:0.9652 | F1:0.8649\n",
      "2022-05-12 12:43:02,886 INFO: val Loss:0.137 | Acc:0.9696 | F1:0.8319\n",
      "2022-05-12 12:43:04,886 INFO: -----------------SAVE:77epoch----------------\n"
     ]
    },
    {
     "name": "stdout",
     "output_type": "stream",
     "text": [
      "\n",
      "best epoch:77/loss:0.1366/f1:0.8319\n"
     ]
    },
    {
     "name": "stderr",
     "output_type": "stream",
     "text": [
      "100%|████████████████████████████████████████████████████████████████████████████████| 214/214 [01:58<00:00,  1.80it/s]\n",
      "2022-05-12 12:45:03,641 INFO: Epoch:[078/500]\n",
      "2022-05-12 12:45:03,642 INFO: Train Loss:0.119 | Acc:0.9678 | F1:0.8607\n",
      "2022-05-12 12:45:14,437 INFO: val Loss:0.157 | Acc:0.9603 | F1:0.7964\n"
     ]
    },
    {
     "name": "stdout",
     "output_type": "stream",
     "text": [
      "\n",
      "best epoch:77/loss:0.1366/f1:0.8319\n"
     ]
    },
    {
     "name": "stderr",
     "output_type": "stream",
     "text": [
      "100%|████████████████████████████████████████████████████████████████████████████████| 214/214 [01:58<00:00,  1.80it/s]\n",
      "2022-05-12 12:47:13,337 INFO: Epoch:[079/500]\n",
      "2022-05-12 12:47:13,337 INFO: Train Loss:0.130 | Acc:0.9635 | F1:0.8498\n",
      "2022-05-12 12:47:24,008 INFO: val Loss:0.163 | Acc:0.9579 | F1:0.7660\n"
     ]
    },
    {
     "name": "stdout",
     "output_type": "stream",
     "text": [
      "\n",
      "best epoch:77/loss:0.1366/f1:0.8319\n"
     ]
    },
    {
     "name": "stderr",
     "output_type": "stream",
     "text": [
      "100%|████████████████████████████████████████████████████████████████████████████████| 214/214 [01:58<00:00,  1.81it/s]\n",
      "2022-05-12 12:49:22,201 INFO: Epoch:[080/500]\n",
      "2022-05-12 12:49:22,201 INFO: Train Loss:0.142 | Acc:0.9643 | F1:0.8604\n",
      "2022-05-12 12:49:32,922 INFO: val Loss:0.167 | Acc:0.9568 | F1:0.7594\n"
     ]
    },
    {
     "name": "stdout",
     "output_type": "stream",
     "text": [
      "\n",
      "best epoch:77/loss:0.1366/f1:0.8319\n"
     ]
    },
    {
     "name": "stderr",
     "output_type": "stream",
     "text": [
      "100%|████████████████████████████████████████████████████████████████████████████████| 214/214 [01:58<00:00,  1.80it/s]\n",
      "2022-05-12 12:51:31,666 INFO: Epoch:[081/500]\n",
      "2022-05-12 12:51:31,666 INFO: Train Loss:0.120 | Acc:0.9687 | F1:0.8655\n",
      "2022-05-12 12:51:42,367 INFO: val Loss:0.165 | Acc:0.9626 | F1:0.8052\n"
     ]
    },
    {
     "name": "stdout",
     "output_type": "stream",
     "text": [
      "\n",
      "best epoch:77/loss:0.1366/f1:0.8319\n"
     ]
    },
    {
     "name": "stderr",
     "output_type": "stream",
     "text": [
      "100%|████████████████████████████████████████████████████████████████████████████████| 214/214 [01:58<00:00,  1.80it/s]\n",
      "2022-05-12 12:53:41,082 INFO: Epoch:[082/500]\n",
      "2022-05-12 12:53:41,082 INFO: Train Loss:0.120 | Acc:0.9676 | F1:0.8688\n",
      "2022-05-12 12:53:51,784 INFO: val Loss:0.131 | Acc:0.9685 | F1:0.8494\n",
      "2022-05-12 12:53:53,738 INFO: -----------------SAVE:82epoch----------------\n"
     ]
    },
    {
     "name": "stdout",
     "output_type": "stream",
     "text": [
      "\n",
      "best epoch:82/loss:0.1311/f1:0.8494\n"
     ]
    },
    {
     "name": "stderr",
     "output_type": "stream",
     "text": [
      "100%|████████████████████████████████████████████████████████████████████████████████| 214/214 [01:58<00:00,  1.80it/s]\n",
      "2022-05-12 12:55:52,469 INFO: Epoch:[083/500]\n",
      "2022-05-12 12:55:52,469 INFO: Train Loss:0.124 | Acc:0.9652 | F1:0.8641\n",
      "2022-05-12 12:56:03,209 INFO: val Loss:0.186 | Acc:0.9498 | F1:0.7962\n"
     ]
    },
    {
     "name": "stdout",
     "output_type": "stream",
     "text": [
      "\n",
      "best epoch:82/loss:0.1311/f1:0.8494\n"
     ]
    },
    {
     "name": "stderr",
     "output_type": "stream",
     "text": [
      "100%|████████████████████████████████████████████████████████████████████████████████| 214/214 [01:58<00:00,  1.81it/s]\n",
      "2022-05-12 12:58:01,657 INFO: Epoch:[084/500]\n",
      "2022-05-12 12:58:01,658 INFO: Train Loss:0.119 | Acc:0.9658 | F1:0.8673\n",
      "2022-05-12 12:58:12,386 INFO: val Loss:0.118 | Acc:0.9650 | F1:0.8159\n",
      "2022-05-12 12:58:14,305 INFO: -----------------SAVE:84epoch----------------\n"
     ]
    },
    {
     "name": "stdout",
     "output_type": "stream",
     "text": [
      "\n",
      "best epoch:84/loss:0.1179/f1:0.8159\n"
     ]
    },
    {
     "name": "stderr",
     "output_type": "stream",
     "text": [
      "100%|████████████████████████████████████████████████████████████████████████████████| 214/214 [01:58<00:00,  1.80it/s]\n",
      "2022-05-12 13:00:12,917 INFO: Epoch:[085/500]\n",
      "2022-05-12 13:00:12,917 INFO: Train Loss:0.129 | Acc:0.9658 | F1:0.8695\n",
      "2022-05-12 13:00:23,634 INFO: val Loss:0.153 | Acc:0.9614 | F1:0.7993\n"
     ]
    },
    {
     "name": "stdout",
     "output_type": "stream",
     "text": [
      "\n",
      "best epoch:84/loss:0.1179/f1:0.8159\n"
     ]
    },
    {
     "name": "stderr",
     "output_type": "stream",
     "text": [
      "100%|████████████████████████████████████████████████████████████████████████████████| 214/214 [01:58<00:00,  1.81it/s]\n",
      "2022-05-12 13:02:22,196 INFO: Epoch:[086/500]\n",
      "2022-05-12 13:02:22,196 INFO: Train Loss:0.136 | Acc:0.9640 | F1:0.8688\n",
      "2022-05-12 13:02:32,895 INFO: val Loss:0.132 | Acc:0.9603 | F1:0.8076\n"
     ]
    },
    {
     "name": "stdout",
     "output_type": "stream",
     "text": [
      "\n",
      "best epoch:84/loss:0.1179/f1:0.8159\n"
     ]
    },
    {
     "name": "stderr",
     "output_type": "stream",
     "text": [
      "100%|████████████████████████████████████████████████████████████████████████████████| 214/214 [01:58<00:00,  1.80it/s]\n",
      "2022-05-12 13:04:31,667 INFO: Epoch:[087/500]\n",
      "2022-05-12 13:04:31,667 INFO: Train Loss:0.116 | Acc:0.9696 | F1:0.8807\n",
      "2022-05-12 13:04:42,386 INFO: val Loss:0.170 | Acc:0.9638 | F1:0.8099\n"
     ]
    },
    {
     "name": "stdout",
     "output_type": "stream",
     "text": [
      "\n",
      "best epoch:84/loss:0.1179/f1:0.8159\n"
     ]
    },
    {
     "name": "stderr",
     "output_type": "stream",
     "text": [
      "100%|████████████████████████████████████████████████████████████████████████████████| 214/214 [01:58<00:00,  1.81it/s]\n",
      "2022-05-12 13:06:40,824 INFO: Epoch:[088/500]\n",
      "2022-05-12 13:06:40,824 INFO: Train Loss:0.118 | Acc:0.9655 | F1:0.8688\n",
      "2022-05-12 13:06:51,496 INFO: val Loss:0.172 | Acc:0.9603 | F1:0.8169\n"
     ]
    },
    {
     "name": "stdout",
     "output_type": "stream",
     "text": [
      "\n",
      "best epoch:84/loss:0.1179/f1:0.8159\n"
     ]
    },
    {
     "name": "stderr",
     "output_type": "stream",
     "text": [
      "100%|████████████████████████████████████████████████████████████████████████████████| 214/214 [01:58<00:00,  1.81it/s]\n",
      "2022-05-12 13:08:49,970 INFO: Epoch:[089/500]\n",
      "2022-05-12 13:08:49,971 INFO: Train Loss:0.116 | Acc:0.9716 | F1:0.8937\n",
      "2022-05-12 13:09:00,660 INFO: val Loss:0.166 | Acc:0.9544 | F1:0.7982\n"
     ]
    },
    {
     "name": "stdout",
     "output_type": "stream",
     "text": [
      "\n",
      "best epoch:84/loss:0.1179/f1:0.8159\n"
     ]
    },
    {
     "name": "stderr",
     "output_type": "stream",
     "text": [
      "100%|████████████████████████████████████████████████████████████████████████████████| 214/214 [01:58<00:00,  1.81it/s]\n",
      "2022-05-12 13:10:59,074 INFO: Epoch:[090/500]\n",
      "2022-05-12 13:10:59,074 INFO: Train Loss:0.116 | Acc:0.9711 | F1:0.8919\n",
      "2022-05-12 13:11:09,839 INFO: val Loss:0.149 | Acc:0.9614 | F1:0.8101\n"
     ]
    },
    {
     "name": "stdout",
     "output_type": "stream",
     "text": [
      "\n",
      "best epoch:84/loss:0.1179/f1:0.8159\n"
     ]
    },
    {
     "name": "stderr",
     "output_type": "stream",
     "text": [
      "100%|████████████████████████████████████████████████████████████████████████████████| 214/214 [01:58<00:00,  1.80it/s]\n",
      "2022-05-12 13:13:08,425 INFO: Epoch:[091/500]\n",
      "2022-05-12 13:13:08,425 INFO: Train Loss:0.135 | Acc:0.9640 | F1:0.8587\n",
      "2022-05-12 13:13:19,117 INFO: val Loss:0.215 | Acc:0.9381 | F1:0.7435\n"
     ]
    },
    {
     "name": "stdout",
     "output_type": "stream",
     "text": [
      "\n",
      "best epoch:84/loss:0.1179/f1:0.8159\n"
     ]
    },
    {
     "name": "stderr",
     "output_type": "stream",
     "text": [
      "100%|████████████████████████████████████████████████████████████████████████████████| 214/214 [01:58<00:00,  1.81it/s]\n",
      "2022-05-12 13:15:17,534 INFO: Epoch:[092/500]\n",
      "2022-05-12 13:15:17,534 INFO: Train Loss:0.135 | Acc:0.9658 | F1:0.8637\n",
      "2022-05-12 13:15:28,165 INFO: val Loss:0.154 | Acc:0.9650 | F1:0.7990\n"
     ]
    },
    {
     "name": "stdout",
     "output_type": "stream",
     "text": [
      "\n",
      "best epoch:84/loss:0.1179/f1:0.8159\n"
     ]
    },
    {
     "name": "stderr",
     "output_type": "stream",
     "text": [
      "100%|████████████████████████████████████████████████████████████████████████████████| 214/214 [01:58<00:00,  1.81it/s]\n",
      "2022-05-12 13:17:26,661 INFO: Epoch:[093/500]\n",
      "2022-05-12 13:17:26,662 INFO: Train Loss:0.123 | Acc:0.9690 | F1:0.8799\n",
      "2022-05-12 13:17:37,325 INFO: val Loss:0.170 | Acc:0.9568 | F1:0.7733\n"
     ]
    },
    {
     "name": "stdout",
     "output_type": "stream",
     "text": [
      "\n",
      "best epoch:84/loss:0.1179/f1:0.8159\n"
     ]
    },
    {
     "name": "stderr",
     "output_type": "stream",
     "text": [
      "100%|████████████████████████████████████████████████████████████████████████████████| 214/214 [01:58<00:00,  1.80it/s]\n",
      "2022-05-12 13:19:36,323 INFO: Epoch:[094/500]\n",
      "2022-05-12 13:19:36,324 INFO: Train Loss:0.117 | Acc:0.9687 | F1:0.8747\n",
      "2022-05-12 13:19:47,106 INFO: val Loss:0.172 | Acc:0.9638 | F1:0.8276\n"
     ]
    },
    {
     "name": "stdout",
     "output_type": "stream",
     "text": [
      "\n",
      "best epoch:84/loss:0.1179/f1:0.8159\n"
     ]
    },
    {
     "name": "stderr",
     "output_type": "stream",
     "text": [
      "100%|████████████████████████████████████████████████████████████████████████████████| 214/214 [01:59<00:00,  1.80it/s]\n",
      "2022-05-12 13:21:46,248 INFO: Epoch:[095/500]\n",
      "2022-05-12 13:21:46,248 INFO: Train Loss:0.133 | Acc:0.9655 | F1:0.8685\n",
      "2022-05-12 13:21:57,000 INFO: val Loss:0.134 | Acc:0.9661 | F1:0.8296\n"
     ]
    },
    {
     "name": "stdout",
     "output_type": "stream",
     "text": [
      "\n",
      "best epoch:84/loss:0.1179/f1:0.8159\n"
     ]
    },
    {
     "name": "stderr",
     "output_type": "stream",
     "text": [
      "100%|████████████████████████████████████████████████████████████████████████████████| 214/214 [01:58<00:00,  1.81it/s]\n",
      "2022-05-12 13:23:55,465 INFO: Epoch:[096/500]\n",
      "2022-05-12 13:23:55,465 INFO: Train Loss:0.131 | Acc:0.9661 | F1:0.8662\n",
      "2022-05-12 13:24:06,252 INFO: val Loss:0.168 | Acc:0.9626 | F1:0.7900\n"
     ]
    },
    {
     "name": "stdout",
     "output_type": "stream",
     "text": [
      "\n",
      "best epoch:84/loss:0.1179/f1:0.8159\n"
     ]
    },
    {
     "name": "stderr",
     "output_type": "stream",
     "text": [
      "100%|████████████████████████████████████████████████████████████████████████████████| 214/214 [01:58<00:00,  1.81it/s]\n",
      "2022-05-12 13:26:04,449 INFO: Epoch:[097/500]\n",
      "2022-05-12 13:26:04,449 INFO: Train Loss:0.124 | Acc:0.9705 | F1:0.8764\n",
      "2022-05-12 13:26:15,155 INFO: val Loss:0.157 | Acc:0.9614 | F1:0.7792\n"
     ]
    },
    {
     "name": "stdout",
     "output_type": "stream",
     "text": [
      "\n",
      "best epoch:84/loss:0.1179/f1:0.8159\n"
     ]
    },
    {
     "name": "stderr",
     "output_type": "stream",
     "text": [
      "100%|████████████████████████████████████████████████████████████████████████████████| 214/214 [01:58<00:00,  1.80it/s]\n",
      "2022-05-12 13:28:13,903 INFO: Epoch:[098/500]\n",
      "2022-05-12 13:28:13,904 INFO: Train Loss:0.128 | Acc:0.9673 | F1:0.8765\n",
      "2022-05-12 13:28:24,616 INFO: val Loss:0.122 | Acc:0.9638 | F1:0.7764\n"
     ]
    },
    {
     "name": "stdout",
     "output_type": "stream",
     "text": [
      "\n",
      "best epoch:84/loss:0.1179/f1:0.8159\n"
     ]
    },
    {
     "name": "stderr",
     "output_type": "stream",
     "text": [
      "100%|████████████████████████████████████████████████████████████████████████████████| 214/214 [01:58<00:00,  1.81it/s]\n",
      "2022-05-12 13:30:23,165 INFO: Epoch:[099/500]\n",
      "2022-05-12 13:30:23,165 INFO: Train Loss:0.107 | Acc:0.9731 | F1:0.8986\n",
      "2022-05-12 13:30:33,903 INFO: val Loss:0.205 | Acc:0.9614 | F1:0.7923\n"
     ]
    },
    {
     "name": "stdout",
     "output_type": "stream",
     "text": [
      "\n",
      "best epoch:84/loss:0.1179/f1:0.8159\n"
     ]
    },
    {
     "name": "stderr",
     "output_type": "stream",
     "text": [
      "100%|████████████████████████████████████████████████████████████████████████████████| 214/214 [01:58<00:00,  1.81it/s]\n",
      "2022-05-12 13:32:32,390 INFO: Epoch:[100/500]\n",
      "2022-05-12 13:32:32,391 INFO: Train Loss:0.112 | Acc:0.9684 | F1:0.8774\n",
      "2022-05-12 13:32:43,086 INFO: val Loss:0.119 | Acc:0.9661 | F1:0.8156\n"
     ]
    },
    {
     "name": "stdout",
     "output_type": "stream",
     "text": [
      "\n",
      "best epoch:84/loss:0.1179/f1:0.8159\n"
     ]
    },
    {
     "name": "stderr",
     "output_type": "stream",
     "text": [
      "100%|████████████████████████████████████████████████████████████████████████████████| 214/214 [01:58<00:00,  1.80it/s]\n",
      "2022-05-12 13:34:41,802 INFO: Epoch:[101/500]\n",
      "2022-05-12 13:34:41,803 INFO: Train Loss:0.128 | Acc:0.9664 | F1:0.8726\n",
      "2022-05-12 13:34:52,533 INFO: val Loss:0.163 | Acc:0.9579 | F1:0.7817\n"
     ]
    },
    {
     "name": "stdout",
     "output_type": "stream",
     "text": [
      "\n",
      "best epoch:84/loss:0.1179/f1:0.8159\n"
     ]
    },
    {
     "name": "stderr",
     "output_type": "stream",
     "text": [
      "100%|████████████████████████████████████████████████████████████████████████████████| 214/214 [01:58<00:00,  1.81it/s]\n",
      "2022-05-12 13:36:50,985 INFO: Epoch:[102/500]\n",
      "2022-05-12 13:36:50,986 INFO: Train Loss:0.116 | Acc:0.9693 | F1:0.8752\n",
      "2022-05-12 13:37:01,769 INFO: val Loss:0.128 | Acc:0.9638 | F1:0.8067\n"
     ]
    },
    {
     "name": "stdout",
     "output_type": "stream",
     "text": [
      "\n",
      "best epoch:84/loss:0.1179/f1:0.8159\n"
     ]
    },
    {
     "name": "stderr",
     "output_type": "stream",
     "text": [
      "100%|████████████████████████████████████████████████████████████████████████████████| 214/214 [01:58<00:00,  1.81it/s]\n",
      "2022-05-12 13:39:00,254 INFO: Epoch:[103/500]\n",
      "2022-05-12 13:39:00,255 INFO: Train Loss:0.123 | Acc:0.9684 | F1:0.8850\n",
      "2022-05-12 13:39:11,001 INFO: val Loss:0.147 | Acc:0.9650 | F1:0.8195\n"
     ]
    },
    {
     "name": "stdout",
     "output_type": "stream",
     "text": [
      "\n",
      "best epoch:84/loss:0.1179/f1:0.8159\n"
     ]
    },
    {
     "name": "stderr",
     "output_type": "stream",
     "text": [
      "100%|████████████████████████████████████████████████████████████████████████████████| 214/214 [01:58<00:00,  1.80it/s]\n",
      "2022-05-12 13:41:09,592 INFO: Epoch:[104/500]\n",
      "2022-05-12 13:41:09,592 INFO: Train Loss:0.108 | Acc:0.9719 | F1:0.8902\n",
      "2022-05-12 13:41:20,276 INFO: val Loss:0.178 | Acc:0.9626 | F1:0.8008\n"
     ]
    },
    {
     "name": "stdout",
     "output_type": "stream",
     "text": [
      "\n",
      "best epoch:84/loss:0.1179/f1:0.8159\n"
     ]
    },
    {
     "name": "stderr",
     "output_type": "stream",
     "text": [
      "100%|████████████████████████████████████████████████████████████████████████████████| 214/214 [01:58<00:00,  1.81it/s]\n",
      "2022-05-12 13:43:18,519 INFO: Epoch:[105/500]\n",
      "2022-05-12 13:43:18,519 INFO: Train Loss:0.122 | Acc:0.9649 | F1:0.8717\n",
      "2022-05-12 13:43:29,219 INFO: val Loss:0.205 | Acc:0.9428 | F1:0.8307\n"
     ]
    },
    {
     "name": "stdout",
     "output_type": "stream",
     "text": [
      "\n",
      "best epoch:84/loss:0.1179/f1:0.8159\n"
     ]
    },
    {
     "name": "stderr",
     "output_type": "stream",
     "text": [
      "100%|████████████████████████████████████████████████████████████████████████████████| 214/214 [01:58<00:00,  1.80it/s]\n",
      "2022-05-12 13:45:28,072 INFO: Epoch:[106/500]\n",
      "2022-05-12 13:45:28,072 INFO: Train Loss:0.123 | Acc:0.9620 | F1:0.8563\n",
      "2022-05-12 13:45:38,798 INFO: val Loss:0.197 | Acc:0.9474 | F1:0.7570\n"
     ]
    },
    {
     "name": "stdout",
     "output_type": "stream",
     "text": [
      "\n",
      "best epoch:84/loss:0.1179/f1:0.8159\n"
     ]
    },
    {
     "name": "stderr",
     "output_type": "stream",
     "text": [
      "100%|████████████████████████████████████████████████████████████████████████████████| 214/214 [01:58<00:00,  1.81it/s]\n",
      "2022-05-12 13:47:37,148 INFO: Epoch:[107/500]\n",
      "2022-05-12 13:47:37,148 INFO: Train Loss:0.112 | Acc:0.9676 | F1:0.8831\n",
      "2022-05-12 13:47:47,856 INFO: val Loss:0.134 | Acc:0.9603 | F1:0.7845\n"
     ]
    },
    {
     "name": "stdout",
     "output_type": "stream",
     "text": [
      "\n",
      "best epoch:84/loss:0.1179/f1:0.8159\n"
     ]
    },
    {
     "name": "stderr",
     "output_type": "stream",
     "text": [
      "100%|████████████████████████████████████████████████████████████████████████████████| 214/214 [01:58<00:00,  1.81it/s]\n",
      "2022-05-12 13:49:46,411 INFO: Epoch:[108/500]\n",
      "2022-05-12 13:49:46,411 INFO: Train Loss:0.120 | Acc:0.9684 | F1:0.8869\n",
      "2022-05-12 13:49:57,065 INFO: val Loss:0.171 | Acc:0.9568 | F1:0.7777\n"
     ]
    },
    {
     "name": "stdout",
     "output_type": "stream",
     "text": [
      "\n",
      "best epoch:84/loss:0.1179/f1:0.8159\n"
     ]
    },
    {
     "name": "stderr",
     "output_type": "stream",
     "text": [
      "100%|████████████████████████████████████████████████████████████████████████████████| 214/214 [01:58<00:00,  1.81it/s]\n",
      "2022-05-12 13:51:55,274 INFO: Epoch:[109/500]\n",
      "2022-05-12 13:51:55,275 INFO: Train Loss:0.116 | Acc:0.9711 | F1:0.8959\n",
      "2022-05-12 13:52:06,016 INFO: val Loss:0.144 | Acc:0.9614 | F1:0.7955\n"
     ]
    },
    {
     "name": "stdout",
     "output_type": "stream",
     "text": [
      "\n",
      "best epoch:84/loss:0.1179/f1:0.8159\n"
     ]
    },
    {
     "name": "stderr",
     "output_type": "stream",
     "text": [
      "100%|████████████████████████████████████████████████████████████████████████████████| 214/214 [01:58<00:00,  1.80it/s]\n",
      "2022-05-12 13:54:04,950 INFO: Epoch:[110/500]\n",
      "2022-05-12 13:54:04,951 INFO: Train Loss:0.124 | Acc:0.9696 | F1:0.8734\n",
      "2022-05-12 13:54:15,705 INFO: val Loss:0.158 | Acc:0.9544 | F1:0.8013\n"
     ]
    },
    {
     "name": "stdout",
     "output_type": "stream",
     "text": [
      "\n",
      "best epoch:84/loss:0.1179/f1:0.8159\n"
     ]
    },
    {
     "name": "stderr",
     "output_type": "stream",
     "text": [
      "100%|████████████████████████████████████████████████████████████████████████████████| 214/214 [01:59<00:00,  1.80it/s]\n",
      "2022-05-12 13:56:14,863 INFO: Epoch:[111/500]\n",
      "2022-05-12 13:56:14,863 INFO: Train Loss:0.104 | Acc:0.9749 | F1:0.9051\n",
      "2022-05-12 13:56:25,530 INFO: val Loss:0.133 | Acc:0.9544 | F1:0.8103\n"
     ]
    },
    {
     "name": "stdout",
     "output_type": "stream",
     "text": [
      "\n",
      "best epoch:84/loss:0.1179/f1:0.8159\n"
     ]
    },
    {
     "name": "stderr",
     "output_type": "stream",
     "text": [
      "100%|████████████████████████████████████████████████████████████████████████████████| 214/214 [01:58<00:00,  1.81it/s]\n",
      "2022-05-12 13:58:24,050 INFO: Epoch:[112/500]\n",
      "2022-05-12 13:58:24,050 INFO: Train Loss:0.125 | Acc:0.9670 | F1:0.8750\n",
      "2022-05-12 13:58:34,768 INFO: val Loss:0.135 | Acc:0.9661 | F1:0.8241\n"
     ]
    },
    {
     "name": "stdout",
     "output_type": "stream",
     "text": [
      "\n",
      "best epoch:84/loss:0.1179/f1:0.8159\n"
     ]
    },
    {
     "name": "stderr",
     "output_type": "stream",
     "text": [
      "100%|████████████████████████████████████████████████████████████████████████████████| 214/214 [01:58<00:00,  1.81it/s]\n",
      "2022-05-12 14:00:33,204 INFO: Epoch:[113/500]\n",
      "2022-05-12 14:00:33,204 INFO: Train Loss:0.105 | Acc:0.9714 | F1:0.8934\n",
      "2022-05-12 14:00:43,895 INFO: val Loss:0.147 | Acc:0.9661 | F1:0.8236\n"
     ]
    },
    {
     "name": "stdout",
     "output_type": "stream",
     "text": [
      "\n",
      "best epoch:84/loss:0.1179/f1:0.8159\n"
     ]
    },
    {
     "name": "stderr",
     "output_type": "stream",
     "text": [
      "100%|████████████████████████████████████████████████████████████████████████████████| 214/214 [01:58<00:00,  1.80it/s]\n",
      "2022-05-12 14:02:42,530 INFO: Epoch:[114/500]\n",
      "2022-05-12 14:02:42,530 INFO: Train Loss:0.126 | Acc:0.9678 | F1:0.8650\n",
      "2022-05-12 14:02:53,253 INFO: val Loss:0.148 | Acc:0.9614 | F1:0.8044\n"
     ]
    },
    {
     "name": "stdout",
     "output_type": "stream",
     "text": [
      "\n",
      "best epoch:84/loss:0.1179/f1:0.8159\n"
     ]
    },
    {
     "name": "stderr",
     "output_type": "stream",
     "text": [
      "100%|████████████████████████████████████████████████████████████████████████████████| 214/214 [01:58<00:00,  1.80it/s]\n",
      "2022-05-12 14:04:51,935 INFO: Epoch:[115/500]\n",
      "2022-05-12 14:04:51,936 INFO: Train Loss:0.095 | Acc:0.9734 | F1:0.8948\n",
      "2022-05-12 14:05:02,683 INFO: val Loss:0.149 | Acc:0.9661 | F1:0.8476\n"
     ]
    },
    {
     "name": "stdout",
     "output_type": "stream",
     "text": [
      "\n",
      "best epoch:84/loss:0.1179/f1:0.8159\n"
     ]
    },
    {
     "name": "stderr",
     "output_type": "stream",
     "text": [
      "100%|████████████████████████████████████████████████████████████████████████████████| 214/214 [01:58<00:00,  1.80it/s]\n",
      "2022-05-12 14:07:01,457 INFO: Epoch:[116/500]\n",
      "2022-05-12 14:07:01,458 INFO: Train Loss:0.097 | Acc:0.9740 | F1:0.9052\n",
      "2022-05-12 14:07:12,182 INFO: val Loss:0.175 | Acc:0.9626 | F1:0.8217\n"
     ]
    },
    {
     "name": "stdout",
     "output_type": "stream",
     "text": [
      "\n",
      "best epoch:84/loss:0.1179/f1:0.8159\n"
     ]
    },
    {
     "name": "stderr",
     "output_type": "stream",
     "text": [
      "100%|████████████████████████████████████████████████████████████████████████████████| 214/214 [01:58<00:00,  1.80it/s]\n",
      "2022-05-12 14:09:10,755 INFO: Epoch:[117/500]\n",
      "2022-05-12 14:09:10,755 INFO: Train Loss:0.106 | Acc:0.9690 | F1:0.8807\n",
      "2022-05-12 14:09:21,466 INFO: val Loss:0.212 | Acc:0.9533 | F1:0.7401\n"
     ]
    },
    {
     "name": "stdout",
     "output_type": "stream",
     "text": [
      "\n",
      "best epoch:84/loss:0.1179/f1:0.8159\n"
     ]
    },
    {
     "name": "stderr",
     "output_type": "stream",
     "text": [
      "100%|████████████████████████████████████████████████████████████████████████████████| 214/214 [01:58<00:00,  1.81it/s]\n",
      "2022-05-12 14:11:19,949 INFO: Epoch:[118/500]\n",
      "2022-05-12 14:11:19,949 INFO: Train Loss:0.114 | Acc:0.9728 | F1:0.9021\n",
      "2022-05-12 14:11:30,663 INFO: val Loss:0.152 | Acc:0.9603 | F1:0.7709\n"
     ]
    },
    {
     "name": "stdout",
     "output_type": "stream",
     "text": [
      "\n",
      "best epoch:84/loss:0.1179/f1:0.8159\n"
     ]
    },
    {
     "name": "stderr",
     "output_type": "stream",
     "text": [
      "100%|████████████████████████████████████████████████████████████████████████████████| 214/214 [01:58<00:00,  1.80it/s]\n",
      "2022-05-12 14:13:29,374 INFO: Epoch:[119/500]\n",
      "2022-05-12 14:13:29,374 INFO: Train Loss:0.115 | Acc:0.9708 | F1:0.8864\n",
      "2022-05-12 14:13:40,079 INFO: val Loss:0.129 | Acc:0.9626 | F1:0.8128\n"
     ]
    },
    {
     "name": "stdout",
     "output_type": "stream",
     "text": [
      "\n",
      "best epoch:84/loss:0.1179/f1:0.8159\n"
     ]
    },
    {
     "name": "stderr",
     "output_type": "stream",
     "text": [
      "100%|████████████████████████████████████████████████████████████████████████████████| 214/214 [01:58<00:00,  1.81it/s]\n",
      "2022-05-12 14:15:38,624 INFO: Epoch:[120/500]\n",
      "2022-05-12 14:15:38,625 INFO: Train Loss:0.121 | Acc:0.9702 | F1:0.8831\n",
      "2022-05-12 14:15:49,373 INFO: val Loss:0.178 | Acc:0.9521 | F1:0.7881\n"
     ]
    },
    {
     "name": "stdout",
     "output_type": "stream",
     "text": [
      "\n",
      "best epoch:84/loss:0.1179/f1:0.8159\n"
     ]
    },
    {
     "name": "stderr",
     "output_type": "stream",
     "text": [
      "100%|████████████████████████████████████████████████████████████████████████████████| 214/214 [01:59<00:00,  1.79it/s]\n",
      "2022-05-12 14:17:49,023 INFO: Epoch:[121/500]\n",
      "2022-05-12 14:17:49,024 INFO: Train Loss:0.108 | Acc:0.9705 | F1:0.8955\n",
      "2022-05-12 14:17:59,959 INFO: val Loss:0.224 | Acc:0.9498 | F1:0.7964\n"
     ]
    },
    {
     "name": "stdout",
     "output_type": "stream",
     "text": [
      "\n",
      "best epoch:84/loss:0.1179/f1:0.8159\n"
     ]
    },
    {
     "name": "stderr",
     "output_type": "stream",
     "text": [
      "100%|████████████████████████████████████████████████████████████████████████████████| 214/214 [01:58<00:00,  1.81it/s]\n",
      "2022-05-12 14:19:58,379 INFO: Epoch:[122/500]\n",
      "2022-05-12 14:19:58,380 INFO: Train Loss:0.119 | Acc:0.9705 | F1:0.8889\n",
      "2022-05-12 14:20:09,129 INFO: val Loss:0.209 | Acc:0.9556 | F1:0.7905\n"
     ]
    },
    {
     "name": "stdout",
     "output_type": "stream",
     "text": [
      "\n",
      "best epoch:84/loss:0.1179/f1:0.8159\n"
     ]
    },
    {
     "name": "stderr",
     "output_type": "stream",
     "text": [
      "100%|████████████████████████████████████████████████████████████████████████████████| 214/214 [01:58<00:00,  1.81it/s]\n",
      "2022-05-12 14:22:07,286 INFO: Epoch:[123/500]\n",
      "2022-05-12 14:22:07,287 INFO: Train Loss:0.112 | Acc:0.9702 | F1:0.8921\n",
      "2022-05-12 14:22:17,987 INFO: val Loss:0.146 | Acc:0.9650 | F1:0.8202\n"
     ]
    },
    {
     "name": "stdout",
     "output_type": "stream",
     "text": [
      "\n",
      "best epoch:84/loss:0.1179/f1:0.8159\n"
     ]
    },
    {
     "name": "stderr",
     "output_type": "stream",
     "text": [
      "100%|████████████████████████████████████████████████████████████████████████████████| 214/214 [01:58<00:00,  1.81it/s]\n",
      "2022-05-12 14:24:16,445 INFO: Epoch:[124/500]\n",
      "2022-05-12 14:24:16,446 INFO: Train Loss:0.106 | Acc:0.9722 | F1:0.8970\n",
      "2022-05-12 14:24:27,121 INFO: val Loss:0.155 | Acc:0.9614 | F1:0.7982\n"
     ]
    },
    {
     "name": "stdout",
     "output_type": "stream",
     "text": [
      "\n",
      "best epoch:84/loss:0.1179/f1:0.8159\n"
     ]
    },
    {
     "name": "stderr",
     "output_type": "stream",
     "text": [
      "100%|████████████████████████████████████████████████████████████████████████████████| 214/214 [01:58<00:00,  1.81it/s]\n",
      "2022-05-12 14:26:25,473 INFO: Epoch:[125/500]\n",
      "2022-05-12 14:26:25,473 INFO: Train Loss:0.118 | Acc:0.9676 | F1:0.8815\n",
      "2022-05-12 14:26:36,159 INFO: val Loss:0.164 | Acc:0.9579 | F1:0.7974\n"
     ]
    },
    {
     "name": "stdout",
     "output_type": "stream",
     "text": [
      "\n",
      "best epoch:84/loss:0.1179/f1:0.8159\n"
     ]
    },
    {
     "name": "stderr",
     "output_type": "stream",
     "text": [
      "100%|████████████████████████████████████████████████████████████████████████████████| 214/214 [01:59<00:00,  1.79it/s]\n",
      "2022-05-12 14:28:35,552 INFO: Epoch:[126/500]\n",
      "2022-05-12 14:28:35,552 INFO: Train Loss:0.104 | Acc:0.9719 | F1:0.8933\n",
      "2022-05-12 14:28:46,388 INFO: val Loss:0.131 | Acc:0.9626 | F1:0.8236\n"
     ]
    },
    {
     "name": "stdout",
     "output_type": "stream",
     "text": [
      "\n",
      "best epoch:84/loss:0.1179/f1:0.8159\n"
     ]
    },
    {
     "name": "stderr",
     "output_type": "stream",
     "text": [
      "100%|████████████████████████████████████████████████████████████████████████████████| 214/214 [01:59<00:00,  1.79it/s]\n",
      "2022-05-12 14:30:45,903 INFO: Epoch:[127/500]\n",
      "2022-05-12 14:30:45,904 INFO: Train Loss:0.117 | Acc:0.9684 | F1:0.8793\n",
      "2022-05-12 14:30:56,595 INFO: val Loss:0.152 | Acc:0.9591 | F1:0.7953\n"
     ]
    },
    {
     "name": "stdout",
     "output_type": "stream",
     "text": [
      "\n",
      "best epoch:84/loss:0.1179/f1:0.8159\n"
     ]
    },
    {
     "name": "stderr",
     "output_type": "stream",
     "text": [
      "100%|████████████████████████████████████████████████████████████████████████████████| 214/214 [01:58<00:00,  1.81it/s]\n",
      "2022-05-12 14:32:55,034 INFO: Epoch:[128/500]\n",
      "2022-05-12 14:32:55,034 INFO: Train Loss:0.113 | Acc:0.9705 | F1:0.8990\n",
      "2022-05-12 14:33:05,848 INFO: val Loss:0.149 | Acc:0.9614 | F1:0.7790\n"
     ]
    },
    {
     "name": "stdout",
     "output_type": "stream",
     "text": [
      "\n",
      "best epoch:84/loss:0.1179/f1:0.8159\n"
     ]
    },
    {
     "name": "stderr",
     "output_type": "stream",
     "text": [
      "100%|████████████████████████████████████████████████████████████████████████████████| 214/214 [01:58<00:00,  1.80it/s]\n",
      "2022-05-12 14:35:04,480 INFO: Epoch:[129/500]\n",
      "2022-05-12 14:35:04,481 INFO: Train Loss:0.121 | Acc:0.9678 | F1:0.8779\n",
      "2022-05-12 14:35:15,203 INFO: val Loss:0.160 | Acc:0.9521 | F1:0.7378\n"
     ]
    },
    {
     "name": "stdout",
     "output_type": "stream",
     "text": [
      "\n",
      "best epoch:84/loss:0.1179/f1:0.8159\n"
     ]
    },
    {
     "name": "stderr",
     "output_type": "stream",
     "text": [
      "100%|████████████████████████████████████████████████████████████████████████████████| 214/214 [01:58<00:00,  1.80it/s]\n",
      "2022-05-12 14:37:13,991 INFO: Epoch:[130/500]\n",
      "2022-05-12 14:37:13,992 INFO: Train Loss:0.090 | Acc:0.9734 | F1:0.9000\n",
      "2022-05-12 14:37:24,704 INFO: val Loss:0.150 | Acc:0.9661 | F1:0.8104\n"
     ]
    },
    {
     "name": "stdout",
     "output_type": "stream",
     "text": [
      "\n",
      "best epoch:84/loss:0.1179/f1:0.8159\n"
     ]
    },
    {
     "name": "stderr",
     "output_type": "stream",
     "text": [
      "100%|████████████████████████████████████████████████████████████████████████████████| 214/214 [01:58<00:00,  1.80it/s]\n",
      "2022-05-12 14:39:23,335 INFO: Epoch:[131/500]\n",
      "2022-05-12 14:39:23,336 INFO: Train Loss:0.117 | Acc:0.9690 | F1:0.8800\n",
      "2022-05-12 14:39:34,052 INFO: val Loss:0.155 | Acc:0.9556 | F1:0.7939\n"
     ]
    },
    {
     "name": "stdout",
     "output_type": "stream",
     "text": [
      "\n",
      "best epoch:84/loss:0.1179/f1:0.8159\n"
     ]
    },
    {
     "name": "stderr",
     "output_type": "stream",
     "text": [
      "100%|████████████████████████████████████████████████████████████████████████████████| 214/214 [01:58<00:00,  1.80it/s]\n",
      "2022-05-12 14:41:32,683 INFO: Epoch:[132/500]\n",
      "2022-05-12 14:41:32,683 INFO: Train Loss:0.107 | Acc:0.9743 | F1:0.9056\n",
      "2022-05-12 14:41:43,355 INFO: val Loss:0.278 | Acc:0.9194 | F1:0.7510\n"
     ]
    },
    {
     "name": "stdout",
     "output_type": "stream",
     "text": [
      "\n",
      "best epoch:84/loss:0.1179/f1:0.8159\n"
     ]
    },
    {
     "name": "stderr",
     "output_type": "stream",
     "text": [
      "100%|████████████████████████████████████████████████████████████████████████████████| 214/214 [01:58<00:00,  1.81it/s]\n",
      "2022-05-12 14:43:41,761 INFO: Epoch:[133/500]\n",
      "2022-05-12 14:43:41,762 INFO: Train Loss:0.130 | Acc:0.9702 | F1:0.8949\n",
      "2022-05-12 14:43:52,496 INFO: val Loss:0.121 | Acc:0.9708 | F1:0.8453\n"
     ]
    },
    {
     "name": "stdout",
     "output_type": "stream",
     "text": [
      "\n",
      "best epoch:84/loss:0.1179/f1:0.8159\n"
     ]
    },
    {
     "name": "stderr",
     "output_type": "stream",
     "text": [
      "100%|████████████████████████████████████████████████████████████████████████████████| 214/214 [01:58<00:00,  1.80it/s]\n",
      "2022-05-12 14:45:51,291 INFO: Epoch:[134/500]\n",
      "2022-05-12 14:45:51,291 INFO: Train Loss:0.102 | Acc:0.9699 | F1:0.8923\n",
      "2022-05-12 14:46:02,078 INFO: val Loss:0.115 | Acc:0.9696 | F1:0.8457\n",
      "2022-05-12 14:46:04,074 INFO: -----------------SAVE:134epoch----------------\n"
     ]
    },
    {
     "name": "stdout",
     "output_type": "stream",
     "text": [
      "\n",
      "best epoch:134/loss:0.1152/f1:0.8457\n"
     ]
    },
    {
     "name": "stderr",
     "output_type": "stream",
     "text": [
      "100%|████████████████████████████████████████████████████████████████████████████████| 214/214 [01:58<00:00,  1.80it/s]\n",
      "2022-05-12 14:48:02,674 INFO: Epoch:[135/500]\n",
      "2022-05-12 14:48:02,675 INFO: Train Loss:0.098 | Acc:0.9746 | F1:0.9107\n",
      "2022-05-12 14:48:13,354 INFO: val Loss:0.217 | Acc:0.9568 | F1:0.7692\n"
     ]
    },
    {
     "name": "stdout",
     "output_type": "stream",
     "text": [
      "\n",
      "best epoch:134/loss:0.1152/f1:0.8457\n"
     ]
    },
    {
     "name": "stderr",
     "output_type": "stream",
     "text": [
      "100%|████████████████████████████████████████████████████████████████████████████████| 214/214 [01:58<00:00,  1.80it/s]\n",
      "2022-05-12 14:50:12,043 INFO: Epoch:[136/500]\n",
      "2022-05-12 14:50:12,043 INFO: Train Loss:0.103 | Acc:0.9731 | F1:0.9074\n",
      "2022-05-12 14:50:22,711 INFO: val Loss:0.203 | Acc:0.9568 | F1:0.7761\n"
     ]
    },
    {
     "name": "stdout",
     "output_type": "stream",
     "text": [
      "\n",
      "best epoch:134/loss:0.1152/f1:0.8457\n"
     ]
    },
    {
     "name": "stderr",
     "output_type": "stream",
     "text": [
      "100%|████████████████████████████████████████████████████████████████████████████████| 214/214 [01:58<00:00,  1.80it/s]\n",
      "2022-05-12 14:52:21,407 INFO: Epoch:[137/500]\n",
      "2022-05-12 14:52:21,407 INFO: Train Loss:0.101 | Acc:0.9752 | F1:0.9111\n",
      "2022-05-12 14:52:32,135 INFO: val Loss:0.179 | Acc:0.9614 | F1:0.7931\n"
     ]
    },
    {
     "name": "stdout",
     "output_type": "stream",
     "text": [
      "\n",
      "best epoch:134/loss:0.1152/f1:0.8457\n"
     ]
    },
    {
     "name": "stderr",
     "output_type": "stream",
     "text": [
      "100%|████████████████████████████████████████████████████████████████████████████████| 214/214 [01:58<00:00,  1.81it/s]\n",
      "2022-05-12 14:54:30,697 INFO: Epoch:[138/500]\n",
      "2022-05-12 14:54:30,697 INFO: Train Loss:0.122 | Acc:0.9687 | F1:0.8923\n",
      "2022-05-12 14:54:41,483 INFO: val Loss:0.206 | Acc:0.9544 | F1:0.8149\n"
     ]
    },
    {
     "name": "stdout",
     "output_type": "stream",
     "text": [
      "\n",
      "best epoch:134/loss:0.1152/f1:0.8457\n"
     ]
    },
    {
     "name": "stderr",
     "output_type": "stream",
     "text": [
      "100%|████████████████████████████████████████████████████████████████████████████████| 214/214 [01:58<00:00,  1.80it/s]\n",
      "2022-05-12 14:56:40,109 INFO: Epoch:[139/500]\n",
      "2022-05-12 14:56:40,110 INFO: Train Loss:0.095 | Acc:0.9740 | F1:0.9139\n",
      "2022-05-12 14:56:50,789 INFO: val Loss:0.195 | Acc:0.9638 | F1:0.8188\n"
     ]
    },
    {
     "name": "stdout",
     "output_type": "stream",
     "text": [
      "\n",
      "best epoch:134/loss:0.1152/f1:0.8457\n"
     ]
    },
    {
     "name": "stderr",
     "output_type": "stream",
     "text": [
      "100%|████████████████████████████████████████████████████████████████████████████████| 214/214 [01:58<00:00,  1.81it/s]\n",
      "2022-05-12 14:58:49,348 INFO: Epoch:[140/500]\n",
      "2022-05-12 14:58:49,349 INFO: Train Loss:0.117 | Acc:0.9696 | F1:0.8861\n",
      "2022-05-12 14:58:59,968 INFO: val Loss:0.151 | Acc:0.9603 | F1:0.8337\n"
     ]
    },
    {
     "name": "stdout",
     "output_type": "stream",
     "text": [
      "\n",
      "best epoch:134/loss:0.1152/f1:0.8457\n"
     ]
    },
    {
     "name": "stderr",
     "output_type": "stream",
     "text": [
      "100%|████████████████████████████████████████████████████████████████████████████████| 214/214 [01:58<00:00,  1.81it/s]\n",
      "2022-05-12 15:00:58,046 INFO: Epoch:[141/500]\n",
      "2022-05-12 15:00:58,047 INFO: Train Loss:0.104 | Acc:0.9719 | F1:0.9067\n",
      "2022-05-12 15:01:08,818 INFO: val Loss:0.171 | Acc:0.9568 | F1:0.7772\n"
     ]
    },
    {
     "name": "stdout",
     "output_type": "stream",
     "text": [
      "\n",
      "best epoch:134/loss:0.1152/f1:0.8457\n"
     ]
    },
    {
     "name": "stderr",
     "output_type": "stream",
     "text": [
      "100%|████████████████████████████████████████████████████████████████████████████████| 214/214 [01:59<00:00,  1.79it/s]\n",
      "2022-05-12 15:03:08,136 INFO: Epoch:[142/500]\n",
      "2022-05-12 15:03:08,137 INFO: Train Loss:0.092 | Acc:0.9743 | F1:0.9080\n",
      "2022-05-12 15:03:18,931 INFO: val Loss:0.154 | Acc:0.9614 | F1:0.8077\n"
     ]
    },
    {
     "name": "stdout",
     "output_type": "stream",
     "text": [
      "\n",
      "best epoch:134/loss:0.1152/f1:0.8457\n"
     ]
    },
    {
     "name": "stderr",
     "output_type": "stream",
     "text": [
      "100%|████████████████████████████████████████████████████████████████████████████████| 214/214 [01:59<00:00,  1.80it/s]\n",
      "2022-05-12 15:05:17,950 INFO: Epoch:[143/500]\n",
      "2022-05-12 15:05:17,950 INFO: Train Loss:0.094 | Acc:0.9766 | F1:0.9160\n",
      "2022-05-12 15:05:28,613 INFO: val Loss:0.166 | Acc:0.9638 | F1:0.8093\n"
     ]
    },
    {
     "name": "stdout",
     "output_type": "stream",
     "text": [
      "\n",
      "best epoch:134/loss:0.1152/f1:0.8457\n"
     ]
    },
    {
     "name": "stderr",
     "output_type": "stream",
     "text": [
      "100%|████████████████████████████████████████████████████████████████████████████████| 214/214 [01:58<00:00,  1.81it/s]\n",
      "2022-05-12 15:07:27,150 INFO: Epoch:[144/500]\n",
      "2022-05-12 15:07:27,150 INFO: Train Loss:0.102 | Acc:0.9722 | F1:0.8937\n",
      "2022-05-12 15:07:37,841 INFO: val Loss:0.152 | Acc:0.9638 | F1:0.7897\n"
     ]
    },
    {
     "name": "stdout",
     "output_type": "stream",
     "text": [
      "\n",
      "best epoch:134/loss:0.1152/f1:0.8457\n"
     ]
    },
    {
     "name": "stderr",
     "output_type": "stream",
     "text": [
      "100%|████████████████████████████████████████████████████████████████████████████████| 214/214 [01:58<00:00,  1.81it/s]\n",
      "2022-05-12 15:09:36,239 INFO: Epoch:[145/500]\n",
      "2022-05-12 15:09:36,240 INFO: Train Loss:0.110 | Acc:0.9734 | F1:0.9056\n",
      "2022-05-12 15:09:46,974 INFO: val Loss:0.153 | Acc:0.9661 | F1:0.8333\n"
     ]
    },
    {
     "name": "stdout",
     "output_type": "stream",
     "text": [
      "\n",
      "best epoch:134/loss:0.1152/f1:0.8457\n"
     ]
    },
    {
     "name": "stderr",
     "output_type": "stream",
     "text": [
      "100%|████████████████████████████████████████████████████████████████████████████████| 214/214 [02:00<00:00,  1.77it/s]\n",
      "2022-05-12 15:11:47,844 INFO: Epoch:[146/500]\n",
      "2022-05-12 15:11:47,845 INFO: Train Loss:0.105 | Acc:0.9740 | F1:0.9056\n",
      "2022-05-12 15:11:58,755 INFO: val Loss:0.163 | Acc:0.9650 | F1:0.8299\n"
     ]
    },
    {
     "name": "stdout",
     "output_type": "stream",
     "text": [
      "\n",
      "best epoch:134/loss:0.1152/f1:0.8457\n"
     ]
    },
    {
     "name": "stderr",
     "output_type": "stream",
     "text": [
      "100%|████████████████████████████████████████████████████████████████████████████████| 214/214 [02:00<00:00,  1.78it/s]\n",
      "2022-05-12 15:13:59,110 INFO: Epoch:[147/500]\n",
      "2022-05-12 15:13:59,111 INFO: Train Loss:0.115 | Acc:0.9705 | F1:0.8881\n",
      "2022-05-12 15:14:09,917 INFO: val Loss:0.139 | Acc:0.9603 | F1:0.8114\n"
     ]
    },
    {
     "name": "stdout",
     "output_type": "stream",
     "text": [
      "\n",
      "best epoch:134/loss:0.1152/f1:0.8457\n"
     ]
    },
    {
     "name": "stderr",
     "output_type": "stream",
     "text": [
      "100%|████████████████████████████████████████████████████████████████████████████████| 214/214 [01:59<00:00,  1.79it/s]\n",
      "2022-05-12 15:16:09,416 INFO: Epoch:[148/500]\n",
      "2022-05-12 15:16:09,417 INFO: Train Loss:0.101 | Acc:0.9740 | F1:0.9040\n",
      "2022-05-12 15:16:20,149 INFO: val Loss:0.188 | Acc:0.9591 | F1:0.7906\n"
     ]
    },
    {
     "name": "stdout",
     "output_type": "stream",
     "text": [
      "\n",
      "best epoch:134/loss:0.1152/f1:0.8457\n"
     ]
    },
    {
     "name": "stderr",
     "output_type": "stream",
     "text": [
      "100%|████████████████████████████████████████████████████████████████████████████████| 214/214 [02:00<00:00,  1.78it/s]\n",
      "2022-05-12 15:18:20,242 INFO: Epoch:[149/500]\n",
      "2022-05-12 15:18:20,243 INFO: Train Loss:0.093 | Acc:0.9757 | F1:0.9166\n",
      "2022-05-12 15:18:31,254 INFO: val Loss:0.202 | Acc:0.9556 | F1:0.7478\n"
     ]
    },
    {
     "name": "stdout",
     "output_type": "stream",
     "text": [
      "\n",
      "best epoch:134/loss:0.1152/f1:0.8457\n"
     ]
    },
    {
     "name": "stderr",
     "output_type": "stream",
     "text": [
      "100%|████████████████████████████████████████████████████████████████████████████████| 214/214 [01:59<00:00,  1.78it/s]\n",
      "2022-05-12 15:20:31,195 INFO: Epoch:[150/500]\n",
      "2022-05-12 15:20:31,196 INFO: Train Loss:0.106 | Acc:0.9722 | F1:0.8960\n",
      "2022-05-12 15:20:41,924 INFO: val Loss:0.175 | Acc:0.9638 | F1:0.8073\n"
     ]
    },
    {
     "name": "stdout",
     "output_type": "stream",
     "text": [
      "\n",
      "best epoch:134/loss:0.1152/f1:0.8457\n"
     ]
    },
    {
     "name": "stderr",
     "output_type": "stream",
     "text": [
      "100%|████████████████████████████████████████████████████████████████████████████████| 214/214 [02:00<00:00,  1.78it/s]\n",
      "2022-05-12 15:22:42,277 INFO: Epoch:[151/500]\n",
      "2022-05-12 15:22:42,277 INFO: Train Loss:0.089 | Acc:0.9731 | F1:0.9018\n",
      "2022-05-12 15:22:53,197 INFO: val Loss:0.173 | Acc:0.9673 | F1:0.8062\n"
     ]
    },
    {
     "name": "stdout",
     "output_type": "stream",
     "text": [
      "\n",
      "best epoch:134/loss:0.1152/f1:0.8457\n"
     ]
    },
    {
     "name": "stderr",
     "output_type": "stream",
     "text": [
      "100%|████████████████████████████████████████████████████████████████████████████████| 214/214 [01:59<00:00,  1.79it/s]\n",
      "2022-05-12 15:24:52,687 INFO: Epoch:[152/500]\n",
      "2022-05-12 15:24:52,688 INFO: Train Loss:0.104 | Acc:0.9734 | F1:0.8918\n",
      "2022-05-12 15:25:03,511 INFO: val Loss:0.256 | Acc:0.9428 | F1:0.8036\n"
     ]
    },
    {
     "name": "stdout",
     "output_type": "stream",
     "text": [
      "\n",
      "best epoch:134/loss:0.1152/f1:0.8457\n"
     ]
    },
    {
     "name": "stderr",
     "output_type": "stream",
     "text": [
      "100%|████████████████████████████████████████████████████████████████████████████████| 214/214 [01:59<00:00,  1.79it/s]\n",
      "2022-05-12 15:27:02,830 INFO: Epoch:[153/500]\n",
      "2022-05-12 15:27:02,830 INFO: Train Loss:0.108 | Acc:0.9740 | F1:0.9117\n",
      "2022-05-12 15:27:13,609 INFO: val Loss:0.131 | Acc:0.9661 | F1:0.8281\n"
     ]
    },
    {
     "name": "stdout",
     "output_type": "stream",
     "text": [
      "\n",
      "best epoch:134/loss:0.1152/f1:0.8457\n"
     ]
    },
    {
     "name": "stderr",
     "output_type": "stream",
     "text": [
      "100%|████████████████████████████████████████████████████████████████████████████████| 214/214 [01:59<00:00,  1.79it/s]\n",
      "2022-05-12 15:29:13,305 INFO: Epoch:[154/500]\n",
      "2022-05-12 15:29:13,305 INFO: Train Loss:0.087 | Acc:0.9790 | F1:0.9182\n",
      "2022-05-12 15:29:24,161 INFO: val Loss:0.146 | Acc:0.9603 | F1:0.7742\n"
     ]
    },
    {
     "name": "stdout",
     "output_type": "stream",
     "text": [
      "\n",
      "best epoch:134/loss:0.1152/f1:0.8457\n"
     ]
    },
    {
     "name": "stderr",
     "output_type": "stream",
     "text": [
      "100%|████████████████████████████████████████████████████████████████████████████████| 214/214 [01:59<00:00,  1.79it/s]\n",
      "2022-05-12 15:31:23,593 INFO: Epoch:[155/500]\n",
      "2022-05-12 15:31:23,594 INFO: Train Loss:0.090 | Acc:0.9760 | F1:0.9113\n",
      "2022-05-12 15:31:34,358 INFO: val Loss:0.154 | Acc:0.9614 | F1:0.7892\n"
     ]
    },
    {
     "name": "stdout",
     "output_type": "stream",
     "text": [
      "\n",
      "best epoch:134/loss:0.1152/f1:0.8457\n"
     ]
    },
    {
     "name": "stderr",
     "output_type": "stream",
     "text": [
      "100%|████████████████████████████████████████████████████████████████████████████████| 214/214 [01:59<00:00,  1.80it/s]\n",
      "2022-05-12 15:33:33,443 INFO: Epoch:[156/500]\n",
      "2022-05-12 15:33:33,443 INFO: Train Loss:0.085 | Acc:0.9740 | F1:0.8971\n",
      "2022-05-12 15:33:44,232 INFO: val Loss:0.227 | Acc:0.9498 | F1:0.7385\n"
     ]
    },
    {
     "name": "stdout",
     "output_type": "stream",
     "text": [
      "\n",
      "best epoch:134/loss:0.1152/f1:0.8457\n"
     ]
    },
    {
     "name": "stderr",
     "output_type": "stream",
     "text": [
      "100%|████████████████████████████████████████████████████████████████████████████████| 214/214 [01:59<00:00,  1.80it/s]\n",
      "2022-05-12 15:35:43,351 INFO: Epoch:[157/500]\n",
      "2022-05-12 15:35:43,351 INFO: Train Loss:0.102 | Acc:0.9714 | F1:0.8990\n",
      "2022-05-12 15:35:54,254 INFO: val Loss:0.185 | Acc:0.9579 | F1:0.7803\n"
     ]
    },
    {
     "name": "stdout",
     "output_type": "stream",
     "text": [
      "\n",
      "best epoch:134/loss:0.1152/f1:0.8457\n"
     ]
    },
    {
     "name": "stderr",
     "output_type": "stream",
     "text": [
      "100%|████████████████████████████████████████████████████████████████████████████████| 214/214 [02:00<00:00,  1.78it/s]\n",
      "2022-05-12 15:37:54,286 INFO: Epoch:[158/500]\n",
      "2022-05-12 15:37:54,286 INFO: Train Loss:0.109 | Acc:0.9749 | F1:0.9056\n",
      "2022-05-12 15:38:05,302 INFO: val Loss:0.171 | Acc:0.9568 | F1:0.8134\n"
     ]
    },
    {
     "name": "stdout",
     "output_type": "stream",
     "text": [
      "\n",
      "best epoch:134/loss:0.1152/f1:0.8457\n"
     ]
    },
    {
     "name": "stderr",
     "output_type": "stream",
     "text": [
      "100%|████████████████████████████████████████████████████████████████████████████████| 214/214 [01:59<00:00,  1.78it/s]\n",
      "2022-05-12 15:40:05,241 INFO: Epoch:[159/500]\n",
      "2022-05-12 15:40:05,241 INFO: Train Loss:0.100 | Acc:0.9722 | F1:0.9018\n",
      "2022-05-12 15:40:16,100 INFO: val Loss:0.180 | Acc:0.9579 | F1:0.7847\n"
     ]
    },
    {
     "name": "stdout",
     "output_type": "stream",
     "text": [
      "\n",
      "best epoch:134/loss:0.1152/f1:0.8457\n"
     ]
    },
    {
     "name": "stderr",
     "output_type": "stream",
     "text": [
      "100%|████████████████████████████████████████████████████████████████████████████████| 214/214 [01:59<00:00,  1.80it/s]\n",
      "2022-05-12 15:42:15,130 INFO: Epoch:[160/500]\n",
      "2022-05-12 15:42:15,130 INFO: Train Loss:0.093 | Acc:0.9731 | F1:0.9048\n",
      "2022-05-12 15:42:25,938 INFO: val Loss:0.169 | Acc:0.9556 | F1:0.7586\n"
     ]
    },
    {
     "name": "stdout",
     "output_type": "stream",
     "text": [
      "\n",
      "best epoch:134/loss:0.1152/f1:0.8457\n"
     ]
    },
    {
     "name": "stderr",
     "output_type": "stream",
     "text": [
      "100%|████████████████████████████████████████████████████████████████████████████████| 214/214 [01:59<00:00,  1.79it/s]\n",
      "2022-05-12 15:44:25,274 INFO: Epoch:[161/500]\n",
      "2022-05-12 15:44:25,274 INFO: Train Loss:0.101 | Acc:0.9708 | F1:0.8977\n",
      "2022-05-12 15:44:36,085 INFO: val Loss:0.167 | Acc:0.9626 | F1:0.8030\n"
     ]
    },
    {
     "name": "stdout",
     "output_type": "stream",
     "text": [
      "\n",
      "best epoch:134/loss:0.1152/f1:0.8457\n"
     ]
    },
    {
     "name": "stderr",
     "output_type": "stream",
     "text": [
      "100%|████████████████████████████████████████████████████████████████████████████████| 214/214 [01:59<00:00,  1.79it/s]\n",
      "2022-05-12 15:46:35,415 INFO: Epoch:[162/500]\n",
      "2022-05-12 15:46:35,416 INFO: Train Loss:0.083 | Acc:0.9766 | F1:0.9160\n",
      "2022-05-12 15:46:46,188 INFO: val Loss:0.129 | Acc:0.9708 | F1:0.8342\n"
     ]
    },
    {
     "name": "stdout",
     "output_type": "stream",
     "text": [
      "\n",
      "best epoch:134/loss:0.1152/f1:0.8457\n"
     ]
    },
    {
     "name": "stderr",
     "output_type": "stream",
     "text": [
      "100%|████████████████████████████████████████████████████████████████████████████████| 214/214 [01:59<00:00,  1.79it/s]\n",
      "2022-05-12 15:48:45,669 INFO: Epoch:[163/500]\n",
      "2022-05-12 15:48:45,669 INFO: Train Loss:0.086 | Acc:0.9784 | F1:0.9216\n",
      "2022-05-12 15:48:56,453 INFO: val Loss:0.142 | Acc:0.9673 | F1:0.8320\n"
     ]
    },
    {
     "name": "stdout",
     "output_type": "stream",
     "text": [
      "\n",
      "best epoch:134/loss:0.1152/f1:0.8457\n"
     ]
    },
    {
     "name": "stderr",
     "output_type": "stream",
     "text": [
      "100%|████████████████████████████████████████████████████████████████████████████████| 214/214 [01:59<00:00,  1.79it/s]\n",
      "2022-05-12 15:50:55,818 INFO: Epoch:[164/500]\n",
      "2022-05-12 15:50:55,819 INFO: Train Loss:0.081 | Acc:0.9787 | F1:0.9216\n",
      "2022-05-12 15:51:06,619 INFO: val Loss:0.153 | Acc:0.9696 | F1:0.8643\n"
     ]
    },
    {
     "name": "stdout",
     "output_type": "stream",
     "text": [
      "\n",
      "best epoch:134/loss:0.1152/f1:0.8457\n"
     ]
    },
    {
     "name": "stderr",
     "output_type": "stream",
     "text": [
      "100%|████████████████████████████████████████████████████████████████████████████████| 214/214 [01:59<00:00,  1.79it/s]\n",
      "2022-05-12 15:53:06,499 INFO: Epoch:[165/500]\n",
      "2022-05-12 15:53:06,500 INFO: Train Loss:0.095 | Acc:0.9737 | F1:0.9056\n",
      "2022-05-12 15:53:17,778 INFO: val Loss:0.130 | Acc:0.9685 | F1:0.8115\n"
     ]
    },
    {
     "name": "stdout",
     "output_type": "stream",
     "text": [
      "\n",
      "best epoch:134/loss:0.1152/f1:0.8457\n"
     ]
    },
    {
     "name": "stderr",
     "output_type": "stream",
     "text": [
      "100%|████████████████████████████████████████████████████████████████████████████████| 214/214 [01:59<00:00,  1.78it/s]\n",
      "2022-05-12 15:55:17,674 INFO: Epoch:[166/500]\n",
      "2022-05-12 15:55:17,674 INFO: Train Loss:0.092 | Acc:0.9763 | F1:0.9155\n",
      "2022-05-12 15:55:28,401 INFO: val Loss:0.215 | Acc:0.9626 | F1:0.8067\n"
     ]
    },
    {
     "name": "stdout",
     "output_type": "stream",
     "text": [
      "\n",
      "best epoch:134/loss:0.1152/f1:0.8457\n"
     ]
    },
    {
     "name": "stderr",
     "output_type": "stream",
     "text": [
      "100%|████████████████████████████████████████████████████████████████████████████████| 214/214 [01:58<00:00,  1.80it/s]\n",
      "2022-05-12 15:57:27,169 INFO: Epoch:[167/500]\n",
      "2022-05-12 15:57:27,170 INFO: Train Loss:0.078 | Acc:0.9792 | F1:0.9266\n",
      "2022-05-12 15:57:37,953 INFO: val Loss:0.184 | Acc:0.9638 | F1:0.8256\n"
     ]
    },
    {
     "name": "stdout",
     "output_type": "stream",
     "text": [
      "\n",
      "best epoch:134/loss:0.1152/f1:0.8457\n"
     ]
    },
    {
     "name": "stderr",
     "output_type": "stream",
     "text": [
      "100%|████████████████████████████████████████████████████████████████████████████████| 214/214 [01:59<00:00,  1.80it/s]\n",
      "2022-05-12 15:59:37,080 INFO: Epoch:[168/500]\n",
      "2022-05-12 15:59:37,081 INFO: Train Loss:0.075 | Acc:0.9781 | F1:0.9167\n",
      "2022-05-12 15:59:47,832 INFO: val Loss:0.221 | Acc:0.9591 | F1:0.7912\n"
     ]
    },
    {
     "name": "stdout",
     "output_type": "stream",
     "text": [
      "\n",
      "best epoch:134/loss:0.1152/f1:0.8457\n"
     ]
    },
    {
     "name": "stderr",
     "output_type": "stream",
     "text": [
      "100%|████████████████████████████████████████████████████████████████████████████████| 214/214 [01:59<00:00,  1.79it/s]\n",
      "2022-05-12 16:01:47,126 INFO: Epoch:[169/500]\n",
      "2022-05-12 16:01:47,126 INFO: Train Loss:0.087 | Acc:0.9769 | F1:0.9217\n",
      "2022-05-12 16:01:57,885 INFO: val Loss:0.150 | Acc:0.9638 | F1:0.8409\n"
     ]
    },
    {
     "name": "stdout",
     "output_type": "stream",
     "text": [
      "\n",
      "best epoch:134/loss:0.1152/f1:0.8457\n"
     ]
    },
    {
     "name": "stderr",
     "output_type": "stream",
     "text": [
      "100%|████████████████████████████████████████████████████████████████████████████████| 214/214 [01:58<00:00,  1.80it/s]\n",
      "2022-05-12 16:03:56,688 INFO: Epoch:[170/500]\n",
      "2022-05-12 16:03:56,688 INFO: Train Loss:0.092 | Acc:0.9754 | F1:0.9190\n",
      "2022-05-12 16:04:07,511 INFO: val Loss:0.191 | Acc:0.9568 | F1:0.7963\n"
     ]
    },
    {
     "name": "stdout",
     "output_type": "stream",
     "text": [
      "\n",
      "best epoch:134/loss:0.1152/f1:0.8457\n"
     ]
    },
    {
     "name": "stderr",
     "output_type": "stream",
     "text": [
      "100%|████████████████████████████████████████████████████████████████████████████████| 214/214 [01:59<00:00,  1.79it/s]\n",
      "2022-05-12 16:06:06,832 INFO: Epoch:[171/500]\n",
      "2022-05-12 16:06:06,832 INFO: Train Loss:0.099 | Acc:0.9752 | F1:0.9090\n",
      "2022-05-12 16:06:17,608 INFO: val Loss:0.208 | Acc:0.9509 | F1:0.8164\n"
     ]
    },
    {
     "name": "stdout",
     "output_type": "stream",
     "text": [
      "\n",
      "best epoch:134/loss:0.1152/f1:0.8457\n"
     ]
    },
    {
     "name": "stderr",
     "output_type": "stream",
     "text": [
      "100%|████████████████████████████████████████████████████████████████████████████████| 214/214 [01:59<00:00,  1.80it/s]\n",
      "2022-05-12 16:08:16,698 INFO: Epoch:[172/500]\n",
      "2022-05-12 16:08:16,699 INFO: Train Loss:0.096 | Acc:0.9734 | F1:0.9018\n",
      "2022-05-12 16:08:27,470 INFO: val Loss:0.169 | Acc:0.9661 | F1:0.8193\n"
     ]
    },
    {
     "name": "stdout",
     "output_type": "stream",
     "text": [
      "\n",
      "best epoch:134/loss:0.1152/f1:0.8457\n"
     ]
    },
    {
     "name": "stderr",
     "output_type": "stream",
     "text": [
      "100%|████████████████████████████████████████████████████████████████████████████████| 214/214 [01:59<00:00,  1.80it/s]\n",
      "2022-05-12 16:10:26,488 INFO: Epoch:[173/500]\n",
      "2022-05-12 16:10:26,488 INFO: Train Loss:0.077 | Acc:0.9816 | F1:0.9300\n",
      "2022-05-12 16:10:37,357 INFO: val Loss:0.199 | Acc:0.9614 | F1:0.8051\n"
     ]
    },
    {
     "name": "stdout",
     "output_type": "stream",
     "text": [
      "\n",
      "best epoch:134/loss:0.1152/f1:0.8457\n"
     ]
    },
    {
     "name": "stderr",
     "output_type": "stream",
     "text": [
      "100%|████████████████████████████████████████████████████████████████████████████████| 214/214 [01:59<00:00,  1.79it/s]\n",
      "2022-05-12 16:12:36,799 INFO: Epoch:[174/500]\n",
      "2022-05-12 16:12:36,799 INFO: Train Loss:0.087 | Acc:0.9775 | F1:0.9152\n",
      "2022-05-12 16:12:47,803 INFO: val Loss:0.168 | Acc:0.9650 | F1:0.8118\n"
     ]
    },
    {
     "name": "stdout",
     "output_type": "stream",
     "text": [
      "\n",
      "best epoch:134/loss:0.1152/f1:0.8457\n"
     ]
    },
    {
     "name": "stderr",
     "output_type": "stream",
     "text": [
      "100%|████████████████████████████████████████████████████████████████████████████████| 214/214 [02:00<00:00,  1.78it/s]\n",
      "2022-05-12 16:14:47,859 INFO: Epoch:[175/500]\n",
      "2022-05-12 16:14:47,859 INFO: Train Loss:0.100 | Acc:0.9743 | F1:0.8987\n",
      "2022-05-12 16:14:58,710 INFO: val Loss:0.145 | Acc:0.9661 | F1:0.8253\n"
     ]
    },
    {
     "name": "stdout",
     "output_type": "stream",
     "text": [
      "\n",
      "best epoch:134/loss:0.1152/f1:0.8457\n"
     ]
    },
    {
     "name": "stderr",
     "output_type": "stream",
     "text": [
      "100%|████████████████████████████████████████████████████████████████████████████████| 214/214 [01:59<00:00,  1.79it/s]\n",
      "2022-05-12 16:16:58,132 INFO: Epoch:[176/500]\n",
      "2022-05-12 16:16:58,133 INFO: Train Loss:0.081 | Acc:0.9792 | F1:0.9271\n",
      "2022-05-12 16:17:09,022 INFO: val Loss:0.131 | Acc:0.9685 | F1:0.8417\n"
     ]
    },
    {
     "name": "stdout",
     "output_type": "stream",
     "text": [
      "\n",
      "best epoch:134/loss:0.1152/f1:0.8457\n"
     ]
    },
    {
     "name": "stderr",
     "output_type": "stream",
     "text": [
      "100%|████████████████████████████████████████████████████████████████████████████████| 214/214 [01:59<00:00,  1.78it/s]\n",
      "2022-05-12 16:19:08,941 INFO: Epoch:[177/500]\n",
      "2022-05-12 16:19:08,942 INFO: Train Loss:0.081 | Acc:0.9769 | F1:0.9099\n",
      "2022-05-12 16:19:19,977 INFO: val Loss:0.127 | Acc:0.9673 | F1:0.8296\n"
     ]
    },
    {
     "name": "stdout",
     "output_type": "stream",
     "text": [
      "\n",
      "best epoch:134/loss:0.1152/f1:0.8457\n"
     ]
    },
    {
     "name": "stderr",
     "output_type": "stream",
     "text": [
      "100%|████████████████████████████████████████████████████████████████████████████████| 214/214 [01:59<00:00,  1.78it/s]\n",
      "2022-05-12 16:21:19,880 INFO: Epoch:[178/500]\n",
      "2022-05-12 16:21:19,881 INFO: Train Loss:0.080 | Acc:0.9787 | F1:0.9244\n",
      "2022-05-12 16:21:30,671 INFO: val Loss:0.146 | Acc:0.9661 | F1:0.8467\n"
     ]
    },
    {
     "name": "stdout",
     "output_type": "stream",
     "text": [
      "\n",
      "best epoch:134/loss:0.1152/f1:0.8457\n"
     ]
    },
    {
     "name": "stderr",
     "output_type": "stream",
     "text": [
      "100%|████████████████████████████████████████████████████████████████████████████████| 214/214 [01:59<00:00,  1.79it/s]\n",
      "2022-05-12 16:23:29,975 INFO: Epoch:[179/500]\n",
      "2022-05-12 16:23:29,975 INFO: Train Loss:0.084 | Acc:0.9781 | F1:0.9202\n",
      "2022-05-12 16:23:40,823 INFO: val Loss:0.186 | Acc:0.9591 | F1:0.8175\n"
     ]
    },
    {
     "name": "stdout",
     "output_type": "stream",
     "text": [
      "\n",
      "best epoch:134/loss:0.1152/f1:0.8457\n"
     ]
    },
    {
     "name": "stderr",
     "output_type": "stream",
     "text": [
      "100%|████████████████████████████████████████████████████████████████████████████████| 214/214 [01:59<00:00,  1.79it/s]\n",
      "2022-05-12 16:25:40,451 INFO: Epoch:[180/500]\n",
      "2022-05-12 16:25:40,451 INFO: Train Loss:0.081 | Acc:0.9775 | F1:0.9169\n",
      "2022-05-12 16:25:51,272 INFO: val Loss:0.208 | Acc:0.9626 | F1:0.8345\n"
     ]
    },
    {
     "name": "stdout",
     "output_type": "stream",
     "text": [
      "\n",
      "best epoch:134/loss:0.1152/f1:0.8457\n"
     ]
    },
    {
     "name": "stderr",
     "output_type": "stream",
     "text": [
      "100%|████████████████████████████████████████████████████████████████████████████████| 214/214 [01:59<00:00,  1.78it/s]\n",
      "2022-05-12 16:27:51,267 INFO: Epoch:[181/500]\n",
      "2022-05-12 16:27:51,267 INFO: Train Loss:0.080 | Acc:0.9769 | F1:0.9062\n",
      "2022-05-12 16:28:02,156 INFO: val Loss:0.174 | Acc:0.9603 | F1:0.8254\n"
     ]
    },
    {
     "name": "stdout",
     "output_type": "stream",
     "text": [
      "\n",
      "best epoch:134/loss:0.1152/f1:0.8457\n"
     ]
    },
    {
     "name": "stderr",
     "output_type": "stream",
     "text": [
      "100%|████████████████████████████████████████████████████████████████████████████████| 214/214 [01:59<00:00,  1.79it/s]\n",
      "2022-05-12 16:30:01,531 INFO: Epoch:[182/500]\n",
      "2022-05-12 16:30:01,531 INFO: Train Loss:0.090 | Acc:0.9769 | F1:0.9182\n",
      "2022-05-12 16:30:12,417 INFO: val Loss:0.135 | Acc:0.9661 | F1:0.8335\n"
     ]
    },
    {
     "name": "stdout",
     "output_type": "stream",
     "text": [
      "\n",
      "best epoch:134/loss:0.1152/f1:0.8457\n"
     ]
    },
    {
     "name": "stderr",
     "output_type": "stream",
     "text": [
      "100%|████████████████████████████████████████████████████████████████████████████████| 214/214 [01:59<00:00,  1.79it/s]\n",
      "2022-05-12 16:32:11,946 INFO: Epoch:[183/500]\n",
      "2022-05-12 16:32:11,946 INFO: Train Loss:0.095 | Acc:0.9775 | F1:0.9180\n",
      "2022-05-12 16:32:22,749 INFO: val Loss:0.300 | Acc:0.9299 | F1:0.7990\n"
     ]
    },
    {
     "name": "stdout",
     "output_type": "stream",
     "text": [
      "\n",
      "best epoch:134/loss:0.1152/f1:0.8457\n"
     ]
    },
    {
     "name": "stderr",
     "output_type": "stream",
     "text": [
      "100%|████████████████████████████████████████████████████████████████████████████████| 214/214 [01:59<00:00,  1.79it/s]\n",
      "2022-05-12 16:34:22,253 INFO: Epoch:[184/500]\n",
      "2022-05-12 16:34:22,254 INFO: Train Loss:0.094 | Acc:0.9737 | F1:0.9084\n",
      "2022-05-12 16:34:33,100 INFO: val Loss:0.173 | Acc:0.9556 | F1:0.8033\n",
      "2022-05-12 16:34:33,101 INFO: \n",
      "Best Val Epoch:134 | Val Loss:0.1152 | Val Acc:0.9696 | Val F1:0.8457\n",
      "2022-05-12 16:34:33,101 INFO: Total Process time:395.286Minute\n",
      "2022-05-12 16:34:33,104 INFO: {'exp_num': '1', 'data_path': './data', 'Kfold': 5, 'model_path': 'results/', 'encoder_name': 'regnety_160', 'drop_path_rate': 0.2, 'img_size': 224, 'batch_size': 16, 'epochs': 500, 'optimizer': 'Lamb', 'initial_lr': 5e-06, 'weight_decay': 0.001, 'aug_ver': 2, 'scheduler': 'cycle', 'warm_epoch': 5, 'max_lr': 0.001, 'min_lr': 5e-06, 'tmax': 145, 'patience': 50, 'clipping': None, 'amp': True, 'multi_gpu': False, 'logging': False, 'num_workers': 0, 'seed': 42, 'fold': 1}\n"
     ]
    },
    {
     "name": "stdout",
     "output_type": "stream",
     "text": [
      "<---- Training Params ---->\n",
      "Read train_df.csv\n",
      "Dataset size:3421\n",
      "Dataset size:856\n"
     ]
    },
    {
     "name": "stderr",
     "output_type": "stream",
     "text": [
      "2022-05-12 16:34:33,932 INFO: Loading pretrained weights from url (https://dl.fbaipublicfiles.com/deit/regnety_160-a5fe301d.pth)\n",
      "2022-05-12 16:34:34,335 INFO: Computational complexity:       15.93 GMac\n",
      "2022-05-12 16:34:34,336 INFO: Number of parameters:           80.83 M \n",
      "100%|████████████████████████████████████████████████████████████████████████████████| 214/214 [01:59<00:00,  1.80it/s]\n",
      "2022-05-12 16:36:33,462 INFO: Epoch:[001/500]\n",
      "2022-05-12 16:36:33,463 INFO: Train Loss:4.486 | Acc:0.0073 | F1:0.0034\n",
      "2022-05-12 16:36:44,287 INFO: val Loss:4.539 | Acc:0.0000 | F1:0.0000\n",
      "2022-05-12 16:36:46,264 INFO: -----------------SAVE:1epoch----------------\n"
     ]
    },
    {
     "name": "stdout",
     "output_type": "stream",
     "text": [
      "\n",
      "best epoch:1/loss:4.5391/f1:0.0000\n"
     ]
    },
    {
     "name": "stderr",
     "output_type": "stream",
     "text": [
      "100%|████████████████████████████████████████████████████████████████████████████████| 214/214 [01:59<00:00,  1.78it/s]\n",
      "2022-05-12 16:38:46,218 INFO: Epoch:[002/500]\n",
      "2022-05-12 16:38:46,219 INFO: Train Loss:4.471 | Acc:0.0114 | F1:0.0044\n",
      "2022-05-12 16:38:57,072 INFO: val Loss:4.514 | Acc:0.0000 | F1:0.0000\n",
      "2022-05-12 16:38:58,913 INFO: -----------------SAVE:2epoch----------------\n"
     ]
    },
    {
     "name": "stdout",
     "output_type": "stream",
     "text": [
      "\n",
      "best epoch:2/loss:4.5137/f1:0.0000\n"
     ]
    },
    {
     "name": "stderr",
     "output_type": "stream",
     "text": [
      "100%|████████████████████████████████████████████████████████████████████████████████| 214/214 [01:59<00:00,  1.79it/s]\n",
      "2022-05-12 16:40:58,244 INFO: Epoch:[003/500]\n",
      "2022-05-12 16:40:58,245 INFO: Train Loss:4.448 | Acc:0.0210 | F1:0.0055\n",
      "2022-05-12 16:41:09,103 INFO: val Loss:4.484 | Acc:0.0035 | F1:0.0005\n",
      "2022-05-12 16:41:11,148 INFO: -----------------SAVE:3epoch----------------\n"
     ]
    },
    {
     "name": "stdout",
     "output_type": "stream",
     "text": [
      "\n",
      "best epoch:3/loss:4.4843/f1:0.0005\n"
     ]
    },
    {
     "name": "stderr",
     "output_type": "stream",
     "text": [
      "100%|████████████████████████████████████████████████████████████████████████████████| 214/214 [01:58<00:00,  1.80it/s]\n",
      "2022-05-12 16:43:09,926 INFO: Epoch:[004/500]\n",
      "2022-05-12 16:43:09,927 INFO: Train Loss:4.406 | Acc:0.0330 | F1:0.0080\n",
      "2022-05-12 16:43:20,725 INFO: val Loss:4.447 | Acc:0.0035 | F1:0.0009\n",
      "2022-05-12 16:43:22,628 INFO: -----------------SAVE:4epoch----------------\n"
     ]
    },
    {
     "name": "stdout",
     "output_type": "stream",
     "text": [
      "\n",
      "best epoch:4/loss:4.4470/f1:0.0009\n"
     ]
    },
    {
     "name": "stderr",
     "output_type": "stream",
     "text": [
      "100%|████████████████████████████████████████████████████████████████████████████████| 214/214 [01:58<00:00,  1.80it/s]\n",
      "2022-05-12 16:45:21,516 INFO: Epoch:[005/500]\n",
      "2022-05-12 16:45:21,517 INFO: Train Loss:4.353 | Acc:0.0661 | F1:0.0159\n",
      "2022-05-12 16:45:32,376 INFO: val Loss:4.406 | Acc:0.0222 | F1:0.0029\n",
      "2022-05-12 16:45:34,336 INFO: -----------------SAVE:5epoch----------------\n"
     ]
    },
    {
     "name": "stdout",
     "output_type": "stream",
     "text": [
      "\n",
      "best epoch:5/loss:4.4057/f1:0.0029\n"
     ]
    },
    {
     "name": "stderr",
     "output_type": "stream",
     "text": [
      "100%|████████████████████████████████████████████████████████████████████████████████| 214/214 [01:59<00:00,  1.79it/s]\n",
      "2022-05-12 16:47:33,685 INFO: Epoch:[006/500]\n",
      "2022-05-12 16:47:33,685 INFO: Train Loss:4.023 | Acc:0.3549 | F1:0.0702\n",
      "2022-05-12 16:47:44,660 INFO: val Loss:3.824 | Acc:0.6075 | F1:0.1129\n",
      "2022-05-12 16:47:46,572 INFO: -----------------SAVE:6epoch----------------\n"
     ]
    },
    {
     "name": "stdout",
     "output_type": "stream",
     "text": [
      "\n",
      "best epoch:6/loss:3.8236/f1:0.1129\n"
     ]
    },
    {
     "name": "stderr",
     "output_type": "stream",
     "text": [
      "100%|████████████████████████████████████████████████████████████████████████████████| 214/214 [01:59<00:00,  1.79it/s]\n",
      "2022-05-12 16:49:46,319 INFO: Epoch:[007/500]\n",
      "2022-05-12 16:49:46,319 INFO: Train Loss:3.277 | Acc:0.7393 | F1:0.1342\n",
      "2022-05-12 16:49:57,270 INFO: val Loss:2.899 | Acc:0.7593 | F1:0.1336\n",
      "2022-05-12 16:49:59,248 INFO: -----------------SAVE:7epoch----------------\n"
     ]
    },
    {
     "name": "stdout",
     "output_type": "stream",
     "text": [
      "\n",
      "best epoch:7/loss:2.8991/f1:0.1336\n"
     ]
    },
    {
     "name": "stderr",
     "output_type": "stream",
     "text": [
      "100%|████████████████████████████████████████████████████████████████████████████████| 214/214 [01:59<00:00,  1.80it/s]\n",
      "2022-05-12 16:51:58,257 INFO: Epoch:[008/500]\n",
      "2022-05-12 16:51:58,257 INFO: Train Loss:2.469 | Acc:0.8223 | F1:0.1450\n",
      "2022-05-12 16:52:09,128 INFO: val Loss:1.929 | Acc:0.8353 | F1:0.1451\n",
      "2022-05-12 16:52:11,031 INFO: -----------------SAVE:8epoch----------------\n"
     ]
    },
    {
     "name": "stdout",
     "output_type": "stream",
     "text": [
      "\n",
      "best epoch:8/loss:1.9288/f1:0.1451\n"
     ]
    },
    {
     "name": "stderr",
     "output_type": "stream",
     "text": [
      "100%|████████████████████████████████████████████████████████████████████████████████| 214/214 [01:59<00:00,  1.79it/s]\n",
      "2022-05-12 16:54:10,341 INFO: Epoch:[009/500]\n",
      "2022-05-12 16:54:10,341 INFO: Train Loss:1.747 | Acc:0.8313 | F1:0.1476\n",
      "2022-05-12 16:54:21,055 INFO: val Loss:1.204 | Acc:0.8411 | F1:0.1521\n",
      "2022-05-12 16:54:23,032 INFO: -----------------SAVE:9epoch----------------\n"
     ]
    },
    {
     "name": "stdout",
     "output_type": "stream",
     "text": [
      "\n",
      "best epoch:9/loss:1.2040/f1:0.1521\n"
     ]
    },
    {
     "name": "stderr",
     "output_type": "stream",
     "text": [
      "100%|████████████████████████████████████████████████████████████████████████████████| 214/214 [01:57<00:00,  1.82it/s]\n",
      "2022-05-12 16:56:20,758 INFO: Epoch:[010/500]\n",
      "2022-05-12 16:56:20,759 INFO: Train Loss:1.338 | Acc:0.8389 | F1:0.1533\n",
      "2022-05-12 16:56:31,352 INFO: val Loss:1.076 | Acc:0.8470 | F1:0.1554\n",
      "2022-05-12 16:56:33,227 INFO: -----------------SAVE:10epoch----------------\n"
     ]
    },
    {
     "name": "stdout",
     "output_type": "stream",
     "text": [
      "\n",
      "best epoch:10/loss:1.0761/f1:0.1554\n"
     ]
    },
    {
     "name": "stderr",
     "output_type": "stream",
     "text": [
      "100%|████████████████████████████████████████████████████████████████████████████████| 214/214 [02:02<00:00,  1.74it/s]\n",
      "2022-05-12 16:58:35,912 INFO: Epoch:[011/500]\n",
      "2022-05-12 16:58:35,913 INFO: Train Loss:1.179 | Acc:0.8436 | F1:0.1549\n",
      "2022-05-12 16:58:46,712 INFO: val Loss:0.974 | Acc:0.8493 | F1:0.1563\n",
      "2022-05-12 16:58:48,772 INFO: -----------------SAVE:11epoch----------------\n"
     ]
    },
    {
     "name": "stdout",
     "output_type": "stream",
     "text": [
      "\n",
      "best epoch:11/loss:0.9741/f1:0.1563\n"
     ]
    },
    {
     "name": "stderr",
     "output_type": "stream",
     "text": [
      "100%|████████████████████████████████████████████████████████████████████████████████| 214/214 [01:57<00:00,  1.81it/s]\n",
      "2022-05-12 17:00:46,737 INFO: Epoch:[012/500]\n",
      "2022-05-12 17:00:46,737 INFO: Train Loss:1.064 | Acc:0.8462 | F1:0.1555\n",
      "2022-05-12 17:00:57,367 INFO: val Loss:0.929 | Acc:0.8493 | F1:0.1563\n",
      "2022-05-12 17:00:59,366 INFO: -----------------SAVE:12epoch----------------\n"
     ]
    },
    {
     "name": "stdout",
     "output_type": "stream",
     "text": [
      "\n",
      "best epoch:12/loss:0.9292/f1:0.1563\n"
     ]
    },
    {
     "name": "stderr",
     "output_type": "stream",
     "text": [
      "100%|████████████████████████████████████████████████████████████████████████████████| 214/214 [01:57<00:00,  1.82it/s]\n",
      "2022-05-12 17:02:57,144 INFO: Epoch:[013/500]\n",
      "2022-05-12 17:02:57,144 INFO: Train Loss:0.978 | Acc:0.8465 | F1:0.1557\n",
      "2022-05-12 17:03:07,816 INFO: val Loss:0.845 | Acc:0.8493 | F1:0.1563\n",
      "2022-05-12 17:03:10,088 INFO: -----------------SAVE:13epoch----------------\n"
     ]
    },
    {
     "name": "stdout",
     "output_type": "stream",
     "text": [
      "\n",
      "best epoch:13/loss:0.8446/f1:0.1563\n"
     ]
    },
    {
     "name": "stderr",
     "output_type": "stream",
     "text": [
      "100%|████████████████████████████████████████████████████████████████████████████████| 214/214 [01:57<00:00,  1.81it/s]\n",
      "2022-05-12 17:05:08,033 INFO: Epoch:[014/500]\n",
      "2022-05-12 17:05:08,033 INFO: Train Loss:0.925 | Acc:0.8457 | F1:0.1554\n",
      "2022-05-12 17:05:18,648 INFO: val Loss:0.779 | Acc:0.8493 | F1:0.1563\n",
      "2022-05-12 17:05:20,835 INFO: -----------------SAVE:14epoch----------------\n"
     ]
    },
    {
     "name": "stdout",
     "output_type": "stream",
     "text": [
      "\n",
      "best epoch:14/loss:0.7795/f1:0.1563\n"
     ]
    },
    {
     "name": "stderr",
     "output_type": "stream",
     "text": [
      "100%|████████████████████████████████████████████████████████████████████████████████| 214/214 [01:58<00:00,  1.81it/s]\n",
      "2022-05-12 17:07:19,377 INFO: Epoch:[015/500]\n",
      "2022-05-12 17:07:19,377 INFO: Train Loss:0.854 | Acc:0.8474 | F1:0.1559\n",
      "2022-05-12 17:07:30,107 INFO: val Loss:0.741 | Acc:0.8493 | F1:0.1562\n",
      "2022-05-12 17:07:32,132 INFO: -----------------SAVE:15epoch----------------\n"
     ]
    },
    {
     "name": "stdout",
     "output_type": "stream",
     "text": [
      "\n",
      "best epoch:15/loss:0.7412/f1:0.1562\n"
     ]
    },
    {
     "name": "stderr",
     "output_type": "stream",
     "text": [
      "100%|████████████████████████████████████████████████████████████████████████████████| 214/214 [01:57<00:00,  1.82it/s]\n",
      "2022-05-12 17:09:29,684 INFO: Epoch:[016/500]\n",
      "2022-05-12 17:09:29,684 INFO: Train Loss:0.813 | Acc:0.8474 | F1:0.1579\n",
      "2022-05-12 17:09:40,278 INFO: val Loss:0.718 | Acc:0.8516 | F1:0.1679\n",
      "2022-05-12 17:09:42,242 INFO: -----------------SAVE:16epoch----------------\n"
     ]
    },
    {
     "name": "stdout",
     "output_type": "stream",
     "text": [
      "\n",
      "best epoch:16/loss:0.7182/f1:0.1679\n"
     ]
    },
    {
     "name": "stderr",
     "output_type": "stream",
     "text": [
      "100%|████████████████████████████████████████████████████████████████████████████████| 214/214 [01:58<00:00,  1.81it/s]\n",
      "2022-05-12 17:11:40,417 INFO: Epoch:[017/500]\n",
      "2022-05-12 17:11:40,418 INFO: Train Loss:0.769 | Acc:0.8486 | F1:0.1609\n",
      "2022-05-12 17:11:51,150 INFO: val Loss:0.686 | Acc:0.8446 | F1:0.1724\n",
      "2022-05-12 17:11:53,338 INFO: -----------------SAVE:17epoch----------------\n"
     ]
    },
    {
     "name": "stdout",
     "output_type": "stream",
     "text": [
      "\n",
      "best epoch:17/loss:0.6863/f1:0.1724\n"
     ]
    },
    {
     "name": "stderr",
     "output_type": "stream",
     "text": [
      "100%|████████████████████████████████████████████████████████████████████████████████| 214/214 [01:58<00:00,  1.81it/s]\n",
      "2022-05-12 17:13:51,739 INFO: Epoch:[018/500]\n",
      "2022-05-12 17:13:51,740 INFO: Train Loss:0.726 | Acc:0.8489 | F1:0.1723\n",
      "2022-05-12 17:14:02,443 INFO: val Loss:0.651 | Acc:0.8551 | F1:0.1893\n",
      "2022-05-12 17:14:04,376 INFO: -----------------SAVE:18epoch----------------\n"
     ]
    },
    {
     "name": "stdout",
     "output_type": "stream",
     "text": [
      "\n",
      "best epoch:18/loss:0.6512/f1:0.1893\n"
     ]
    },
    {
     "name": "stderr",
     "output_type": "stream",
     "text": [
      "100%|████████████████████████████████████████████████████████████████████████████████| 214/214 [01:58<00:00,  1.81it/s]\n",
      "2022-05-12 17:16:02,926 INFO: Epoch:[019/500]\n",
      "2022-05-12 17:16:02,926 INFO: Train Loss:0.689 | Acc:0.8500 | F1:0.1751\n",
      "2022-05-12 17:16:13,576 INFO: val Loss:0.623 | Acc:0.8551 | F1:0.1893\n",
      "2022-05-12 17:16:15,636 INFO: -----------------SAVE:19epoch----------------\n"
     ]
    },
    {
     "name": "stdout",
     "output_type": "stream",
     "text": [
      "\n",
      "best epoch:19/loss:0.6232/f1:0.1893\n"
     ]
    },
    {
     "name": "stderr",
     "output_type": "stream",
     "text": [
      "100%|████████████████████████████████████████████████████████████████████████████████| 214/214 [01:58<00:00,  1.80it/s]\n",
      "2022-05-12 17:18:14,295 INFO: Epoch:[020/500]\n",
      "2022-05-12 17:18:14,296 INFO: Train Loss:0.672 | Acc:0.8530 | F1:0.1891\n",
      "2022-05-12 17:18:25,122 INFO: val Loss:0.587 | Acc:0.8668 | F1:0.2471\n",
      "2022-05-12 17:18:27,493 INFO: -----------------SAVE:20epoch----------------\n"
     ]
    },
    {
     "name": "stdout",
     "output_type": "stream",
     "text": [
      "\n",
      "best epoch:20/loss:0.5865/f1:0.2471\n"
     ]
    },
    {
     "name": "stderr",
     "output_type": "stream",
     "text": [
      "100%|████████████████████████████████████████████████████████████████████████████████| 214/214 [06:02<00:00,  1.69s/it]\n",
      "2022-05-12 17:24:29,883 INFO: Epoch:[021/500]\n",
      "2022-05-12 17:24:29,883 INFO: Train Loss:0.625 | Acc:0.8609 | F1:0.2292\n",
      "2022-05-12 17:25:02,792 INFO: val Loss:0.547 | Acc:0.8633 | F1:0.2387\n",
      "2022-05-12 17:25:04,740 INFO: -----------------SAVE:21epoch----------------\n"
     ]
    },
    {
     "name": "stdout",
     "output_type": "stream",
     "text": [
      "\n",
      "best epoch:21/loss:0.5473/f1:0.2387\n"
     ]
    },
    {
     "name": "stderr",
     "output_type": "stream",
     "text": [
      "100%|████████████████████████████████████████████████████████████████████████████████| 214/214 [04:18<00:00,  1.21s/it]\n",
      "2022-05-12 17:29:23,349 INFO: Epoch:[022/500]\n",
      "2022-05-12 17:29:23,349 INFO: Train Loss:0.597 | Acc:0.8638 | F1:0.2659\n",
      "2022-05-12 17:29:43,585 INFO: val Loss:0.527 | Acc:0.8797 | F1:0.3173\n",
      "2022-05-12 17:29:45,442 INFO: -----------------SAVE:22epoch----------------\n"
     ]
    },
    {
     "name": "stdout",
     "output_type": "stream",
     "text": [
      "\n",
      "best epoch:22/loss:0.5272/f1:0.3173\n"
     ]
    },
    {
     "name": "stderr",
     "output_type": "stream",
     "text": [
      "100%|████████████████████████████████████████████████████████████████████████████████| 214/214 [05:22<00:00,  1.51s/it]\n",
      "2022-05-12 17:35:08,282 INFO: Epoch:[023/500]\n",
      "2022-05-12 17:35:08,282 INFO: Train Loss:0.555 | Acc:0.8693 | F1:0.2936\n",
      "2022-05-12 17:35:29,322 INFO: val Loss:0.474 | Acc:0.8843 | F1:0.3307\n",
      "2022-05-12 17:35:31,484 INFO: -----------------SAVE:23epoch----------------\n"
     ]
    },
    {
     "name": "stdout",
     "output_type": "stream",
     "text": [
      "\n",
      "best epoch:23/loss:0.4740/f1:0.3307\n"
     ]
    },
    {
     "name": "stderr",
     "output_type": "stream",
     "text": [
      "100%|████████████████████████████████████████████████████████████████████████████████| 214/214 [03:36<00:00,  1.01s/it]\n",
      "2022-05-12 17:39:07,591 INFO: Epoch:[024/500]\n",
      "2022-05-12 17:39:07,591 INFO: Train Loss:0.535 | Acc:0.8723 | F1:0.3071\n",
      "2022-05-12 17:39:28,750 INFO: val Loss:0.446 | Acc:0.8797 | F1:0.3602\n",
      "2022-05-12 17:39:31,115 INFO: -----------------SAVE:24epoch----------------\n"
     ]
    },
    {
     "name": "stdout",
     "output_type": "stream",
     "text": [
      "\n",
      "best epoch:24/loss:0.4462/f1:0.3602\n"
     ]
    },
    {
     "name": "stderr",
     "output_type": "stream",
     "text": [
      "100%|████████████████████████████████████████████████████████████████████████████████| 214/214 [04:02<00:00,  1.13s/it]\n",
      "2022-05-12 17:43:33,596 INFO: Epoch:[025/500]\n",
      "2022-05-12 17:43:33,596 INFO: Train Loss:0.510 | Acc:0.8813 | F1:0.3489\n",
      "2022-05-12 17:43:58,792 INFO: val Loss:0.429 | Acc:0.8995 | F1:0.4304\n",
      "2022-05-12 17:44:01,037 INFO: -----------------SAVE:25epoch----------------\n"
     ]
    },
    {
     "name": "stdout",
     "output_type": "stream",
     "text": [
      "\n",
      "best epoch:25/loss:0.4290/f1:0.4304\n"
     ]
    },
    {
     "name": "stderr",
     "output_type": "stream",
     "text": [
      "100%|████████████████████████████████████████████████████████████████████████████████| 214/214 [03:22<00:00,  1.06it/s]\n",
      "2022-05-12 17:47:23,053 INFO: Epoch:[026/500]\n",
      "2022-05-12 17:47:23,053 INFO: Train Loss:0.486 | Acc:0.8840 | F1:0.3756\n",
      "2022-05-12 17:47:34,342 INFO: val Loss:0.416 | Acc:0.8914 | F1:0.3898\n",
      "2022-05-12 17:47:36,271 INFO: -----------------SAVE:26epoch----------------\n"
     ]
    },
    {
     "name": "stdout",
     "output_type": "stream",
     "text": [
      "\n",
      "best epoch:26/loss:0.4163/f1:0.3898\n"
     ]
    },
    {
     "name": "stderr",
     "output_type": "stream",
     "text": [
      "100%|████████████████████████████████████████████████████████████████████████████████| 214/214 [02:02<00:00,  1.75it/s]\n",
      "2022-05-12 17:49:38,441 INFO: Epoch:[027/500]\n",
      "2022-05-12 17:49:38,442 INFO: Train Loss:0.461 | Acc:0.8889 | F1:0.4106\n",
      "2022-05-12 17:49:50,317 INFO: val Loss:0.389 | Acc:0.9007 | F1:0.4398\n",
      "2022-05-12 17:49:52,617 INFO: -----------------SAVE:27epoch----------------\n"
     ]
    },
    {
     "name": "stdout",
     "output_type": "stream",
     "text": [
      "\n",
      "best epoch:27/loss:0.3888/f1:0.4398\n"
     ]
    },
    {
     "name": "stderr",
     "output_type": "stream",
     "text": [
      "100%|████████████████████████████████████████████████████████████████████████████████| 214/214 [02:03<00:00,  1.73it/s]\n",
      "2022-05-12 17:51:56,184 INFO: Epoch:[028/500]\n",
      "2022-05-12 17:51:56,184 INFO: Train Loss:0.430 | Acc:0.8956 | F1:0.4411\n",
      "2022-05-12 17:52:07,446 INFO: val Loss:0.352 | Acc:0.8972 | F1:0.4703\n",
      "2022-05-12 17:52:09,365 INFO: -----------------SAVE:28epoch----------------\n"
     ]
    },
    {
     "name": "stdout",
     "output_type": "stream",
     "text": [
      "\n",
      "best epoch:28/loss:0.3521/f1:0.4703\n"
     ]
    },
    {
     "name": "stderr",
     "output_type": "stream",
     "text": [
      "100%|████████████████████████████████████████████████████████████████████████████████| 214/214 [01:58<00:00,  1.80it/s]\n",
      "2022-05-12 17:54:08,318 INFO: Epoch:[029/500]\n",
      "2022-05-12 17:54:08,318 INFO: Train Loss:0.413 | Acc:0.8971 | F1:0.4591\n",
      "2022-05-12 17:54:18,884 INFO: val Loss:0.345 | Acc:0.9136 | F1:0.5114\n",
      "2022-05-12 17:54:21,164 INFO: -----------------SAVE:29epoch----------------\n"
     ]
    },
    {
     "name": "stdout",
     "output_type": "stream",
     "text": [
      "\n",
      "best epoch:29/loss:0.3453/f1:0.5114\n"
     ]
    },
    {
     "name": "stderr",
     "output_type": "stream",
     "text": [
      "100%|████████████████████████████████████████████████████████████████████████████████| 214/214 [01:58<00:00,  1.81it/s]\n",
      "2022-05-12 17:56:19,328 INFO: Epoch:[030/500]\n",
      "2022-05-12 17:56:19,328 INFO: Train Loss:0.395 | Acc:0.9032 | F1:0.4909\n",
      "2022-05-12 17:56:29,941 INFO: val Loss:0.331 | Acc:0.9124 | F1:0.5219\n",
      "2022-05-12 17:56:32,114 INFO: -----------------SAVE:30epoch----------------\n"
     ]
    },
    {
     "name": "stdout",
     "output_type": "stream",
     "text": [
      "\n",
      "best epoch:30/loss:0.3309/f1:0.5219\n"
     ]
    },
    {
     "name": "stderr",
     "output_type": "stream",
     "text": [
      "100%|████████████████████████████████████████████████████████████████████████████████| 214/214 [01:57<00:00,  1.81it/s]\n",
      "2022-05-12 17:58:30,068 INFO: Epoch:[031/500]\n",
      "2022-05-12 17:58:30,069 INFO: Train Loss:0.385 | Acc:0.9038 | F1:0.5020\n",
      "2022-05-12 17:58:40,647 INFO: val Loss:0.322 | Acc:0.9112 | F1:0.5150\n",
      "2022-05-12 17:58:42,884 INFO: -----------------SAVE:31epoch----------------\n"
     ]
    },
    {
     "name": "stdout",
     "output_type": "stream",
     "text": [
      "\n",
      "best epoch:31/loss:0.3222/f1:0.5150\n"
     ]
    },
    {
     "name": "stderr",
     "output_type": "stream",
     "text": [
      "100%|████████████████████████████████████████████████████████████████████████████████| 214/214 [01:57<00:00,  1.82it/s]\n",
      "2022-05-12 18:00:40,241 INFO: Epoch:[032/500]\n",
      "2022-05-12 18:00:40,241 INFO: Train Loss:0.350 | Acc:0.9103 | F1:0.5291\n",
      "2022-05-12 18:00:50,698 INFO: val Loss:0.303 | Acc:0.9206 | F1:0.5415\n",
      "2022-05-12 18:00:52,628 INFO: -----------------SAVE:32epoch----------------\n"
     ]
    },
    {
     "name": "stdout",
     "output_type": "stream",
     "text": [
      "\n",
      "best epoch:32/loss:0.3034/f1:0.5415\n"
     ]
    },
    {
     "name": "stderr",
     "output_type": "stream",
     "text": [
      "100%|████████████████████████████████████████████████████████████████████████████████| 214/214 [01:57<00:00,  1.82it/s]\n",
      "2022-05-12 18:02:50,095 INFO: Epoch:[033/500]\n",
      "2022-05-12 18:02:50,095 INFO: Train Loss:0.341 | Acc:0.9100 | F1:0.5316\n",
      "2022-05-12 18:03:00,584 INFO: val Loss:0.286 | Acc:0.9229 | F1:0.5743\n",
      "2022-05-12 18:03:02,480 INFO: -----------------SAVE:33epoch----------------\n"
     ]
    },
    {
     "name": "stdout",
     "output_type": "stream",
     "text": [
      "\n",
      "best epoch:33/loss:0.2860/f1:0.5743\n"
     ]
    },
    {
     "name": "stderr",
     "output_type": "stream",
     "text": [
      "100%|████████████████████████████████████████████████████████████████████████████████| 214/214 [01:57<00:00,  1.82it/s]\n",
      "2022-05-12 18:05:00,229 INFO: Epoch:[034/500]\n",
      "2022-05-12 18:05:00,230 INFO: Train Loss:0.330 | Acc:0.9132 | F1:0.5505\n",
      "2022-05-12 18:05:10,833 INFO: val Loss:0.278 | Acc:0.9206 | F1:0.5328\n",
      "2022-05-12 18:05:12,653 INFO: -----------------SAVE:34epoch----------------\n"
     ]
    },
    {
     "name": "stdout",
     "output_type": "stream",
     "text": [
      "\n",
      "best epoch:34/loss:0.2785/f1:0.5328\n"
     ]
    },
    {
     "name": "stderr",
     "output_type": "stream",
     "text": [
      "100%|████████████████████████████████████████████████████████████████████████████████| 214/214 [01:57<00:00,  1.83it/s]\n",
      "2022-05-12 18:07:09,664 INFO: Epoch:[035/500]\n",
      "2022-05-12 18:07:09,664 INFO: Train Loss:0.314 | Acc:0.9196 | F1:0.5855\n",
      "2022-05-12 18:07:20,229 INFO: val Loss:0.276 | Acc:0.9206 | F1:0.5746\n",
      "2022-05-12 18:07:22,461 INFO: -----------------SAVE:35epoch----------------\n"
     ]
    },
    {
     "name": "stdout",
     "output_type": "stream",
     "text": [
      "\n",
      "best epoch:35/loss:0.2764/f1:0.5746\n"
     ]
    },
    {
     "name": "stderr",
     "output_type": "stream",
     "text": [
      "100%|████████████████████████████████████████████████████████████████████████████████| 214/214 [01:56<00:00,  1.83it/s]\n",
      "2022-05-12 18:09:19,253 INFO: Epoch:[036/500]\n",
      "2022-05-12 18:09:19,253 INFO: Train Loss:0.306 | Acc:0.9199 | F1:0.6027\n",
      "2022-05-12 18:09:29,712 INFO: val Loss:0.290 | Acc:0.9136 | F1:0.5858\n"
     ]
    },
    {
     "name": "stdout",
     "output_type": "stream",
     "text": [
      "\n",
      "best epoch:35/loss:0.2764/f1:0.5746\n"
     ]
    },
    {
     "name": "stderr",
     "output_type": "stream",
     "text": [
      "100%|████████████████████████████████████████████████████████████████████████████████| 214/214 [01:58<00:00,  1.80it/s]\n",
      "2022-05-12 18:11:28,401 INFO: Epoch:[037/500]\n",
      "2022-05-12 18:11:28,402 INFO: Train Loss:0.294 | Acc:0.9234 | F1:0.6151\n",
      "2022-05-12 18:11:39,332 INFO: val Loss:0.259 | Acc:0.9252 | F1:0.6021\n",
      "2022-05-12 18:11:41,268 INFO: -----------------SAVE:37epoch----------------\n"
     ]
    },
    {
     "name": "stdout",
     "output_type": "stream",
     "text": [
      "\n",
      "best epoch:37/loss:0.2591/f1:0.6021\n"
     ]
    },
    {
     "name": "stderr",
     "output_type": "stream",
     "text": [
      "100%|████████████████████████████████████████████████████████████████████████████████| 214/214 [01:58<00:00,  1.80it/s]\n",
      "2022-05-12 18:13:40,225 INFO: Epoch:[038/500]\n",
      "2022-05-12 18:13:40,225 INFO: Train Loss:0.275 | Acc:0.9237 | F1:0.6102\n",
      "2022-05-12 18:13:50,710 INFO: val Loss:0.251 | Acc:0.9276 | F1:0.6007\n",
      "2022-05-12 18:13:52,571 INFO: -----------------SAVE:38epoch----------------\n"
     ]
    },
    {
     "name": "stdout",
     "output_type": "stream",
     "text": [
      "\n",
      "best epoch:38/loss:0.2508/f1:0.6007\n"
     ]
    },
    {
     "name": "stderr",
     "output_type": "stream",
     "text": [
      "100%|████████████████████████████████████████████████████████████████████████████████| 214/214 [01:58<00:00,  1.81it/s]\n",
      "2022-05-12 18:15:50,644 INFO: Epoch:[039/500]\n",
      "2022-05-12 18:15:50,644 INFO: Train Loss:0.272 | Acc:0.9272 | F1:0.6425\n",
      "2022-05-12 18:16:02,224 INFO: val Loss:0.251 | Acc:0.9334 | F1:0.6709\n"
     ]
    },
    {
     "name": "stdout",
     "output_type": "stream",
     "text": [
      "\n",
      "best epoch:38/loss:0.2508/f1:0.6007\n"
     ]
    },
    {
     "name": "stderr",
     "output_type": "stream",
     "text": [
      "100%|████████████████████████████████████████████████████████████████████████████████| 214/214 [01:56<00:00,  1.83it/s]\n",
      "2022-05-12 18:17:58,921 INFO: Epoch:[040/500]\n",
      "2022-05-12 18:17:58,922 INFO: Train Loss:0.250 | Acc:0.9354 | F1:0.6758\n",
      "2022-05-12 18:18:09,484 INFO: val Loss:0.236 | Acc:0.9229 | F1:0.5856\n",
      "2022-05-12 18:18:11,340 INFO: -----------------SAVE:40epoch----------------\n"
     ]
    },
    {
     "name": "stdout",
     "output_type": "stream",
     "text": [
      "\n",
      "best epoch:40/loss:0.2357/f1:0.5856\n"
     ]
    },
    {
     "name": "stderr",
     "output_type": "stream",
     "text": [
      "100%|████████████████████████████████████████████████████████████████████████████████| 214/214 [02:00<00:00,  1.77it/s]\n",
      "2022-05-12 18:20:11,963 INFO: Epoch:[041/500]\n",
      "2022-05-12 18:20:11,964 INFO: Train Loss:0.233 | Acc:0.9386 | F1:0.6972\n",
      "2022-05-12 18:20:23,764 INFO: val Loss:0.211 | Acc:0.9416 | F1:0.6817\n",
      "2022-05-12 18:20:26,288 INFO: -----------------SAVE:41epoch----------------\n"
     ]
    },
    {
     "name": "stdout",
     "output_type": "stream",
     "text": [
      "\n",
      "best epoch:41/loss:0.2112/f1:0.6817\n"
     ]
    },
    {
     "name": "stderr",
     "output_type": "stream",
     "text": [
      "100%|████████████████████████████████████████████████████████████████████████████████| 214/214 [02:07<00:00,  1.68it/s]\n",
      "2022-05-12 18:22:33,943 INFO: Epoch:[042/500]\n",
      "2022-05-12 18:22:33,944 INFO: Train Loss:0.235 | Acc:0.9348 | F1:0.6814\n",
      "2022-05-12 18:22:45,598 INFO: val Loss:0.230 | Acc:0.9311 | F1:0.6231\n"
     ]
    },
    {
     "name": "stdout",
     "output_type": "stream",
     "text": [
      "\n",
      "best epoch:41/loss:0.2112/f1:0.6817\n"
     ]
    },
    {
     "name": "stderr",
     "output_type": "stream",
     "text": [
      "100%|████████████████████████████████████████████████████████████████████████████████| 214/214 [02:09<00:00,  1.65it/s]\n",
      "2022-05-12 18:24:54,969 INFO: Epoch:[043/500]\n",
      "2022-05-12 18:24:54,969 INFO: Train Loss:0.228 | Acc:0.9389 | F1:0.7180\n",
      "2022-05-12 18:25:06,872 INFO: val Loss:0.234 | Acc:0.9357 | F1:0.6537\n"
     ]
    },
    {
     "name": "stdout",
     "output_type": "stream",
     "text": [
      "\n",
      "best epoch:41/loss:0.2112/f1:0.6817\n"
     ]
    },
    {
     "name": "stderr",
     "output_type": "stream",
     "text": [
      "100%|████████████████████████████████████████████████████████████████████████████████| 214/214 [02:06<00:00,  1.69it/s]\n",
      "2022-05-12 18:27:13,694 INFO: Epoch:[044/500]\n",
      "2022-05-12 18:27:13,695 INFO: Train Loss:0.224 | Acc:0.9374 | F1:0.7187\n",
      "2022-05-12 18:27:25,364 INFO: val Loss:0.197 | Acc:0.9521 | F1:0.7448\n",
      "2022-05-12 18:27:27,331 INFO: -----------------SAVE:44epoch----------------\n"
     ]
    },
    {
     "name": "stdout",
     "output_type": "stream",
     "text": [
      "\n",
      "best epoch:44/loss:0.1967/f1:0.7448\n"
     ]
    },
    {
     "name": "stderr",
     "output_type": "stream",
     "text": [
      "100%|████████████████████████████████████████████████████████████████████████████████| 214/214 [02:06<00:00,  1.69it/s]\n",
      "2022-05-12 18:29:34,015 INFO: Epoch:[045/500]\n",
      "2022-05-12 18:29:34,015 INFO: Train Loss:0.210 | Acc:0.9430 | F1:0.7404\n",
      "2022-05-12 18:29:46,328 INFO: val Loss:0.192 | Acc:0.9486 | F1:0.7153\n",
      "2022-05-12 18:29:48,385 INFO: -----------------SAVE:45epoch----------------\n"
     ]
    },
    {
     "name": "stdout",
     "output_type": "stream",
     "text": [
      "\n",
      "best epoch:45/loss:0.1915/f1:0.7153\n"
     ]
    },
    {
     "name": "stderr",
     "output_type": "stream",
     "text": [
      "100%|████████████████████████████████████████████████████████████████████████████████| 214/214 [02:03<00:00,  1.73it/s]\n",
      "2022-05-12 18:31:51,773 INFO: Epoch:[046/500]\n",
      "2022-05-12 18:31:51,774 INFO: Train Loss:0.215 | Acc:0.9404 | F1:0.7289\n",
      "2022-05-12 18:32:02,559 INFO: val Loss:0.201 | Acc:0.9439 | F1:0.7137\n"
     ]
    },
    {
     "name": "stdout",
     "output_type": "stream",
     "text": [
      "\n",
      "best epoch:45/loss:0.1915/f1:0.7153\n"
     ]
    },
    {
     "name": "stderr",
     "output_type": "stream",
     "text": [
      "100%|████████████████████████████████████████████████████████████████████████████████| 214/214 [01:59<00:00,  1.80it/s]\n",
      "2022-05-12 18:34:01,657 INFO: Epoch:[047/500]\n",
      "2022-05-12 18:34:01,658 INFO: Train Loss:0.188 | Acc:0.9494 | F1:0.7629\n",
      "2022-05-12 18:34:12,392 INFO: val Loss:0.211 | Acc:0.9416 | F1:0.6815\n"
     ]
    },
    {
     "name": "stdout",
     "output_type": "stream",
     "text": [
      "\n",
      "best epoch:45/loss:0.1915/f1:0.7153\n"
     ]
    },
    {
     "name": "stderr",
     "output_type": "stream",
     "text": [
      "100%|████████████████████████████████████████████████████████████████████████████████| 214/214 [02:02<00:00,  1.74it/s]\n",
      "2022-05-12 18:36:15,210 INFO: Epoch:[048/500]\n",
      "2022-05-12 18:36:15,210 INFO: Train Loss:0.194 | Acc:0.9459 | F1:0.7428\n",
      "2022-05-12 18:36:26,607 INFO: val Loss:0.182 | Acc:0.9579 | F1:0.7396\n",
      "2022-05-12 18:36:28,700 INFO: -----------------SAVE:48epoch----------------\n"
     ]
    },
    {
     "name": "stdout",
     "output_type": "stream",
     "text": [
      "\n",
      "best epoch:48/loss:0.1822/f1:0.7396\n"
     ]
    },
    {
     "name": "stderr",
     "output_type": "stream",
     "text": [
      "100%|████████████████████████████████████████████████████████████████████████████████| 214/214 [02:02<00:00,  1.75it/s]\n",
      "2022-05-12 18:38:31,175 INFO: Epoch:[049/500]\n",
      "2022-05-12 18:38:31,176 INFO: Train Loss:0.194 | Acc:0.9468 | F1:0.7606\n",
      "2022-05-12 18:38:42,303 INFO: val Loss:0.203 | Acc:0.9416 | F1:0.6644\n"
     ]
    },
    {
     "name": "stdout",
     "output_type": "stream",
     "text": [
      "\n",
      "best epoch:48/loss:0.1822/f1:0.7396\n"
     ]
    },
    {
     "name": "stderr",
     "output_type": "stream",
     "text": [
      "100%|████████████████████████████████████████████████████████████████████████████████| 214/214 [02:02<00:00,  1.75it/s]\n",
      "2022-05-12 18:40:44,772 INFO: Epoch:[050/500]\n",
      "2022-05-12 18:40:44,773 INFO: Train Loss:0.189 | Acc:0.9524 | F1:0.7928\n",
      "2022-05-12 18:40:56,299 INFO: val Loss:0.212 | Acc:0.9369 | F1:0.6855\n"
     ]
    },
    {
     "name": "stdout",
     "output_type": "stream",
     "text": [
      "\n",
      "best epoch:48/loss:0.1822/f1:0.7396\n"
     ]
    },
    {
     "name": "stderr",
     "output_type": "stream",
     "text": [
      "100%|████████████████████████████████████████████████████████████████████████████████| 214/214 [02:04<00:00,  1.73it/s]\n",
      "2022-05-12 18:43:00,336 INFO: Epoch:[051/500]\n",
      "2022-05-12 18:43:00,336 INFO: Train Loss:0.179 | Acc:0.9518 | F1:0.7827\n",
      "2022-05-12 18:43:12,122 INFO: val Loss:0.196 | Acc:0.9498 | F1:0.7063\n"
     ]
    },
    {
     "name": "stdout",
     "output_type": "stream",
     "text": [
      "\n",
      "best epoch:48/loss:0.1822/f1:0.7396\n"
     ]
    },
    {
     "name": "stderr",
     "output_type": "stream",
     "text": [
      "100%|████████████████████████████████████████████████████████████████████████████████| 214/214 [02:07<00:00,  1.67it/s]\n",
      "2022-05-12 18:45:19,914 INFO: Epoch:[052/500]\n",
      "2022-05-12 18:45:19,915 INFO: Train Loss:0.180 | Acc:0.9509 | F1:0.7708\n",
      "2022-05-12 18:45:33,285 INFO: val Loss:0.210 | Acc:0.9498 | F1:0.7292\n"
     ]
    },
    {
     "name": "stdout",
     "output_type": "stream",
     "text": [
      "\n",
      "best epoch:48/loss:0.1822/f1:0.7396\n"
     ]
    },
    {
     "name": "stderr",
     "output_type": "stream",
     "text": [
      "100%|████████████████████████████████████████████████████████████████████████████████| 214/214 [02:15<00:00,  1.58it/s]\n",
      "2022-05-12 18:47:48,923 INFO: Epoch:[053/500]\n",
      "2022-05-12 18:47:48,924 INFO: Train Loss:0.167 | Acc:0.9559 | F1:0.8135\n",
      "2022-05-12 18:48:02,167 INFO: val Loss:0.184 | Acc:0.9486 | F1:0.7052\n"
     ]
    },
    {
     "name": "stdout",
     "output_type": "stream",
     "text": [
      "\n",
      "best epoch:48/loss:0.1822/f1:0.7396\n"
     ]
    },
    {
     "name": "stderr",
     "output_type": "stream",
     "text": [
      "100%|████████████████████████████████████████████████████████████████████████████████| 214/214 [02:20<00:00,  1.52it/s]\n",
      "2022-05-12 18:50:23,089 INFO: Epoch:[054/500]\n",
      "2022-05-12 18:50:23,089 INFO: Train Loss:0.174 | Acc:0.9518 | F1:0.8027\n",
      "2022-05-12 18:50:36,726 INFO: val Loss:0.183 | Acc:0.9428 | F1:0.7156\n"
     ]
    },
    {
     "name": "stdout",
     "output_type": "stream",
     "text": [
      "\n",
      "best epoch:48/loss:0.1822/f1:0.7396\n"
     ]
    },
    {
     "name": "stderr",
     "output_type": "stream",
     "text": [
      "100%|████████████████████████████████████████████████████████████████████████████████| 214/214 [02:17<00:00,  1.56it/s]\n",
      "2022-05-12 18:52:54,124 INFO: Epoch:[055/500]\n",
      "2022-05-12 18:52:54,125 INFO: Train Loss:0.164 | Acc:0.9564 | F1:0.8156\n",
      "2022-05-12 18:53:07,826 INFO: val Loss:0.168 | Acc:0.9556 | F1:0.7358\n",
      "2022-05-12 18:53:09,825 INFO: -----------------SAVE:55epoch----------------\n"
     ]
    },
    {
     "name": "stdout",
     "output_type": "stream",
     "text": [
      "\n",
      "best epoch:55/loss:0.1680/f1:0.7358\n"
     ]
    },
    {
     "name": "stderr",
     "output_type": "stream",
     "text": [
      "100%|████████████████████████████████████████████████████████████████████████████████| 214/214 [02:16<00:00,  1.57it/s]\n",
      "2022-05-12 18:55:25,975 INFO: Epoch:[056/500]\n",
      "2022-05-12 18:55:25,975 INFO: Train Loss:0.157 | Acc:0.9588 | F1:0.8310\n",
      "2022-05-12 18:55:40,622 INFO: val Loss:0.168 | Acc:0.9521 | F1:0.7354\n",
      "2022-05-12 18:55:42,600 INFO: -----------------SAVE:56epoch----------------\n"
     ]
    },
    {
     "name": "stdout",
     "output_type": "stream",
     "text": [
      "\n",
      "best epoch:56/loss:0.1679/f1:0.7354\n"
     ]
    },
    {
     "name": "stderr",
     "output_type": "stream",
     "text": [
      "100%|████████████████████████████████████████████████████████████████████████████████| 214/214 [02:20<00:00,  1.52it/s]\n",
      "2022-05-12 18:58:03,064 INFO: Epoch:[057/500]\n",
      "2022-05-12 18:58:03,064 INFO: Train Loss:0.152 | Acc:0.9588 | F1:0.8287\n",
      "2022-05-12 18:58:17,009 INFO: val Loss:0.186 | Acc:0.9486 | F1:0.7566\n"
     ]
    },
    {
     "name": "stdout",
     "output_type": "stream",
     "text": [
      "\n",
      "best epoch:56/loss:0.1679/f1:0.7354\n"
     ]
    },
    {
     "name": "stderr",
     "output_type": "stream",
     "text": [
      "100%|████████████████████████████████████████████████████████████████████████████████| 214/214 [02:10<00:00,  1.64it/s]\n",
      "2022-05-12 19:00:27,723 INFO: Epoch:[058/500]\n",
      "2022-05-12 19:00:27,724 INFO: Train Loss:0.167 | Acc:0.9579 | F1:0.8258\n",
      "2022-05-12 19:00:39,591 INFO: val Loss:0.173 | Acc:0.9591 | F1:0.7760\n"
     ]
    },
    {
     "name": "stdout",
     "output_type": "stream",
     "text": [
      "\n",
      "best epoch:56/loss:0.1679/f1:0.7354\n"
     ]
    },
    {
     "name": "stderr",
     "output_type": "stream",
     "text": [
      "100%|████████████████████████████████████████████████████████████████████████████████| 214/214 [02:02<00:00,  1.75it/s]\n",
      "2022-05-12 19:02:41,890 INFO: Epoch:[059/500]\n",
      "2022-05-12 19:02:41,890 INFO: Train Loss:0.152 | Acc:0.9591 | F1:0.8266\n",
      "2022-05-12 19:02:53,152 INFO: val Loss:0.160 | Acc:0.9509 | F1:0.7947\n",
      "2022-05-12 19:02:55,141 INFO: -----------------SAVE:59epoch----------------\n"
     ]
    },
    {
     "name": "stdout",
     "output_type": "stream",
     "text": [
      "\n",
      "best epoch:59/loss:0.1600/f1:0.7947\n"
     ]
    },
    {
     "name": "stderr",
     "output_type": "stream",
     "text": [
      "100%|████████████████████████████████████████████████████████████████████████████████| 214/214 [02:03<00:00,  1.73it/s]\n",
      "2022-05-12 19:04:58,708 INFO: Epoch:[060/500]\n",
      "2022-05-12 19:04:58,708 INFO: Train Loss:0.151 | Acc:0.9588 | F1:0.8301\n",
      "2022-05-12 19:05:10,193 INFO: val Loss:0.205 | Acc:0.9544 | F1:0.7573\n"
     ]
    },
    {
     "name": "stdout",
     "output_type": "stream",
     "text": [
      "\n",
      "best epoch:59/loss:0.1600/f1:0.7947\n"
     ]
    },
    {
     "name": "stderr",
     "output_type": "stream",
     "text": [
      "100%|████████████████████████████████████████████████████████████████████████████████| 214/214 [02:02<00:00,  1.75it/s]\n",
      "2022-05-12 19:07:12,580 INFO: Epoch:[061/500]\n",
      "2022-05-12 19:07:12,580 INFO: Train Loss:0.152 | Acc:0.9602 | F1:0.8359\n",
      "2022-05-12 19:07:23,785 INFO: val Loss:0.185 | Acc:0.9591 | F1:0.7812\n"
     ]
    },
    {
     "name": "stdout",
     "output_type": "stream",
     "text": [
      "\n",
      "best epoch:59/loss:0.1600/f1:0.7947\n"
     ]
    },
    {
     "name": "stderr",
     "output_type": "stream",
     "text": [
      "100%|████████████████████████████████████████████████████████████████████████████████| 214/214 [02:03<00:00,  1.74it/s]\n",
      "2022-05-12 19:09:26,986 INFO: Epoch:[062/500]\n",
      "2022-05-12 19:09:26,986 INFO: Train Loss:0.149 | Acc:0.9635 | F1:0.8447\n",
      "2022-05-12 19:09:38,474 INFO: val Loss:0.171 | Acc:0.9544 | F1:0.7523\n"
     ]
    },
    {
     "name": "stdout",
     "output_type": "stream",
     "text": [
      "\n",
      "best epoch:59/loss:0.1600/f1:0.7947\n"
     ]
    },
    {
     "name": "stderr",
     "output_type": "stream",
     "text": [
      "100%|████████████████████████████████████████████████████████████████████████████████| 214/214 [02:05<00:00,  1.71it/s]\n",
      "2022-05-12 19:11:43,758 INFO: Epoch:[063/500]\n",
      "2022-05-12 19:11:43,758 INFO: Train Loss:0.152 | Acc:0.9600 | F1:0.8432\n",
      "2022-05-12 19:11:55,374 INFO: val Loss:0.204 | Acc:0.9544 | F1:0.7386\n"
     ]
    },
    {
     "name": "stdout",
     "output_type": "stream",
     "text": [
      "\n",
      "best epoch:59/loss:0.1600/f1:0.7947\n"
     ]
    },
    {
     "name": "stderr",
     "output_type": "stream",
     "text": [
      "100%|████████████████████████████████████████████████████████████████████████████████| 214/214 [02:03<00:00,  1.73it/s]\n",
      "2022-05-12 19:13:59,128 INFO: Epoch:[064/500]\n",
      "2022-05-12 19:13:59,129 INFO: Train Loss:0.145 | Acc:0.9614 | F1:0.8330\n",
      "2022-05-12 19:14:10,455 INFO: val Loss:0.181 | Acc:0.9544 | F1:0.7505\n"
     ]
    },
    {
     "name": "stdout",
     "output_type": "stream",
     "text": [
      "\n",
      "best epoch:59/loss:0.1600/f1:0.7947\n"
     ]
    },
    {
     "name": "stderr",
     "output_type": "stream",
     "text": [
      "100%|████████████████████████████████████████████████████████████████████████████████| 214/214 [02:09<00:00,  1.66it/s]\n",
      "2022-05-12 19:16:19,678 INFO: Epoch:[065/500]\n",
      "2022-05-12 19:16:19,678 INFO: Train Loss:0.147 | Acc:0.9620 | F1:0.8406\n",
      "2022-05-12 19:16:31,651 INFO: val Loss:0.164 | Acc:0.9568 | F1:0.7506\n"
     ]
    },
    {
     "name": "stdout",
     "output_type": "stream",
     "text": [
      "\n",
      "best epoch:59/loss:0.1600/f1:0.7947\n"
     ]
    },
    {
     "name": "stderr",
     "output_type": "stream",
     "text": [
      "100%|████████████████████████████████████████████████████████████████████████████████| 214/214 [02:06<00:00,  1.69it/s]\n",
      "2022-05-12 19:18:38,378 INFO: Epoch:[066/500]\n",
      "2022-05-12 19:18:38,378 INFO: Train Loss:0.154 | Acc:0.9602 | F1:0.8280\n",
      "2022-05-12 19:18:50,408 INFO: val Loss:0.273 | Acc:0.9136 | F1:0.7112\n"
     ]
    },
    {
     "name": "stdout",
     "output_type": "stream",
     "text": [
      "\n",
      "best epoch:59/loss:0.1600/f1:0.7947\n"
     ]
    },
    {
     "name": "stderr",
     "output_type": "stream",
     "text": [
      "100%|████████████████████████████████████████████████████████████████████████████████| 214/214 [02:06<00:00,  1.69it/s]\n",
      "2022-05-12 19:20:57,178 INFO: Epoch:[067/500]\n",
      "2022-05-12 19:20:57,179 INFO: Train Loss:0.145 | Acc:0.9605 | F1:0.8386\n",
      "2022-05-12 19:21:09,118 INFO: val Loss:0.165 | Acc:0.9603 | F1:0.7694\n"
     ]
    },
    {
     "name": "stdout",
     "output_type": "stream",
     "text": [
      "\n",
      "best epoch:59/loss:0.1600/f1:0.7947\n"
     ]
    },
    {
     "name": "stderr",
     "output_type": "stream",
     "text": [
      "100%|████████████████████████████████████████████████████████████████████████████████| 214/214 [02:03<00:00,  1.73it/s]\n",
      "2022-05-12 19:23:12,536 INFO: Epoch:[068/500]\n",
      "2022-05-12 19:23:12,536 INFO: Train Loss:0.155 | Acc:0.9608 | F1:0.8498\n",
      "2022-05-12 19:23:23,951 INFO: val Loss:0.169 | Acc:0.9603 | F1:0.7654\n"
     ]
    },
    {
     "name": "stdout",
     "output_type": "stream",
     "text": [
      "\n",
      "best epoch:59/loss:0.1600/f1:0.7947\n"
     ]
    },
    {
     "name": "stderr",
     "output_type": "stream",
     "text": [
      "100%|████████████████████████████████████████████████████████████████████████████████| 214/214 [02:03<00:00,  1.74it/s]\n",
      "2022-05-12 19:25:27,002 INFO: Epoch:[069/500]\n",
      "2022-05-12 19:25:27,003 INFO: Train Loss:0.153 | Acc:0.9605 | F1:0.8400\n",
      "2022-05-12 19:25:38,254 INFO: val Loss:0.194 | Acc:0.9544 | F1:0.7399\n"
     ]
    },
    {
     "name": "stdout",
     "output_type": "stream",
     "text": [
      "\n",
      "best epoch:59/loss:0.1600/f1:0.7947\n"
     ]
    },
    {
     "name": "stderr",
     "output_type": "stream",
     "text": [
      "100%|████████████████████████████████████████████████████████████████████████████████| 214/214 [02:04<00:00,  1.72it/s]\n",
      "2022-05-12 19:27:42,702 INFO: Epoch:[070/500]\n",
      "2022-05-12 19:27:42,703 INFO: Train Loss:0.145 | Acc:0.9649 | F1:0.8613\n",
      "2022-05-12 19:27:54,042 INFO: val Loss:0.166 | Acc:0.9568 | F1:0.7705\n"
     ]
    },
    {
     "name": "stdout",
     "output_type": "stream",
     "text": [
      "\n",
      "best epoch:59/loss:0.1600/f1:0.7947\n"
     ]
    },
    {
     "name": "stderr",
     "output_type": "stream",
     "text": [
      "100%|████████████████████████████████████████████████████████████████████████████████| 214/214 [02:04<00:00,  1.72it/s]\n",
      "2022-05-12 19:29:58,727 INFO: Epoch:[071/500]\n",
      "2022-05-12 19:29:58,728 INFO: Train Loss:0.132 | Acc:0.9664 | F1:0.8683\n",
      "2022-05-12 19:30:11,260 INFO: val Loss:0.188 | Acc:0.9603 | F1:0.7768\n"
     ]
    },
    {
     "name": "stdout",
     "output_type": "stream",
     "text": [
      "\n",
      "best epoch:59/loss:0.1600/f1:0.7947\n"
     ]
    },
    {
     "name": "stderr",
     "output_type": "stream",
     "text": [
      "100%|████████████████████████████████████████████████████████████████████████████████| 214/214 [02:05<00:00,  1.71it/s]\n",
      "2022-05-12 19:32:16,516 INFO: Epoch:[072/500]\n",
      "2022-05-12 19:32:16,517 INFO: Train Loss:0.134 | Acc:0.9623 | F1:0.8522\n",
      "2022-05-12 19:32:27,703 INFO: val Loss:0.147 | Acc:0.9591 | F1:0.7869\n",
      "2022-05-12 19:32:29,840 INFO: -----------------SAVE:72epoch----------------\n"
     ]
    },
    {
     "name": "stdout",
     "output_type": "stream",
     "text": [
      "\n",
      "best epoch:72/loss:0.1471/f1:0.7869\n"
     ]
    },
    {
     "name": "stderr",
     "output_type": "stream",
     "text": [
      "100%|████████████████████████████████████████████████████████████████████████████████| 214/214 [02:12<00:00,  1.62it/s]\n",
      "2022-05-12 19:34:42,303 INFO: Epoch:[073/500]\n",
      "2022-05-12 19:34:42,304 INFO: Train Loss:0.133 | Acc:0.9646 | F1:0.8616\n",
      "2022-05-12 19:34:57,316 INFO: val Loss:0.178 | Acc:0.9556 | F1:0.7565\n"
     ]
    },
    {
     "name": "stdout",
     "output_type": "stream",
     "text": [
      "\n",
      "best epoch:72/loss:0.1471/f1:0.7869\n"
     ]
    },
    {
     "name": "stderr",
     "output_type": "stream",
     "text": [
      "100%|████████████████████████████████████████████████████████████████████████████████| 214/214 [02:13<00:00,  1.60it/s]\n",
      "2022-05-12 19:37:10,727 INFO: Epoch:[074/500]\n",
      "2022-05-12 19:37:10,727 INFO: Train Loss:0.142 | Acc:0.9632 | F1:0.8539\n",
      "2022-05-12 19:37:24,570 INFO: val Loss:0.143 | Acc:0.9626 | F1:0.7894\n",
      "2022-05-12 19:37:26,493 INFO: -----------------SAVE:74epoch----------------\n"
     ]
    },
    {
     "name": "stdout",
     "output_type": "stream",
     "text": [
      "\n",
      "best epoch:74/loss:0.1429/f1:0.7894\n"
     ]
    },
    {
     "name": "stderr",
     "output_type": "stream",
     "text": [
      "100%|████████████████████████████████████████████████████████████████████████████████| 214/214 [02:18<00:00,  1.55it/s]\n",
      "2022-05-12 19:39:44,500 INFO: Epoch:[075/500]\n",
      "2022-05-12 19:39:44,501 INFO: Train Loss:0.122 | Acc:0.9667 | F1:0.8658\n",
      "2022-05-12 19:39:58,284 INFO: val Loss:0.215 | Acc:0.9393 | F1:0.7249\n"
     ]
    },
    {
     "name": "stdout",
     "output_type": "stream",
     "text": [
      "\n",
      "best epoch:74/loss:0.1429/f1:0.7894\n"
     ]
    },
    {
     "name": "stderr",
     "output_type": "stream",
     "text": [
      "100%|████████████████████████████████████████████████████████████████████████████████| 214/214 [02:10<00:00,  1.65it/s]\n",
      "2022-05-12 19:42:08,299 INFO: Epoch:[076/500]\n",
      "2022-05-12 19:42:08,300 INFO: Train Loss:0.121 | Acc:0.9676 | F1:0.8843\n",
      "2022-05-12 19:42:22,153 INFO: val Loss:0.186 | Acc:0.9568 | F1:0.7870\n"
     ]
    },
    {
     "name": "stdout",
     "output_type": "stream",
     "text": [
      "\n",
      "best epoch:74/loss:0.1429/f1:0.7894\n"
     ]
    },
    {
     "name": "stderr",
     "output_type": "stream",
     "text": [
      "100%|████████████████████████████████████████████████████████████████████████████████| 214/214 [02:14<00:00,  1.60it/s]\n",
      "2022-05-12 19:44:36,211 INFO: Epoch:[077/500]\n",
      "2022-05-12 19:44:36,212 INFO: Train Loss:0.150 | Acc:0.9602 | F1:0.8459\n",
      "2022-05-12 19:44:49,050 INFO: val Loss:0.180 | Acc:0.9533 | F1:0.7657\n"
     ]
    },
    {
     "name": "stdout",
     "output_type": "stream",
     "text": [
      "\n",
      "best epoch:74/loss:0.1429/f1:0.7894\n"
     ]
    },
    {
     "name": "stderr",
     "output_type": "stream",
     "text": [
      "100%|████████████████████████████████████████████████████████████████████████████████| 214/214 [02:08<00:00,  1.66it/s]\n",
      "2022-05-12 19:46:57,892 INFO: Epoch:[078/500]\n",
      "2022-05-12 19:46:57,892 INFO: Train Loss:0.133 | Acc:0.9643 | F1:0.8626\n",
      "2022-05-12 19:47:09,819 INFO: val Loss:0.185 | Acc:0.9556 | F1:0.7729\n"
     ]
    },
    {
     "name": "stdout",
     "output_type": "stream",
     "text": [
      "\n",
      "best epoch:74/loss:0.1429/f1:0.7894\n"
     ]
    },
    {
     "name": "stderr",
     "output_type": "stream",
     "text": [
      "100%|████████████████████████████████████████████████████████████████████████████████| 214/214 [02:06<00:00,  1.70it/s]\n",
      "2022-05-12 19:49:15,978 INFO: Epoch:[079/500]\n",
      "2022-05-12 19:49:15,978 INFO: Train Loss:0.145 | Acc:0.9635 | F1:0.8576\n",
      "2022-05-12 19:49:27,874 INFO: val Loss:0.175 | Acc:0.9568 | F1:0.7725\n"
     ]
    },
    {
     "name": "stdout",
     "output_type": "stream",
     "text": [
      "\n",
      "best epoch:74/loss:0.1429/f1:0.7894\n"
     ]
    },
    {
     "name": "stderr",
     "output_type": "stream",
     "text": [
      "100%|████████████████████████████████████████████████████████████████████████████████| 214/214 [02:06<00:00,  1.69it/s]\n",
      "2022-05-12 19:51:34,334 INFO: Epoch:[080/500]\n",
      "2022-05-12 19:51:34,335 INFO: Train Loss:0.143 | Acc:0.9646 | F1:0.8680\n",
      "2022-05-12 19:51:46,308 INFO: val Loss:0.155 | Acc:0.9568 | F1:0.7546\n"
     ]
    },
    {
     "name": "stdout",
     "output_type": "stream",
     "text": [
      "\n",
      "best epoch:74/loss:0.1429/f1:0.7894\n"
     ]
    },
    {
     "name": "stderr",
     "output_type": "stream",
     "text": [
      "100%|████████████████████████████████████████████████████████████████████████████████| 214/214 [02:05<00:00,  1.70it/s]\n",
      "2022-05-12 19:53:52,043 INFO: Epoch:[081/500]\n",
      "2022-05-12 19:53:52,043 INFO: Train Loss:0.131 | Acc:0.9643 | F1:0.8609\n",
      "2022-05-12 19:54:05,004 INFO: val Loss:0.162 | Acc:0.9603 | F1:0.7780\n"
     ]
    },
    {
     "name": "stdout",
     "output_type": "stream",
     "text": [
      "\n",
      "best epoch:74/loss:0.1429/f1:0.7894\n"
     ]
    },
    {
     "name": "stderr",
     "output_type": "stream",
     "text": [
      "100%|████████████████████████████████████████████████████████████████████████████████| 214/214 [02:06<00:00,  1.69it/s]\n",
      "2022-05-12 19:56:11,315 INFO: Epoch:[082/500]\n",
      "2022-05-12 19:56:11,315 INFO: Train Loss:0.137 | Acc:0.9629 | F1:0.8677\n",
      "2022-05-12 19:56:22,120 INFO: val Loss:0.167 | Acc:0.9591 | F1:0.7782\n"
     ]
    },
    {
     "name": "stdout",
     "output_type": "stream",
     "text": [
      "\n",
      "best epoch:74/loss:0.1429/f1:0.7894\n"
     ]
    },
    {
     "name": "stderr",
     "output_type": "stream",
     "text": [
      "100%|████████████████████████████████████████████████████████████████████████████████| 214/214 [01:59<00:00,  1.80it/s]\n",
      "2022-05-12 19:58:21,284 INFO: Epoch:[083/500]\n",
      "2022-05-12 19:58:21,284 INFO: Train Loss:0.121 | Acc:0.9664 | F1:0.8675\n",
      "2022-05-12 19:58:32,288 INFO: val Loss:0.151 | Acc:0.9626 | F1:0.8148\n"
     ]
    },
    {
     "name": "stdout",
     "output_type": "stream",
     "text": [
      "\n",
      "best epoch:74/loss:0.1429/f1:0.7894\n"
     ]
    },
    {
     "name": "stderr",
     "output_type": "stream",
     "text": [
      "100%|████████████████████████████████████████████████████████████████████████████████| 214/214 [02:01<00:00,  1.76it/s]\n",
      "2022-05-12 20:00:34,087 INFO: Epoch:[084/500]\n",
      "2022-05-12 20:00:34,087 INFO: Train Loss:0.139 | Acc:0.9588 | F1:0.8434\n",
      "2022-05-12 20:00:45,647 INFO: val Loss:0.164 | Acc:0.9591 | F1:0.7658\n"
     ]
    },
    {
     "name": "stdout",
     "output_type": "stream",
     "text": [
      "\n",
      "best epoch:74/loss:0.1429/f1:0.7894\n"
     ]
    },
    {
     "name": "stderr",
     "output_type": "stream",
     "text": [
      "100%|████████████████████████████████████████████████████████████████████████████████| 214/214 [02:02<00:00,  1.74it/s]\n",
      "2022-05-12 20:02:48,518 INFO: Epoch:[085/500]\n",
      "2022-05-12 20:02:48,519 INFO: Train Loss:0.129 | Acc:0.9649 | F1:0.8649\n",
      "2022-05-12 20:02:59,981 INFO: val Loss:0.163 | Acc:0.9614 | F1:0.7967\n"
     ]
    },
    {
     "name": "stdout",
     "output_type": "stream",
     "text": [
      "\n",
      "best epoch:74/loss:0.1429/f1:0.7894\n"
     ]
    },
    {
     "name": "stderr",
     "output_type": "stream",
     "text": [
      "100%|████████████████████████████████████████████████████████████████████████████████| 214/214 [01:59<00:00,  1.79it/s]\n",
      "2022-05-12 20:04:59,512 INFO: Epoch:[086/500]\n",
      "2022-05-12 20:04:59,513 INFO: Train Loss:0.120 | Acc:0.9667 | F1:0.8661\n",
      "2022-05-12 20:05:10,352 INFO: val Loss:0.209 | Acc:0.9346 | F1:0.7881\n"
     ]
    },
    {
     "name": "stdout",
     "output_type": "stream",
     "text": [
      "\n",
      "best epoch:74/loss:0.1429/f1:0.7894\n"
     ]
    },
    {
     "name": "stderr",
     "output_type": "stream",
     "text": [
      "100%|████████████████████████████████████████████████████████████████████████████████| 214/214 [01:59<00:00,  1.80it/s]\n",
      "2022-05-12 20:07:09,530 INFO: Epoch:[087/500]\n",
      "2022-05-12 20:07:09,531 INFO: Train Loss:0.118 | Acc:0.9678 | F1:0.8782\n",
      "2022-05-12 20:07:21,376 INFO: val Loss:0.165 | Acc:0.9544 | F1:0.7340\n"
     ]
    },
    {
     "name": "stdout",
     "output_type": "stream",
     "text": [
      "\n",
      "best epoch:74/loss:0.1429/f1:0.7894\n"
     ]
    },
    {
     "name": "stderr",
     "output_type": "stream",
     "text": [
      "100%|████████████████████████████████████████████████████████████████████████████████| 214/214 [02:00<00:00,  1.78it/s]\n",
      "2022-05-12 20:09:21,531 INFO: Epoch:[088/500]\n",
      "2022-05-12 20:09:21,532 INFO: Train Loss:0.113 | Acc:0.9690 | F1:0.8710\n",
      "2022-05-12 20:09:32,411 INFO: val Loss:0.186 | Acc:0.9568 | F1:0.7810\n"
     ]
    },
    {
     "name": "stdout",
     "output_type": "stream",
     "text": [
      "\n",
      "best epoch:74/loss:0.1429/f1:0.7894\n"
     ]
    },
    {
     "name": "stderr",
     "output_type": "stream",
     "text": [
      "100%|████████████████████████████████████████████████████████████████████████████████| 214/214 [01:59<00:00,  1.80it/s]\n",
      "2022-05-12 20:11:31,544 INFO: Epoch:[089/500]\n",
      "2022-05-12 20:11:31,545 INFO: Train Loss:0.128 | Acc:0.9676 | F1:0.8680\n",
      "2022-05-12 20:11:42,474 INFO: val Loss:0.153 | Acc:0.9603 | F1:0.7661\n"
     ]
    },
    {
     "name": "stdout",
     "output_type": "stream",
     "text": [
      "\n",
      "best epoch:74/loss:0.1429/f1:0.7894\n"
     ]
    },
    {
     "name": "stderr",
     "output_type": "stream",
     "text": [
      "100%|████████████████████████████████████████████████████████████████████████████████| 214/214 [01:59<00:00,  1.79it/s]\n",
      "2022-05-12 20:13:42,003 INFO: Epoch:[090/500]\n",
      "2022-05-12 20:13:42,004 INFO: Train Loss:0.117 | Acc:0.9693 | F1:0.8814\n",
      "2022-05-12 20:13:53,155 INFO: val Loss:0.154 | Acc:0.9544 | F1:0.7840\n"
     ]
    },
    {
     "name": "stdout",
     "output_type": "stream",
     "text": [
      "\n",
      "best epoch:74/loss:0.1429/f1:0.7894\n"
     ]
    },
    {
     "name": "stderr",
     "output_type": "stream",
     "text": [
      "100%|████████████████████████████████████████████████████████████████████████████████| 214/214 [02:01<00:00,  1.77it/s]\n",
      "2022-05-12 20:15:54,221 INFO: Epoch:[091/500]\n",
      "2022-05-12 20:15:54,221 INFO: Train Loss:0.131 | Acc:0.9684 | F1:0.8814\n",
      "2022-05-12 20:16:05,510 INFO: val Loss:0.140 | Acc:0.9626 | F1:0.7962\n",
      "2022-05-12 20:16:07,456 INFO: -----------------SAVE:91epoch----------------\n"
     ]
    },
    {
     "name": "stdout",
     "output_type": "stream",
     "text": [
      "\n",
      "best epoch:91/loss:0.1400/f1:0.7962\n"
     ]
    },
    {
     "name": "stderr",
     "output_type": "stream",
     "text": [
      "100%|████████████████████████████████████████████████████████████████████████████████| 214/214 [02:00<00:00,  1.77it/s]\n",
      "2022-05-12 20:18:08,259 INFO: Epoch:[092/500]\n",
      "2022-05-12 20:18:08,260 INFO: Train Loss:0.114 | Acc:0.9658 | F1:0.8715\n",
      "2022-05-12 20:18:19,335 INFO: val Loss:0.181 | Acc:0.9591 | F1:0.7641\n"
     ]
    },
    {
     "name": "stdout",
     "output_type": "stream",
     "text": [
      "\n",
      "best epoch:91/loss:0.1400/f1:0.7962\n"
     ]
    },
    {
     "name": "stderr",
     "output_type": "stream",
     "text": [
      "100%|████████████████████████████████████████████████████████████████████████████████| 214/214 [02:01<00:00,  1.77it/s]\n",
      "2022-05-12 20:20:20,487 INFO: Epoch:[093/500]\n",
      "2022-05-12 20:20:20,487 INFO: Train Loss:0.122 | Acc:0.9664 | F1:0.8744\n",
      "2022-05-12 20:20:31,664 INFO: val Loss:0.172 | Acc:0.9661 | F1:0.8093\n"
     ]
    },
    {
     "name": "stdout",
     "output_type": "stream",
     "text": [
      "\n",
      "best epoch:91/loss:0.1400/f1:0.7962\n"
     ]
    },
    {
     "name": "stderr",
     "output_type": "stream",
     "text": [
      "100%|████████████████████████████████████████████████████████████████████████████████| 214/214 [02:00<00:00,  1.77it/s]\n",
      "2022-05-12 20:22:32,403 INFO: Epoch:[094/500]\n",
      "2022-05-12 20:22:32,404 INFO: Train Loss:0.129 | Acc:0.9664 | F1:0.8699\n",
      "2022-05-12 20:22:43,456 INFO: val Loss:0.198 | Acc:0.9579 | F1:0.8248\n"
     ]
    },
    {
     "name": "stdout",
     "output_type": "stream",
     "text": [
      "\n",
      "best epoch:91/loss:0.1400/f1:0.7962\n"
     ]
    },
    {
     "name": "stderr",
     "output_type": "stream",
     "text": [
      "100%|████████████████████████████████████████████████████████████████████████████████| 214/214 [02:00<00:00,  1.77it/s]\n",
      "2022-05-12 20:24:44,415 INFO: Epoch:[095/500]\n",
      "2022-05-12 20:24:44,416 INFO: Train Loss:0.114 | Acc:0.9699 | F1:0.8955\n",
      "2022-05-12 20:24:55,571 INFO: val Loss:0.253 | Acc:0.9521 | F1:0.7800\n"
     ]
    },
    {
     "name": "stdout",
     "output_type": "stream",
     "text": [
      "\n",
      "best epoch:91/loss:0.1400/f1:0.7962\n"
     ]
    },
    {
     "name": "stderr",
     "output_type": "stream",
     "text": [
      "100%|████████████████████████████████████████████████████████████████████████████████| 214/214 [02:00<00:00,  1.77it/s]\n",
      "2022-05-12 20:26:56,369 INFO: Epoch:[096/500]\n",
      "2022-05-12 20:26:56,370 INFO: Train Loss:0.130 | Acc:0.9676 | F1:0.8781\n",
      "2022-05-12 20:27:07,511 INFO: val Loss:0.180 | Acc:0.9568 | F1:0.7598\n"
     ]
    },
    {
     "name": "stdout",
     "output_type": "stream",
     "text": [
      "\n",
      "best epoch:91/loss:0.1400/f1:0.7962\n"
     ]
    },
    {
     "name": "stderr",
     "output_type": "stream",
     "text": [
      "100%|████████████████████████████████████████████████████████████████████████████████| 214/214 [02:01<00:00,  1.77it/s]\n",
      "2022-05-12 20:29:08,613 INFO: Epoch:[097/500]\n",
      "2022-05-12 20:29:08,613 INFO: Train Loss:0.113 | Acc:0.9658 | F1:0.8696\n",
      "2022-05-12 20:29:19,798 INFO: val Loss:0.196 | Acc:0.9579 | F1:0.7748\n"
     ]
    },
    {
     "name": "stdout",
     "output_type": "stream",
     "text": [
      "\n",
      "best epoch:91/loss:0.1400/f1:0.7962\n"
     ]
    },
    {
     "name": "stderr",
     "output_type": "stream",
     "text": [
      "100%|████████████████████████████████████████████████████████████████████████████████| 214/214 [02:00<00:00,  1.77it/s]\n",
      "2022-05-12 20:31:20,439 INFO: Epoch:[098/500]\n",
      "2022-05-12 20:31:20,439 INFO: Train Loss:0.120 | Acc:0.9714 | F1:0.8971\n",
      "2022-05-12 20:31:31,401 INFO: val Loss:0.256 | Acc:0.9381 | F1:0.7216\n"
     ]
    },
    {
     "name": "stdout",
     "output_type": "stream",
     "text": [
      "\n",
      "best epoch:91/loss:0.1400/f1:0.7962\n"
     ]
    },
    {
     "name": "stderr",
     "output_type": "stream",
     "text": [
      "100%|████████████████████████████████████████████████████████████████████████████████| 214/214 [02:00<00:00,  1.77it/s]\n",
      "2022-05-12 20:33:32,100 INFO: Epoch:[099/500]\n",
      "2022-05-12 20:33:32,100 INFO: Train Loss:0.127 | Acc:0.9687 | F1:0.8879\n",
      "2022-05-12 20:33:43,312 INFO: val Loss:0.166 | Acc:0.9579 | F1:0.7731\n"
     ]
    },
    {
     "name": "stdout",
     "output_type": "stream",
     "text": [
      "\n",
      "best epoch:91/loss:0.1400/f1:0.7962\n"
     ]
    },
    {
     "name": "stderr",
     "output_type": "stream",
     "text": [
      "100%|████████████████████████████████████████████████████████████████████████████████| 214/214 [02:00<00:00,  1.78it/s]\n",
      "2022-05-12 20:35:43,861 INFO: Epoch:[100/500]\n",
      "2022-05-12 20:35:43,861 INFO: Train Loss:0.126 | Acc:0.9632 | F1:0.8742\n",
      "2022-05-12 20:35:54,963 INFO: val Loss:0.212 | Acc:0.9474 | F1:0.7290\n"
     ]
    },
    {
     "name": "stdout",
     "output_type": "stream",
     "text": [
      "\n",
      "best epoch:91/loss:0.1400/f1:0.7962\n"
     ]
    },
    {
     "name": "stderr",
     "output_type": "stream",
     "text": [
      "100%|████████████████████████████████████████████████████████████████████████████████| 214/214 [02:00<00:00,  1.77it/s]\n",
      "2022-05-12 20:37:55,647 INFO: Epoch:[101/500]\n",
      "2022-05-12 20:37:55,648 INFO: Train Loss:0.104 | Acc:0.9728 | F1:0.9020\n",
      "2022-05-12 20:38:06,848 INFO: val Loss:0.162 | Acc:0.9556 | F1:0.8043\n"
     ]
    },
    {
     "name": "stdout",
     "output_type": "stream",
     "text": [
      "\n",
      "best epoch:91/loss:0.1400/f1:0.7962\n"
     ]
    },
    {
     "name": "stderr",
     "output_type": "stream",
     "text": [
      "100%|████████████████████████████████████████████████████████████████████████████████| 214/214 [02:00<00:00,  1.77it/s]\n",
      "2022-05-12 20:40:07,584 INFO: Epoch:[102/500]\n",
      "2022-05-12 20:40:07,585 INFO: Train Loss:0.125 | Acc:0.9658 | F1:0.8762\n",
      "2022-05-12 20:40:18,745 INFO: val Loss:0.172 | Acc:0.9638 | F1:0.7912\n"
     ]
    },
    {
     "name": "stdout",
     "output_type": "stream",
     "text": [
      "\n",
      "best epoch:91/loss:0.1400/f1:0.7962\n"
     ]
    },
    {
     "name": "stderr",
     "output_type": "stream",
     "text": [
      "100%|████████████████████████████████████████████████████████████████████████████████| 214/214 [02:00<00:00,  1.77it/s]\n",
      "2022-05-12 20:42:19,421 INFO: Epoch:[103/500]\n",
      "2022-05-12 20:42:19,421 INFO: Train Loss:0.121 | Acc:0.9684 | F1:0.8836\n",
      "2022-05-12 20:42:30,533 INFO: val Loss:0.186 | Acc:0.9591 | F1:0.7755\n"
     ]
    },
    {
     "name": "stdout",
     "output_type": "stream",
     "text": [
      "\n",
      "best epoch:91/loss:0.1400/f1:0.7962\n"
     ]
    },
    {
     "name": "stderr",
     "output_type": "stream",
     "text": [
      "100%|████████████████████████████████████████████████████████████████████████████████| 214/214 [02:01<00:00,  1.77it/s]\n",
      "2022-05-12 20:44:31,583 INFO: Epoch:[104/500]\n",
      "2022-05-12 20:44:31,584 INFO: Train Loss:0.117 | Acc:0.9690 | F1:0.8827\n",
      "2022-05-12 20:44:42,666 INFO: val Loss:0.139 | Acc:0.9673 | F1:0.7984\n",
      "2022-05-12 20:44:44,589 INFO: -----------------SAVE:104epoch----------------\n"
     ]
    },
    {
     "name": "stdout",
     "output_type": "stream",
     "text": [
      "\n",
      "best epoch:104/loss:0.1386/f1:0.7984\n"
     ]
    },
    {
     "name": "stderr",
     "output_type": "stream",
     "text": [
      "100%|████████████████████████████████████████████████████████████████████████████████| 214/214 [02:01<00:00,  1.77it/s]\n",
      "2022-05-12 20:46:45,823 INFO: Epoch:[105/500]\n",
      "2022-05-12 20:46:45,824 INFO: Train Loss:0.106 | Acc:0.9693 | F1:0.8829\n",
      "2022-05-12 20:46:56,927 INFO: val Loss:0.158 | Acc:0.9661 | F1:0.7941\n"
     ]
    },
    {
     "name": "stdout",
     "output_type": "stream",
     "text": [
      "\n",
      "best epoch:104/loss:0.1386/f1:0.7984\n"
     ]
    },
    {
     "name": "stderr",
     "output_type": "stream",
     "text": [
      "100%|████████████████████████████████████████████████████████████████████████████████| 214/214 [02:00<00:00,  1.77it/s]\n",
      "2022-05-12 20:48:57,772 INFO: Epoch:[106/500]\n",
      "2022-05-12 20:48:57,772 INFO: Train Loss:0.104 | Acc:0.9702 | F1:0.8873\n",
      "2022-05-12 20:49:08,905 INFO: val Loss:0.162 | Acc:0.9661 | F1:0.8116\n"
     ]
    },
    {
     "name": "stdout",
     "output_type": "stream",
     "text": [
      "\n",
      "best epoch:104/loss:0.1386/f1:0.7984\n"
     ]
    },
    {
     "name": "stderr",
     "output_type": "stream",
     "text": [
      "100%|████████████████████████████████████████████████████████████████████████████████| 214/214 [02:00<00:00,  1.77it/s]\n",
      "2022-05-12 20:51:09,911 INFO: Epoch:[107/500]\n",
      "2022-05-12 20:51:09,911 INFO: Train Loss:0.116 | Acc:0.9687 | F1:0.8886\n",
      "2022-05-12 20:51:20,979 INFO: val Loss:0.197 | Acc:0.9603 | F1:0.7755\n"
     ]
    },
    {
     "name": "stdout",
     "output_type": "stream",
     "text": [
      "\n",
      "best epoch:104/loss:0.1386/f1:0.7984\n"
     ]
    },
    {
     "name": "stderr",
     "output_type": "stream",
     "text": [
      "100%|████████████████████████████████████████████████████████████████████████████████| 214/214 [02:01<00:00,  1.77it/s]\n",
      "2022-05-12 20:53:22,007 INFO: Epoch:[108/500]\n",
      "2022-05-12 20:53:22,007 INFO: Train Loss:0.113 | Acc:0.9696 | F1:0.8834\n",
      "2022-05-12 20:53:33,143 INFO: val Loss:0.175 | Acc:0.9614 | F1:0.7704\n"
     ]
    },
    {
     "name": "stdout",
     "output_type": "stream",
     "text": [
      "\n",
      "best epoch:104/loss:0.1386/f1:0.7984\n"
     ]
    },
    {
     "name": "stderr",
     "output_type": "stream",
     "text": [
      "100%|████████████████████████████████████████████████████████████████████████████████| 214/214 [02:00<00:00,  1.77it/s]\n",
      "2022-05-12 20:55:34,118 INFO: Epoch:[109/500]\n",
      "2022-05-12 20:55:34,119 INFO: Train Loss:0.139 | Acc:0.9635 | F1:0.8621\n",
      "2022-05-12 20:55:45,224 INFO: val Loss:0.178 | Acc:0.9591 | F1:0.7683\n"
     ]
    },
    {
     "name": "stdout",
     "output_type": "stream",
     "text": [
      "\n",
      "best epoch:104/loss:0.1386/f1:0.7984\n"
     ]
    },
    {
     "name": "stderr",
     "output_type": "stream",
     "text": [
      "100%|████████████████████████████████████████████████████████████████████████████████| 214/214 [02:00<00:00,  1.78it/s]\n",
      "2022-05-12 20:57:45,788 INFO: Epoch:[110/500]\n",
      "2022-05-12 20:57:45,788 INFO: Train Loss:0.122 | Acc:0.9696 | F1:0.8861\n",
      "2022-05-12 20:57:56,858 INFO: val Loss:0.185 | Acc:0.9661 | F1:0.8291\n"
     ]
    },
    {
     "name": "stdout",
     "output_type": "stream",
     "text": [
      "\n",
      "best epoch:104/loss:0.1386/f1:0.7984\n"
     ]
    },
    {
     "name": "stderr",
     "output_type": "stream",
     "text": [
      "100%|████████████████████████████████████████████████████████████████████████████████| 214/214 [02:00<00:00,  1.77it/s]\n",
      "2022-05-12 20:59:57,553 INFO: Epoch:[111/500]\n",
      "2022-05-12 20:59:57,553 INFO: Train Loss:0.108 | Acc:0.9722 | F1:0.8905\n",
      "2022-05-12 21:00:08,728 INFO: val Loss:0.193 | Acc:0.9568 | F1:0.7658\n"
     ]
    },
    {
     "name": "stdout",
     "output_type": "stream",
     "text": [
      "\n",
      "best epoch:104/loss:0.1386/f1:0.7984\n"
     ]
    },
    {
     "name": "stderr",
     "output_type": "stream",
     "text": [
      "100%|████████████████████████████████████████████████████████████████████████████████| 214/214 [02:00<00:00,  1.77it/s]\n",
      "2022-05-12 21:02:09,507 INFO: Epoch:[112/500]\n",
      "2022-05-12 21:02:09,507 INFO: Train Loss:0.125 | Acc:0.9667 | F1:0.8660\n",
      "2022-05-12 21:02:20,720 INFO: val Loss:0.176 | Acc:0.9614 | F1:0.7889\n"
     ]
    },
    {
     "name": "stdout",
     "output_type": "stream",
     "text": [
      "\n",
      "best epoch:104/loss:0.1386/f1:0.7984\n"
     ]
    },
    {
     "name": "stderr",
     "output_type": "stream",
     "text": [
      "100%|████████████████████████████████████████████████████████████████████████████████| 214/214 [02:00<00:00,  1.77it/s]\n",
      "2022-05-12 21:04:21,688 INFO: Epoch:[113/500]\n",
      "2022-05-12 21:04:21,688 INFO: Train Loss:0.110 | Acc:0.9699 | F1:0.9000\n",
      "2022-05-12 21:04:32,974 INFO: val Loss:0.193 | Acc:0.9626 | F1:0.8238\n"
     ]
    },
    {
     "name": "stdout",
     "output_type": "stream",
     "text": [
      "\n",
      "best epoch:104/loss:0.1386/f1:0.7984\n"
     ]
    },
    {
     "name": "stderr",
     "output_type": "stream",
     "text": [
      "100%|████████████████████████████████████████████████████████████████████████████████| 214/214 [02:00<00:00,  1.77it/s]\n",
      "2022-05-12 21:06:33,765 INFO: Epoch:[114/500]\n",
      "2022-05-12 21:06:33,766 INFO: Train Loss:0.108 | Acc:0.9699 | F1:0.8916\n",
      "2022-05-12 21:06:44,834 INFO: val Loss:0.177 | Acc:0.9591 | F1:0.7735\n"
     ]
    },
    {
     "name": "stdout",
     "output_type": "stream",
     "text": [
      "\n",
      "best epoch:104/loss:0.1386/f1:0.7984\n"
     ]
    },
    {
     "name": "stderr",
     "output_type": "stream",
     "text": [
      "100%|████████████████████████████████████████████████████████████████████████████████| 214/214 [02:00<00:00,  1.77it/s]\n",
      "2022-05-12 21:08:45,621 INFO: Epoch:[115/500]\n",
      "2022-05-12 21:08:45,622 INFO: Train Loss:0.120 | Acc:0.9658 | F1:0.8803\n",
      "2022-05-12 21:08:56,656 INFO: val Loss:0.172 | Acc:0.9614 | F1:0.7867\n"
     ]
    },
    {
     "name": "stdout",
     "output_type": "stream",
     "text": [
      "\n",
      "best epoch:104/loss:0.1386/f1:0.7984\n"
     ]
    },
    {
     "name": "stderr",
     "output_type": "stream",
     "text": [
      "100%|████████████████████████████████████████████████████████████████████████████████| 214/214 [02:01<00:00,  1.77it/s]\n",
      "2022-05-12 21:10:57,688 INFO: Epoch:[116/500]\n",
      "2022-05-12 21:10:57,689 INFO: Train Loss:0.109 | Acc:0.9725 | F1:0.8979\n",
      "2022-05-12 21:11:08,873 INFO: val Loss:0.227 | Acc:0.9591 | F1:0.8002\n"
     ]
    },
    {
     "name": "stdout",
     "output_type": "stream",
     "text": [
      "\n",
      "best epoch:104/loss:0.1386/f1:0.7984\n"
     ]
    },
    {
     "name": "stderr",
     "output_type": "stream",
     "text": [
      "100%|████████████████████████████████████████████████████████████████████████████████| 214/214 [02:00<00:00,  1.77it/s]\n",
      "2022-05-12 21:13:09,487 INFO: Epoch:[117/500]\n",
      "2022-05-12 21:13:09,487 INFO: Train Loss:0.114 | Acc:0.9658 | F1:0.8669\n",
      "2022-05-12 21:13:20,515 INFO: val Loss:0.168 | Acc:0.9579 | F1:0.7852\n"
     ]
    },
    {
     "name": "stdout",
     "output_type": "stream",
     "text": [
      "\n",
      "best epoch:104/loss:0.1386/f1:0.7984\n"
     ]
    },
    {
     "name": "stderr",
     "output_type": "stream",
     "text": [
      "100%|████████████████████████████████████████████████████████████████████████████████| 214/214 [02:00<00:00,  1.78it/s]\n",
      "2022-05-12 21:15:20,777 INFO: Epoch:[118/500]\n",
      "2022-05-12 21:15:20,777 INFO: Train Loss:0.112 | Acc:0.9716 | F1:0.9025\n",
      "2022-05-12 21:15:31,881 INFO: val Loss:0.175 | Acc:0.9603 | F1:0.8297\n"
     ]
    },
    {
     "name": "stdout",
     "output_type": "stream",
     "text": [
      "\n",
      "best epoch:104/loss:0.1386/f1:0.7984\n"
     ]
    },
    {
     "name": "stderr",
     "output_type": "stream",
     "text": [
      "100%|████████████████████████████████████████████████████████████████████████████████| 214/214 [02:00<00:00,  1.77it/s]\n",
      "2022-05-12 21:17:32,569 INFO: Epoch:[119/500]\n",
      "2022-05-12 21:17:32,569 INFO: Train Loss:0.110 | Acc:0.9722 | F1:0.9001\n",
      "2022-05-12 21:17:43,725 INFO: val Loss:0.227 | Acc:0.9486 | F1:0.7691\n"
     ]
    },
    {
     "name": "stdout",
     "output_type": "stream",
     "text": [
      "\n",
      "best epoch:104/loss:0.1386/f1:0.7984\n"
     ]
    },
    {
     "name": "stderr",
     "output_type": "stream",
     "text": [
      "100%|████████████████████████████████████████████████████████████████████████████████| 214/214 [02:00<00:00,  1.78it/s]\n",
      "2022-05-12 21:19:44,180 INFO: Epoch:[120/500]\n",
      "2022-05-12 21:19:44,180 INFO: Train Loss:0.117 | Acc:0.9664 | F1:0.8726\n",
      "2022-05-12 21:19:55,193 INFO: val Loss:0.155 | Acc:0.9661 | F1:0.8253\n"
     ]
    },
    {
     "name": "stdout",
     "output_type": "stream",
     "text": [
      "\n",
      "best epoch:104/loss:0.1386/f1:0.7984\n"
     ]
    },
    {
     "name": "stderr",
     "output_type": "stream",
     "text": [
      "100%|████████████████████████████████████████████████████████████████████████████████| 214/214 [02:00<00:00,  1.77it/s]\n",
      "2022-05-12 21:21:56,033 INFO: Epoch:[121/500]\n",
      "2022-05-12 21:21:56,033 INFO: Train Loss:0.106 | Acc:0.9719 | F1:0.8914\n",
      "2022-05-12 21:22:07,215 INFO: val Loss:0.199 | Acc:0.9626 | F1:0.7932\n"
     ]
    },
    {
     "name": "stdout",
     "output_type": "stream",
     "text": [
      "\n",
      "best epoch:104/loss:0.1386/f1:0.7984\n"
     ]
    },
    {
     "name": "stderr",
     "output_type": "stream",
     "text": [
      "100%|████████████████████████████████████████████████████████████████████████████████| 214/214 [02:01<00:00,  1.76it/s]\n",
      "2022-05-12 21:24:08,827 INFO: Epoch:[122/500]\n",
      "2022-05-12 21:24:08,828 INFO: Train Loss:0.121 | Acc:0.9678 | F1:0.8924\n",
      "2022-05-12 21:24:20,242 INFO: val Loss:0.181 | Acc:0.9650 | F1:0.7852\n"
     ]
    },
    {
     "name": "stdout",
     "output_type": "stream",
     "text": [
      "\n",
      "best epoch:104/loss:0.1386/f1:0.7984\n"
     ]
    },
    {
     "name": "stderr",
     "output_type": "stream",
     "text": [
      "100%|████████████████████████████████████████████████████████████████████████████████| 214/214 [02:02<00:00,  1.75it/s]\n",
      "2022-05-12 21:26:22,608 INFO: Epoch:[123/500]\n",
      "2022-05-12 21:26:22,609 INFO: Train Loss:0.102 | Acc:0.9749 | F1:0.9012\n",
      "2022-05-12 21:26:33,581 INFO: val Loss:0.189 | Acc:0.9603 | F1:0.7901\n"
     ]
    },
    {
     "name": "stdout",
     "output_type": "stream",
     "text": [
      "\n",
      "best epoch:104/loss:0.1386/f1:0.7984\n"
     ]
    },
    {
     "name": "stderr",
     "output_type": "stream",
     "text": [
      "100%|████████████████████████████████████████████████████████████████████████████████| 214/214 [01:59<00:00,  1.80it/s]\n",
      "2022-05-12 21:28:32,714 INFO: Epoch:[124/500]\n",
      "2022-05-12 21:28:32,714 INFO: Train Loss:0.111 | Acc:0.9678 | F1:0.8731\n",
      "2022-05-12 21:28:43,492 INFO: val Loss:0.155 | Acc:0.9685 | F1:0.8160\n"
     ]
    },
    {
     "name": "stdout",
     "output_type": "stream",
     "text": [
      "\n",
      "best epoch:104/loss:0.1386/f1:0.7984\n"
     ]
    },
    {
     "name": "stderr",
     "output_type": "stream",
     "text": [
      "100%|████████████████████████████████████████████████████████████████████████████████| 214/214 [01:59<00:00,  1.79it/s]\n",
      "2022-05-12 21:30:42,821 INFO: Epoch:[125/500]\n",
      "2022-05-12 21:30:42,822 INFO: Train Loss:0.105 | Acc:0.9731 | F1:0.9090\n",
      "2022-05-12 21:30:53,600 INFO: val Loss:0.180 | Acc:0.9614 | F1:0.7989\n"
     ]
    },
    {
     "name": "stdout",
     "output_type": "stream",
     "text": [
      "\n",
      "best epoch:104/loss:0.1386/f1:0.7984\n"
     ]
    },
    {
     "name": "stderr",
     "output_type": "stream",
     "text": [
      "100%|████████████████████████████████████████████████████████████████████████████████| 214/214 [01:59<00:00,  1.80it/s]\n",
      "2022-05-12 21:32:52,720 INFO: Epoch:[126/500]\n",
      "2022-05-12 21:32:52,721 INFO: Train Loss:0.117 | Acc:0.9687 | F1:0.8800\n",
      "2022-05-12 21:33:03,606 INFO: val Loss:0.154 | Acc:0.9626 | F1:0.7866\n"
     ]
    },
    {
     "name": "stdout",
     "output_type": "stream",
     "text": [
      "\n",
      "best epoch:104/loss:0.1386/f1:0.7984\n"
     ]
    },
    {
     "name": "stderr",
     "output_type": "stream",
     "text": [
      "100%|████████████████████████████████████████████████████████████████████████████████| 214/214 [01:58<00:00,  1.80it/s]\n",
      "2022-05-12 21:35:02,513 INFO: Epoch:[127/500]\n",
      "2022-05-12 21:35:02,514 INFO: Train Loss:0.111 | Acc:0.9687 | F1:0.8816\n",
      "2022-05-12 21:35:13,323 INFO: val Loss:0.211 | Acc:0.9533 | F1:0.7282\n"
     ]
    },
    {
     "name": "stdout",
     "output_type": "stream",
     "text": [
      "\n",
      "best epoch:104/loss:0.1386/f1:0.7984\n"
     ]
    },
    {
     "name": "stderr",
     "output_type": "stream",
     "text": [
      "100%|████████████████████████████████████████████████████████████████████████████████| 214/214 [01:59<00:00,  1.78it/s]\n",
      "2022-05-12 21:37:13,220 INFO: Epoch:[128/500]\n",
      "2022-05-12 21:37:13,221 INFO: Train Loss:0.119 | Acc:0.9681 | F1:0.8836\n",
      "2022-05-12 21:37:24,383 INFO: val Loss:0.233 | Acc:0.9568 | F1:0.7559\n"
     ]
    },
    {
     "name": "stdout",
     "output_type": "stream",
     "text": [
      "\n",
      "best epoch:104/loss:0.1386/f1:0.7984\n"
     ]
    },
    {
     "name": "stderr",
     "output_type": "stream",
     "text": [
      "100%|████████████████████████████████████████████████████████████████████████████████| 214/214 [02:01<00:00,  1.77it/s]\n",
      "2022-05-12 21:39:25,400 INFO: Epoch:[129/500]\n",
      "2022-05-12 21:39:25,400 INFO: Train Loss:0.111 | Acc:0.9705 | F1:0.8946\n",
      "2022-05-12 21:39:36,549 INFO: val Loss:0.205 | Acc:0.9521 | F1:0.7578\n"
     ]
    },
    {
     "name": "stdout",
     "output_type": "stream",
     "text": [
      "\n",
      "best epoch:104/loss:0.1386/f1:0.7984\n"
     ]
    },
    {
     "name": "stderr",
     "output_type": "stream",
     "text": [
      "100%|████████████████████████████████████████████████████████████████████████████████| 214/214 [02:01<00:00,  1.77it/s]\n",
      "2022-05-12 21:41:37,573 INFO: Epoch:[130/500]\n",
      "2022-05-12 21:41:37,574 INFO: Train Loss:0.108 | Acc:0.9681 | F1:0.8779\n",
      "2022-05-12 21:41:48,778 INFO: val Loss:0.161 | Acc:0.9650 | F1:0.7900\n"
     ]
    },
    {
     "name": "stdout",
     "output_type": "stream",
     "text": [
      "\n",
      "best epoch:104/loss:0.1386/f1:0.7984\n"
     ]
    },
    {
     "name": "stderr",
     "output_type": "stream",
     "text": [
      "100%|████████████████████████████████████████████████████████████████████████████████| 214/214 [02:01<00:00,  1.77it/s]\n",
      "2022-05-12 21:43:49,887 INFO: Epoch:[131/500]\n",
      "2022-05-12 21:43:49,888 INFO: Train Loss:0.120 | Acc:0.9681 | F1:0.8724\n",
      "2022-05-12 21:44:00,937 INFO: val Loss:0.169 | Acc:0.9463 | F1:0.7523\n"
     ]
    },
    {
     "name": "stdout",
     "output_type": "stream",
     "text": [
      "\n",
      "best epoch:104/loss:0.1386/f1:0.7984\n"
     ]
    },
    {
     "name": "stderr",
     "output_type": "stream",
     "text": [
      "100%|████████████████████████████████████████████████████████████████████████████████| 214/214 [02:01<00:00,  1.76it/s]\n",
      "2022-05-12 21:46:02,272 INFO: Epoch:[132/500]\n",
      "2022-05-12 21:46:02,272 INFO: Train Loss:0.100 | Acc:0.9728 | F1:0.9061\n",
      "2022-05-12 21:46:13,337 INFO: val Loss:0.153 | Acc:0.9626 | F1:0.7931\n"
     ]
    },
    {
     "name": "stdout",
     "output_type": "stream",
     "text": [
      "\n",
      "best epoch:104/loss:0.1386/f1:0.7984\n"
     ]
    },
    {
     "name": "stderr",
     "output_type": "stream",
     "text": [
      "100%|████████████████████████████████████████████████████████████████████████████████| 214/214 [02:01<00:00,  1.76it/s]\n",
      "2022-05-12 21:48:14,620 INFO: Epoch:[133/500]\n",
      "2022-05-12 21:48:14,621 INFO: Train Loss:0.112 | Acc:0.9711 | F1:0.8999\n",
      "2022-05-12 21:48:25,769 INFO: val Loss:0.169 | Acc:0.9568 | F1:0.8207\n"
     ]
    },
    {
     "name": "stdout",
     "output_type": "stream",
     "text": [
      "\n",
      "best epoch:104/loss:0.1386/f1:0.7984\n"
     ]
    },
    {
     "name": "stderr",
     "output_type": "stream",
     "text": [
      "100%|████████████████████████████████████████████████████████████████████████████████| 214/214 [02:00<00:00,  1.77it/s]\n",
      "2022-05-12 21:50:26,403 INFO: Epoch:[134/500]\n",
      "2022-05-12 21:50:26,404 INFO: Train Loss:0.096 | Acc:0.9740 | F1:0.9119\n",
      "2022-05-12 21:50:37,614 INFO: val Loss:0.208 | Acc:0.9509 | F1:0.7635\n"
     ]
    },
    {
     "name": "stdout",
     "output_type": "stream",
     "text": [
      "\n",
      "best epoch:104/loss:0.1386/f1:0.7984\n"
     ]
    },
    {
     "name": "stderr",
     "output_type": "stream",
     "text": [
      "100%|████████████████████████████████████████████████████████████████████████████████| 214/214 [02:00<00:00,  1.77it/s]\n",
      "2022-05-12 21:52:38,546 INFO: Epoch:[135/500]\n",
      "2022-05-12 21:52:38,546 INFO: Train Loss:0.106 | Acc:0.9728 | F1:0.9000\n",
      "2022-05-12 21:52:49,630 INFO: val Loss:0.183 | Acc:0.9521 | F1:0.7340\n"
     ]
    },
    {
     "name": "stdout",
     "output_type": "stream",
     "text": [
      "\n",
      "best epoch:104/loss:0.1386/f1:0.7984\n"
     ]
    },
    {
     "name": "stderr",
     "output_type": "stream",
     "text": [
      "100%|████████████████████████████████████████████████████████████████████████████████| 214/214 [02:01<00:00,  1.76it/s]\n",
      "2022-05-12 21:54:51,019 INFO: Epoch:[136/500]\n",
      "2022-05-12 21:54:51,019 INFO: Train Loss:0.105 | Acc:0.9716 | F1:0.8973\n",
      "2022-05-12 21:55:02,241 INFO: val Loss:0.166 | Acc:0.9614 | F1:0.7807\n"
     ]
    },
    {
     "name": "stdout",
     "output_type": "stream",
     "text": [
      "\n",
      "best epoch:104/loss:0.1386/f1:0.7984\n"
     ]
    },
    {
     "name": "stderr",
     "output_type": "stream",
     "text": [
      "100%|████████████████████████████████████████████████████████████████████████████████| 214/214 [02:01<00:00,  1.77it/s]\n",
      "2022-05-12 21:57:03,299 INFO: Epoch:[137/500]\n",
      "2022-05-12 21:57:03,300 INFO: Train Loss:0.108 | Acc:0.9722 | F1:0.9007\n",
      "2022-05-12 21:57:14,437 INFO: val Loss:0.162 | Acc:0.9591 | F1:0.7674\n"
     ]
    },
    {
     "name": "stdout",
     "output_type": "stream",
     "text": [
      "\n",
      "best epoch:104/loss:0.1386/f1:0.7984\n"
     ]
    },
    {
     "name": "stderr",
     "output_type": "stream",
     "text": [
      "100%|████████████████████████████████████████████████████████████████████████████████| 214/214 [02:00<00:00,  1.78it/s]\n",
      "2022-05-12 21:59:14,906 INFO: Epoch:[138/500]\n",
      "2022-05-12 21:59:14,906 INFO: Train Loss:0.096 | Acc:0.9740 | F1:0.8967\n",
      "2022-05-12 21:59:26,125 INFO: val Loss:0.177 | Acc:0.9638 | F1:0.7991\n"
     ]
    },
    {
     "name": "stdout",
     "output_type": "stream",
     "text": [
      "\n",
      "best epoch:104/loss:0.1386/f1:0.7984\n"
     ]
    },
    {
     "name": "stderr",
     "output_type": "stream",
     "text": [
      "100%|████████████████████████████████████████████████████████████████████████████████| 214/214 [02:01<00:00,  1.77it/s]\n",
      "2022-05-12 22:01:27,242 INFO: Epoch:[139/500]\n",
      "2022-05-12 22:01:27,242 INFO: Train Loss:0.102 | Acc:0.9734 | F1:0.9069\n",
      "2022-05-12 22:01:38,402 INFO: val Loss:0.194 | Acc:0.9568 | F1:0.7748\n"
     ]
    },
    {
     "name": "stdout",
     "output_type": "stream",
     "text": [
      "\n",
      "best epoch:104/loss:0.1386/f1:0.7984\n"
     ]
    },
    {
     "name": "stderr",
     "output_type": "stream",
     "text": [
      "100%|████████████████████████████████████████████████████████████████████████████████| 214/214 [02:00<00:00,  1.77it/s]\n",
      "2022-05-12 22:03:39,332 INFO: Epoch:[140/500]\n",
      "2022-05-12 22:03:39,333 INFO: Train Loss:0.101 | Acc:0.9719 | F1:0.8995\n",
      "2022-05-12 22:03:50,440 INFO: val Loss:0.212 | Acc:0.9556 | F1:0.7443\n"
     ]
    },
    {
     "name": "stdout",
     "output_type": "stream",
     "text": [
      "\n",
      "best epoch:104/loss:0.1386/f1:0.7984\n"
     ]
    },
    {
     "name": "stderr",
     "output_type": "stream",
     "text": [
      "100%|████████████████████████████████████████████████████████████████████████████████| 214/214 [02:01<00:00,  1.77it/s]\n",
      "2022-05-12 22:05:51,459 INFO: Epoch:[141/500]\n",
      "2022-05-12 22:05:51,459 INFO: Train Loss:0.097 | Acc:0.9749 | F1:0.9097\n",
      "2022-05-12 22:06:02,606 INFO: val Loss:0.199 | Acc:0.9544 | F1:0.7582\n"
     ]
    },
    {
     "name": "stdout",
     "output_type": "stream",
     "text": [
      "\n",
      "best epoch:104/loss:0.1386/f1:0.7984\n"
     ]
    },
    {
     "name": "stderr",
     "output_type": "stream",
     "text": [
      "100%|████████████████████████████████████████████████████████████████████████████████| 214/214 [02:00<00:00,  1.77it/s]\n",
      "2022-05-12 22:08:03,516 INFO: Epoch:[142/500]\n",
      "2022-05-12 22:08:03,517 INFO: Train Loss:0.093 | Acc:0.9760 | F1:0.9072\n",
      "2022-05-12 22:08:14,507 INFO: val Loss:0.240 | Acc:0.9579 | F1:0.7718\n"
     ]
    },
    {
     "name": "stdout",
     "output_type": "stream",
     "text": [
      "\n",
      "best epoch:104/loss:0.1386/f1:0.7984\n"
     ]
    },
    {
     "name": "stderr",
     "output_type": "stream",
     "text": [
      "100%|████████████████████████████████████████████████████████████████████████████████| 214/214 [02:01<00:00,  1.77it/s]\n",
      "2022-05-12 22:10:15,562 INFO: Epoch:[143/500]\n",
      "2022-05-12 22:10:15,562 INFO: Train Loss:0.097 | Acc:0.9725 | F1:0.8998\n",
      "2022-05-12 22:10:26,616 INFO: val Loss:0.222 | Acc:0.9544 | F1:0.7480\n"
     ]
    },
    {
     "name": "stdout",
     "output_type": "stream",
     "text": [
      "\n",
      "best epoch:104/loss:0.1386/f1:0.7984\n"
     ]
    },
    {
     "name": "stderr",
     "output_type": "stream",
     "text": [
      "100%|████████████████████████████████████████████████████████████████████████████████| 214/214 [02:00<00:00,  1.77it/s]\n",
      "2022-05-12 22:12:27,613 INFO: Epoch:[144/500]\n",
      "2022-05-12 22:12:27,614 INFO: Train Loss:0.107 | Acc:0.9743 | F1:0.9129\n",
      "2022-05-12 22:12:38,825 INFO: val Loss:0.223 | Acc:0.9568 | F1:0.7542\n"
     ]
    },
    {
     "name": "stdout",
     "output_type": "stream",
     "text": [
      "\n",
      "best epoch:104/loss:0.1386/f1:0.7984\n"
     ]
    },
    {
     "name": "stderr",
     "output_type": "stream",
     "text": [
      "100%|████████████████████████████████████████████████████████████████████████████████| 214/214 [02:01<00:00,  1.77it/s]\n",
      "2022-05-12 22:14:39,905 INFO: Epoch:[145/500]\n",
      "2022-05-12 22:14:39,905 INFO: Train Loss:0.099 | Acc:0.9705 | F1:0.8940\n",
      "2022-05-12 22:14:51,046 INFO: val Loss:0.210 | Acc:0.9614 | F1:0.7860\n"
     ]
    },
    {
     "name": "stdout",
     "output_type": "stream",
     "text": [
      "\n",
      "best epoch:104/loss:0.1386/f1:0.7984\n"
     ]
    },
    {
     "name": "stderr",
     "output_type": "stream",
     "text": [
      "100%|████████████████████████████████████████████████████████████████████████████████| 214/214 [02:01<00:00,  1.77it/s]\n",
      "2022-05-12 22:16:52,151 INFO: Epoch:[146/500]\n",
      "2022-05-12 22:16:52,152 INFO: Train Loss:0.100 | Acc:0.9702 | F1:0.8908\n",
      "2022-05-12 22:17:03,302 INFO: val Loss:0.199 | Acc:0.9579 | F1:0.8081\n"
     ]
    },
    {
     "name": "stdout",
     "output_type": "stream",
     "text": [
      "\n",
      "best epoch:104/loss:0.1386/f1:0.7984\n"
     ]
    },
    {
     "name": "stderr",
     "output_type": "stream",
     "text": [
      "100%|████████████████████████████████████████████████████████████████████████████████| 214/214 [02:01<00:00,  1.76it/s]\n",
      "2022-05-12 22:19:04,625 INFO: Epoch:[147/500]\n",
      "2022-05-12 22:19:04,625 INFO: Train Loss:0.093 | Acc:0.9757 | F1:0.9125\n",
      "2022-05-12 22:19:15,674 INFO: val Loss:0.236 | Acc:0.9579 | F1:0.7588\n"
     ]
    },
    {
     "name": "stdout",
     "output_type": "stream",
     "text": [
      "\n",
      "best epoch:104/loss:0.1386/f1:0.7984\n"
     ]
    },
    {
     "name": "stderr",
     "output_type": "stream",
     "text": [
      "100%|████████████████████████████████████████████████████████████████████████████████| 214/214 [02:01<00:00,  1.76it/s]\n",
      "2022-05-12 22:21:17,610 INFO: Epoch:[148/500]\n",
      "2022-05-12 22:21:17,610 INFO: Train Loss:0.095 | Acc:0.9734 | F1:0.9097\n",
      "2022-05-12 22:21:28,761 INFO: val Loss:0.240 | Acc:0.9451 | F1:0.7621\n"
     ]
    },
    {
     "name": "stdout",
     "output_type": "stream",
     "text": [
      "\n",
      "best epoch:104/loss:0.1386/f1:0.7984\n"
     ]
    },
    {
     "name": "stderr",
     "output_type": "stream",
     "text": [
      "100%|████████████████████████████████████████████████████████████████████████████████| 214/214 [02:00<00:00,  1.77it/s]\n",
      "2022-05-12 22:23:29,702 INFO: Epoch:[149/500]\n",
      "2022-05-12 22:23:29,703 INFO: Train Loss:0.099 | Acc:0.9763 | F1:0.9146\n",
      "2022-05-12 22:23:40,953 INFO: val Loss:0.197 | Acc:0.9626 | F1:0.7944\n"
     ]
    },
    {
     "name": "stdout",
     "output_type": "stream",
     "text": [
      "\n",
      "best epoch:104/loss:0.1386/f1:0.7984\n"
     ]
    },
    {
     "name": "stderr",
     "output_type": "stream",
     "text": [
      "100%|████████████████████████████████████████████████████████████████████████████████| 214/214 [02:00<00:00,  1.77it/s]\n",
      "2022-05-12 22:25:41,932 INFO: Epoch:[150/500]\n",
      "2022-05-12 22:25:41,932 INFO: Train Loss:0.094 | Acc:0.9719 | F1:0.9023\n",
      "2022-05-12 22:25:53,086 INFO: val Loss:0.220 | Acc:0.9568 | F1:0.7544\n"
     ]
    },
    {
     "name": "stdout",
     "output_type": "stream",
     "text": [
      "\n",
      "best epoch:104/loss:0.1386/f1:0.7984\n"
     ]
    },
    {
     "name": "stderr",
     "output_type": "stream",
     "text": [
      "100%|████████████████████████████████████████████████████████████████████████████████| 214/214 [02:01<00:00,  1.77it/s]\n",
      "2022-05-12 22:27:54,331 INFO: Epoch:[151/500]\n",
      "2022-05-12 22:27:54,331 INFO: Train Loss:0.110 | Acc:0.9684 | F1:0.8962\n",
      "2022-05-12 22:28:05,517 INFO: val Loss:0.203 | Acc:0.9544 | F1:0.7514\n"
     ]
    },
    {
     "name": "stdout",
     "output_type": "stream",
     "text": [
      "\n",
      "best epoch:104/loss:0.1386/f1:0.7984\n"
     ]
    },
    {
     "name": "stderr",
     "output_type": "stream",
     "text": [
      "100%|████████████████████████████████████████████████████████████████████████████████| 214/214 [02:00<00:00,  1.77it/s]\n",
      "2022-05-12 22:30:06,468 INFO: Epoch:[152/500]\n",
      "2022-05-12 22:30:06,468 INFO: Train Loss:0.099 | Acc:0.9725 | F1:0.8952\n",
      "2022-05-12 22:30:17,627 INFO: val Loss:0.211 | Acc:0.9533 | F1:0.7529\n"
     ]
    },
    {
     "name": "stdout",
     "output_type": "stream",
     "text": [
      "\n",
      "best epoch:104/loss:0.1386/f1:0.7984\n"
     ]
    },
    {
     "name": "stderr",
     "output_type": "stream",
     "text": [
      "100%|████████████████████████████████████████████████████████████████████████████████| 214/214 [02:01<00:00,  1.76it/s]\n",
      "2022-05-12 22:32:18,926 INFO: Epoch:[153/500]\n",
      "2022-05-12 22:32:18,926 INFO: Train Loss:0.099 | Acc:0.9711 | F1:0.8988\n",
      "2022-05-12 22:32:29,960 INFO: val Loss:0.205 | Acc:0.9486 | F1:0.7322\n"
     ]
    },
    {
     "name": "stdout",
     "output_type": "stream",
     "text": [
      "\n",
      "best epoch:104/loss:0.1386/f1:0.7984\n"
     ]
    },
    {
     "name": "stderr",
     "output_type": "stream",
     "text": [
      "100%|████████████████████████████████████████████████████████████████████████████████| 214/214 [02:01<00:00,  1.76it/s]\n",
      "2022-05-12 22:34:31,819 INFO: Epoch:[154/500]\n",
      "2022-05-12 22:34:31,820 INFO: Train Loss:0.108 | Acc:0.9719 | F1:0.8947\n",
      "2022-05-12 22:34:42,698 INFO: val Loss:0.252 | Acc:0.9521 | F1:0.7526\n",
      "2022-05-12 22:34:42,698 INFO: \n",
      "Best Val Epoch:104 | Val Loss:0.1386 | Val Acc:0.9673 | Val F1:0.7984\n",
      "2022-05-12 22:34:42,699 INFO: Total Process time:360.139Minute\n",
      "2022-05-12 22:34:42,702 INFO: {'exp_num': '2', 'data_path': './data', 'Kfold': 5, 'model_path': 'results/', 'encoder_name': 'regnety_160', 'drop_path_rate': 0.2, 'img_size': 224, 'batch_size': 16, 'epochs': 500, 'optimizer': 'Lamb', 'initial_lr': 5e-06, 'weight_decay': 0.001, 'aug_ver': 2, 'scheduler': 'cycle', 'warm_epoch': 5, 'max_lr': 0.001, 'min_lr': 5e-06, 'tmax': 145, 'patience': 50, 'clipping': None, 'amp': True, 'multi_gpu': False, 'logging': False, 'num_workers': 0, 'seed': 42, 'fold': 2}\n"
     ]
    },
    {
     "name": "stdout",
     "output_type": "stream",
     "text": [
      "<---- Training Params ---->\n",
      "Read train_df.csv\n",
      "Dataset size:3422\n",
      "Dataset size:855\n"
     ]
    },
    {
     "name": "stderr",
     "output_type": "stream",
     "text": [
      "2022-05-12 22:34:43,532 INFO: Loading pretrained weights from url (https://dl.fbaipublicfiles.com/deit/regnety_160-a5fe301d.pth)\n",
      "2022-05-12 22:34:44,003 INFO: Computational complexity:       15.93 GMac\n",
      "2022-05-12 22:34:44,003 INFO: Number of parameters:           80.83 M \n",
      "100%|████████████████████████████████████████████████████████████████████████████████| 214/214 [02:06<00:00,  1.69it/s]\n",
      "2022-05-12 22:36:50,693 INFO: Epoch:[001/500]\n",
      "2022-05-12 22:36:50,694 INFO: Train Loss:4.487 | Acc:0.0091 | F1:0.0049\n",
      "2022-05-12 22:37:02,097 INFO: val Loss:4.533 | Acc:0.0000 | F1:0.0000\n",
      "2022-05-12 22:37:04,197 INFO: -----------------SAVE:1epoch----------------\n"
     ]
    },
    {
     "name": "stdout",
     "output_type": "stream",
     "text": [
      "\n",
      "best epoch:1/loss:4.5334/f1:0.0000\n"
     ]
    },
    {
     "name": "stderr",
     "output_type": "stream",
     "text": [
      "100%|████████████████████████████████████████████████████████████████████████████████| 214/214 [01:52<00:00,  1.90it/s]\n",
      "2022-05-12 22:38:56,556 INFO: Epoch:[002/500]\n",
      "2022-05-12 22:38:56,557 INFO: Train Loss:4.469 | Acc:0.0137 | F1:0.0045\n",
      "2022-05-12 22:39:06,550 INFO: val Loss:4.519 | Acc:0.0012 | F1:0.0002\n",
      "2022-05-12 22:39:08,381 INFO: -----------------SAVE:2epoch----------------\n"
     ]
    },
    {
     "name": "stdout",
     "output_type": "stream",
     "text": [
      "\n",
      "best epoch:2/loss:4.5191/f1:0.0002\n"
     ]
    },
    {
     "name": "stderr",
     "output_type": "stream",
     "text": [
      "100%|████████████████████████████████████████████████████████████████████████████████| 214/214 [01:51<00:00,  1.91it/s]\n",
      "2022-05-12 22:41:00,285 INFO: Epoch:[003/500]\n",
      "2022-05-12 22:41:00,286 INFO: Train Loss:4.445 | Acc:0.0132 | F1:0.0034\n",
      "2022-05-12 22:41:10,267 INFO: val Loss:4.491 | Acc:0.0023 | F1:0.0004\n",
      "2022-05-12 22:41:12,417 INFO: -----------------SAVE:3epoch----------------\n"
     ]
    },
    {
     "name": "stdout",
     "output_type": "stream",
     "text": [
      "\n",
      "best epoch:3/loss:4.4910/f1:0.0004\n"
     ]
    },
    {
     "name": "stderr",
     "output_type": "stream",
     "text": [
      "100%|████████████████████████████████████████████████████████████████████████████████| 214/214 [01:51<00:00,  1.91it/s]\n",
      "2022-05-12 22:43:04,305 INFO: Epoch:[004/500]\n",
      "2022-05-12 22:43:04,306 INFO: Train Loss:4.398 | Acc:0.0380 | F1:0.0087\n",
      "2022-05-12 22:43:14,227 INFO: val Loss:4.441 | Acc:0.0070 | F1:0.0013\n",
      "2022-05-12 22:43:16,445 INFO: -----------------SAVE:4epoch----------------\n"
     ]
    },
    {
     "name": "stdout",
     "output_type": "stream",
     "text": [
      "\n",
      "best epoch:4/loss:4.4410/f1:0.0013\n"
     ]
    },
    {
     "name": "stderr",
     "output_type": "stream",
     "text": [
      "100%|████████████████████████████████████████████████████████████████████████████████| 214/214 [01:52<00:00,  1.90it/s]\n",
      "2022-05-12 22:45:08,932 INFO: Epoch:[005/500]\n",
      "2022-05-12 22:45:08,932 INFO: Train Loss:4.348 | Acc:0.0687 | F1:0.0159\n",
      "2022-05-12 22:45:18,896 INFO: val Loss:4.381 | Acc:0.0351 | F1:0.0061\n",
      "2022-05-12 22:45:20,863 INFO: -----------------SAVE:5epoch----------------\n"
     ]
    },
    {
     "name": "stdout",
     "output_type": "stream",
     "text": [
      "\n",
      "best epoch:5/loss:4.3807/f1:0.0061\n"
     ]
    },
    {
     "name": "stderr",
     "output_type": "stream",
     "text": [
      "100%|████████████████████████████████████████████████████████████████████████████████| 214/214 [01:52<00:00,  1.91it/s]\n",
      "2022-05-12 22:47:13,185 INFO: Epoch:[006/500]\n",
      "2022-05-12 22:47:13,185 INFO: Train Loss:4.018 | Acc:0.3776 | F1:0.0771\n",
      "2022-05-12 22:47:23,154 INFO: val Loss:3.745 | Acc:0.5462 | F1:0.1013\n",
      "2022-05-12 22:47:25,016 INFO: -----------------SAVE:6epoch----------------\n"
     ]
    },
    {
     "name": "stdout",
     "output_type": "stream",
     "text": [
      "\n",
      "best epoch:6/loss:3.7445/f1:0.1013\n"
     ]
    },
    {
     "name": "stderr",
     "output_type": "stream",
     "text": [
      "100%|████████████████████████████████████████████████████████████████████████████████| 214/214 [01:52<00:00,  1.90it/s]\n",
      "2022-05-12 22:49:17,645 INFO: Epoch:[007/500]\n",
      "2022-05-12 22:49:17,646 INFO: Train Loss:3.262 | Acc:0.7417 | F1:0.1339\n",
      "2022-05-12 22:49:27,622 INFO: val Loss:2.852 | Acc:0.7696 | F1:0.1348\n",
      "2022-05-12 22:49:30,200 INFO: -----------------SAVE:7epoch----------------\n"
     ]
    },
    {
     "name": "stdout",
     "output_type": "stream",
     "text": [
      "\n",
      "best epoch:7/loss:2.8523/f1:0.1348\n"
     ]
    },
    {
     "name": "stderr",
     "output_type": "stream",
     "text": [
      "100%|████████████████████████████████████████████████████████████████████████████████| 214/214 [01:52<00:00,  1.90it/s]\n",
      "2022-05-12 22:51:22,960 INFO: Epoch:[008/500]\n",
      "2022-05-12 22:51:22,961 INFO: Train Loss:2.437 | Acc:0.8212 | F1:0.1458\n",
      "2022-05-12 22:51:32,901 INFO: val Loss:1.903 | Acc:0.8351 | F1:0.1449\n",
      "2022-05-12 22:51:34,779 INFO: -----------------SAVE:8epoch----------------\n"
     ]
    },
    {
     "name": "stdout",
     "output_type": "stream",
     "text": [
      "\n",
      "best epoch:8/loss:1.9033/f1:0.1449\n"
     ]
    },
    {
     "name": "stderr",
     "output_type": "stream",
     "text": [
      "100%|████████████████████████████████████████████████████████████████████████████████| 214/214 [01:53<00:00,  1.89it/s]\n",
      "2022-05-12 22:53:27,814 INFO: Epoch:[009/500]\n",
      "2022-05-12 22:53:27,814 INFO: Train Loss:1.708 | Acc:0.8328 | F1:0.1475\n",
      "2022-05-12 22:53:37,772 INFO: val Loss:1.142 | Acc:0.8480 | F1:0.1559\n",
      "2022-05-12 22:53:39,804 INFO: -----------------SAVE:9epoch----------------\n"
     ]
    },
    {
     "name": "stdout",
     "output_type": "stream",
     "text": [
      "\n",
      "best epoch:9/loss:1.1419/f1:0.1559\n"
     ]
    },
    {
     "name": "stderr",
     "output_type": "stream",
     "text": [
      "100%|████████████████████████████████████████████████████████████████████████████████| 214/214 [01:52<00:00,  1.90it/s]\n",
      "2022-05-12 22:55:32,525 INFO: Epoch:[010/500]\n",
      "2022-05-12 22:55:32,526 INFO: Train Loss:1.320 | Acc:0.8381 | F1:0.1517\n",
      "2022-05-12 22:55:42,501 INFO: val Loss:1.049 | Acc:0.8491 | F1:0.1562\n",
      "2022-05-12 22:55:45,113 INFO: -----------------SAVE:10epoch----------------\n"
     ]
    },
    {
     "name": "stdout",
     "output_type": "stream",
     "text": [
      "\n",
      "best epoch:10/loss:1.0494/f1:0.1562\n"
     ]
    },
    {
     "name": "stderr",
     "output_type": "stream",
     "text": [
      "100%|████████████████████████████████████████████████████████████████████████████████| 214/214 [01:52<00:00,  1.90it/s]\n",
      "2022-05-12 22:57:37,704 INFO: Epoch:[011/500]\n",
      "2022-05-12 22:57:37,704 INFO: Train Loss:1.168 | Acc:0.8407 | F1:0.1539\n",
      "2022-05-12 22:57:47,671 INFO: val Loss:0.961 | Acc:0.8491 | F1:0.1562\n",
      "2022-05-12 22:57:49,665 INFO: -----------------SAVE:11epoch----------------\n"
     ]
    },
    {
     "name": "stdout",
     "output_type": "stream",
     "text": [
      "\n",
      "best epoch:11/loss:0.9613/f1:0.1562\n"
     ]
    },
    {
     "name": "stderr",
     "output_type": "stream",
     "text": [
      "100%|████████████████████████████████████████████████████████████████████████████████| 214/214 [01:53<00:00,  1.89it/s]\n",
      "2022-05-12 22:59:42,868 INFO: Epoch:[012/500]\n",
      "2022-05-12 22:59:42,868 INFO: Train Loss:1.049 | Acc:0.8472 | F1:0.1558\n",
      "2022-05-12 22:59:52,831 INFO: val Loss:0.972 | Acc:0.8491 | F1:0.1562\n"
     ]
    },
    {
     "name": "stdout",
     "output_type": "stream",
     "text": [
      "\n",
      "best epoch:11/loss:0.9613/f1:0.1562\n"
     ]
    },
    {
     "name": "stderr",
     "output_type": "stream",
     "text": [
      "100%|████████████████████████████████████████████████████████████████████████████████| 214/214 [01:52<00:00,  1.90it/s]\n",
      "2022-05-12 23:01:45,749 INFO: Epoch:[013/500]\n",
      "2022-05-12 23:01:45,749 INFO: Train Loss:0.986 | Acc:0.8457 | F1:0.1553\n",
      "2022-05-12 23:01:55,714 INFO: val Loss:0.816 | Acc:0.8491 | F1:0.1562\n",
      "2022-05-12 23:01:57,649 INFO: -----------------SAVE:13epoch----------------\n"
     ]
    },
    {
     "name": "stdout",
     "output_type": "stream",
     "text": [
      "\n",
      "best epoch:13/loss:0.8164/f1:0.1562\n"
     ]
    },
    {
     "name": "stderr",
     "output_type": "stream",
     "text": [
      "100%|████████████████████████████████████████████████████████████████████████████████| 214/214 [01:52<00:00,  1.89it/s]\n",
      "2022-05-12 23:03:50,614 INFO: Epoch:[014/500]\n",
      "2022-05-12 23:03:50,615 INFO: Train Loss:0.912 | Acc:0.8477 | F1:0.1559\n",
      "2022-05-12 23:04:00,572 INFO: val Loss:0.774 | Acc:0.8491 | F1:0.1561\n",
      "2022-05-12 23:04:02,523 INFO: -----------------SAVE:14epoch----------------\n"
     ]
    },
    {
     "name": "stdout",
     "output_type": "stream",
     "text": [
      "\n",
      "best epoch:14/loss:0.7737/f1:0.1561\n"
     ]
    },
    {
     "name": "stderr",
     "output_type": "stream",
     "text": [
      "100%|████████████████████████████████████████████████████████████████████████████████| 214/214 [01:53<00:00,  1.89it/s]\n",
      "2022-05-12 23:05:56,003 INFO: Epoch:[015/500]\n",
      "2022-05-12 23:05:56,003 INFO: Train Loss:0.848 | Acc:0.8469 | F1:0.1557\n",
      "2022-05-12 23:06:05,948 INFO: val Loss:0.722 | Acc:0.8491 | F1:0.1561\n",
      "2022-05-12 23:06:07,906 INFO: -----------------SAVE:15epoch----------------\n"
     ]
    },
    {
     "name": "stdout",
     "output_type": "stream",
     "text": [
      "\n",
      "best epoch:15/loss:0.7223/f1:0.1561\n"
     ]
    },
    {
     "name": "stderr",
     "output_type": "stream",
     "text": [
      "100%|████████████████████████████████████████████████████████████████████████████████| 214/214 [01:53<00:00,  1.89it/s]\n",
      "2022-05-12 23:08:01,054 INFO: Epoch:[016/500]\n",
      "2022-05-12 23:08:01,055 INFO: Train Loss:0.812 | Acc:0.8472 | F1:0.1559\n",
      "2022-05-12 23:08:11,012 INFO: val Loss:0.689 | Acc:0.8515 | F1:0.1677\n",
      "2022-05-12 23:08:13,213 INFO: -----------------SAVE:16epoch----------------\n"
     ]
    },
    {
     "name": "stdout",
     "output_type": "stream",
     "text": [
      "\n",
      "best epoch:16/loss:0.6888/f1:0.1677\n"
     ]
    },
    {
     "name": "stderr",
     "output_type": "stream",
     "text": [
      "100%|████████████████████████████████████████████████████████████████████████████████| 214/214 [01:52<00:00,  1.89it/s]\n",
      "2022-05-12 23:10:06,210 INFO: Epoch:[017/500]\n",
      "2022-05-12 23:10:06,211 INFO: Train Loss:0.765 | Acc:0.8480 | F1:0.1622\n",
      "2022-05-12 23:10:16,145 INFO: val Loss:0.653 | Acc:0.8550 | F1:0.1869\n",
      "2022-05-12 23:10:17,989 INFO: -----------------SAVE:17epoch----------------\n"
     ]
    },
    {
     "name": "stdout",
     "output_type": "stream",
     "text": [
      "\n",
      "best epoch:17/loss:0.6530/f1:0.1869\n"
     ]
    },
    {
     "name": "stderr",
     "output_type": "stream",
     "text": [
      "100%|████████████████████████████████████████████████████████████████████████████████| 214/214 [01:53<00:00,  1.89it/s]\n",
      "2022-05-12 23:12:11,103 INFO: Epoch:[018/500]\n",
      "2022-05-12 23:12:11,104 INFO: Train Loss:0.721 | Acc:0.8498 | F1:0.1718\n",
      "2022-05-12 23:12:21,037 INFO: val Loss:0.630 | Acc:0.8561 | F1:0.1909\n",
      "2022-05-12 23:12:22,949 INFO: -----------------SAVE:18epoch----------------\n"
     ]
    },
    {
     "name": "stdout",
     "output_type": "stream",
     "text": [
      "\n",
      "best epoch:18/loss:0.6302/f1:0.1909\n"
     ]
    },
    {
     "name": "stderr",
     "output_type": "stream",
     "text": [
      "100%|████████████████████████████████████████████████████████████████████████████████| 214/214 [01:53<00:00,  1.89it/s]\n",
      "2022-05-12 23:14:16,433 INFO: Epoch:[019/500]\n",
      "2022-05-12 23:14:16,433 INFO: Train Loss:0.697 | Acc:0.8521 | F1:0.1845\n",
      "2022-05-12 23:14:26,387 INFO: val Loss:0.591 | Acc:0.8585 | F1:0.2049\n",
      "2022-05-12 23:14:28,403 INFO: -----------------SAVE:19epoch----------------\n"
     ]
    },
    {
     "name": "stdout",
     "output_type": "stream",
     "text": [
      "\n",
      "best epoch:19/loss:0.5907/f1:0.2049\n"
     ]
    },
    {
     "name": "stderr",
     "output_type": "stream",
     "text": [
      "100%|████████████████████████████████████████████████████████████████████████████████| 214/214 [01:52<00:00,  1.89it/s]\n",
      "2022-05-12 23:16:21,393 INFO: Epoch:[020/500]\n",
      "2022-05-12 23:16:21,393 INFO: Train Loss:0.659 | Acc:0.8536 | F1:0.1910\n",
      "2022-05-12 23:16:31,338 INFO: val Loss:0.581 | Acc:0.8643 | F1:0.2356\n",
      "2022-05-12 23:16:33,593 INFO: -----------------SAVE:20epoch----------------\n"
     ]
    },
    {
     "name": "stdout",
     "output_type": "stream",
     "text": [
      "\n",
      "best epoch:20/loss:0.5810/f1:0.2356\n"
     ]
    },
    {
     "name": "stderr",
     "output_type": "stream",
     "text": [
      "100%|████████████████████████████████████████████████████████████████████████████████| 214/214 [01:53<00:00,  1.89it/s]\n",
      "2022-05-12 23:18:26,645 INFO: Epoch:[021/500]\n",
      "2022-05-12 23:18:26,646 INFO: Train Loss:0.619 | Acc:0.8594 | F1:0.2230\n",
      "2022-05-12 23:18:36,611 INFO: val Loss:0.545 | Acc:0.8772 | F1:0.3067\n",
      "2022-05-12 23:18:38,854 INFO: -----------------SAVE:21epoch----------------\n"
     ]
    },
    {
     "name": "stdout",
     "output_type": "stream",
     "text": [
      "\n",
      "best epoch:21/loss:0.5445/f1:0.3067\n"
     ]
    },
    {
     "name": "stderr",
     "output_type": "stream",
     "text": [
      "100%|████████████████████████████████████████████████████████████████████████████████| 214/214 [01:53<00:00,  1.88it/s]\n",
      "2022-05-12 23:20:32,557 INFO: Epoch:[022/500]\n",
      "2022-05-12 23:20:32,558 INFO: Train Loss:0.579 | Acc:0.8682 | F1:0.2763\n",
      "2022-05-12 23:20:42,483 INFO: val Loss:0.511 | Acc:0.8877 | F1:0.3512\n",
      "2022-05-12 23:20:44,431 INFO: -----------------SAVE:22epoch----------------\n"
     ]
    },
    {
     "name": "stdout",
     "output_type": "stream",
     "text": [
      "\n",
      "best epoch:22/loss:0.5111/f1:0.3512\n"
     ]
    },
    {
     "name": "stderr",
     "output_type": "stream",
     "text": [
      "100%|████████████████████████████████████████████████████████████████████████████████| 214/214 [01:53<00:00,  1.89it/s]\n",
      "2022-05-12 23:22:37,586 INFO: Epoch:[023/500]\n",
      "2022-05-12 23:22:37,586 INFO: Train Loss:0.555 | Acc:0.8726 | F1:0.2976\n",
      "2022-05-12 23:22:47,503 INFO: val Loss:0.464 | Acc:0.8854 | F1:0.3408\n",
      "2022-05-12 23:22:49,899 INFO: -----------------SAVE:23epoch----------------\n"
     ]
    },
    {
     "name": "stdout",
     "output_type": "stream",
     "text": [
      "\n",
      "best epoch:23/loss:0.4642/f1:0.3408\n"
     ]
    },
    {
     "name": "stderr",
     "output_type": "stream",
     "text": [
      "100%|████████████████████████████████████████████████████████████████████████████████| 214/214 [01:53<00:00,  1.89it/s]\n",
      "2022-05-12 23:24:43,385 INFO: Epoch:[024/500]\n",
      "2022-05-12 23:24:43,385 INFO: Train Loss:0.529 | Acc:0.8764 | F1:0.3219\n",
      "2022-05-12 23:24:53,555 INFO: val Loss:0.458 | Acc:0.8924 | F1:0.3867\n",
      "2022-05-12 23:24:55,476 INFO: -----------------SAVE:24epoch----------------\n"
     ]
    },
    {
     "name": "stdout",
     "output_type": "stream",
     "text": [
      "\n",
      "best epoch:24/loss:0.4578/f1:0.3867\n"
     ]
    },
    {
     "name": "stderr",
     "output_type": "stream",
     "text": [
      "100%|████████████████████████████████████████████████████████████████████████████████| 214/214 [01:54<00:00,  1.87it/s]\n",
      "2022-05-12 23:26:49,874 INFO: Epoch:[025/500]\n",
      "2022-05-12 23:26:49,874 INFO: Train Loss:0.491 | Acc:0.8846 | F1:0.3620\n",
      "2022-05-12 23:26:59,860 INFO: val Loss:0.440 | Acc:0.8865 | F1:0.3593\n",
      "2022-05-12 23:27:01,790 INFO: -----------------SAVE:25epoch----------------\n"
     ]
    },
    {
     "name": "stdout",
     "output_type": "stream",
     "text": [
      "\n",
      "best epoch:25/loss:0.4397/f1:0.3593\n"
     ]
    },
    {
     "name": "stderr",
     "output_type": "stream",
     "text": [
      "100%|████████████████████████████████████████████████████████████████████████████████| 214/214 [01:53<00:00,  1.88it/s]\n",
      "2022-05-12 23:28:55,408 INFO: Epoch:[026/500]\n",
      "2022-05-12 23:28:55,408 INFO: Train Loss:0.481 | Acc:0.8854 | F1:0.3788\n",
      "2022-05-12 23:29:05,354 INFO: val Loss:0.429 | Acc:0.8877 | F1:0.3915\n",
      "2022-05-12 23:29:07,249 INFO: -----------------SAVE:26epoch----------------\n"
     ]
    },
    {
     "name": "stdout",
     "output_type": "stream",
     "text": [
      "\n",
      "best epoch:26/loss:0.4292/f1:0.3915\n"
     ]
    },
    {
     "name": "stderr",
     "output_type": "stream",
     "text": [
      "100%|████████████████████████████████████████████████████████████████████████████████| 214/214 [01:53<00:00,  1.89it/s]\n",
      "2022-05-12 23:31:00,475 INFO: Epoch:[027/500]\n",
      "2022-05-12 23:31:00,475 INFO: Train Loss:0.454 | Acc:0.8890 | F1:0.4027\n",
      "2022-05-12 23:31:10,415 INFO: val Loss:0.403 | Acc:0.8982 | F1:0.4336\n",
      "2022-05-12 23:31:12,276 INFO: -----------------SAVE:27epoch----------------\n"
     ]
    },
    {
     "name": "stdout",
     "output_type": "stream",
     "text": [
      "\n",
      "best epoch:27/loss:0.4029/f1:0.4336\n"
     ]
    },
    {
     "name": "stderr",
     "output_type": "stream",
     "text": [
      "100%|████████████████████████████████████████████████████████████████████████████████| 214/214 [01:53<00:00,  1.89it/s]\n",
      "2022-05-12 23:33:05,579 INFO: Epoch:[028/500]\n",
      "2022-05-12 23:33:05,580 INFO: Train Loss:0.428 | Acc:0.8960 | F1:0.4467\n",
      "2022-05-12 23:33:15,525 INFO: val Loss:0.381 | Acc:0.9018 | F1:0.4396\n",
      "2022-05-12 23:33:17,336 INFO: -----------------SAVE:28epoch----------------\n"
     ]
    },
    {
     "name": "stdout",
     "output_type": "stream",
     "text": [
      "\n",
      "best epoch:28/loss:0.3810/f1:0.4396\n"
     ]
    },
    {
     "name": "stderr",
     "output_type": "stream",
     "text": [
      "100%|████████████████████████████████████████████████████████████████████████████████| 214/214 [01:53<00:00,  1.89it/s]\n",
      "2022-05-12 23:35:10,638 INFO: Epoch:[029/500]\n",
      "2022-05-12 23:35:10,638 INFO: Train Loss:0.413 | Acc:0.8989 | F1:0.4487\n",
      "2022-05-12 23:35:20,606 INFO: val Loss:0.382 | Acc:0.9041 | F1:0.4783\n"
     ]
    },
    {
     "name": "stdout",
     "output_type": "stream",
     "text": [
      "\n",
      "best epoch:28/loss:0.3810/f1:0.4396\n"
     ]
    },
    {
     "name": "stderr",
     "output_type": "stream",
     "text": [
      "100%|████████████████████████████████████████████████████████████████████████████████| 214/214 [01:53<00:00,  1.89it/s]\n",
      "2022-05-12 23:37:13,779 INFO: Epoch:[030/500]\n",
      "2022-05-12 23:37:13,779 INFO: Train Loss:0.401 | Acc:0.9033 | F1:0.4851\n",
      "2022-05-12 23:37:23,747 INFO: val Loss:0.327 | Acc:0.9111 | F1:0.5057\n",
      "2022-05-12 23:37:25,579 INFO: -----------------SAVE:30epoch----------------\n"
     ]
    },
    {
     "name": "stdout",
     "output_type": "stream",
     "text": [
      "\n",
      "best epoch:30/loss:0.3273/f1:0.5057\n"
     ]
    },
    {
     "name": "stderr",
     "output_type": "stream",
     "text": [
      "100%|████████████████████████████████████████████████████████████████████████████████| 214/214 [01:53<00:00,  1.88it/s]\n",
      "2022-05-12 23:39:19,326 INFO: Epoch:[031/500]\n",
      "2022-05-12 23:39:19,326 INFO: Train Loss:0.372 | Acc:0.9065 | F1:0.5019\n",
      "2022-05-12 23:39:29,288 INFO: val Loss:0.311 | Acc:0.9135 | F1:0.5163\n",
      "2022-05-12 23:39:31,589 INFO: -----------------SAVE:31epoch----------------\n"
     ]
    },
    {
     "name": "stdout",
     "output_type": "stream",
     "text": [
      "\n",
      "best epoch:31/loss:0.3106/f1:0.5163\n"
     ]
    },
    {
     "name": "stderr",
     "output_type": "stream",
     "text": [
      "100%|████████████████████████████████████████████████████████████████████████████████| 214/214 [01:53<00:00,  1.89it/s]\n",
      "2022-05-12 23:41:25,003 INFO: Epoch:[032/500]\n",
      "2022-05-12 23:41:25,004 INFO: Train Loss:0.335 | Acc:0.9117 | F1:0.5191\n",
      "2022-05-12 23:41:34,940 INFO: val Loss:0.293 | Acc:0.9193 | F1:0.5418\n",
      "2022-05-12 23:41:37,139 INFO: -----------------SAVE:32epoch----------------\n"
     ]
    },
    {
     "name": "stdout",
     "output_type": "stream",
     "text": [
      "\n",
      "best epoch:32/loss:0.2927/f1:0.5418\n"
     ]
    },
    {
     "name": "stderr",
     "output_type": "stream",
     "text": [
      "100%|████████████████████████████████████████████████████████████████████████████████| 214/214 [01:53<00:00,  1.89it/s]\n",
      "2022-05-12 23:43:30,380 INFO: Epoch:[033/500]\n",
      "2022-05-12 23:43:30,380 INFO: Train Loss:0.332 | Acc:0.9153 | F1:0.5458\n",
      "2022-05-12 23:43:40,335 INFO: val Loss:0.284 | Acc:0.9251 | F1:0.5824\n",
      "2022-05-12 23:43:42,524 INFO: -----------------SAVE:33epoch----------------\n"
     ]
    },
    {
     "name": "stdout",
     "output_type": "stream",
     "text": [
      "\n",
      "best epoch:33/loss:0.2843/f1:0.5824\n"
     ]
    },
    {
     "name": "stderr",
     "output_type": "stream",
     "text": [
      "100%|████████████████████████████████████████████████████████████████████████████████| 214/214 [01:53<00:00,  1.89it/s]\n",
      "2022-05-12 23:45:35,908 INFO: Epoch:[034/500]\n",
      "2022-05-12 23:45:35,908 INFO: Train Loss:0.309 | Acc:0.9205 | F1:0.5841\n",
      "2022-05-12 23:45:45,907 INFO: val Loss:0.256 | Acc:0.9275 | F1:0.5936\n",
      "2022-05-12 23:45:47,785 INFO: -----------------SAVE:34epoch----------------\n"
     ]
    },
    {
     "name": "stdout",
     "output_type": "stream",
     "text": [
      "\n",
      "best epoch:34/loss:0.2563/f1:0.5936\n"
     ]
    },
    {
     "name": "stderr",
     "output_type": "stream",
     "text": [
      "100%|████████████████████████████████████████████████████████████████████████████████| 214/214 [01:53<00:00,  1.89it/s]\n",
      "2022-05-12 23:47:41,025 INFO: Epoch:[035/500]\n",
      "2022-05-12 23:47:41,025 INFO: Train Loss:0.299 | Acc:0.9211 | F1:0.6000\n",
      "2022-05-12 23:47:50,978 INFO: val Loss:0.253 | Acc:0.9251 | F1:0.5657\n",
      "2022-05-12 23:47:53,652 INFO: -----------------SAVE:35epoch----------------\n"
     ]
    },
    {
     "name": "stdout",
     "output_type": "stream",
     "text": [
      "\n",
      "best epoch:35/loss:0.2534/f1:0.5657\n"
     ]
    },
    {
     "name": "stderr",
     "output_type": "stream",
     "text": [
      "100%|████████████████████████████████████████████████████████████████████████████████| 214/214 [01:53<00:00,  1.89it/s]\n",
      "2022-05-12 23:49:46,987 INFO: Epoch:[036/500]\n",
      "2022-05-12 23:49:46,988 INFO: Train Loss:0.282 | Acc:0.9272 | F1:0.6206\n",
      "2022-05-12 23:49:56,951 INFO: val Loss:0.265 | Acc:0.9368 | F1:0.6203\n"
     ]
    },
    {
     "name": "stdout",
     "output_type": "stream",
     "text": [
      "\n",
      "best epoch:35/loss:0.2534/f1:0.5657\n"
     ]
    },
    {
     "name": "stderr",
     "output_type": "stream",
     "text": [
      "100%|████████████████████████████████████████████████████████████████████████████████| 214/214 [01:52<00:00,  1.89it/s]\n",
      "2022-05-12 23:51:49,921 INFO: Epoch:[037/500]\n",
      "2022-05-12 23:51:49,922 INFO: Train Loss:0.285 | Acc:0.9249 | F1:0.6355\n",
      "2022-05-12 23:51:59,874 INFO: val Loss:0.231 | Acc:0.9298 | F1:0.5949\n",
      "2022-05-12 23:52:02,025 INFO: -----------------SAVE:37epoch----------------\n"
     ]
    },
    {
     "name": "stdout",
     "output_type": "stream",
     "text": [
      "\n",
      "best epoch:37/loss:0.2314/f1:0.5949\n"
     ]
    },
    {
     "name": "stderr",
     "output_type": "stream",
     "text": [
      "100%|████████████████████████████████████████████████████████████████████████████████| 214/214 [01:53<00:00,  1.89it/s]\n",
      "2022-05-12 23:53:55,379 INFO: Epoch:[038/500]\n",
      "2022-05-12 23:53:55,379 INFO: Train Loss:0.268 | Acc:0.9296 | F1:0.6598\n",
      "2022-05-12 23:54:05,339 INFO: val Loss:0.232 | Acc:0.9310 | F1:0.5955\n"
     ]
    },
    {
     "name": "stdout",
     "output_type": "stream",
     "text": [
      "\n",
      "best epoch:37/loss:0.2314/f1:0.5949\n"
     ]
    },
    {
     "name": "stderr",
     "output_type": "stream",
     "text": [
      "100%|████████████████████████████████████████████████████████████████████████████████| 214/214 [01:53<00:00,  1.89it/s]\n",
      "2022-05-12 23:55:58,602 INFO: Epoch:[039/500]\n",
      "2022-05-12 23:55:58,603 INFO: Train Loss:0.258 | Acc:0.9290 | F1:0.6745\n",
      "2022-05-12 23:56:08,546 INFO: val Loss:0.211 | Acc:0.9439 | F1:0.6686\n",
      "2022-05-12 23:56:10,789 INFO: -----------------SAVE:39epoch----------------\n"
     ]
    },
    {
     "name": "stdout",
     "output_type": "stream",
     "text": [
      "\n",
      "best epoch:39/loss:0.2110/f1:0.6686\n"
     ]
    },
    {
     "name": "stderr",
     "output_type": "stream",
     "text": [
      "100%|████████████████████████████████████████████████████████████████████████████████| 214/214 [01:53<00:00,  1.89it/s]\n",
      "2022-05-12 23:58:03,868 INFO: Epoch:[040/500]\n",
      "2022-05-12 23:58:03,868 INFO: Train Loss:0.243 | Acc:0.9354 | F1:0.6927\n",
      "2022-05-12 23:58:13,809 INFO: val Loss:0.214 | Acc:0.9322 | F1:0.5927\n"
     ]
    },
    {
     "name": "stdout",
     "output_type": "stream",
     "text": [
      "\n",
      "best epoch:39/loss:0.2110/f1:0.6686\n"
     ]
    },
    {
     "name": "stderr",
     "output_type": "stream",
     "text": [
      "100%|████████████████████████████████████████████████████████████████████████████████| 214/214 [01:52<00:00,  1.89it/s]\n",
      "2022-05-13 00:00:06,809 INFO: Epoch:[041/500]\n",
      "2022-05-13 00:00:06,810 INFO: Train Loss:0.227 | Acc:0.9418 | F1:0.7125\n",
      "2022-05-13 00:00:16,734 INFO: val Loss:0.211 | Acc:0.9298 | F1:0.5884\n",
      "2022-05-13 00:00:18,993 INFO: -----------------SAVE:41epoch----------------\n"
     ]
    },
    {
     "name": "stdout",
     "output_type": "stream",
     "text": [
      "\n",
      "best epoch:41/loss:0.2108/f1:0.5884\n"
     ]
    },
    {
     "name": "stderr",
     "output_type": "stream",
     "text": [
      "100%|████████████████████████████████████████████████████████████████████████████████| 214/214 [01:53<00:00,  1.89it/s]\n",
      "2022-05-13 00:02:12,038 INFO: Epoch:[042/500]\n",
      "2022-05-13 00:02:12,039 INFO: Train Loss:0.225 | Acc:0.9392 | F1:0.7210\n",
      "2022-05-13 00:02:21,969 INFO: val Loss:0.200 | Acc:0.9415 | F1:0.6862\n",
      "2022-05-13 00:02:24,197 INFO: -----------------SAVE:42epoch----------------\n"
     ]
    },
    {
     "name": "stdout",
     "output_type": "stream",
     "text": [
      "\n",
      "best epoch:42/loss:0.2003/f1:0.6862\n"
     ]
    },
    {
     "name": "stderr",
     "output_type": "stream",
     "text": [
      "100%|████████████████████████████████████████████████████████████████████████████████| 214/214 [01:53<00:00,  1.89it/s]\n",
      "2022-05-13 00:04:17,528 INFO: Epoch:[043/500]\n",
      "2022-05-13 00:04:17,528 INFO: Train Loss:0.214 | Acc:0.9427 | F1:0.7410\n",
      "2022-05-13 00:04:27,460 INFO: val Loss:0.179 | Acc:0.9509 | F1:0.7166\n",
      "2022-05-13 00:04:30,149 INFO: -----------------SAVE:43epoch----------------\n"
     ]
    },
    {
     "name": "stdout",
     "output_type": "stream",
     "text": [
      "\n",
      "best epoch:43/loss:0.1794/f1:0.7166\n"
     ]
    },
    {
     "name": "stderr",
     "output_type": "stream",
     "text": [
      "100%|████████████████████████████████████████████████████████████████████████████████| 214/214 [01:53<00:00,  1.88it/s]\n",
      "2022-05-13 00:06:23,860 INFO: Epoch:[044/500]\n",
      "2022-05-13 00:06:23,861 INFO: Train Loss:0.218 | Acc:0.9436 | F1:0.7474\n",
      "2022-05-13 00:06:33,835 INFO: val Loss:0.203 | Acc:0.9404 | F1:0.6762\n"
     ]
    },
    {
     "name": "stdout",
     "output_type": "stream",
     "text": [
      "\n",
      "best epoch:43/loss:0.1794/f1:0.7166\n"
     ]
    },
    {
     "name": "stderr",
     "output_type": "stream",
     "text": [
      "100%|████████████████████████████████████████████████████████████████████████████████| 214/214 [01:53<00:00,  1.89it/s]\n",
      "2022-05-13 00:08:27,034 INFO: Epoch:[045/500]\n",
      "2022-05-13 00:08:27,035 INFO: Train Loss:0.220 | Acc:0.9416 | F1:0.7278\n",
      "2022-05-13 00:08:36,979 INFO: val Loss:0.204 | Acc:0.9485 | F1:0.7191\n"
     ]
    },
    {
     "name": "stdout",
     "output_type": "stream",
     "text": [
      "\n",
      "best epoch:43/loss:0.1794/f1:0.7166\n"
     ]
    },
    {
     "name": "stderr",
     "output_type": "stream",
     "text": [
      "100%|████████████████████████████████████████████████████████████████████████████████| 214/214 [01:53<00:00,  1.89it/s]\n",
      "2022-05-13 00:10:30,021 INFO: Epoch:[046/500]\n",
      "2022-05-13 00:10:30,021 INFO: Train Loss:0.183 | Acc:0.9527 | F1:0.7815\n",
      "2022-05-13 00:10:39,960 INFO: val Loss:0.200 | Acc:0.9427 | F1:0.6663\n"
     ]
    },
    {
     "name": "stdout",
     "output_type": "stream",
     "text": [
      "\n",
      "best epoch:43/loss:0.1794/f1:0.7166\n"
     ]
    },
    {
     "name": "stderr",
     "output_type": "stream",
     "text": [
      "100%|████████████████████████████████████████████████████████████████████████████████| 214/214 [01:53<00:00,  1.89it/s]\n",
      "2022-05-13 00:12:33,130 INFO: Epoch:[047/500]\n",
      "2022-05-13 00:12:33,130 INFO: Train Loss:0.195 | Acc:0.9503 | F1:0.7699\n",
      "2022-05-13 00:12:43,089 INFO: val Loss:0.227 | Acc:0.9404 | F1:0.7023\n"
     ]
    },
    {
     "name": "stdout",
     "output_type": "stream",
     "text": [
      "\n",
      "best epoch:43/loss:0.1794/f1:0.7166\n"
     ]
    },
    {
     "name": "stderr",
     "output_type": "stream",
     "text": [
      "100%|████████████████████████████████████████████████████████████████████████████████| 214/214 [01:53<00:00,  1.88it/s]\n",
      "2022-05-13 00:14:36,664 INFO: Epoch:[048/500]\n",
      "2022-05-13 00:14:36,665 INFO: Train Loss:0.207 | Acc:0.9465 | F1:0.7747\n",
      "2022-05-13 00:14:46,602 INFO: val Loss:0.165 | Acc:0.9474 | F1:0.7203\n",
      "2022-05-13 00:14:48,521 INFO: -----------------SAVE:48epoch----------------\n"
     ]
    },
    {
     "name": "stdout",
     "output_type": "stream",
     "text": [
      "\n",
      "best epoch:48/loss:0.1650/f1:0.7203\n"
     ]
    },
    {
     "name": "stderr",
     "output_type": "stream",
     "text": [
      "100%|████████████████████████████████████████████████████████████████████████████████| 214/214 [01:53<00:00,  1.89it/s]\n",
      "2022-05-13 00:16:42,018 INFO: Epoch:[049/500]\n",
      "2022-05-13 00:16:42,019 INFO: Train Loss:0.186 | Acc:0.9486 | F1:0.7719\n",
      "2022-05-13 00:16:51,988 INFO: val Loss:0.158 | Acc:0.9544 | F1:0.7462\n",
      "2022-05-13 00:16:53,886 INFO: -----------------SAVE:49epoch----------------\n"
     ]
    },
    {
     "name": "stdout",
     "output_type": "stream",
     "text": [
      "\n",
      "best epoch:49/loss:0.1580/f1:0.7462\n"
     ]
    },
    {
     "name": "stderr",
     "output_type": "stream",
     "text": [
      "100%|████████████████████████████████████████████████████████████████████████████████| 214/214 [01:53<00:00,  1.89it/s]\n",
      "2022-05-13 00:18:47,161 INFO: Epoch:[050/500]\n",
      "2022-05-13 00:18:47,162 INFO: Train Loss:0.173 | Acc:0.9562 | F1:0.8085\n",
      "2022-05-13 00:18:57,122 INFO: val Loss:0.181 | Acc:0.9450 | F1:0.7036\n"
     ]
    },
    {
     "name": "stdout",
     "output_type": "stream",
     "text": [
      "\n",
      "best epoch:49/loss:0.1580/f1:0.7462\n"
     ]
    },
    {
     "name": "stderr",
     "output_type": "stream",
     "text": [
      "100%|████████████████████████████████████████████████████████████████████████████████| 214/214 [01:53<00:00,  1.89it/s]\n",
      "2022-05-13 00:20:50,248 INFO: Epoch:[051/500]\n",
      "2022-05-13 00:20:50,249 INFO: Train Loss:0.168 | Acc:0.9541 | F1:0.8036\n",
      "2022-05-13 00:21:00,206 INFO: val Loss:0.176 | Acc:0.9509 | F1:0.7229\n"
     ]
    },
    {
     "name": "stdout",
     "output_type": "stream",
     "text": [
      "\n",
      "best epoch:49/loss:0.1580/f1:0.7462\n"
     ]
    },
    {
     "name": "stderr",
     "output_type": "stream",
     "text": [
      "100%|████████████████████████████████████████████████████████████████████████████████| 214/214 [01:53<00:00,  1.89it/s]\n",
      "2022-05-13 00:22:53,447 INFO: Epoch:[052/500]\n",
      "2022-05-13 00:22:53,447 INFO: Train Loss:0.178 | Acc:0.9497 | F1:0.7795\n",
      "2022-05-13 00:23:03,434 INFO: val Loss:0.159 | Acc:0.9567 | F1:0.7529\n"
     ]
    },
    {
     "name": "stdout",
     "output_type": "stream",
     "text": [
      "\n",
      "best epoch:49/loss:0.1580/f1:0.7462\n"
     ]
    },
    {
     "name": "stderr",
     "output_type": "stream",
     "text": [
      "100%|████████████████████████████████████████████████████████████████████████████████| 214/214 [01:53<00:00,  1.89it/s]\n",
      "2022-05-13 00:24:56,594 INFO: Epoch:[053/500]\n",
      "2022-05-13 00:24:56,594 INFO: Train Loss:0.167 | Acc:0.9568 | F1:0.8139\n",
      "2022-05-13 00:25:06,576 INFO: val Loss:0.146 | Acc:0.9556 | F1:0.7463\n",
      "2022-05-13 00:25:08,913 INFO: -----------------SAVE:53epoch----------------\n"
     ]
    },
    {
     "name": "stdout",
     "output_type": "stream",
     "text": [
      "\n",
      "best epoch:53/loss:0.1462/f1:0.7463\n"
     ]
    },
    {
     "name": "stderr",
     "output_type": "stream",
     "text": [
      "100%|████████████████████████████████████████████████████████████████████████████████| 214/214 [01:53<00:00,  1.88it/s]\n",
      "2022-05-13 00:27:02,649 INFO: Epoch:[054/500]\n",
      "2022-05-13 00:27:02,650 INFO: Train Loss:0.159 | Acc:0.9582 | F1:0.8228\n",
      "2022-05-13 00:27:12,677 INFO: val Loss:0.167 | Acc:0.9556 | F1:0.7527\n"
     ]
    },
    {
     "name": "stdout",
     "output_type": "stream",
     "text": [
      "\n",
      "best epoch:53/loss:0.1462/f1:0.7463\n"
     ]
    },
    {
     "name": "stderr",
     "output_type": "stream",
     "text": [
      "100%|████████████████████████████████████████████████████████████████████████████████| 214/214 [01:52<00:00,  1.90it/s]\n",
      "2022-05-13 00:29:05,284 INFO: Epoch:[055/500]\n",
      "2022-05-13 00:29:05,284 INFO: Train Loss:0.157 | Acc:0.9582 | F1:0.8274\n",
      "2022-05-13 00:29:15,356 INFO: val Loss:0.156 | Acc:0.9556 | F1:0.7553\n"
     ]
    },
    {
     "name": "stdout",
     "output_type": "stream",
     "text": [
      "\n",
      "best epoch:53/loss:0.1462/f1:0.7463\n"
     ]
    },
    {
     "name": "stderr",
     "output_type": "stream",
     "text": [
      "100%|████████████████████████████████████████████████████████████████████████████████| 214/214 [01:53<00:00,  1.88it/s]\n",
      "2022-05-13 00:31:08,891 INFO: Epoch:[056/500]\n",
      "2022-05-13 00:31:08,892 INFO: Train Loss:0.177 | Acc:0.9535 | F1:0.7989\n",
      "2022-05-13 00:31:18,814 INFO: val Loss:0.170 | Acc:0.9579 | F1:0.7817\n"
     ]
    },
    {
     "name": "stdout",
     "output_type": "stream",
     "text": [
      "\n",
      "best epoch:53/loss:0.1462/f1:0.7463\n"
     ]
    },
    {
     "name": "stderr",
     "output_type": "stream",
     "text": [
      "100%|████████████████████████████████████████████████████████████████████████████████| 214/214 [01:52<00:00,  1.90it/s]\n",
      "2022-05-13 00:33:11,322 INFO: Epoch:[057/500]\n",
      "2022-05-13 00:33:11,322 INFO: Train Loss:0.172 | Acc:0.9556 | F1:0.8096\n",
      "2022-05-13 00:33:21,220 INFO: val Loss:0.178 | Acc:0.9532 | F1:0.7508\n"
     ]
    },
    {
     "name": "stdout",
     "output_type": "stream",
     "text": [
      "\n",
      "best epoch:53/loss:0.1462/f1:0.7463\n"
     ]
    },
    {
     "name": "stderr",
     "output_type": "stream",
     "text": [
      "100%|████████████████████████████████████████████████████████████████████████████████| 214/214 [01:52<00:00,  1.90it/s]\n",
      "2022-05-13 00:35:13,682 INFO: Epoch:[058/500]\n",
      "2022-05-13 00:35:13,682 INFO: Train Loss:0.154 | Acc:0.9579 | F1:0.8249\n",
      "2022-05-13 00:35:23,588 INFO: val Loss:0.145 | Acc:0.9497 | F1:0.7399\n",
      "2022-05-13 00:35:25,426 INFO: -----------------SAVE:58epoch----------------\n"
     ]
    },
    {
     "name": "stdout",
     "output_type": "stream",
     "text": [
      "\n",
      "best epoch:58/loss:0.1455/f1:0.7399\n"
     ]
    },
    {
     "name": "stderr",
     "output_type": "stream",
     "text": [
      "100%|████████████████████████████████████████████████████████████████████████████████| 214/214 [01:52<00:00,  1.90it/s]\n",
      "2022-05-13 00:37:18,031 INFO: Epoch:[059/500]\n",
      "2022-05-13 00:37:18,031 INFO: Train Loss:0.151 | Acc:0.9585 | F1:0.8270\n",
      "2022-05-13 00:37:27,946 INFO: val Loss:0.165 | Acc:0.9544 | F1:0.7527\n"
     ]
    },
    {
     "name": "stdout",
     "output_type": "stream",
     "text": [
      "\n",
      "best epoch:58/loss:0.1455/f1:0.7399\n"
     ]
    },
    {
     "name": "stderr",
     "output_type": "stream",
     "text": [
      "100%|████████████████████████████████████████████████████████████████████████████████| 214/214 [01:52<00:00,  1.90it/s]\n",
      "2022-05-13 00:39:20,438 INFO: Epoch:[060/500]\n",
      "2022-05-13 00:39:20,439 INFO: Train Loss:0.147 | Acc:0.9600 | F1:0.8224\n",
      "2022-05-13 00:39:30,364 INFO: val Loss:0.172 | Acc:0.9532 | F1:0.7624\n"
     ]
    },
    {
     "name": "stdout",
     "output_type": "stream",
     "text": [
      "\n",
      "best epoch:58/loss:0.1455/f1:0.7399\n"
     ]
    },
    {
     "name": "stderr",
     "output_type": "stream",
     "text": [
      "100%|████████████████████████████████████████████████████████████████████████████████| 214/214 [01:52<00:00,  1.90it/s]\n",
      "2022-05-13 00:41:23,045 INFO: Epoch:[061/500]\n",
      "2022-05-13 00:41:23,046 INFO: Train Loss:0.157 | Acc:0.9611 | F1:0.8461\n",
      "2022-05-13 00:41:32,981 INFO: val Loss:0.166 | Acc:0.9556 | F1:0.7882\n"
     ]
    },
    {
     "name": "stdout",
     "output_type": "stream",
     "text": [
      "\n",
      "best epoch:58/loss:0.1455/f1:0.7399\n"
     ]
    },
    {
     "name": "stderr",
     "output_type": "stream",
     "text": [
      "100%|████████████████████████████████████████████████████████████████████████████████| 214/214 [01:52<00:00,  1.90it/s]\n",
      "2022-05-13 00:43:25,423 INFO: Epoch:[062/500]\n",
      "2022-05-13 00:43:25,423 INFO: Train Loss:0.157 | Acc:0.9594 | F1:0.8411\n",
      "2022-05-13 00:43:35,351 INFO: val Loss:0.196 | Acc:0.9415 | F1:0.7051\n"
     ]
    },
    {
     "name": "stdout",
     "output_type": "stream",
     "text": [
      "\n",
      "best epoch:58/loss:0.1455/f1:0.7399\n"
     ]
    },
    {
     "name": "stderr",
     "output_type": "stream",
     "text": [
      "100%|████████████████████████████████████████████████████████████████████████████████| 214/214 [01:52<00:00,  1.90it/s]\n",
      "2022-05-13 00:45:27,915 INFO: Epoch:[063/500]\n",
      "2022-05-13 00:45:27,916 INFO: Train Loss:0.155 | Acc:0.9562 | F1:0.8246\n",
      "2022-05-13 00:45:37,849 INFO: val Loss:0.179 | Acc:0.9532 | F1:0.7502\n"
     ]
    },
    {
     "name": "stdout",
     "output_type": "stream",
     "text": [
      "\n",
      "best epoch:58/loss:0.1455/f1:0.7399\n"
     ]
    },
    {
     "name": "stderr",
     "output_type": "stream",
     "text": [
      "100%|████████████████████████████████████████████████████████████████████████████████| 214/214 [01:52<00:00,  1.90it/s]\n",
      "2022-05-13 00:47:30,197 INFO: Epoch:[064/500]\n",
      "2022-05-13 00:47:30,198 INFO: Train Loss:0.146 | Acc:0.9617 | F1:0.8384\n",
      "2022-05-13 00:47:40,150 INFO: val Loss:0.144 | Acc:0.9579 | F1:0.7913\n",
      "2022-05-13 00:47:42,415 INFO: -----------------SAVE:64epoch----------------\n"
     ]
    },
    {
     "name": "stdout",
     "output_type": "stream",
     "text": [
      "\n",
      "best epoch:64/loss:0.1442/f1:0.7913\n"
     ]
    },
    {
     "name": "stderr",
     "output_type": "stream",
     "text": [
      "100%|████████████████████████████████████████████████████████████████████████████████| 214/214 [01:52<00:00,  1.90it/s]\n",
      "2022-05-13 00:49:35,189 INFO: Epoch:[065/500]\n",
      "2022-05-13 00:49:35,189 INFO: Train Loss:0.141 | Acc:0.9611 | F1:0.8479\n",
      "2022-05-13 00:49:45,186 INFO: val Loss:0.162 | Acc:0.9520 | F1:0.7390\n"
     ]
    },
    {
     "name": "stdout",
     "output_type": "stream",
     "text": [
      "\n",
      "best epoch:64/loss:0.1442/f1:0.7913\n"
     ]
    },
    {
     "name": "stderr",
     "output_type": "stream",
     "text": [
      "100%|████████████████████████████████████████████████████████████████████████████████| 214/214 [01:52<00:00,  1.90it/s]\n",
      "2022-05-13 00:51:37,841 INFO: Epoch:[066/500]\n",
      "2022-05-13 00:51:37,842 INFO: Train Loss:0.162 | Acc:0.9591 | F1:0.8460\n",
      "2022-05-13 00:51:47,809 INFO: val Loss:0.156 | Acc:0.9567 | F1:0.7893\n"
     ]
    },
    {
     "name": "stdout",
     "output_type": "stream",
     "text": [
      "\n",
      "best epoch:64/loss:0.1442/f1:0.7913\n"
     ]
    },
    {
     "name": "stderr",
     "output_type": "stream",
     "text": [
      "100%|████████████████████████████████████████████████████████████████████████████████| 214/214 [01:52<00:00,  1.89it/s]\n",
      "2022-05-13 00:53:40,798 INFO: Epoch:[067/500]\n",
      "2022-05-13 00:53:40,799 INFO: Train Loss:0.132 | Acc:0.9629 | F1:0.8572\n",
      "2022-05-13 00:53:50,731 INFO: val Loss:0.209 | Acc:0.9497 | F1:0.7268\n"
     ]
    },
    {
     "name": "stdout",
     "output_type": "stream",
     "text": [
      "\n",
      "best epoch:64/loss:0.1442/f1:0.7913\n"
     ]
    },
    {
     "name": "stderr",
     "output_type": "stream",
     "text": [
      "100%|████████████████████████████████████████████████████████████████████████████████| 214/214 [01:53<00:00,  1.89it/s]\n",
      "2022-05-13 00:55:43,890 INFO: Epoch:[068/500]\n",
      "2022-05-13 00:55:43,891 INFO: Train Loss:0.155 | Acc:0.9570 | F1:0.8271\n",
      "2022-05-13 00:55:53,838 INFO: val Loss:0.201 | Acc:0.9579 | F1:0.7935\n"
     ]
    },
    {
     "name": "stdout",
     "output_type": "stream",
     "text": [
      "\n",
      "best epoch:64/loss:0.1442/f1:0.7913\n"
     ]
    },
    {
     "name": "stderr",
     "output_type": "stream",
     "text": [
      "100%|████████████████████████████████████████████████████████████████████████████████| 214/214 [01:52<00:00,  1.90it/s]\n",
      "2022-05-13 00:57:46,725 INFO: Epoch:[069/500]\n",
      "2022-05-13 00:57:46,725 INFO: Train Loss:0.135 | Acc:0.9626 | F1:0.8511\n",
      "2022-05-13 00:57:56,674 INFO: val Loss:0.156 | Acc:0.9591 | F1:0.7694\n"
     ]
    },
    {
     "name": "stdout",
     "output_type": "stream",
     "text": [
      "\n",
      "best epoch:64/loss:0.1442/f1:0.7913\n"
     ]
    },
    {
     "name": "stderr",
     "output_type": "stream",
     "text": [
      "100%|████████████████████████████████████████████████████████████████████████████████| 214/214 [01:53<00:00,  1.89it/s]\n",
      "2022-05-13 00:59:49,910 INFO: Epoch:[070/500]\n",
      "2022-05-13 00:59:49,910 INFO: Train Loss:0.131 | Acc:0.9617 | F1:0.8405\n",
      "2022-05-13 00:59:59,889 INFO: val Loss:0.142 | Acc:0.9673 | F1:0.8275\n",
      "2022-05-13 01:00:01,664 INFO: -----------------SAVE:70epoch----------------\n"
     ]
    },
    {
     "name": "stdout",
     "output_type": "stream",
     "text": [
      "\n",
      "best epoch:70/loss:0.1423/f1:0.8275\n"
     ]
    },
    {
     "name": "stderr",
     "output_type": "stream",
     "text": [
      "100%|████████████████████████████████████████████████████████████████████████████████| 214/214 [01:52<00:00,  1.90it/s]\n",
      "2022-05-13 01:01:54,395 INFO: Epoch:[071/500]\n",
      "2022-05-13 01:01:54,396 INFO: Train Loss:0.134 | Acc:0.9643 | F1:0.8479\n",
      "2022-05-13 01:02:04,323 INFO: val Loss:0.157 | Acc:0.9591 | F1:0.7772\n"
     ]
    },
    {
     "name": "stdout",
     "output_type": "stream",
     "text": [
      "\n",
      "best epoch:70/loss:0.1423/f1:0.8275\n"
     ]
    },
    {
     "name": "stderr",
     "output_type": "stream",
     "text": [
      "100%|████████████████████████████████████████████████████████████████████████████████| 214/214 [01:52<00:00,  1.90it/s]\n",
      "2022-05-13 01:03:57,085 INFO: Epoch:[072/500]\n",
      "2022-05-13 01:03:57,085 INFO: Train Loss:0.125 | Acc:0.9690 | F1:0.8831\n",
      "2022-05-13 01:04:07,034 INFO: val Loss:0.147 | Acc:0.9591 | F1:0.7984\n"
     ]
    },
    {
     "name": "stdout",
     "output_type": "stream",
     "text": [
      "\n",
      "best epoch:70/loss:0.1423/f1:0.8275\n"
     ]
    },
    {
     "name": "stderr",
     "output_type": "stream",
     "text": [
      "100%|████████████████████████████████████████████████████████████████████████████████| 214/214 [01:53<00:00,  1.89it/s]\n",
      "2022-05-13 01:06:00,107 INFO: Epoch:[073/500]\n",
      "2022-05-13 01:06:00,107 INFO: Train Loss:0.132 | Acc:0.9667 | F1:0.8728\n",
      "2022-05-13 01:06:10,057 INFO: val Loss:0.116 | Acc:0.9696 | F1:0.8226\n",
      "2022-05-13 01:06:12,394 INFO: -----------------SAVE:73epoch----------------\n"
     ]
    },
    {
     "name": "stdout",
     "output_type": "stream",
     "text": [
      "\n",
      "best epoch:73/loss:0.1155/f1:0.8226\n"
     ]
    },
    {
     "name": "stderr",
     "output_type": "stream",
     "text": [
      "100%|████████████████████████████████████████████████████████████████████████████████| 214/214 [01:52<00:00,  1.90it/s]\n",
      "2022-05-13 01:08:05,137 INFO: Epoch:[074/500]\n",
      "2022-05-13 01:08:05,137 INFO: Train Loss:0.136 | Acc:0.9605 | F1:0.8464\n",
      "2022-05-13 01:08:15,036 INFO: val Loss:0.137 | Acc:0.9637 | F1:0.7958\n"
     ]
    },
    {
     "name": "stdout",
     "output_type": "stream",
     "text": [
      "\n",
      "best epoch:73/loss:0.1155/f1:0.8226\n"
     ]
    },
    {
     "name": "stderr",
     "output_type": "stream",
     "text": [
      "100%|████████████████████████████████████████████████████████████████████████████████| 214/214 [01:52<00:00,  1.90it/s]\n",
      "2022-05-13 01:10:07,476 INFO: Epoch:[075/500]\n",
      "2022-05-13 01:10:07,476 INFO: Train Loss:0.134 | Acc:0.9670 | F1:0.8710\n",
      "2022-05-13 01:10:17,398 INFO: val Loss:0.137 | Acc:0.9661 | F1:0.7870\n"
     ]
    },
    {
     "name": "stdout",
     "output_type": "stream",
     "text": [
      "\n",
      "best epoch:73/loss:0.1155/f1:0.8226\n"
     ]
    },
    {
     "name": "stderr",
     "output_type": "stream",
     "text": [
      "100%|████████████████████████████████████████████████████████████████████████████████| 214/214 [01:52<00:00,  1.90it/s]\n",
      "2022-05-13 01:12:10,164 INFO: Epoch:[076/500]\n",
      "2022-05-13 01:12:10,164 INFO: Train Loss:0.142 | Acc:0.9611 | F1:0.8479\n",
      "2022-05-13 01:12:20,133 INFO: val Loss:0.178 | Acc:0.9567 | F1:0.7399\n"
     ]
    },
    {
     "name": "stdout",
     "output_type": "stream",
     "text": [
      "\n",
      "best epoch:73/loss:0.1155/f1:0.8226\n"
     ]
    },
    {
     "name": "stderr",
     "output_type": "stream",
     "text": [
      "100%|████████████████████████████████████████████████████████████████████████████████| 214/214 [01:53<00:00,  1.89it/s]\n",
      "2022-05-13 01:14:13,259 INFO: Epoch:[077/500]\n",
      "2022-05-13 01:14:13,260 INFO: Train Loss:0.137 | Acc:0.9638 | F1:0.8580\n",
      "2022-05-13 01:14:23,200 INFO: val Loss:0.165 | Acc:0.9602 | F1:0.7864\n"
     ]
    },
    {
     "name": "stdout",
     "output_type": "stream",
     "text": [
      "\n",
      "best epoch:73/loss:0.1155/f1:0.8226\n"
     ]
    },
    {
     "name": "stderr",
     "output_type": "stream",
     "text": [
      "100%|████████████████████████████████████████████████████████████████████████████████| 214/214 [01:53<00:00,  1.89it/s]\n",
      "2022-05-13 01:16:16,254 INFO: Epoch:[078/500]\n",
      "2022-05-13 01:16:16,254 INFO: Train Loss:0.125 | Acc:0.9670 | F1:0.8741\n",
      "2022-05-13 01:16:26,186 INFO: val Loss:0.161 | Acc:0.9614 | F1:0.7956\n"
     ]
    },
    {
     "name": "stdout",
     "output_type": "stream",
     "text": [
      "\n",
      "best epoch:73/loss:0.1155/f1:0.8226\n"
     ]
    },
    {
     "name": "stderr",
     "output_type": "stream",
     "text": [
      "100%|████████████████████████████████████████████████████████████████████████████████| 214/214 [01:53<00:00,  1.89it/s]\n",
      "2022-05-13 01:18:19,320 INFO: Epoch:[079/500]\n",
      "2022-05-13 01:18:19,320 INFO: Train Loss:0.128 | Acc:0.9676 | F1:0.8767\n",
      "2022-05-13 01:18:29,238 INFO: val Loss:0.254 | Acc:0.9251 | F1:0.7486\n"
     ]
    },
    {
     "name": "stdout",
     "output_type": "stream",
     "text": [
      "\n",
      "best epoch:73/loss:0.1155/f1:0.8226\n"
     ]
    },
    {
     "name": "stderr",
     "output_type": "stream",
     "text": [
      "100%|████████████████████████████████████████████████████████████████████████████████| 214/214 [01:52<00:00,  1.90it/s]\n",
      "2022-05-13 01:20:22,018 INFO: Epoch:[080/500]\n",
      "2022-05-13 01:20:22,018 INFO: Train Loss:0.126 | Acc:0.9641 | F1:0.8676\n",
      "2022-05-13 01:20:31,973 INFO: val Loss:0.168 | Acc:0.9614 | F1:0.7979\n"
     ]
    },
    {
     "name": "stdout",
     "output_type": "stream",
     "text": [
      "\n",
      "best epoch:73/loss:0.1155/f1:0.8226\n"
     ]
    },
    {
     "name": "stderr",
     "output_type": "stream",
     "text": [
      "100%|████████████████████████████████████████████████████████████████████████████████| 214/214 [01:52<00:00,  1.90it/s]\n",
      "2022-05-13 01:22:24,806 INFO: Epoch:[081/500]\n",
      "2022-05-13 01:22:24,807 INFO: Train Loss:0.126 | Acc:0.9679 | F1:0.8677\n",
      "2022-05-13 01:22:34,779 INFO: val Loss:0.166 | Acc:0.9567 | F1:0.7795\n"
     ]
    },
    {
     "name": "stdout",
     "output_type": "stream",
     "text": [
      "\n",
      "best epoch:73/loss:0.1155/f1:0.8226\n"
     ]
    },
    {
     "name": "stderr",
     "output_type": "stream",
     "text": [
      "100%|████████████████████████████████████████████████████████████████████████████████| 214/214 [01:52<00:00,  1.90it/s]\n",
      "2022-05-13 01:24:27,523 INFO: Epoch:[082/500]\n",
      "2022-05-13 01:24:27,523 INFO: Train Loss:0.137 | Acc:0.9626 | F1:0.8641\n",
      "2022-05-13 01:24:37,481 INFO: val Loss:0.168 | Acc:0.9602 | F1:0.7810\n"
     ]
    },
    {
     "name": "stdout",
     "output_type": "stream",
     "text": [
      "\n",
      "best epoch:73/loss:0.1155/f1:0.8226\n"
     ]
    },
    {
     "name": "stderr",
     "output_type": "stream",
     "text": [
      "100%|████████████████████████████████████████████████████████████████████████████████| 214/214 [01:52<00:00,  1.89it/s]\n",
      "2022-05-13 01:26:30,420 INFO: Epoch:[083/500]\n",
      "2022-05-13 01:26:30,421 INFO: Train Loss:0.124 | Acc:0.9664 | F1:0.8762\n",
      "2022-05-13 01:26:40,476 INFO: val Loss:0.177 | Acc:0.9602 | F1:0.7948\n"
     ]
    },
    {
     "name": "stdout",
     "output_type": "stream",
     "text": [
      "\n",
      "best epoch:73/loss:0.1155/f1:0.8226\n"
     ]
    },
    {
     "name": "stderr",
     "output_type": "stream",
     "text": [
      "100%|████████████████████████████████████████████████████████████████████████████████| 214/214 [01:54<00:00,  1.88it/s]\n",
      "2022-05-13 01:28:34,598 INFO: Epoch:[084/500]\n",
      "2022-05-13 01:28:34,599 INFO: Train Loss:0.136 | Acc:0.9667 | F1:0.8657\n",
      "2022-05-13 01:28:44,720 INFO: val Loss:0.158 | Acc:0.9614 | F1:0.7901\n"
     ]
    },
    {
     "name": "stdout",
     "output_type": "stream",
     "text": [
      "\n",
      "best epoch:73/loss:0.1155/f1:0.8226\n"
     ]
    },
    {
     "name": "stderr",
     "output_type": "stream",
     "text": [
      "100%|████████████████████████████████████████████████████████████████████████████████| 214/214 [01:52<00:00,  1.90it/s]\n",
      "2022-05-13 01:30:37,574 INFO: Epoch:[085/500]\n",
      "2022-05-13 01:30:37,574 INFO: Train Loss:0.125 | Acc:0.9676 | F1:0.8805\n",
      "2022-05-13 01:30:47,506 INFO: val Loss:0.136 | Acc:0.9626 | F1:0.8178\n"
     ]
    },
    {
     "name": "stdout",
     "output_type": "stream",
     "text": [
      "\n",
      "best epoch:73/loss:0.1155/f1:0.8226\n"
     ]
    },
    {
     "name": "stderr",
     "output_type": "stream",
     "text": [
      "100%|████████████████████████████████████████████████████████████████████████████████| 214/214 [01:52<00:00,  1.89it/s]\n",
      "2022-05-13 01:32:40,462 INFO: Epoch:[086/500]\n",
      "2022-05-13 01:32:40,463 INFO: Train Loss:0.141 | Acc:0.9646 | F1:0.8639\n",
      "2022-05-13 01:32:50,382 INFO: val Loss:0.135 | Acc:0.9579 | F1:0.7908\n"
     ]
    },
    {
     "name": "stdout",
     "output_type": "stream",
     "text": [
      "\n",
      "best epoch:73/loss:0.1155/f1:0.8226\n"
     ]
    },
    {
     "name": "stderr",
     "output_type": "stream",
     "text": [
      "100%|████████████████████████████████████████████████████████████████████████████████| 214/214 [01:53<00:00,  1.89it/s]\n",
      "2022-05-13 01:34:43,500 INFO: Epoch:[087/500]\n",
      "2022-05-13 01:34:43,501 INFO: Train Loss:0.137 | Acc:0.9643 | F1:0.8565\n",
      "2022-05-13 01:34:53,439 INFO: val Loss:0.207 | Acc:0.9485 | F1:0.7638\n"
     ]
    },
    {
     "name": "stdout",
     "output_type": "stream",
     "text": [
      "\n",
      "best epoch:73/loss:0.1155/f1:0.8226\n"
     ]
    },
    {
     "name": "stderr",
     "output_type": "stream",
     "text": [
      "100%|████████████████████████████████████████████████████████████████████████████████| 214/214 [01:52<00:00,  1.89it/s]\n",
      "2022-05-13 01:36:46,445 INFO: Epoch:[088/500]\n",
      "2022-05-13 01:36:46,445 INFO: Train Loss:0.105 | Acc:0.9696 | F1:0.8812\n",
      "2022-05-13 01:36:56,389 INFO: val Loss:0.139 | Acc:0.9673 | F1:0.8247\n"
     ]
    },
    {
     "name": "stdout",
     "output_type": "stream",
     "text": [
      "\n",
      "best epoch:73/loss:0.1155/f1:0.8226\n"
     ]
    },
    {
     "name": "stderr",
     "output_type": "stream",
     "text": [
      "100%|████████████████████████████████████████████████████████████████████████████████| 214/214 [01:52<00:00,  1.90it/s]\n",
      "2022-05-13 01:38:49,228 INFO: Epoch:[089/500]\n",
      "2022-05-13 01:38:49,228 INFO: Train Loss:0.124 | Acc:0.9655 | F1:0.8567\n",
      "2022-05-13 01:38:59,193 INFO: val Loss:0.136 | Acc:0.9649 | F1:0.8240\n"
     ]
    },
    {
     "name": "stdout",
     "output_type": "stream",
     "text": [
      "\n",
      "best epoch:73/loss:0.1155/f1:0.8226\n"
     ]
    },
    {
     "name": "stderr",
     "output_type": "stream",
     "text": [
      "100%|████████████████████████████████████████████████████████████████████████████████| 214/214 [01:52<00:00,  1.89it/s]\n",
      "2022-05-13 01:40:52,133 INFO: Epoch:[090/500]\n",
      "2022-05-13 01:40:52,134 INFO: Train Loss:0.142 | Acc:0.9632 | F1:0.8567\n",
      "2022-05-13 01:41:02,066 INFO: val Loss:0.153 | Acc:0.9591 | F1:0.7785\n"
     ]
    },
    {
     "name": "stdout",
     "output_type": "stream",
     "text": [
      "\n",
      "best epoch:73/loss:0.1155/f1:0.8226\n"
     ]
    },
    {
     "name": "stderr",
     "output_type": "stream",
     "text": [
      "100%|████████████████████████████████████████████████████████████████████████████████| 214/214 [01:53<00:00,  1.89it/s]\n",
      "2022-05-13 01:42:55,107 INFO: Epoch:[091/500]\n",
      "2022-05-13 01:42:55,107 INFO: Train Loss:0.116 | Acc:0.9696 | F1:0.8795\n",
      "2022-05-13 01:43:05,034 INFO: val Loss:0.178 | Acc:0.9556 | F1:0.7859\n"
     ]
    },
    {
     "name": "stdout",
     "output_type": "stream",
     "text": [
      "\n",
      "best epoch:73/loss:0.1155/f1:0.8226\n"
     ]
    },
    {
     "name": "stderr",
     "output_type": "stream",
     "text": [
      "100%|████████████████████████████████████████████████████████████████████████████████| 214/214 [01:52<00:00,  1.90it/s]\n",
      "2022-05-13 01:44:57,914 INFO: Epoch:[092/500]\n",
      "2022-05-13 01:44:57,915 INFO: Train Loss:0.113 | Acc:0.9705 | F1:0.8958\n",
      "2022-05-13 01:45:07,837 INFO: val Loss:0.149 | Acc:0.9532 | F1:0.7842\n"
     ]
    },
    {
     "name": "stdout",
     "output_type": "stream",
     "text": [
      "\n",
      "best epoch:73/loss:0.1155/f1:0.8226\n"
     ]
    },
    {
     "name": "stderr",
     "output_type": "stream",
     "text": [
      " 72%|█████████████████████████████████████████████████████████▌                      | 154/214 [01:21<00:32,  1.87it/s]"
     ]
    }
   ],
   "source": [
    "start = 0 # first time : Only Trainset\n",
    "# steps = 6 # Number of pseudo labeling times \n",
    "models_path = []\n",
    "for s_fold in range(5): # 5fold\n",
    "    args.fold = s_fold\n",
    "    args.exp_num = str(s_fold)\n",
    "    save_path = main(args)\n",
    "    models_path.append(save_path)\n",
    "    \n",
    "# pseudo labeling하는 경우\n",
    "# for step in range(start, steps+1): \n",
    "#     models_path = []\n",
    "#     args.step = step\n",
    "#     for s_fold in range(5): # 5fold\n",
    "#         args.fold = s_fold\n",
    "#         args.exp_num = str(s_fold)\n",
    "#         save_path = main(args)\n",
    "#         models_path.append(save_path)\n",
    "#     ensemble = ensemble_5fold(models_path, test_loader, device)\n",
    "#     make_pseudo_df(df_train, df_test, ensemble, step+1)"
   ]
  },
  {
   "cell_type": "code",
   "execution_count": null,
   "id": "9f4dc33e",
   "metadata": {},
   "outputs": [],
   "source": [
    "# def ensemble_fold(model_path_list, test_loader, device):\n",
    "#     predict_list = []\n",
    "#     for model_path in model_path_list:  # 고려사항\n",
    "# #         prediction = predict(encoder_name= 'efficientnet_b3', \n",
    "#         prediction = predict(encoder_name= 'regnety_080', \n",
    "# #         prediction = predict(encoder_name= 'regnety_040', \n",
    "#                              test_loader = test_loader, device = device, model_path = model_path)\n",
    "#         predict_list.append(prediction)\n",
    "#     ensemble = predict_list[0]\n",
    "\n",
    "#     return ensemble"
   ]
  },
  {
   "cell_type": "markdown",
   "id": "ef714489",
   "metadata": {},
   "source": [
    "이어서 학습하기 - 0,1 진행 후 2에서 끊김"
   ]
  },
  {
   "cell_type": "code",
   "execution_count": 1,
   "id": "302d7361",
   "metadata": {},
   "outputs": [],
   "source": [
    "models_path=[]"
   ]
  },
  {
   "cell_type": "code",
   "execution_count": 12,
   "id": "401c1248",
   "metadata": {},
   "outputs": [],
   "source": [
    "save_path = os.path.join(args.model_path, (str(0)).zfill(3))\n",
    "models_path.append(save_path)\n",
    "\n",
    "save_path = os.path.join(args.model_path, (str(1)).zfill(3))\n",
    "models_path.append(save_path)"
   ]
  },
  {
   "cell_type": "code",
   "execution_count": 13,
   "id": "377af00f",
   "metadata": {},
   "outputs": [
    {
     "data": {
      "text/plain": [
       "['results/000', 'results/001']"
      ]
     },
     "execution_count": 13,
     "metadata": {},
     "output_type": "execute_result"
    }
   ],
   "source": [
    "models_path"
   ]
  },
  {
   "cell_type": "code",
   "execution_count": null,
   "id": "1f9e829c",
   "metadata": {
    "scrolled": true
   },
   "outputs": [
    {
     "name": "stderr",
     "output_type": "stream",
     "text": [
      "2022-05-13 02:02:58,548 INFO: {'exp_num': '2', 'data_path': './data', 'Kfold': 5, 'model_path': 'results/', 'encoder_name': 'regnety_160', 'drop_path_rate': 0.2, 'img_size': 224, 'batch_size': 16, 'epochs': 500, 'optimizer': 'Lamb', 'initial_lr': 5e-06, 'weight_decay': 0.001, 'aug_ver': 2, 'scheduler': 'cycle', 'warm_epoch': 5, 'max_lr': 0.001, 'min_lr': 5e-06, 'tmax': 145, 'patience': 50, 'clipping': None, 'amp': True, 'multi_gpu': False, 'logging': False, 'num_workers': 0, 'seed': 42, 'fold': 2}\n"
     ]
    },
    {
     "name": "stdout",
     "output_type": "stream",
     "text": [
      "<---- Training Params ---->\n",
      "Read train_df.csv\n",
      "Dataset size:3422\n",
      "Dataset size:855\n"
     ]
    },
    {
     "name": "stderr",
     "output_type": "stream",
     "text": [
      "2022-05-13 02:02:59,319 INFO: Loading pretrained weights from url (https://dl.fbaipublicfiles.com/deit/regnety_160-a5fe301d.pth)\n",
      "2022-05-13 02:03:03,825 INFO: Computational complexity:       15.93 GMac\n",
      "2022-05-13 02:03:03,825 INFO: Number of parameters:           80.83 M \n",
      "100%|████████████████████████████████████████████████████████████████████████████████| 214/214 [02:54<00:00,  1.23it/s]\n",
      "2022-05-13 02:05:57,896 INFO: Epoch:[001/500]\n",
      "2022-05-13 02:05:57,896 INFO: Train Loss:4.487 | Acc:0.0099 | F1:0.0052\n",
      "2022-05-13 02:06:14,877 INFO: val Loss:4.533 | Acc:0.0000 | F1:0.0000\n",
      "2022-05-13 02:06:16,558 INFO: -----------------SAVE:1epoch----------------\n"
     ]
    },
    {
     "name": "stdout",
     "output_type": "stream",
     "text": [
      "\n",
      "best epoch:1/loss:4.5334/f1:0.0000\n"
     ]
    },
    {
     "name": "stderr",
     "output_type": "stream",
     "text": [
      "100%|████████████████████████████████████████████████████████████████████████████████| 214/214 [01:50<00:00,  1.94it/s]\n",
      "2022-05-13 02:08:06,990 INFO: Epoch:[002/500]\n",
      "2022-05-13 02:08:06,991 INFO: Train Loss:4.469 | Acc:0.0134 | F1:0.0045\n",
      "2022-05-13 02:08:16,690 INFO: val Loss:4.519 | Acc:0.0012 | F1:0.0002\n",
      "2022-05-13 02:08:18,955 INFO: -----------------SAVE:2epoch----------------\n"
     ]
    },
    {
     "name": "stdout",
     "output_type": "stream",
     "text": [
      "\n",
      "best epoch:2/loss:4.5189/f1:0.0002\n"
     ]
    },
    {
     "name": "stderr",
     "output_type": "stream",
     "text": [
      "100%|████████████████████████████████████████████████████████████████████████████████| 214/214 [01:51<00:00,  1.93it/s]\n",
      "2022-05-13 02:10:10,070 INFO: Epoch:[003/500]\n",
      "2022-05-13 02:10:10,070 INFO: Train Loss:4.446 | Acc:0.0137 | F1:0.0037\n",
      "2022-05-13 02:10:20,191 INFO: val Loss:4.488 | Acc:0.0047 | F1:0.0007\n",
      "2022-05-13 02:10:21,988 INFO: -----------------SAVE:3epoch----------------\n"
     ]
    },
    {
     "name": "stdout",
     "output_type": "stream",
     "text": [
      "\n",
      "best epoch:3/loss:4.4881/f1:0.0007\n"
     ]
    },
    {
     "name": "stderr",
     "output_type": "stream",
     "text": [
      "100%|████████████████████████████████████████████████████████████████████████████████| 214/214 [01:51<00:00,  1.91it/s]\n",
      "2022-05-13 02:12:13,801 INFO: Epoch:[004/500]\n",
      "2022-05-13 02:12:13,801 INFO: Train Loss:4.398 | Acc:0.0362 | F1:0.0080\n",
      "2022-05-13 02:12:23,678 INFO: val Loss:4.440 | Acc:0.0094 | F1:0.0022\n",
      "2022-05-13 02:12:25,429 INFO: -----------------SAVE:4epoch----------------\n"
     ]
    },
    {
     "name": "stdout",
     "output_type": "stream",
     "text": [
      "\n",
      "best epoch:4/loss:4.4404/f1:0.0022\n"
     ]
    },
    {
     "name": "stderr",
     "output_type": "stream",
     "text": [
      "100%|████████████████████████████████████████████████████████████████████████████████| 214/214 [01:54<00:00,  1.87it/s]\n",
      "2022-05-13 02:14:19,679 INFO: Epoch:[005/500]\n",
      "2022-05-13 02:14:19,679 INFO: Train Loss:4.348 | Acc:0.0722 | F1:0.0157\n",
      "2022-05-13 02:14:29,898 INFO: val Loss:4.379 | Acc:0.0363 | F1:0.0066\n",
      "2022-05-13 02:14:31,685 INFO: -----------------SAVE:5epoch----------------\n"
     ]
    },
    {
     "name": "stdout",
     "output_type": "stream",
     "text": [
      "\n",
      "best epoch:5/loss:4.3791/f1:0.0066\n"
     ]
    },
    {
     "name": "stderr",
     "output_type": "stream",
     "text": [
      "100%|████████████████████████████████████████████████████████████████████████████████| 214/214 [01:55<00:00,  1.85it/s]\n",
      "2022-05-13 02:16:27,059 INFO: Epoch:[006/500]\n",
      "2022-05-13 02:16:27,059 INFO: Train Loss:4.021 | Acc:0.3679 | F1:0.0739\n",
      "2022-05-13 02:16:37,261 INFO: val Loss:3.758 | Acc:0.5673 | F1:0.0990\n",
      "2022-05-13 02:16:39,028 INFO: -----------------SAVE:6epoch----------------\n"
     ]
    },
    {
     "name": "stdout",
     "output_type": "stream",
     "text": [
      "\n",
      "best epoch:6/loss:3.7575/f1:0.0990\n"
     ]
    },
    {
     "name": "stderr",
     "output_type": "stream",
     "text": [
      "100%|████████████████████████████████████████████████████████████████████████████████| 214/214 [01:54<00:00,  1.86it/s]\n",
      "2022-05-13 02:18:34,008 INFO: Epoch:[007/500]\n",
      "2022-05-13 02:18:34,009 INFO: Train Loss:3.269 | Acc:0.7411 | F1:0.1330\n",
      "2022-05-13 02:18:44,010 INFO: val Loss:2.887 | Acc:0.7696 | F1:0.1345\n",
      "2022-05-13 02:18:45,843 INFO: -----------------SAVE:7epoch----------------\n"
     ]
    },
    {
     "name": "stdout",
     "output_type": "stream",
     "text": [
      "\n",
      "best epoch:7/loss:2.8867/f1:0.1345\n"
     ]
    },
    {
     "name": "stderr",
     "output_type": "stream",
     "text": [
      "100%|████████████████████████████████████████████████████████████████████████████████| 214/214 [01:54<00:00,  1.87it/s]\n",
      "2022-05-13 02:20:40,364 INFO: Epoch:[008/500]\n",
      "2022-05-13 02:20:40,365 INFO: Train Loss:2.465 | Acc:0.8200 | F1:0.1453\n",
      "2022-05-13 02:20:50,363 INFO: val Loss:1.985 | Acc:0.8351 | F1:0.1450\n",
      "2022-05-13 02:20:52,132 INFO: -----------------SAVE:8epoch----------------\n"
     ]
    },
    {
     "name": "stdout",
     "output_type": "stream",
     "text": [
      "\n",
      "best epoch:8/loss:1.9854/f1:0.1450\n"
     ]
    },
    {
     "name": "stderr",
     "output_type": "stream",
     "text": [
      "100%|████████████████████████████████████████████████████████████████████████████████| 214/214 [01:54<00:00,  1.87it/s]\n",
      "2022-05-13 02:22:46,462 INFO: Epoch:[009/500]\n",
      "2022-05-13 02:22:46,462 INFO: Train Loss:1.750 | Acc:0.8326 | F1:0.1482\n",
      "2022-05-13 02:22:56,354 INFO: val Loss:1.173 | Acc:0.8456 | F1:0.1543\n",
      "2022-05-13 02:22:58,105 INFO: -----------------SAVE:9epoch----------------\n"
     ]
    },
    {
     "name": "stdout",
     "output_type": "stream",
     "text": [
      "\n",
      "best epoch:9/loss:1.1734/f1:0.1543\n"
     ]
    },
    {
     "name": "stderr",
     "output_type": "stream",
     "text": [
      "100%|████████████████████████████████████████████████████████████████████████████████| 214/214 [01:53<00:00,  1.88it/s]\n",
      "2022-05-13 02:24:52,034 INFO: Epoch:[010/500]\n",
      "2022-05-13 02:24:52,035 INFO: Train Loss:1.331 | Acc:0.8366 | F1:0.1514\n",
      "2022-05-13 02:25:02,404 INFO: val Loss:1.060 | Acc:0.8491 | F1:0.1561\n",
      "2022-05-13 02:25:04,410 INFO: -----------------SAVE:10epoch----------------\n"
     ]
    },
    {
     "name": "stdout",
     "output_type": "stream",
     "text": [
      "\n",
      "best epoch:10/loss:1.0603/f1:0.1561\n"
     ]
    },
    {
     "name": "stderr",
     "output_type": "stream",
     "text": [
      "100%|████████████████████████████████████████████████████████████████████████████████| 214/214 [01:55<00:00,  1.85it/s]\n",
      "2022-05-13 02:27:00,064 INFO: Epoch:[011/500]\n",
      "2022-05-13 02:27:00,065 INFO: Train Loss:1.174 | Acc:0.8419 | F1:0.1542\n",
      "2022-05-13 02:27:10,175 INFO: val Loss:0.963 | Acc:0.8491 | F1:0.1562\n",
      "2022-05-13 02:27:11,965 INFO: -----------------SAVE:11epoch----------------\n"
     ]
    },
    {
     "name": "stdout",
     "output_type": "stream",
     "text": [
      "\n",
      "best epoch:11/loss:0.9630/f1:0.1562\n"
     ]
    },
    {
     "name": "stderr",
     "output_type": "stream",
     "text": [
      "100%|████████████████████████████████████████████████████████████████████████████████| 214/214 [01:53<00:00,  1.89it/s]\n",
      "2022-05-13 02:29:05,024 INFO: Epoch:[012/500]\n",
      "2022-05-13 02:29:05,024 INFO: Train Loss:1.060 | Acc:0.8472 | F1:0.1558\n",
      "2022-05-13 02:29:14,930 INFO: val Loss:0.952 | Acc:0.8491 | F1:0.1562\n",
      "2022-05-13 02:29:16,838 INFO: -----------------SAVE:12epoch----------------\n"
     ]
    },
    {
     "name": "stdout",
     "output_type": "stream",
     "text": [
      "\n",
      "best epoch:12/loss:0.9522/f1:0.1562\n"
     ]
    },
    {
     "name": "stderr",
     "output_type": "stream",
     "text": [
      "100%|████████████████████████████████████████████████████████████████████████████████| 214/214 [01:54<00:00,  1.87it/s]\n",
      "2022-05-13 02:31:11,217 INFO: Epoch:[013/500]\n",
      "2022-05-13 02:31:11,217 INFO: Train Loss:0.993 | Acc:0.8466 | F1:0.1556\n",
      "2022-05-13 02:31:21,190 INFO: val Loss:0.825 | Acc:0.8491 | F1:0.1561\n",
      "2022-05-13 02:31:22,932 INFO: -----------------SAVE:13epoch----------------\n"
     ]
    },
    {
     "name": "stdout",
     "output_type": "stream",
     "text": [
      "\n",
      "best epoch:13/loss:0.8248/f1:0.1561\n"
     ]
    },
    {
     "name": "stderr",
     "output_type": "stream",
     "text": [
      "100%|████████████████████████████████████████████████████████████████████████████████| 214/214 [01:53<00:00,  1.89it/s]\n",
      "2022-05-13 02:33:16,048 INFO: Epoch:[014/500]\n",
      "2022-05-13 02:33:16,049 INFO: Train Loss:0.920 | Acc:0.8480 | F1:0.1559\n",
      "2022-05-13 02:33:26,082 INFO: val Loss:0.778 | Acc:0.8491 | F1:0.1561\n",
      "2022-05-13 02:33:27,862 INFO: -----------------SAVE:14epoch----------------\n"
     ]
    },
    {
     "name": "stdout",
     "output_type": "stream",
     "text": [
      "\n",
      "best epoch:14/loss:0.7778/f1:0.1561\n"
     ]
    },
    {
     "name": "stderr",
     "output_type": "stream",
     "text": [
      "100%|████████████████████████████████████████████████████████████████████████████████| 214/214 [01:53<00:00,  1.88it/s]\n",
      "2022-05-13 02:35:21,516 INFO: Epoch:[015/500]\n",
      "2022-05-13 02:35:21,517 INFO: Train Loss:0.851 | Acc:0.8475 | F1:0.1557\n",
      "2022-05-13 02:35:31,343 INFO: val Loss:0.725 | Acc:0.8491 | F1:0.1561\n",
      "2022-05-13 02:35:33,188 INFO: -----------------SAVE:15epoch----------------\n"
     ]
    },
    {
     "name": "stdout",
     "output_type": "stream",
     "text": [
      "\n",
      "best epoch:15/loss:0.7252/f1:0.1561\n"
     ]
    },
    {
     "name": "stderr",
     "output_type": "stream",
     "text": [
      "100%|████████████████████████████████████████████████████████████████████████████████| 214/214 [01:52<00:00,  1.90it/s]\n",
      "2022-05-13 02:37:25,873 INFO: Epoch:[016/500]\n",
      "2022-05-13 02:37:25,873 INFO: Train Loss:0.812 | Acc:0.8469 | F1:0.1603\n",
      "2022-05-13 02:37:35,824 INFO: val Loss:0.693 | Acc:0.8503 | F1:0.1638\n",
      "2022-05-13 02:37:37,651 INFO: -----------------SAVE:16epoch----------------\n"
     ]
    },
    {
     "name": "stdout",
     "output_type": "stream",
     "text": [
      "\n",
      "best epoch:16/loss:0.6930/f1:0.1638\n"
     ]
    },
    {
     "name": "stderr",
     "output_type": "stream",
     "text": [
      "100%|████████████████████████████████████████████████████████████████████████████████| 214/214 [01:53<00:00,  1.89it/s]\n",
      "2022-05-13 02:39:30,766 INFO: Epoch:[017/500]\n",
      "2022-05-13 02:39:30,767 INFO: Train Loss:0.768 | Acc:0.8480 | F1:0.1635\n",
      "2022-05-13 02:39:40,583 INFO: val Loss:0.655 | Acc:0.8538 | F1:0.1792\n",
      "2022-05-13 02:39:42,538 INFO: -----------------SAVE:17epoch----------------\n"
     ]
    },
    {
     "name": "stdout",
     "output_type": "stream",
     "text": [
      "\n",
      "best epoch:17/loss:0.6550/f1:0.1792\n"
     ]
    },
    {
     "name": "stderr",
     "output_type": "stream",
     "text": [
      "100%|████████████████████████████████████████████████████████████████████████████████| 214/214 [01:51<00:00,  1.92it/s]\n",
      "2022-05-13 02:41:34,004 INFO: Epoch:[018/500]\n",
      "2022-05-13 02:41:34,004 INFO: Train Loss:0.722 | Acc:0.8498 | F1:0.1739\n",
      "2022-05-13 02:41:43,893 INFO: val Loss:0.632 | Acc:0.8550 | F1:0.1809\n",
      "2022-05-13 02:41:45,719 INFO: -----------------SAVE:18epoch----------------\n"
     ]
    },
    {
     "name": "stdout",
     "output_type": "stream",
     "text": [
      "\n",
      "best epoch:18/loss:0.6324/f1:0.1809\n"
     ]
    },
    {
     "name": "stderr",
     "output_type": "stream",
     "text": [
      "100%|████████████████████████████████████████████████████████████████████████████████| 214/214 [01:51<00:00,  1.92it/s]\n",
      "2022-05-13 02:43:36,996 INFO: Epoch:[019/500]\n",
      "2022-05-13 02:43:36,996 INFO: Train Loss:0.696 | Acc:0.8527 | F1:0.1872\n",
      "2022-05-13 02:43:47,034 INFO: val Loss:0.593 | Acc:0.8573 | F1:0.1887\n",
      "2022-05-13 02:43:48,905 INFO: -----------------SAVE:19epoch----------------\n"
     ]
    },
    {
     "name": "stdout",
     "output_type": "stream",
     "text": [
      "\n",
      "best epoch:19/loss:0.5927/f1:0.1887\n"
     ]
    },
    {
     "name": "stderr",
     "output_type": "stream",
     "text": [
      "100%|████████████████████████████████████████████████████████████████████████████████| 214/214 [01:51<00:00,  1.91it/s]\n",
      "2022-05-13 02:45:40,675 INFO: Epoch:[020/500]\n",
      "2022-05-13 02:45:40,675 INFO: Train Loss:0.659 | Acc:0.8562 | F1:0.2042\n",
      "2022-05-13 02:45:50,486 INFO: val Loss:0.588 | Acc:0.8667 | F1:0.2450\n",
      "2022-05-13 02:45:52,294 INFO: -----------------SAVE:20epoch----------------\n"
     ]
    },
    {
     "name": "stdout",
     "output_type": "stream",
     "text": [
      "\n",
      "best epoch:20/loss:0.5881/f1:0.2450\n"
     ]
    },
    {
     "name": "stderr",
     "output_type": "stream",
     "text": [
      "100%|████████████████████████████████████████████████████████████████████████████████| 214/214 [01:51<00:00,  1.93it/s]\n",
      "2022-05-13 02:47:43,394 INFO: Epoch:[021/500]\n",
      "2022-05-13 02:47:43,395 INFO: Train Loss:0.620 | Acc:0.8609 | F1:0.2329\n",
      "2022-05-13 02:47:53,282 INFO: val Loss:0.547 | Acc:0.8760 | F1:0.2918\n",
      "2022-05-13 02:47:55,090 INFO: -----------------SAVE:21epoch----------------\n"
     ]
    },
    {
     "name": "stdout",
     "output_type": "stream",
     "text": [
      "\n",
      "best epoch:21/loss:0.5469/f1:0.2918\n"
     ]
    },
    {
     "name": "stderr",
     "output_type": "stream",
     "text": [
      "100%|████████████████████████████████████████████████████████████████████████████████| 214/214 [01:52<00:00,  1.90it/s]\n",
      "2022-05-13 02:49:47,445 INFO: Epoch:[022/500]\n",
      "2022-05-13 02:49:47,445 INFO: Train Loss:0.581 | Acc:0.8688 | F1:0.2745\n",
      "2022-05-13 02:49:57,382 INFO: val Loss:0.513 | Acc:0.8819 | F1:0.3188\n",
      "2022-05-13 02:49:59,211 INFO: -----------------SAVE:22epoch----------------\n"
     ]
    },
    {
     "name": "stdout",
     "output_type": "stream",
     "text": [
      "\n",
      "best epoch:22/loss:0.5132/f1:0.3188\n"
     ]
    },
    {
     "name": "stderr",
     "output_type": "stream",
     "text": [
      "100%|████████████████████████████████████████████████████████████████████████████████| 214/214 [01:51<00:00,  1.91it/s]\n",
      "2022-05-13 02:51:51,191 INFO: Epoch:[023/500]\n",
      "2022-05-13 02:51:51,192 INFO: Train Loss:0.555 | Acc:0.8735 | F1:0.3073\n",
      "2022-05-13 02:52:01,199 INFO: val Loss:0.471 | Acc:0.8842 | F1:0.3286\n",
      "2022-05-13 02:52:02,978 INFO: -----------------SAVE:23epoch----------------\n"
     ]
    },
    {
     "name": "stdout",
     "output_type": "stream",
     "text": [
      "\n",
      "best epoch:23/loss:0.4705/f1:0.3286\n"
     ]
    },
    {
     "name": "stderr",
     "output_type": "stream",
     "text": [
      "100%|████████████████████████████████████████████████████████████████████████████████| 214/214 [01:51<00:00,  1.91it/s]\n",
      "2022-05-13 02:53:54,865 INFO: Epoch:[024/500]\n",
      "2022-05-13 02:53:54,866 INFO: Train Loss:0.527 | Acc:0.8761 | F1:0.3186\n",
      "2022-05-13 02:54:04,819 INFO: val Loss:0.463 | Acc:0.8924 | F1:0.3743\n",
      "2022-05-13 02:54:06,750 INFO: -----------------SAVE:24epoch----------------\n"
     ]
    },
    {
     "name": "stdout",
     "output_type": "stream",
     "text": [
      "\n",
      "best epoch:24/loss:0.4635/f1:0.3743\n"
     ]
    },
    {
     "name": "stderr",
     "output_type": "stream",
     "text": [
      "100%|████████████████████████████████████████████████████████████████████████████████| 214/214 [01:51<00:00,  1.91it/s]\n",
      "2022-05-13 02:55:58,639 INFO: Epoch:[025/500]\n",
      "2022-05-13 02:55:58,640 INFO: Train Loss:0.490 | Acc:0.8849 | F1:0.3625\n",
      "2022-05-13 02:56:08,595 INFO: val Loss:0.443 | Acc:0.8877 | F1:0.3678\n",
      "2022-05-13 02:56:10,337 INFO: -----------------SAVE:25epoch----------------\n"
     ]
    },
    {
     "name": "stdout",
     "output_type": "stream",
     "text": [
      "\n",
      "best epoch:25/loss:0.4434/f1:0.3678\n"
     ]
    },
    {
     "name": "stderr",
     "output_type": "stream",
     "text": [
      "100%|████████████████████████████████████████████████████████████████████████████████| 214/214 [01:52<00:00,  1.91it/s]\n",
      "2022-05-13 02:58:02,468 INFO: Epoch:[026/500]\n",
      "2022-05-13 02:58:02,468 INFO: Train Loss:0.480 | Acc:0.8881 | F1:0.4000\n",
      "2022-05-13 02:58:12,345 INFO: val Loss:0.419 | Acc:0.8959 | F1:0.4192\n",
      "2022-05-13 02:58:14,105 INFO: -----------------SAVE:26epoch----------------\n"
     ]
    },
    {
     "name": "stdout",
     "output_type": "stream",
     "text": [
      "\n",
      "best epoch:26/loss:0.4192/f1:0.4192\n"
     ]
    },
    {
     "name": "stderr",
     "output_type": "stream",
     "text": [
      "100%|████████████████████████████████████████████████████████████████████████████████| 214/214 [01:51<00:00,  1.92it/s]\n",
      "2022-05-13 03:00:05,525 INFO: Epoch:[027/500]\n",
      "2022-05-13 03:00:05,526 INFO: Train Loss:0.453 | Acc:0.8925 | F1:0.4223\n",
      "2022-05-13 03:00:15,481 INFO: val Loss:0.402 | Acc:0.8971 | F1:0.4338\n",
      "2022-05-13 03:00:17,170 INFO: -----------------SAVE:27epoch----------------\n"
     ]
    },
    {
     "name": "stdout",
     "output_type": "stream",
     "text": [
      "\n",
      "best epoch:27/loss:0.4022/f1:0.4338\n"
     ]
    },
    {
     "name": "stderr",
     "output_type": "stream",
     "text": [
      "100%|████████████████████████████████████████████████████████████████████████████████| 214/214 [01:50<00:00,  1.93it/s]\n",
      "2022-05-13 03:02:08,068 INFO: Epoch:[028/500]\n",
      "2022-05-13 03:02:08,069 INFO: Train Loss:0.433 | Acc:0.8977 | F1:0.4560\n",
      "2022-05-13 03:02:17,849 INFO: val Loss:0.410 | Acc:0.8994 | F1:0.4251\n"
     ]
    },
    {
     "name": "stdout",
     "output_type": "stream",
     "text": [
      "\n",
      "best epoch:27/loss:0.4022/f1:0.4338\n"
     ]
    },
    {
     "name": "stderr",
     "output_type": "stream",
     "text": [
      "100%|████████████████████████████████████████████████████████████████████████████████| 214/214 [01:51<00:00,  1.93it/s]\n",
      "2022-05-13 03:04:09,003 INFO: Epoch:[029/500]\n",
      "2022-05-13 03:04:09,003 INFO: Train Loss:0.420 | Acc:0.8957 | F1:0.4351\n",
      "2022-05-13 03:04:18,783 INFO: val Loss:0.392 | Acc:0.8982 | F1:0.4583\n",
      "2022-05-13 03:04:20,541 INFO: -----------------SAVE:29epoch----------------\n"
     ]
    },
    {
     "name": "stdout",
     "output_type": "stream",
     "text": [
      "\n",
      "best epoch:29/loss:0.3916/f1:0.4583\n"
     ]
    },
    {
     "name": "stderr",
     "output_type": "stream",
     "text": [
      "100%|████████████████████████████████████████████████████████████████████████████████| 214/214 [01:50<00:00,  1.93it/s]\n",
      "2022-05-13 03:06:11,285 INFO: Epoch:[030/500]\n",
      "2022-05-13 03:06:11,285 INFO: Train Loss:0.404 | Acc:0.9036 | F1:0.4882\n",
      "2022-05-13 03:06:21,024 INFO: val Loss:0.333 | Acc:0.9123 | F1:0.5143\n",
      "2022-05-13 03:06:22,850 INFO: -----------------SAVE:30epoch----------------\n"
     ]
    },
    {
     "name": "stdout",
     "output_type": "stream",
     "text": [
      "\n",
      "best epoch:30/loss:0.3329/f1:0.5143\n"
     ]
    },
    {
     "name": "stderr",
     "output_type": "stream",
     "text": [
      "100%|████████████████████████████████████████████████████████████████████████████████| 214/214 [01:51<00:00,  1.92it/s]\n",
      "2022-05-13 03:08:14,371 INFO: Epoch:[031/500]\n",
      "2022-05-13 03:08:14,371 INFO: Train Loss:0.376 | Acc:0.9079 | F1:0.5135\n",
      "2022-05-13 03:08:24,247 INFO: val Loss:0.343 | Acc:0.9111 | F1:0.4995\n"
     ]
    },
    {
     "name": "stdout",
     "output_type": "stream",
     "text": [
      "\n",
      "best epoch:30/loss:0.3329/f1:0.5143\n"
     ]
    },
    {
     "name": "stderr",
     "output_type": "stream",
     "text": [
      "100%|████████████████████████████████████████████████████████████████████████████████| 214/214 [01:51<00:00,  1.92it/s]\n",
      "2022-05-13 03:10:15,644 INFO: Epoch:[032/500]\n",
      "2022-05-13 03:10:15,645 INFO: Train Loss:0.341 | Acc:0.9129 | F1:0.5275\n",
      "2022-05-13 03:10:25,504 INFO: val Loss:0.297 | Acc:0.9123 | F1:0.5254\n",
      "2022-05-13 03:10:27,305 INFO: -----------------SAVE:32epoch----------------\n"
     ]
    },
    {
     "name": "stdout",
     "output_type": "stream",
     "text": [
      "\n",
      "best epoch:32/loss:0.2970/f1:0.5254\n"
     ]
    },
    {
     "name": "stderr",
     "output_type": "stream",
     "text": [
      "100%|████████████████████████████████████████████████████████████████████████████████| 214/214 [01:53<00:00,  1.89it/s]\n",
      "2022-05-13 03:12:20,404 INFO: Epoch:[033/500]\n",
      "2022-05-13 03:12:20,404 INFO: Train Loss:0.337 | Acc:0.9141 | F1:0.5411\n",
      "2022-05-13 03:12:30,354 INFO: val Loss:0.291 | Acc:0.9216 | F1:0.5695\n",
      "2022-05-13 03:12:32,267 INFO: -----------------SAVE:33epoch----------------\n"
     ]
    },
    {
     "name": "stdout",
     "output_type": "stream",
     "text": [
      "\n",
      "best epoch:33/loss:0.2907/f1:0.5695\n"
     ]
    },
    {
     "name": "stderr",
     "output_type": "stream",
     "text": [
      "100%|████████████████████████████████████████████████████████████████████████████████| 214/214 [01:51<00:00,  1.92it/s]\n",
      "2022-05-13 03:14:23,756 INFO: Epoch:[034/500]\n",
      "2022-05-13 03:14:23,756 INFO: Train Loss:0.323 | Acc:0.9161 | F1:0.5617\n",
      "2022-05-13 03:14:33,498 INFO: val Loss:0.298 | Acc:0.9216 | F1:0.5940\n"
     ]
    },
    {
     "name": "stdout",
     "output_type": "stream",
     "text": [
      "\n",
      "best epoch:33/loss:0.2907/f1:0.5695\n"
     ]
    },
    {
     "name": "stderr",
     "output_type": "stream",
     "text": [
      "100%|████████████████████████████████████████████████████████████████████████████████| 214/214 [01:50<00:00,  1.93it/s]\n",
      "2022-05-13 03:16:24,246 INFO: Epoch:[035/500]\n",
      "2022-05-13 03:16:24,246 INFO: Train Loss:0.300 | Acc:0.9217 | F1:0.6040\n",
      "2022-05-13 03:16:33,990 INFO: val Loss:0.244 | Acc:0.9275 | F1:0.5973\n",
      "2022-05-13 03:16:35,791 INFO: -----------------SAVE:35epoch----------------\n"
     ]
    },
    {
     "name": "stdout",
     "output_type": "stream",
     "text": [
      "\n",
      "best epoch:35/loss:0.2441/f1:0.5973\n"
     ]
    },
    {
     "name": "stderr",
     "output_type": "stream",
     "text": [
      "100%|████████████████████████████████████████████████████████████████████████████████| 214/214 [01:50<00:00,  1.93it/s]\n",
      "2022-05-13 03:18:26,467 INFO: Epoch:[036/500]\n",
      "2022-05-13 03:18:26,468 INFO: Train Loss:0.302 | Acc:0.9208 | F1:0.5936\n",
      "2022-05-13 03:18:36,303 INFO: val Loss:0.240 | Acc:0.9322 | F1:0.5956\n",
      "2022-05-13 03:18:38,149 INFO: -----------------SAVE:36epoch----------------\n"
     ]
    },
    {
     "name": "stdout",
     "output_type": "stream",
     "text": [
      "\n",
      "best epoch:36/loss:0.2401/f1:0.5956\n"
     ]
    },
    {
     "name": "stderr",
     "output_type": "stream",
     "text": [
      "100%|████████████████████████████████████████████████████████████████████████████████| 214/214 [01:51<00:00,  1.92it/s]\n",
      "2022-05-13 03:20:29,765 INFO: Epoch:[037/500]\n",
      "2022-05-13 03:20:29,765 INFO: Train Loss:0.289 | Acc:0.9290 | F1:0.6469\n",
      "2022-05-13 03:20:39,650 INFO: val Loss:0.245 | Acc:0.9345 | F1:0.6224\n"
     ]
    },
    {
     "name": "stdout",
     "output_type": "stream",
     "text": [
      "\n",
      "best epoch:36/loss:0.2401/f1:0.5956\n"
     ]
    },
    {
     "name": "stderr",
     "output_type": "stream",
     "text": [
      "100%|████████████████████████████████████████████████████████████████████████████████| 214/214 [01:53<00:00,  1.89it/s]\n",
      "2022-05-13 03:22:33,081 INFO: Epoch:[038/500]\n",
      "2022-05-13 03:22:33,081 INFO: Train Loss:0.273 | Acc:0.9302 | F1:0.6597\n",
      "2022-05-13 03:22:43,109 INFO: val Loss:0.216 | Acc:0.9368 | F1:0.6394\n",
      "2022-05-13 03:22:44,876 INFO: -----------------SAVE:38epoch----------------\n"
     ]
    },
    {
     "name": "stdout",
     "output_type": "stream",
     "text": [
      "\n",
      "best epoch:38/loss:0.2158/f1:0.6394\n"
     ]
    },
    {
     "name": "stderr",
     "output_type": "stream",
     "text": [
      "100%|████████████████████████████████████████████████████████████████████████████████| 214/214 [01:52<00:00,  1.91it/s]\n",
      "2022-05-13 03:24:36,955 INFO: Epoch:[039/500]\n",
      "2022-05-13 03:24:36,956 INFO: Train Loss:0.262 | Acc:0.9264 | F1:0.6520\n",
      "2022-05-13 03:24:46,783 INFO: val Loss:0.205 | Acc:0.9404 | F1:0.6695\n",
      "2022-05-13 03:24:48,553 INFO: -----------------SAVE:39epoch----------------\n"
     ]
    },
    {
     "name": "stdout",
     "output_type": "stream",
     "text": [
      "\n",
      "best epoch:39/loss:0.2049/f1:0.6695\n"
     ]
    },
    {
     "name": "stderr",
     "output_type": "stream",
     "text": [
      "100%|████████████████████████████████████████████████████████████████████████████████| 214/214 [02:00<00:00,  1.78it/s]\n",
      "2022-05-13 03:26:48,731 INFO: Epoch:[040/500]\n",
      "2022-05-13 03:26:48,731 INFO: Train Loss:0.249 | Acc:0.9366 | F1:0.6979\n",
      "2022-05-13 03:27:01,696 INFO: val Loss:0.199 | Acc:0.9404 | F1:0.6623\n",
      "2022-05-13 03:27:03,498 INFO: -----------------SAVE:40epoch----------------\n"
     ]
    },
    {
     "name": "stdout",
     "output_type": "stream",
     "text": [
      "\n",
      "best epoch:40/loss:0.1987/f1:0.6623\n"
     ]
    },
    {
     "name": "stderr",
     "output_type": "stream",
     "text": [
      "100%|████████████████████████████████████████████████████████████████████████████████| 214/214 [01:55<00:00,  1.85it/s]\n",
      "2022-05-13 03:28:59,342 INFO: Epoch:[041/500]\n",
      "2022-05-13 03:28:59,343 INFO: Train Loss:0.234 | Acc:0.9383 | F1:0.6980\n",
      "2022-05-13 03:29:09,154 INFO: val Loss:0.196 | Acc:0.9404 | F1:0.6590\n",
      "2022-05-13 03:29:10,860 INFO: -----------------SAVE:41epoch----------------\n"
     ]
    },
    {
     "name": "stdout",
     "output_type": "stream",
     "text": [
      "\n",
      "best epoch:41/loss:0.1959/f1:0.6590\n"
     ]
    },
    {
     "name": "stderr",
     "output_type": "stream",
     "text": [
      "100%|████████████████████████████████████████████████████████████████████████████████| 214/214 [01:51<00:00,  1.93it/s]\n",
      "2022-05-13 03:31:01,957 INFO: Epoch:[042/500]\n",
      "2022-05-13 03:31:01,958 INFO: Train Loss:0.233 | Acc:0.9386 | F1:0.7092\n",
      "2022-05-13 03:31:11,736 INFO: val Loss:0.171 | Acc:0.9427 | F1:0.6648\n",
      "2022-05-13 03:31:13,438 INFO: -----------------SAVE:42epoch----------------\n"
     ]
    },
    {
     "name": "stdout",
     "output_type": "stream",
     "text": [
      "\n",
      "best epoch:42/loss:0.1707/f1:0.6648\n"
     ]
    },
    {
     "name": "stderr",
     "output_type": "stream",
     "text": [
      "100%|████████████████████████████████████████████████████████████████████████████████| 214/214 [01:51<00:00,  1.93it/s]\n",
      "2022-05-13 03:33:04,608 INFO: Epoch:[043/500]\n",
      "2022-05-13 03:33:04,608 INFO: Train Loss:0.224 | Acc:0.9442 | F1:0.7455\n",
      "2022-05-13 03:33:14,364 INFO: val Loss:0.203 | Acc:0.9462 | F1:0.6966\n"
     ]
    },
    {
     "name": "stdout",
     "output_type": "stream",
     "text": [
      "\n",
      "best epoch:42/loss:0.1707/f1:0.6648\n"
     ]
    },
    {
     "name": "stderr",
     "output_type": "stream",
     "text": [
      "100%|████████████████████████████████████████████████████████████████████████████████| 214/214 [01:51<00:00,  1.93it/s]\n",
      "2022-05-13 03:35:05,375 INFO: Epoch:[044/500]\n",
      "2022-05-13 03:35:05,376 INFO: Train Loss:0.222 | Acc:0.9395 | F1:0.7221\n",
      "2022-05-13 03:35:15,199 INFO: val Loss:0.194 | Acc:0.9392 | F1:0.6848\n"
     ]
    },
    {
     "name": "stdout",
     "output_type": "stream",
     "text": [
      "\n",
      "best epoch:42/loss:0.1707/f1:0.6648\n"
     ]
    },
    {
     "name": "stderr",
     "output_type": "stream",
     "text": [
      "100%|████████████████████████████████████████████████████████████████████████████████| 214/214 [01:51<00:00,  1.93it/s]\n",
      "2022-05-13 03:37:06,348 INFO: Epoch:[045/500]\n",
      "2022-05-13 03:37:06,349 INFO: Train Loss:0.215 | Acc:0.9445 | F1:0.7405\n",
      "2022-05-13 03:37:16,099 INFO: val Loss:0.196 | Acc:0.9439 | F1:0.7054\n"
     ]
    },
    {
     "name": "stdout",
     "output_type": "stream",
     "text": [
      "\n",
      "best epoch:42/loss:0.1707/f1:0.6648\n"
     ]
    },
    {
     "name": "stderr",
     "output_type": "stream",
     "text": [
      "100%|████████████████████████████████████████████████████████████████████████████████| 214/214 [01:50<00:00,  1.93it/s]\n",
      "2022-05-13 03:39:07,031 INFO: Epoch:[046/500]\n",
      "2022-05-13 03:39:07,032 INFO: Train Loss:0.192 | Acc:0.9486 | F1:0.7641\n",
      "2022-05-13 03:39:16,829 INFO: val Loss:0.185 | Acc:0.9415 | F1:0.6496\n"
     ]
    },
    {
     "name": "stdout",
     "output_type": "stream",
     "text": [
      "\n",
      "best epoch:42/loss:0.1707/f1:0.6648\n"
     ]
    },
    {
     "name": "stderr",
     "output_type": "stream",
     "text": [
      "100%|████████████████████████████████████████████████████████████████████████████████| 214/214 [01:51<00:00,  1.93it/s]\n",
      "2022-05-13 03:41:07,982 INFO: Epoch:[047/500]\n",
      "2022-05-13 03:41:07,982 INFO: Train Loss:0.199 | Acc:0.9454 | F1:0.7544\n",
      "2022-05-13 03:41:17,805 INFO: val Loss:0.171 | Acc:0.9544 | F1:0.7582\n",
      "2022-05-13 03:41:19,598 INFO: -----------------SAVE:47epoch----------------\n"
     ]
    },
    {
     "name": "stdout",
     "output_type": "stream",
     "text": [
      "\n",
      "best epoch:47/loss:0.1705/f1:0.7582\n"
     ]
    },
    {
     "name": "stderr",
     "output_type": "stream",
     "text": [
      "100%|████████████████████████████████████████████████████████████████████████████████| 214/214 [01:51<00:00,  1.92it/s]\n",
      "2022-05-13 03:43:11,321 INFO: Epoch:[048/500]\n",
      "2022-05-13 03:43:11,321 INFO: Train Loss:0.206 | Acc:0.9454 | F1:0.7564\n",
      "2022-05-13 03:43:21,065 INFO: val Loss:0.180 | Acc:0.9532 | F1:0.7455\n"
     ]
    },
    {
     "name": "stdout",
     "output_type": "stream",
     "text": [
      "\n",
      "best epoch:47/loss:0.1705/f1:0.7582\n"
     ]
    },
    {
     "name": "stderr",
     "output_type": "stream",
     "text": [
      "100%|████████████████████████████████████████████████████████████████████████████████| 214/214 [01:51<00:00,  1.92it/s]\n",
      "2022-05-13 03:45:12,245 INFO: Epoch:[049/500]\n",
      "2022-05-13 03:45:12,246 INFO: Train Loss:0.192 | Acc:0.9489 | F1:0.7673\n",
      "2022-05-13 03:45:22,059 INFO: val Loss:0.157 | Acc:0.9509 | F1:0.7230\n",
      "2022-05-13 03:45:23,816 INFO: -----------------SAVE:49epoch----------------\n"
     ]
    },
    {
     "name": "stdout",
     "output_type": "stream",
     "text": [
      "\n",
      "best epoch:49/loss:0.1569/f1:0.7230\n"
     ]
    },
    {
     "name": "stderr",
     "output_type": "stream",
     "text": [
      "100%|████████████████████████████████████████████████████████████████████████████████| 214/214 [01:51<00:00,  1.93it/s]\n",
      "2022-05-13 03:47:14,838 INFO: Epoch:[050/500]\n",
      "2022-05-13 03:47:14,838 INFO: Train Loss:0.178 | Acc:0.9518 | F1:0.8070\n",
      "2022-05-13 03:47:24,599 INFO: val Loss:0.153 | Acc:0.9520 | F1:0.7178\n",
      "2022-05-13 03:47:26,454 INFO: -----------------SAVE:50epoch----------------\n"
     ]
    },
    {
     "name": "stdout",
     "output_type": "stream",
     "text": [
      "\n",
      "best epoch:50/loss:0.1530/f1:0.7178\n"
     ]
    },
    {
     "name": "stderr",
     "output_type": "stream",
     "text": [
      "100%|████████████████████████████████████████████████████████████████████████████████| 214/214 [01:51<00:00,  1.93it/s]\n",
      "2022-05-13 03:49:17,516 INFO: Epoch:[051/500]\n",
      "2022-05-13 03:49:17,517 INFO: Train Loss:0.185 | Acc:0.9500 | F1:0.7913\n",
      "2022-05-13 03:49:27,296 INFO: val Loss:0.165 | Acc:0.9497 | F1:0.7203\n"
     ]
    },
    {
     "name": "stdout",
     "output_type": "stream",
     "text": [
      "\n",
      "best epoch:50/loss:0.1530/f1:0.7178\n"
     ]
    },
    {
     "name": "stderr",
     "output_type": "stream",
     "text": [
      "100%|████████████████████████████████████████████████████████████████████████████████| 214/214 [01:51<00:00,  1.93it/s]\n",
      "2022-05-13 03:51:18,332 INFO: Epoch:[052/500]\n",
      "2022-05-13 03:51:18,333 INFO: Train Loss:0.171 | Acc:0.9556 | F1:0.8050\n",
      "2022-05-13 03:51:28,092 INFO: val Loss:0.171 | Acc:0.9532 | F1:0.7486\n"
     ]
    },
    {
     "name": "stdout",
     "output_type": "stream",
     "text": [
      "\n",
      "best epoch:50/loss:0.1530/f1:0.7178\n"
     ]
    },
    {
     "name": "stderr",
     "output_type": "stream",
     "text": [
      "100%|████████████████████████████████████████████████████████████████████████████████| 214/214 [01:51<00:00,  1.93it/s]\n",
      "2022-05-13 03:53:19,222 INFO: Epoch:[053/500]\n",
      "2022-05-13 03:53:19,222 INFO: Train Loss:0.171 | Acc:0.9553 | F1:0.8066\n",
      "2022-05-13 03:53:28,974 INFO: val Loss:0.139 | Acc:0.9626 | F1:0.7702\n",
      "2022-05-13 03:53:30,671 INFO: -----------------SAVE:53epoch----------------\n"
     ]
    },
    {
     "name": "stdout",
     "output_type": "stream",
     "text": [
      "\n",
      "best epoch:53/loss:0.1390/f1:0.7702\n"
     ]
    },
    {
     "name": "stderr",
     "output_type": "stream",
     "text": [
      "100%|████████████████████████████████████████████████████████████████████████████████| 214/214 [01:52<00:00,  1.90it/s]\n",
      "2022-05-13 03:55:23,287 INFO: Epoch:[054/500]\n",
      "2022-05-13 03:55:23,287 INFO: Train Loss:0.160 | Acc:0.9550 | F1:0.8035\n",
      "2022-05-13 03:55:33,142 INFO: val Loss:0.148 | Acc:0.9602 | F1:0.7803\n"
     ]
    },
    {
     "name": "stdout",
     "output_type": "stream",
     "text": [
      "\n",
      "best epoch:53/loss:0.1390/f1:0.7702\n"
     ]
    },
    {
     "name": "stderr",
     "output_type": "stream",
     "text": [
      "100%|████████████████████████████████████████████████████████████████████████████████| 214/214 [01:53<00:00,  1.88it/s]\n",
      "2022-05-13 03:57:26,816 INFO: Epoch:[055/500]\n",
      "2022-05-13 03:57:26,816 INFO: Train Loss:0.158 | Acc:0.9556 | F1:0.8046\n",
      "2022-05-13 03:57:36,864 INFO: val Loss:0.154 | Acc:0.9602 | F1:0.7975\n"
     ]
    },
    {
     "name": "stdout",
     "output_type": "stream",
     "text": [
      "\n",
      "best epoch:53/loss:0.1390/f1:0.7702\n"
     ]
    },
    {
     "name": "stderr",
     "output_type": "stream",
     "text": [
      "100%|████████████████████████████████████████████████████████████████████████████████| 214/214 [01:53<00:00,  1.88it/s]\n",
      "2022-05-13 03:59:30,531 INFO: Epoch:[056/500]\n",
      "2022-05-13 03:59:30,531 INFO: Train Loss:0.179 | Acc:0.9527 | F1:0.7951\n",
      "2022-05-13 03:59:40,419 INFO: val Loss:0.157 | Acc:0.9567 | F1:0.7716\n"
     ]
    },
    {
     "name": "stdout",
     "output_type": "stream",
     "text": [
      "\n",
      "best epoch:53/loss:0.1390/f1:0.7702\n"
     ]
    },
    {
     "name": "stderr",
     "output_type": "stream",
     "text": [
      "100%|████████████████████████████████████████████████████████████████████████████████| 214/214 [01:51<00:00,  1.92it/s]\n",
      "2022-05-13 04:01:31,786 INFO: Epoch:[057/500]\n",
      "2022-05-13 04:01:31,786 INFO: Train Loss:0.166 | Acc:0.9591 | F1:0.8235\n",
      "2022-05-13 04:01:41,582 INFO: val Loss:0.150 | Acc:0.9567 | F1:0.7543\n"
     ]
    },
    {
     "name": "stdout",
     "output_type": "stream",
     "text": [
      "\n",
      "best epoch:53/loss:0.1390/f1:0.7702\n"
     ]
    },
    {
     "name": "stderr",
     "output_type": "stream",
     "text": [
      "100%|████████████████████████████████████████████████████████████████████████████████| 214/214 [01:50<00:00,  1.93it/s]\n",
      "2022-05-13 04:03:32,587 INFO: Epoch:[058/500]\n",
      "2022-05-13 04:03:32,587 INFO: Train Loss:0.153 | Acc:0.9591 | F1:0.8165\n",
      "2022-05-13 04:03:42,398 INFO: val Loss:0.146 | Acc:0.9649 | F1:0.8138\n"
     ]
    },
    {
     "name": "stdout",
     "output_type": "stream",
     "text": [
      "\n",
      "best epoch:53/loss:0.1390/f1:0.7702\n"
     ]
    },
    {
     "name": "stderr",
     "output_type": "stream",
     "text": [
      "100%|████████████████████████████████████████████████████████████████████████████████| 214/214 [01:53<00:00,  1.88it/s]\n",
      "2022-05-13 04:05:36,148 INFO: Epoch:[059/500]\n",
      "2022-05-13 04:05:36,149 INFO: Train Loss:0.147 | Acc:0.9600 | F1:0.8400\n",
      "2022-05-13 04:05:46,589 INFO: val Loss:0.193 | Acc:0.9532 | F1:0.7320\n"
     ]
    },
    {
     "name": "stdout",
     "output_type": "stream",
     "text": [
      "\n",
      "best epoch:53/loss:0.1390/f1:0.7702\n"
     ]
    },
    {
     "name": "stderr",
     "output_type": "stream",
     "text": [
      "100%|████████████████████████████████████████████████████████████████████████████████| 214/214 [01:52<00:00,  1.90it/s]\n",
      "2022-05-13 04:07:39,162 INFO: Epoch:[060/500]\n",
      "2022-05-13 04:07:39,162 INFO: Train Loss:0.152 | Acc:0.9594 | F1:0.8333\n",
      "2022-05-13 04:07:49,004 INFO: val Loss:0.156 | Acc:0.9556 | F1:0.7494\n"
     ]
    },
    {
     "name": "stdout",
     "output_type": "stream",
     "text": [
      "\n",
      "best epoch:53/loss:0.1390/f1:0.7702\n"
     ]
    },
    {
     "name": "stderr",
     "output_type": "stream",
     "text": [
      "100%|████████████████████████████████████████████████████████████████████████████████| 214/214 [01:52<00:00,  1.90it/s]\n",
      "2022-05-13 04:09:41,557 INFO: Epoch:[061/500]\n",
      "2022-05-13 04:09:41,558 INFO: Train Loss:0.146 | Acc:0.9611 | F1:0.8458\n",
      "2022-05-13 04:09:51,371 INFO: val Loss:0.172 | Acc:0.9532 | F1:0.7281\n"
     ]
    },
    {
     "name": "stdout",
     "output_type": "stream",
     "text": [
      "\n",
      "best epoch:53/loss:0.1390/f1:0.7702\n"
     ]
    },
    {
     "name": "stderr",
     "output_type": "stream",
     "text": [
      "100%|████████████████████████████████████████████████████████████████████████████████| 214/214 [01:52<00:00,  1.90it/s]\n",
      "2022-05-13 04:11:44,122 INFO: Epoch:[062/500]\n",
      "2022-05-13 04:11:44,122 INFO: Train Loss:0.156 | Acc:0.9547 | F1:0.8208\n",
      "2022-05-13 04:11:53,925 INFO: val Loss:0.156 | Acc:0.9614 | F1:0.8051\n"
     ]
    },
    {
     "name": "stdout",
     "output_type": "stream",
     "text": [
      "\n",
      "best epoch:53/loss:0.1390/f1:0.7702\n"
     ]
    },
    {
     "name": "stderr",
     "output_type": "stream",
     "text": [
      "100%|████████████████████████████████████████████████████████████████████████████████| 214/214 [01:50<00:00,  1.93it/s]\n",
      "2022-05-13 04:13:44,755 INFO: Epoch:[063/500]\n",
      "2022-05-13 04:13:44,755 INFO: Train Loss:0.153 | Acc:0.9585 | F1:0.8272\n",
      "2022-05-13 04:13:54,489 INFO: val Loss:0.181 | Acc:0.9520 | F1:0.7605\n"
     ]
    },
    {
     "name": "stdout",
     "output_type": "stream",
     "text": [
      "\n",
      "best epoch:53/loss:0.1390/f1:0.7702\n"
     ]
    },
    {
     "name": "stderr",
     "output_type": "stream",
     "text": [
      "100%|████████████████████████████████████████████████████████████████████████████████| 214/214 [01:51<00:00,  1.92it/s]\n",
      "2022-05-13 04:15:45,686 INFO: Epoch:[064/500]\n",
      "2022-05-13 04:15:45,687 INFO: Train Loss:0.157 | Acc:0.9597 | F1:0.8340\n",
      "2022-05-13 04:15:55,418 INFO: val Loss:0.176 | Acc:0.9556 | F1:0.7467\n"
     ]
    },
    {
     "name": "stdout",
     "output_type": "stream",
     "text": [
      "\n",
      "best epoch:53/loss:0.1390/f1:0.7702\n"
     ]
    },
    {
     "name": "stderr",
     "output_type": "stream",
     "text": [
      "100%|████████████████████████████████████████████████████████████████████████████████| 214/214 [01:50<00:00,  1.93it/s]\n",
      "2022-05-13 04:17:46,159 INFO: Epoch:[065/500]\n",
      "2022-05-13 04:17:46,160 INFO: Train Loss:0.153 | Acc:0.9582 | F1:0.8229\n",
      "2022-05-13 04:17:55,936 INFO: val Loss:0.171 | Acc:0.9532 | F1:0.7949\n"
     ]
    },
    {
     "name": "stdout",
     "output_type": "stream",
     "text": [
      "\n",
      "best epoch:53/loss:0.1390/f1:0.7702\n"
     ]
    },
    {
     "name": "stderr",
     "output_type": "stream",
     "text": [
      "100%|████████████████████████████████████████████████████████████████████████████████| 214/214 [01:51<00:00,  1.92it/s]\n",
      "2022-05-13 04:19:47,124 INFO: Epoch:[066/500]\n",
      "2022-05-13 04:19:47,125 INFO: Train Loss:0.153 | Acc:0.9597 | F1:0.8391\n",
      "2022-05-13 04:19:56,935 INFO: val Loss:0.113 | Acc:0.9614 | F1:0.7909\n",
      "2022-05-13 04:19:58,665 INFO: -----------------SAVE:66epoch----------------\n"
     ]
    },
    {
     "name": "stdout",
     "output_type": "stream",
     "text": [
      "\n",
      "best epoch:66/loss:0.1132/f1:0.7909\n"
     ]
    },
    {
     "name": "stderr",
     "output_type": "stream",
     "text": [
      "100%|████████████████████████████████████████████████████████████████████████████████| 214/214 [01:51<00:00,  1.92it/s]\n",
      "2022-05-13 04:21:50,003 INFO: Epoch:[067/500]\n",
      "2022-05-13 04:21:50,004 INFO: Train Loss:0.149 | Acc:0.9585 | F1:0.8241\n",
      "2022-05-13 04:21:59,824 INFO: val Loss:0.160 | Acc:0.9614 | F1:0.7833\n"
     ]
    },
    {
     "name": "stdout",
     "output_type": "stream",
     "text": [
      "\n",
      "best epoch:66/loss:0.1132/f1:0.7909\n"
     ]
    },
    {
     "name": "stderr",
     "output_type": "stream",
     "text": [
      "100%|████████████████████████████████████████████████████████████████████████████████| 214/214 [01:51<00:00,  1.92it/s]\n",
      "2022-05-13 04:23:51,002 INFO: Epoch:[068/500]\n",
      "2022-05-13 04:23:51,002 INFO: Train Loss:0.138 | Acc:0.9655 | F1:0.8579\n",
      "2022-05-13 04:24:00,779 INFO: val Loss:0.137 | Acc:0.9637 | F1:0.7813\n"
     ]
    },
    {
     "name": "stdout",
     "output_type": "stream",
     "text": [
      "\n",
      "best epoch:66/loss:0.1132/f1:0.7909\n"
     ]
    },
    {
     "name": "stderr",
     "output_type": "stream",
     "text": [
      "100%|████████████████████████████████████████████████████████████████████████████████| 214/214 [01:50<00:00,  1.93it/s]\n",
      "2022-05-13 04:25:51,661 INFO: Epoch:[069/500]\n",
      "2022-05-13 04:25:51,662 INFO: Train Loss:0.147 | Acc:0.9597 | F1:0.8348\n",
      "2022-05-13 04:26:01,431 INFO: val Loss:0.115 | Acc:0.9649 | F1:0.7955\n"
     ]
    },
    {
     "name": "stdout",
     "output_type": "stream",
     "text": [
      "\n",
      "best epoch:66/loss:0.1132/f1:0.7909\n"
     ]
    },
    {
     "name": "stderr",
     "output_type": "stream",
     "text": [
      "100%|████████████████████████████████████████████████████████████████████████████████| 214/214 [01:51<00:00,  1.93it/s]\n",
      "2022-05-13 04:27:52,447 INFO: Epoch:[070/500]\n",
      "2022-05-13 04:27:52,448 INFO: Train Loss:0.143 | Acc:0.9629 | F1:0.8524\n",
      "2022-05-13 04:28:02,222 INFO: val Loss:0.159 | Acc:0.9567 | F1:0.7583\n"
     ]
    },
    {
     "name": "stdout",
     "output_type": "stream",
     "text": [
      "\n",
      "best epoch:66/loss:0.1132/f1:0.7909\n"
     ]
    },
    {
     "name": "stderr",
     "output_type": "stream",
     "text": [
      "100%|████████████████████████████████████████████████████████████████████████████████| 214/214 [01:50<00:00,  1.93it/s]\n",
      "2022-05-13 04:29:52,994 INFO: Epoch:[071/500]\n",
      "2022-05-13 04:29:52,995 INFO: Train Loss:0.142 | Acc:0.9608 | F1:0.8371\n",
      "2022-05-13 04:30:02,942 INFO: val Loss:0.171 | Acc:0.9579 | F1:0.7584\n"
     ]
    },
    {
     "name": "stdout",
     "output_type": "stream",
     "text": [
      "\n",
      "best epoch:66/loss:0.1132/f1:0.7909\n"
     ]
    },
    {
     "name": "stderr",
     "output_type": "stream",
     "text": [
      "100%|████████████████████████████████████████████████████████████████████████████████| 214/214 [01:51<00:00,  1.92it/s]\n",
      "2022-05-13 04:31:54,599 INFO: Epoch:[072/500]\n",
      "2022-05-13 04:31:54,600 INFO: Train Loss:0.131 | Acc:0.9623 | F1:0.8628\n",
      "2022-05-13 04:32:04,402 INFO: val Loss:0.129 | Acc:0.9602 | F1:0.7854\n"
     ]
    },
    {
     "name": "stdout",
     "output_type": "stream",
     "text": [
      "\n",
      "best epoch:66/loss:0.1132/f1:0.7909\n"
     ]
    },
    {
     "name": "stderr",
     "output_type": "stream",
     "text": [
      "100%|████████████████████████████████████████████████████████████████████████████████| 214/214 [01:50<00:00,  1.93it/s]\n",
      "2022-05-13 04:33:55,224 INFO: Epoch:[073/500]\n",
      "2022-05-13 04:33:55,224 INFO: Train Loss:0.118 | Acc:0.9670 | F1:0.8660\n",
      "2022-05-13 04:34:04,999 INFO: val Loss:0.145 | Acc:0.9649 | F1:0.8047\n"
     ]
    },
    {
     "name": "stdout",
     "output_type": "stream",
     "text": [
      "\n",
      "best epoch:66/loss:0.1132/f1:0.7909\n"
     ]
    },
    {
     "name": "stderr",
     "output_type": "stream",
     "text": [
      "100%|████████████████████████████████████████████████████████████████████████████████| 214/214 [01:50<00:00,  1.93it/s]\n",
      "2022-05-13 04:35:55,791 INFO: Epoch:[074/500]\n",
      "2022-05-13 04:35:55,792 INFO: Train Loss:0.140 | Acc:0.9646 | F1:0.8599\n",
      "2022-05-13 04:36:05,604 INFO: val Loss:0.119 | Acc:0.9579 | F1:0.7673\n"
     ]
    },
    {
     "name": "stdout",
     "output_type": "stream",
     "text": [
      "\n",
      "best epoch:66/loss:0.1132/f1:0.7909\n"
     ]
    },
    {
     "name": "stderr",
     "output_type": "stream",
     "text": [
      "100%|████████████████████████████████████████████████████████████████████████████████| 214/214 [01:50<00:00,  1.93it/s]\n",
      "2022-05-13 04:37:56,224 INFO: Epoch:[075/500]\n",
      "2022-05-13 04:37:56,224 INFO: Train Loss:0.148 | Acc:0.9629 | F1:0.8563\n",
      "2022-05-13 04:38:06,046 INFO: val Loss:0.170 | Acc:0.9579 | F1:0.7584\n"
     ]
    },
    {
     "name": "stdout",
     "output_type": "stream",
     "text": [
      "\n",
      "best epoch:66/loss:0.1132/f1:0.7909\n"
     ]
    },
    {
     "name": "stderr",
     "output_type": "stream",
     "text": [
      "100%|████████████████████████████████████████████████████████████████████████████████| 214/214 [01:49<00:00,  1.95it/s]\n",
      "2022-05-13 04:39:55,824 INFO: Epoch:[076/500]\n",
      "2022-05-13 04:39:55,824 INFO: Train Loss:0.134 | Acc:0.9638 | F1:0.8567\n",
      "2022-05-13 04:40:05,464 INFO: val Loss:0.156 | Acc:0.9673 | F1:0.8056\n"
     ]
    },
    {
     "name": "stdout",
     "output_type": "stream",
     "text": [
      "\n",
      "best epoch:66/loss:0.1132/f1:0.7909\n"
     ]
    },
    {
     "name": "stderr",
     "output_type": "stream",
     "text": [
      "100%|████████████████████████████████████████████████████████████████████████████████| 214/214 [01:49<00:00,  1.95it/s]\n",
      "2022-05-13 04:41:55,254 INFO: Epoch:[077/500]\n",
      "2022-05-13 04:41:55,255 INFO: Train Loss:0.148 | Acc:0.9638 | F1:0.8548\n",
      "2022-05-13 04:42:04,887 INFO: val Loss:0.136 | Acc:0.9661 | F1:0.7955\n"
     ]
    },
    {
     "name": "stdout",
     "output_type": "stream",
     "text": [
      "\n",
      "best epoch:66/loss:0.1132/f1:0.7909\n"
     ]
    },
    {
     "name": "stderr",
     "output_type": "stream",
     "text": [
      "100%|████████████████████████████████████████████████████████████████████████████████| 214/214 [01:49<00:00,  1.96it/s]\n",
      "2022-05-13 04:43:54,335 INFO: Epoch:[078/500]\n",
      "2022-05-13 04:43:54,335 INFO: Train Loss:0.137 | Acc:0.9617 | F1:0.8582\n",
      "2022-05-13 04:44:04,024 INFO: val Loss:0.178 | Acc:0.9626 | F1:0.7934\n"
     ]
    },
    {
     "name": "stdout",
     "output_type": "stream",
     "text": [
      "\n",
      "best epoch:66/loss:0.1132/f1:0.7909\n"
     ]
    },
    {
     "name": "stderr",
     "output_type": "stream",
     "text": [
      "100%|████████████████████████████████████████████████████████████████████████████████| 214/214 [01:49<00:00,  1.95it/s]\n",
      "2022-05-13 04:45:53,771 INFO: Epoch:[079/500]\n",
      "2022-05-13 04:45:53,771 INFO: Train Loss:0.126 | Acc:0.9652 | F1:0.8661\n",
      "2022-05-13 04:46:03,404 INFO: val Loss:0.120 | Acc:0.9649 | F1:0.8230\n"
     ]
    },
    {
     "name": "stdout",
     "output_type": "stream",
     "text": [
      "\n",
      "best epoch:66/loss:0.1132/f1:0.7909\n"
     ]
    },
    {
     "name": "stderr",
     "output_type": "stream",
     "text": [
      "100%|████████████████████████████████████████████████████████████████████████████████| 214/214 [01:49<00:00,  1.95it/s]\n",
      "2022-05-13 04:47:52,895 INFO: Epoch:[080/500]\n",
      "2022-05-13 04:47:52,896 INFO: Train Loss:0.125 | Acc:0.9664 | F1:0.8750\n",
      "2022-05-13 04:48:02,546 INFO: val Loss:0.126 | Acc:0.9602 | F1:0.7699\n"
     ]
    },
    {
     "name": "stdout",
     "output_type": "stream",
     "text": [
      "\n",
      "best epoch:66/loss:0.1132/f1:0.7909\n"
     ]
    },
    {
     "name": "stderr",
     "output_type": "stream",
     "text": [
      "100%|████████████████████████████████████████████████████████████████████████████████| 214/214 [01:49<00:00,  1.95it/s]\n",
      "2022-05-13 04:49:52,401 INFO: Epoch:[081/500]\n",
      "2022-05-13 04:49:52,401 INFO: Train Loss:0.117 | Acc:0.9681 | F1:0.8621\n",
      "2022-05-13 04:50:02,069 INFO: val Loss:0.171 | Acc:0.9556 | F1:0.8034\n"
     ]
    },
    {
     "name": "stdout",
     "output_type": "stream",
     "text": [
      "\n",
      "best epoch:66/loss:0.1132/f1:0.7909\n"
     ]
    },
    {
     "name": "stderr",
     "output_type": "stream",
     "text": [
      "100%|████████████████████████████████████████████████████████████████████████████████| 214/214 [01:49<00:00,  1.95it/s]\n",
      "2022-05-13 04:51:51,930 INFO: Epoch:[082/500]\n",
      "2022-05-13 04:51:51,931 INFO: Train Loss:0.142 | Acc:0.9623 | F1:0.8601\n",
      "2022-05-13 04:52:01,650 INFO: val Loss:0.183 | Acc:0.9439 | F1:0.7031\n"
     ]
    },
    {
     "name": "stdout",
     "output_type": "stream",
     "text": [
      "\n",
      "best epoch:66/loss:0.1132/f1:0.7909\n"
     ]
    },
    {
     "name": "stderr",
     "output_type": "stream",
     "text": [
      "100%|████████████████████████████████████████████████████████████████████████████████| 214/214 [01:49<00:00,  1.95it/s]\n",
      "2022-05-13 04:53:51,338 INFO: Epoch:[083/500]\n",
      "2022-05-13 04:53:51,338 INFO: Train Loss:0.132 | Acc:0.9649 | F1:0.8565\n",
      "2022-05-13 04:54:01,051 INFO: val Loss:0.137 | Acc:0.9579 | F1:0.7962\n"
     ]
    },
    {
     "name": "stdout",
     "output_type": "stream",
     "text": [
      "\n",
      "best epoch:66/loss:0.1132/f1:0.7909\n"
     ]
    },
    {
     "name": "stderr",
     "output_type": "stream",
     "text": [
      "100%|████████████████████████████████████████████████████████████████████████████████| 214/214 [01:49<00:00,  1.95it/s]\n",
      "2022-05-13 04:55:50,823 INFO: Epoch:[084/500]\n",
      "2022-05-13 04:55:50,823 INFO: Train Loss:0.144 | Acc:0.9626 | F1:0.8590\n",
      "2022-05-13 04:56:00,510 INFO: val Loss:0.143 | Acc:0.9579 | F1:0.7669\n"
     ]
    },
    {
     "name": "stdout",
     "output_type": "stream",
     "text": [
      "\n",
      "best epoch:66/loss:0.1132/f1:0.7909\n"
     ]
    },
    {
     "name": "stderr",
     "output_type": "stream",
     "text": [
      "100%|████████████████████████████████████████████████████████████████████████████████| 214/214 [01:49<00:00,  1.95it/s]\n",
      "2022-05-13 04:57:50,225 INFO: Epoch:[085/500]\n",
      "2022-05-13 04:57:50,225 INFO: Train Loss:0.144 | Acc:0.9605 | F1:0.8365\n",
      "2022-05-13 04:57:59,846 INFO: val Loss:0.136 | Acc:0.9614 | F1:0.8022\n"
     ]
    },
    {
     "name": "stdout",
     "output_type": "stream",
     "text": [
      "\n",
      "best epoch:66/loss:0.1132/f1:0.7909\n"
     ]
    },
    {
     "name": "stderr",
     "output_type": "stream",
     "text": [
      "100%|████████████████████████████████████████████████████████████████████████████████| 214/214 [01:49<00:00,  1.95it/s]\n",
      "2022-05-13 04:59:49,610 INFO: Epoch:[086/500]\n",
      "2022-05-13 04:59:49,610 INFO: Train Loss:0.138 | Acc:0.9629 | F1:0.8516\n",
      "2022-05-13 04:59:59,301 INFO: val Loss:0.182 | Acc:0.9544 | F1:0.8095\n"
     ]
    },
    {
     "name": "stdout",
     "output_type": "stream",
     "text": [
      "\n",
      "best epoch:66/loss:0.1132/f1:0.7909\n"
     ]
    },
    {
     "name": "stderr",
     "output_type": "stream",
     "text": [
      "100%|████████████████████████████████████████████████████████████████████████████████| 214/214 [01:49<00:00,  1.95it/s]\n",
      "2022-05-13 05:01:49,154 INFO: Epoch:[087/500]\n",
      "2022-05-13 05:01:49,154 INFO: Train Loss:0.148 | Acc:0.9643 | F1:0.8649\n",
      "2022-05-13 05:01:58,861 INFO: val Loss:0.163 | Acc:0.9614 | F1:0.8734\n"
     ]
    },
    {
     "name": "stdout",
     "output_type": "stream",
     "text": [
      "\n",
      "best epoch:66/loss:0.1132/f1:0.7909\n"
     ]
    },
    {
     "name": "stderr",
     "output_type": "stream",
     "text": [
      "100%|████████████████████████████████████████████████████████████████████████████████| 214/214 [01:50<00:00,  1.94it/s]\n",
      "2022-05-13 05:03:49,335 INFO: Epoch:[088/500]\n",
      "2022-05-13 05:03:49,336 INFO: Train Loss:0.111 | Acc:0.9696 | F1:0.8832\n",
      "2022-05-13 05:03:59,116 INFO: val Loss:0.155 | Acc:0.9474 | F1:0.8215\n"
     ]
    },
    {
     "name": "stdout",
     "output_type": "stream",
     "text": [
      "\n",
      "best epoch:66/loss:0.1132/f1:0.7909\n"
     ]
    },
    {
     "name": "stderr",
     "output_type": "stream",
     "text": [
      "100%|████████████████████████████████████████████████████████████████████████████████| 214/214 [01:49<00:00,  1.95it/s]\n",
      "2022-05-13 05:05:48,987 INFO: Epoch:[089/500]\n",
      "2022-05-13 05:05:48,987 INFO: Train Loss:0.120 | Acc:0.9673 | F1:0.8649\n",
      "2022-05-13 05:05:58,598 INFO: val Loss:0.134 | Acc:0.9637 | F1:0.8098\n"
     ]
    },
    {
     "name": "stdout",
     "output_type": "stream",
     "text": [
      "\n",
      "best epoch:66/loss:0.1132/f1:0.7909\n"
     ]
    },
    {
     "name": "stderr",
     "output_type": "stream",
     "text": [
      "100%|████████████████████████████████████████████████████████████████████████████████| 214/214 [01:49<00:00,  1.95it/s]\n",
      "2022-05-13 05:07:48,440 INFO: Epoch:[090/500]\n",
      "2022-05-13 05:07:48,440 INFO: Train Loss:0.137 | Acc:0.9649 | F1:0.8703\n",
      "2022-05-13 05:07:58,047 INFO: val Loss:0.177 | Acc:0.9532 | F1:0.7647\n"
     ]
    },
    {
     "name": "stdout",
     "output_type": "stream",
     "text": [
      "\n",
      "best epoch:66/loss:0.1132/f1:0.7909\n"
     ]
    },
    {
     "name": "stderr",
     "output_type": "stream",
     "text": [
      "100%|████████████████████████████████████████████████████████████████████████████████| 214/214 [01:50<00:00,  1.94it/s]\n",
      "2022-05-13 05:09:48,087 INFO: Epoch:[091/500]\n",
      "2022-05-13 05:09:48,088 INFO: Train Loss:0.120 | Acc:0.9661 | F1:0.8677\n",
      "2022-05-13 05:09:57,755 INFO: val Loss:0.150 | Acc:0.9591 | F1:0.7859\n"
     ]
    },
    {
     "name": "stdout",
     "output_type": "stream",
     "text": [
      "\n",
      "best epoch:66/loss:0.1132/f1:0.7909\n"
     ]
    },
    {
     "name": "stderr",
     "output_type": "stream",
     "text": [
      "100%|████████████████████████████████████████████████████████████████████████████████| 214/214 [01:49<00:00,  1.95it/s]\n",
      "2022-05-13 05:11:47,753 INFO: Epoch:[092/500]\n",
      "2022-05-13 05:11:47,753 INFO: Train Loss:0.109 | Acc:0.9714 | F1:0.8920\n",
      "2022-05-13 05:11:57,417 INFO: val Loss:0.131 | Acc:0.9614 | F1:0.7877\n"
     ]
    },
    {
     "name": "stdout",
     "output_type": "stream",
     "text": [
      "\n",
      "best epoch:66/loss:0.1132/f1:0.7909\n"
     ]
    },
    {
     "name": "stderr",
     "output_type": "stream",
     "text": [
      "100%|████████████████████████████████████████████████████████████████████████████████| 214/214 [01:50<00:00,  1.94it/s]\n",
      "2022-05-13 05:13:47,512 INFO: Epoch:[093/500]\n",
      "2022-05-13 05:13:47,512 INFO: Train Loss:0.138 | Acc:0.9649 | F1:0.8620\n",
      "2022-05-13 05:13:57,132 INFO: val Loss:0.180 | Acc:0.9509 | F1:0.7645\n"
     ]
    },
    {
     "name": "stdout",
     "output_type": "stream",
     "text": [
      "\n",
      "best epoch:66/loss:0.1132/f1:0.7909\n"
     ]
    },
    {
     "name": "stderr",
     "output_type": "stream",
     "text": [
      "100%|████████████████████████████████████████████████████████████████████████████████| 214/214 [01:50<00:00,  1.94it/s]\n",
      "2022-05-13 05:15:47,184 INFO: Epoch:[094/500]\n",
      "2022-05-13 05:15:47,184 INFO: Train Loss:0.112 | Acc:0.9676 | F1:0.8798\n",
      "2022-05-13 05:15:56,786 INFO: val Loss:0.155 | Acc:0.9684 | F1:0.8147\n"
     ]
    },
    {
     "name": "stdout",
     "output_type": "stream",
     "text": [
      "\n",
      "best epoch:66/loss:0.1132/f1:0.7909\n"
     ]
    },
    {
     "name": "stderr",
     "output_type": "stream",
     "text": [
      "100%|████████████████████████████████████████████████████████████████████████████████| 214/214 [01:49<00:00,  1.95it/s]\n",
      "2022-05-13 05:17:46,347 INFO: Epoch:[095/500]\n",
      "2022-05-13 05:17:46,348 INFO: Train Loss:0.126 | Acc:0.9641 | F1:0.8669\n",
      "2022-05-13 05:17:55,992 INFO: val Loss:0.162 | Acc:0.9579 | F1:0.7705\n"
     ]
    },
    {
     "name": "stdout",
     "output_type": "stream",
     "text": [
      "\n",
      "best epoch:66/loss:0.1132/f1:0.7909\n"
     ]
    },
    {
     "name": "stderr",
     "output_type": "stream",
     "text": [
      "100%|████████████████████████████████████████████████████████████████████████████████| 214/214 [01:49<00:00,  1.95it/s]\n",
      "2022-05-13 05:19:45,769 INFO: Epoch:[096/500]\n",
      "2022-05-13 05:19:45,769 INFO: Train Loss:0.131 | Acc:0.9638 | F1:0.8654\n",
      "2022-05-13 05:19:55,406 INFO: val Loss:0.147 | Acc:0.9696 | F1:0.8228\n"
     ]
    },
    {
     "name": "stdout",
     "output_type": "stream",
     "text": [
      "\n",
      "best epoch:66/loss:0.1132/f1:0.7909\n"
     ]
    },
    {
     "name": "stderr",
     "output_type": "stream",
     "text": [
      "100%|████████████████████████████████████████████████████████████████████████████████| 214/214 [01:49<00:00,  1.95it/s]\n",
      "2022-05-13 05:21:45,246 INFO: Epoch:[097/500]\n",
      "2022-05-13 05:21:45,247 INFO: Train Loss:0.126 | Acc:0.9693 | F1:0.8754\n",
      "2022-05-13 05:21:54,917 INFO: val Loss:0.127 | Acc:0.9591 | F1:0.7886\n"
     ]
    },
    {
     "name": "stdout",
     "output_type": "stream",
     "text": [
      "\n",
      "best epoch:66/loss:0.1132/f1:0.7909\n"
     ]
    },
    {
     "name": "stderr",
     "output_type": "stream",
     "text": [
      "100%|████████████████████████████████████████████████████████████████████████████████| 214/214 [01:49<00:00,  1.95it/s]\n",
      "2022-05-13 05:23:44,672 INFO: Epoch:[098/500]\n",
      "2022-05-13 05:23:44,672 INFO: Train Loss:0.114 | Acc:0.9696 | F1:0.8870\n",
      "2022-05-13 05:23:54,312 INFO: val Loss:0.179 | Acc:0.9579 | F1:0.7901\n"
     ]
    },
    {
     "name": "stdout",
     "output_type": "stream",
     "text": [
      "\n",
      "best epoch:66/loss:0.1132/f1:0.7909\n"
     ]
    },
    {
     "name": "stderr",
     "output_type": "stream",
     "text": [
      "100%|████████████████████████████████████████████████████████████████████████████████| 214/214 [01:49<00:00,  1.95it/s]\n",
      "2022-05-13 05:25:43,886 INFO: Epoch:[099/500]\n",
      "2022-05-13 05:25:43,886 INFO: Train Loss:0.124 | Acc:0.9670 | F1:0.8846\n",
      "2022-05-13 05:25:53,551 INFO: val Loss:0.120 | Acc:0.9637 | F1:0.8147\n"
     ]
    },
    {
     "name": "stdout",
     "output_type": "stream",
     "text": [
      "\n",
      "best epoch:66/loss:0.1132/f1:0.7909\n"
     ]
    },
    {
     "name": "stderr",
     "output_type": "stream",
     "text": [
      "100%|████████████████████████████████████████████████████████████████████████████████| 214/214 [01:49<00:00,  1.95it/s]\n",
      "2022-05-13 05:27:43,344 INFO: Epoch:[100/500]\n",
      "2022-05-13 05:27:43,344 INFO: Train Loss:0.110 | Acc:0.9681 | F1:0.8803\n",
      "2022-05-13 05:27:53,016 INFO: val Loss:0.127 | Acc:0.9649 | F1:0.8373\n"
     ]
    },
    {
     "name": "stdout",
     "output_type": "stream",
     "text": [
      "\n",
      "best epoch:66/loss:0.1132/f1:0.7909\n"
     ]
    },
    {
     "name": "stderr",
     "output_type": "stream",
     "text": [
      "100%|████████████████████████████████████████████████████████████████████████████████| 214/214 [01:49<00:00,  1.95it/s]\n",
      "2022-05-13 05:29:42,884 INFO: Epoch:[101/500]\n",
      "2022-05-13 05:29:42,885 INFO: Train Loss:0.124 | Acc:0.9679 | F1:0.8916\n",
      "2022-05-13 05:29:52,499 INFO: val Loss:0.183 | Acc:0.9532 | F1:0.7635\n"
     ]
    },
    {
     "name": "stdout",
     "output_type": "stream",
     "text": [
      "\n",
      "best epoch:66/loss:0.1132/f1:0.7909\n"
     ]
    },
    {
     "name": "stderr",
     "output_type": "stream",
     "text": [
      "100%|████████████████████████████████████████████████████████████████████████████████| 214/214 [01:49<00:00,  1.95it/s]\n",
      "2022-05-13 05:31:42,470 INFO: Epoch:[102/500]\n",
      "2022-05-13 05:31:42,470 INFO: Train Loss:0.126 | Acc:0.9687 | F1:0.8838\n",
      "2022-05-13 05:31:52,088 INFO: val Loss:0.145 | Acc:0.9591 | F1:0.8132\n"
     ]
    },
    {
     "name": "stdout",
     "output_type": "stream",
     "text": [
      "\n",
      "best epoch:66/loss:0.1132/f1:0.7909\n"
     ]
    },
    {
     "name": "stderr",
     "output_type": "stream",
     "text": [
      "100%|████████████████████████████████████████████████████████████████████████████████| 214/214 [01:49<00:00,  1.95it/s]\n",
      "2022-05-13 05:33:41,709 INFO: Epoch:[103/500]\n",
      "2022-05-13 05:33:41,709 INFO: Train Loss:0.105 | Acc:0.9717 | F1:0.9045\n",
      "2022-05-13 05:33:51,342 INFO: val Loss:0.200 | Acc:0.9485 | F1:0.7786\n"
     ]
    },
    {
     "name": "stdout",
     "output_type": "stream",
     "text": [
      "\n",
      "best epoch:66/loss:0.1132/f1:0.7909\n"
     ]
    },
    {
     "name": "stderr",
     "output_type": "stream",
     "text": [
      "100%|████████████████████████████████████████████████████████████████████████████████| 214/214 [01:49<00:00,  1.95it/s]\n",
      "2022-05-13 05:35:41,257 INFO: Epoch:[104/500]\n",
      "2022-05-13 05:35:41,258 INFO: Train Loss:0.108 | Acc:0.9681 | F1:0.8734\n",
      "2022-05-13 05:35:50,875 INFO: val Loss:0.116 | Acc:0.9626 | F1:0.7767\n"
     ]
    },
    {
     "name": "stdout",
     "output_type": "stream",
     "text": [
      "\n",
      "best epoch:66/loss:0.1132/f1:0.7909\n"
     ]
    },
    {
     "name": "stderr",
     "output_type": "stream",
     "text": [
      "100%|████████████████████████████████████████████████████████████████████████████████| 214/214 [01:49<00:00,  1.95it/s]\n",
      "2022-05-13 05:37:40,578 INFO: Epoch:[105/500]\n",
      "2022-05-13 05:37:40,578 INFO: Train Loss:0.127 | Acc:0.9667 | F1:0.8635\n",
      "2022-05-13 05:37:50,212 INFO: val Loss:0.127 | Acc:0.9673 | F1:0.8263\n"
     ]
    },
    {
     "name": "stdout",
     "output_type": "stream",
     "text": [
      "\n",
      "best epoch:66/loss:0.1132/f1:0.7909\n"
     ]
    },
    {
     "name": "stderr",
     "output_type": "stream",
     "text": [
      "100%|████████████████████████████████████████████████████████████████████████████████| 214/214 [01:50<00:00,  1.94it/s]\n",
      "2022-05-13 05:39:40,262 INFO: Epoch:[106/500]\n",
      "2022-05-13 05:39:40,263 INFO: Train Loss:0.125 | Acc:0.9667 | F1:0.8756\n",
      "2022-05-13 05:39:49,903 INFO: val Loss:0.133 | Acc:0.9614 | F1:0.7773\n"
     ]
    },
    {
     "name": "stdout",
     "output_type": "stream",
     "text": [
      "\n",
      "best epoch:66/loss:0.1132/f1:0.7909\n"
     ]
    },
    {
     "name": "stderr",
     "output_type": "stream",
     "text": [
      "100%|████████████████████████████████████████████████████████████████████████████████| 214/214 [01:49<00:00,  1.95it/s]\n",
      "2022-05-13 05:41:39,583 INFO: Epoch:[107/500]\n",
      "2022-05-13 05:41:39,584 INFO: Train Loss:0.120 | Acc:0.9684 | F1:0.8752\n",
      "2022-05-13 05:41:49,232 INFO: val Loss:0.119 | Acc:0.9719 | F1:0.8428\n"
     ]
    },
    {
     "name": "stdout",
     "output_type": "stream",
     "text": [
      "\n",
      "best epoch:66/loss:0.1132/f1:0.7909\n"
     ]
    },
    {
     "name": "stderr",
     "output_type": "stream",
     "text": [
      "100%|████████████████████████████████████████████████████████████████████████████████| 214/214 [01:49<00:00,  1.95it/s]\n",
      "2022-05-13 05:43:39,080 INFO: Epoch:[108/500]\n",
      "2022-05-13 05:43:39,080 INFO: Train Loss:0.119 | Acc:0.9714 | F1:0.8970\n",
      "2022-05-13 05:43:48,740 INFO: val Loss:0.129 | Acc:0.9696 | F1:0.8297\n"
     ]
    },
    {
     "name": "stdout",
     "output_type": "stream",
     "text": [
      "\n",
      "best epoch:66/loss:0.1132/f1:0.7909\n"
     ]
    },
    {
     "name": "stderr",
     "output_type": "stream",
     "text": [
      "100%|████████████████████████████████████████████████████████████████████████████████| 214/214 [01:50<00:00,  1.94it/s]\n",
      "2022-05-13 05:45:38,774 INFO: Epoch:[109/500]\n",
      "2022-05-13 05:45:38,775 INFO: Train Loss:0.124 | Acc:0.9661 | F1:0.8685\n",
      "2022-05-13 05:45:48,393 INFO: val Loss:0.157 | Acc:0.9661 | F1:0.8095\n"
     ]
    },
    {
     "name": "stdout",
     "output_type": "stream",
     "text": [
      "\n",
      "best epoch:66/loss:0.1132/f1:0.7909\n"
     ]
    },
    {
     "name": "stderr",
     "output_type": "stream",
     "text": [
      "100%|████████████████████████████████████████████████████████████████████████████████| 214/214 [01:49<00:00,  1.95it/s]\n",
      "2022-05-13 05:47:38,347 INFO: Epoch:[110/500]\n",
      "2022-05-13 05:47:38,347 INFO: Train Loss:0.112 | Acc:0.9711 | F1:0.8960\n",
      "2022-05-13 05:47:47,950 INFO: val Loss:0.172 | Acc:0.9532 | F1:0.7706\n"
     ]
    },
    {
     "name": "stdout",
     "output_type": "stream",
     "text": [
      "\n",
      "best epoch:66/loss:0.1132/f1:0.7909\n"
     ]
    },
    {
     "name": "stderr",
     "output_type": "stream",
     "text": [
      "100%|████████████████████████████████████████████████████████████████████████████████| 214/214 [01:50<00:00,  1.94it/s]\n",
      "2022-05-13 05:49:38,012 INFO: Epoch:[111/500]\n",
      "2022-05-13 05:49:38,013 INFO: Train Loss:0.123 | Acc:0.9670 | F1:0.8767\n",
      "2022-05-13 05:49:47,689 INFO: val Loss:0.218 | Acc:0.9485 | F1:0.7539\n"
     ]
    },
    {
     "name": "stdout",
     "output_type": "stream",
     "text": [
      "\n",
      "best epoch:66/loss:0.1132/f1:0.7909\n"
     ]
    },
    {
     "name": "stderr",
     "output_type": "stream",
     "text": [
      "100%|████████████████████████████████████████████████████████████████████████████████| 214/214 [01:50<00:00,  1.94it/s]\n",
      "2022-05-13 05:51:37,863 INFO: Epoch:[112/500]\n",
      "2022-05-13 05:51:37,864 INFO: Train Loss:0.105 | Acc:0.9719 | F1:0.8909\n",
      "2022-05-13 05:51:47,485 INFO: val Loss:0.136 | Acc:0.9579 | F1:0.7812\n"
     ]
    },
    {
     "name": "stdout",
     "output_type": "stream",
     "text": [
      "\n",
      "best epoch:66/loss:0.1132/f1:0.7909\n"
     ]
    },
    {
     "name": "stderr",
     "output_type": "stream",
     "text": [
      "100%|████████████████████████████████████████████████████████████████████████████████| 214/214 [01:49<00:00,  1.95it/s]\n",
      "2022-05-13 05:53:37,389 INFO: Epoch:[113/500]\n",
      "2022-05-13 05:53:37,389 INFO: Train Loss:0.112 | Acc:0.9676 | F1:0.8746\n",
      "2022-05-13 05:53:47,049 INFO: val Loss:0.186 | Acc:0.9462 | F1:0.7346\n"
     ]
    },
    {
     "name": "stdout",
     "output_type": "stream",
     "text": [
      "\n",
      "best epoch:66/loss:0.1132/f1:0.7909\n"
     ]
    },
    {
     "name": "stderr",
     "output_type": "stream",
     "text": [
      "100%|████████████████████████████████████████████████████████████████████████████████| 214/214 [01:49<00:00,  1.95it/s]\n",
      "2022-05-13 05:55:37,013 INFO: Epoch:[114/500]\n",
      "2022-05-13 05:55:37,013 INFO: Train Loss:0.118 | Acc:0.9684 | F1:0.8788\n",
      "2022-05-13 05:55:46,616 INFO: val Loss:0.168 | Acc:0.9591 | F1:0.7789\n"
     ]
    },
    {
     "name": "stdout",
     "output_type": "stream",
     "text": [
      "\n",
      "best epoch:66/loss:0.1132/f1:0.7909\n"
     ]
    },
    {
     "name": "stderr",
     "output_type": "stream",
     "text": [
      "100%|████████████████████████████████████████████████████████████████████████████████| 214/214 [01:50<00:00,  1.94it/s]\n",
      "2022-05-13 05:57:36,814 INFO: Epoch:[115/500]\n",
      "2022-05-13 05:57:36,814 INFO: Train Loss:0.132 | Acc:0.9652 | F1:0.8797\n",
      "2022-05-13 05:57:46,478 INFO: val Loss:0.191 | Acc:0.9556 | F1:0.7759\n"
     ]
    },
    {
     "name": "stdout",
     "output_type": "stream",
     "text": [
      "\n",
      "best epoch:66/loss:0.1132/f1:0.7909\n"
     ]
    },
    {
     "name": "stderr",
     "output_type": "stream",
     "text": [
      "100%|████████████████████████████████████████████████████████████████████████████████| 214/214 [01:49<00:00,  1.95it/s]\n",
      "2022-05-13 05:59:36,392 INFO: Epoch:[116/500]\n",
      "2022-05-13 05:59:36,392 INFO: Train Loss:0.126 | Acc:0.9652 | F1:0.8662\n",
      "2022-05-13 05:59:46,029 INFO: val Loss:0.134 | Acc:0.9567 | F1:0.8033\n",
      "2022-05-13 05:59:46,030 INFO: \n",
      "Best Val Epoch:66 | Val Loss:0.1132 | Val Acc:0.9614 | Val F1:0.7909\n",
      "2022-05-13 05:59:46,030 INFO: Total Process time:236.703Minute\n",
      "2022-05-13 05:59:46,031 INFO: {'exp_num': '3', 'data_path': './data', 'Kfold': 5, 'model_path': 'results/', 'encoder_name': 'regnety_160', 'drop_path_rate': 0.2, 'img_size': 224, 'batch_size': 16, 'epochs': 500, 'optimizer': 'Lamb', 'initial_lr': 5e-06, 'weight_decay': 0.001, 'aug_ver': 2, 'scheduler': 'cycle', 'warm_epoch': 5, 'max_lr': 0.001, 'min_lr': 5e-06, 'tmax': 145, 'patience': 50, 'clipping': None, 'amp': True, 'multi_gpu': False, 'logging': False, 'num_workers': 0, 'seed': 42, 'fold': 3}\n"
     ]
    },
    {
     "name": "stdout",
     "output_type": "stream",
     "text": [
      "<---- Training Params ---->\n",
      "Read train_df.csv\n",
      "Dataset size:3422\n",
      "Dataset size:855\n"
     ]
    },
    {
     "name": "stderr",
     "output_type": "stream",
     "text": [
      "2022-05-13 05:59:46,830 INFO: Loading pretrained weights from url (https://dl.fbaipublicfiles.com/deit/regnety_160-a5fe301d.pth)\n",
      "2022-05-13 05:59:47,190 INFO: Computational complexity:       15.93 GMac\n",
      "2022-05-13 05:59:47,190 INFO: Number of parameters:           80.83 M \n",
      "100%|████████████████████████████████████████████████████████████████████████████████| 214/214 [01:49<00:00,  1.95it/s]\n",
      "2022-05-13 06:01:36,725 INFO: Epoch:[001/500]\n",
      "2022-05-13 06:01:36,725 INFO: Train Loss:4.486 | Acc:0.0088 | F1:0.0031\n",
      "2022-05-13 06:01:46,438 INFO: val Loss:4.531 | Acc:0.0000 | F1:0.0000\n",
      "2022-05-13 06:01:48,310 INFO: -----------------SAVE:1epoch----------------\n"
     ]
    },
    {
     "name": "stdout",
     "output_type": "stream",
     "text": [
      "\n",
      "best epoch:1/loss:4.5306/f1:0.0000\n"
     ]
    },
    {
     "name": "stderr",
     "output_type": "stream",
     "text": [
      "100%|████████████████████████████████████████████████████████████████████████████████| 214/214 [01:50<00:00,  1.94it/s]\n",
      "2022-05-13 06:03:38,342 INFO: Epoch:[002/500]\n",
      "2022-05-13 06:03:38,342 INFO: Train Loss:4.476 | Acc:0.0105 | F1:0.0038\n",
      "2022-05-13 06:03:48,179 INFO: val Loss:4.520 | Acc:0.0000 | F1:0.0000\n",
      "2022-05-13 06:03:49,951 INFO: -----------------SAVE:2epoch----------------\n"
     ]
    },
    {
     "name": "stdout",
     "output_type": "stream",
     "text": [
      "\n",
      "best epoch:2/loss:4.5195/f1:0.0000\n"
     ]
    },
    {
     "name": "stderr",
     "output_type": "stream",
     "text": [
      "100%|████████████████████████████████████████████████████████████████████████████████| 214/214 [01:49<00:00,  1.95it/s]\n",
      "2022-05-13 06:05:39,571 INFO: Epoch:[003/500]\n",
      "2022-05-13 06:05:39,571 INFO: Train Loss:4.440 | Acc:0.0155 | F1:0.0048\n",
      "2022-05-13 06:05:49,240 INFO: val Loss:4.488 | Acc:0.0035 | F1:0.0005\n",
      "2022-05-13 06:05:51,035 INFO: -----------------SAVE:3epoch----------------\n"
     ]
    },
    {
     "name": "stdout",
     "output_type": "stream",
     "text": [
      "\n",
      "best epoch:3/loss:4.4883/f1:0.0005\n"
     ]
    },
    {
     "name": "stderr",
     "output_type": "stream",
     "text": [
      "100%|████████████████████████████████████████████████████████████████████████████████| 214/214 [01:49<00:00,  1.95it/s]\n",
      "2022-05-13 06:07:40,544 INFO: Epoch:[004/500]\n",
      "2022-05-13 06:07:40,544 INFO: Train Loss:4.403 | Acc:0.0316 | F1:0.0083\n",
      "2022-05-13 06:07:50,214 INFO: val Loss:4.456 | Acc:0.0082 | F1:0.0012\n",
      "2022-05-13 06:07:52,075 INFO: -----------------SAVE:4epoch----------------\n"
     ]
    },
    {
     "name": "stdout",
     "output_type": "stream",
     "text": [
      "\n",
      "best epoch:4/loss:4.4565/f1:0.0012\n"
     ]
    },
    {
     "name": "stderr",
     "output_type": "stream",
     "text": [
      "100%|████████████████████████████████████████████████████████████████████████████████| 214/214 [01:49<00:00,  1.96it/s]\n",
      "2022-05-13 06:09:41,427 INFO: Epoch:[005/500]\n",
      "2022-05-13 06:09:41,427 INFO: Train Loss:4.348 | Acc:0.0655 | F1:0.0148\n",
      "2022-05-13 06:09:51,087 INFO: val Loss:4.397 | Acc:0.0257 | F1:0.0039\n",
      "2022-05-13 06:09:53,025 INFO: -----------------SAVE:5epoch----------------\n"
     ]
    },
    {
     "name": "stdout",
     "output_type": "stream",
     "text": [
      "\n",
      "best epoch:5/loss:4.3974/f1:0.0039\n"
     ]
    },
    {
     "name": "stderr",
     "output_type": "stream",
     "text": [
      "100%|████████████████████████████████████████████████████████████████████████████████| 214/214 [01:49<00:00,  1.96it/s]\n",
      "2022-05-13 06:11:42,349 INFO: Epoch:[006/500]\n",
      "2022-05-13 06:11:42,350 INFO: Train Loss:4.017 | Acc:0.3787 | F1:0.0750\n",
      "2022-05-13 06:11:52,031 INFO: val Loss:3.759 | Acc:0.5567 | F1:0.1027\n",
      "2022-05-13 06:11:53,728 INFO: -----------------SAVE:6epoch----------------\n"
     ]
    },
    {
     "name": "stdout",
     "output_type": "stream",
     "text": [
      "\n",
      "best epoch:6/loss:3.7589/f1:0.1027\n"
     ]
    },
    {
     "name": "stderr",
     "output_type": "stream",
     "text": [
      "100%|████████████████████████████████████████████████████████████████████████████████| 214/214 [01:49<00:00,  1.95it/s]\n",
      "2022-05-13 06:13:43,218 INFO: Epoch:[007/500]\n",
      "2022-05-13 06:13:43,218 INFO: Train Loss:3.233 | Acc:0.7519 | F1:0.1348\n",
      "2022-05-13 06:13:52,880 INFO: val Loss:2.796 | Acc:0.7649 | F1:0.1356\n",
      "2022-05-13 06:13:54,619 INFO: -----------------SAVE:7epoch----------------\n"
     ]
    },
    {
     "name": "stdout",
     "output_type": "stream",
     "text": [
      "\n",
      "best epoch:7/loss:2.7956/f1:0.1356\n"
     ]
    },
    {
     "name": "stderr",
     "output_type": "stream",
     "text": [
      "100%|████████████████████████████████████████████████████████████████████████████████| 214/214 [01:49<00:00,  1.96it/s]\n",
      "2022-05-13 06:15:44,077 INFO: Epoch:[008/500]\n",
      "2022-05-13 06:15:44,078 INFO: Train Loss:2.415 | Acc:0.8232 | F1:0.1458\n",
      "2022-05-13 06:15:53,781 INFO: val Loss:1.914 | Acc:0.8351 | F1:0.1465\n",
      "2022-05-13 06:15:55,628 INFO: -----------------SAVE:8epoch----------------\n"
     ]
    },
    {
     "name": "stdout",
     "output_type": "stream",
     "text": [
      "\n",
      "best epoch:8/loss:1.9135/f1:0.1465\n"
     ]
    },
    {
     "name": "stderr",
     "output_type": "stream",
     "text": [
      "100%|████████████████████████████████████████████████████████████████████████████████| 214/214 [01:49<00:00,  1.95it/s]\n",
      "2022-05-13 06:17:45,226 INFO: Epoch:[009/500]\n",
      "2022-05-13 06:17:45,227 INFO: Train Loss:1.712 | Acc:0.8326 | F1:0.1498\n",
      "2022-05-13 06:17:54,908 INFO: val Loss:1.186 | Acc:0.8409 | F1:0.1520\n",
      "2022-05-13 06:17:56,927 INFO: -----------------SAVE:9epoch----------------\n"
     ]
    },
    {
     "name": "stdout",
     "output_type": "stream",
     "text": [
      "\n",
      "best epoch:9/loss:1.1860/f1:0.1520\n"
     ]
    },
    {
     "name": "stderr",
     "output_type": "stream",
     "text": [
      "100%|████████████████████████████████████████████████████████████████████████████████| 214/214 [01:49<00:00,  1.95it/s]\n",
      "2022-05-13 06:19:46,398 INFO: Epoch:[010/500]\n",
      "2022-05-13 06:19:46,398 INFO: Train Loss:1.316 | Acc:0.8372 | F1:0.1514\n",
      "2022-05-13 06:19:56,052 INFO: val Loss:1.025 | Acc:0.8480 | F1:0.1561\n",
      "2022-05-13 06:19:57,886 INFO: -----------------SAVE:10epoch----------------\n"
     ]
    },
    {
     "name": "stdout",
     "output_type": "stream",
     "text": [
      "\n",
      "best epoch:10/loss:1.0253/f1:0.1561\n"
     ]
    },
    {
     "name": "stderr",
     "output_type": "stream",
     "text": [
      "100%|████████████████████████████████████████████████████████████████████████████████| 214/214 [01:49<00:00,  1.96it/s]\n",
      "2022-05-13 06:21:47,268 INFO: Epoch:[011/500]\n",
      "2022-05-13 06:21:47,269 INFO: Train Loss:1.177 | Acc:0.8445 | F1:0.1550\n",
      "2022-05-13 06:21:56,880 INFO: val Loss:0.953 | Acc:0.8480 | F1:0.1561\n",
      "2022-05-13 06:21:58,623 INFO: -----------------SAVE:11epoch----------------\n"
     ]
    },
    {
     "name": "stdout",
     "output_type": "stream",
     "text": [
      "\n",
      "best epoch:11/loss:0.9525/f1:0.1561\n"
     ]
    },
    {
     "name": "stderr",
     "output_type": "stream",
     "text": [
      "100%|████████████████████████████████████████████████████████████████████████████████| 214/214 [01:49<00:00,  1.95it/s]\n",
      "2022-05-13 06:23:48,301 INFO: Epoch:[012/500]\n",
      "2022-05-13 06:23:48,301 INFO: Train Loss:1.085 | Acc:0.8463 | F1:0.1557\n",
      "2022-05-13 06:23:57,936 INFO: val Loss:0.886 | Acc:0.8480 | F1:0.1561\n",
      "2022-05-13 06:23:59,662 INFO: -----------------SAVE:12epoch----------------\n"
     ]
    },
    {
     "name": "stdout",
     "output_type": "stream",
     "text": [
      "\n",
      "best epoch:12/loss:0.8857/f1:0.1561\n"
     ]
    },
    {
     "name": "stderr",
     "output_type": "stream",
     "text": [
      "100%|████████████████████████████████████████████████████████████████████████████████| 214/214 [01:50<00:00,  1.94it/s]\n",
      "2022-05-13 06:25:49,725 INFO: Epoch:[013/500]\n",
      "2022-05-13 06:25:49,725 INFO: Train Loss:0.978 | Acc:0.8477 | F1:0.1559\n",
      "2022-05-13 06:25:59,344 INFO: val Loss:0.812 | Acc:0.8480 | F1:0.1561\n",
      "2022-05-13 06:26:01,081 INFO: -----------------SAVE:13epoch----------------\n"
     ]
    },
    {
     "name": "stdout",
     "output_type": "stream",
     "text": [
      "\n",
      "best epoch:13/loss:0.8119/f1:0.1561\n"
     ]
    },
    {
     "name": "stderr",
     "output_type": "stream",
     "text": [
      "100%|████████████████████████████████████████████████████████████████████████████████| 214/214 [01:50<00:00,  1.94it/s]\n",
      "2022-05-13 06:27:51,196 INFO: Epoch:[014/500]\n",
      "2022-05-13 06:27:51,196 INFO: Train Loss:0.910 | Acc:0.8480 | F1:0.1559\n",
      "2022-05-13 06:28:00,843 INFO: val Loss:0.771 | Acc:0.8480 | F1:0.1561\n",
      "2022-05-13 06:28:02,558 INFO: -----------------SAVE:14epoch----------------\n"
     ]
    },
    {
     "name": "stdout",
     "output_type": "stream",
     "text": [
      "\n",
      "best epoch:14/loss:0.7708/f1:0.1561\n"
     ]
    },
    {
     "name": "stderr",
     "output_type": "stream",
     "text": [
      "100%|████████████████████████████████████████████████████████████████████████████████| 214/214 [01:50<00:00,  1.94it/s]\n",
      "2022-05-13 06:29:52,653 INFO: Epoch:[015/500]\n",
      "2022-05-13 06:29:52,653 INFO: Train Loss:0.853 | Acc:0.8480 | F1:0.1561\n",
      "2022-05-13 06:30:02,276 INFO: val Loss:0.731 | Acc:0.8480 | F1:0.1561\n",
      "2022-05-13 06:30:04,049 INFO: -----------------SAVE:15epoch----------------\n"
     ]
    },
    {
     "name": "stdout",
     "output_type": "stream",
     "text": [
      "\n",
      "best epoch:15/loss:0.7309/f1:0.1561\n"
     ]
    },
    {
     "name": "stderr",
     "output_type": "stream",
     "text": [
      "100%|████████████████████████████████████████████████████████████████████████████████| 214/214 [01:49<00:00,  1.95it/s]\n",
      "2022-05-13 06:31:53,968 INFO: Epoch:[016/500]\n",
      "2022-05-13 06:31:53,968 INFO: Train Loss:0.808 | Acc:0.8475 | F1:0.1559\n",
      "2022-05-13 06:32:03,600 INFO: val Loss:0.701 | Acc:0.8491 | F1:0.1619\n",
      "2022-05-13 06:32:05,355 INFO: -----------------SAVE:16epoch----------------\n"
     ]
    },
    {
     "name": "stdout",
     "output_type": "stream",
     "text": [
      "\n",
      "best epoch:16/loss:0.7006/f1:0.1619\n"
     ]
    },
    {
     "name": "stderr",
     "output_type": "stream",
     "text": [
      "100%|████████████████████████████████████████████████████████████████████████████████| 214/214 [01:49<00:00,  1.95it/s]\n",
      "2022-05-13 06:33:55,190 INFO: Epoch:[017/500]\n",
      "2022-05-13 06:33:55,190 INFO: Train Loss:0.770 | Acc:0.8469 | F1:0.1557\n",
      "2022-05-13 06:34:04,828 INFO: val Loss:0.705 | Acc:0.8526 | F1:0.1736\n"
     ]
    },
    {
     "name": "stdout",
     "output_type": "stream",
     "text": [
      "\n",
      "best epoch:16/loss:0.7006/f1:0.1619\n"
     ]
    },
    {
     "name": "stderr",
     "output_type": "stream",
     "text": [
      "100%|████████████████████████████████████████████████████████████████████████████████| 214/214 [01:49<00:00,  1.95it/s]\n",
      "2022-05-13 06:35:54,401 INFO: Epoch:[018/500]\n",
      "2022-05-13 06:35:54,401 INFO: Train Loss:0.722 | Acc:0.8489 | F1:0.1670\n",
      "2022-05-13 06:36:04,048 INFO: val Loss:0.652 | Acc:0.8526 | F1:0.1736\n",
      "2022-05-13 06:36:06,097 INFO: -----------------SAVE:18epoch----------------\n"
     ]
    },
    {
     "name": "stdout",
     "output_type": "stream",
     "text": [
      "\n",
      "best epoch:18/loss:0.6518/f1:0.1736\n"
     ]
    },
    {
     "name": "stderr",
     "output_type": "stream",
     "text": [
      "100%|████████████████████████████████████████████████████████████████████████████████| 214/214 [01:50<00:00,  1.94it/s]\n",
      "2022-05-13 06:37:56,328 INFO: Epoch:[019/500]\n",
      "2022-05-13 06:37:56,329 INFO: Train Loss:0.694 | Acc:0.8536 | F1:0.1907\n",
      "2022-05-13 06:38:05,952 INFO: val Loss:0.607 | Acc:0.8550 | F1:0.1849\n",
      "2022-05-13 06:38:07,671 INFO: -----------------SAVE:19epoch----------------\n"
     ]
    },
    {
     "name": "stdout",
     "output_type": "stream",
     "text": [
      "\n",
      "best epoch:19/loss:0.6066/f1:0.1849\n"
     ]
    },
    {
     "name": "stderr",
     "output_type": "stream",
     "text": [
      "100%|████████████████████████████████████████████████████████████████████████████████| 214/214 [01:49<00:00,  1.95it/s]\n",
      "2022-05-13 06:39:57,474 INFO: Epoch:[020/500]\n",
      "2022-05-13 06:39:57,474 INFO: Train Loss:0.655 | Acc:0.8545 | F1:0.1989\n",
      "2022-05-13 06:40:07,122 INFO: val Loss:0.587 | Acc:0.8596 | F1:0.2074\n",
      "2022-05-13 06:40:08,903 INFO: -----------------SAVE:20epoch----------------\n"
     ]
    },
    {
     "name": "stdout",
     "output_type": "stream",
     "text": [
      "\n",
      "best epoch:20/loss:0.5871/f1:0.2074\n"
     ]
    },
    {
     "name": "stderr",
     "output_type": "stream",
     "text": [
      "100%|████████████████████████████████████████████████████████████████████████████████| 214/214 [01:50<00:00,  1.94it/s]\n",
      "2022-05-13 06:41:58,989 INFO: Epoch:[021/500]\n",
      "2022-05-13 06:41:58,989 INFO: Train Loss:0.613 | Acc:0.8577 | F1:0.2184\n",
      "2022-05-13 06:42:08,609 INFO: val Loss:0.533 | Acc:0.8690 | F1:0.2540\n",
      "2022-05-13 06:42:10,370 INFO: -----------------SAVE:21epoch----------------\n"
     ]
    },
    {
     "name": "stdout",
     "output_type": "stream",
     "text": [
      "\n",
      "best epoch:21/loss:0.5328/f1:0.2540\n"
     ]
    },
    {
     "name": "stderr",
     "output_type": "stream",
     "text": [
      "100%|████████████████████████████████████████████████████████████████████████████████| 214/214 [01:49<00:00,  1.95it/s]\n",
      "2022-05-13 06:44:00,221 INFO: Epoch:[022/500]\n",
      "2022-05-13 06:44:00,222 INFO: Train Loss:0.595 | Acc:0.8618 | F1:0.2430\n",
      "2022-05-13 06:44:09,879 INFO: val Loss:0.509 | Acc:0.8819 | F1:0.3191\n",
      "2022-05-13 06:44:11,659 INFO: -----------------SAVE:22epoch----------------\n"
     ]
    },
    {
     "name": "stdout",
     "output_type": "stream",
     "text": [
      "\n",
      "best epoch:22/loss:0.5085/f1:0.3191\n"
     ]
    },
    {
     "name": "stderr",
     "output_type": "stream",
     "text": [
      "100%|████████████████████████████████████████████████████████████████████████████████| 214/214 [01:49<00:00,  1.95it/s]\n",
      "2022-05-13 06:46:01,621 INFO: Epoch:[023/500]\n",
      "2022-05-13 06:46:01,621 INFO: Train Loss:0.559 | Acc:0.8667 | F1:0.2708\n",
      "2022-05-13 06:46:11,250 INFO: val Loss:0.474 | Acc:0.8877 | F1:0.3424\n",
      "2022-05-13 06:46:12,949 INFO: -----------------SAVE:23epoch----------------\n"
     ]
    },
    {
     "name": "stdout",
     "output_type": "stream",
     "text": [
      "\n",
      "best epoch:23/loss:0.4744/f1:0.3424\n"
     ]
    },
    {
     "name": "stderr",
     "output_type": "stream",
     "text": [
      "100%|████████████████████████████████████████████████████████████████████████████████| 214/214 [01:49<00:00,  1.95it/s]\n",
      "2022-05-13 06:48:02,860 INFO: Epoch:[024/500]\n",
      "2022-05-13 06:48:02,861 INFO: Train Loss:0.525 | Acc:0.8711 | F1:0.2952\n",
      "2022-05-13 06:48:12,474 INFO: val Loss:0.428 | Acc:0.8877 | F1:0.3469\n",
      "2022-05-13 06:48:14,356 INFO: -----------------SAVE:24epoch----------------\n"
     ]
    },
    {
     "name": "stdout",
     "output_type": "stream",
     "text": [
      "\n",
      "best epoch:24/loss:0.4282/f1:0.3469\n"
     ]
    },
    {
     "name": "stderr",
     "output_type": "stream",
     "text": [
      "100%|████████████████████████████████████████████████████████████████████████████████| 214/214 [01:50<00:00,  1.94it/s]\n",
      "2022-05-13 06:50:04,486 INFO: Epoch:[025/500]\n",
      "2022-05-13 06:50:04,486 INFO: Train Loss:0.492 | Acc:0.8805 | F1:0.3509\n",
      "2022-05-13 06:50:14,113 INFO: val Loss:0.428 | Acc:0.8924 | F1:0.3994\n",
      "2022-05-13 06:50:15,895 INFO: -----------------SAVE:25epoch----------------\n"
     ]
    },
    {
     "name": "stdout",
     "output_type": "stream",
     "text": [
      "\n",
      "best epoch:25/loss:0.4277/f1:0.3994\n"
     ]
    },
    {
     "name": "stderr",
     "output_type": "stream",
     "text": [
      "100%|████████████████████████████████████████████████████████████████████████████████| 214/214 [01:49<00:00,  1.95it/s]\n",
      "2022-05-13 06:52:05,859 INFO: Epoch:[026/500]\n",
      "2022-05-13 06:52:05,860 INFO: Train Loss:0.465 | Acc:0.8872 | F1:0.3894\n",
      "2022-05-13 06:52:15,502 INFO: val Loss:0.393 | Acc:0.8982 | F1:0.4238\n",
      "2022-05-13 06:52:17,426 INFO: -----------------SAVE:26epoch----------------\n"
     ]
    },
    {
     "name": "stdout",
     "output_type": "stream",
     "text": [
      "\n",
      "best epoch:26/loss:0.3925/f1:0.4238\n"
     ]
    },
    {
     "name": "stderr",
     "output_type": "stream",
     "text": [
      "100%|████████████████████████████████████████████████████████████████████████████████| 214/214 [01:49<00:00,  1.95it/s]\n",
      "2022-05-13 06:54:07,263 INFO: Epoch:[027/500]\n",
      "2022-05-13 06:54:07,263 INFO: Train Loss:0.442 | Acc:0.8907 | F1:0.4181\n",
      "2022-05-13 06:54:16,891 INFO: val Loss:0.379 | Acc:0.9018 | F1:0.4461\n",
      "2022-05-13 06:54:18,667 INFO: -----------------SAVE:27epoch----------------\n"
     ]
    },
    {
     "name": "stdout",
     "output_type": "stream",
     "text": [
      "\n",
      "best epoch:27/loss:0.3793/f1:0.4461\n"
     ]
    },
    {
     "name": "stderr",
     "output_type": "stream",
     "text": [
      "100%|████████████████████████████████████████████████████████████████████████████████| 214/214 [01:49<00:00,  1.95it/s]\n",
      "2022-05-13 06:56:08,611 INFO: Epoch:[028/500]\n",
      "2022-05-13 06:56:08,611 INFO: Train Loss:0.420 | Acc:0.8945 | F1:0.4395\n",
      "2022-05-13 06:56:18,263 INFO: val Loss:0.358 | Acc:0.9076 | F1:0.4646\n",
      "2022-05-13 06:56:20,001 INFO: -----------------SAVE:28epoch----------------\n"
     ]
    },
    {
     "name": "stdout",
     "output_type": "stream",
     "text": [
      "\n",
      "best epoch:28/loss:0.3585/f1:0.4646\n"
     ]
    },
    {
     "name": "stderr",
     "output_type": "stream",
     "text": [
      "100%|████████████████████████████████████████████████████████████████████████████████| 214/214 [01:50<00:00,  1.94it/s]\n",
      "2022-05-13 06:58:10,175 INFO: Epoch:[029/500]\n",
      "2022-05-13 06:58:10,176 INFO: Train Loss:0.395 | Acc:0.9006 | F1:0.4767\n",
      "2022-05-13 06:58:19,812 INFO: val Loss:0.326 | Acc:0.9111 | F1:0.4995\n",
      "2022-05-13 06:58:21,608 INFO: -----------------SAVE:29epoch----------------\n"
     ]
    },
    {
     "name": "stdout",
     "output_type": "stream",
     "text": [
      "\n",
      "best epoch:29/loss:0.3260/f1:0.4995\n"
     ]
    },
    {
     "name": "stderr",
     "output_type": "stream",
     "text": [
      "100%|████████████████████████████████████████████████████████████████████████████████| 214/214 [01:49<00:00,  1.95it/s]\n",
      "2022-05-13 07:00:11,265 INFO: Epoch:[030/500]\n",
      "2022-05-13 07:00:11,266 INFO: Train Loss:0.376 | Acc:0.9044 | F1:0.4958\n",
      "2022-05-13 07:00:20,861 INFO: val Loss:0.309 | Acc:0.9146 | F1:0.5133\n",
      "2022-05-13 07:00:22,597 INFO: -----------------SAVE:30epoch----------------\n"
     ]
    },
    {
     "name": "stdout",
     "output_type": "stream",
     "text": [
      "\n",
      "best epoch:30/loss:0.3093/f1:0.5133\n"
     ]
    },
    {
     "name": "stderr",
     "output_type": "stream",
     "text": [
      "100%|████████████████████████████████████████████████████████████████████████████████| 214/214 [01:49<00:00,  1.95it/s]\n",
      "2022-05-13 07:02:12,573 INFO: Epoch:[031/500]\n",
      "2022-05-13 07:02:12,573 INFO: Train Loss:0.362 | Acc:0.9074 | F1:0.5198\n",
      "2022-05-13 07:02:22,173 INFO: val Loss:0.309 | Acc:0.9099 | F1:0.5047\n"
     ]
    },
    {
     "name": "stdout",
     "output_type": "stream",
     "text": [
      "\n",
      "best epoch:30/loss:0.3093/f1:0.5133\n"
     ]
    },
    {
     "name": "stderr",
     "output_type": "stream",
     "text": [
      "100%|████████████████████████████████████████████████████████████████████████████████| 214/214 [01:49<00:00,  1.95it/s]\n",
      "2022-05-13 07:04:11,943 INFO: Epoch:[032/500]\n",
      "2022-05-13 07:04:11,944 INFO: Train Loss:0.333 | Acc:0.9158 | F1:0.5531\n",
      "2022-05-13 07:04:21,565 INFO: val Loss:0.276 | Acc:0.9135 | F1:0.5090\n",
      "2022-05-13 07:04:23,373 INFO: -----------------SAVE:32epoch----------------\n"
     ]
    },
    {
     "name": "stdout",
     "output_type": "stream",
     "text": [
      "\n",
      "best epoch:32/loss:0.2757/f1:0.5090\n"
     ]
    },
    {
     "name": "stderr",
     "output_type": "stream",
     "text": [
      "100%|████████████████████████████████████████████████████████████████████████████████| 214/214 [01:49<00:00,  1.95it/s]\n",
      "2022-05-13 07:06:13,246 INFO: Epoch:[033/500]\n",
      "2022-05-13 07:06:13,246 INFO: Train Loss:0.328 | Acc:0.9141 | F1:0.5504\n",
      "2022-05-13 07:06:22,856 INFO: val Loss:0.287 | Acc:0.9181 | F1:0.5352\n"
     ]
    },
    {
     "name": "stdout",
     "output_type": "stream",
     "text": [
      "\n",
      "best epoch:32/loss:0.2757/f1:0.5090\n"
     ]
    },
    {
     "name": "stderr",
     "output_type": "stream",
     "text": [
      "100%|████████████████████████████████████████████████████████████████████████████████| 214/214 [01:49<00:00,  1.95it/s]\n",
      "2022-05-13 07:08:12,634 INFO: Epoch:[034/500]\n",
      "2022-05-13 07:08:12,635 INFO: Train Loss:0.311 | Acc:0.9179 | F1:0.5946\n",
      "2022-05-13 07:08:22,303 INFO: val Loss:0.249 | Acc:0.9333 | F1:0.5889\n",
      "2022-05-13 07:08:24,124 INFO: -----------------SAVE:34epoch----------------\n"
     ]
    },
    {
     "name": "stdout",
     "output_type": "stream",
     "text": [
      "\n",
      "best epoch:34/loss:0.2490/f1:0.5889\n"
     ]
    },
    {
     "name": "stderr",
     "output_type": "stream",
     "text": [
      "100%|████████████████████████████████████████████████████████████████████████████████| 214/214 [01:50<00:00,  1.94it/s]\n",
      "2022-05-13 07:10:14,164 INFO: Epoch:[035/500]\n",
      "2022-05-13 07:10:14,164 INFO: Train Loss:0.310 | Acc:0.9188 | F1:0.5986\n",
      "2022-05-13 07:10:23,776 INFO: val Loss:0.249 | Acc:0.9251 | F1:0.5623\n"
     ]
    },
    {
     "name": "stdout",
     "output_type": "stream",
     "text": [
      "\n",
      "best epoch:34/loss:0.2490/f1:0.5889\n"
     ]
    },
    {
     "name": "stderr",
     "output_type": "stream",
     "text": [
      "100%|████████████████████████████████████████████████████████████████████████████████| 214/214 [01:49<00:00,  1.95it/s]\n",
      "2022-05-13 07:12:13,430 INFO: Epoch:[036/500]\n",
      "2022-05-13 07:12:13,430 INFO: Train Loss:0.288 | Acc:0.9284 | F1:0.6367\n",
      "2022-05-13 07:12:23,067 INFO: val Loss:0.226 | Acc:0.9357 | F1:0.6103\n",
      "2022-05-13 07:12:24,782 INFO: -----------------SAVE:36epoch----------------\n"
     ]
    },
    {
     "name": "stdout",
     "output_type": "stream",
     "text": [
      "\n",
      "best epoch:36/loss:0.2261/f1:0.6103\n"
     ]
    },
    {
     "name": "stderr",
     "output_type": "stream",
     "text": [
      "100%|████████████████████████████████████████████████████████████████████████████████| 214/214 [01:49<00:00,  1.95it/s]\n",
      "2022-05-13 07:14:14,685 INFO: Epoch:[037/500]\n",
      "2022-05-13 07:14:14,685 INFO: Train Loss:0.261 | Acc:0.9345 | F1:0.6614\n",
      "2022-05-13 07:14:24,327 INFO: val Loss:0.271 | Acc:0.9263 | F1:0.6248\n"
     ]
    },
    {
     "name": "stdout",
     "output_type": "stream",
     "text": [
      "\n",
      "best epoch:36/loss:0.2261/f1:0.6103\n"
     ]
    },
    {
     "name": "stderr",
     "output_type": "stream",
     "text": [
      "100%|████████████████████████████████████████████████████████████████████████████████| 214/214 [01:49<00:00,  1.95it/s]\n",
      "2022-05-13 07:16:13,998 INFO: Epoch:[038/500]\n",
      "2022-05-13 07:16:13,998 INFO: Train Loss:0.259 | Acc:0.9328 | F1:0.6711\n",
      "2022-05-13 07:16:23,639 INFO: val Loss:0.241 | Acc:0.9392 | F1:0.6559\n"
     ]
    },
    {
     "name": "stdout",
     "output_type": "stream",
     "text": [
      "\n",
      "best epoch:36/loss:0.2261/f1:0.6103\n"
     ]
    },
    {
     "name": "stderr",
     "output_type": "stream",
     "text": [
      "100%|████████████████████████████████████████████████████████████████████████████████| 214/214 [01:49<00:00,  1.95it/s]\n",
      "2022-05-13 07:18:13,572 INFO: Epoch:[039/500]\n",
      "2022-05-13 07:18:13,573 INFO: Train Loss:0.260 | Acc:0.9302 | F1:0.6530\n",
      "2022-05-13 07:18:23,216 INFO: val Loss:0.216 | Acc:0.9392 | F1:0.6250\n",
      "2022-05-13 07:18:24,933 INFO: -----------------SAVE:39epoch----------------\n"
     ]
    },
    {
     "name": "stdout",
     "output_type": "stream",
     "text": [
      "\n",
      "best epoch:39/loss:0.2159/f1:0.6250\n"
     ]
    },
    {
     "name": "stderr",
     "output_type": "stream",
     "text": [
      "100%|████████████████████████████████████████████████████████████████████████████████| 214/214 [01:50<00:00,  1.94it/s]\n",
      "2022-05-13 07:20:15,124 INFO: Epoch:[040/500]\n",
      "2022-05-13 07:20:15,125 INFO: Train Loss:0.239 | Acc:0.9363 | F1:0.6881\n",
      "2022-05-13 07:20:24,795 INFO: val Loss:0.205 | Acc:0.9404 | F1:0.6404\n",
      "2022-05-13 07:20:26,640 INFO: -----------------SAVE:40epoch----------------\n"
     ]
    },
    {
     "name": "stdout",
     "output_type": "stream",
     "text": [
      "\n",
      "best epoch:40/loss:0.2054/f1:0.6404\n"
     ]
    },
    {
     "name": "stderr",
     "output_type": "stream",
     "text": [
      "100%|████████████████████████████████████████████████████████████████████████████████| 214/214 [01:50<00:00,  1.94it/s]\n",
      "2022-05-13 07:22:16,741 INFO: Epoch:[041/500]\n",
      "2022-05-13 07:22:16,742 INFO: Train Loss:0.232 | Acc:0.9354 | F1:0.6793\n",
      "2022-05-13 07:22:26,361 INFO: val Loss:0.207 | Acc:0.9404 | F1:0.6827\n"
     ]
    },
    {
     "name": "stdout",
     "output_type": "stream",
     "text": [
      "\n",
      "best epoch:40/loss:0.2054/f1:0.6404\n"
     ]
    },
    {
     "name": "stderr",
     "output_type": "stream",
     "text": [
      "100%|████████████████████████████████████████████████████████████████████████████████| 214/214 [01:49<00:00,  1.95it/s]\n",
      "2022-05-13 07:24:16,163 INFO: Epoch:[042/500]\n",
      "2022-05-13 07:24:16,164 INFO: Train Loss:0.221 | Acc:0.9398 | F1:0.7047\n",
      "2022-05-13 07:24:25,790 INFO: val Loss:0.188 | Acc:0.9427 | F1:0.6791\n",
      "2022-05-13 07:24:27,580 INFO: -----------------SAVE:42epoch----------------\n"
     ]
    },
    {
     "name": "stdout",
     "output_type": "stream",
     "text": [
      "\n",
      "best epoch:42/loss:0.1882/f1:0.6791\n"
     ]
    },
    {
     "name": "stderr",
     "output_type": "stream",
     "text": [
      "100%|████████████████████████████████████████████████████████████████████████████████| 214/214 [01:50<00:00,  1.94it/s]\n",
      "2022-05-13 07:26:17,900 INFO: Epoch:[043/500]\n",
      "2022-05-13 07:26:17,900 INFO: Train Loss:0.228 | Acc:0.9395 | F1:0.7082\n",
      "2022-05-13 07:26:27,519 INFO: val Loss:0.192 | Acc:0.9427 | F1:0.6802\n"
     ]
    },
    {
     "name": "stdout",
     "output_type": "stream",
     "text": [
      "\n",
      "best epoch:42/loss:0.1882/f1:0.6791\n"
     ]
    },
    {
     "name": "stderr",
     "output_type": "stream",
     "text": [
      "100%|████████████████████████████████████████████████████████████████████████████████| 214/214 [01:50<00:00,  1.95it/s]\n",
      "2022-05-13 07:28:17,548 INFO: Epoch:[044/500]\n",
      "2022-05-13 07:28:17,548 INFO: Train Loss:0.201 | Acc:0.9486 | F1:0.7608\n",
      "2022-05-13 07:28:27,167 INFO: val Loss:0.180 | Acc:0.9532 | F1:0.7395\n",
      "2022-05-13 07:28:28,847 INFO: -----------------SAVE:44epoch----------------\n"
     ]
    },
    {
     "name": "stdout",
     "output_type": "stream",
     "text": [
      "\n",
      "best epoch:44/loss:0.1796/f1:0.7395\n"
     ]
    },
    {
     "name": "stderr",
     "output_type": "stream",
     "text": [
      "100%|████████████████████████████████████████████████████████████████████████████████| 214/214 [01:50<00:00,  1.94it/s]\n",
      "2022-05-13 07:30:18,959 INFO: Epoch:[045/500]\n",
      "2022-05-13 07:30:18,960 INFO: Train Loss:0.206 | Acc:0.9442 | F1:0.7573\n",
      "2022-05-13 07:30:28,606 INFO: val Loss:0.210 | Acc:0.9368 | F1:0.7153\n"
     ]
    },
    {
     "name": "stdout",
     "output_type": "stream",
     "text": [
      "\n",
      "best epoch:44/loss:0.1796/f1:0.7395\n"
     ]
    },
    {
     "name": "stderr",
     "output_type": "stream",
     "text": [
      "100%|████████████████████████████████████████████████████████████████████████████████| 214/214 [01:49<00:00,  1.95it/s]\n",
      "2022-05-13 07:32:18,580 INFO: Epoch:[046/500]\n",
      "2022-05-13 07:32:18,581 INFO: Train Loss:0.201 | Acc:0.9454 | F1:0.7594\n",
      "2022-05-13 07:32:28,215 INFO: val Loss:0.194 | Acc:0.9474 | F1:0.7230\n"
     ]
    },
    {
     "name": "stdout",
     "output_type": "stream",
     "text": [
      "\n",
      "best epoch:44/loss:0.1796/f1:0.7395\n"
     ]
    },
    {
     "name": "stderr",
     "output_type": "stream",
     "text": [
      "100%|████████████████████████████████████████████████████████████████████████████████| 214/214 [01:49<00:00,  1.95it/s]\n",
      "2022-05-13 07:34:18,177 INFO: Epoch:[047/500]\n",
      "2022-05-13 07:34:18,178 INFO: Train Loss:0.190 | Acc:0.9489 | F1:0.7733\n",
      "2022-05-13 07:34:27,820 INFO: val Loss:0.211 | Acc:0.9427 | F1:0.7204\n"
     ]
    },
    {
     "name": "stdout",
     "output_type": "stream",
     "text": [
      "\n",
      "best epoch:44/loss:0.1796/f1:0.7395\n"
     ]
    },
    {
     "name": "stderr",
     "output_type": "stream",
     "text": [
      "100%|████████████████████████████████████████████████████████████████████████████████| 214/214 [01:50<00:00,  1.95it/s]\n",
      "2022-05-13 07:36:17,851 INFO: Epoch:[048/500]\n",
      "2022-05-13 07:36:17,851 INFO: Train Loss:0.187 | Acc:0.9515 | F1:0.7780\n",
      "2022-05-13 07:36:27,510 INFO: val Loss:0.170 | Acc:0.9450 | F1:0.6972\n",
      "2022-05-13 07:36:29,445 INFO: -----------------SAVE:48epoch----------------\n"
     ]
    },
    {
     "name": "stdout",
     "output_type": "stream",
     "text": [
      "\n",
      "best epoch:48/loss:0.1699/f1:0.6972\n"
     ]
    },
    {
     "name": "stderr",
     "output_type": "stream",
     "text": [
      "100%|████████████████████████████████████████████████████████████████████████████████| 214/214 [01:50<00:00,  1.94it/s]\n",
      "2022-05-13 07:38:19,498 INFO: Epoch:[049/500]\n",
      "2022-05-13 07:38:19,498 INFO: Train Loss:0.186 | Acc:0.9524 | F1:0.7848\n",
      "2022-05-13 07:38:29,187 INFO: val Loss:0.206 | Acc:0.9415 | F1:0.6953\n"
     ]
    },
    {
     "name": "stdout",
     "output_type": "stream",
     "text": [
      "\n",
      "best epoch:48/loss:0.1699/f1:0.6972\n"
     ]
    },
    {
     "name": "stderr",
     "output_type": "stream",
     "text": [
      "100%|████████████████████████████████████████████████████████████████████████████████| 214/214 [01:49<00:00,  1.95it/s]\n",
      "2022-05-13 07:40:18,950 INFO: Epoch:[050/500]\n",
      "2022-05-13 07:40:18,950 INFO: Train Loss:0.188 | Acc:0.9492 | F1:0.7718\n",
      "2022-05-13 07:40:28,670 INFO: val Loss:0.228 | Acc:0.9415 | F1:0.6975\n"
     ]
    },
    {
     "name": "stdout",
     "output_type": "stream",
     "text": [
      "\n",
      "best epoch:48/loss:0.1699/f1:0.6972\n"
     ]
    },
    {
     "name": "stderr",
     "output_type": "stream",
     "text": [
      "100%|████████████████████████████████████████████████████████████████████████████████| 214/214 [01:49<00:00,  1.95it/s]\n",
      "2022-05-13 07:42:18,614 INFO: Epoch:[051/500]\n",
      "2022-05-13 07:42:18,614 INFO: Train Loss:0.184 | Acc:0.9512 | F1:0.7853\n",
      "2022-05-13 07:42:28,302 INFO: val Loss:0.182 | Acc:0.9474 | F1:0.7360\n"
     ]
    },
    {
     "name": "stdout",
     "output_type": "stream",
     "text": [
      "\n",
      "best epoch:48/loss:0.1699/f1:0.6972\n"
     ]
    },
    {
     "name": "stderr",
     "output_type": "stream",
     "text": [
      "100%|████████████████████████████████████████████████████████████████████████████████| 214/214 [01:50<00:00,  1.94it/s]\n",
      "2022-05-13 07:44:18,382 INFO: Epoch:[052/500]\n",
      "2022-05-13 07:44:18,382 INFO: Train Loss:0.177 | Acc:0.9527 | F1:0.7978\n",
      "2022-05-13 07:44:28,074 INFO: val Loss:0.192 | Acc:0.9520 | F1:0.7143\n"
     ]
    },
    {
     "name": "stdout",
     "output_type": "stream",
     "text": [
      "\n",
      "best epoch:48/loss:0.1699/f1:0.6972\n"
     ]
    },
    {
     "name": "stderr",
     "output_type": "stream",
     "text": [
      "100%|████████████████████████████████████████████████████████████████████████████████| 214/214 [01:49<00:00,  1.95it/s]\n",
      "2022-05-13 07:46:17,869 INFO: Epoch:[053/500]\n",
      "2022-05-13 07:46:17,870 INFO: Train Loss:0.179 | Acc:0.9538 | F1:0.8022\n",
      "2022-05-13 07:46:27,557 INFO: val Loss:0.178 | Acc:0.9485 | F1:0.7177\n"
     ]
    },
    {
     "name": "stdout",
     "output_type": "stream",
     "text": [
      "\n",
      "best epoch:48/loss:0.1699/f1:0.6972\n"
     ]
    },
    {
     "name": "stderr",
     "output_type": "stream",
     "text": [
      "100%|████████████████████████████████████████████████████████████████████████████████| 214/214 [01:49<00:00,  1.95it/s]\n",
      "2022-05-13 07:48:17,478 INFO: Epoch:[054/500]\n",
      "2022-05-13 07:48:17,478 INFO: Train Loss:0.158 | Acc:0.9588 | F1:0.8230\n",
      "2022-05-13 07:48:27,158 INFO: val Loss:0.199 | Acc:0.9520 | F1:0.7420\n"
     ]
    },
    {
     "name": "stdout",
     "output_type": "stream",
     "text": [
      "\n",
      "best epoch:48/loss:0.1699/f1:0.6972\n"
     ]
    },
    {
     "name": "stderr",
     "output_type": "stream",
     "text": [
      "100%|████████████████████████████████████████████████████████████████████████████████| 214/214 [01:50<00:00,  1.94it/s]\n",
      "2022-05-13 07:50:17,372 INFO: Epoch:[055/500]\n",
      "2022-05-13 07:50:17,373 INFO: Train Loss:0.165 | Acc:0.9541 | F1:0.8056\n",
      "2022-05-13 07:50:27,066 INFO: val Loss:0.174 | Acc:0.9509 | F1:0.7153\n"
     ]
    },
    {
     "name": "stdout",
     "output_type": "stream",
     "text": [
      "\n",
      "best epoch:48/loss:0.1699/f1:0.6972\n"
     ]
    },
    {
     "name": "stderr",
     "output_type": "stream",
     "text": [
      "100%|████████████████████████████████████████████████████████████████████████████████| 214/214 [01:50<00:00,  1.95it/s]\n",
      "2022-05-13 07:52:17,076 INFO: Epoch:[056/500]\n",
      "2022-05-13 07:52:17,076 INFO: Train Loss:0.156 | Acc:0.9576 | F1:0.8222\n",
      "2022-05-13 07:52:26,780 INFO: val Loss:0.200 | Acc:0.9404 | F1:0.7229\n"
     ]
    },
    {
     "name": "stdout",
     "output_type": "stream",
     "text": [
      "\n",
      "best epoch:48/loss:0.1699/f1:0.6972\n"
     ]
    },
    {
     "name": "stderr",
     "output_type": "stream",
     "text": [
      "100%|████████████████████████████████████████████████████████████████████████████████| 214/214 [01:49<00:00,  1.95it/s]\n",
      "2022-05-13 07:54:16,698 INFO: Epoch:[057/500]\n",
      "2022-05-13 07:54:16,698 INFO: Train Loss:0.153 | Acc:0.9588 | F1:0.8304\n",
      "2022-05-13 07:54:26,425 INFO: val Loss:0.181 | Acc:0.9520 | F1:0.7603\n"
     ]
    },
    {
     "name": "stdout",
     "output_type": "stream",
     "text": [
      "\n",
      "best epoch:48/loss:0.1699/f1:0.6972\n"
     ]
    },
    {
     "name": "stderr",
     "output_type": "stream",
     "text": [
      "100%|████████████████████████████████████████████████████████████████████████████████| 214/214 [01:49<00:00,  1.95it/s]\n",
      "2022-05-13 07:56:16,390 INFO: Epoch:[058/500]\n",
      "2022-05-13 07:56:16,390 INFO: Train Loss:0.174 | Acc:0.9521 | F1:0.7973\n",
      "2022-05-13 07:56:26,095 INFO: val Loss:0.165 | Acc:0.9544 | F1:0.7647\n",
      "2022-05-13 07:56:27,935 INFO: -----------------SAVE:58epoch----------------\n"
     ]
    },
    {
     "name": "stdout",
     "output_type": "stream",
     "text": [
      "\n",
      "best epoch:58/loss:0.1647/f1:0.7647\n"
     ]
    },
    {
     "name": "stderr",
     "output_type": "stream",
     "text": [
      "100%|████████████████████████████████████████████████████████████████████████████████| 214/214 [01:50<00:00,  1.94it/s]\n",
      "2022-05-13 07:58:17,976 INFO: Epoch:[059/500]\n",
      "2022-05-13 07:58:17,976 INFO: Train Loss:0.137 | Acc:0.9626 | F1:0.8410\n",
      "2022-05-13 07:58:27,699 INFO: val Loss:0.178 | Acc:0.9602 | F1:0.7950\n"
     ]
    },
    {
     "name": "stdout",
     "output_type": "stream",
     "text": [
      "\n",
      "best epoch:58/loss:0.1647/f1:0.7647\n"
     ]
    },
    {
     "name": "stderr",
     "output_type": "stream",
     "text": [
      "100%|████████████████████████████████████████████████████████████████████████████████| 214/214 [01:49<00:00,  1.95it/s]\n",
      "2022-05-13 08:00:17,637 INFO: Epoch:[060/500]\n",
      "2022-05-13 08:00:17,638 INFO: Train Loss:0.143 | Acc:0.9608 | F1:0.8339\n",
      "2022-05-13 08:00:27,343 INFO: val Loss:0.194 | Acc:0.9485 | F1:0.7185\n"
     ]
    },
    {
     "name": "stdout",
     "output_type": "stream",
     "text": [
      "\n",
      "best epoch:58/loss:0.1647/f1:0.7647\n"
     ]
    },
    {
     "name": "stderr",
     "output_type": "stream",
     "text": [
      "100%|████████████████████████████████████████████████████████████████████████████████| 214/214 [01:49<00:00,  1.95it/s]\n",
      "2022-05-13 08:02:17,300 INFO: Epoch:[061/500]\n",
      "2022-05-13 08:02:17,300 INFO: Train Loss:0.146 | Acc:0.9611 | F1:0.8415\n",
      "2022-05-13 08:02:26,991 INFO: val Loss:0.179 | Acc:0.9462 | F1:0.7126\n"
     ]
    },
    {
     "name": "stdout",
     "output_type": "stream",
     "text": [
      "\n",
      "best epoch:58/loss:0.1647/f1:0.7647\n"
     ]
    },
    {
     "name": "stderr",
     "output_type": "stream",
     "text": [
      "100%|████████████████████████████████████████████████████████████████████████████████| 214/214 [01:50<00:00,  1.94it/s]\n",
      "2022-05-13 08:04:17,117 INFO: Epoch:[062/500]\n",
      "2022-05-13 08:04:17,118 INFO: Train Loss:0.147 | Acc:0.9623 | F1:0.8416\n",
      "2022-05-13 08:04:26,825 INFO: val Loss:0.190 | Acc:0.9497 | F1:0.7130\n"
     ]
    },
    {
     "name": "stdout",
     "output_type": "stream",
     "text": [
      "\n",
      "best epoch:58/loss:0.1647/f1:0.7647\n"
     ]
    },
    {
     "name": "stderr",
     "output_type": "stream",
     "text": [
      "100%|████████████████████████████████████████████████████████████████████████████████| 214/214 [01:50<00:00,  1.94it/s]\n",
      "2022-05-13 08:06:17,278 INFO: Epoch:[063/500]\n",
      "2022-05-13 08:06:17,278 INFO: Train Loss:0.130 | Acc:0.9670 | F1:0.8531\n",
      "2022-05-13 08:06:27,087 INFO: val Loss:0.223 | Acc:0.9392 | F1:0.7193\n"
     ]
    },
    {
     "name": "stdout",
     "output_type": "stream",
     "text": [
      "\n",
      "best epoch:58/loss:0.1647/f1:0.7647\n"
     ]
    },
    {
     "name": "stderr",
     "output_type": "stream",
     "text": [
      "100%|████████████████████████████████████████████████████████████████████████████████| 214/214 [01:50<00:00,  1.94it/s]\n",
      "2022-05-13 08:08:17,500 INFO: Epoch:[064/500]\n",
      "2022-05-13 08:08:17,500 INFO: Train Loss:0.146 | Acc:0.9614 | F1:0.8384\n",
      "2022-05-13 08:08:27,187 INFO: val Loss:0.182 | Acc:0.9532 | F1:0.7481\n"
     ]
    },
    {
     "name": "stdout",
     "output_type": "stream",
     "text": [
      "\n",
      "best epoch:58/loss:0.1647/f1:0.7647\n"
     ]
    },
    {
     "name": "stderr",
     "output_type": "stream",
     "text": [
      "100%|████████████████████████████████████████████████████████████████████████████████| 214/214 [01:50<00:00,  1.95it/s]\n",
      "2022-05-13 08:10:17,196 INFO: Epoch:[065/500]\n",
      "2022-05-13 08:10:17,197 INFO: Train Loss:0.147 | Acc:0.9603 | F1:0.8300\n",
      "2022-05-13 08:10:26,871 INFO: val Loss:0.157 | Acc:0.9520 | F1:0.7501\n",
      "2022-05-13 08:10:28,701 INFO: -----------------SAVE:65epoch----------------\n"
     ]
    },
    {
     "name": "stdout",
     "output_type": "stream",
     "text": [
      "\n",
      "best epoch:65/loss:0.1570/f1:0.7501\n"
     ]
    },
    {
     "name": "stderr",
     "output_type": "stream",
     "text": [
      "100%|████████████████████████████████████████████████████████████████████████████████| 214/214 [01:50<00:00,  1.94it/s]\n",
      "2022-05-13 08:12:18,752 INFO: Epoch:[066/500]\n",
      "2022-05-13 08:12:18,753 INFO: Train Loss:0.128 | Acc:0.9667 | F1:0.8604\n",
      "2022-05-13 08:12:28,427 INFO: val Loss:0.193 | Acc:0.9497 | F1:0.7580\n"
     ]
    },
    {
     "name": "stdout",
     "output_type": "stream",
     "text": [
      "\n",
      "best epoch:65/loss:0.1570/f1:0.7501\n"
     ]
    },
    {
     "name": "stderr",
     "output_type": "stream",
     "text": [
      "100%|████████████████████████████████████████████████████████████████████████████████| 214/214 [01:49<00:00,  1.95it/s]\n",
      "2022-05-13 08:14:18,338 INFO: Epoch:[067/500]\n",
      "2022-05-13 08:14:18,339 INFO: Train Loss:0.148 | Acc:0.9597 | F1:0.8403\n",
      "2022-05-13 08:14:28,046 INFO: val Loss:0.195 | Acc:0.9415 | F1:0.7658\n"
     ]
    },
    {
     "name": "stdout",
     "output_type": "stream",
     "text": [
      "\n",
      "best epoch:65/loss:0.1570/f1:0.7501\n"
     ]
    },
    {
     "name": "stderr",
     "output_type": "stream",
     "text": [
      "100%|████████████████████████████████████████████████████████████████████████████████| 214/214 [01:50<00:00,  1.95it/s]\n",
      "2022-05-13 08:16:18,075 INFO: Epoch:[068/500]\n",
      "2022-05-13 08:16:18,076 INFO: Train Loss:0.132 | Acc:0.9632 | F1:0.8485\n",
      "2022-05-13 08:16:27,744 INFO: val Loss:0.165 | Acc:0.9556 | F1:0.7984\n"
     ]
    },
    {
     "name": "stdout",
     "output_type": "stream",
     "text": [
      "\n",
      "best epoch:65/loss:0.1570/f1:0.7501\n"
     ]
    },
    {
     "name": "stderr",
     "output_type": "stream",
     "text": [
      "100%|████████████████████████████████████████████████████████████████████████████████| 214/214 [01:49<00:00,  1.95it/s]\n",
      "2022-05-13 08:18:17,741 INFO: Epoch:[069/500]\n",
      "2022-05-13 08:18:17,741 INFO: Train Loss:0.150 | Acc:0.9620 | F1:0.8442\n",
      "2022-05-13 08:18:27,425 INFO: val Loss:0.185 | Acc:0.9591 | F1:0.7893\n"
     ]
    },
    {
     "name": "stdout",
     "output_type": "stream",
     "text": [
      "\n",
      "best epoch:65/loss:0.1570/f1:0.7501\n"
     ]
    },
    {
     "name": "stderr",
     "output_type": "stream",
     "text": [
      "100%|████████████████████████████████████████████████████████████████████████████████| 214/214 [01:50<00:00,  1.95it/s]\n",
      "2022-05-13 08:20:17,451 INFO: Epoch:[070/500]\n",
      "2022-05-13 08:20:17,452 INFO: Train Loss:0.121 | Acc:0.9670 | F1:0.8653\n",
      "2022-05-13 08:20:27,149 INFO: val Loss:0.194 | Acc:0.9485 | F1:0.7422\n"
     ]
    },
    {
     "name": "stdout",
     "output_type": "stream",
     "text": [
      "\n",
      "best epoch:65/loss:0.1570/f1:0.7501\n"
     ]
    },
    {
     "name": "stderr",
     "output_type": "stream",
     "text": [
      "100%|████████████████████████████████████████████████████████████████████████████████| 214/214 [01:49<00:00,  1.95it/s]\n",
      "2022-05-13 08:22:17,064 INFO: Epoch:[071/500]\n",
      "2022-05-13 08:22:17,065 INFO: Train Loss:0.128 | Acc:0.9667 | F1:0.8619\n",
      "2022-05-13 08:22:26,753 INFO: val Loss:0.198 | Acc:0.9544 | F1:0.7843\n"
     ]
    },
    {
     "name": "stdout",
     "output_type": "stream",
     "text": [
      "\n",
      "best epoch:65/loss:0.1570/f1:0.7501\n"
     ]
    },
    {
     "name": "stderr",
     "output_type": "stream",
     "text": [
      "100%|████████████████████████████████████████████████████████████████████████████████| 214/214 [01:49<00:00,  1.95it/s]\n",
      "2022-05-13 08:24:16,425 INFO: Epoch:[072/500]\n",
      "2022-05-13 08:24:16,425 INFO: Train Loss:0.138 | Acc:0.9684 | F1:0.8705\n",
      "2022-05-13 08:24:26,121 INFO: val Loss:0.191 | Acc:0.9520 | F1:0.7792\n"
     ]
    },
    {
     "name": "stdout",
     "output_type": "stream",
     "text": [
      "\n",
      "best epoch:65/loss:0.1570/f1:0.7501\n"
     ]
    },
    {
     "name": "stderr",
     "output_type": "stream",
     "text": [
      "100%|████████████████████████████████████████████████████████████████████████████████| 214/214 [01:50<00:00,  1.94it/s]\n",
      "2022-05-13 08:26:16,240 INFO: Epoch:[073/500]\n",
      "2022-05-13 08:26:16,241 INFO: Train Loss:0.132 | Acc:0.9623 | F1:0.8451\n",
      "2022-05-13 08:26:25,933 INFO: val Loss:0.208 | Acc:0.9532 | F1:0.7646\n"
     ]
    },
    {
     "name": "stdout",
     "output_type": "stream",
     "text": [
      "\n",
      "best epoch:65/loss:0.1570/f1:0.7501\n"
     ]
    },
    {
     "name": "stderr",
     "output_type": "stream",
     "text": [
      "100%|████████████████████████████████████████████████████████████████████████████████| 214/214 [01:50<00:00,  1.94it/s]\n",
      "2022-05-13 08:28:16,086 INFO: Epoch:[074/500]\n",
      "2022-05-13 08:28:16,087 INFO: Train Loss:0.142 | Acc:0.9635 | F1:0.8466\n",
      "2022-05-13 08:28:25,820 INFO: val Loss:0.191 | Acc:0.9579 | F1:0.7774\n"
     ]
    },
    {
     "name": "stdout",
     "output_type": "stream",
     "text": [
      "\n",
      "best epoch:65/loss:0.1570/f1:0.7501\n"
     ]
    },
    {
     "name": "stderr",
     "output_type": "stream",
     "text": [
      "100%|████████████████████████████████████████████████████████████████████████████████| 214/214 [01:49<00:00,  1.95it/s]\n",
      "2022-05-13 08:30:15,519 INFO: Epoch:[075/500]\n",
      "2022-05-13 08:30:15,519 INFO: Train Loss:0.134 | Acc:0.9658 | F1:0.8664\n",
      "2022-05-13 08:30:25,234 INFO: val Loss:0.206 | Acc:0.9532 | F1:0.7785\n"
     ]
    },
    {
     "name": "stdout",
     "output_type": "stream",
     "text": [
      "\n",
      "best epoch:65/loss:0.1570/f1:0.7501\n"
     ]
    },
    {
     "name": "stderr",
     "output_type": "stream",
     "text": [
      "100%|████████████████████████████████████████████████████████████████████████████████| 214/214 [01:49<00:00,  1.95it/s]\n",
      "2022-05-13 08:32:15,163 INFO: Epoch:[076/500]\n",
      "2022-05-13 08:32:15,164 INFO: Train Loss:0.115 | Acc:0.9670 | F1:0.8706\n",
      "2022-05-13 08:32:24,864 INFO: val Loss:0.211 | Acc:0.9368 | F1:0.7208\n"
     ]
    },
    {
     "name": "stdout",
     "output_type": "stream",
     "text": [
      "\n",
      "best epoch:65/loss:0.1570/f1:0.7501\n"
     ]
    },
    {
     "name": "stderr",
     "output_type": "stream",
     "text": [
      "100%|████████████████████████████████████████████████████████████████████████████████| 214/214 [01:50<00:00,  1.94it/s]\n",
      "2022-05-13 08:34:14,947 INFO: Epoch:[077/500]\n",
      "2022-05-13 08:34:14,947 INFO: Train Loss:0.128 | Acc:0.9664 | F1:0.8687\n",
      "2022-05-13 08:34:24,684 INFO: val Loss:0.171 | Acc:0.9602 | F1:0.8036\n"
     ]
    },
    {
     "name": "stdout",
     "output_type": "stream",
     "text": [
      "\n",
      "best epoch:65/loss:0.1570/f1:0.7501\n"
     ]
    },
    {
     "name": "stderr",
     "output_type": "stream",
     "text": [
      "100%|████████████████████████████████████████████████████████████████████████████████| 214/214 [01:49<00:00,  1.95it/s]\n",
      "2022-05-13 08:36:14,525 INFO: Epoch:[078/500]\n",
      "2022-05-13 08:36:14,526 INFO: Train Loss:0.133 | Acc:0.9667 | F1:0.8704\n",
      "2022-05-13 08:36:24,213 INFO: val Loss:0.225 | Acc:0.9485 | F1:0.7528\n"
     ]
    },
    {
     "name": "stdout",
     "output_type": "stream",
     "text": [
      "\n",
      "best epoch:65/loss:0.1570/f1:0.7501\n"
     ]
    },
    {
     "name": "stderr",
     "output_type": "stream",
     "text": [
      "100%|████████████████████████████████████████████████████████████████████████████████| 214/214 [01:49<00:00,  1.95it/s]\n",
      "2022-05-13 08:38:14,171 INFO: Epoch:[079/500]\n",
      "2022-05-13 08:38:14,171 INFO: Train Loss:0.140 | Acc:0.9632 | F1:0.8625\n",
      "2022-05-13 08:38:23,913 INFO: val Loss:0.149 | Acc:0.9591 | F1:0.8039\n",
      "2022-05-13 08:38:25,864 INFO: -----------------SAVE:79epoch----------------\n"
     ]
    },
    {
     "name": "stdout",
     "output_type": "stream",
     "text": [
      "\n",
      "best epoch:79/loss:0.1487/f1:0.8039\n"
     ]
    },
    {
     "name": "stderr",
     "output_type": "stream",
     "text": [
      "100%|████████████████████████████████████████████████████████████████████████████████| 214/214 [01:50<00:00,  1.95it/s]\n",
      "2022-05-13 08:40:15,894 INFO: Epoch:[080/500]\n",
      "2022-05-13 08:40:15,894 INFO: Train Loss:0.119 | Acc:0.9684 | F1:0.8717\n",
      "2022-05-13 08:40:25,622 INFO: val Loss:0.250 | Acc:0.9462 | F1:0.7642\n"
     ]
    },
    {
     "name": "stdout",
     "output_type": "stream",
     "text": [
      "\n",
      "best epoch:79/loss:0.1487/f1:0.8039\n"
     ]
    },
    {
     "name": "stderr",
     "output_type": "stream",
     "text": [
      "100%|████████████████████████████████████████████████████████████████████████████████| 214/214 [01:50<00:00,  1.94it/s]\n",
      "2022-05-13 08:42:15,860 INFO: Epoch:[081/500]\n",
      "2022-05-13 08:42:15,860 INFO: Train Loss:0.141 | Acc:0.9643 | F1:0.8708\n",
      "2022-05-13 08:42:25,562 INFO: val Loss:0.183 | Acc:0.9532 | F1:0.7638\n"
     ]
    },
    {
     "name": "stdout",
     "output_type": "stream",
     "text": [
      "\n",
      "best epoch:79/loss:0.1487/f1:0.8039\n"
     ]
    },
    {
     "name": "stderr",
     "output_type": "stream",
     "text": [
      "100%|████████████████████████████████████████████████████████████████████████████████| 214/214 [01:49<00:00,  1.95it/s]\n",
      "2022-05-13 08:44:15,500 INFO: Epoch:[082/500]\n",
      "2022-05-13 08:44:15,501 INFO: Train Loss:0.129 | Acc:0.9652 | F1:0.8778\n",
      "2022-05-13 08:44:25,218 INFO: val Loss:0.178 | Acc:0.9579 | F1:0.7698\n"
     ]
    },
    {
     "name": "stdout",
     "output_type": "stream",
     "text": [
      "\n",
      "best epoch:79/loss:0.1487/f1:0.8039\n"
     ]
    },
    {
     "name": "stderr",
     "output_type": "stream",
     "text": [
      "100%|████████████████████████████████████████████████████████████████████████████████| 214/214 [01:49<00:00,  1.95it/s]\n",
      "2022-05-13 08:46:15,202 INFO: Epoch:[083/500]\n",
      "2022-05-13 08:46:15,202 INFO: Train Loss:0.134 | Acc:0.9649 | F1:0.8612\n",
      "2022-05-13 08:46:24,923 INFO: val Loss:0.147 | Acc:0.9567 | F1:0.7923\n",
      "2022-05-13 08:46:26,904 INFO: -----------------SAVE:83epoch----------------\n"
     ]
    },
    {
     "name": "stdout",
     "output_type": "stream",
     "text": [
      "\n",
      "best epoch:83/loss:0.1470/f1:0.7923\n"
     ]
    },
    {
     "name": "stderr",
     "output_type": "stream",
     "text": [
      "100%|████████████████████████████████████████████████████████████████████████████████| 214/214 [01:50<00:00,  1.94it/s]\n",
      "2022-05-13 08:48:17,116 INFO: Epoch:[084/500]\n",
      "2022-05-13 08:48:17,116 INFO: Train Loss:0.116 | Acc:0.9711 | F1:0.8966\n",
      "2022-05-13 08:48:26,819 INFO: val Loss:0.172 | Acc:0.9591 | F1:0.7867\n"
     ]
    },
    {
     "name": "stdout",
     "output_type": "stream",
     "text": [
      "\n",
      "best epoch:83/loss:0.1470/f1:0.7923\n"
     ]
    },
    {
     "name": "stderr",
     "output_type": "stream",
     "text": [
      "100%|████████████████████████████████████████████████████████████████████████████████| 214/214 [01:49<00:00,  1.95it/s]\n",
      "2022-05-13 08:50:16,794 INFO: Epoch:[085/500]\n",
      "2022-05-13 08:50:16,794 INFO: Train Loss:0.123 | Acc:0.9681 | F1:0.8780\n",
      "2022-05-13 08:50:26,534 INFO: val Loss:0.216 | Acc:0.9532 | F1:0.7709\n"
     ]
    },
    {
     "name": "stdout",
     "output_type": "stream",
     "text": [
      "\n",
      "best epoch:83/loss:0.1470/f1:0.7923\n"
     ]
    },
    {
     "name": "stderr",
     "output_type": "stream",
     "text": [
      "100%|████████████████████████████████████████████████████████████████████████████████| 214/214 [01:50<00:00,  1.94it/s]\n",
      "2022-05-13 08:52:16,638 INFO: Epoch:[086/500]\n",
      "2022-05-13 08:52:16,638 INFO: Train Loss:0.125 | Acc:0.9679 | F1:0.8741\n",
      "2022-05-13 08:52:27,017 INFO: val Loss:0.205 | Acc:0.9532 | F1:0.7389\n"
     ]
    },
    {
     "name": "stdout",
     "output_type": "stream",
     "text": [
      "\n",
      "best epoch:83/loss:0.1470/f1:0.7923\n"
     ]
    },
    {
     "name": "stderr",
     "output_type": "stream",
     "text": [
      "100%|████████████████████████████████████████████████████████████████████████████████| 214/214 [01:52<00:00,  1.91it/s]\n",
      "2022-05-13 08:54:19,322 INFO: Epoch:[087/500]\n",
      "2022-05-13 08:54:19,322 INFO: Train Loss:0.131 | Acc:0.9661 | F1:0.8633\n",
      "2022-05-13 08:54:29,150 INFO: val Loss:0.219 | Acc:0.9415 | F1:0.7664\n"
     ]
    },
    {
     "name": "stdout",
     "output_type": "stream",
     "text": [
      "\n",
      "best epoch:83/loss:0.1470/f1:0.7923\n"
     ]
    },
    {
     "name": "stderr",
     "output_type": "stream",
     "text": [
      "100%|████████████████████████████████████████████████████████████████████████████████| 214/214 [01:52<00:00,  1.89it/s]\n",
      "2022-05-13 08:56:22,133 INFO: Epoch:[088/500]\n",
      "2022-05-13 08:56:22,133 INFO: Train Loss:0.119 | Acc:0.9687 | F1:0.8876\n",
      "2022-05-13 08:56:32,080 INFO: val Loss:0.198 | Acc:0.9544 | F1:0.7768\n"
     ]
    },
    {
     "name": "stdout",
     "output_type": "stream",
     "text": [
      "\n",
      "best epoch:83/loss:0.1470/f1:0.7923\n"
     ]
    },
    {
     "name": "stderr",
     "output_type": "stream",
     "text": [
      "100%|████████████████████████████████████████████████████████████████████████████████| 214/214 [01:53<00:00,  1.89it/s]\n",
      "2022-05-13 08:58:25,159 INFO: Epoch:[089/500]\n",
      "2022-05-13 08:58:25,160 INFO: Train Loss:0.138 | Acc:0.9670 | F1:0.8790\n",
      "2022-05-13 08:58:35,177 INFO: val Loss:0.274 | Acc:0.9532 | F1:0.8034\n"
     ]
    },
    {
     "name": "stdout",
     "output_type": "stream",
     "text": [
      "\n",
      "best epoch:83/loss:0.1470/f1:0.7923\n"
     ]
    },
    {
     "name": "stderr",
     "output_type": "stream",
     "text": [
      "100%|████████████████████████████████████████████████████████████████████████████████| 214/214 [01:53<00:00,  1.89it/s]\n",
      "2022-05-13 09:00:28,425 INFO: Epoch:[090/500]\n",
      "2022-05-13 09:00:28,426 INFO: Train Loss:0.142 | Acc:0.9661 | F1:0.8715\n",
      "2022-05-13 09:00:38,439 INFO: val Loss:0.174 | Acc:0.9532 | F1:0.7932\n"
     ]
    },
    {
     "name": "stdout",
     "output_type": "stream",
     "text": [
      "\n",
      "best epoch:83/loss:0.1470/f1:0.7923\n"
     ]
    },
    {
     "name": "stderr",
     "output_type": "stream",
     "text": [
      "100%|████████████████████████████████████████████████████████████████████████████████| 214/214 [01:53<00:00,  1.89it/s]\n",
      "2022-05-13 09:02:31,926 INFO: Epoch:[091/500]\n",
      "2022-05-13 09:02:31,927 INFO: Train Loss:0.133 | Acc:0.9635 | F1:0.8622\n",
      "2022-05-13 09:02:41,942 INFO: val Loss:0.185 | Acc:0.9544 | F1:0.7739\n"
     ]
    },
    {
     "name": "stdout",
     "output_type": "stream",
     "text": [
      "\n",
      "best epoch:83/loss:0.1470/f1:0.7923\n"
     ]
    },
    {
     "name": "stderr",
     "output_type": "stream",
     "text": [
      "100%|████████████████████████████████████████████████████████████████████████████████| 214/214 [01:54<00:00,  1.87it/s]\n",
      "2022-05-13 09:04:36,440 INFO: Epoch:[092/500]\n",
      "2022-05-13 09:04:36,440 INFO: Train Loss:0.120 | Acc:0.9670 | F1:0.8680\n",
      "2022-05-13 09:04:46,594 INFO: val Loss:0.204 | Acc:0.9532 | F1:0.7485\n"
     ]
    },
    {
     "name": "stdout",
     "output_type": "stream",
     "text": [
      "\n",
      "best epoch:83/loss:0.1470/f1:0.7923\n"
     ]
    },
    {
     "name": "stderr",
     "output_type": "stream",
     "text": [
      "100%|████████████████████████████████████████████████████████████████████████████████| 214/214 [01:55<00:00,  1.85it/s]\n",
      "2022-05-13 09:06:42,058 INFO: Epoch:[093/500]\n",
      "2022-05-13 09:06:42,059 INFO: Train Loss:0.119 | Acc:0.9676 | F1:0.8808\n",
      "2022-05-13 09:06:51,906 INFO: val Loss:0.186 | Acc:0.9591 | F1:0.7872\n"
     ]
    },
    {
     "name": "stdout",
     "output_type": "stream",
     "text": [
      "\n",
      "best epoch:83/loss:0.1470/f1:0.7923\n"
     ]
    },
    {
     "name": "stderr",
     "output_type": "stream",
     "text": [
      "100%|████████████████████████████████████████████████████████████████████████████████| 214/214 [01:51<00:00,  1.91it/s]\n",
      "2022-05-13 09:08:43,824 INFO: Epoch:[094/500]\n",
      "2022-05-13 09:08:43,824 INFO: Train Loss:0.119 | Acc:0.9681 | F1:0.8837\n",
      "2022-05-13 09:08:53,715 INFO: val Loss:0.154 | Acc:0.9614 | F1:0.7882\n"
     ]
    },
    {
     "name": "stdout",
     "output_type": "stream",
     "text": [
      "\n",
      "best epoch:83/loss:0.1470/f1:0.7923\n"
     ]
    },
    {
     "name": "stderr",
     "output_type": "stream",
     "text": [
      "100%|████████████████████████████████████████████████████████████████████████████████| 214/214 [01:51<00:00,  1.91it/s]\n",
      "2022-05-13 09:10:45,536 INFO: Epoch:[095/500]\n",
      "2022-05-13 09:10:45,537 INFO: Train Loss:0.134 | Acc:0.9626 | F1:0.8661\n",
      "2022-05-13 09:10:55,365 INFO: val Loss:0.146 | Acc:0.9591 | F1:0.7738\n",
      "2022-05-13 09:10:57,333 INFO: -----------------SAVE:95epoch----------------\n"
     ]
    },
    {
     "name": "stdout",
     "output_type": "stream",
     "text": [
      "\n",
      "best epoch:95/loss:0.1460/f1:0.7738\n"
     ]
    },
    {
     "name": "stderr",
     "output_type": "stream",
     "text": [
      "100%|████████████████████████████████████████████████████████████████████████████████| 214/214 [01:51<00:00,  1.91it/s]\n",
      "2022-05-13 09:12:49,256 INFO: Epoch:[096/500]\n",
      "2022-05-13 09:12:49,256 INFO: Train Loss:0.122 | Acc:0.9693 | F1:0.8781\n",
      "2022-05-13 09:12:59,119 INFO: val Loss:0.198 | Acc:0.9591 | F1:0.8010\n"
     ]
    },
    {
     "name": "stdout",
     "output_type": "stream",
     "text": [
      "\n",
      "best epoch:95/loss:0.1460/f1:0.7738\n"
     ]
    },
    {
     "name": "stderr",
     "output_type": "stream",
     "text": [
      "100%|████████████████████████████████████████████████████████████████████████████████| 214/214 [01:51<00:00,  1.91it/s]\n",
      "2022-05-13 09:14:51,039 INFO: Epoch:[097/500]\n",
      "2022-05-13 09:14:51,039 INFO: Train Loss:0.139 | Acc:0.9646 | F1:0.8587\n",
      "2022-05-13 09:15:00,953 INFO: val Loss:0.170 | Acc:0.9602 | F1:0.8080\n"
     ]
    },
    {
     "name": "stdout",
     "output_type": "stream",
     "text": [
      "\n",
      "best epoch:95/loss:0.1460/f1:0.7738\n"
     ]
    },
    {
     "name": "stderr",
     "output_type": "stream",
     "text": [
      "100%|████████████████████████████████████████████████████████████████████████████████| 214/214 [01:51<00:00,  1.92it/s]\n",
      "2022-05-13 09:16:52,667 INFO: Epoch:[098/500]\n",
      "2022-05-13 09:16:52,667 INFO: Train Loss:0.119 | Acc:0.9652 | F1:0.8660\n",
      "2022-05-13 09:17:02,598 INFO: val Loss:0.180 | Acc:0.9614 | F1:0.8089\n"
     ]
    },
    {
     "name": "stdout",
     "output_type": "stream",
     "text": [
      "\n",
      "best epoch:95/loss:0.1460/f1:0.7738\n"
     ]
    },
    {
     "name": "stderr",
     "output_type": "stream",
     "text": [
      "100%|████████████████████████████████████████████████████████████████████████████████| 214/214 [01:52<00:00,  1.91it/s]\n",
      "2022-05-13 09:18:54,835 INFO: Epoch:[099/500]\n",
      "2022-05-13 09:18:54,835 INFO: Train Loss:0.113 | Acc:0.9699 | F1:0.8930\n",
      "2022-05-13 09:19:04,825 INFO: val Loss:0.153 | Acc:0.9626 | F1:0.7998\n"
     ]
    },
    {
     "name": "stdout",
     "output_type": "stream",
     "text": [
      "\n",
      "best epoch:95/loss:0.1460/f1:0.7738\n"
     ]
    },
    {
     "name": "stderr",
     "output_type": "stream",
     "text": [
      "100%|████████████████████████████████████████████████████████████████████████████████| 214/214 [01:52<00:00,  1.91it/s]\n",
      "2022-05-13 09:20:57,028 INFO: Epoch:[100/500]\n",
      "2022-05-13 09:20:57,028 INFO: Train Loss:0.106 | Acc:0.9705 | F1:0.8786\n",
      "2022-05-13 09:21:06,997 INFO: val Loss:0.138 | Acc:0.9626 | F1:0.8156\n",
      "2022-05-13 09:21:08,999 INFO: -----------------SAVE:100epoch----------------\n"
     ]
    },
    {
     "name": "stdout",
     "output_type": "stream",
     "text": [
      "\n",
      "best epoch:100/loss:0.1383/f1:0.8156\n"
     ]
    },
    {
     "name": "stderr",
     "output_type": "stream",
     "text": [
      "100%|████████████████████████████████████████████████████████████████████████████████| 214/214 [01:52<00:00,  1.90it/s]\n",
      "2022-05-13 09:23:01,403 INFO: Epoch:[101/500]\n",
      "2022-05-13 09:23:01,404 INFO: Train Loss:0.116 | Acc:0.9670 | F1:0.8624\n",
      "2022-05-13 09:23:11,340 INFO: val Loss:0.156 | Acc:0.9532 | F1:0.8365\n"
     ]
    },
    {
     "name": "stdout",
     "output_type": "stream",
     "text": [
      "\n",
      "best epoch:100/loss:0.1383/f1:0.8156\n"
     ]
    },
    {
     "name": "stderr",
     "output_type": "stream",
     "text": [
      "100%|████████████████████████████████████████████████████████████████████████████████| 214/214 [01:57<00:00,  1.82it/s]\n",
      "2022-05-13 09:25:09,115 INFO: Epoch:[102/500]\n",
      "2022-05-13 09:25:09,115 INFO: Train Loss:0.114 | Acc:0.9699 | F1:0.8861\n",
      "2022-05-13 09:25:19,993 INFO: val Loss:0.148 | Acc:0.9649 | F1:0.8145\n"
     ]
    },
    {
     "name": "stdout",
     "output_type": "stream",
     "text": [
      "\n",
      "best epoch:100/loss:0.1383/f1:0.8156\n"
     ]
    },
    {
     "name": "stderr",
     "output_type": "stream",
     "text": [
      "100%|████████████████████████████████████████████████████████████████████████████████| 214/214 [01:58<00:00,  1.81it/s]\n",
      "2022-05-13 09:27:18,037 INFO: Epoch:[103/500]\n",
      "2022-05-13 09:27:18,038 INFO: Train Loss:0.127 | Acc:0.9725 | F1:0.9040\n",
      "2022-05-13 09:27:28,596 INFO: val Loss:0.146 | Acc:0.9591 | F1:0.7764\n"
     ]
    },
    {
     "name": "stdout",
     "output_type": "stream",
     "text": [
      "\n",
      "best epoch:100/loss:0.1383/f1:0.8156\n"
     ]
    },
    {
     "name": "stderr",
     "output_type": "stream",
     "text": [
      "100%|████████████████████████████████████████████████████████████████████████████████| 214/214 [02:00<00:00,  1.78it/s]\n",
      "2022-05-13 09:29:28,961 INFO: Epoch:[104/500]\n",
      "2022-05-13 09:29:28,962 INFO: Train Loss:0.102 | Acc:0.9711 | F1:0.8945\n",
      "2022-05-13 09:29:40,089 INFO: val Loss:0.333 | Acc:0.9450 | F1:0.7801\n"
     ]
    },
    {
     "name": "stdout",
     "output_type": "stream",
     "text": [
      "\n",
      "best epoch:100/loss:0.1383/f1:0.8156\n"
     ]
    },
    {
     "name": "stderr",
     "output_type": "stream",
     "text": [
      "100%|████████████████████████████████████████████████████████████████████████████████| 214/214 [01:59<00:00,  1.79it/s]\n",
      "2022-05-13 09:31:39,852 INFO: Epoch:[105/500]\n",
      "2022-05-13 09:31:39,853 INFO: Train Loss:0.118 | Acc:0.9696 | F1:0.8910\n",
      "2022-05-13 09:31:50,530 INFO: val Loss:0.157 | Acc:0.9579 | F1:0.7874\n"
     ]
    },
    {
     "name": "stdout",
     "output_type": "stream",
     "text": [
      "\n",
      "best epoch:100/loss:0.1383/f1:0.8156\n"
     ]
    },
    {
     "name": "stderr",
     "output_type": "stream",
     "text": [
      "100%|████████████████████████████████████████████████████████████████████████████████| 214/214 [02:00<00:00,  1.78it/s]\n",
      "2022-05-13 09:33:50,626 INFO: Epoch:[106/500]\n",
      "2022-05-13 09:33:50,626 INFO: Train Loss:0.131 | Acc:0.9664 | F1:0.8722\n",
      "2022-05-13 09:34:01,819 INFO: val Loss:0.174 | Acc:0.9614 | F1:0.8386\n"
     ]
    },
    {
     "name": "stdout",
     "output_type": "stream",
     "text": [
      "\n",
      "best epoch:100/loss:0.1383/f1:0.8156\n"
     ]
    },
    {
     "name": "stderr",
     "output_type": "stream",
     "text": [
      "100%|████████████████████████████████████████████████████████████████████████████████| 214/214 [02:01<00:00,  1.77it/s]\n",
      "2022-05-13 09:36:02,860 INFO: Epoch:[107/500]\n",
      "2022-05-13 09:36:02,860 INFO: Train Loss:0.117 | Acc:0.9690 | F1:0.8819\n",
      "2022-05-13 09:36:13,814 INFO: val Loss:0.186 | Acc:0.9567 | F1:0.7933\n"
     ]
    },
    {
     "name": "stdout",
     "output_type": "stream",
     "text": [
      "\n",
      "best epoch:100/loss:0.1383/f1:0.8156\n"
     ]
    },
    {
     "name": "stderr",
     "output_type": "stream",
     "text": [
      "100%|████████████████████████████████████████████████████████████████████████████████| 214/214 [01:58<00:00,  1.80it/s]\n",
      "2022-05-13 09:38:12,727 INFO: Epoch:[108/500]\n",
      "2022-05-13 09:38:12,727 INFO: Train Loss:0.117 | Acc:0.9679 | F1:0.8853\n",
      "2022-05-13 09:38:23,543 INFO: val Loss:0.180 | Acc:0.9614 | F1:0.8189\n"
     ]
    },
    {
     "name": "stdout",
     "output_type": "stream",
     "text": [
      "\n",
      "best epoch:100/loss:0.1383/f1:0.8156\n"
     ]
    },
    {
     "name": "stderr",
     "output_type": "stream",
     "text": [
      "100%|████████████████████████████████████████████████████████████████████████████████| 214/214 [02:00<00:00,  1.77it/s]\n",
      "2022-05-13 09:40:24,258 INFO: Epoch:[109/500]\n",
      "2022-05-13 09:40:24,258 INFO: Train Loss:0.115 | Acc:0.9687 | F1:0.8921\n",
      "2022-05-13 09:40:35,093 INFO: val Loss:0.173 | Acc:0.9532 | F1:0.7942\n"
     ]
    },
    {
     "name": "stdout",
     "output_type": "stream",
     "text": [
      "\n",
      "best epoch:100/loss:0.1383/f1:0.8156\n"
     ]
    },
    {
     "name": "stderr",
     "output_type": "stream",
     "text": [
      "100%|████████████████████████████████████████████████████████████████████████████████| 214/214 [02:00<00:00,  1.77it/s]\n",
      "2022-05-13 09:42:35,980 INFO: Epoch:[110/500]\n",
      "2022-05-13 09:42:35,980 INFO: Train Loss:0.113 | Acc:0.9711 | F1:0.8958\n",
      "2022-05-13 09:42:46,754 INFO: val Loss:0.149 | Acc:0.9591 | F1:0.8248\n"
     ]
    },
    {
     "name": "stdout",
     "output_type": "stream",
     "text": [
      "\n",
      "best epoch:100/loss:0.1383/f1:0.8156\n"
     ]
    },
    {
     "name": "stderr",
     "output_type": "stream",
     "text": [
      "100%|████████████████████████████████████████████████████████████████████████████████| 214/214 [02:01<00:00,  1.76it/s]\n",
      "2022-05-13 09:44:48,285 INFO: Epoch:[111/500]\n",
      "2022-05-13 09:44:48,285 INFO: Train Loss:0.141 | Acc:0.9655 | F1:0.8693\n",
      "2022-05-13 09:44:59,068 INFO: val Loss:0.137 | Acc:0.9626 | F1:0.8230\n",
      "2022-05-13 09:45:01,000 INFO: -----------------SAVE:111epoch----------------\n"
     ]
    },
    {
     "name": "stdout",
     "output_type": "stream",
     "text": [
      "\n",
      "best epoch:111/loss:0.1370/f1:0.8230\n"
     ]
    },
    {
     "name": "stderr",
     "output_type": "stream",
     "text": [
      "100%|████████████████████████████████████████████████████████████████████████████████| 214/214 [02:00<00:00,  1.77it/s]\n",
      "2022-05-13 09:47:01,588 INFO: Epoch:[112/500]\n",
      "2022-05-13 09:47:01,588 INFO: Train Loss:0.109 | Acc:0.9725 | F1:0.8965\n",
      "2022-05-13 09:47:12,430 INFO: val Loss:0.177 | Acc:0.9544 | F1:0.7777\n"
     ]
    },
    {
     "name": "stdout",
     "output_type": "stream",
     "text": [
      "\n",
      "best epoch:111/loss:0.1370/f1:0.8230\n"
     ]
    },
    {
     "name": "stderr",
     "output_type": "stream",
     "text": [
      "100%|████████████████████████████████████████████████████████████████████████████████| 214/214 [02:00<00:00,  1.78it/s]\n",
      "2022-05-13 09:49:12,923 INFO: Epoch:[113/500]\n",
      "2022-05-13 09:49:12,924 INFO: Train Loss:0.110 | Acc:0.9708 | F1:0.8863\n",
      "2022-05-13 09:49:23,800 INFO: val Loss:0.212 | Acc:0.9556 | F1:0.8186\n"
     ]
    },
    {
     "name": "stdout",
     "output_type": "stream",
     "text": [
      "\n",
      "best epoch:111/loss:0.1370/f1:0.8230\n"
     ]
    },
    {
     "name": "stderr",
     "output_type": "stream",
     "text": [
      "100%|████████████████████████████████████████████████████████████████████████████████| 214/214 [01:59<00:00,  1.79it/s]\n",
      "2022-05-13 09:51:23,072 INFO: Epoch:[114/500]\n",
      "2022-05-13 09:51:23,073 INFO: Train Loss:0.115 | Acc:0.9673 | F1:0.8776\n",
      "2022-05-13 09:51:33,829 INFO: val Loss:0.187 | Acc:0.9474 | F1:0.7777\n"
     ]
    },
    {
     "name": "stdout",
     "output_type": "stream",
     "text": [
      "\n",
      "best epoch:111/loss:0.1370/f1:0.8230\n"
     ]
    },
    {
     "name": "stderr",
     "output_type": "stream",
     "text": [
      "100%|████████████████████████████████████████████████████████████████████████████████| 214/214 [01:58<00:00,  1.81it/s]\n",
      "2022-05-13 09:53:31,892 INFO: Epoch:[115/500]\n",
      "2022-05-13 09:53:31,893 INFO: Train Loss:0.104 | Acc:0.9714 | F1:0.8994\n",
      "2022-05-13 09:53:42,413 INFO: val Loss:0.365 | Acc:0.9123 | F1:0.7931\n"
     ]
    },
    {
     "name": "stdout",
     "output_type": "stream",
     "text": [
      "\n",
      "best epoch:111/loss:0.1370/f1:0.8230\n"
     ]
    },
    {
     "name": "stderr",
     "output_type": "stream",
     "text": [
      "100%|████████████████████████████████████████████████████████████████████████████████| 214/214 [01:57<00:00,  1.82it/s]\n",
      "2022-05-13 09:55:40,023 INFO: Epoch:[116/500]\n",
      "2022-05-13 09:55:40,024 INFO: Train Loss:0.118 | Acc:0.9684 | F1:0.8754\n",
      "2022-05-13 09:55:50,619 INFO: val Loss:0.154 | Acc:0.9579 | F1:0.8161\n"
     ]
    },
    {
     "name": "stdout",
     "output_type": "stream",
     "text": [
      "\n",
      "best epoch:111/loss:0.1370/f1:0.8230\n"
     ]
    },
    {
     "name": "stderr",
     "output_type": "stream",
     "text": [
      "100%|████████████████████████████████████████████████████████████████████████████████| 214/214 [01:57<00:00,  1.82it/s]\n",
      "2022-05-13 09:57:48,093 INFO: Epoch:[117/500]\n",
      "2022-05-13 09:57:48,094 INFO: Train Loss:0.117 | Acc:0.9676 | F1:0.8674\n",
      "2022-05-13 09:57:58,643 INFO: val Loss:0.197 | Acc:0.9462 | F1:0.8003\n"
     ]
    },
    {
     "name": "stdout",
     "output_type": "stream",
     "text": [
      "\n",
      "best epoch:111/loss:0.1370/f1:0.8230\n"
     ]
    },
    {
     "name": "stderr",
     "output_type": "stream",
     "text": [
      "100%|████████████████████████████████████████████████████████████████████████████████| 214/214 [01:57<00:00,  1.82it/s]\n",
      "2022-05-13 09:59:55,992 INFO: Epoch:[118/500]\n",
      "2022-05-13 09:59:55,993 INFO: Train Loss:0.115 | Acc:0.9699 | F1:0.8740\n",
      "2022-05-13 10:00:06,736 INFO: val Loss:0.122 | Acc:0.9673 | F1:0.8505\n",
      "2022-05-13 10:00:08,714 INFO: -----------------SAVE:118epoch----------------\n"
     ]
    },
    {
     "name": "stdout",
     "output_type": "stream",
     "text": [
      "\n",
      "best epoch:118/loss:0.1222/f1:0.8505\n"
     ]
    },
    {
     "name": "stderr",
     "output_type": "stream",
     "text": [
      "100%|████████████████████████████████████████████████████████████████████████████████| 214/214 [01:57<00:00,  1.82it/s]\n",
      "2022-05-13 10:02:06,178 INFO: Epoch:[119/500]\n",
      "2022-05-13 10:02:06,179 INFO: Train Loss:0.115 | Acc:0.9722 | F1:0.9042\n",
      "2022-05-13 10:02:16,734 INFO: val Loss:0.124 | Acc:0.9684 | F1:0.8393\n"
     ]
    },
    {
     "name": "stdout",
     "output_type": "stream",
     "text": [
      "\n",
      "best epoch:118/loss:0.1222/f1:0.8505\n"
     ]
    },
    {
     "name": "stderr",
     "output_type": "stream",
     "text": [
      "100%|████████████████████████████████████████████████████████████████████████████████| 214/214 [01:57<00:00,  1.82it/s]\n",
      "2022-05-13 10:04:14,220 INFO: Epoch:[120/500]\n",
      "2022-05-13 10:04:14,220 INFO: Train Loss:0.106 | Acc:0.9734 | F1:0.8966\n",
      "2022-05-13 10:04:24,819 INFO: val Loss:0.217 | Acc:0.9474 | F1:0.8010\n"
     ]
    },
    {
     "name": "stdout",
     "output_type": "stream",
     "text": [
      "\n",
      "best epoch:118/loss:0.1222/f1:0.8505\n"
     ]
    },
    {
     "name": "stderr",
     "output_type": "stream",
     "text": [
      "100%|████████████████████████████████████████████████████████████████████████████████| 214/214 [01:58<00:00,  1.81it/s]\n",
      "2022-05-13 10:06:23,347 INFO: Epoch:[121/500]\n",
      "2022-05-13 10:06:23,347 INFO: Train Loss:0.106 | Acc:0.9725 | F1:0.9045\n",
      "2022-05-13 10:06:33,943 INFO: val Loss:0.199 | Acc:0.9544 | F1:0.8400\n"
     ]
    },
    {
     "name": "stdout",
     "output_type": "stream",
     "text": [
      "\n",
      "best epoch:118/loss:0.1222/f1:0.8505\n"
     ]
    },
    {
     "name": "stderr",
     "output_type": "stream",
     "text": [
      "100%|████████████████████████████████████████████████████████████████████████████████| 214/214 [03:53<00:00,  1.09s/it]\n",
      "2022-05-13 10:10:27,463 INFO: Epoch:[122/500]\n",
      "2022-05-13 10:10:27,464 INFO: Train Loss:0.109 | Acc:0.9705 | F1:0.8885\n",
      "2022-05-13 10:11:16,180 INFO: val Loss:0.153 | Acc:0.9614 | F1:0.7857\n"
     ]
    },
    {
     "name": "stdout",
     "output_type": "stream",
     "text": [
      "\n",
      "best epoch:118/loss:0.1222/f1:0.8505\n"
     ]
    },
    {
     "name": "stderr",
     "output_type": "stream",
     "text": [
      "100%|████████████████████████████████████████████████████████████████████████████████| 214/214 [06:25<00:00,  1.80s/it]\n",
      "2022-05-13 10:17:41,748 INFO: Epoch:[123/500]\n",
      "2022-05-13 10:17:41,748 INFO: Train Loss:0.111 | Acc:0.9684 | F1:0.8870\n",
      "2022-05-13 10:18:30,209 INFO: val Loss:0.153 | Acc:0.9602 | F1:0.7908\n"
     ]
    },
    {
     "name": "stdout",
     "output_type": "stream",
     "text": [
      "\n",
      "best epoch:118/loss:0.1222/f1:0.8505\n"
     ]
    },
    {
     "name": "stderr",
     "output_type": "stream",
     "text": [
      "100%|████████████████████████████████████████████████████████████████████████████████| 214/214 [06:27<00:00,  1.81s/it]\n",
      "2022-05-13 10:24:57,627 INFO: Epoch:[124/500]\n",
      "2022-05-13 10:24:57,628 INFO: Train Loss:0.102 | Acc:0.9734 | F1:0.9076\n",
      "2022-05-13 10:25:45,441 INFO: val Loss:0.222 | Acc:0.9520 | F1:0.7780\n"
     ]
    },
    {
     "name": "stdout",
     "output_type": "stream",
     "text": [
      "\n",
      "best epoch:118/loss:0.1222/f1:0.8505\n"
     ]
    },
    {
     "name": "stderr",
     "output_type": "stream",
     "text": [
      "100%|████████████████████████████████████████████████████████████████████████████████| 214/214 [06:33<00:00,  1.84s/it]\n",
      "2022-05-13 10:32:19,035 INFO: Epoch:[125/500]\n",
      "2022-05-13 10:32:19,036 INFO: Train Loss:0.103 | Acc:0.9714 | F1:0.8968\n",
      "2022-05-13 10:33:04,048 INFO: val Loss:0.140 | Acc:0.9661 | F1:0.8214\n"
     ]
    },
    {
     "name": "stdout",
     "output_type": "stream",
     "text": [
      "\n",
      "best epoch:118/loss:0.1222/f1:0.8505\n"
     ]
    },
    {
     "name": "stderr",
     "output_type": "stream",
     "text": [
      "100%|████████████████████████████████████████████████████████████████████████████████| 214/214 [06:07<00:00,  1.72s/it]\n",
      "2022-05-13 10:39:11,694 INFO: Epoch:[126/500]\n",
      "2022-05-13 10:39:11,695 INFO: Train Loss:0.097 | Acc:0.9737 | F1:0.9026\n",
      "2022-05-13 10:39:24,373 INFO: val Loss:0.164 | Acc:0.9637 | F1:0.8040\n"
     ]
    },
    {
     "name": "stdout",
     "output_type": "stream",
     "text": [
      "\n",
      "best epoch:118/loss:0.1222/f1:0.8505\n"
     ]
    },
    {
     "name": "stderr",
     "output_type": "stream",
     "text": [
      "100%|████████████████████████████████████████████████████████████████████████████████| 214/214 [02:13<00:00,  1.60it/s]\n",
      "2022-05-13 10:41:38,242 INFO: Epoch:[127/500]\n",
      "2022-05-13 10:41:38,242 INFO: Train Loss:0.124 | Acc:0.9684 | F1:0.8797\n",
      "2022-05-13 10:41:50,791 INFO: val Loss:0.167 | Acc:0.9602 | F1:0.7948\n"
     ]
    },
    {
     "name": "stdout",
     "output_type": "stream",
     "text": [
      "\n",
      "best epoch:118/loss:0.1222/f1:0.8505\n"
     ]
    },
    {
     "name": "stderr",
     "output_type": "stream",
     "text": [
      "100%|████████████████████████████████████████████████████████████████████████████████| 214/214 [01:59<00:00,  1.79it/s]\n",
      "2022-05-13 10:43:50,589 INFO: Epoch:[128/500]\n",
      "2022-05-13 10:43:50,589 INFO: Train Loss:0.121 | Acc:0.9664 | F1:0.8753\n",
      "2022-05-13 10:44:00,614 INFO: val Loss:0.142 | Acc:0.9626 | F1:0.8037\n"
     ]
    },
    {
     "name": "stdout",
     "output_type": "stream",
     "text": [
      "\n",
      "best epoch:118/loss:0.1222/f1:0.8505\n"
     ]
    },
    {
     "name": "stderr",
     "output_type": "stream",
     "text": [
      "100%|████████████████████████████████████████████████████████████████████████████████| 214/214 [01:55<00:00,  1.86it/s]\n",
      "2022-05-13 10:45:55,793 INFO: Epoch:[129/500]\n",
      "2022-05-13 10:45:55,794 INFO: Train Loss:0.107 | Acc:0.9714 | F1:0.8931\n",
      "2022-05-13 10:46:05,860 INFO: val Loss:0.182 | Acc:0.9579 | F1:0.8060\n"
     ]
    },
    {
     "name": "stdout",
     "output_type": "stream",
     "text": [
      "\n",
      "best epoch:118/loss:0.1222/f1:0.8505\n"
     ]
    },
    {
     "name": "stderr",
     "output_type": "stream",
     "text": [
      "100%|████████████████████████████████████████████████████████████████████████████████| 214/214 [01:55<00:00,  1.85it/s]\n",
      "2022-05-13 10:48:01,381 INFO: Epoch:[130/500]\n",
      "2022-05-13 10:48:01,381 INFO: Train Loss:0.116 | Acc:0.9676 | F1:0.8791\n",
      "2022-05-13 10:48:11,530 INFO: val Loss:0.148 | Acc:0.9591 | F1:0.8024\n"
     ]
    },
    {
     "name": "stdout",
     "output_type": "stream",
     "text": [
      "\n",
      "best epoch:118/loss:0.1222/f1:0.8505\n"
     ]
    },
    {
     "name": "stderr",
     "output_type": "stream",
     "text": [
      "100%|████████████████████████████████████████████████████████████████████████████████| 214/214 [01:54<00:00,  1.87it/s]\n",
      "2022-05-13 10:50:05,938 INFO: Epoch:[131/500]\n",
      "2022-05-13 10:50:05,939 INFO: Train Loss:0.106 | Acc:0.9728 | F1:0.8985\n",
      "2022-05-13 10:50:15,865 INFO: val Loss:0.154 | Acc:0.9591 | F1:0.8029\n"
     ]
    },
    {
     "name": "stdout",
     "output_type": "stream",
     "text": [
      "\n",
      "best epoch:118/loss:0.1222/f1:0.8505\n"
     ]
    },
    {
     "name": "stderr",
     "output_type": "stream",
     "text": [
      "100%|████████████████████████████████████████████████████████████████████████████████| 214/214 [01:54<00:00,  1.87it/s]\n",
      "2022-05-13 10:52:10,461 INFO: Epoch:[132/500]\n",
      "2022-05-13 10:52:10,462 INFO: Train Loss:0.105 | Acc:0.9684 | F1:0.8793\n",
      "2022-05-13 10:52:20,374 INFO: val Loss:0.153 | Acc:0.9637 | F1:0.8290\n"
     ]
    },
    {
     "name": "stdout",
     "output_type": "stream",
     "text": [
      "\n",
      "best epoch:118/loss:0.1222/f1:0.8505\n"
     ]
    },
    {
     "name": "stderr",
     "output_type": "stream",
     "text": [
      " 39%|███████████████████████████████▍                                                 | 83/214 [00:44<01:10,  1.86it/s]"
     ]
    }
   ],
   "source": [
    "for s_fold in range(2, 5): # 5fold\n",
    "    args.fold = s_fold\n",
    "    args.exp_num = str(s_fold)\n",
    "    save_path = main(args)\n",
    "    models_path.append(save_path)"
   ]
  },
  {
   "cell_type": "code",
   "execution_count": null,
   "id": "7929e3e1",
   "metadata": {},
   "outputs": [],
   "source": []
  },
  {
   "cell_type": "code",
   "execution_count": null,
   "id": "04ec8133",
   "metadata": {},
   "outputs": [],
   "source": []
  },
  {
   "cell_type": "markdown",
   "id": "6da5738b",
   "metadata": {},
   "source": [
    "### 4 추가 후 합치기"
   ]
  },
  {
   "cell_type": "code",
   "execution_count": null,
   "id": "2d127bce",
   "metadata": {},
   "outputs": [],
   "source": []
  },
  {
   "cell_type": "code",
   "execution_count": null,
   "id": "99848c08",
   "metadata": {},
   "outputs": [],
   "source": []
  },
  {
   "cell_type": "code",
   "execution_count": null,
   "id": "4687160a",
   "metadata": {},
   "outputs": [],
   "source": []
  },
  {
   "cell_type": "markdown",
   "id": "94b45485",
   "metadata": {},
   "source": [
    "### ensemble 진행"
   ]
  },
  {
   "cell_type": "code",
   "execution_count": null,
   "id": "d5803db0",
   "metadata": {},
   "outputs": [],
   "source": [
    "ensemble = ensemble_5fold(models_path, test_loader, device)"
   ]
  },
  {
   "cell_type": "code",
   "execution_count": null,
   "id": "224f82de",
   "metadata": {},
   "outputs": [],
   "source": [
    "# For submission\n",
    "sub.iloc[:, 1] = ensemble.argmax(axis=1)\n",
    "labels = ['bottle-broken_large', 'bottle-broken_small', 'bottle-contamination', 'bottle-good', 'cable-bent_wire', 'cable-cable_swap', 'cable-combined', 'cable-cut_inner_insulation', 'cable-cut_outer_insulation', 'cable-good', 'cable-missing_cable', 'cable-missing_wire', 'cable-poke_insulation', 'capsule-crack', 'capsule-faulty_imprint', 'capsule-good', 'capsule-poke', 'capsule-scratch', 'capsule-squeeze', 'carpet-color', 'carpet-cut', 'carpet-good', 'carpet-hole', 'carpet-metal_contamination', 'carpet-thread', 'grid-bent', 'grid-broken', 'grid-glue', 'grid-good', 'grid-metal_contamination', 'grid-thread', 'hazelnut-crack', 'hazelnut-cut', 'hazelnut-good', 'hazelnut-hole', 'hazelnut-print', 'leather-color', 'leather-cut', 'leather-fold', 'leather-glue', 'leather-good', 'leather-poke', 'metal_nut-bent', 'metal_nut-color', 'metal_nut-flip', 'metal_nut-good', 'metal_nut-scratch', 'pill-color', 'pill-combined', 'pill-contamination', 'pill-crack', 'pill-faulty_imprint', 'pill-good', 'pill-pill_type', 'pill-scratch', 'screw-good', 'screw-manipulated_front', 'screw-scratch_head', 'screw-scratch_neck', 'screw-thread_side', 'screw-thread_top', 'tile-crack', 'tile-glue_strip', 'tile-good', 'tile-gray_stroke', 'tile-oil', 'tile-rough', 'toothbrush-defective', 'toothbrush-good', 'transistor-bent_lead', 'transistor-cut_lead', 'transistor-damaged_case', 'transistor-good', 'transistor-misplaced', 'wood-color', 'wood-combined', 'wood-good', 'wood-hole', 'wood-liquid', 'wood-scratch', 'zipper-broken_teeth', 'zipper-combined', 'zipper-fabric_border', 'zipper-fabric_interior', 'zipper-good', 'zipper-rough', 'zipper-split_teeth', 'zipper-squeezed_teeth']\n",
    "original_labels = dict(zip(range(len(labels)),labels))\n",
    "sub['label'] = sub['label'].replace(original_labels)\n",
    "sub"
   ]
  },
  {
   "cell_type": "code",
   "execution_count": null,
   "id": "796ea827",
   "metadata": {},
   "outputs": [],
   "source": [
    "sub.to_csv('./data/0512_2_submission.csv', index=False)"
   ]
  },
  {
   "cell_type": "code",
   "execution_count": null,
   "id": "0a5c5880",
   "metadata": {},
   "outputs": [],
   "source": [
    "# 정상 샘플 개수\n",
    "good_cnt = 0\n",
    "for i in range(len(sub)):\n",
    "    if sub['label'][i][-4:] == 'good':\n",
    "        good_cnt += 1\n",
    "print(good_cnt)"
   ]
  },
  {
   "cell_type": "code",
   "execution_count": null,
   "id": "82f050c4",
   "metadata": {},
   "outputs": [],
   "source": [
    "# 학습에 사용한 모델의 batch_size, epoch, img_size 기록\n",
    "print('batch_size =', args.batch_size)\n",
    "print('epochs =', args.epochs)\n",
    "print('img_size =', args.img_size)\n",
    "print('patience =', args.patience)"
   ]
  },
  {
   "cell_type": "code",
   "execution_count": null,
   "id": "28937c58",
   "metadata": {},
   "outputs": [],
   "source": [
    "print('model =', args.encoder_name)"
   ]
  },
  {
   "cell_type": "code",
   "execution_count": null,
   "id": "e62b7ec7",
   "metadata": {},
   "outputs": [],
   "source": []
  },
  {
   "cell_type": "code",
   "execution_count": null,
   "id": "57c914b5",
   "metadata": {},
   "outputs": [],
   "source": []
  },
  {
   "cell_type": "code",
   "execution_count": null,
   "id": "03c6a1c4",
   "metadata": {},
   "outputs": [],
   "source": []
  },
  {
   "cell_type": "code",
   "execution_count": null,
   "id": "4ecf5bd2",
   "metadata": {},
   "outputs": [],
   "source": []
  },
  {
   "cell_type": "code",
   "execution_count": null,
   "id": "cc30dd85",
   "metadata": {},
   "outputs": [],
   "source": []
  },
  {
   "cell_type": "code",
   "execution_count": null,
   "id": "cef2c83d",
   "metadata": {},
   "outputs": [],
   "source": []
  },
  {
   "cell_type": "code",
   "execution_count": null,
   "id": "ff18034a",
   "metadata": {},
   "outputs": [],
   "source": []
  }
 ],
 "metadata": {
  "kernelspec": {
   "display_name": "Python [conda env:machine_torch] *",
   "language": "python",
   "name": "conda-env-machine_torch-py"
  },
  "language_info": {
   "codemirror_mode": {
    "name": "ipython",
    "version": 3
   },
   "file_extension": ".py",
   "mimetype": "text/x-python",
   "name": "python",
   "nbconvert_exporter": "python",
   "pygments_lexer": "ipython3",
   "version": "3.8.13"
  }
 },
 "nbformat": 4,
 "nbformat_minor": 5
}
