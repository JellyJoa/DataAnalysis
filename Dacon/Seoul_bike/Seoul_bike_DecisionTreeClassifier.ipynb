{
 "cells": [
  {
   "cell_type": "code",
   "execution_count": 1,
   "metadata": {
    "collapsed": true
   },
   "outputs": [
    {
     "data": {
      "text/plain": "        id  hour  hour_bef_temperature  hour_bef_precipitation  \\\n0        3    20                  16.3                     1.0   \n1        6    13                  20.1                     0.0   \n2        7     6                  13.9                     0.0   \n3        8    23                   8.1                     0.0   \n4        9    18                  29.5                     0.0   \n...    ...   ...                   ...                     ...   \n1454  2174     4                  16.8                     0.0   \n1455  2175     3                  10.8                     0.0   \n1456  2176     5                  18.3                     0.0   \n1457  2178    21                  20.7                     0.0   \n1458  2179    17                  21.1                     0.0   \n\n      hour_bef_windspeed  hour_bef_humidity  hour_bef_visibility  \\\n0                    1.5               89.0                576.0   \n1                    1.4               48.0                916.0   \n2                    0.7               79.0               1382.0   \n3                    2.7               54.0                946.0   \n4                    4.8                7.0               2000.0   \n...                  ...                ...                  ...   \n1454                 1.6               53.0               2000.0   \n1455                 3.8               45.0               2000.0   \n1456                 1.9               54.0               2000.0   \n1457                 3.7               37.0               1395.0   \n1458                 3.1               47.0               1973.0   \n\n      hour_bef_ozone  hour_bef_pm10  hour_bef_pm2.5  count  \n0              0.027           76.0            33.0   49.0  \n1              0.042           73.0            40.0  159.0  \n2              0.033           32.0            19.0   26.0  \n3              0.040           75.0            64.0   57.0  \n4              0.057           27.0            11.0  431.0  \n...              ...            ...             ...    ...  \n1454           0.031           37.0            27.0   21.0  \n1455           0.039           34.0            19.0   20.0  \n1456           0.009           30.0            21.0   22.0  \n1457           0.082           71.0            36.0  216.0  \n1458           0.046           38.0            17.0  170.0  \n\n[1459 rows x 11 columns]",
      "text/html": "<div>\n<style scoped>\n    .dataframe tbody tr th:only-of-type {\n        vertical-align: middle;\n    }\n\n    .dataframe tbody tr th {\n        vertical-align: top;\n    }\n\n    .dataframe thead th {\n        text-align: right;\n    }\n</style>\n<table border=\"1\" class=\"dataframe\">\n  <thead>\n    <tr style=\"text-align: right;\">\n      <th></th>\n      <th>id</th>\n      <th>hour</th>\n      <th>hour_bef_temperature</th>\n      <th>hour_bef_precipitation</th>\n      <th>hour_bef_windspeed</th>\n      <th>hour_bef_humidity</th>\n      <th>hour_bef_visibility</th>\n      <th>hour_bef_ozone</th>\n      <th>hour_bef_pm10</th>\n      <th>hour_bef_pm2.5</th>\n      <th>count</th>\n    </tr>\n  </thead>\n  <tbody>\n    <tr>\n      <th>0</th>\n      <td>3</td>\n      <td>20</td>\n      <td>16.3</td>\n      <td>1.0</td>\n      <td>1.5</td>\n      <td>89.0</td>\n      <td>576.0</td>\n      <td>0.027</td>\n      <td>76.0</td>\n      <td>33.0</td>\n      <td>49.0</td>\n    </tr>\n    <tr>\n      <th>1</th>\n      <td>6</td>\n      <td>13</td>\n      <td>20.1</td>\n      <td>0.0</td>\n      <td>1.4</td>\n      <td>48.0</td>\n      <td>916.0</td>\n      <td>0.042</td>\n      <td>73.0</td>\n      <td>40.0</td>\n      <td>159.0</td>\n    </tr>\n    <tr>\n      <th>2</th>\n      <td>7</td>\n      <td>6</td>\n      <td>13.9</td>\n      <td>0.0</td>\n      <td>0.7</td>\n      <td>79.0</td>\n      <td>1382.0</td>\n      <td>0.033</td>\n      <td>32.0</td>\n      <td>19.0</td>\n      <td>26.0</td>\n    </tr>\n    <tr>\n      <th>3</th>\n      <td>8</td>\n      <td>23</td>\n      <td>8.1</td>\n      <td>0.0</td>\n      <td>2.7</td>\n      <td>54.0</td>\n      <td>946.0</td>\n      <td>0.040</td>\n      <td>75.0</td>\n      <td>64.0</td>\n      <td>57.0</td>\n    </tr>\n    <tr>\n      <th>4</th>\n      <td>9</td>\n      <td>18</td>\n      <td>29.5</td>\n      <td>0.0</td>\n      <td>4.8</td>\n      <td>7.0</td>\n      <td>2000.0</td>\n      <td>0.057</td>\n      <td>27.0</td>\n      <td>11.0</td>\n      <td>431.0</td>\n    </tr>\n    <tr>\n      <th>...</th>\n      <td>...</td>\n      <td>...</td>\n      <td>...</td>\n      <td>...</td>\n      <td>...</td>\n      <td>...</td>\n      <td>...</td>\n      <td>...</td>\n      <td>...</td>\n      <td>...</td>\n      <td>...</td>\n    </tr>\n    <tr>\n      <th>1454</th>\n      <td>2174</td>\n      <td>4</td>\n      <td>16.8</td>\n      <td>0.0</td>\n      <td>1.6</td>\n      <td>53.0</td>\n      <td>2000.0</td>\n      <td>0.031</td>\n      <td>37.0</td>\n      <td>27.0</td>\n      <td>21.0</td>\n    </tr>\n    <tr>\n      <th>1455</th>\n      <td>2175</td>\n      <td>3</td>\n      <td>10.8</td>\n      <td>0.0</td>\n      <td>3.8</td>\n      <td>45.0</td>\n      <td>2000.0</td>\n      <td>0.039</td>\n      <td>34.0</td>\n      <td>19.0</td>\n      <td>20.0</td>\n    </tr>\n    <tr>\n      <th>1456</th>\n      <td>2176</td>\n      <td>5</td>\n      <td>18.3</td>\n      <td>0.0</td>\n      <td>1.9</td>\n      <td>54.0</td>\n      <td>2000.0</td>\n      <td>0.009</td>\n      <td>30.0</td>\n      <td>21.0</td>\n      <td>22.0</td>\n    </tr>\n    <tr>\n      <th>1457</th>\n      <td>2178</td>\n      <td>21</td>\n      <td>20.7</td>\n      <td>0.0</td>\n      <td>3.7</td>\n      <td>37.0</td>\n      <td>1395.0</td>\n      <td>0.082</td>\n      <td>71.0</td>\n      <td>36.0</td>\n      <td>216.0</td>\n    </tr>\n    <tr>\n      <th>1458</th>\n      <td>2179</td>\n      <td>17</td>\n      <td>21.1</td>\n      <td>0.0</td>\n      <td>3.1</td>\n      <td>47.0</td>\n      <td>1973.0</td>\n      <td>0.046</td>\n      <td>38.0</td>\n      <td>17.0</td>\n      <td>170.0</td>\n    </tr>\n  </tbody>\n</table>\n<p>1459 rows × 11 columns</p>\n</div>"
     },
     "execution_count": 1,
     "metadata": {},
     "output_type": "execute_result"
    }
   ],
   "source": [
    "import pandas as pd\n",
    "from sklearn.ensemble import RandomForestRegressor\n",
    "\n",
    "\n",
    "train = pd.read_csv('C:\\\\Dacon\\\\따릉이\\\\train.csv')\n",
    "train"
   ]
  },
  {
   "cell_type": "code",
   "execution_count": 2,
   "outputs": [
    {
     "data": {
      "text/plain": "       id  hour  hour_bef_temperature  hour_bef_precipitation  \\\n0       0     7                  20.7                     0.0   \n1       1    17                  30.0                     0.0   \n2       2    13                  19.0                     1.0   \n3       4     6                  22.5                     0.0   \n4       5    22                  14.6                     1.0   \n..    ...   ...                   ...                     ...   \n710  2148     1                  24.6                     0.0   \n711  2149     1                  18.1                     0.0   \n712  2165     9                  23.3                     0.0   \n713  2166    16                  27.0                     0.0   \n714  2177     8                  22.3                     0.0   \n\n     hour_bef_windspeed  hour_bef_humidity  hour_bef_visibility  \\\n0                   1.3               62.0                954.0   \n1                   5.4               33.0               1590.0   \n2                   2.1               95.0                193.0   \n3                   2.5               60.0               1185.0   \n4                   3.4               93.0                218.0   \n..                  ...                ...                  ...   \n710                 2.4               60.0               1745.0   \n711                 1.0               55.0               2000.0   \n712                 2.3               66.0               1789.0   \n713                 1.6               46.0               1956.0   \n714                 1.0               63.0               1277.0   \n\n     hour_bef_ozone  hour_bef_pm10  hour_bef_pm2.5  \n0             0.041           44.0            27.0  \n1             0.061           49.0            36.0  \n2             0.020           36.0            28.0  \n3             0.027           52.0            38.0  \n4             0.041           18.0            15.0  \n..              ...            ...             ...  \n710             NaN            NaN             NaN  \n711             NaN            NaN             NaN  \n712           0.020           17.0            15.0  \n713           0.032           40.0            26.0  \n714           0.007           30.0            24.0  \n\n[715 rows x 10 columns]",
      "text/html": "<div>\n<style scoped>\n    .dataframe tbody tr th:only-of-type {\n        vertical-align: middle;\n    }\n\n    .dataframe tbody tr th {\n        vertical-align: top;\n    }\n\n    .dataframe thead th {\n        text-align: right;\n    }\n</style>\n<table border=\"1\" class=\"dataframe\">\n  <thead>\n    <tr style=\"text-align: right;\">\n      <th></th>\n      <th>id</th>\n      <th>hour</th>\n      <th>hour_bef_temperature</th>\n      <th>hour_bef_precipitation</th>\n      <th>hour_bef_windspeed</th>\n      <th>hour_bef_humidity</th>\n      <th>hour_bef_visibility</th>\n      <th>hour_bef_ozone</th>\n      <th>hour_bef_pm10</th>\n      <th>hour_bef_pm2.5</th>\n    </tr>\n  </thead>\n  <tbody>\n    <tr>\n      <th>0</th>\n      <td>0</td>\n      <td>7</td>\n      <td>20.7</td>\n      <td>0.0</td>\n      <td>1.3</td>\n      <td>62.0</td>\n      <td>954.0</td>\n      <td>0.041</td>\n      <td>44.0</td>\n      <td>27.0</td>\n    </tr>\n    <tr>\n      <th>1</th>\n      <td>1</td>\n      <td>17</td>\n      <td>30.0</td>\n      <td>0.0</td>\n      <td>5.4</td>\n      <td>33.0</td>\n      <td>1590.0</td>\n      <td>0.061</td>\n      <td>49.0</td>\n      <td>36.0</td>\n    </tr>\n    <tr>\n      <th>2</th>\n      <td>2</td>\n      <td>13</td>\n      <td>19.0</td>\n      <td>1.0</td>\n      <td>2.1</td>\n      <td>95.0</td>\n      <td>193.0</td>\n      <td>0.020</td>\n      <td>36.0</td>\n      <td>28.0</td>\n    </tr>\n    <tr>\n      <th>3</th>\n      <td>4</td>\n      <td>6</td>\n      <td>22.5</td>\n      <td>0.0</td>\n      <td>2.5</td>\n      <td>60.0</td>\n      <td>1185.0</td>\n      <td>0.027</td>\n      <td>52.0</td>\n      <td>38.0</td>\n    </tr>\n    <tr>\n      <th>4</th>\n      <td>5</td>\n      <td>22</td>\n      <td>14.6</td>\n      <td>1.0</td>\n      <td>3.4</td>\n      <td>93.0</td>\n      <td>218.0</td>\n      <td>0.041</td>\n      <td>18.0</td>\n      <td>15.0</td>\n    </tr>\n    <tr>\n      <th>...</th>\n      <td>...</td>\n      <td>...</td>\n      <td>...</td>\n      <td>...</td>\n      <td>...</td>\n      <td>...</td>\n      <td>...</td>\n      <td>...</td>\n      <td>...</td>\n      <td>...</td>\n    </tr>\n    <tr>\n      <th>710</th>\n      <td>2148</td>\n      <td>1</td>\n      <td>24.6</td>\n      <td>0.0</td>\n      <td>2.4</td>\n      <td>60.0</td>\n      <td>1745.0</td>\n      <td>NaN</td>\n      <td>NaN</td>\n      <td>NaN</td>\n    </tr>\n    <tr>\n      <th>711</th>\n      <td>2149</td>\n      <td>1</td>\n      <td>18.1</td>\n      <td>0.0</td>\n      <td>1.0</td>\n      <td>55.0</td>\n      <td>2000.0</td>\n      <td>NaN</td>\n      <td>NaN</td>\n      <td>NaN</td>\n    </tr>\n    <tr>\n      <th>712</th>\n      <td>2165</td>\n      <td>9</td>\n      <td>23.3</td>\n      <td>0.0</td>\n      <td>2.3</td>\n      <td>66.0</td>\n      <td>1789.0</td>\n      <td>0.020</td>\n      <td>17.0</td>\n      <td>15.0</td>\n    </tr>\n    <tr>\n      <th>713</th>\n      <td>2166</td>\n      <td>16</td>\n      <td>27.0</td>\n      <td>0.0</td>\n      <td>1.6</td>\n      <td>46.0</td>\n      <td>1956.0</td>\n      <td>0.032</td>\n      <td>40.0</td>\n      <td>26.0</td>\n    </tr>\n    <tr>\n      <th>714</th>\n      <td>2177</td>\n      <td>8</td>\n      <td>22.3</td>\n      <td>0.0</td>\n      <td>1.0</td>\n      <td>63.0</td>\n      <td>1277.0</td>\n      <td>0.007</td>\n      <td>30.0</td>\n      <td>24.0</td>\n    </tr>\n  </tbody>\n</table>\n<p>715 rows × 10 columns</p>\n</div>"
     },
     "execution_count": 2,
     "metadata": {},
     "output_type": "execute_result"
    }
   ],
   "source": [
    "test = pd.read_csv('C:\\\\Dacon\\\\따릉이\\\\test.csv')\n",
    "test"
   ],
   "metadata": {
    "collapsed": false,
    "pycharm": {
     "name": "#%%\n"
    }
   }
  },
  {
   "cell_type": "code",
   "execution_count": 3,
   "outputs": [
    {
     "name": "stdout",
     "output_type": "stream",
     "text": [
      "(1459, 11)\n",
      "(715, 10)\n"
     ]
    }
   ],
   "source": [
    "print(train.shape)\n",
    "print(test.shape)"
   ],
   "metadata": {
    "collapsed": false,
    "pycharm": {
     "name": "#%%\n"
    }
   }
  },
  {
   "cell_type": "code",
   "execution_count": 4,
   "outputs": [
    {
     "name": "stdout",
     "output_type": "stream",
     "text": [
      "id                          0\n",
      "hour                        0\n",
      "hour_bef_temperature        2\n",
      "hour_bef_precipitation      2\n",
      "hour_bef_windspeed          9\n",
      "hour_bef_humidity           2\n",
      "hour_bef_visibility         2\n",
      "hour_bef_ozone             76\n",
      "hour_bef_pm10              90\n",
      "hour_bef_pm2.5            117\n",
      "count                       0\n",
      "dtype: int64\n"
     ]
    }
   ],
   "source": [
    "print(train.isnull().sum())"
   ],
   "metadata": {
    "collapsed": false,
    "pycharm": {
     "name": "#%%\n"
    }
   }
  },
  {
   "cell_type": "code",
   "execution_count": 5,
   "outputs": [
    {
     "name": "stdout",
     "output_type": "stream",
     "text": [
      "id                         0\n",
      "hour                       0\n",
      "hour_bef_temperature       1\n",
      "hour_bef_precipitation     1\n",
      "hour_bef_windspeed         1\n",
      "hour_bef_humidity          1\n",
      "hour_bef_visibility        1\n",
      "hour_bef_ozone            35\n",
      "hour_bef_pm10             37\n",
      "hour_bef_pm2.5            36\n",
      "dtype: int64\n"
     ]
    }
   ],
   "source": [
    "print(test.isnull().sum())"
   ],
   "metadata": {
    "collapsed": false,
    "pycharm": {
     "name": "#%%\n"
    }
   }
  },
  {
   "cell_type": "code",
   "execution_count": 6,
   "outputs": [
    {
     "name": "stdout",
     "output_type": "stream",
     "text": [
      "<class 'pandas.core.frame.DataFrame'>\n",
      "RangeIndex: 1459 entries, 0 to 1458\n",
      "Data columns (total 11 columns):\n",
      " #   Column                  Non-Null Count  Dtype  \n",
      "---  ------                  --------------  -----  \n",
      " 0   id                      1459 non-null   int64  \n",
      " 1   hour                    1459 non-null   int64  \n",
      " 2   hour_bef_temperature    1457 non-null   float64\n",
      " 3   hour_bef_precipitation  1457 non-null   float64\n",
      " 4   hour_bef_windspeed      1450 non-null   float64\n",
      " 5   hour_bef_humidity       1457 non-null   float64\n",
      " 6   hour_bef_visibility     1457 non-null   float64\n",
      " 7   hour_bef_ozone          1383 non-null   float64\n",
      " 8   hour_bef_pm10           1369 non-null   float64\n",
      " 9   hour_bef_pm2.5          1342 non-null   float64\n",
      " 10  count                   1459 non-null   float64\n",
      "dtypes: float64(9), int64(2)\n",
      "memory usage: 125.5 KB\n"
     ]
    }
   ],
   "source": [
    "train.info()"
   ],
   "metadata": {
    "collapsed": false,
    "pycharm": {
     "name": "#%%\n"
    }
   }
  },
  {
   "cell_type": "code",
   "execution_count": 7,
   "outputs": [
    {
     "name": "stdout",
     "output_type": "stream",
     "text": [
      "<class 'pandas.core.frame.DataFrame'>\n",
      "RangeIndex: 715 entries, 0 to 714\n",
      "Data columns (total 10 columns):\n",
      " #   Column                  Non-Null Count  Dtype  \n",
      "---  ------                  --------------  -----  \n",
      " 0   id                      715 non-null    int64  \n",
      " 1   hour                    715 non-null    int64  \n",
      " 2   hour_bef_temperature    714 non-null    float64\n",
      " 3   hour_bef_precipitation  714 non-null    float64\n",
      " 4   hour_bef_windspeed      714 non-null    float64\n",
      " 5   hour_bef_humidity       714 non-null    float64\n",
      " 6   hour_bef_visibility     714 non-null    float64\n",
      " 7   hour_bef_ozone          680 non-null    float64\n",
      " 8   hour_bef_pm10           678 non-null    float64\n",
      " 9   hour_bef_pm2.5          679 non-null    float64\n",
      "dtypes: float64(8), int64(2)\n",
      "memory usage: 56.0 KB\n"
     ]
    }
   ],
   "source": [
    "test.info()"
   ],
   "metadata": {
    "collapsed": false,
    "pycharm": {
     "name": "#%%\n"
    }
   }
  },
  {
   "cell_type": "code",
   "execution_count": 8,
   "outputs": [],
   "source": [
    "# 보간법\n",
    "train.interpolate(inplace=True)\n",
    "test.interpolate(inplace=True)"
   ],
   "metadata": {
    "collapsed": false,
    "pycharm": {
     "name": "#%%\n"
    }
   }
  },
  {
   "cell_type": "code",
   "execution_count": 8,
   "outputs": [],
   "source": [
    "# 평균\n",
    "train.fillna({'hour_bef_temperature':int(train['hour_bef_temperature'].mean())}, inplace=True)\n",
    "train.fillna({'hour_bef_precipitation':int(train['hour_bef_precipitation'].mean())}, inplace=True)\n",
    "train.fillna({'hour_bef_windspeed':int(train['hour_bef_windspeed'].mean())}, inplace=True)\n",
    "train.fillna({'hour_bef_humidity':int(train['hour_bef_humidity'].mean())}, inplace=True)\n",
    "train.fillna({'hour_bef_visibility':int(train['hour_bef_visibility'].mean())}, inplace=True)\n",
    "train.fillna({'hour_bef_ozone':int(train['hour_bef_ozone'].mean())}, inplace=True)\n",
    "train.fillna({'hour_bef_pm10':int(train['hour_bef_pm10'].mean())}, inplace=True)\n",
    "train.fillna({'hour_bef_pm2.5':int(train['hour_bef_pm2.5'].mean())}, inplace=True)"
   ],
   "metadata": {
    "collapsed": false,
    "pycharm": {
     "name": "#%%\n"
    }
   }
  },
  {
   "cell_type": "code",
   "execution_count": 9,
   "outputs": [],
   "source": [
    "test.fillna({'hour_bef_temperature':int(test['hour_bef_temperature'].mean())}, inplace=True)\n",
    "test.fillna({'hour_bef_precipitation':int(test['hour_bef_precipitation'].mean())}, inplace=True)\n",
    "test.fillna({'hour_bef_windspeed':int(test['hour_bef_windspeed'].mean())}, inplace=True)\n",
    "test.fillna({'hour_bef_humidity':int(test['hour_bef_humidity'].mean())}, inplace=True)\n",
    "test.fillna({'hour_bef_visibility':int(test['hour_bef_visibility'].mean())}, inplace=True)\n",
    "test.fillna({'hour_bef_ozone':int(test['hour_bef_ozone'].mean())}, inplace=True)\n",
    "test.fillna({'hour_bef_pm10':int(test['hour_bef_pm10'].mean())}, inplace=True)\n",
    "test.fillna({'hour_bef_pm2.5':int(test['hour_bef_pm2.5'].mean())}, inplace=True)"
   ],
   "metadata": {
    "collapsed": false,
    "pycharm": {
     "name": "#%%\n"
    }
   }
  },
  {
   "cell_type": "markdown",
   "source": [
    "# 모델 학습"
   ],
   "metadata": {
    "collapsed": false,
    "pycharm": {
     "name": "#%% md\n"
    }
   }
  },
  {
   "cell_type": "code",
   "execution_count": 9,
   "outputs": [],
   "source": [
    "train_x = train.drop(['count'], axis=1)\n",
    "train_y = train['count']"
   ],
   "metadata": {
    "collapsed": false,
    "pycharm": {
     "name": "#%%\n"
    }
   }
  },
  {
   "cell_type": "code",
   "execution_count": 12,
   "outputs": [
    {
     "data": {
      "text/plain": "RandomForestRegressor()"
     },
     "execution_count": 12,
     "metadata": {},
     "output_type": "execute_result"
    }
   ],
   "source": [
    "model = RandomForestRegressor(criterion='mse')\n",
    "model.fit(train_x, train_y)"
   ],
   "metadata": {
    "collapsed": false,
    "pycharm": {
     "name": "#%%\n"
    }
   }
  },
  {
   "cell_type": "code",
   "execution_count": 14,
   "outputs": [
    {
     "name": "stdout",
     "output_type": "stream",
     "text": [
      "[0.02541795 0.58742765 0.18151227 0.01813543 0.02545159 0.03473746\n",
      " 0.03352778 0.04090421 0.03118131 0.02170436]\n"
     ]
    }
   ],
   "source": [
    "print(model.feature_importances_)"
   ],
   "metadata": {
    "collapsed": false,
    "pycharm": {
     "name": "#%%\n"
    }
   }
  },
  {
   "cell_type": "code",
   "execution_count": 11,
   "outputs": [],
   "source": [
    "# 변수제거\n",
    "\n",
    "x1 = train.drop(train[['id', 'count']], axis=1)\n",
    "test1 = test.drop(['id'], axis=1)\n",
    "\n",
    "model_input_val1 = RandomForestRegressor(criterion='mse')\n",
    "model_input_val1.fit(x1, train_y)\n",
    "\n",
    "pred_y1 = model_input_val1.predict(test1)\n",
    "\n",
    "model_input_val1 = RandomForestRegressor(criterion='mse')\n",
    "model_input_val1.fit(x1, train_y)\n",
    "\n",
    "y_pred_1 = model_input_val1.predict(test1)\n",
    "\n",
    "submission1 = pd.read_csv('C:\\\\Dacon\\\\따릉이\\\\submission.csv')\n",
    "submission1['count'] = y_pred_1\n",
    "submission1.to_csv('RFR_drop.csv', index=False)"
   ],
   "metadata": {
    "collapsed": false,
    "pycharm": {
     "name": "#%%\n"
    }
   }
  },
  {
   "cell_type": "markdown",
   "source": [
    "## 학습 된 모델로 예측 데이터 생성"
   ],
   "metadata": {
    "collapsed": false
   }
  },
  {
   "cell_type": "code",
   "execution_count": 13,
   "outputs": [],
   "source": [
    "pred = model.predict(test)"
   ],
   "metadata": {
    "collapsed": false,
    "pycharm": {
     "name": "#%%\n"
    }
   }
  },
  {
   "cell_type": "markdown",
   "source": [
    "## 제출파일 생성"
   ],
   "metadata": {
    "collapsed": false
   }
  },
  {
   "cell_type": "code",
   "execution_count": 14,
   "outputs": [
    {
     "data": {
      "text/plain": "       id  count\n0       0    NaN\n1       1    NaN\n2       2    NaN\n3       4    NaN\n4       5    NaN\n..    ...    ...\n710  2148    NaN\n711  2149    NaN\n712  2165    NaN\n713  2166    NaN\n714  2177    NaN\n\n[715 rows x 2 columns]",
      "text/html": "<div>\n<style scoped>\n    .dataframe tbody tr th:only-of-type {\n        vertical-align: middle;\n    }\n\n    .dataframe tbody tr th {\n        vertical-align: top;\n    }\n\n    .dataframe thead th {\n        text-align: right;\n    }\n</style>\n<table border=\"1\" class=\"dataframe\">\n  <thead>\n    <tr style=\"text-align: right;\">\n      <th></th>\n      <th>id</th>\n      <th>count</th>\n    </tr>\n  </thead>\n  <tbody>\n    <tr>\n      <th>0</th>\n      <td>0</td>\n      <td>NaN</td>\n    </tr>\n    <tr>\n      <th>1</th>\n      <td>1</td>\n      <td>NaN</td>\n    </tr>\n    <tr>\n      <th>2</th>\n      <td>2</td>\n      <td>NaN</td>\n    </tr>\n    <tr>\n      <th>3</th>\n      <td>4</td>\n      <td>NaN</td>\n    </tr>\n    <tr>\n      <th>4</th>\n      <td>5</td>\n      <td>NaN</td>\n    </tr>\n    <tr>\n      <th>...</th>\n      <td>...</td>\n      <td>...</td>\n    </tr>\n    <tr>\n      <th>710</th>\n      <td>2148</td>\n      <td>NaN</td>\n    </tr>\n    <tr>\n      <th>711</th>\n      <td>2149</td>\n      <td>NaN</td>\n    </tr>\n    <tr>\n      <th>712</th>\n      <td>2165</td>\n      <td>NaN</td>\n    </tr>\n    <tr>\n      <th>713</th>\n      <td>2166</td>\n      <td>NaN</td>\n    </tr>\n    <tr>\n      <th>714</th>\n      <td>2177</td>\n      <td>NaN</td>\n    </tr>\n  </tbody>\n</table>\n<p>715 rows × 2 columns</p>\n</div>"
     },
     "execution_count": 14,
     "metadata": {},
     "output_type": "execute_result"
    }
   ],
   "source": [
    "submission = pd.read_csv('C:\\\\Dacon\\\\따릉이\\\\submission.csv')\n",
    "submission"
   ],
   "metadata": {
    "collapsed": false,
    "pycharm": {
     "name": "#%%\n"
    }
   }
  },
  {
   "cell_type": "code",
   "execution_count": 15,
   "outputs": [],
   "source": [
    "submission['count'] = pred"
   ],
   "metadata": {
    "collapsed": false,
    "pycharm": {
     "name": "#%%\n"
    }
   }
  },
  {
   "cell_type": "code",
   "execution_count": 16,
   "outputs": [
    {
     "data": {
      "text/plain": "       id   count\n0       0   92.16\n1       1  229.65\n2       2   87.42\n3       4   31.64\n4       5   72.68\n..    ...     ...\n710  2148   58.52\n711  2149   69.09\n712  2165  123.72\n713  2166  162.98\n714  2177  179.84\n\n[715 rows x 2 columns]",
      "text/html": "<div>\n<style scoped>\n    .dataframe tbody tr th:only-of-type {\n        vertical-align: middle;\n    }\n\n    .dataframe tbody tr th {\n        vertical-align: top;\n    }\n\n    .dataframe thead th {\n        text-align: right;\n    }\n</style>\n<table border=\"1\" class=\"dataframe\">\n  <thead>\n    <tr style=\"text-align: right;\">\n      <th></th>\n      <th>id</th>\n      <th>count</th>\n    </tr>\n  </thead>\n  <tbody>\n    <tr>\n      <th>0</th>\n      <td>0</td>\n      <td>92.16</td>\n    </tr>\n    <tr>\n      <th>1</th>\n      <td>1</td>\n      <td>229.65</td>\n    </tr>\n    <tr>\n      <th>2</th>\n      <td>2</td>\n      <td>87.42</td>\n    </tr>\n    <tr>\n      <th>3</th>\n      <td>4</td>\n      <td>31.64</td>\n    </tr>\n    <tr>\n      <th>4</th>\n      <td>5</td>\n      <td>72.68</td>\n    </tr>\n    <tr>\n      <th>...</th>\n      <td>...</td>\n      <td>...</td>\n    </tr>\n    <tr>\n      <th>710</th>\n      <td>2148</td>\n      <td>58.52</td>\n    </tr>\n    <tr>\n      <th>711</th>\n      <td>2149</td>\n      <td>69.09</td>\n    </tr>\n    <tr>\n      <th>712</th>\n      <td>2165</td>\n      <td>123.72</td>\n    </tr>\n    <tr>\n      <th>713</th>\n      <td>2166</td>\n      <td>162.98</td>\n    </tr>\n    <tr>\n      <th>714</th>\n      <td>2177</td>\n      <td>179.84</td>\n    </tr>\n  </tbody>\n</table>\n<p>715 rows × 2 columns</p>\n</div>"
     },
     "execution_count": 16,
     "metadata": {},
     "output_type": "execute_result"
    }
   ],
   "source": [
    "submission"
   ],
   "metadata": {
    "collapsed": false,
    "pycharm": {
     "name": "#%%\n"
    }
   }
  },
  {
   "cell_type": "code",
   "execution_count": 17,
   "outputs": [],
   "source": [
    "submission.to_csv('RFR_mean.csv', index=False)"
   ],
   "metadata": {
    "collapsed": false,
    "pycharm": {
     "name": "#%%\n"
    }
   }
  }
 ],
 "metadata": {
  "kernelspec": {
   "display_name": "Python 3",
   "language": "python",
   "name": "python3"
  },
  "language_info": {
   "codemirror_mode": {
    "name": "ipython",
    "version": 2
   },
   "file_extension": ".py",
   "mimetype": "text/x-python",
   "name": "python",
   "nbconvert_exporter": "python",
   "pygments_lexer": "ipython2",
   "version": "2.7.6"
  }
 },
 "nbformat": 4,
 "nbformat_minor": 0
}