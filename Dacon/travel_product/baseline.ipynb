{
 "cells": [
  {
   "cell_type": "markdown",
   "source": [
    "# 1. 데이터 살펴보기"
   ],
   "metadata": {
    "collapsed": false,
    "pycharm": {
     "name": "#%% md\n"
    }
   }
  },
  {
   "cell_type": "code",
   "execution_count": 1,
   "metadata": {
    "collapsed": true
   },
   "outputs": [],
   "source": [
    "import pandas as pd\n",
    "import numpy as np\n",
    "import matplotlib.pyplot as plt\n",
    "%matplotlib inline"
   ]
  },
  {
   "cell_type": "code",
   "execution_count": 2,
   "outputs": [
    {
     "data": {
      "text/plain": "        id   Age    TypeofContact  CityTier  DurationOfPitch      Occupation  \\\n0        1  28.0  Company Invited         1             10.0  Small Business   \n1        2  34.0     Self Enquiry         3              NaN  Small Business   \n2        3  45.0  Company Invited         1              NaN        Salaried   \n3        4  29.0  Company Invited         1              7.0  Small Business   \n4        5  42.0     Self Enquiry         3              6.0        Salaried   \n...    ...   ...              ...       ...              ...             ...   \n1950  1951  28.0     Self Enquiry         1             10.0  Small Business   \n1951  1952  41.0     Self Enquiry         3              8.0        Salaried   \n1952  1953  38.0  Company Invited         3             28.0  Small Business   \n1953  1954  28.0     Self Enquiry         3             30.0  Small Business   \n1954  1955  22.0  Company Invited         1              9.0        Salaried   \n\n      Gender  NumberOfPersonVisiting  NumberOfFollowups ProductPitched  \\\n0       Male                       3                4.0          Basic   \n1     Female                       2                4.0         Deluxe   \n2       Male                       2                3.0         Deluxe   \n3       Male                       3                5.0          Basic   \n4       Male                       2                3.0         Deluxe   \n...      ...                     ...                ...            ...   \n1950    Male                       3                5.0          Basic   \n1951  Female                       3                3.0   Super Deluxe   \n1952  Female                       3                4.0          Basic   \n1953  Female                       3                5.0         Deluxe   \n1954    Male                       2                4.0          Basic   \n\n      PreferredPropertyStar MaritalStatus  NumberOfTrips  Passport  \\\n0                       3.0       Married            3.0         0   \n1                       4.0        Single            1.0         1   \n2                       4.0       Married            2.0         0   \n3                       4.0       Married            3.0         0   \n4                       3.0      Divorced            2.0         0   \n...                     ...           ...            ...       ...   \n1950                    3.0        Single            2.0         0   \n1951                    5.0      Divorced            1.0         0   \n1952                    3.0      Divorced            7.0         0   \n1953                    3.0       Married            3.0         0   \n1954                    3.0      Divorced            1.0         1   \n\n      PitchSatisfactionScore  OwnCar  NumberOfChildrenVisiting Designation  \\\n0                          1       0                       1.0   Executive   \n1                          5       1                       0.0     Manager   \n2                          4       1                       0.0     Manager   \n3                          4       0                       1.0   Executive   \n4                          3       1                       0.0     Manager   \n...                      ...     ...                       ...         ...   \n1950                       1       1                       2.0   Executive   \n1951                       5       1                       1.0         AVP   \n1952                       2       1                       2.0   Executive   \n1953                       1       1                       2.0     Manager   \n1954                       3       0                       0.0   Executive   \n\n      MonthlyIncome  ProdTaken  \n0           20384.0          0  \n1           19599.0          1  \n2               NaN          0  \n3           21274.0          1  \n4           19907.0          0  \n...             ...        ...  \n1950        20723.0          0  \n1951        31595.0          0  \n1952        21651.0          0  \n1953        22218.0          0  \n1954        17853.0          1  \n\n[1955 rows x 20 columns]",
      "text/html": "<div>\n<style scoped>\n    .dataframe tbody tr th:only-of-type {\n        vertical-align: middle;\n    }\n\n    .dataframe tbody tr th {\n        vertical-align: top;\n    }\n\n    .dataframe thead th {\n        text-align: right;\n    }\n</style>\n<table border=\"1\" class=\"dataframe\">\n  <thead>\n    <tr style=\"text-align: right;\">\n      <th></th>\n      <th>id</th>\n      <th>Age</th>\n      <th>TypeofContact</th>\n      <th>CityTier</th>\n      <th>DurationOfPitch</th>\n      <th>Occupation</th>\n      <th>Gender</th>\n      <th>NumberOfPersonVisiting</th>\n      <th>NumberOfFollowups</th>\n      <th>ProductPitched</th>\n      <th>PreferredPropertyStar</th>\n      <th>MaritalStatus</th>\n      <th>NumberOfTrips</th>\n      <th>Passport</th>\n      <th>PitchSatisfactionScore</th>\n      <th>OwnCar</th>\n      <th>NumberOfChildrenVisiting</th>\n      <th>Designation</th>\n      <th>MonthlyIncome</th>\n      <th>ProdTaken</th>\n    </tr>\n  </thead>\n  <tbody>\n    <tr>\n      <th>0</th>\n      <td>1</td>\n      <td>28.0</td>\n      <td>Company Invited</td>\n      <td>1</td>\n      <td>10.0</td>\n      <td>Small Business</td>\n      <td>Male</td>\n      <td>3</td>\n      <td>4.0</td>\n      <td>Basic</td>\n      <td>3.0</td>\n      <td>Married</td>\n      <td>3.0</td>\n      <td>0</td>\n      <td>1</td>\n      <td>0</td>\n      <td>1.0</td>\n      <td>Executive</td>\n      <td>20384.0</td>\n      <td>0</td>\n    </tr>\n    <tr>\n      <th>1</th>\n      <td>2</td>\n      <td>34.0</td>\n      <td>Self Enquiry</td>\n      <td>3</td>\n      <td>NaN</td>\n      <td>Small Business</td>\n      <td>Female</td>\n      <td>2</td>\n      <td>4.0</td>\n      <td>Deluxe</td>\n      <td>4.0</td>\n      <td>Single</td>\n      <td>1.0</td>\n      <td>1</td>\n      <td>5</td>\n      <td>1</td>\n      <td>0.0</td>\n      <td>Manager</td>\n      <td>19599.0</td>\n      <td>1</td>\n    </tr>\n    <tr>\n      <th>2</th>\n      <td>3</td>\n      <td>45.0</td>\n      <td>Company Invited</td>\n      <td>1</td>\n      <td>NaN</td>\n      <td>Salaried</td>\n      <td>Male</td>\n      <td>2</td>\n      <td>3.0</td>\n      <td>Deluxe</td>\n      <td>4.0</td>\n      <td>Married</td>\n      <td>2.0</td>\n      <td>0</td>\n      <td>4</td>\n      <td>1</td>\n      <td>0.0</td>\n      <td>Manager</td>\n      <td>NaN</td>\n      <td>0</td>\n    </tr>\n    <tr>\n      <th>3</th>\n      <td>4</td>\n      <td>29.0</td>\n      <td>Company Invited</td>\n      <td>1</td>\n      <td>7.0</td>\n      <td>Small Business</td>\n      <td>Male</td>\n      <td>3</td>\n      <td>5.0</td>\n      <td>Basic</td>\n      <td>4.0</td>\n      <td>Married</td>\n      <td>3.0</td>\n      <td>0</td>\n      <td>4</td>\n      <td>0</td>\n      <td>1.0</td>\n      <td>Executive</td>\n      <td>21274.0</td>\n      <td>1</td>\n    </tr>\n    <tr>\n      <th>4</th>\n      <td>5</td>\n      <td>42.0</td>\n      <td>Self Enquiry</td>\n      <td>3</td>\n      <td>6.0</td>\n      <td>Salaried</td>\n      <td>Male</td>\n      <td>2</td>\n      <td>3.0</td>\n      <td>Deluxe</td>\n      <td>3.0</td>\n      <td>Divorced</td>\n      <td>2.0</td>\n      <td>0</td>\n      <td>3</td>\n      <td>1</td>\n      <td>0.0</td>\n      <td>Manager</td>\n      <td>19907.0</td>\n      <td>0</td>\n    </tr>\n    <tr>\n      <th>...</th>\n      <td>...</td>\n      <td>...</td>\n      <td>...</td>\n      <td>...</td>\n      <td>...</td>\n      <td>...</td>\n      <td>...</td>\n      <td>...</td>\n      <td>...</td>\n      <td>...</td>\n      <td>...</td>\n      <td>...</td>\n      <td>...</td>\n      <td>...</td>\n      <td>...</td>\n      <td>...</td>\n      <td>...</td>\n      <td>...</td>\n      <td>...</td>\n      <td>...</td>\n    </tr>\n    <tr>\n      <th>1950</th>\n      <td>1951</td>\n      <td>28.0</td>\n      <td>Self Enquiry</td>\n      <td>1</td>\n      <td>10.0</td>\n      <td>Small Business</td>\n      <td>Male</td>\n      <td>3</td>\n      <td>5.0</td>\n      <td>Basic</td>\n      <td>3.0</td>\n      <td>Single</td>\n      <td>2.0</td>\n      <td>0</td>\n      <td>1</td>\n      <td>1</td>\n      <td>2.0</td>\n      <td>Executive</td>\n      <td>20723.0</td>\n      <td>0</td>\n    </tr>\n    <tr>\n      <th>1951</th>\n      <td>1952</td>\n      <td>41.0</td>\n      <td>Self Enquiry</td>\n      <td>3</td>\n      <td>8.0</td>\n      <td>Salaried</td>\n      <td>Female</td>\n      <td>3</td>\n      <td>3.0</td>\n      <td>Super Deluxe</td>\n      <td>5.0</td>\n      <td>Divorced</td>\n      <td>1.0</td>\n      <td>0</td>\n      <td>5</td>\n      <td>1</td>\n      <td>1.0</td>\n      <td>AVP</td>\n      <td>31595.0</td>\n      <td>0</td>\n    </tr>\n    <tr>\n      <th>1952</th>\n      <td>1953</td>\n      <td>38.0</td>\n      <td>Company Invited</td>\n      <td>3</td>\n      <td>28.0</td>\n      <td>Small Business</td>\n      <td>Female</td>\n      <td>3</td>\n      <td>4.0</td>\n      <td>Basic</td>\n      <td>3.0</td>\n      <td>Divorced</td>\n      <td>7.0</td>\n      <td>0</td>\n      <td>2</td>\n      <td>1</td>\n      <td>2.0</td>\n      <td>Executive</td>\n      <td>21651.0</td>\n      <td>0</td>\n    </tr>\n    <tr>\n      <th>1953</th>\n      <td>1954</td>\n      <td>28.0</td>\n      <td>Self Enquiry</td>\n      <td>3</td>\n      <td>30.0</td>\n      <td>Small Business</td>\n      <td>Female</td>\n      <td>3</td>\n      <td>5.0</td>\n      <td>Deluxe</td>\n      <td>3.0</td>\n      <td>Married</td>\n      <td>3.0</td>\n      <td>0</td>\n      <td>1</td>\n      <td>1</td>\n      <td>2.0</td>\n      <td>Manager</td>\n      <td>22218.0</td>\n      <td>0</td>\n    </tr>\n    <tr>\n      <th>1954</th>\n      <td>1955</td>\n      <td>22.0</td>\n      <td>Company Invited</td>\n      <td>1</td>\n      <td>9.0</td>\n      <td>Salaried</td>\n      <td>Male</td>\n      <td>2</td>\n      <td>4.0</td>\n      <td>Basic</td>\n      <td>3.0</td>\n      <td>Divorced</td>\n      <td>1.0</td>\n      <td>1</td>\n      <td>3</td>\n      <td>0</td>\n      <td>0.0</td>\n      <td>Executive</td>\n      <td>17853.0</td>\n      <td>1</td>\n    </tr>\n  </tbody>\n</table>\n<p>1955 rows × 20 columns</p>\n</div>"
     },
     "execution_count": 2,
     "metadata": {},
     "output_type": "execute_result"
    }
   ],
   "source": [
    "train = pd.read_csv('train.csv')\n",
    "test = pd.read_csv('test.csv')\n",
    "sample = pd.read_csv('sample_submission.csv')\n",
    "\n",
    "train"
   ],
   "metadata": {
    "collapsed": false,
    "pycharm": {
     "name": "#%%\n"
    }
   }
  },
  {
   "cell_type": "code",
   "execution_count": 4,
   "outputs": [
    {
     "data": {
      "text/plain": "        id   Age    TypeofContact  CityTier  DurationOfPitch      Occupation  \\\n1950  1951  28.0     Self Enquiry         1             10.0  Small Business   \n1951  1952  41.0     Self Enquiry         3              8.0        Salaried   \n1952  1953  38.0  Company Invited         3             28.0  Small Business   \n1953  1954  28.0     Self Enquiry         3             30.0  Small Business   \n1954  1955  22.0  Company Invited         1              9.0        Salaried   \n\n      Gender  NumberOfPersonVisiting  NumberOfFollowups ProductPitched  \\\n1950    Male                       3                5.0          Basic   \n1951  Female                       3                3.0   Super Deluxe   \n1952  Female                       3                4.0          Basic   \n1953  Female                       3                5.0         Deluxe   \n1954    Male                       2                4.0          Basic   \n\n      PreferredPropertyStar MaritalStatus  NumberOfTrips  Passport  \\\n1950                    3.0        Single            2.0         0   \n1951                    5.0      Divorced            1.0         0   \n1952                    3.0      Divorced            7.0         0   \n1953                    3.0       Married            3.0         0   \n1954                    3.0      Divorced            1.0         1   \n\n      PitchSatisfactionScore  OwnCar  NumberOfChildrenVisiting Designation  \\\n1950                       1       1                       2.0   Executive   \n1951                       5       1                       1.0         AVP   \n1952                       2       1                       2.0   Executive   \n1953                       1       1                       2.0     Manager   \n1954                       3       0                       0.0   Executive   \n\n      MonthlyIncome  ProdTaken  \n1950        20723.0          0  \n1951        31595.0          0  \n1952        21651.0          0  \n1953        22218.0          0  \n1954        17853.0          1  ",
      "text/html": "<div>\n<style scoped>\n    .dataframe tbody tr th:only-of-type {\n        vertical-align: middle;\n    }\n\n    .dataframe tbody tr th {\n        vertical-align: top;\n    }\n\n    .dataframe thead th {\n        text-align: right;\n    }\n</style>\n<table border=\"1\" class=\"dataframe\">\n  <thead>\n    <tr style=\"text-align: right;\">\n      <th></th>\n      <th>id</th>\n      <th>Age</th>\n      <th>TypeofContact</th>\n      <th>CityTier</th>\n      <th>DurationOfPitch</th>\n      <th>Occupation</th>\n      <th>Gender</th>\n      <th>NumberOfPersonVisiting</th>\n      <th>NumberOfFollowups</th>\n      <th>ProductPitched</th>\n      <th>PreferredPropertyStar</th>\n      <th>MaritalStatus</th>\n      <th>NumberOfTrips</th>\n      <th>Passport</th>\n      <th>PitchSatisfactionScore</th>\n      <th>OwnCar</th>\n      <th>NumberOfChildrenVisiting</th>\n      <th>Designation</th>\n      <th>MonthlyIncome</th>\n      <th>ProdTaken</th>\n    </tr>\n  </thead>\n  <tbody>\n    <tr>\n      <th>1950</th>\n      <td>1951</td>\n      <td>28.0</td>\n      <td>Self Enquiry</td>\n      <td>1</td>\n      <td>10.0</td>\n      <td>Small Business</td>\n      <td>Male</td>\n      <td>3</td>\n      <td>5.0</td>\n      <td>Basic</td>\n      <td>3.0</td>\n      <td>Single</td>\n      <td>2.0</td>\n      <td>0</td>\n      <td>1</td>\n      <td>1</td>\n      <td>2.0</td>\n      <td>Executive</td>\n      <td>20723.0</td>\n      <td>0</td>\n    </tr>\n    <tr>\n      <th>1951</th>\n      <td>1952</td>\n      <td>41.0</td>\n      <td>Self Enquiry</td>\n      <td>3</td>\n      <td>8.0</td>\n      <td>Salaried</td>\n      <td>Female</td>\n      <td>3</td>\n      <td>3.0</td>\n      <td>Super Deluxe</td>\n      <td>5.0</td>\n      <td>Divorced</td>\n      <td>1.0</td>\n      <td>0</td>\n      <td>5</td>\n      <td>1</td>\n      <td>1.0</td>\n      <td>AVP</td>\n      <td>31595.0</td>\n      <td>0</td>\n    </tr>\n    <tr>\n      <th>1952</th>\n      <td>1953</td>\n      <td>38.0</td>\n      <td>Company Invited</td>\n      <td>3</td>\n      <td>28.0</td>\n      <td>Small Business</td>\n      <td>Female</td>\n      <td>3</td>\n      <td>4.0</td>\n      <td>Basic</td>\n      <td>3.0</td>\n      <td>Divorced</td>\n      <td>7.0</td>\n      <td>0</td>\n      <td>2</td>\n      <td>1</td>\n      <td>2.0</td>\n      <td>Executive</td>\n      <td>21651.0</td>\n      <td>0</td>\n    </tr>\n    <tr>\n      <th>1953</th>\n      <td>1954</td>\n      <td>28.0</td>\n      <td>Self Enquiry</td>\n      <td>3</td>\n      <td>30.0</td>\n      <td>Small Business</td>\n      <td>Female</td>\n      <td>3</td>\n      <td>5.0</td>\n      <td>Deluxe</td>\n      <td>3.0</td>\n      <td>Married</td>\n      <td>3.0</td>\n      <td>0</td>\n      <td>1</td>\n      <td>1</td>\n      <td>2.0</td>\n      <td>Manager</td>\n      <td>22218.0</td>\n      <td>0</td>\n    </tr>\n    <tr>\n      <th>1954</th>\n      <td>1955</td>\n      <td>22.0</td>\n      <td>Company Invited</td>\n      <td>1</td>\n      <td>9.0</td>\n      <td>Salaried</td>\n      <td>Male</td>\n      <td>2</td>\n      <td>4.0</td>\n      <td>Basic</td>\n      <td>3.0</td>\n      <td>Divorced</td>\n      <td>1.0</td>\n      <td>1</td>\n      <td>3</td>\n      <td>0</td>\n      <td>0.0</td>\n      <td>Executive</td>\n      <td>17853.0</td>\n      <td>1</td>\n    </tr>\n  </tbody>\n</table>\n</div>"
     },
     "execution_count": 4,
     "metadata": {},
     "output_type": "execute_result"
    }
   ],
   "source": [
    "train.tail()"
   ],
   "metadata": {
    "collapsed": false,
    "pycharm": {
     "name": "#%%\n"
    }
   }
  },
  {
   "cell_type": "code",
   "execution_count": 3,
   "outputs": [
    {
     "name": "stdout",
     "output_type": "stream",
     "text": [
      "<class 'pandas.core.frame.DataFrame'>\n",
      "RangeIndex: 1955 entries, 0 to 1954\n",
      "Data columns (total 20 columns):\n",
      " #   Column                    Non-Null Count  Dtype  \n",
      "---  ------                    --------------  -----  \n",
      " 0   id                        1955 non-null   int64  \n",
      " 1   Age                       1861 non-null   float64\n",
      " 2   TypeofContact             1945 non-null   object \n",
      " 3   CityTier                  1955 non-null   int64  \n",
      " 4   DurationOfPitch           1853 non-null   float64\n",
      " 5   Occupation                1955 non-null   object \n",
      " 6   Gender                    1955 non-null   object \n",
      " 7   NumberOfPersonVisiting    1955 non-null   int64  \n",
      " 8   NumberOfFollowups         1942 non-null   float64\n",
      " 9   ProductPitched            1955 non-null   object \n",
      " 10  PreferredPropertyStar     1945 non-null   float64\n",
      " 11  MaritalStatus             1955 non-null   object \n",
      " 12  NumberOfTrips             1898 non-null   float64\n",
      " 13  Passport                  1955 non-null   int64  \n",
      " 14  PitchSatisfactionScore    1955 non-null   int64  \n",
      " 15  OwnCar                    1955 non-null   int64  \n",
      " 16  NumberOfChildrenVisiting  1928 non-null   float64\n",
      " 17  Designation               1955 non-null   object \n",
      " 18  MonthlyIncome             1855 non-null   float64\n",
      " 19  ProdTaken                 1955 non-null   int64  \n",
      "dtypes: float64(7), int64(7), object(6)\n",
      "memory usage: 305.6+ KB\n"
     ]
    }
   ],
   "source": [
    "train.info()"
   ],
   "metadata": {
    "collapsed": false,
    "pycharm": {
     "name": "#%%\n"
    }
   }
  },
  {
   "cell_type": "code",
   "execution_count": 5,
   "outputs": [
    {
     "data": {
      "text/plain": "<Figure size 432x288 with 1 Axes>",
      "image/png": "[encoded data removed]"
     },
     "metadata": {
      "needs_background": "light"
     },
     "output_type": "display_data"
    }
   ],
   "source": [
    "plt.hist(train.ProdTaken)\n",
    "plt.show()"
   ],
   "metadata": {
    "collapsed": false,
    "pycharm": {
     "name": "#%%\n"
    }
   }
  },
  {
   "cell_type": "markdown",
   "source": [
    "# 2. 데이터 전처리"
   ],
   "metadata": {
    "collapsed": false,
    "pycharm": {
     "name": "#%% md\n"
    }
   }
  },
  {
   "cell_type": "markdown",
   "source": [
    "### 1) 결측치 처리"
   ],
   "metadata": {
    "collapsed": false,
    "pycharm": {
     "name": "#%% md\n"
    }
   }
  },
  {
   "cell_type": "code",
   "execution_count": 7,
   "outputs": [
    {
     "data": {
      "text/plain": "id                            0\nAge                          94\nTypeofContact                10\nCityTier                      0\nDurationOfPitch             102\nOccupation                    0\nGender                        0\nNumberOfPersonVisiting        0\nNumberOfFollowups            13\nProductPitched                0\nPreferredPropertyStar        10\nMaritalStatus                 0\nNumberOfTrips                57\nPassport                      0\nPitchSatisfactionScore        0\nOwnCar                        0\nNumberOfChildrenVisiting     27\nDesignation                   0\nMonthlyIncome               100\nProdTaken                     0\ndtype: int64"
     },
     "execution_count": 7,
     "metadata": {},
     "output_type": "execute_result"
    }
   ],
   "source": [
    "train.isna().sum()"
   ],
   "metadata": {
    "collapsed": false,
    "pycharm": {
     "name": "#%%\n"
    }
   }
  },
  {
   "cell_type": "code",
   "execution_count": 11,
   "outputs": [
    {
     "data": {
      "text/plain": "id                          0\nAge                         0\nTypeofContact               0\nCityTier                    0\nDurationOfPitch             0\nOccupation                  0\nGender                      0\nNumberOfPersonVisiting      0\nNumberOfFollowups           0\nProductPitched              0\nPreferredPropertyStar       0\nMaritalStatus               0\nNumberOfTrips               0\nPassport                    0\nPitchSatisfactionScore      0\nOwnCar                      0\nNumberOfChildrenVisiting    0\nDesignation                 0\nMonthlyIncome               0\nProdTaken                   0\ndtype: int64"
     },
     "execution_count": 11,
     "metadata": {},
     "output_type": "execute_result"
    }
   ],
   "source": [
    "def handle_na(data):\n",
    "    temp = data.copy()\n",
    "    for col, dtype in temp.dtypes.items():\n",
    "        if dtype == 'object':\n",
    "            value = 'Unknown'\n",
    "        elif dtype == 'int64' or dtype == 'float64':\n",
    "            value = 0\n",
    "        temp.loc[:, col] = temp[col].fillna(value)\n",
    "    return temp\n",
    "\n",
    "train_nona = handle_na(train)\n",
    "\n",
    "train_nona.isna().sum()"
   ],
   "metadata": {
    "collapsed": false,
    "pycharm": {
     "name": "#%%\n"
    }
   }
  },
  {
   "cell_type": "markdown",
   "source": [
    "### 2) 문자형 변수 전처리"
   ],
   "metadata": {
    "collapsed": false,
    "pycharm": {
     "name": "#%% md\n"
    }
   }
  },
  {
   "cell_type": "code",
   "execution_count": 12,
   "outputs": [
    {
     "name": "stdout",
     "output_type": "stream",
     "text": [
      "object 칼럼은 다음과 같습니다 : ['TypeofContact', 'Occupation', 'Gender', 'ProductPitched', 'MaritalStatus', 'Designation']\n"
     ]
    }
   ],
   "source": [
    "object_columns = train_nona.columns[train_nona.dtypes == 'object']\n",
    "print(f'object 칼럼은 다음과 같습니다 : {list(object_columns)}')"
   ],
   "metadata": {
    "collapsed": false,
    "pycharm": {
     "name": "#%%\n"
    }
   }
  },
  {
   "cell_type": "code",
   "execution_count": 15,
   "outputs": [
    {
     "data": {
      "text/plain": "Index(['TypeofContact', 'Occupation', 'Gender', 'ProductPitched',\n       'MaritalStatus', 'Designation'],\n      dtype='object')"
     },
     "execution_count": 15,
     "metadata": {},
     "output_type": "execute_result"
    }
   ],
   "source": [
    "object_columns"
   ],
   "metadata": {
    "collapsed": false,
    "pycharm": {
     "name": "#%%\n"
    }
   }
  },
  {
   "cell_type": "code",
   "execution_count": 14,
   "outputs": [
    {
     "data": {
      "text/plain": "        TypeofContact      Occupation  Gender ProductPitched MaritalStatus  \\\n0     Company Invited  Small Business    Male          Basic       Married   \n1        Self Enquiry  Small Business  Female         Deluxe        Single   \n2     Company Invited        Salaried    Male         Deluxe       Married   \n3     Company Invited  Small Business    Male          Basic       Married   \n4        Self Enquiry        Salaried    Male         Deluxe      Divorced   \n...               ...             ...     ...            ...           ...   \n1950     Self Enquiry  Small Business    Male          Basic        Single   \n1951     Self Enquiry        Salaried  Female   Super Deluxe      Divorced   \n1952  Company Invited  Small Business  Female          Basic      Divorced   \n1953     Self Enquiry  Small Business  Female         Deluxe       Married   \n1954  Company Invited        Salaried    Male          Basic      Divorced   \n\n     Designation  \n0      Executive  \n1        Manager  \n2        Manager  \n3      Executive  \n4        Manager  \n...          ...  \n1950   Executive  \n1951         AVP  \n1952   Executive  \n1953     Manager  \n1954   Executive  \n\n[1955 rows x 6 columns]",
      "text/html": "<div>\n<style scoped>\n    .dataframe tbody tr th:only-of-type {\n        vertical-align: middle;\n    }\n\n    .dataframe tbody tr th {\n        vertical-align: top;\n    }\n\n    .dataframe thead th {\n        text-align: right;\n    }\n</style>\n<table border=\"1\" class=\"dataframe\">\n  <thead>\n    <tr style=\"text-align: right;\">\n      <th></th>\n      <th>TypeofContact</th>\n      <th>Occupation</th>\n      <th>Gender</th>\n      <th>ProductPitched</th>\n      <th>MaritalStatus</th>\n      <th>Designation</th>\n    </tr>\n  </thead>\n  <tbody>\n    <tr>\n      <th>0</th>\n      <td>Company Invited</td>\n      <td>Small Business</td>\n      <td>Male</td>\n      <td>Basic</td>\n      <td>Married</td>\n      <td>Executive</td>\n    </tr>\n    <tr>\n      <th>1</th>\n      <td>Self Enquiry</td>\n      <td>Small Business</td>\n      <td>Female</td>\n      <td>Deluxe</td>\n      <td>Single</td>\n      <td>Manager</td>\n    </tr>\n    <tr>\n      <th>2</th>\n      <td>Company Invited</td>\n      <td>Salaried</td>\n      <td>Male</td>\n      <td>Deluxe</td>\n      <td>Married</td>\n      <td>Manager</td>\n    </tr>\n    <tr>\n      <th>3</th>\n      <td>Company Invited</td>\n      <td>Small Business</td>\n      <td>Male</td>\n      <td>Basic</td>\n      <td>Married</td>\n      <td>Executive</td>\n    </tr>\n    <tr>\n      <th>4</th>\n      <td>Self Enquiry</td>\n      <td>Salaried</td>\n      <td>Male</td>\n      <td>Deluxe</td>\n      <td>Divorced</td>\n      <td>Manager</td>\n    </tr>\n    <tr>\n      <th>...</th>\n      <td>...</td>\n      <td>...</td>\n      <td>...</td>\n      <td>...</td>\n      <td>...</td>\n      <td>...</td>\n    </tr>\n    <tr>\n      <th>1950</th>\n      <td>Self Enquiry</td>\n      <td>Small Business</td>\n      <td>Male</td>\n      <td>Basic</td>\n      <td>Single</td>\n      <td>Executive</td>\n    </tr>\n    <tr>\n      <th>1951</th>\n      <td>Self Enquiry</td>\n      <td>Salaried</td>\n      <td>Female</td>\n      <td>Super Deluxe</td>\n      <td>Divorced</td>\n      <td>AVP</td>\n    </tr>\n    <tr>\n      <th>1952</th>\n      <td>Company Invited</td>\n      <td>Small Business</td>\n      <td>Female</td>\n      <td>Basic</td>\n      <td>Divorced</td>\n      <td>Executive</td>\n    </tr>\n    <tr>\n      <th>1953</th>\n      <td>Self Enquiry</td>\n      <td>Small Business</td>\n      <td>Female</td>\n      <td>Deluxe</td>\n      <td>Married</td>\n      <td>Manager</td>\n    </tr>\n    <tr>\n      <th>1954</th>\n      <td>Company Invited</td>\n      <td>Salaried</td>\n      <td>Male</td>\n      <td>Basic</td>\n      <td>Divorced</td>\n      <td>Executive</td>\n    </tr>\n  </tbody>\n</table>\n<p>1955 rows × 6 columns</p>\n</div>"
     },
     "execution_count": 14,
     "metadata": {},
     "output_type": "execute_result"
    }
   ],
   "source": [
    "train_nona[object_columns]"
   ],
   "metadata": {
    "collapsed": false,
    "pycharm": {
     "name": "#%%\n"
    }
   }
  },
  {
   "cell_type": "code",
   "execution_count": 19,
   "outputs": [
    {
     "data": {
      "text/plain": "        id   Age  TypeofContact  CityTier  DurationOfPitch  Occupation  \\\n0        1  28.0              0         1             10.0           3   \n1        2  34.0              1         3              0.0           3   \n2        3  45.0              0         1              0.0           2   \n3        4  29.0              0         1              7.0           3   \n4        5  42.0              1         3              6.0           2   \n...    ...   ...            ...       ...              ...         ...   \n1950  1951  28.0              1         1             10.0           3   \n1951  1952  41.0              1         3              8.0           2   \n1952  1953  38.0              0         3             28.0           3   \n1953  1954  28.0              1         3             30.0           3   \n1954  1955  22.0              0         1              9.0           2   \n\n      Gender  NumberOfPersonVisiting  NumberOfFollowups  ProductPitched  \\\n0          2                       3                4.0               0   \n1          1                       2                4.0               1   \n2          2                       2                3.0               1   \n3          2                       3                5.0               0   \n4          2                       2                3.0               1   \n...      ...                     ...                ...             ...   \n1950       2                       3                5.0               0   \n1951       1                       3                3.0               4   \n1952       1                       3                4.0               0   \n1953       1                       3                5.0               1   \n1954       2                       2                4.0               0   \n\n      PreferredPropertyStar  MaritalStatus  NumberOfTrips  Passport  \\\n0                       3.0              1            3.0         0   \n1                       4.0              2            1.0         1   \n2                       4.0              1            2.0         0   \n3                       4.0              1            3.0         0   \n4                       3.0              0            2.0         0   \n...                     ...            ...            ...       ...   \n1950                    3.0              2            2.0         0   \n1951                    5.0              0            1.0         0   \n1952                    3.0              0            7.0         0   \n1953                    3.0              1            3.0         0   \n1954                    3.0              0            1.0         1   \n\n      PitchSatisfactionScore  OwnCar  NumberOfChildrenVisiting  Designation  \\\n0                          1       0                       1.0            1   \n1                          5       1                       0.0            2   \n2                          4       1                       0.0            2   \n3                          4       0                       1.0            1   \n4                          3       1                       0.0            2   \n...                      ...     ...                       ...          ...   \n1950                       1       1                       2.0            1   \n1951                       5       1                       1.0            0   \n1952                       2       1                       2.0            1   \n1953                       1       1                       2.0            2   \n1954                       3       0                       0.0            1   \n\n      MonthlyIncome  ProdTaken  \n0           20384.0          0  \n1           19599.0          1  \n2               0.0          0  \n3           21274.0          1  \n4           19907.0          0  \n...             ...        ...  \n1950        20723.0          0  \n1951        31595.0          0  \n1952        21651.0          0  \n1953        22218.0          0  \n1954        17853.0          1  \n\n[1955 rows x 20 columns]",
      "text/html": "<div>\n<style scoped>\n    .dataframe tbody tr th:only-of-type {\n        vertical-align: middle;\n    }\n\n    .dataframe tbody tr th {\n        vertical-align: top;\n    }\n\n    .dataframe thead th {\n        text-align: right;\n    }\n</style>\n<table border=\"1\" class=\"dataframe\">\n  <thead>\n    <tr style=\"text-align: right;\">\n      <th></th>\n      <th>id</th>\n      <th>Age</th>\n      <th>TypeofContact</th>\n      <th>CityTier</th>\n      <th>DurationOfPitch</th>\n      <th>Occupation</th>\n      <th>Gender</th>\n      <th>NumberOfPersonVisiting</th>\n      <th>NumberOfFollowups</th>\n      <th>ProductPitched</th>\n      <th>PreferredPropertyStar</th>\n      <th>MaritalStatus</th>\n      <th>NumberOfTrips</th>\n      <th>Passport</th>\n      <th>PitchSatisfactionScore</th>\n      <th>OwnCar</th>\n      <th>NumberOfChildrenVisiting</th>\n      <th>Designation</th>\n      <th>MonthlyIncome</th>\n      <th>ProdTaken</th>\n    </tr>\n  </thead>\n  <tbody>\n    <tr>\n      <th>0</th>\n      <td>1</td>\n      <td>28.0</td>\n      <td>0</td>\n      <td>1</td>\n      <td>10.0</td>\n      <td>3</td>\n      <td>2</td>\n      <td>3</td>\n      <td>4.0</td>\n      <td>0</td>\n      <td>3.0</td>\n      <td>1</td>\n      <td>3.0</td>\n      <td>0</td>\n      <td>1</td>\n      <td>0</td>\n      <td>1.0</td>\n      <td>1</td>\n      <td>20384.0</td>\n      <td>0</td>\n    </tr>\n    <tr>\n      <th>1</th>\n      <td>2</td>\n      <td>34.0</td>\n      <td>1</td>\n      <td>3</td>\n      <td>0.0</td>\n      <td>3</td>\n      <td>1</td>\n      <td>2</td>\n      <td>4.0</td>\n      <td>1</td>\n      <td>4.0</td>\n      <td>2</td>\n      <td>1.0</td>\n      <td>1</td>\n      <td>5</td>\n      <td>1</td>\n      <td>0.0</td>\n      <td>2</td>\n      <td>19599.0</td>\n      <td>1</td>\n    </tr>\n    <tr>\n      <th>2</th>\n      <td>3</td>\n      <td>45.0</td>\n      <td>0</td>\n      <td>1</td>\n      <td>0.0</td>\n      <td>2</td>\n      <td>2</td>\n      <td>2</td>\n      <td>3.0</td>\n      <td>1</td>\n      <td>4.0</td>\n      <td>1</td>\n      <td>2.0</td>\n      <td>0</td>\n      <td>4</td>\n      <td>1</td>\n      <td>0.0</td>\n      <td>2</td>\n      <td>0.0</td>\n      <td>0</td>\n    </tr>\n    <tr>\n      <th>3</th>\n      <td>4</td>\n      <td>29.0</td>\n      <td>0</td>\n      <td>1</td>\n      <td>7.0</td>\n      <td>3</td>\n      <td>2</td>\n      <td>3</td>\n      <td>5.0</td>\n      <td>0</td>\n      <td>4.0</td>\n      <td>1</td>\n      <td>3.0</td>\n      <td>0</td>\n      <td>4</td>\n      <td>0</td>\n      <td>1.0</td>\n      <td>1</td>\n      <td>21274.0</td>\n      <td>1</td>\n    </tr>\n    <tr>\n      <th>4</th>\n      <td>5</td>\n      <td>42.0</td>\n      <td>1</td>\n      <td>3</td>\n      <td>6.0</td>\n      <td>2</td>\n      <td>2</td>\n      <td>2</td>\n      <td>3.0</td>\n      <td>1</td>\n      <td>3.0</td>\n      <td>0</td>\n      <td>2.0</td>\n      <td>0</td>\n      <td>3</td>\n      <td>1</td>\n      <td>0.0</td>\n      <td>2</td>\n      <td>19907.0</td>\n      <td>0</td>\n    </tr>\n    <tr>\n      <th>...</th>\n      <td>...</td>\n      <td>...</td>\n      <td>...</td>\n      <td>...</td>\n      <td>...</td>\n      <td>...</td>\n      <td>...</td>\n      <td>...</td>\n      <td>...</td>\n      <td>...</td>\n      <td>...</td>\n      <td>...</td>\n      <td>...</td>\n      <td>...</td>\n      <td>...</td>\n      <td>...</td>\n      <td>...</td>\n      <td>...</td>\n      <td>...</td>\n      <td>...</td>\n    </tr>\n    <tr>\n      <th>1950</th>\n      <td>1951</td>\n      <td>28.0</td>\n      <td>1</td>\n      <td>1</td>\n      <td>10.0</td>\n      <td>3</td>\n      <td>2</td>\n      <td>3</td>\n      <td>5.0</td>\n      <td>0</td>\n      <td>3.0</td>\n      <td>2</td>\n      <td>2.0</td>\n      <td>0</td>\n      <td>1</td>\n      <td>1</td>\n      <td>2.0</td>\n      <td>1</td>\n      <td>20723.0</td>\n      <td>0</td>\n    </tr>\n    <tr>\n      <th>1951</th>\n      <td>1952</td>\n      <td>41.0</td>\n      <td>1</td>\n      <td>3</td>\n      <td>8.0</td>\n      <td>2</td>\n      <td>1</td>\n      <td>3</td>\n      <td>3.0</td>\n      <td>4</td>\n      <td>5.0</td>\n      <td>0</td>\n      <td>1.0</td>\n      <td>0</td>\n      <td>5</td>\n      <td>1</td>\n      <td>1.0</td>\n      <td>0</td>\n      <td>31595.0</td>\n      <td>0</td>\n    </tr>\n    <tr>\n      <th>1952</th>\n      <td>1953</td>\n      <td>38.0</td>\n      <td>0</td>\n      <td>3</td>\n      <td>28.0</td>\n      <td>3</td>\n      <td>1</td>\n      <td>3</td>\n      <td>4.0</td>\n      <td>0</td>\n      <td>3.0</td>\n      <td>0</td>\n      <td>7.0</td>\n      <td>0</td>\n      <td>2</td>\n      <td>1</td>\n      <td>2.0</td>\n      <td>1</td>\n      <td>21651.0</td>\n      <td>0</td>\n    </tr>\n    <tr>\n      <th>1953</th>\n      <td>1954</td>\n      <td>28.0</td>\n      <td>1</td>\n      <td>3</td>\n      <td>30.0</td>\n      <td>3</td>\n      <td>1</td>\n      <td>3</td>\n      <td>5.0</td>\n      <td>1</td>\n      <td>3.0</td>\n      <td>1</td>\n      <td>3.0</td>\n      <td>0</td>\n      <td>1</td>\n      <td>1</td>\n      <td>2.0</td>\n      <td>2</td>\n      <td>22218.0</td>\n      <td>0</td>\n    </tr>\n    <tr>\n      <th>1954</th>\n      <td>1955</td>\n      <td>22.0</td>\n      <td>0</td>\n      <td>1</td>\n      <td>9.0</td>\n      <td>2</td>\n      <td>2</td>\n      <td>2</td>\n      <td>4.0</td>\n      <td>0</td>\n      <td>3.0</td>\n      <td>0</td>\n      <td>1.0</td>\n      <td>1</td>\n      <td>3</td>\n      <td>0</td>\n      <td>0.0</td>\n      <td>1</td>\n      <td>17853.0</td>\n      <td>1</td>\n    </tr>\n  </tbody>\n</table>\n<p>1955 rows × 20 columns</p>\n</div>"
     },
     "execution_count": 19,
     "metadata": {},
     "output_type": "execute_result"
    }
   ],
   "source": [
    "from sklearn.preprocessing import LabelEncoder\n",
    "\n",
    "train_enc = train_nona.copy()\n",
    "\n",
    "for o_col in object_columns:\n",
    "    encoder = LabelEncoder()\n",
    "    encoder.fit(train_enc[o_col])\n",
    "    train_enc[o_col] = encoder.transform(train_enc[o_col])\n",
    "\n",
    "train_enc"
   ],
   "metadata": {
    "collapsed": false,
    "pycharm": {
     "name": "#%%\n"
    }
   }
  },
  {
   "cell_type": "markdown",
   "source": [
    "### 3) test 전처리"
   ],
   "metadata": {
    "collapsed": false,
    "pycharm": {
     "name": "#%% md\n"
    }
   }
  },
  {
   "cell_type": "code",
   "execution_count": 21,
   "outputs": [
    {
     "data": {
      "text/plain": "        id   Age  TypeofContact  CityTier  DurationOfPitch  Occupation  \\\n0        1  32.0              0         3              0.0           3   \n1        2  46.0              1         2             11.0           3   \n2        3  37.0              1         3             22.0           3   \n3        4  43.0              1         1             36.0           3   \n4        5  25.0              1         3              7.0           1   \n...    ...   ...            ...       ...              ...         ...   \n2928  2929  54.0              1         1              6.0           3   \n2929  2930  33.0              1         1              9.0           3   \n2930  2931  33.0              0         1             31.0           2   \n2931  2932  26.0              1         1              9.0           3   \n2932  2933  31.0              1         1              9.0           2   \n\n      Gender  NumberOfPersonVisiting  NumberOfFollowups  ProductPitched  \\\n0          2                       2                5.0               1   \n1          2                       3                0.0               1   \n2          2                       3                4.0               1   \n3          2                       3                6.0               1   \n4          1                       4                4.0               0   \n...      ...                     ...                ...             ...   \n2928       1                       2                3.0               4   \n2929       0                       4                2.0               1   \n2930       2                       4                4.0               1   \n2931       2                       4                2.0               0   \n2932       2                       3                5.0               1   \n\n      PreferredPropertyStar  MaritalStatus  NumberOfTrips  Passport  \\\n0                       3.0              1            1.0         0   \n1                       4.0              1            1.0         1   \n2                       3.0              1            5.0         0   \n3                       3.0              3            6.0         0   \n4                       4.0              3            3.0         1   \n...                     ...            ...            ...       ...   \n2928                    3.0              2            7.0         0   \n2929                    3.0              3            2.0         0   \n2930                    3.0              0            3.0         0   \n2931                    5.0              3            2.0         0   \n2932                    3.0              0            3.0         0   \n\n      PitchSatisfactionScore  OwnCar  NumberOfChildrenVisiting  Designation  \\\n0                          2       0                       1.0            2   \n1                          5       0                       1.0            2   \n2                          5       1                       0.0            2   \n3                          3       1                       2.0            2   \n4                          4       1                       3.0            1   \n...                      ...     ...                       ...          ...   \n2928                       4       1                       1.0            0   \n2929                       3       0                       1.0            2   \n2930                       4       1                       1.0            2   \n2931                       2       1                       3.0            1   \n2932                       4       1                       1.0            2   \n\n      MonthlyIncome  \n0           19668.0  \n1           20021.0  \n2           21334.0  \n3           22950.0  \n4           21880.0  \n...             ...  \n2928        32328.0  \n2929        23733.0  \n2930        23987.0  \n2931        22102.0  \n2932        22830.0  \n\n[2933 rows x 19 columns]",
      "text/html": "<div>\n<style scoped>\n    .dataframe tbody tr th:only-of-type {\n        vertical-align: middle;\n    }\n\n    .dataframe tbody tr th {\n        vertical-align: top;\n    }\n\n    .dataframe thead th {\n        text-align: right;\n    }\n</style>\n<table border=\"1\" class=\"dataframe\">\n  <thead>\n    <tr style=\"text-align: right;\">\n      <th></th>\n      <th>id</th>\n      <th>Age</th>\n      <th>TypeofContact</th>\n      <th>CityTier</th>\n      <th>DurationOfPitch</th>\n      <th>Occupation</th>\n      <th>Gender</th>\n      <th>NumberOfPersonVisiting</th>\n      <th>NumberOfFollowups</th>\n      <th>ProductPitched</th>\n      <th>PreferredPropertyStar</th>\n      <th>MaritalStatus</th>\n      <th>NumberOfTrips</th>\n      <th>Passport</th>\n      <th>PitchSatisfactionScore</th>\n      <th>OwnCar</th>\n      <th>NumberOfChildrenVisiting</th>\n      <th>Designation</th>\n      <th>MonthlyIncome</th>\n    </tr>\n  </thead>\n  <tbody>\n    <tr>\n      <th>0</th>\n      <td>1</td>\n      <td>32.0</td>\n      <td>0</td>\n      <td>3</td>\n      <td>0.0</td>\n      <td>3</td>\n      <td>2</td>\n      <td>2</td>\n      <td>5.0</td>\n      <td>1</td>\n      <td>3.0</td>\n      <td>1</td>\n      <td>1.0</td>\n      <td>0</td>\n      <td>2</td>\n      <td>0</td>\n      <td>1.0</td>\n      <td>2</td>\n      <td>19668.0</td>\n    </tr>\n    <tr>\n      <th>1</th>\n      <td>2</td>\n      <td>46.0</td>\n      <td>1</td>\n      <td>2</td>\n      <td>11.0</td>\n      <td>3</td>\n      <td>2</td>\n      <td>3</td>\n      <td>0.0</td>\n      <td>1</td>\n      <td>4.0</td>\n      <td>1</td>\n      <td>1.0</td>\n      <td>1</td>\n      <td>5</td>\n      <td>0</td>\n      <td>1.0</td>\n      <td>2</td>\n      <td>20021.0</td>\n    </tr>\n    <tr>\n      <th>2</th>\n      <td>3</td>\n      <td>37.0</td>\n      <td>1</td>\n      <td>3</td>\n      <td>22.0</td>\n      <td>3</td>\n      <td>2</td>\n      <td>3</td>\n      <td>4.0</td>\n      <td>1</td>\n      <td>3.0</td>\n      <td>1</td>\n      <td>5.0</td>\n      <td>0</td>\n      <td>5</td>\n      <td>1</td>\n      <td>0.0</td>\n      <td>2</td>\n      <td>21334.0</td>\n    </tr>\n    <tr>\n      <th>3</th>\n      <td>4</td>\n      <td>43.0</td>\n      <td>1</td>\n      <td>1</td>\n      <td>36.0</td>\n      <td>3</td>\n      <td>2</td>\n      <td>3</td>\n      <td>6.0</td>\n      <td>1</td>\n      <td>3.0</td>\n      <td>3</td>\n      <td>6.0</td>\n      <td>0</td>\n      <td>3</td>\n      <td>1</td>\n      <td>2.0</td>\n      <td>2</td>\n      <td>22950.0</td>\n    </tr>\n    <tr>\n      <th>4</th>\n      <td>5</td>\n      <td>25.0</td>\n      <td>1</td>\n      <td>3</td>\n      <td>7.0</td>\n      <td>1</td>\n      <td>1</td>\n      <td>4</td>\n      <td>4.0</td>\n      <td>0</td>\n      <td>4.0</td>\n      <td>3</td>\n      <td>3.0</td>\n      <td>1</td>\n      <td>4</td>\n      <td>1</td>\n      <td>3.0</td>\n      <td>1</td>\n      <td>21880.0</td>\n    </tr>\n    <tr>\n      <th>...</th>\n      <td>...</td>\n      <td>...</td>\n      <td>...</td>\n      <td>...</td>\n      <td>...</td>\n      <td>...</td>\n      <td>...</td>\n      <td>...</td>\n      <td>...</td>\n      <td>...</td>\n      <td>...</td>\n      <td>...</td>\n      <td>...</td>\n      <td>...</td>\n      <td>...</td>\n      <td>...</td>\n      <td>...</td>\n      <td>...</td>\n      <td>...</td>\n    </tr>\n    <tr>\n      <th>2928</th>\n      <td>2929</td>\n      <td>54.0</td>\n      <td>1</td>\n      <td>1</td>\n      <td>6.0</td>\n      <td>3</td>\n      <td>1</td>\n      <td>2</td>\n      <td>3.0</td>\n      <td>4</td>\n      <td>3.0</td>\n      <td>2</td>\n      <td>7.0</td>\n      <td>0</td>\n      <td>4</td>\n      <td>1</td>\n      <td>1.0</td>\n      <td>0</td>\n      <td>32328.0</td>\n    </tr>\n    <tr>\n      <th>2929</th>\n      <td>2930</td>\n      <td>33.0</td>\n      <td>1</td>\n      <td>1</td>\n      <td>9.0</td>\n      <td>3</td>\n      <td>0</td>\n      <td>4</td>\n      <td>2.0</td>\n      <td>1</td>\n      <td>3.0</td>\n      <td>3</td>\n      <td>2.0</td>\n      <td>0</td>\n      <td>3</td>\n      <td>0</td>\n      <td>1.0</td>\n      <td>2</td>\n      <td>23733.0</td>\n    </tr>\n    <tr>\n      <th>2930</th>\n      <td>2931</td>\n      <td>33.0</td>\n      <td>0</td>\n      <td>1</td>\n      <td>31.0</td>\n      <td>2</td>\n      <td>2</td>\n      <td>4</td>\n      <td>4.0</td>\n      <td>1</td>\n      <td>3.0</td>\n      <td>0</td>\n      <td>3.0</td>\n      <td>0</td>\n      <td>4</td>\n      <td>1</td>\n      <td>1.0</td>\n      <td>2</td>\n      <td>23987.0</td>\n    </tr>\n    <tr>\n      <th>2931</th>\n      <td>2932</td>\n      <td>26.0</td>\n      <td>1</td>\n      <td>1</td>\n      <td>9.0</td>\n      <td>3</td>\n      <td>2</td>\n      <td>4</td>\n      <td>2.0</td>\n      <td>0</td>\n      <td>5.0</td>\n      <td>3</td>\n      <td>2.0</td>\n      <td>0</td>\n      <td>2</td>\n      <td>1</td>\n      <td>3.0</td>\n      <td>1</td>\n      <td>22102.0</td>\n    </tr>\n    <tr>\n      <th>2932</th>\n      <td>2933</td>\n      <td>31.0</td>\n      <td>1</td>\n      <td>1</td>\n      <td>9.0</td>\n      <td>2</td>\n      <td>2</td>\n      <td>3</td>\n      <td>5.0</td>\n      <td>1</td>\n      <td>3.0</td>\n      <td>0</td>\n      <td>3.0</td>\n      <td>0</td>\n      <td>4</td>\n      <td>1</td>\n      <td>1.0</td>\n      <td>2</td>\n      <td>22830.0</td>\n    </tr>\n  </tbody>\n</table>\n<p>2933 rows × 19 columns</p>\n</div>"
     },
     "execution_count": 21,
     "metadata": {},
     "output_type": "execute_result"
    }
   ],
   "source": [
    "test = handle_na(test)\n",
    "\n",
    "for o_col in object_columns:\n",
    "    encoder = LabelEncoder()\n",
    "    encoder.fit(train_nona[o_col])\n",
    "    test[o_col] = encoder.transform(test[o_col])\n",
    "\n",
    "test"
   ],
   "metadata": {
    "collapsed": false,
    "pycharm": {
     "name": "#%%\n"
    }
   }
  },
  {
   "cell_type": "markdown",
   "source": [
    "# 3. Modeling"
   ],
   "metadata": {
    "collapsed": false,
    "pycharm": {
     "name": "#%% md\n"
    }
   }
  },
  {
   "cell_type": "code",
   "execution_count": 22,
   "outputs": [],
   "source": [
    "from sklearn.linear_model import LogisticRegression\n",
    "\n",
    "model = LogisticRegression()"
   ],
   "metadata": {
    "collapsed": false,
    "pycharm": {
     "name": "#%%\n"
    }
   }
  },
  {
   "cell_type": "code",
   "execution_count": 23,
   "outputs": [],
   "source": [
    "train = train_enc.drop(columns=['id'])\n",
    "test = test.drop(columns=['id'])\n",
    "\n",
    "x_train = train.drop(columns=['ProdTaken'])\n",
    "y_train = train[['ProdTaken']]"
   ],
   "metadata": {
    "collapsed": false,
    "pycharm": {
     "name": "#%%\n"
    }
   }
  },
  {
   "cell_type": "code",
   "execution_count": 24,
   "outputs": [
    {
     "name": "stderr",
     "output_type": "stream",
     "text": [
      "C:\\Users\\sun\\anaconda3\\envs\\study\\lib\\site-packages\\sklearn\\utils\\validation.py:993: DataConversionWarning: A column-vector y was passed when a 1d array was expected. Please change the shape of y to (n_samples, ), for example using ravel().\n",
      "  y = column_or_1d(y, warn=True)\n"
     ]
    },
    {
     "data": {
      "text/plain": "LogisticRegression()"
     },
     "execution_count": 24,
     "metadata": {},
     "output_type": "execute_result"
    }
   ],
   "source": [
    "model.fit(x_train, y_train)"
   ],
   "metadata": {
    "collapsed": false,
    "pycharm": {
     "name": "#%%\n"
    }
   }
  },
  {
   "cell_type": "code",
   "execution_count": 26,
   "outputs": [
    {
     "name": "stdout",
     "output_type": "stream",
     "text": [
      "------------------예측된 데이터의 상위 10개의 값 확인---------------------\n",
      "\n",
      "[0 0 0 0 1 0 0 0 0 0]\n"
     ]
    }
   ],
   "source": [
    "prediction = model.predict(test)\n",
    "print('------------------예측된 데이터의 상위 10개의 값 확인---------------------\\n')\n",
    "print(prediction[:10])"
   ],
   "metadata": {
    "collapsed": false,
    "pycharm": {
     "name": "#%%\n"
    }
   }
  },
  {
   "cell_type": "code",
   "execution_count": 28,
   "outputs": [],
   "source": [
    "sample['ProdTaken'] = prediction"
   ],
   "metadata": {
    "collapsed": false,
    "pycharm": {
     "name": "#%%\n"
    }
   }
  },
  {
   "cell_type": "code",
   "execution_count": 29,
   "outputs": [
    {
     "data": {
      "text/plain": "        id  ProdTaken\n0        1          0\n1        2          0\n2        3          0\n3        4          0\n4        5          1\n...    ...        ...\n2928  2929          0\n2929  2930          0\n2930  2931          0\n2931  2932          0\n2932  2933          0\n\n[2933 rows x 2 columns]",
      "text/html": "<div>\n<style scoped>\n    .dataframe tbody tr th:only-of-type {\n        vertical-align: middle;\n    }\n\n    .dataframe tbody tr th {\n        vertical-align: top;\n    }\n\n    .dataframe thead th {\n        text-align: right;\n    }\n</style>\n<table border=\"1\" class=\"dataframe\">\n  <thead>\n    <tr style=\"text-align: right;\">\n      <th></th>\n      <th>id</th>\n      <th>ProdTaken</th>\n    </tr>\n  </thead>\n  <tbody>\n    <tr>\n      <th>0</th>\n      <td>1</td>\n      <td>0</td>\n    </tr>\n    <tr>\n      <th>1</th>\n      <td>2</td>\n      <td>0</td>\n    </tr>\n    <tr>\n      <th>2</th>\n      <td>3</td>\n      <td>0</td>\n    </tr>\n    <tr>\n      <th>3</th>\n      <td>4</td>\n      <td>0</td>\n    </tr>\n    <tr>\n      <th>4</th>\n      <td>5</td>\n      <td>1</td>\n    </tr>\n    <tr>\n      <th>...</th>\n      <td>...</td>\n      <td>...</td>\n    </tr>\n    <tr>\n      <th>2928</th>\n      <td>2929</td>\n      <td>0</td>\n    </tr>\n    <tr>\n      <th>2929</th>\n      <td>2930</td>\n      <td>0</td>\n    </tr>\n    <tr>\n      <th>2930</th>\n      <td>2931</td>\n      <td>0</td>\n    </tr>\n    <tr>\n      <th>2931</th>\n      <td>2932</td>\n      <td>0</td>\n    </tr>\n    <tr>\n      <th>2932</th>\n      <td>2933</td>\n      <td>0</td>\n    </tr>\n  </tbody>\n</table>\n<p>2933 rows × 2 columns</p>\n</div>"
     },
     "execution_count": 29,
     "metadata": {},
     "output_type": "execute_result"
    }
   ],
   "source": [
    "sample"
   ],
   "metadata": {
    "collapsed": false,
    "pycharm": {
     "name": "#%%\n"
    }
   }
  },
  {
   "cell_type": "code",
   "execution_count": 30,
   "outputs": [],
   "source": [
    "sample.to_csv('baseline.csv', index=False)"
   ],
   "metadata": {
    "collapsed": false,
    "pycharm": {
     "name": "#%%\n"
    }
   }
  }
 ],
 "metadata": {
  "kernelspec": {
   "display_name": "Python 3",
   "language": "python",
   "name": "python3"
  },
  "language_info": {
   "codemirror_mode": {
    "name": "ipython",
    "version": 2
   },
   "file_extension": ".py",
   "mimetype": "text/x-python",
   "name": "python",
   "nbconvert_exporter": "python",
   "pygments_lexer": "ipython2",
   "version": "2.7.6"
  }
 },
 "nbformat": 4,
 "nbformat_minor": 0
}