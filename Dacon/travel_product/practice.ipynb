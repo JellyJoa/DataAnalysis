{
 "cells": [
  {
   "cell_type": "markdown",
   "source": [
    "# 데이터 살펴보기"
   ],
   "metadata": {
    "collapsed": false,
    "pycharm": {
     "name": "#%% md\n"
    }
   }
  },
  {
   "cell_type": "code",
   "execution_count": 2,
   "metadata": {
    "collapsed": true
   },
   "outputs": [],
   "source": [
    "import pandas as pd\n",
    "import numpy as np\n",
    "import matplotlib.pyplot as plt\n",
    "import seaborn as sns\n",
    "%matplotlib inline"
   ]
  },
  {
   "cell_type": "code",
   "execution_count": 3,
   "outputs": [
    {
     "data": {
      "text/plain": "   id   Age    TypeofContact  CityTier  DurationOfPitch      Occupation  \\\n0   1  28.0  Company Invited         1             10.0  Small Business   \n1   2  34.0     Self Enquiry         3              NaN  Small Business   \n2   3  45.0  Company Invited         1              NaN        Salaried   \n3   4  29.0  Company Invited         1              7.0  Small Business   \n4   5  42.0     Self Enquiry         3              6.0        Salaried   \n\n   Gender  NumberOfPersonVisiting  NumberOfFollowups ProductPitched  \\\n0    Male                       3                4.0          Basic   \n1  Female                       2                4.0         Deluxe   \n2    Male                       2                3.0         Deluxe   \n3    Male                       3                5.0          Basic   \n4    Male                       2                3.0         Deluxe   \n\n   PreferredPropertyStar MaritalStatus  NumberOfTrips  Passport  \\\n0                    3.0       Married            3.0         0   \n1                    4.0        Single            1.0         1   \n2                    4.0       Married            2.0         0   \n3                    4.0       Married            3.0         0   \n4                    3.0      Divorced            2.0         0   \n\n   PitchSatisfactionScore  OwnCar  NumberOfChildrenVisiting Designation  \\\n0                       1       0                       1.0   Executive   \n1                       5       1                       0.0     Manager   \n2                       4       1                       0.0     Manager   \n3                       4       0                       1.0   Executive   \n4                       3       1                       0.0     Manager   \n\n   MonthlyIncome  ProdTaken  \n0        20384.0          0  \n1        19599.0          1  \n2            NaN          0  \n3        21274.0          1  \n4        19907.0          0  ",
      "text/html": "<div>\n<style scoped>\n    .dataframe tbody tr th:only-of-type {\n        vertical-align: middle;\n    }\n\n    .dataframe tbody tr th {\n        vertical-align: top;\n    }\n\n    .dataframe thead th {\n        text-align: right;\n    }\n</style>\n<table border=\"1\" class=\"dataframe\">\n  <thead>\n    <tr style=\"text-align: right;\">\n      <th></th>\n      <th>id</th>\n      <th>Age</th>\n      <th>TypeofContact</th>\n      <th>CityTier</th>\n      <th>DurationOfPitch</th>\n      <th>Occupation</th>\n      <th>Gender</th>\n      <th>NumberOfPersonVisiting</th>\n      <th>NumberOfFollowups</th>\n      <th>ProductPitched</th>\n      <th>PreferredPropertyStar</th>\n      <th>MaritalStatus</th>\n      <th>NumberOfTrips</th>\n      <th>Passport</th>\n      <th>PitchSatisfactionScore</th>\n      <th>OwnCar</th>\n      <th>NumberOfChildrenVisiting</th>\n      <th>Designation</th>\n      <th>MonthlyIncome</th>\n      <th>ProdTaken</th>\n    </tr>\n  </thead>\n  <tbody>\n    <tr>\n      <th>0</th>\n      <td>1</td>\n      <td>28.0</td>\n      <td>Company Invited</td>\n      <td>1</td>\n      <td>10.0</td>\n      <td>Small Business</td>\n      <td>Male</td>\n      <td>3</td>\n      <td>4.0</td>\n      <td>Basic</td>\n      <td>3.0</td>\n      <td>Married</td>\n      <td>3.0</td>\n      <td>0</td>\n      <td>1</td>\n      <td>0</td>\n      <td>1.0</td>\n      <td>Executive</td>\n      <td>20384.0</td>\n      <td>0</td>\n    </tr>\n    <tr>\n      <th>1</th>\n      <td>2</td>\n      <td>34.0</td>\n      <td>Self Enquiry</td>\n      <td>3</td>\n      <td>NaN</td>\n      <td>Small Business</td>\n      <td>Female</td>\n      <td>2</td>\n      <td>4.0</td>\n      <td>Deluxe</td>\n      <td>4.0</td>\n      <td>Single</td>\n      <td>1.0</td>\n      <td>1</td>\n      <td>5</td>\n      <td>1</td>\n      <td>0.0</td>\n      <td>Manager</td>\n      <td>19599.0</td>\n      <td>1</td>\n    </tr>\n    <tr>\n      <th>2</th>\n      <td>3</td>\n      <td>45.0</td>\n      <td>Company Invited</td>\n      <td>1</td>\n      <td>NaN</td>\n      <td>Salaried</td>\n      <td>Male</td>\n      <td>2</td>\n      <td>3.0</td>\n      <td>Deluxe</td>\n      <td>4.0</td>\n      <td>Married</td>\n      <td>2.0</td>\n      <td>0</td>\n      <td>4</td>\n      <td>1</td>\n      <td>0.0</td>\n      <td>Manager</td>\n      <td>NaN</td>\n      <td>0</td>\n    </tr>\n    <tr>\n      <th>3</th>\n      <td>4</td>\n      <td>29.0</td>\n      <td>Company Invited</td>\n      <td>1</td>\n      <td>7.0</td>\n      <td>Small Business</td>\n      <td>Male</td>\n      <td>3</td>\n      <td>5.0</td>\n      <td>Basic</td>\n      <td>4.0</td>\n      <td>Married</td>\n      <td>3.0</td>\n      <td>0</td>\n      <td>4</td>\n      <td>0</td>\n      <td>1.0</td>\n      <td>Executive</td>\n      <td>21274.0</td>\n      <td>1</td>\n    </tr>\n    <tr>\n      <th>4</th>\n      <td>5</td>\n      <td>42.0</td>\n      <td>Self Enquiry</td>\n      <td>3</td>\n      <td>6.0</td>\n      <td>Salaried</td>\n      <td>Male</td>\n      <td>2</td>\n      <td>3.0</td>\n      <td>Deluxe</td>\n      <td>3.0</td>\n      <td>Divorced</td>\n      <td>2.0</td>\n      <td>0</td>\n      <td>3</td>\n      <td>1</td>\n      <td>0.0</td>\n      <td>Manager</td>\n      <td>19907.0</td>\n      <td>0</td>\n    </tr>\n  </tbody>\n</table>\n</div>"
     },
     "execution_count": 3,
     "metadata": {},
     "output_type": "execute_result"
    }
   ],
   "source": [
    "train = pd.read_csv('train.csv')\n",
    "test = pd.read_csv('test.csv')\n",
    "sample = pd.read_csv('sample_submission.csv')\n",
    "\n",
    "train.head()"
   ],
   "metadata": {
    "collapsed": false,
    "pycharm": {
     "name": "#%%\n"
    }
   }
  },
  {
   "cell_type": "code",
   "execution_count": 4,
   "outputs": [
    {
     "name": "stdout",
     "output_type": "stream",
     "text": [
      "<class 'pandas.core.frame.DataFrame'>\n",
      "RangeIndex: 1955 entries, 0 to 1954\n",
      "Data columns (total 20 columns):\n",
      " #   Column                    Non-Null Count  Dtype  \n",
      "---  ------                    --------------  -----  \n",
      " 0   id                        1955 non-null   int64  \n",
      " 1   Age                       1861 non-null   float64\n",
      " 2   TypeofContact             1945 non-null   object \n",
      " 3   CityTier                  1955 non-null   int64  \n",
      " 4   DurationOfPitch           1853 non-null   float64\n",
      " 5   Occupation                1955 non-null   object \n",
      " 6   Gender                    1955 non-null   object \n",
      " 7   NumberOfPersonVisiting    1955 non-null   int64  \n",
      " 8   NumberOfFollowups         1942 non-null   float64\n",
      " 9   ProductPitched            1955 non-null   object \n",
      " 10  PreferredPropertyStar     1945 non-null   float64\n",
      " 11  MaritalStatus             1955 non-null   object \n",
      " 12  NumberOfTrips             1898 non-null   float64\n",
      " 13  Passport                  1955 non-null   int64  \n",
      " 14  PitchSatisfactionScore    1955 non-null   int64  \n",
      " 15  OwnCar                    1955 non-null   int64  \n",
      " 16  NumberOfChildrenVisiting  1928 non-null   float64\n",
      " 17  Designation               1955 non-null   object \n",
      " 18  MonthlyIncome             1855 non-null   float64\n",
      " 19  ProdTaken                 1955 non-null   int64  \n",
      "dtypes: float64(7), int64(7), object(6)\n",
      "memory usage: 305.6+ KB\n"
     ]
    }
   ],
   "source": [
    "train.info()"
   ],
   "metadata": {
    "collapsed": false,
    "pycharm": {
     "name": "#%%\n"
    }
   }
  },
  {
   "cell_type": "code",
   "execution_count": null,
   "outputs": [],
   "source": [
    "\n",
    "for i in range(20):\n",
    "    plt.subplot(20, 1, i)\n",
    "    plt.plot(train[])"
   ],
   "metadata": {
    "collapsed": false,
    "pycharm": {
     "name": "#%%\n"
    }
   }
  },
  {
   "cell_type": "markdown",
   "source": [
    "# 데이터 전처리"
   ],
   "metadata": {
    "collapsed": false
   }
  },
  {
   "cell_type": "code",
   "execution_count": 5,
   "outputs": [
    {
     "data": {
      "text/plain": "id                            0\nAge                          94\nTypeofContact                10\nCityTier                      0\nDurationOfPitch             102\nOccupation                    0\nGender                        0\nNumberOfPersonVisiting        0\nNumberOfFollowups            13\nProductPitched                0\nPreferredPropertyStar        10\nMaritalStatus                 0\nNumberOfTrips                57\nPassport                      0\nPitchSatisfactionScore        0\nOwnCar                        0\nNumberOfChildrenVisiting     27\nDesignation                   0\nMonthlyIncome               100\nProdTaken                     0\ndtype: int64"
     },
     "execution_count": 5,
     "metadata": {},
     "output_type": "execute_result"
    }
   ],
   "source": [
    "train.isna().sum()\n",
    "\n",
    "# age float / typeofcontact objecct() / durationofpitch float(없을수도/평균) / numberoffollowups float(없을수도?평균?) / preferredpropertysstar float(평균)\n",
    "# numberoftrips float(평균) / numberofchildrenvisiting float(없을수도/평균) / monthlyincome float(평균)"
   ],
   "metadata": {
    "collapsed": false,
    "pycharm": {
     "name": "#%%\n"
    }
   }
  },
  {
   "cell_type": "code",
   "execution_count": 43,
   "outputs": [
    {
     "data": {
      "text/plain": "Index(['Age', 'TypeofContact', 'DurationOfPitch', 'NumberOfFollowups',\n       'PreferredPropertyStar', 'NumberOfTrips', 'NumberOfChildrenVisiting',\n       'MonthlyIncome'],\n      dtype='object')"
     },
     "execution_count": 43,
     "metadata": {},
     "output_type": "execute_result"
    }
   ],
   "source": [
    "na = train.isna().sum()\n",
    "\n",
    "col = na[na>0].keys()\n",
    "col"
   ],
   "metadata": {
    "collapsed": false,
    "pycharm": {
     "name": "#%%\n"
    }
   }
  },
  {
   "cell_type": "code",
   "source": [
    "object_col = 'TypeofContact'\n",
    "float_col = col.drop(object_col)\n",
    "float_col"
   ],
   "metadata": {
    "collapsed": false,
    "pycharm": {
     "name": "#%%\n"
    }
   },
   "execution_count": 44,
   "outputs": [
    {
     "data": {
      "text/plain": "Index(['Age', 'DurationOfPitch', 'NumberOfFollowups', 'PreferredPropertyStar',\n       'NumberOfTrips', 'NumberOfChildrenVisiting', 'MonthlyIncome'],\n      dtype='object')"
     },
     "execution_count": 44,
     "metadata": {},
     "output_type": "execute_result"
    }
   ]
  },
  {
   "cell_type": "code",
   "execution_count": null,
   "outputs": [],
   "source": [
    "trian[object_col] = "
   ],
   "metadata": {
    "collapsed": false,
    "pycharm": {
     "name": "#%%\n"
    }
   }
  },
  {
   "cell_type": "code",
   "execution_count": 16,
   "outputs": [
    {
     "data": {
      "text/plain": "Index(['id', 'Age', 'TypeofContact', 'CityTier', 'DurationOfPitch',\n       'Occupation', 'Gender', 'NumberOfPersonVisiting', 'NumberOfFollowups',\n       'ProductPitched', 'PreferredPropertyStar', 'MaritalStatus',\n       'NumberOfTrips', 'Passport', 'PitchSatisfactionScore', 'OwnCar',\n       'NumberOfChildrenVisiting', 'Designation', 'MonthlyIncome',\n       'ProdTaken'],\n      dtype='object')"
     },
     "execution_count": 16,
     "metadata": {},
     "output_type": "execute_result"
    }
   ],
   "source": [
    "all_col = train.keys()\n",
    "all_col"
   ],
   "metadata": {
    "collapsed": false,
    "pycharm": {
     "name": "#%%\n"
    }
   }
  },
  {
   "cell_type": "code",
   "execution_count": 36,
   "outputs": [
    {
     "name": "stdout",
     "output_type": "stream",
     "text": [
      "id\n",
      "[   1    2    3 ... 1953 1954 1955]\n",
      "Age\n",
      "[28. 34. 45. 29. 42. 32. 43. 36. 35. 31. 49. nan 52. 33. 22. 50. 23. 41.\n",
      " 37. 40. 56. 54. 39. 20. 46. 27. 38. 25. 26. 24. 30. 21. 51. 47. 55. 44.\n",
      " 53. 48. 18. 57. 60. 59. 19. 58. 61.]\n",
      "TypeofContact\n",
      "['Company Invited' 'Self Enquiry' nan]\n",
      "CityTier\n",
      "[1 3 2]\n",
      "DurationOfPitch\n",
      "[10. nan  7.  6. 29.  8. 20. 14.  9. 16. 15. 23. 21. 11. 25. 34. 17. 13.\n",
      " 28. 12. 22. 30. 24. 27. 31. 35. 32. 33. 36. 19. 26. 18.  5.]\n",
      "Occupation\n",
      "['Small Business' 'Salaried' 'Large Business' 'Free Lancer']\n",
      "Gender\n",
      "['Male' 'Female' 'Fe Male']\n",
      "NumberOfPersonVisiting\n",
      "[3 2 4 1 5]\n",
      "NumberOfFollowups\n",
      "[ 4.  3.  5.  1.  6.  2. nan]\n",
      "ProductPitched\n",
      "['Basic' 'Deluxe' 'King' 'Standard' 'Super Deluxe']\n",
      "PreferredPropertyStar\n",
      "[ 3.  4.  5. nan]\n",
      "MaritalStatus\n",
      "['Married' 'Single' 'Divorced' 'Unmarried']\n",
      "NumberOfTrips\n",
      "[ 3.  1.  2.  7.  4.  6.  5.  8. nan 19.]\n",
      "Passport\n",
      "[0 1]\n",
      "PitchSatisfactionScore\n",
      "[1 5 4 3 2]\n",
      "OwnCar\n",
      "[0 1]\n",
      "NumberOfChildrenVisiting\n",
      "[ 1.  0.  2.  3. nan]\n",
      "Designation\n",
      "['Executive' 'Manager' 'VP' 'Senior Manager' 'AVP']\n",
      "MonthlyIncome\n",
      "[20384. 19599.    nan ... 31595. 22218. 17853.]\n",
      "ProdTaken\n",
      "[0 1]\n"
     ]
    }
   ],
   "source": [
    "for idx, col in enumerate(all_col):\n",
    "    val = train[col]\n",
    "    print(col)\n",
    "    print(val.unique())"
   ],
   "metadata": {
    "collapsed": false,
    "pycharm": {
     "name": "#%%\n"
    }
   }
  },
  {
   "cell_type": "code",
   "execution_count": 38,
   "outputs": [
    {
     "data": {
      "text/plain": "Male      1207\nFemale     748\nName: Gender, dtype: int64"
     },
     "execution_count": 38,
     "metadata": {},
     "output_type": "execute_result"
    }
   ],
   "source": [
    "train['Gender'] = train['Gender'].replace('Fe Male', 'Female')\n",
    "\n",
    "train['Gender'].value_counts()"
   ],
   "metadata": {
    "collapsed": false,
    "pycharm": {
     "name": "#%%\n"
    }
   }
  },
  {
   "cell_type": "code",
   "execution_count": null,
   "outputs": [],
   "source": [],
   "metadata": {
    "collapsed": false,
    "pycharm": {
     "name": "#%%\n"
    }
   }
  }
 ],
 "metadata": {
  "kernelspec": {
   "display_name": "Python 3",
   "language": "python",
   "name": "python3"
  },
  "language_info": {
   "codemirror_mode": {
    "name": "ipython",
    "version": 2
   },
   "file_extension": ".py",
   "mimetype": "text/x-python",
   "name": "python",
   "nbconvert_exporter": "python",
   "pygments_lexer": "ipython2",
   "version": "2.7.6"
  }
 },
 "nbformat": 4,
 "nbformat_minor": 0
}