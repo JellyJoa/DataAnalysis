{
 "cells": [
  {
   "cell_type": "markdown",
   "source": [
    "# 중고차 가격 예측 경진대회 두 번째 베이스라인\n",
    "\n",
    "이번 대회는 중고차 시장 데이터를 이용하여 중고차 가격 예측을 예측하는 대회입니다.\n",
    "\n",
    "EDA를 통한 전처리 과정을 모델에 적용해보고,\n",
    "\n",
    "모델에서 앙상블 과정을 통해서 모델의 성능을 더욱 높여보겠습니다.\n"
   ],
   "metadata": {
    "collapsed": false
   }
  },
  {
   "cell_type": "markdown",
   "source": [
    "## 데이터 불러오기"
   ],
   "metadata": {
    "collapsed": false
   }
  },
  {
   "cell_type": "code",
   "execution_count": 23,
   "outputs": [
    {
     "name": "stdout",
     "output_type": "stream",
     "text": [
      "train data set은 11 개의 feature를 가진 1015 개의 데이터 샘플로 이루어져 있습니다.\n"
     ]
    },
    {
     "data": {
      "text/plain": "   id                          title  odometer location    isimported  \\\n0   0                   Toyota RAV 4     18277   Lagos   Foreign Used   \n1   1            Toyota Land Cruiser        10    Lagos          New    \n2   2  Land Rover Range Rover Evoque     83091    Lagos  Foreign Used   \n3   3                   Lexus ES 350     91524    Lagos  Foreign Used   \n4   4                   Toyota Venza     94177    Lagos  Foreign Used   \n\n           engine transmission    fuel  paint  year    target  \n0  4-cylinder(I4)    automatic  petrol    Red  2016  13665000  \n1  4-cylinder(I4)    automatic  petrol  Black  2019  33015000  \n2  6-cylinder(V6)    automatic  petrol    Red  2012   9915000  \n3  4-cylinder(I4)    automatic  petrol   Gray  2007   3815000  \n4  6-cylinder(V6)    automatic  petrol    Red  2010   7385000  ",
      "text/html": "<div>\n<style scoped>\n    .dataframe tbody tr th:only-of-type {\n        vertical-align: middle;\n    }\n\n    .dataframe tbody tr th {\n        vertical-align: top;\n    }\n\n    .dataframe thead th {\n        text-align: right;\n    }\n</style>\n<table border=\"1\" class=\"dataframe\">\n  <thead>\n    <tr style=\"text-align: right;\">\n      <th></th>\n      <th>id</th>\n      <th>title</th>\n      <th>odometer</th>\n      <th>location</th>\n      <th>isimported</th>\n      <th>engine</th>\n      <th>transmission</th>\n      <th>fuel</th>\n      <th>paint</th>\n      <th>year</th>\n      <th>target</th>\n    </tr>\n  </thead>\n  <tbody>\n    <tr>\n      <th>0</th>\n      <td>0</td>\n      <td>Toyota RAV 4</td>\n      <td>18277</td>\n      <td>Lagos</td>\n      <td>Foreign Used</td>\n      <td>4-cylinder(I4)</td>\n      <td>automatic</td>\n      <td>petrol</td>\n      <td>Red</td>\n      <td>2016</td>\n      <td>13665000</td>\n    </tr>\n    <tr>\n      <th>1</th>\n      <td>1</td>\n      <td>Toyota Land Cruiser</td>\n      <td>10</td>\n      <td>Lagos</td>\n      <td>New</td>\n      <td>4-cylinder(I4)</td>\n      <td>automatic</td>\n      <td>petrol</td>\n      <td>Black</td>\n      <td>2019</td>\n      <td>33015000</td>\n    </tr>\n    <tr>\n      <th>2</th>\n      <td>2</td>\n      <td>Land Rover Range Rover Evoque</td>\n      <td>83091</td>\n      <td>Lagos</td>\n      <td>Foreign Used</td>\n      <td>6-cylinder(V6)</td>\n      <td>automatic</td>\n      <td>petrol</td>\n      <td>Red</td>\n      <td>2012</td>\n      <td>9915000</td>\n    </tr>\n    <tr>\n      <th>3</th>\n      <td>3</td>\n      <td>Lexus ES 350</td>\n      <td>91524</td>\n      <td>Lagos</td>\n      <td>Foreign Used</td>\n      <td>4-cylinder(I4)</td>\n      <td>automatic</td>\n      <td>petrol</td>\n      <td>Gray</td>\n      <td>2007</td>\n      <td>3815000</td>\n    </tr>\n    <tr>\n      <th>4</th>\n      <td>4</td>\n      <td>Toyota Venza</td>\n      <td>94177</td>\n      <td>Lagos</td>\n      <td>Foreign Used</td>\n      <td>6-cylinder(V6)</td>\n      <td>automatic</td>\n      <td>petrol</td>\n      <td>Red</td>\n      <td>2010</td>\n      <td>7385000</td>\n    </tr>\n  </tbody>\n</table>\n</div>"
     },
     "execution_count": 23,
     "metadata": {},
     "output_type": "execute_result"
    }
   ],
   "source": [
    "import pandas as pd ## pandas 라이브러리를 가져오기 위하여 import를 해줍니다.\n",
    "\n",
    "# csv 형식으로 된 데이터 파일을 읽어옵니다.\n",
    "train = pd.read_csv('train.csv')\n",
    "test = pd.read_csv('test.csv')\n",
    "\n",
    "print(f'train data set은 {train.shape[1]} 개의 feature를 가진 {train.shape[0]} 개의 데이터 샘플로 이루어져 있습니다.')\n",
    "\n",
    "# 데이터의 최상단 5 줄을 표시합니다.\n",
    "train.head()"
   ],
   "metadata": {
    "collapsed": false,
    "pycharm": {
     "name": "#%%\n"
    }
   }
  },
  {
   "cell_type": "markdown",
   "source": [
    "트레인과 테스트 데이터 모양 행과 열을 살펴보면 다음과 같습니다."
   ],
   "metadata": {
    "collapsed": false
   }
  },
  {
   "cell_type": "code",
   "execution_count": 24,
   "outputs": [
    {
     "name": "stdout",
     "output_type": "stream",
     "text": [
      "(1015, 11) (436, 10)\n"
     ]
    }
   ],
   "source": [
    "print(train.shape, test.shape)"
   ],
   "metadata": {
    "collapsed": false,
    "pycharm": {
     "name": "#%%\n"
    }
   }
  },
  {
   "cell_type": "markdown",
   "source": [
    "## 결측치 확인\n",
    "\n",
    "결측치(NA: Not Available)란 값이 누락된 데이터를 말합니다.\n",
    "\n",
    "보다 정확한 분석을 하기 위해서는 데이터의 결측치를 확인하고 적절히 처리해주어야 합니다.\n",
    "\n",
    "이번 데이터에 결측치가 있나 확인해볼까요?"
   ],
   "metadata": {
    "collapsed": false
   }
  },
  {
   "cell_type": "code",
   "execution_count": 25,
   "outputs": [
    {
     "name": "stdout",
     "output_type": "stream",
     "text": [
      "결측치가 존재하지 않습니다\n"
     ]
    }
   ],
   "source": [
    "def check_missing_col(dataframe):\n",
    "    missing_col = []\n",
    "    for col in dataframe.columns:\n",
    "        missing_values = sum(dataframe[col].isna())\n",
    "        is_missing = True if missing_values >= 1 else False\n",
    "        if is_missing:\n",
    "            print(f'결측치가 있는 컬럼은: {col} 입니다')\n",
    "            print(f'해당 컬럼에 총 {missing_values} 개의 결측치가 존재합니다.')\n",
    "            missing_col.append([col, dataframe[col].dtype])\n",
    "    if missing_col == []:\n",
    "        print('결측치가 존재하지 않습니다')\n",
    "    return missing_col\n",
    "\n",
    "missing_col = check_missing_col(train)"
   ],
   "metadata": {
    "collapsed": false,
    "pycharm": {
     "name": "#%%\n"
    }
   }
  },
  {
   "cell_type": "markdown",
   "source": [
    "중고차 가격 예측 하기 위한 데이터는 결측치가 존재하지 않은 것으로 확인되었습니다."
   ],
   "metadata": {
    "collapsed": false
   }
  },
  {
   "cell_type": "markdown",
   "source": [
    "## 데이터 전처리"
   ],
   "metadata": {
    "collapsed": false
   }
  },
  {
   "cell_type": "markdown",
   "source": [
    "EDA과정에서 인사이트를 발굴하여 적용했던 전처리 과정을 살펴보곘습니다."
   ],
   "metadata": {
    "collapsed": false
   }
  },
  {
   "cell_type": "markdown",
   "source": [
    "### 오탈자 처리"
   ],
   "metadata": {
    "collapsed": false
   }
  },
  {
   "cell_type": "code",
   "execution_count": 26,
   "outputs": [
    {
     "data": {
      "text/plain": "      id                title  odometer location    isimported  \\\n415  415  Mercedes-Benz ATEGO    403461    Lagos  Locally used   \n827  827     Mercedes-Benz/52    510053    Lagos  Locally used   \n\n             engine transmission    fuel  paint  year    target  \n415  4-cylinder(I4)       manual  diesel  white  1218   6015000  \n827  6-cylinder(V6)       manual  diesel  white  1217  75015000  ",
      "text/html": "<div>\n<style scoped>\n    .dataframe tbody tr th:only-of-type {\n        vertical-align: middle;\n    }\n\n    .dataframe tbody tr th {\n        vertical-align: top;\n    }\n\n    .dataframe thead th {\n        text-align: right;\n    }\n</style>\n<table border=\"1\" class=\"dataframe\">\n  <thead>\n    <tr style=\"text-align: right;\">\n      <th></th>\n      <th>id</th>\n      <th>title</th>\n      <th>odometer</th>\n      <th>location</th>\n      <th>isimported</th>\n      <th>engine</th>\n      <th>transmission</th>\n      <th>fuel</th>\n      <th>paint</th>\n      <th>year</th>\n      <th>target</th>\n    </tr>\n  </thead>\n  <tbody>\n    <tr>\n      <th>415</th>\n      <td>415</td>\n      <td>Mercedes-Benz ATEGO</td>\n      <td>403461</td>\n      <td>Lagos</td>\n      <td>Locally used</td>\n      <td>4-cylinder(I4)</td>\n      <td>manual</td>\n      <td>diesel</td>\n      <td>white</td>\n      <td>1218</td>\n      <td>6015000</td>\n    </tr>\n    <tr>\n      <th>827</th>\n      <td>827</td>\n      <td>Mercedes-Benz/52</td>\n      <td>510053</td>\n      <td>Lagos</td>\n      <td>Locally used</td>\n      <td>6-cylinder(V6)</td>\n      <td>manual</td>\n      <td>diesel</td>\n      <td>white</td>\n      <td>1217</td>\n      <td>75015000</td>\n    </tr>\n  </tbody>\n</table>\n</div>"
     },
     "execution_count": 26,
     "metadata": {},
     "output_type": "execute_result"
    }
   ],
   "source": [
    "train[train['year'] < 1900]"
   ],
   "metadata": {
    "collapsed": false,
    "pycharm": {
     "name": "#%%\n"
    }
   }
  },
  {
   "cell_type": "markdown",
   "source": [
    "위의 year에서 1218, 1217 데이터가 존재합니다.\n",
    "\n",
    "이는 오기입된 데이터라고 판단될 수 있으므로 제거를 해줍시다."
   ],
   "metadata": {
    "collapsed": false
   }
  },
  {
   "cell_type": "code",
   "execution_count": 27,
   "outputs": [
    {
     "data": {
      "text/plain": "(1013, 11)"
     },
     "execution_count": 27,
     "metadata": {},
     "output_type": "execute_result"
    }
   ],
   "source": [
    "train = train[train['year'] > 1900]\n",
    "train = train.drop('id', axis = 1).reset_index().drop('index', axis = 1).reset_index().rename({'index':'id'}, axis = 'columns')\n",
    "train.shape"
   ],
   "metadata": {
    "collapsed": false,
    "pycharm": {
     "name": "#%%\n"
    }
   }
  },
  {
   "cell_type": "markdown",
   "source": [
    "### 파생변수 생성\n",
    "\n",
    "title 컬럼을 살펴보겠습니다."
   ],
   "metadata": {
    "collapsed": false
   }
  },
  {
   "cell_type": "code",
   "execution_count": 28,
   "outputs": [
    {
     "data": {
      "text/plain": "Toyota Camry            129\nToyota Corolla          108\nToyota Highlander        50\nToyota Sienna            49\nToyota RAV 4             40\nHonda Accord             38\nLexus RX 350             33\nLexus ES 350             24\nToyota Venza             16\nLexus GX 460             16\nHonda Pilot              15\nLexus LX 570             14\nMercedes-Benz ML 350     13\nToyota Avalon            13\nMercedes-Benz GL 450     12\nToyota Matrix            12\nToyota Tacoma            12\nFord Explorer            12\nMercedes-Benz E 350      12\nToyota 4-Runner          12\nName: title, dtype: int64"
     },
     "execution_count": 28,
     "metadata": {},
     "output_type": "execute_result"
    }
   ],
   "source": [
    "train['title'].value_counts()[:20]"
   ],
   "metadata": {
    "collapsed": false,
    "pycharm": {
     "name": "#%%\n"
    }
   }
  },
  {
   "cell_type": "markdown",
   "source": [
    "도요타, 혼다, 렉서스, 벤츠 등 title 변수를 통하여 상위 변수로 Brand 변수도 생성해 낼 수 있을 것 같군요!\n",
    "브랜드 별 카테고리 변수도 추가해주면 분석에 용이할 것 같습니다.\n",
    "\n",
    "<br>\n",
    "\n",
    "브랜드는 띄어쓰기 기준으로 첫번째 단어에 위치해 있으므로 첫번째 단어를 플래그로 기준으로 나누어 보도록 하겠습니다."
   ],
   "metadata": {
    "collapsed": false
   }
  },
  {
   "cell_type": "code",
   "execution_count": 29,
   "outputs": [
    {
     "data": {
      "text/plain": "   id                          title  odometer location    isimported  \\\n0   0                   Toyota RAV 4     18277   Lagos   Foreign Used   \n1   1            Toyota Land Cruiser        10    Lagos          New    \n2   2  Land Rover Range Rover Evoque     83091    Lagos  Foreign Used   \n3   3                   Lexus ES 350     91524    Lagos  Foreign Used   \n4   4                   Toyota Venza     94177    Lagos  Foreign Used   \n\n           engine transmission    fuel  paint  year    target   brand  \n0  4-cylinder(I4)    automatic  petrol    Red  2016  13665000  Toyota  \n1  4-cylinder(I4)    automatic  petrol  Black  2019  33015000  Toyota  \n2  6-cylinder(V6)    automatic  petrol    Red  2012   9915000    Land  \n3  4-cylinder(I4)    automatic  petrol   Gray  2007   3815000   Lexus  \n4  6-cylinder(V6)    automatic  petrol    Red  2010   7385000  Toyota  ",
      "text/html": "<div>\n<style scoped>\n    .dataframe tbody tr th:only-of-type {\n        vertical-align: middle;\n    }\n\n    .dataframe tbody tr th {\n        vertical-align: top;\n    }\n\n    .dataframe thead th {\n        text-align: right;\n    }\n</style>\n<table border=\"1\" class=\"dataframe\">\n  <thead>\n    <tr style=\"text-align: right;\">\n      <th></th>\n      <th>id</th>\n      <th>title</th>\n      <th>odometer</th>\n      <th>location</th>\n      <th>isimported</th>\n      <th>engine</th>\n      <th>transmission</th>\n      <th>fuel</th>\n      <th>paint</th>\n      <th>year</th>\n      <th>target</th>\n      <th>brand</th>\n    </tr>\n  </thead>\n  <tbody>\n    <tr>\n      <th>0</th>\n      <td>0</td>\n      <td>Toyota RAV 4</td>\n      <td>18277</td>\n      <td>Lagos</td>\n      <td>Foreign Used</td>\n      <td>4-cylinder(I4)</td>\n      <td>automatic</td>\n      <td>petrol</td>\n      <td>Red</td>\n      <td>2016</td>\n      <td>13665000</td>\n      <td>Toyota</td>\n    </tr>\n    <tr>\n      <th>1</th>\n      <td>1</td>\n      <td>Toyota Land Cruiser</td>\n      <td>10</td>\n      <td>Lagos</td>\n      <td>New</td>\n      <td>4-cylinder(I4)</td>\n      <td>automatic</td>\n      <td>petrol</td>\n      <td>Black</td>\n      <td>2019</td>\n      <td>33015000</td>\n      <td>Toyota</td>\n    </tr>\n    <tr>\n      <th>2</th>\n      <td>2</td>\n      <td>Land Rover Range Rover Evoque</td>\n      <td>83091</td>\n      <td>Lagos</td>\n      <td>Foreign Used</td>\n      <td>6-cylinder(V6)</td>\n      <td>automatic</td>\n      <td>petrol</td>\n      <td>Red</td>\n      <td>2012</td>\n      <td>9915000</td>\n      <td>Land</td>\n    </tr>\n    <tr>\n      <th>3</th>\n      <td>3</td>\n      <td>Lexus ES 350</td>\n      <td>91524</td>\n      <td>Lagos</td>\n      <td>Foreign Used</td>\n      <td>4-cylinder(I4)</td>\n      <td>automatic</td>\n      <td>petrol</td>\n      <td>Gray</td>\n      <td>2007</td>\n      <td>3815000</td>\n      <td>Lexus</td>\n    </tr>\n    <tr>\n      <th>4</th>\n      <td>4</td>\n      <td>Toyota Venza</td>\n      <td>94177</td>\n      <td>Lagos</td>\n      <td>Foreign Used</td>\n      <td>6-cylinder(V6)</td>\n      <td>automatic</td>\n      <td>petrol</td>\n      <td>Red</td>\n      <td>2010</td>\n      <td>7385000</td>\n      <td>Toyota</td>\n    </tr>\n  </tbody>\n</table>\n</div>"
     },
     "execution_count": 29,
     "metadata": {},
     "output_type": "execute_result"
    }
   ],
   "source": [
    "train['brand'] = train['title'].apply(lambda x : x.split(\" \")[0])\n",
    "train.head()"
   ],
   "metadata": {
    "collapsed": false,
    "pycharm": {
     "name": "#%%\n"
    }
   }
  },
  {
   "cell_type": "code",
   "execution_count": 30,
   "outputs": [
    {
     "name": "stdout",
     "output_type": "stream",
     "text": [
      "title의 unique 카테고리 개수 :  201\n",
      "brand의 unique 카테고리 개수 :  41\n"
     ]
    }
   ],
   "source": [
    "print('title의 unique 카테고리 개수 : ', len(train['title'].value_counts()))\n",
    "print('brand의 unique 카테고리 개수 : ', len(train['brand'].value_counts()))"
   ],
   "metadata": {
    "collapsed": false,
    "pycharm": {
     "name": "#%%\n"
    }
   }
  },
  {
   "cell_type": "markdown",
   "source": [
    "201개 카테고리에서 41개 카테고리로 줄어든 새로운 brand 파생변수를 생성했습니다.\n",
    "\n",
    "많이 줄어들었지만 그래도 여전히 카테고리가 많긴 하군요!"
   ],
   "metadata": {
    "collapsed": false
   }
  },
  {
   "cell_type": "markdown",
   "source": [
    "### 데이터 정제\n",
    "\n",
    "paint 컬럼을 살펴보겠습니다."
   ],
   "metadata": {
    "collapsed": false
   }
  },
  {
   "cell_type": "code",
   "execution_count": 31,
   "outputs": [
    {
     "data": {
      "text/plain": "Black        292\nWhite        115\nSilver       103\nGrey          84\nBlue          70\nRed           53\nDark Grey     47\nGold          37\nwhite         24\nGreen         18\nGray          17\nBrown         16\nBlack         15\nDark Blue     14\nWine           8\nSilver         5\nSliver         5\nblue           5\nred            5\nGrey           3\nName: paint, dtype: int64"
     },
     "execution_count": 31,
     "metadata": {},
     "output_type": "execute_result"
    }
   ],
   "source": [
    "train['paint'].value_counts()[:20]"
   ],
   "metadata": {
    "collapsed": false,
    "pycharm": {
     "name": "#%%\n"
    }
   }
  },
  {
   "cell_type": "markdown",
   "source": [
    "'Black', 'Black '\n",
    "\n",
    "'Red', 'red'\n",
    "\n",
    "띄어쓰기, 대소문자가 고르지 못한 단어들이 보이는군요.\n",
    "\n",
    "이럴 경우 정규표현식을 이용하여 통일성을 맞춰줍시다."
   ],
   "metadata": {
    "collapsed": false
   }
  },
  {
   "cell_type": "code",
   "execution_count": 32,
   "outputs": [],
   "source": [
    "import re\n",
    "\n",
    "def clean_text(texts):\n",
    "    corpus = []\n",
    "    for i in range(0, len(texts)):\n",
    "        review = re.sub(r'[@%\\\\*=()/~#&\\+á?\\xc3\\xa1\\-\\|\\.\\:\\;\\!\\-\\,\\_\\~\\$\\'\\\"\\n\\]\\[\\>\\<]', '',texts[i]) #@%*=()/+ 와 같은 문장부호 제거\n",
    "        review = re.sub(r'\\d+','',review)#숫자 제거\n",
    "        review = review.lower() #소문자 변환\n",
    "        review = re.sub(r'\\s+', ' ', review) #extra space 제거\n",
    "        review = re.sub(r'<[^>]+>','',review) #Html tags 제거\n",
    "        review = re.sub(r'\\s+', ' ', review) #spaces 제거\n",
    "        review = re.sub(r\"^\\s+\", '', review) #space from start 제거\n",
    "        review = re.sub(r'\\s+$', '', review) #space from the end 제거\n",
    "        review = re.sub(r'_', ' ', review) #space from the end 제거\n",
    "        #review = re.sub(r'l', '', review)\n",
    "        corpus.append(review)\n",
    "\n",
    "    return corpus\n"
   ],
   "metadata": {
    "collapsed": false,
    "pycharm": {
     "name": "#%%\n"
    }
   }
  },
  {
   "cell_type": "code",
   "execution_count": 33,
   "outputs": [
    {
     "name": "stdout",
     "output_type": "stream",
     "text": [
      "정제 전 brand의 unique 카테고리 개수 :  76\n",
      "정제 후 brand의 unique 카테고리 개수 :  51\n"
     ]
    }
   ],
   "source": [
    "print('정제 전 brand의 unique 카테고리 개수 : ', len(train['paint'].unique()))\n",
    "\n",
    "temp = clean_text(train['paint']) #메소드 적용\n",
    "train['paint'] = temp\n",
    "\n",
    "print('정제 후 brand의 unique 카테고리 개수 : ', len(train['paint'].unique()))"
   ],
   "metadata": {
    "collapsed": false,
    "pycharm": {
     "name": "#%%\n"
    }
   }
  },
  {
   "cell_type": "markdown",
   "source": [
    "76개에서 51개의 카테고리로 줄어들었습니다.\n",
    "그래도 여전히 많군요.\n",
    "\n",
    "다시한번 카테고리를 봐 봅시다."
   ],
   "metadata": {
    "collapsed": false
   }
  },
  {
   "cell_type": "code",
   "execution_count": 34,
   "outputs": [
    {
     "data": {
      "text/plain": "black        310\nwhite        142\nsilver       109\ngrey          87\nblue          78\nred           58\ndark grey     48\ngold          41\ngreen         20\ngray          18\ndark blue     17\nbrown         16\nwine           9\nsliver         5\ndark ash       4\ncream          4\nash            3\npurple         3\nyellow         3\nwhiteblue      2\nName: paint, dtype: int64"
     },
     "execution_count": 34,
     "metadata": {},
     "output_type": "execute_result"
    }
   ],
   "source": [
    "train['paint'].value_counts()[:20]"
   ],
   "metadata": {
    "collapsed": false,
    "pycharm": {
     "name": "#%%\n"
    }
   }
  },
  {
   "cell_type": "markdown",
   "source": [
    "'Silver, 'Sliver'\n",
    "\n",
    "'grey', 'dark grey'\n",
    "\n",
    "등 오타가 있고,\n",
    "\n",
    "색상의 명도 및 채도 차이가 있군요.\n",
    "\n",
    "이럴 경우에 오타를 수정해주고 대표할 수 있는 색상으로 글자를 바꿔줍시다!"
   ],
   "metadata": {
    "collapsed": false
   }
  },
  {
   "cell_type": "code",
   "execution_count": 35,
   "outputs": [],
   "source": [
    "train['paint'] = train['paint'] = train['paint'].apply(lambda x : 'blue' if x.find('blue') >= 0 else x)\n",
    "train['paint'] = train['paint'] = train['paint'].apply(lambda x : 'red' if x.find('red') >= 0 else x)\n",
    "train['paint'] = train['paint'] = train['paint'].apply(lambda x : 'green' if x.find('green') >= 0 else x)\n",
    "train['paint'] = train['paint'] = train['paint'].apply(lambda x : 'white' if x.find('white') >= 0 else x)\n",
    "train['paint'] = train['paint'] = train['paint'].apply(lambda x : 'grey' if x.find('grey') >= 0 else x)\n",
    "train['paint'] = train['paint'] = train['paint'].apply(lambda x : 'grey' if x.find('gery') >= 0 else x)\n",
    "train['paint'] = train['paint'] = train['paint'].apply(lambda x : 'grey' if x.find('gray') >= 0 else x)\n",
    "train['paint'] = train['paint'] = train['paint'].apply(lambda x : 'ash' if x.find('ash') >= 0 else x)\n",
    "train['paint'] = train['paint'] = train['paint'].apply(lambda x : 'brown' if x.find('brown') >= 0 else x)\n",
    "train['paint'] = train['paint'] = train['paint'].apply(lambda x : 'silver' if x.find('silver') >= 0 else x)\n",
    "train['paint'] = train['paint'] = train['paint'].apply(lambda x : 'silver' if x.find('sliver') >= 0 else x)\n",
    "train['paint'] = train['paint'] = train['paint'].apply(lambda x : 'black' if x.find('black') >= 0 else x)\n",
    "train['paint'] = train['paint'] = train['paint'].apply(lambda x : 'gold' if x.find('gold') >= 0 else x)\n",
    "train['paint'] = train['paint'] = train['paint'].apply(lambda x : 'wine' if x.find('whine') >= 0 else x)"
   ],
   "metadata": {
    "collapsed": false,
    "pycharm": {
     "name": "#%%\n"
    }
   }
  },
  {
   "cell_type": "code",
   "execution_count": 36,
   "outputs": [
    {
     "data": {
      "text/plain": "black     312\ngrey      159\nwhite     146\nsilver    117\nblue      105\nred        60\ngold       42\ngreen      21\nbrown      17\nwine       10\nash         8\ncream       4\npurple      3\nyellow      3\nmilk        2\nmaroon      2\nbeige       1\norange      1\nName: paint, dtype: int64"
     },
     "execution_count": 36,
     "metadata": {},
     "output_type": "execute_result"
    }
   ],
   "source": [
    "train['paint'].value_counts()"
   ],
   "metadata": {
    "collapsed": false,
    "pycharm": {
     "name": "#%%\n"
    }
   }
  },
  {
   "cell_type": "code",
   "execution_count": 37,
   "outputs": [
    {
     "name": "stdout",
     "output_type": "stream",
     "text": [
      "paint의 unique 카테고리 개수 :  18\n"
     ]
    }
   ],
   "source": [
    "print('paint의 unique 카테고리 개수 : ', len(train['paint'].value_counts()))"
   ],
   "metadata": {
    "collapsed": false,
    "pycharm": {
     "name": "#%%\n"
    }
   }
  },
  {
   "cell_type": "markdown",
   "source": [
    "### 라벨 인코딩"
   ],
   "metadata": {
    "collapsed": false
   }
  },
  {
   "cell_type": "markdown",
   "source": [
    "그럼, 베이스라인 1에서 object형 데이터를 처리해준 것 처럼,\n",
    "\n",
    "**'Label Encoding'** 을 통해서 문자형 카테고리형 속성은 모두 숫자 값으로 변환/인코딩 해보겠습니다."
   ],
   "metadata": {
    "collapsed": false
   }
  },
  {
   "cell_type": "code",
   "execution_count": 38,
   "outputs": [
    {
     "name": "stdout",
     "output_type": "stream",
     "text": [
      "{'title': {'unknown': 0, 'Toyota RAV 4': 1, 'Toyota Land Cruiser': 2, 'Land Rover Range Rover Evoque': 3, 'Lexus ES 350': 4, 'Toyota Venza': 5, 'Toyota Corolla': 6, 'Land Rover Range Rover Sport': 7, 'Pontiac Vibe': 8, 'Toyota Tacoma': 9, 'Lexus RX 350': 10, 'Ford Escape': 11, 'Honda Civic': 12, 'Volvo XC90': 13, 'BMW 750': 14, 'Infiniti JX': 15, 'Honda Accord': 16, 'Mercedes-Benz ML 350': 17, 'Toyota Camry': 18, 'Hyundai Azera': 19, 'Lexus GX 460': 20, 'BMW 325': 21, 'Toyota Sienna': 22, 'Honda Fit': 23, 'Honda CR-V': 24, 'Hyundai Tucson': 25, 'Ford Transit': 26, 'Jaguar XJ8': 27, 'BMW X6': 28, 'Mercedes-Benz C 300': 29, 'Mitsubishi Galant': 30, 'Mercedes-Benz GL 450': 31, 'Lexus RX 300': 32, 'Toyota Highlander': 33, 'Mitsubishi CANTER PICK UP': 34, 'Nissan Titan': 35, 'Lexus IS 250': 36, 'Mercedes-Benz 200': 37, 'Toyota Sequoia': 38, 'Ford Explorer': 39, 'Hyundai ix35': 40, 'Mack CH613 CONVENTIONAL CAB': 41, 'Lexus CT 200h': 42, 'Lexus LX 570': 43, 'Toyota Avensis': 44, 'Toyota 4-Runner': 45, 'Mercedes-Benz GLE 350': 46, 'Mercedes-Benz E 300': 47, 'Toyota Avalon': 48, 'Chevrolet Camaro': 49, 'Mack CXN613 CAB BEHIND ENGINE': 50, 'Land Rover Range Rover': 51, 'Mazda CX-9': 52, 'Lexus RX 330': 53, 'Lincoln Mark': 54, 'Kia Optima': 55, 'Volkswagen LT': 56, 'Lexus GS 300': 57, 'Jaguar X-Type': 58, 'Mercedes-Benz 709 DB': 59, 'Nissan Altima': 60, 'Acura MDX': 61, 'DAF 95XF TRACTOR HEAD': 62, 'Man TGA 18.360': 63, 'Nissan Pathfinder': 64, 'Mercedes-Benz E 350': 65, 'Honda Crosstour': 66, 'Honda Pilot': 67, 'Lexus LS 460': 68, 'Nissan Cabstar': 69, 'Kia Sorento': 70, 'Mercedes-Benz CLA 250': 71, 'Mitsubishi Pajero': 72, 'Mercedes-Benz C 350': 73, 'Lexus GS 350': 74, 'Mercedes-Benz E 320': 75, 'Toyota Yaris': 76, 'Toyota Matrix': 77, 'Isuzu NQR': 78, 'IVM LT35': 79, 'Hyundai Elantra': 80, 'Porsche Cayenne': 81, 'Toyota Prado': 82, 'Hyundai Sonata': 83, 'MINI Cooper': 84, 'Toyota Hiace': 85, 'Mercedes-Benz 350': 86, 'Honda Odyssey': 87, 'Mercedes-Benz E 550': 88, 'Dodge Charger': 89, 'GMC Terrain': 90, 'Mercedes-Benz GLK 350': 91, 'Mercedes-Benz C 250': 92, 'Mercedes-Benz ML 430': 93, 'Mack CH613': 94, 'Honda Element': 95, 'Mercedes-Benz GLC 300': 96, 'Hyundai Santa Fe': 97, 'Kia Cerato': 98, 'Chevrolet Evanda': 99, 'Iveco TRUCK': 100, 'Acura ZDX': 101, 'Mercedes-Benz 450': 102, 'Mercedes-Benz GLA 250': 103, 'Mercedes-Benz CLS 500': 104, 'Scania P94 FLATBED': 105, 'Nissan Versa': 106, 'Ford F 150': 107, 'Mercedes-Benz GLE 43 AMG': 108, 'Volkswagen Golf': 109, 'Mercedes-Benz 320': 110, 'Honda Ridgeline': 111, 'Mercedes-Benz S 450': 112, 'Mercedes-Benz 300': 113, 'Kia Rio': 114, 'BMW 740': 115, 'Ford Edge': 116, 'Toyota Dyna': 117, 'Volvo FL6': 118, 'Toyota Coaster': 119, 'GAC Gonow Other': 120, 'IVECO EUROTECH 7.50E-16': 121, 'DAF FA 55. 180': 122, 'Scania TRACTOR HEAD': 123, 'Nissan Xterra': 124, 'Mercedes-Benz ML 320': 125, 'Ford Focus': 126, 'Mercedes-Benz 220': 127, 'Man Truck 18.44': 128, 'BMW 730': 129, 'Peugeot 607': 130, 'BMW 528': 131, 'Volvo XC60': 132, 'Mercedes-Benz E 200': 133, 'Volkswagen Passat': 134, 'Volkswagen Sharan': 135, 'Lexus GX 470': 136, 'Nissan Quest': 137, 'Nissan Maxima': 138, 'Lexus ES 300': 139, 'Mazda Tribute': 140, 'Ford Fusion': 141, 'Acura RDX': 142, 'Peugeot 206': 143, 'Mercedes-Benz G 63 AMG': 144, 'Toyota Hilux': 145, 'Kia Stinger': 146, 'Volkswagen Tiguan': 147, 'Acura TL': 148, 'Porsche Panamera': 149, 'Rolls-Royce Ghost': 150, 'BMW 745': 151, 'BMW 335': 152, 'Volkswagen Jetta': 153, 'Mack R-686ST': 154, 'Man Diesel 19.314 FILT-N': 155, 'Toyota Solara': 156, 'Kia Soul': 157, 'Mercedes-Benz C 450 AMG': 158, 'Mack CXN613': 159, 'Nissan Murano': 160, 'Chevrolet Traverse': 161, 'Volkswagen T4 Caravelle': 162, 'MAN-VOLKSWAGEN FLATBED': 163, 'Nissan Frontier': 164, 'Nissan X-Trail': 165, 'Mercedes-Benz C 180': 166, 'Infiniti M35': 167, 'Nissan Sentra': 168, 'Jeep Cherokee': 169, 'Toyota DYNA 200': 170, 'Nissan Rogue': 171, 'Land Rover Range Rover Velar': 172, 'ALPINA B3': 173, 'DAF 45': 174, 'Mazda 323': 175, 'Volkswagen T6 other': 176, 'Bentley Arnage': 177, 'Mazda 6': 178, 'Infiniti FX': 179, 'Ford Expedition': 180, 'Mercedes-Benz 814': 181, 'Kia Picanto': 182, 'Toyota Tundra': 183, 'JMC Vigus': 184, 'Infiniti QX80': 185, 'Volvo FH12': 186, 'Volkswagen Touareg': 187, 'Porsche Macan': 188, 'Peugeot 308': 189, 'Nissan INFINITI M90.150/2': 190, 'MINI Cooper Countryman': 191, 'Lexus ES 330': 192, 'Honda Insight': 193, 'Toyota Vitz': 194, 'Audi S6': 195, 'Isuzu CABSTER': 196, 'Mercedes-Benz C 63 AMG': 197, 'Mercedes-Benz SL 400': 198, 'Volkswagen 17.22': 199, 'Man BOCKMANN': 200, 'DAF CF': 201}, 'location': {'unknown': 0, 'Lagos ': 1, 'Lagos': 2, 'Abuja': 3, 'Lagos State': 4, 'Ogun': 5, 'FCT': 6, 'Accra': 7, 'other': 8, 'Abuja ': 9, 'Abia State': 10, 'Adamawa ': 11, 'Abia': 12, 'Ogun State': 13}, 'isimported': {'unknown': 0, 'Foreign Used': 1, 'New ': 2, 'Locally used': 3}, 'engine': {'unknown': 0, '4-cylinder(I4)': 1, '6-cylinder(V6)': 2, '8-cylinder(V8)': 3, '6-cylinder(I6)': 4, '4-cylinder(H4)': 5, '5-cylinder(I5)': 6, '3-cylinder(I3)': 7, '2-cylinder(I2)': 8}, 'transmission': {'unknown': 0, 'automatic': 1, 'manual': 2}, 'fuel': {'unknown': 0, 'petrol': 1, 'diesel': 2}, 'paint': {'unknown': 0, 'red': 1, 'black': 2, 'grey': 3, 'white': 4, 'blue': 5, 'silver': 6, 'brown': 7, 'green': 8, 'purple': 9, 'gold': 10, 'milk': 11, 'beige': 12, 'ash': 13, 'orange': 14, 'cream': 15, 'yellow': 16, 'wine': 17, 'maroon': 18}, 'brand': {'unknown': 0, 'Toyota': 1, 'Land': 2, 'Lexus': 3, 'Pontiac': 4, 'Ford': 5, 'Honda': 6, 'Volvo': 7, 'BMW': 8, 'Infiniti': 9, 'Mercedes-Benz': 10, 'Hyundai': 11, 'Jaguar': 12, 'Mitsubishi': 13, 'Nissan': 14, 'Mack': 15, 'Chevrolet': 16, 'Mazda': 17, 'Lincoln': 18, 'Kia': 19, 'Volkswagen': 20, 'Acura': 21, 'DAF': 22, 'Man': 23, 'Isuzu': 24, 'IVM': 25, 'Porsche': 26, 'MINI': 27, 'Dodge': 28, 'GMC': 29, 'Iveco': 30, 'Scania': 31, 'GAC': 32, 'IVECO': 33, 'Peugeot': 34, 'Rolls-Royce': 35, 'MAN-VOLKSWAGEN': 36, 'Jeep': 37, 'ALPINA': 38, 'Bentley': 39, 'JMC': 40, 'Audi': 41}}\n"
     ]
    },
    {
     "data": {
      "text/plain": "   id  title  odometer  location  isimported  engine  transmission  fuel  \\\n0   0      1     18277         1           1       1             1     1   \n1   1      2        10         2           2       1             1     1   \n2   2      3     83091         2           1       2             1     1   \n3   3      4     91524         2           1       1             1     1   \n4   4      5     94177         2           1       2             1     1   \n\n   paint  year    target  brand  \n0      1  2016  13665000      1  \n1      2  2019  33015000      1  \n2      1  2012   9915000      2  \n3      3  2007   3815000      3  \n4      1  2010   7385000      1  ",
      "text/html": "<div>\n<style scoped>\n    .dataframe tbody tr th:only-of-type {\n        vertical-align: middle;\n    }\n\n    .dataframe tbody tr th {\n        vertical-align: top;\n    }\n\n    .dataframe thead th {\n        text-align: right;\n    }\n</style>\n<table border=\"1\" class=\"dataframe\">\n  <thead>\n    <tr style=\"text-align: right;\">\n      <th></th>\n      <th>id</th>\n      <th>title</th>\n      <th>odometer</th>\n      <th>location</th>\n      <th>isimported</th>\n      <th>engine</th>\n      <th>transmission</th>\n      <th>fuel</th>\n      <th>paint</th>\n      <th>year</th>\n      <th>target</th>\n      <th>brand</th>\n    </tr>\n  </thead>\n  <tbody>\n    <tr>\n      <th>0</th>\n      <td>0</td>\n      <td>1</td>\n      <td>18277</td>\n      <td>1</td>\n      <td>1</td>\n      <td>1</td>\n      <td>1</td>\n      <td>1</td>\n      <td>1</td>\n      <td>2016</td>\n      <td>13665000</td>\n      <td>1</td>\n    </tr>\n    <tr>\n      <th>1</th>\n      <td>1</td>\n      <td>2</td>\n      <td>10</td>\n      <td>2</td>\n      <td>2</td>\n      <td>1</td>\n      <td>1</td>\n      <td>1</td>\n      <td>2</td>\n      <td>2019</td>\n      <td>33015000</td>\n      <td>1</td>\n    </tr>\n    <tr>\n      <th>2</th>\n      <td>2</td>\n      <td>3</td>\n      <td>83091</td>\n      <td>2</td>\n      <td>1</td>\n      <td>2</td>\n      <td>1</td>\n      <td>1</td>\n      <td>1</td>\n      <td>2012</td>\n      <td>9915000</td>\n      <td>2</td>\n    </tr>\n    <tr>\n      <th>3</th>\n      <td>3</td>\n      <td>4</td>\n      <td>91524</td>\n      <td>2</td>\n      <td>1</td>\n      <td>1</td>\n      <td>1</td>\n      <td>1</td>\n      <td>3</td>\n      <td>2007</td>\n      <td>3815000</td>\n      <td>3</td>\n    </tr>\n    <tr>\n      <th>4</th>\n      <td>4</td>\n      <td>5</td>\n      <td>94177</td>\n      <td>2</td>\n      <td>1</td>\n      <td>2</td>\n      <td>1</td>\n      <td>1</td>\n      <td>1</td>\n      <td>2010</td>\n      <td>7385000</td>\n      <td>1</td>\n    </tr>\n  </tbody>\n</table>\n</div>"
     },
     "execution_count": 38,
     "metadata": {},
     "output_type": "execute_result"
    }
   ],
   "source": [
    "#라벨인코딩을 하기 위함 dictionary map 생성 함수\n",
    "def make_label_map(dataframe):\n",
    "    label_maps = {}\n",
    "    for col in dataframe.columns:\n",
    "        if dataframe[col].dtype=='object':\n",
    "            label_map = {'unknown':0}\n",
    "            for i, key in enumerate(dataframe[col].unique()):\n",
    "                label_map[key] = i+1  #새로 등장하는 유니크 값들에 대해 1부터 1씩 증가시켜 키값을 부여해줍니다.\n",
    "            label_maps[col] = label_map\n",
    "    print(label_maps)\n",
    "    return label_maps\n",
    "\n",
    "# 각 범주형 변수에 인코딩 값을 부여하는 함수\n",
    "def label_encoder(dataframe, label_map):\n",
    "    for col in dataframe.columns:\n",
    "        if dataframe[col].dtype=='object':\n",
    "            dataframe[col] = dataframe[col].map(label_map[col])\n",
    "            dataframe[col] = dataframe[col].fillna(label_map[col]['unknown']) #혹시 모를 결측값은 unknown의 값(0)으로 채워줍니다.\n",
    "    return dataframe\n",
    "\n",
    "le = make_label_map(train)\n",
    "train = label_encoder(train, le)\n",
    "train.head()"
   ],
   "metadata": {
    "collapsed": false,
    "pycharm": {
     "name": "#%%\n"
    }
   }
  },
  {
   "cell_type": "markdown",
   "source": [
    "## 모델링\n",
    "\n",
    "### 변수 정의\n",
    "\n",
    "이제 본격적으로 모델을 설계하기 위해 데이터를 독립변수(X)와 종속변수(y) 로 나누어 줍니다\n",
    "\n",
    "우리의 목적은 주어진 소비자 데이터를 이용하여 사람들이 얼마나 소비를 하는지 소비량(Target)을 예측하는 것입니다.\n",
    "\n",
    "그럼 가격을 제외한 중고차 시장 데이터가 X, 중고차 가격(target)이 y가 되겠죠?"
   ],
   "metadata": {
    "collapsed": false
   }
  },
  {
   "cell_type": "code",
   "execution_count": 39,
   "outputs": [],
   "source": [
    "X = train.drop(['id', 'target'], axis = 1) #training 데이터에서 피쳐 추출\n",
    "y = train.target #training 데이터에서 중고차 가격 추출"
   ],
   "metadata": {
    "collapsed": false,
    "pycharm": {
     "name": "#%%\n"
    }
   }
  },
  {
   "cell_type": "markdown",
   "source": [
    "이렇게 X와 y를 잘 정의해주었습니다.\n",
    "\n",
    "<br>\n",
    "\n",
    "### train/vaildation 정의\n",
    "\n",
    "\n",
    "베이스라인1에서 했던 것 처럼, 모델의 적합성을 알아보기 위하여,\n",
    "\n",
    "train 셋에서 70%를 학습을 시키는데 쓰고 나머지 30%를 모델이 유의미한지 검증하는데 사용해 봅시다.\n",
    "\n",
    "이후 유의미하다면, 실제로 제출할 모델을 만들 때, train 셋 100%를 학습을 시켜봅시다.\n",
    "\n",
    "<br>\n",
    "\n",
    "자 그럼 train 셋에서 학습시킬 셋 train_data와 검증할 셋 val_data를 만들어 봅시다!"
   ],
   "metadata": {
    "collapsed": false
   }
  },
  {
   "cell_type": "code",
   "execution_count": 40,
   "outputs": [
    {
     "name": "stdout",
     "output_type": "stream",
     "text": [
      "학습시킬 train 셋 :  (759, 12)\n",
      "검증할 val 셋 :  (254, 12)\n"
     ]
    }
   ],
   "source": [
    "from sklearn.model_selection import train_test_split\n",
    "\n",
    "data = train.drop('id', axis = 1).copy() #필요없는 id열 삭제\n",
    "train_data, val_data = train_test_split(data, test_size=0.25) #30프로로 설정\n",
    "train_data.reset_index(inplace=True) #전처리 과정에서 데이터가 뒤섞이지 않도록 인덱스를 초기화\n",
    "val_data.reset_index(inplace=True)\n",
    "\n",
    "print('학습시킬 train 셋 : ', train_data.shape)\n",
    "print('검증할 val 셋 : ', val_data.shape)"
   ],
   "metadata": {
    "collapsed": false,
    "pycharm": {
     "name": "#%%\n"
    }
   }
  },
  {
   "cell_type": "markdown",
   "source": [
    "위의 데이터 모양에서 살펴보면,\n",
    "\n",
    "**759개의 데이터를 학습**시켜\n",
    "\n",
    "**254개의 데이터로 성능을 검증**시킬 것 입니다!"
   ],
   "metadata": {
    "collapsed": false
   }
  },
  {
   "cell_type": "code",
   "execution_count": 41,
   "outputs": [],
   "source": [
    "train_data_X = train_data.drop(['target', 'index'], axis = 1) #training 데이터에서 피쳐 추출\n",
    "train_data_y = train_data.target #training 데이터에서 target 추출\n",
    "\n",
    "val_data_X = val_data.drop(['target', 'index'], axis = 1) #training 데이터에서 피쳐 추출\n",
    "val_data_y = val_data.target #validation 데이터에서 target 추출"
   ],
   "metadata": {
    "collapsed": false,
    "pycharm": {
     "name": "#%%\n"
    }
   }
  },
  {
   "cell_type": "markdown",
   "source": [
    "## 다양한 모델 선언과 학습\n",
    "\n",
    "먼저, 첫번째 베이스라인에서는 단순한 랜덤포레스트 모델에 대해서 알아보았습니다.\n",
    "\n",
    "이번에는 랜덤포레스트 모델을 비롯하여 대표적인 ML모델의 하나인 ExtraTrees, GradientBoosting 모델을 같이 이용하여 좀 더 다양하게 학습을 시켜보겠습니다."
   ],
   "metadata": {
    "collapsed": false
   }
  },
  {
   "cell_type": "code",
   "execution_count": 42,
   "outputs": [
    {
     "name": "stderr",
     "output_type": "stream",
     "text": [
      "C:\\Users\\sun\\anaconda3\\lib\\site-packages\\sklearn\\ensemble\\_gb.py:1630: FutureWarning: criterion='mae' was deprecated in version 0.24 and will be removed in version 1.1 (renaming of 0.26). The correct way of minimizing the absolute error is to use  loss='lad' instead.\n",
      "  warnings.warn(\"criterion='mae' was deprecated in version 0.24 and \"\n"
     ]
    }
   ],
   "source": [
    "from sklearn.ensemble import ExtraTreesRegressor\n",
    "from sklearn.ensemble import RandomForestRegressor\n",
    "from sklearn.ensemble import GradientBoostingRegressor\n",
    "\n",
    "#모델들을 할당할 리스트를 만들어줍니다.\n",
    "models = []\n",
    "\n",
    "#모델들을 각각 할당하여 리스트에 추가합니다.\n",
    "models.append(ExtraTreesRegressor(n_estimators=110))\n",
    "models.append(RandomForestRegressor(n_estimators=110))\n",
    "models.append(GradientBoostingRegressor(learning_rate=0.22, criterion='mae'))\n",
    "\n",
    "#모델들을 할당한 리스트를 불러와 순차적으로 train 데이터에 학습을 시켜줍니다.\n",
    "for model in models:\n",
    "    model.fit(train_data_X, train_data_y)"
   ],
   "metadata": {
    "collapsed": false,
    "pycharm": {
     "name": "#%%\n"
    }
   }
  },
  {
   "cell_type": "markdown",
   "source": [
    "## 앙상블 추론 (Inference)\n",
    "\n",
    "이번 베이스라인에서는 단일 모델에서 나오는 성능의 결과를 기대하는 것이 아니라,\n",
    "\n",
    "여러 개의 단일 모델들의 평균치를 내거나(Soft-Voting), 투표를 해서 다수결에 의한 결정(Hard-Voting)을 하는 등\n",
    "\n",
    "여러 모델들의 '집단 지성'을 활용하여 더 나은 결과를 도출해 내는 것에 목적이 있습니다.\n",
    "\n",
    "### Ensemble (앙상블) 기법\n",
    "\n",
    "앙상블 기법에는 다양한 방법이 있습니다.\n",
    "\n",
    "Voting (투표) : 투표를 통해 결과 도출\n",
    "Bagging : 샘플을 다양하게 중복 생성\n",
    "Boosting : 이전 오차를 보완하며 가중치 부여\n",
    "Stacking : 여러 모델을 기반으로 meta 모델 생성\n",
    "이와 같은 다양한 방법 중에서 이번 베이스라인에서는 앙상블 기법 중 **Voting**을 사용할 것입니다.\n",
    "\n",
    "\n",
    "### Voting (투표)\n",
    "Voting은 단어 뜻 그대로 투표를 통해 결정하는 방식입니다.\n",
    "**Voting**은 **Bagging**과 투표방식이라는 점에서 유사하지만, 다음과 같은 큰 차이점이 있습니다.\n",
    "\n",
    "* Voting은 다른 알고리즘 모델을 조합해서 사용합니다.\n",
    "* Bagging은 같은 알고리즘 내에서 다른 sample 조합을 사용합니다.\n",
    "\n",
    "즉, Voting은 서로 다른 알고리즘이 도출해 낸 결과물에 대하여 최종 투표하는 방식을 통해 최종 결과를 선택합니다.\n",
    "\n",
    "<br>\n",
    "\n",
    "Voting은 또 **Hard Voting**과 **Soft Voting**으로 나뉘게 됩니다.\n",
    "\n",
    "* Hard Voting : 각 모델들의 결과물에 대한 최종 값을 투표를 해서 결정합니다.\n",
    "* Soft Voting : 각 모델들의 결과물이 나올 확률 값이나 회귀 값을 평균을 내서 최종 값을 도출합니다.\n",
    "\n",
    "정리하자면, 이번 베이스라인에서는 앙상블(Ensemble) 기법 중에서 **Soft-Voting**을 사용하여 더 나은 결과값을 도출해보겠습니다."
   ],
   "metadata": {
    "collapsed": false
   }
  },
  {
   "cell_type": "markdown",
   "source": [
    "## Soft-Voting 구현\n",
    "\n",
    "이전에 학습시킨 3개의 모델들을 각각 추론하고,\n",
    "추론 결과들을 Soft-Voting 방식으로 결합하는 것을 간단하게 직접 구현해보겠습니다."
   ],
   "metadata": {
    "collapsed": false
   }
  },
  {
   "cell_type": "code",
   "execution_count": 43,
   "outputs": [],
   "source": [
    "# 전처리가 완료된 테스트 데이터셋을 통해 본격적으로 학습한 모델로 추론을 시작합니다.\n",
    "prediction = None\n",
    "\n",
    "# 학습 된 모델들을 순차적으로 불러옵니다.\n",
    "for model in models:\n",
    "    # 각 모델들의 최종 회귀값들을 prediction에 모두 더해줍니다.\n",
    "    if prediction is None:\n",
    "        prediction = model.predict(val_data_X)\n",
    "    else:\n",
    "        prediction += model.predict(val_data_X)\n",
    "\n",
    "# 앙상블에 참여한 모든 모델의 수 만큼 다시 나눠줍니다 (= 평균)\n",
    "prediction /= len(models)"
   ],
   "metadata": {
    "collapsed": false,
    "pycharm": {
     "name": "#%%\n"
    }
   }
  },
  {
   "cell_type": "code",
   "execution_count": 44,
   "outputs": [
    {
     "name": "stdout",
     "output_type": "stream",
     "text": [
      "모델 NMAE: 0.3600122567327352\n"
     ]
    }
   ],
   "source": [
    "import numpy as np\n",
    "from sklearn.metrics import mean_squared_error\n",
    "\n",
    "def nmae(true, pred):\n",
    "\n",
    "    mae = np.mean(np.abs(true-pred))\n",
    "    score = mae / np.mean(np.abs(true))\n",
    "\n",
    "    return score\n",
    "\n",
    "y_hat = model.predict(val_data_X) # y예측\n",
    "print(f'모델 NMAE: {nmae(val_data_y,y_hat)}')"
   ],
   "metadata": {
    "collapsed": false,
    "pycharm": {
     "name": "#%%\n"
    }
   }
  },
  {
   "cell_type": "markdown",
   "source": [
    "NMAE로 계산하여 0.266가 나왔습니다.\n",
    "\n",
    "NMAE 0.266는 대략 예측치와 실제값이 26.6% 정도의 오차율을 보인다는 것을 의미합니다.\n",
    "\n",
    "**더욱 세분화된 전처리와 앙상블 모델링 과정을 통해 베이스라인 1에 비하여 높은 성능을 나타낸다고 볼 수 있습니다**"
   ],
   "metadata": {
    "collapsed": false
   }
  },
  {
   "cell_type": "markdown",
   "source": [
    "### Vaildation 예측값 눈으로 확인하기\n",
    "\n",
    "베이스라인1과 마찬가지로 모델이 어떤방식으로 맞췄는지 어디에서 오차가 더 많이 나는지 plot을 그려서 확인해 보겠습니다."
   ],
   "metadata": {
    "collapsed": false
   }
  },
  {
   "cell_type": "code",
   "execution_count": 45,
   "outputs": [
    {
     "data": {
      "text/plain": "<Figure size 1440x720 with 1 Axes>",
      "image/png": "[encoded data removed]"
     },
     "metadata": {},
     "output_type": "display_data"
    }
   ],
   "source": [
    "import matplotlib.pyplot as plt\n",
    "\n",
    "plt.style.use('ggplot')\n",
    "plt.figure(figsize=(20, 10))\n",
    "plt.plot(y_hat, label = 'prediction')\n",
    "plt.plot(val_data_y, label = 'real')\n",
    "plt.legend(fontsize = 20)\n",
    "plt.show()"
   ],
   "metadata": {
    "collapsed": false,
    "pycharm": {
     "name": "#%%\n"
    }
   }
  },
  {
   "cell_type": "markdown",
   "source": [
    "파란선이 실제 target 값, 붉은 선이 우리의 모델이 예측한 값입니다."
   ],
   "metadata": {
    "collapsed": false
   }
  },
  {
   "cell_type": "markdown",
   "source": [
    "### train 셋 + val 셋 100% 활용하는 모델 만들기\n",
    "\n",
    "이제 검증 셋으로 성능이 유의미한지 확인을 하였다면 데이터를 100% 활용하기 위하여\n",
    "검증 셋을 포함한 train 셋을 만들어보겠습니다."
   ],
   "metadata": {
    "collapsed": false
   }
  },
  {
   "cell_type": "code",
   "execution_count": 46,
   "outputs": [],
   "source": [
    "train_X = train.drop(['id', 'target'], axis = 1) #training 데이터에서 피쳐 추출\n",
    "train_y = train.target #training 데이터에서 target 추출"
   ],
   "metadata": {
    "collapsed": false,
    "pycharm": {
     "name": "#%%\n"
    }
   }
  },
  {
   "cell_type": "code",
   "execution_count": 47,
   "outputs": [
    {
     "name": "stderr",
     "output_type": "stream",
     "text": [
      "C:\\Users\\sun\\anaconda3\\lib\\site-packages\\sklearn\\ensemble\\_gb.py:1630: FutureWarning: criterion='mae' was deprecated in version 0.24 and will be removed in version 1.1 (renaming of 0.26). The correct way of minimizing the absolute error is to use  loss='lad' instead.\n",
      "  warnings.warn(\"criterion='mae' was deprecated in version 0.24 and \"\n"
     ]
    }
   ],
   "source": [
    "#모델들을 할당할 리스트를 만들어줍니다.\n",
    "models = []\n",
    "\n",
    "#모델들을 각각 할당하여 리스트에 추가합니다.\n",
    "models.append(ExtraTreesRegressor(n_estimators=110))\n",
    "models.append(RandomForestRegressor(n_estimators=110))\n",
    "models.append(GradientBoostingRegressor(learning_rate=0.22, criterion='mae'))\n",
    "\n",
    "#모델들을 할당한 리스트를 불러와 순차적으로 train 데이터에 학습을 시켜줍니다.\n",
    "for model in models:\n",
    "    model.fit(train_X, train_y)"
   ],
   "metadata": {
    "collapsed": false,
    "pycharm": {
     "name": "#%%\n"
    }
   }
  },
  {
   "cell_type": "markdown",
   "source": [
    "## 예측하기\n",
    "\n",
    "이제 학습된 모델을 이용하여 주어진 test데이터로 예측을 진행해 보겠습니다.\n",
    "\n",
    "앞서 train 셋에서 했던 동일한 전처리 과정을 거치되, data leakage가 발생하지 않도록 주의합니다."
   ],
   "metadata": {
    "collapsed": false
   }
  },
  {
   "cell_type": "code",
   "execution_count": 48,
   "outputs": [
    {
     "name": "stdout",
     "output_type": "stream",
     "text": [
      "결측치가 존재하지 않습니다\n"
     ]
    }
   ],
   "source": [
    "check_missing_col(test) # 결측치 확인\n",
    "\n",
    "test = test.drop('id', axis = 1) #분석에 필요없는 열 삭제\n",
    "\n",
    "test['brand'] = test['title'].apply(lambda x : x.split(\" \")[0])\n",
    "\n",
    "temp = clean_text(test['paint']) #메소드 적용\n",
    "test['paint'] = temp\n",
    "test['paint'] = test['paint'] = test['paint'].apply(lambda x : 'blue' if x.find('blue') >= 0 else x)\n",
    "test['paint'] = test['paint'] = test['paint'].apply(lambda x : 'red' if x.find('red') >= 0 else x)\n",
    "test['paint'] = test['paint'] = test['paint'].apply(lambda x : 'green' if x.find('green') >= 0 else x)\n",
    "test['paint'] = test['paint'] = test['paint'].apply(lambda x : 'white' if x.find('white') >= 0 else x)\n",
    "test['paint'] = test['paint'] = test['paint'].apply(lambda x : 'grey' if x.find('grey') >= 0 else x)\n",
    "test['paint'] = test['paint'] = test['paint'].apply(lambda x : 'grey' if x.find('gery') >= 0 else x)\n",
    "test['paint'] = test['paint'] = test['paint'].apply(lambda x : 'grey' if x.find('gray') >= 0 else x)\n",
    "test['paint'] = test['paint'] = test['paint'].apply(lambda x : 'ash' if x.find('ash') >= 0 else x)\n",
    "test['paint'] = test['paint'] = test['paint'].apply(lambda x : 'brown' if x.find('brown') >= 0 else x)\n",
    "test['paint'] = test['paint'] = test['paint'].apply(lambda x : 'silver' if x.find('silver') >= 0 else x)\n",
    "test['paint'] = test['paint'] = test['paint'].apply(lambda x : 'silver' if x.find('sliver') >= 0 else x)\n",
    "test['paint'] = test['paint'] = test['paint'].apply(lambda x : 'black' if x.find('black') >= 0 else x)\n",
    "test['paint'] = test['paint'] = test['paint'].apply(lambda x : 'gold' if x.find('gold') >= 0 else x)\n",
    "test['paint'] = test['paint'] = test['paint'].apply(lambda x : 'wine' if x.find('whine') >= 0 else x)\n",
    "\n",
    "test = label_encoder(test, le)"
   ],
   "metadata": {
    "collapsed": false,
    "pycharm": {
     "name": "#%%\n"
    }
   }
  },
  {
   "cell_type": "code",
   "execution_count": 49,
   "outputs": [],
   "source": [
    "# 전처리가 완료된 테스트 데이터셋을 통해 본격적으로 학습한 모델로 추론을 시작합니다.\n",
    "prediction = None\n",
    "\n",
    "# 학습 된 모델들을 순차적으로 불러옵니다.\n",
    "for model in models:\n",
    "    # 각 모델들의 최종 회귀값들을 prediction에 모두 더해줍니다.\n",
    "    if prediction is None:\n",
    "        prediction = model.predict(test)\n",
    "    else:\n",
    "        prediction += model.predict(test)\n",
    "\n",
    "# 앙상블에 참여한 모든 모델의 수 만큼 다시 나눠줍니다 (= 평균)\n",
    "prediction /= len(models)"
   ],
   "metadata": {
    "collapsed": false,
    "pycharm": {
     "name": "#%%\n"
    }
   }
  },
  {
   "cell_type": "code",
   "execution_count": 50,
   "outputs": [
    {
     "data": {
      "text/plain": "array([13488784.61612922,  6191182.80134975,  5977791.12186718,\n        1103495.67885351,  2406585.87023137])"
     },
     "execution_count": 50,
     "metadata": {},
     "output_type": "execute_result"
    }
   ],
   "source": [
    "y_pred = model.predict(test)\n",
    "y_pred[0:5]"
   ],
   "metadata": {
    "collapsed": false,
    "pycharm": {
     "name": "#%%\n"
    }
   }
  },
  {
   "cell_type": "markdown",
   "source": [
    "## Dacon 대회에 제출하기 (Submission)\n",
    "\n",
    "이제 학습한 모델을 사용하여 이 예측 결과를 submit1.csv 파일로 만들어서 대회 페이지에 제출해보도록 합시다.\n",
    "\n",
    "제출한 뒤 리더보드를 통해 결과를 확인합시다."
   ],
   "metadata": {
    "collapsed": false
   }
  },
  {
   "cell_type": "code",
   "execution_count": 51,
   "outputs": [
    {
     "data": {
      "text/plain": "   id  target\n0   0       0\n1   1       0\n2   2       0\n3   3       0\n4   4       0",
      "text/html": "<div>\n<style scoped>\n    .dataframe tbody tr th:only-of-type {\n        vertical-align: middle;\n    }\n\n    .dataframe tbody tr th {\n        vertical-align: top;\n    }\n\n    .dataframe thead th {\n        text-align: right;\n    }\n</style>\n<table border=\"1\" class=\"dataframe\">\n  <thead>\n    <tr style=\"text-align: right;\">\n      <th></th>\n      <th>id</th>\n      <th>target</th>\n    </tr>\n  </thead>\n  <tbody>\n    <tr>\n      <th>0</th>\n      <td>0</td>\n      <td>0</td>\n    </tr>\n    <tr>\n      <th>1</th>\n      <td>1</td>\n      <td>0</td>\n    </tr>\n    <tr>\n      <th>2</th>\n      <td>2</td>\n      <td>0</td>\n    </tr>\n    <tr>\n      <th>3</th>\n      <td>3</td>\n      <td>0</td>\n    </tr>\n    <tr>\n      <th>4</th>\n      <td>4</td>\n      <td>0</td>\n    </tr>\n  </tbody>\n</table>\n</div>"
     },
     "execution_count": 51,
     "metadata": {},
     "output_type": "execute_result"
    }
   ],
   "source": [
    "# 제출용 sample 파일을 불러옵니다.\n",
    "submission = pd.read_csv('sample_submission.csv')\n",
    "submission.head()"
   ],
   "metadata": {
    "collapsed": false,
    "pycharm": {
     "name": "#%%\n"
    }
   }
  },
  {
   "cell_type": "markdown",
   "source": [
    "submission을 csv 파일로 저장합니다.\n",
    "index=False란 추가적인 id를 부여할 필요가 없다는 뜻입니다.\n",
    "정확한 채점을 위해 꼭 index=False를 넣어주세요."
   ],
   "metadata": {
    "collapsed": false
   }
  },
  {
   "cell_type": "code",
   "execution_count": 52,
   "outputs": [
    {
     "data": {
      "text/plain": "   id        target\n0   0  1.348878e+07\n1   1  6.191183e+06\n2   2  5.977791e+06\n3   3  1.103496e+06\n4   4  2.406586e+06",
      "text/html": "<div>\n<style scoped>\n    .dataframe tbody tr th:only-of-type {\n        vertical-align: middle;\n    }\n\n    .dataframe tbody tr th {\n        vertical-align: top;\n    }\n\n    .dataframe thead th {\n        text-align: right;\n    }\n</style>\n<table border=\"1\" class=\"dataframe\">\n  <thead>\n    <tr style=\"text-align: right;\">\n      <th></th>\n      <th>id</th>\n      <th>target</th>\n    </tr>\n  </thead>\n  <tbody>\n    <tr>\n      <th>0</th>\n      <td>0</td>\n      <td>1.348878e+07</td>\n    </tr>\n    <tr>\n      <th>1</th>\n      <td>1</td>\n      <td>6.191183e+06</td>\n    </tr>\n    <tr>\n      <th>2</th>\n      <td>2</td>\n      <td>5.977791e+06</td>\n    </tr>\n    <tr>\n      <th>3</th>\n      <td>3</td>\n      <td>1.103496e+06</td>\n    </tr>\n    <tr>\n      <th>4</th>\n      <td>4</td>\n      <td>2.406586e+06</td>\n    </tr>\n  </tbody>\n</table>\n</div>"
     },
     "execution_count": 52,
     "metadata": {},
     "output_type": "execute_result"
    }
   ],
   "source": [
    "# 위에서 구한 예측값을 그대로 넣어줍니다.\n",
    "submission['target'] = y_pred\n",
    "\n",
    "# 데이터가 잘 들어갔는지 확인합니다.\n",
    "submission.head()"
   ],
   "metadata": {
    "collapsed": false,
    "pycharm": {
     "name": "#%%\n"
    }
   }
  },
  {
   "cell_type": "code",
   "execution_count": 53,
   "outputs": [],
   "source": [
    "submission.to_csv('submit2.csv', index=False)"
   ],
   "metadata": {
    "collapsed": false,
    "pycharm": {
     "name": "#%%\n"
    }
   }
  },
  {
   "cell_type": "markdown",
   "source": [
    "이렇게 생성된 submit2.csv 파일을 데이콘 대회 페이지에 업로드 & 제출하여 결과를 확인해보세요!\n",
    "\n",
    "문제를 해결하기 위한 여러분의 방법을 코드 공유 게시판에 공유해주세요\n",
    "\n",
    "좋아요와 댓글을 합산하여 가장 높은 점수를 얻으신 분께 데이콘 후드가 제공됩니다!"
   ],
   "metadata": {
    "collapsed": false
   }
  },
  {
   "cell_type": "code",
   "execution_count": 53,
   "outputs": [],
   "source": [],
   "metadata": {
    "collapsed": false,
    "pycharm": {
     "name": "#%%\n"
    }
   }
  }
 ],
 "metadata": {
  "kernelspec": {
   "display_name": "Python 3",
   "language": "python",
   "name": "python3"
  },
  "language_info": {
   "codemirror_mode": {
    "name": "ipython",
    "version": 2
   },
   "file_extension": ".py",
   "mimetype": "text/x-python",
   "name": "python",
   "nbconvert_exporter": "python",
   "pygments_lexer": "ipython2",
   "version": "2.7.6"
  }
 },
 "nbformat": 4,
 "nbformat_minor": 0
}