{
 "cells": [
  {
   "cell_type": "markdown",
   "source": [
    "# 중고차 가격 예측 경진대회 첫 번째 베이스라인\n",
    "\n",
    "이번 대회는 중고차 시장 데이터를 이용하여 중고차 가격 예측을 예측하는 대회입니다.\n",
    "\n",
    "언뜻보면 간단해 보이지만 처음 데이터 분석을 접하시는 분들에게는 어디부터 어떻게 시작해야 하는지 막막하실 겁니다.\n",
    "\n",
    "## 누구나 할 수 있는 데이터 분석\n",
    "딥러닝, 머신러닝, 모델, 학습, 회귀분석 .... 다 몰라도 괜찮습니다!\n",
    "\n",
    "누구나 할 수 있는 방식으로 간단하게 데이터 분석 & 예측을 진행해보겠습니다.\n"
   ],
   "metadata": {
    "collapsed": false
   }
  },
  {
   "cell_type": "markdown",
   "source": [
    "## 데이터 불러오기"
   ],
   "metadata": {
    "collapsed": false
   }
  },
  {
   "cell_type": "code",
   "execution_count": 1,
   "outputs": [
    {
     "name": "stdout",
     "output_type": "stream",
     "text": [
      "train data set은 11 개의 feature를 가진 1015 개의 데이터 샘플로 이루어져 있습니다.\n"
     ]
    },
    {
     "data": {
      "text/plain": "   id                          title  odometer location    isimported  \\\n0   0                   Toyota RAV 4     18277   Lagos   Foreign Used   \n1   1            Toyota Land Cruiser        10    Lagos          New    \n2   2  Land Rover Range Rover Evoque     83091    Lagos  Foreign Used   \n3   3                   Lexus ES 350     91524    Lagos  Foreign Used   \n4   4                   Toyota Venza     94177    Lagos  Foreign Used   \n\n           engine transmission    fuel  paint  year    target  \n0  4-cylinder(I4)    automatic  petrol    Red  2016  13665000  \n1  4-cylinder(I4)    automatic  petrol  Black  2019  33015000  \n2  6-cylinder(V6)    automatic  petrol    Red  2012   9915000  \n3  4-cylinder(I4)    automatic  petrol   Gray  2007   3815000  \n4  6-cylinder(V6)    automatic  petrol    Red  2010   7385000  ",
      "text/html": "<div>\n<style scoped>\n    .dataframe tbody tr th:only-of-type {\n        vertical-align: middle;\n    }\n\n    .dataframe tbody tr th {\n        vertical-align: top;\n    }\n\n    .dataframe thead th {\n        text-align: right;\n    }\n</style>\n<table border=\"1\" class=\"dataframe\">\n  <thead>\n    <tr style=\"text-align: right;\">\n      <th></th>\n      <th>id</th>\n      <th>title</th>\n      <th>odometer</th>\n      <th>location</th>\n      <th>isimported</th>\n      <th>engine</th>\n      <th>transmission</th>\n      <th>fuel</th>\n      <th>paint</th>\n      <th>year</th>\n      <th>target</th>\n    </tr>\n  </thead>\n  <tbody>\n    <tr>\n      <th>0</th>\n      <td>0</td>\n      <td>Toyota RAV 4</td>\n      <td>18277</td>\n      <td>Lagos</td>\n      <td>Foreign Used</td>\n      <td>4-cylinder(I4)</td>\n      <td>automatic</td>\n      <td>petrol</td>\n      <td>Red</td>\n      <td>2016</td>\n      <td>13665000</td>\n    </tr>\n    <tr>\n      <th>1</th>\n      <td>1</td>\n      <td>Toyota Land Cruiser</td>\n      <td>10</td>\n      <td>Lagos</td>\n      <td>New</td>\n      <td>4-cylinder(I4)</td>\n      <td>automatic</td>\n      <td>petrol</td>\n      <td>Black</td>\n      <td>2019</td>\n      <td>33015000</td>\n    </tr>\n    <tr>\n      <th>2</th>\n      <td>2</td>\n      <td>Land Rover Range Rover Evoque</td>\n      <td>83091</td>\n      <td>Lagos</td>\n      <td>Foreign Used</td>\n      <td>6-cylinder(V6)</td>\n      <td>automatic</td>\n      <td>petrol</td>\n      <td>Red</td>\n      <td>2012</td>\n      <td>9915000</td>\n    </tr>\n    <tr>\n      <th>3</th>\n      <td>3</td>\n      <td>Lexus ES 350</td>\n      <td>91524</td>\n      <td>Lagos</td>\n      <td>Foreign Used</td>\n      <td>4-cylinder(I4)</td>\n      <td>automatic</td>\n      <td>petrol</td>\n      <td>Gray</td>\n      <td>2007</td>\n      <td>3815000</td>\n    </tr>\n    <tr>\n      <th>4</th>\n      <td>4</td>\n      <td>Toyota Venza</td>\n      <td>94177</td>\n      <td>Lagos</td>\n      <td>Foreign Used</td>\n      <td>6-cylinder(V6)</td>\n      <td>automatic</td>\n      <td>petrol</td>\n      <td>Red</td>\n      <td>2010</td>\n      <td>7385000</td>\n    </tr>\n  </tbody>\n</table>\n</div>"
     },
     "execution_count": 1,
     "metadata": {},
     "output_type": "execute_result"
    }
   ],
   "source": [
    "import pandas as pd ## pandas 라이브러리를 가져오기 위하여 import를 해줍니다.\n",
    "\n",
    "# csv 형식으로 된 데이터 파일을 읽어옵니다.\n",
    "train = pd.read_csv('train.csv')\n",
    "test = pd.read_csv('test.csv')\n",
    "\n",
    "print(f'train data set은 {train.shape[1]} 개의 feature를 가진 {train.shape[0]} 개의 데이터 샘플로 이루어져 있습니다.')\n",
    "\n",
    "# 데이터의 최상단 5 줄을 표시합니다.\n",
    "train.head()"
   ],
   "metadata": {
    "collapsed": false,
    "pycharm": {
     "name": "#%%\n"
    }
   }
  },
  {
   "cell_type": "markdown",
   "source": [
    "트레인과 테스트 데이터 모양 행과 열을 살펴보면 다음과 같습니다."
   ],
   "metadata": {
    "collapsed": false
   }
  },
  {
   "cell_type": "code",
   "execution_count": 2,
   "outputs": [
    {
     "name": "stdout",
     "output_type": "stream",
     "text": [
      "(1015, 11) (436, 10)\n"
     ]
    }
   ],
   "source": [
    "print(train.shape, test.shape)"
   ],
   "metadata": {
    "collapsed": false,
    "pycharm": {
     "name": "#%%\n"
    }
   }
  },
  {
   "cell_type": "markdown",
   "source": [
    "## 결측치 확인\n",
    "\n",
    "결측치(NA: Not Available)란 값이 누락된 데이터를 말합니다.\n",
    "\n",
    "보다 정확한 분석을 하기 위해서는 데이터의 결측치를 확인하고 적절히 처리해주어야 합니다.\n",
    "\n",
    "이번 데이터에 결측치가 있나 확인해볼까요?"
   ],
   "metadata": {
    "collapsed": false
   }
  },
  {
   "cell_type": "code",
   "execution_count": 3,
   "outputs": [
    {
     "name": "stdout",
     "output_type": "stream",
     "text": [
      "결측치가 존재하지 않습니다\n"
     ]
    }
   ],
   "source": [
    "def check_missing_col(dataframe):\n",
    "    missing_col = []\n",
    "    for col in dataframe.columns:\n",
    "        missing_values = sum(dataframe[col].isna())\n",
    "        is_missing = True if missing_values >= 1 else False\n",
    "        if is_missing:\n",
    "            print(f'결측치가 있는 컬럼은: {col} 입니다')\n",
    "            print(f'해당 컬럼에 총 {missing_values} 개의 결측치가 존재합니다.')\n",
    "            missing_col.append([col, dataframe[col].dtype])\n",
    "    if missing_col == []:\n",
    "        print('결측치가 존재하지 않습니다')\n",
    "    return missing_col\n",
    "\n",
    "missing_col = check_missing_col(train)"
   ],
   "metadata": {
    "collapsed": false,
    "pycharm": {
     "name": "#%%\n"
    }
   }
  },
  {
   "cell_type": "markdown",
   "source": [
    "중고차 가격 예측 하기 위한 데이터는 결측치가 존재하지 않은 것으로 확인되었습니다."
   ],
   "metadata": {
    "collapsed": false
   }
  },
  {
   "cell_type": "markdown",
   "source": [
    "## 데이터 전처리\n"
   ],
   "metadata": {
    "collapsed": false
   }
  },
  {
   "cell_type": "markdown",
   "source": [
    "info() 메소드를 이용하여 데이터의 타입을 살펴보겠습니다."
   ],
   "metadata": {
    "collapsed": false
   }
  },
  {
   "cell_type": "code",
   "execution_count": 4,
   "outputs": [
    {
     "name": "stdout",
     "output_type": "stream",
     "text": [
      "<class 'pandas.core.frame.DataFrame'>\n",
      "RangeIndex: 1015 entries, 0 to 1014\n",
      "Data columns (total 11 columns):\n",
      " #   Column        Non-Null Count  Dtype \n",
      "---  ------        --------------  ----- \n",
      " 0   id            1015 non-null   int64 \n",
      " 1   title         1015 non-null   object\n",
      " 2   odometer      1015 non-null   int64 \n",
      " 3   location      1015 non-null   object\n",
      " 4   isimported    1015 non-null   object\n",
      " 5   engine        1015 non-null   object\n",
      " 6   transmission  1015 non-null   object\n",
      " 7   fuel          1015 non-null   object\n",
      " 8   paint         1015 non-null   object\n",
      " 9   year          1015 non-null   int64 \n",
      " 10  target        1015 non-null   int64 \n",
      "dtypes: int64(4), object(7)\n",
      "memory usage: 87.4+ KB\n"
     ]
    }
   ],
   "source": [
    "train.info()"
   ],
   "metadata": {
    "collapsed": false,
    "pycharm": {
     "name": "#%%\n"
    }
   }
  },
  {
   "cell_type": "markdown",
   "source": [
    "title, location 등 많은 데이터 컬럼이 **object형** 데이터 이군요!\n",
    "\n",
    "머신러닝 알고리즘은 문자열 데이터 속성을 입력받지 않으며 모든 데이터는 숫자형으로 표현되어야 합니다.\n",
    "\n",
    "그래서 문자형 카테고리형 속성은 모두 숫자 값으로 변환/인코딩 되어야 합니다.\n",
    "\n",
    "**'Label Encoding'** 을 통해서 문자형을 숫자 값으로 변환해보겠습니다.\n",
    "\n",
    "Label Encoding이란, 범주형 변수의 문자열을 수치형으로 변환하는 방법 중 하나입니다.\n",
    "\n",
    "우리 데이터에는 문자로 이루어진 피쳐를 Label Encoding을 통해 숫자형으로 표현해보겠습니다."
   ],
   "metadata": {
    "collapsed": false
   }
  },
  {
   "cell_type": "code",
   "execution_count": 5,
   "outputs": [
    {
     "name": "stdout",
     "output_type": "stream",
     "text": [
      "{'title': {'unknown': 0, 'Toyota RAV 4': 1, 'Toyota Land Cruiser': 2, 'Land Rover Range Rover Evoque': 3, 'Lexus ES 350': 4, 'Toyota Venza': 5, 'Toyota Corolla': 6, 'Land Rover Range Rover Sport': 7, 'Pontiac Vibe': 8, 'Toyota Tacoma': 9, 'Lexus RX 350': 10, 'Ford Escape': 11, 'Honda Civic': 12, 'Volvo XC90': 13, 'BMW 750': 14, 'Infiniti JX': 15, 'Honda Accord': 16, 'Mercedes-Benz ML 350': 17, 'Toyota Camry': 18, 'Hyundai Azera': 19, 'Lexus GX 460': 20, 'BMW 325': 21, 'Toyota Sienna': 22, 'Honda Fit': 23, 'Honda CR-V': 24, 'Hyundai Tucson': 25, 'Ford Transit': 26, 'Jaguar XJ8': 27, 'BMW X6': 28, 'Mercedes-Benz C 300': 29, 'Mitsubishi Galant': 30, 'Mercedes-Benz GL 450': 31, 'Lexus RX 300': 32, 'Toyota Highlander': 33, 'Mitsubishi CANTER PICK UP': 34, 'Nissan Titan': 35, 'Lexus IS 250': 36, 'Mercedes-Benz 200': 37, 'Toyota Sequoia': 38, 'Ford Explorer': 39, 'Hyundai ix35': 40, 'Mack CH613 CONVENTIONAL CAB': 41, 'Lexus CT 200h': 42, 'Lexus LX 570': 43, 'Toyota Avensis': 44, 'Toyota 4-Runner': 45, 'Mercedes-Benz GLE 350': 46, 'Mercedes-Benz E 300': 47, 'Toyota Avalon': 48, 'Chevrolet Camaro': 49, 'Mack CXN613 CAB BEHIND ENGINE': 50, 'Land Rover Range Rover': 51, 'Mazda CX-9': 52, 'Lexus RX 330': 53, 'Lincoln Mark': 54, 'Kia Optima': 55, 'Volkswagen LT': 56, 'Lexus GS 300': 57, 'Jaguar X-Type': 58, 'Mercedes-Benz 709 DB': 59, 'Nissan Altima': 60, 'Acura MDX': 61, 'DAF 95XF TRACTOR HEAD': 62, 'Man TGA 18.360': 63, 'Nissan Pathfinder': 64, 'Mercedes-Benz E 350': 65, 'Honda Crosstour': 66, 'Honda Pilot': 67, 'Lexus LS 460': 68, 'Nissan Cabstar': 69, 'Kia Sorento': 70, 'Mercedes-Benz CLA 250': 71, 'Mitsubishi Pajero': 72, 'Mercedes-Benz C 350': 73, 'Lexus GS 350': 74, 'Mercedes-Benz E 320': 75, 'Toyota Yaris': 76, 'Toyota Matrix': 77, 'Isuzu NQR': 78, 'IVM LT35': 79, 'Hyundai Elantra': 80, 'Porsche Cayenne': 81, 'Toyota Prado': 82, 'Hyundai Sonata': 83, 'MINI Cooper': 84, 'Toyota Hiace': 85, 'Mercedes-Benz 350': 86, 'Honda Odyssey': 87, 'Mercedes-Benz E 550': 88, 'Dodge Charger': 89, 'GMC Terrain': 90, 'Mercedes-Benz GLK 350': 91, 'Mercedes-Benz C 250': 92, 'Mercedes-Benz ML 430': 93, 'Mack CH613': 94, 'Honda Element': 95, 'Mercedes-Benz GLC 300': 96, 'Hyundai Santa Fe': 97, 'Kia Cerato': 98, 'Chevrolet Evanda': 99, 'Iveco TRUCK': 100, 'Acura ZDX': 101, 'Mercedes-Benz 450': 102, 'Mercedes-Benz GLA 250': 103, 'Mercedes-Benz CLS 500': 104, 'Scania P94 FLATBED': 105, 'Nissan Versa': 106, 'Ford F 150': 107, 'Mercedes-Benz GLE 43 AMG': 108, 'Volkswagen Golf': 109, 'Mercedes-Benz 320': 110, 'Honda Ridgeline': 111, 'Mercedes-Benz S 450': 112, 'Mercedes-Benz 300': 113, 'Kia Rio': 114, 'BMW 740': 115, 'Ford Edge': 116, 'Toyota Dyna': 117, 'Volvo FL6': 118, 'Toyota Coaster': 119, 'GAC Gonow Other': 120, 'IVECO EUROTECH 7.50E-16': 121, 'DAF FA 55. 180': 122, 'Scania TRACTOR HEAD': 123, 'Nissan Xterra': 124, 'Mercedes-Benz ML 320': 125, 'Mercedes-Benz ATEGO': 126, 'Ford Focus': 127, 'Mercedes-Benz 220': 128, 'Man Truck 18.44': 129, 'BMW 730': 130, 'Peugeot 607': 131, 'BMW 528': 132, 'Volvo XC60': 133, 'Mercedes-Benz E 200': 134, 'Volkswagen Passat': 135, 'Volkswagen Sharan': 136, 'Lexus GX 470': 137, 'Nissan Quest': 138, 'Nissan Maxima': 139, 'Lexus ES 300': 140, 'Mazda Tribute': 141, 'Ford Fusion': 142, 'Acura RDX': 143, 'Peugeot 206': 144, 'Mercedes-Benz G 63 AMG': 145, 'Toyota Hilux': 146, 'Kia Stinger': 147, 'Volkswagen Tiguan': 148, 'Acura TL': 149, 'Porsche Panamera': 150, 'Rolls-Royce Ghost': 151, 'BMW 745': 152, 'BMW 335': 153, 'Volkswagen Jetta': 154, 'Mack R-686ST': 155, 'Man Diesel 19.314 FILT-N': 156, 'Toyota Solara': 157, 'Kia Soul': 158, 'Mercedes-Benz C 450 AMG': 159, 'Mack CXN613': 160, 'Nissan Murano': 161, 'Chevrolet Traverse': 162, 'Volkswagen T4 Caravelle': 163, 'MAN-VOLKSWAGEN FLATBED': 164, 'Nissan Frontier': 165, 'Nissan X-Trail': 166, 'Mercedes-Benz C 180': 167, 'Infiniti M35': 168, 'Nissan Sentra': 169, 'Jeep Cherokee': 170, 'Toyota DYNA 200': 171, 'Nissan Rogue': 172, 'Land Rover Range Rover Velar': 173, 'ALPINA B3': 174, 'DAF 45': 175, 'Mazda 323': 176, 'Volkswagen T6 other': 177, 'Bentley Arnage': 178, 'Mazda 6': 179, 'Infiniti FX': 180, 'Ford Expedition': 181, 'Mercedes-Benz 814': 182, 'Kia Picanto': 183, 'Toyota Tundra': 184, 'JMC Vigus': 185, 'Infiniti QX80': 186, 'Volvo FH12': 187, 'Mercedes-Benz/52': 188, 'Volkswagen Touareg': 189, 'Porsche Macan': 190, 'Peugeot 308': 191, 'Nissan INFINITI M90.150/2': 192, 'MINI Cooper Countryman': 193, 'Lexus ES 330': 194, 'Honda Insight': 195, 'Toyota Vitz': 196, 'Audi S6': 197, 'Isuzu CABSTER': 198, 'Mercedes-Benz C 63 AMG': 199, 'Mercedes-Benz SL 400': 200, 'Volkswagen 17.22': 201, 'Man BOCKMANN': 202, 'DAF CF': 203}, 'location': {'unknown': 0, 'Lagos ': 1, 'Lagos': 2, 'Abuja': 3, 'Lagos State': 4, 'Ogun': 5, 'FCT': 6, 'Accra': 7, 'other': 8, 'Abuja ': 9, 'Abia State': 10, 'Adamawa ': 11, 'Abia': 12, 'Ogun State': 13}, 'isimported': {'unknown': 0, 'Foreign Used': 1, 'New ': 2, 'Locally used': 3}, 'engine': {'unknown': 0, '4-cylinder(I4)': 1, '6-cylinder(V6)': 2, '8-cylinder(V8)': 3, '6-cylinder(I6)': 4, '4-cylinder(H4)': 5, '5-cylinder(I5)': 6, '3-cylinder(I3)': 7, '2-cylinder(I2)': 8}, 'transmission': {'unknown': 0, 'automatic': 1, 'manual': 2}, 'fuel': {'unknown': 0, 'petrol': 1, 'diesel': 2}, 'paint': {'unknown': 0, 'Red': 1, 'Black': 2, 'Gray': 3, 'White': 4, 'Blue': 5, 'Redl': 6, 'Silver': 7, ' Black/Red': 8, 'Deep Blue': 9, 'Dark Grey': 10, 'Brown': 11, 'Grey': 12, 'Green': 13, 'Purple': 14, 'Gold': 15, 'Dark Blue': 16, 'Milk': 17, 'Midnight Black Metal': 18, 'Deep blue': 19, 'green': 20, 'Beige': 21, 'Blue ': 22, 'Silver ': 23, 'red': 24, 'white': 25, 'Dark Ash': 26, 'Black ': 27, 'orange': 28, 'Cream': 29, 'blue': 30, 'Dark gray': 31, 'Sliver': 32, 'White orchild pearl': 33, 'Dark Green': 34, 'Gold ': 35, 'Yellow': 36, 'Grey ': 37, 'Light Gold': 38, 'White ': 39, 'Wine': 40, 'white-blue': 41, 'Magnetic Gray': 42, 'WHITE': 43, 'yellow': 44, 'Gray ': 45, 'Dark silver ': 46, 'Dark blue ': 47, 'SILVER': 48, 'Black.': 49, 'WINE': 50, 'Silver/grey': 51, 'Ink blue': 52, 'Light blue': 53, 'Sky blue': 54, 'Gery': 55, 'Pale brown': 56, 'Whine ': 57, 'Cream ': 58, 'Black and silver': 59, 'DARK GREY': 60, 'Dark ash': 61, 'Light silver ': 62, 'BLACK': 63, 'GOLD': 64, 'Black sand pearl': 65, 'Off white': 66, 'Ash': 67, 'Maroon': 68, 'Navy blue': 69, 'Super White': 70, ' Black': 71, 'Ash and black': 72, 'Green ': 73, 'Magnetic Gray Metallic': 74, 'Skye blue': 75, 'Off white l': 76}}\n"
     ]
    },
    {
     "data": {
      "text/plain": "   id  title  odometer  location  isimported  engine  transmission  fuel  \\\n0   0      1     18277         1           1       1             1     1   \n1   1      2        10         2           2       1             1     1   \n2   2      3     83091         2           1       2             1     1   \n3   3      4     91524         2           1       1             1     1   \n4   4      5     94177         2           1       2             1     1   \n\n   paint  year    target  \n0      1  2016  13665000  \n1      2  2019  33015000  \n2      1  2012   9915000  \n3      3  2007   3815000  \n4      1  2010   7385000  ",
      "text/html": "<div>\n<style scoped>\n    .dataframe tbody tr th:only-of-type {\n        vertical-align: middle;\n    }\n\n    .dataframe tbody tr th {\n        vertical-align: top;\n    }\n\n    .dataframe thead th {\n        text-align: right;\n    }\n</style>\n<table border=\"1\" class=\"dataframe\">\n  <thead>\n    <tr style=\"text-align: right;\">\n      <th></th>\n      <th>id</th>\n      <th>title</th>\n      <th>odometer</th>\n      <th>location</th>\n      <th>isimported</th>\n      <th>engine</th>\n      <th>transmission</th>\n      <th>fuel</th>\n      <th>paint</th>\n      <th>year</th>\n      <th>target</th>\n    </tr>\n  </thead>\n  <tbody>\n    <tr>\n      <th>0</th>\n      <td>0</td>\n      <td>1</td>\n      <td>18277</td>\n      <td>1</td>\n      <td>1</td>\n      <td>1</td>\n      <td>1</td>\n      <td>1</td>\n      <td>1</td>\n      <td>2016</td>\n      <td>13665000</td>\n    </tr>\n    <tr>\n      <th>1</th>\n      <td>1</td>\n      <td>2</td>\n      <td>10</td>\n      <td>2</td>\n      <td>2</td>\n      <td>1</td>\n      <td>1</td>\n      <td>1</td>\n      <td>2</td>\n      <td>2019</td>\n      <td>33015000</td>\n    </tr>\n    <tr>\n      <th>2</th>\n      <td>2</td>\n      <td>3</td>\n      <td>83091</td>\n      <td>2</td>\n      <td>1</td>\n      <td>2</td>\n      <td>1</td>\n      <td>1</td>\n      <td>1</td>\n      <td>2012</td>\n      <td>9915000</td>\n    </tr>\n    <tr>\n      <th>3</th>\n      <td>3</td>\n      <td>4</td>\n      <td>91524</td>\n      <td>2</td>\n      <td>1</td>\n      <td>1</td>\n      <td>1</td>\n      <td>1</td>\n      <td>3</td>\n      <td>2007</td>\n      <td>3815000</td>\n    </tr>\n    <tr>\n      <th>4</th>\n      <td>4</td>\n      <td>5</td>\n      <td>94177</td>\n      <td>2</td>\n      <td>1</td>\n      <td>2</td>\n      <td>1</td>\n      <td>1</td>\n      <td>1</td>\n      <td>2010</td>\n      <td>7385000</td>\n    </tr>\n  </tbody>\n</table>\n</div>"
     },
     "execution_count": 5,
     "metadata": {},
     "output_type": "execute_result"
    }
   ],
   "source": [
    "#라벨인코딩을 하기 위함 dictionary map 생성 함수\n",
    "def make_label_map(dataframe):\n",
    "    label_maps = {}\n",
    "    for col in dataframe.columns:\n",
    "        if dataframe[col].dtype=='object':\n",
    "            label_map = {'unknown':0}\n",
    "            for i, key in enumerate(dataframe[col].unique()):\n",
    "                label_map[key] = i+1  #새로 등장하는 유니크 값들에 대해 1부터 1씩 증가시켜 키값을 부여해줍니다.\n",
    "            label_maps[col] = label_map\n",
    "    print(label_maps)\n",
    "    return label_maps\n",
    "\n",
    "# 각 범주형 변수에 인코딩 값을 부여하는 함수\n",
    "def label_encoder(dataframe, label_map):\n",
    "    for col in dataframe.columns:\n",
    "        if dataframe[col].dtype=='object':\n",
    "            dataframe[col] = dataframe[col].map(label_map[col])\n",
    "            dataframe[col] = dataframe[col].fillna(label_map[col]['unknown']) #혹시 모를 결측값은 unknown의 값(0)으로 채워줍니다.\n",
    "    return dataframe\n",
    "\n",
    "le = make_label_map(train)\n",
    "train = label_encoder(train, le)\n",
    "train.head()"
   ],
   "metadata": {
    "collapsed": false,
    "pycharm": {
     "name": "#%%\n"
    }
   }
  },
  {
   "cell_type": "markdown",
   "source": [
    "## 모델링\n",
    "\n",
    "### 변수 정의\n",
    "\n",
    "이제 본격적으로 모델을 설계하기 위해 데이터를 독립변수(X)와 종속변수(y) 로 나누어 줍니다\n",
    "\n",
    "우리의 목적은 주어진 중고차 시장 데이터를 이용하여 자동차 가격(target)을 예측하는 것입니다.\n",
    "\n",
    "그럼 가격을 제외한 중고차 시장 데이터가 X, 중고차 가격(target)이 y가 되겠죠?"
   ],
   "metadata": {
    "collapsed": false
   }
  },
  {
   "cell_type": "code",
   "execution_count": 6,
   "outputs": [],
   "source": [
    "X = train.drop(['id', 'target'], axis = 1) #training 데이터에서 피쳐 추출\n",
    "y = train.target #training 데이터에서 중고차 가격 추출"
   ],
   "metadata": {
    "collapsed": false,
    "pycharm": {
     "name": "#%%\n"
    }
   }
  },
  {
   "cell_type": "markdown",
   "source": [
    "이렇게 X와 y를 잘 정의해주었습니다.\n",
    "\n",
    "<br>\n",
    "\n",
    "### train/vaildation 정의\n",
    "\n",
    "이제 우리는 모델을 만들어야 하는데,\n",
    "모델을 만들기 앞서 내가 만들 모델이 유의미한지 알아야 좋은 결론을 도출 할 수 있겠죠?\n",
    "\n",
    "<br>\n",
    "\n",
    "하지만 단순히 주어진 데이터로 train셋 데이터를 학습시켜서 목표값인 test 셋에 집어 넣어 예측값을 도출하면,\n",
    "모델이 적합한지 알 방법이 없습니다.\n",
    "\n",
    "<br>\n",
    "\n",
    "따라서 train 셋에서 70%를 학습을 시키는데 쓰고, 나머지 25%를 모델이 유의미한지 검증하는데 사용할 것입니다.\n",
    "이후 유의미하다면, 실제로 제출할 모델을 만들 때, train 셋 100%를 학습을 시키면 되겠죠?\n",
    "\n",
    "<br>\n",
    "\n",
    "자 그럼 train 셋에서 학습시킬 셋 train_data와 검증할 셋 val_data를 만들어 봅시다!"
   ],
   "metadata": {
    "collapsed": false
   }
  },
  {
   "cell_type": "code",
   "execution_count": 7,
   "outputs": [],
   "source": [
    "from sklearn.model_selection import train_test_split\n",
    "\n",
    "data = train.drop('id', axis = 1).copy() #필요없는 id열 삭제\n",
    "train_data, val_data = train_test_split(data, test_size=0.25) #25프로로 설정\n",
    "train_data.reset_index(inplace=True) #전처리 과정에서 데이터가 뒤섞이지 않도록 인덱스를 초기화\n",
    "val_data.reset_index(inplace=True)"
   ],
   "metadata": {
    "collapsed": false,
    "pycharm": {
     "name": "#%%\n"
    }
   }
  },
  {
   "cell_type": "code",
   "execution_count": 8,
   "outputs": [
    {
     "name": "stdout",
     "output_type": "stream",
     "text": [
      "학습시킬 train 셋 :  (761, 11)\n",
      "검증할 val 셋 :  (254, 11)\n"
     ]
    }
   ],
   "source": [
    "print('학습시킬 train 셋 : ', train_data.shape)\n",
    "print('검증할 val 셋 : ', val_data.shape)"
   ],
   "metadata": {
    "collapsed": false,
    "pycharm": {
     "name": "#%%\n"
    }
   }
  },
  {
   "cell_type": "markdown",
   "source": [
    "위의 데이터 모양을 보면,\n",
    "\n",
    "**761개의 데이터를 학습**시켜\n",
    "\n",
    "**254개의 데이터로 성능을 검증**시킬 것 입니다!"
   ],
   "metadata": {
    "collapsed": false
   }
  },
  {
   "cell_type": "code",
   "execution_count": 9,
   "outputs": [],
   "source": [
    "train_data_X = train_data.drop(['target', 'index'], axis = 1) #training 데이터에서 피쳐 추출\n",
    "train_data_y = train_data.target #training 데이터에서 target 추출\n",
    "\n",
    "val_data_X = val_data.drop(['target', 'index'], axis = 1) #training 데이터에서 피쳐 추출\n",
    "val_data_y = val_data.target #validation 데이터에서 target 추출"
   ],
   "metadata": {
    "collapsed": false,
    "pycharm": {
     "name": "#%%\n"
    }
   }
  },
  {
   "cell_type": "markdown",
   "source": [
    "이번 베이스라인에서는 대표적인 ML모델의 하나인 RandomForest 모델을 사용해봅시다.\n",
    "\n",
    "<br>\n",
    "\n",
    "RandomForest 알고리즘에서 사용되는 의사 결정 트리는 feature 별 가지치기를 통해 데이터를 학습하는 알고리즘입니다.\n",
    "\n",
    "의사 결정 나무에 대한 자세한 개념 설명은 데이콘 [오늘의 파이썬](https://dacon.io/competitions/open/235698/talkboard/403509?page=1&dtype=recent)을 참고해 주세요!\n",
    "\n",
    "의사 결정 나무는 데이터를 쉽게 학습하는 알고리즘이지만 하나의 의사 결정 나무를 사용하는 것은 과적합(overfitting)의 문제를 발생 시킬 수 있습니다.\n",
    "\n",
    "여기서 과적합(overfitting)이란 학습 데이터에 과하게 학습되어 새로운 데이터를 예측하지 못하는 문제를 말합니다.\n",
    "\n",
    "쉽게 말해 우리가 공부를 할때 암기식으로 공부를 하여 새로운 문제를 해결하지 못하는 것 입니다!\n",
    "\n",
    "<br>\n",
    "RandomForest는 여러개의 의사 결정 나무를 활용하여 과적합의 문제를 해결합니다.\n",
    "\n",
    "여러개의 의사 결정 트리를 활용하면 하나의 트리에 대한 의존도가 낮아집니다.\n",
    "\n",
    "이는 하나의 트리가 과적합이 되어도 전체 모델은 과적합의 문제에서 벗어날 수 있음을 의미합니다.\n",
    "\n",
    "sklearn 패키지를 이용하면 직접 RandomForest를 구현하지 않고 모델을 사용할 수 있습니다.\n",
    "\n",
    "이번 베이스라인에서는 sklearn에서 제공하는 RandomForestRegressor 모델로 문제를 해결해보도록 하겠습니다."
   ],
   "metadata": {
    "collapsed": false
   }
  },
  {
   "cell_type": "code",
   "execution_count": 10,
   "outputs": [
    {
     "data": {
      "text/plain": "RandomForestRegressor()"
     },
     "execution_count": 10,
     "metadata": {},
     "output_type": "execute_result"
    }
   ],
   "source": [
    "from sklearn.ensemble import RandomForestRegressor\n",
    "\n",
    "model = RandomForestRegressor() # 모델 정의\n",
    "model.fit(train_data_X, train_data_y) # 학습"
   ],
   "metadata": {
    "collapsed": false,
    "pycharm": {
     "name": "#%%\n"
    }
   }
  },
  {
   "cell_type": "markdown",
   "source": [
    "굉장히 간단하게 학습이 끝났습니다.\n",
    "\n",
    "모델이 실제로 데이터를 얼마나 잘 맞추는지 확인해볼까요?"
   ],
   "metadata": {
    "collapsed": false
   }
  },
  {
   "cell_type": "code",
   "execution_count": 11,
   "outputs": [
    {
     "name": "stdout",
     "output_type": "stream",
     "text": [
      "모델 NMAE: 0.40696511442697647\n"
     ]
    }
   ],
   "source": [
    "import numpy as np\n",
    "from sklearn.metrics import mean_squared_error\n",
    "\n",
    "def nmae(true, pred):\n",
    "\n",
    "    mae = np.mean(np.abs(true-pred))\n",
    "    score = mae / np.mean(np.abs(true))\n",
    "\n",
    "    return score\n",
    "\n",
    "y_hat = model.predict(val_data_X) # y예측\n",
    "print(f'모델 NMAE: {nmae(val_data_y,y_hat)}')"
   ],
   "metadata": {
    "collapsed": false,
    "pycharm": {
     "name": "#%%\n"
    }
   }
  },
  {
   "cell_type": "markdown",
   "source": [
    "NMAE로 계산하여 0.353가 나왔습니다.\n",
    "\n",
    "좋은 수치일까요 나쁜 수치일까요?\n",
    "\n",
    "NMAE 0.353는 대략 예측치와 실제값이 35.3% 정도의 오차율을 보인다는 것을 의미합니다.\n",
    "\n",
    "어떠신가요 여러분은 만족하시나요?"
   ],
   "metadata": {
    "collapsed": false
   }
  },
  {
   "cell_type": "markdown",
   "source": [
    "### Vaildation 예측값 눈으로 확인하기\n",
    "\n",
    "0.353라는 숫자만 봐서는 모델이 어떤방식으로 맞췄는지 어디에서 오차가 더 많이 나는지 알 수 없습니다.\n",
    "\n",
    "모델을 개선시키기 위해선 어느 포인트에서 예측을 하지 못했는지 모델의 약점을 알아야합니다.\n",
    "\n",
    "그러기 위한 방법중 하나가 바로 오답노트인데요\n",
    "\n",
    "여러분은 데이콘 제출페이지에 제출하는 방식으로 스코어를 확인할수도, train set의 정확도가 어느정도 나오는지 눈으로 확인할 수도 있습니다.\n",
    "\n",
    "train set에서 오답노트를 확인하는것은 자칫 overfitting시킬 수 있어 조심해야하는 부분이지만 여러분에게 어느정도 인사이트를 줄 수도 있을겁니다.\n",
    "\n",
    "그럼 plot을 그려서 확인해 보겠습니다."
   ],
   "metadata": {
    "collapsed": false
   }
  },
  {
   "cell_type": "code",
   "execution_count": 12,
   "outputs": [
    {
     "data": {
      "text/plain": "<Figure size 1440x720 with 1 Axes>",
      "image/png": "[encoded data removed]"
     },
     "metadata": {},
     "output_type": "display_data"
    }
   ],
   "source": [
    "import matplotlib.pyplot as plt\n",
    "\n",
    "plt.style.use('ggplot')\n",
    "plt.figure(figsize=(20, 10))\n",
    "plt.plot(y_hat, label = 'prediction')\n",
    "plt.plot(val_data_y, label = 'real')\n",
    "plt.legend(fontsize = 20)\n",
    "plt.show()"
   ],
   "metadata": {
    "collapsed": false,
    "pycharm": {
     "name": "#%%\n"
    }
   }
  },
  {
   "cell_type": "markdown",
   "source": [
    "파란선이 실제 따릉이 소비량, 붉은 선이 우리의 모델이 예측한 값입니다.\n",
    "\n",
    "여러분이 보기에는 어떠신가요?\n",
    "\n",
    "우리의 모델이 어느정도 예측을 하고 있는것같나요?\n",
    "\n",
    "'추세는 따라가고 있는것 같다'정도는 이야기할 수 있을것 같습니다."
   ],
   "metadata": {
    "collapsed": false
   }
  },
  {
   "cell_type": "markdown",
   "source": [
    "### train 셋 + val 셋 100% 활용하는 모델 만들기\n",
    "\n",
    "이제 검증 셋으로 성능이 유의미한지 확인을 하였다면 데이터를 100% 활용하기 위하여\n",
    "검증 셋을 포함한 train 셋을 만들어보겠습니다."
   ],
   "metadata": {
    "collapsed": false
   }
  },
  {
   "cell_type": "code",
   "execution_count": 13,
   "outputs": [],
   "source": [
    "train_X = train.drop(['id', 'target'], axis = 1) #training 데이터에서 피쳐 추출\n",
    "train_y = train.target #training 데이터에서 target 추출"
   ],
   "metadata": {
    "collapsed": false,
    "pycharm": {
     "name": "#%%\n"
    }
   }
  },
  {
   "cell_type": "code",
   "execution_count": 14,
   "outputs": [
    {
     "data": {
      "text/plain": "      title  odometer  location  isimported  engine  transmission  fuel  \\\n0         1     18277         1           1       1             1     1   \n1         2        10         2           2       1             1     1   \n2         3     83091         2           1       2             1     1   \n3         4     91524         2           1       1             1     1   \n4         5     94177         2           1       2             1     1   \n...     ...       ...       ...         ...     ...           ...   ...   \n1010      6     46768         2           1       1             1     1   \n1011     18     31600         3           1       1             1     1   \n1012     18     96802         3           1       1             1     1   \n1013     20    146275         2           1       2             1     1   \n1014    203         0         2           3       2             2     2   \n\n      paint  year  \n0         1  2016  \n1         2  2019  \n2         1  2012  \n3         3  2007  \n4         1  2010  \n...     ...   ...  \n1010      2  2014  \n1011      7  2011  \n1012      2  2011  \n1013     15  2013  \n1014     25  1998  \n\n[1015 rows x 9 columns]",
      "text/html": "<div>\n<style scoped>\n    .dataframe tbody tr th:only-of-type {\n        vertical-align: middle;\n    }\n\n    .dataframe tbody tr th {\n        vertical-align: top;\n    }\n\n    .dataframe thead th {\n        text-align: right;\n    }\n</style>\n<table border=\"1\" class=\"dataframe\">\n  <thead>\n    <tr style=\"text-align: right;\">\n      <th></th>\n      <th>title</th>\n      <th>odometer</th>\n      <th>location</th>\n      <th>isimported</th>\n      <th>engine</th>\n      <th>transmission</th>\n      <th>fuel</th>\n      <th>paint</th>\n      <th>year</th>\n    </tr>\n  </thead>\n  <tbody>\n    <tr>\n      <th>0</th>\n      <td>1</td>\n      <td>18277</td>\n      <td>1</td>\n      <td>1</td>\n      <td>1</td>\n      <td>1</td>\n      <td>1</td>\n      <td>1</td>\n      <td>2016</td>\n    </tr>\n    <tr>\n      <th>1</th>\n      <td>2</td>\n      <td>10</td>\n      <td>2</td>\n      <td>2</td>\n      <td>1</td>\n      <td>1</td>\n      <td>1</td>\n      <td>2</td>\n      <td>2019</td>\n    </tr>\n    <tr>\n      <th>2</th>\n      <td>3</td>\n      <td>83091</td>\n      <td>2</td>\n      <td>1</td>\n      <td>2</td>\n      <td>1</td>\n      <td>1</td>\n      <td>1</td>\n      <td>2012</td>\n    </tr>\n    <tr>\n      <th>3</th>\n      <td>4</td>\n      <td>91524</td>\n      <td>2</td>\n      <td>1</td>\n      <td>1</td>\n      <td>1</td>\n      <td>1</td>\n      <td>3</td>\n      <td>2007</td>\n    </tr>\n    <tr>\n      <th>4</th>\n      <td>5</td>\n      <td>94177</td>\n      <td>2</td>\n      <td>1</td>\n      <td>2</td>\n      <td>1</td>\n      <td>1</td>\n      <td>1</td>\n      <td>2010</td>\n    </tr>\n    <tr>\n      <th>...</th>\n      <td>...</td>\n      <td>...</td>\n      <td>...</td>\n      <td>...</td>\n      <td>...</td>\n      <td>...</td>\n      <td>...</td>\n      <td>...</td>\n      <td>...</td>\n    </tr>\n    <tr>\n      <th>1010</th>\n      <td>6</td>\n      <td>46768</td>\n      <td>2</td>\n      <td>1</td>\n      <td>1</td>\n      <td>1</td>\n      <td>1</td>\n      <td>2</td>\n      <td>2014</td>\n    </tr>\n    <tr>\n      <th>1011</th>\n      <td>18</td>\n      <td>31600</td>\n      <td>3</td>\n      <td>1</td>\n      <td>1</td>\n      <td>1</td>\n      <td>1</td>\n      <td>7</td>\n      <td>2011</td>\n    </tr>\n    <tr>\n      <th>1012</th>\n      <td>18</td>\n      <td>96802</td>\n      <td>3</td>\n      <td>1</td>\n      <td>1</td>\n      <td>1</td>\n      <td>1</td>\n      <td>2</td>\n      <td>2011</td>\n    </tr>\n    <tr>\n      <th>1013</th>\n      <td>20</td>\n      <td>146275</td>\n      <td>2</td>\n      <td>1</td>\n      <td>2</td>\n      <td>1</td>\n      <td>1</td>\n      <td>15</td>\n      <td>2013</td>\n    </tr>\n    <tr>\n      <th>1014</th>\n      <td>203</td>\n      <td>0</td>\n      <td>2</td>\n      <td>3</td>\n      <td>2</td>\n      <td>2</td>\n      <td>2</td>\n      <td>25</td>\n      <td>1998</td>\n    </tr>\n  </tbody>\n</table>\n<p>1015 rows × 9 columns</p>\n</div>"
     },
     "execution_count": 14,
     "metadata": {},
     "output_type": "execute_result"
    }
   ],
   "source": [
    "train_X"
   ],
   "metadata": {
    "collapsed": false,
    "pycharm": {
     "name": "#%%\n"
    }
   }
  },
  {
   "cell_type": "code",
   "execution_count": 15,
   "outputs": [
    {
     "data": {
      "text/plain": "RandomForestRegressor()"
     },
     "execution_count": 15,
     "metadata": {},
     "output_type": "execute_result"
    }
   ],
   "source": [
    "from sklearn.ensemble import RandomForestRegressor\n",
    "\n",
    "model = RandomForestRegressor()\n",
    "model.fit(train_X, train_y) # 모델 학습"
   ],
   "metadata": {
    "collapsed": false,
    "pycharm": {
     "name": "#%%\n"
    }
   }
  },
  {
   "cell_type": "markdown",
   "source": [
    "## 예측하기\n",
    "\n",
    "이제 학습된 모델을 이용하여 주어진 test데이터로 예측을 진행해 보겠습니다.\n",
    "\n",
    "앞서 train 셋에서 했던 동일한 전처리 과정을 거치되, data leakage가 발생하지 않도록 주의합니다."
   ],
   "metadata": {
    "collapsed": false
   }
  },
  {
   "cell_type": "code",
   "execution_count": 16,
   "outputs": [
    {
     "name": "stdout",
     "output_type": "stream",
     "text": [
      "결측치가 존재하지 않습니다\n"
     ]
    },
    {
     "data": {
      "text/plain": "   title  odometer  location  isimported  engine  transmission  fuel  paint  \\\n0   29.0      1234       3.0           2     1.0             1     1    4.0   \n1   16.0     29938       3.0           1     1.0             1     1    4.0   \n2    0.0     87501       2.0           1     1.0             1     1    2.0   \n3   22.0    180894       2.0           3     2.0             1     1   10.0   \n4   85.0    104814       2.0           1     1.0             1     1    4.0   \n\n   year  \n0  2017  \n1  2013  \n2  2012  \n3  2001  \n4  2000  ",
      "text/html": "<div>\n<style scoped>\n    .dataframe tbody tr th:only-of-type {\n        vertical-align: middle;\n    }\n\n    .dataframe tbody tr th {\n        vertical-align: top;\n    }\n\n    .dataframe thead th {\n        text-align: right;\n    }\n</style>\n<table border=\"1\" class=\"dataframe\">\n  <thead>\n    <tr style=\"text-align: right;\">\n      <th></th>\n      <th>title</th>\n      <th>odometer</th>\n      <th>location</th>\n      <th>isimported</th>\n      <th>engine</th>\n      <th>transmission</th>\n      <th>fuel</th>\n      <th>paint</th>\n      <th>year</th>\n    </tr>\n  </thead>\n  <tbody>\n    <tr>\n      <th>0</th>\n      <td>29.0</td>\n      <td>1234</td>\n      <td>3.0</td>\n      <td>2</td>\n      <td>1.0</td>\n      <td>1</td>\n      <td>1</td>\n      <td>4.0</td>\n      <td>2017</td>\n    </tr>\n    <tr>\n      <th>1</th>\n      <td>16.0</td>\n      <td>29938</td>\n      <td>3.0</td>\n      <td>1</td>\n      <td>1.0</td>\n      <td>1</td>\n      <td>1</td>\n      <td>4.0</td>\n      <td>2013</td>\n    </tr>\n    <tr>\n      <th>2</th>\n      <td>0.0</td>\n      <td>87501</td>\n      <td>2.0</td>\n      <td>1</td>\n      <td>1.0</td>\n      <td>1</td>\n      <td>1</td>\n      <td>2.0</td>\n      <td>2012</td>\n    </tr>\n    <tr>\n      <th>3</th>\n      <td>22.0</td>\n      <td>180894</td>\n      <td>2.0</td>\n      <td>3</td>\n      <td>2.0</td>\n      <td>1</td>\n      <td>1</td>\n      <td>10.0</td>\n      <td>2001</td>\n    </tr>\n    <tr>\n      <th>4</th>\n      <td>85.0</td>\n      <td>104814</td>\n      <td>2.0</td>\n      <td>1</td>\n      <td>1.0</td>\n      <td>1</td>\n      <td>1</td>\n      <td>4.0</td>\n      <td>2000</td>\n    </tr>\n  </tbody>\n</table>\n</div>"
     },
     "execution_count": 16,
     "metadata": {},
     "output_type": "execute_result"
    }
   ],
   "source": [
    "check_missing_col(test) # 결측치 확인\n",
    "\n",
    "test = test.drop('id', axis = 1) #분석에 필요없는 열 삭제\n",
    "\n",
    "test = label_encoder(test, le) #범주형 피쳐 라벨인코딩\n",
    "\n",
    "test.head()"
   ],
   "metadata": {
    "collapsed": false,
    "pycharm": {
     "name": "#%%\n"
    }
   }
  },
  {
   "cell_type": "markdown",
   "source": [
    "전처리가 완료된 테스트 데이터셋을 통해 본격적으로 학습한 모델로 추론을 시작합니다."
   ],
   "metadata": {
    "collapsed": false
   }
  },
  {
   "cell_type": "code",
   "execution_count": 17,
   "outputs": [
    {
     "data": {
      "text/plain": "array([20837650.,  5921950.,  5284000.,  1234400.,  2304700.])"
     },
     "execution_count": 17,
     "metadata": {},
     "output_type": "execute_result"
    }
   ],
   "source": [
    "y_pred = model.predict(test)\n",
    "y_pred[0:5]"
   ],
   "metadata": {
    "collapsed": false,
    "pycharm": {
     "name": "#%%\n"
    }
   }
  },
  {
   "cell_type": "markdown",
   "source": [
    "## Dacon 대회에 제출하기 (Submission)\n",
    "\n",
    "이제 학습한 모델을 사용하여 이 예측 결과를 submit1.csv 파일로 만들어서 대회 페이지에 제출해보도록 합시다.\n",
    "\n",
    "제출한 뒤 리더보드를 통해 결과를 확인합시다."
   ],
   "metadata": {
    "collapsed": false
   }
  },
  {
   "cell_type": "code",
   "execution_count": 19,
   "outputs": [
    {
     "data": {
      "text/plain": "   id  target\n0   0       0\n1   1       0\n2   2       0\n3   3       0\n4   4       0",
      "text/html": "<div>\n<style scoped>\n    .dataframe tbody tr th:only-of-type {\n        vertical-align: middle;\n    }\n\n    .dataframe tbody tr th {\n        vertical-align: top;\n    }\n\n    .dataframe thead th {\n        text-align: right;\n    }\n</style>\n<table border=\"1\" class=\"dataframe\">\n  <thead>\n    <tr style=\"text-align: right;\">\n      <th></th>\n      <th>id</th>\n      <th>target</th>\n    </tr>\n  </thead>\n  <tbody>\n    <tr>\n      <th>0</th>\n      <td>0</td>\n      <td>0</td>\n    </tr>\n    <tr>\n      <th>1</th>\n      <td>1</td>\n      <td>0</td>\n    </tr>\n    <tr>\n      <th>2</th>\n      <td>2</td>\n      <td>0</td>\n    </tr>\n    <tr>\n      <th>3</th>\n      <td>3</td>\n      <td>0</td>\n    </tr>\n    <tr>\n      <th>4</th>\n      <td>4</td>\n      <td>0</td>\n    </tr>\n  </tbody>\n</table>\n</div>"
     },
     "execution_count": 19,
     "metadata": {},
     "output_type": "execute_result"
    }
   ],
   "source": [
    "# 제출용 sample 파일을 불러옵니다.\n",
    "submission = pd.read_csv('sample_submission.csv')\n",
    "submission.head()"
   ],
   "metadata": {
    "collapsed": false,
    "pycharm": {
     "name": "#%%\n"
    }
   }
  },
  {
   "cell_type": "code",
   "execution_count": 20,
   "outputs": [
    {
     "data": {
      "text/plain": "   id      target\n0   0  20837650.0\n1   1   5921950.0\n2   2   5284000.0\n3   3   1234400.0\n4   4   2304700.0",
      "text/html": "<div>\n<style scoped>\n    .dataframe tbody tr th:only-of-type {\n        vertical-align: middle;\n    }\n\n    .dataframe tbody tr th {\n        vertical-align: top;\n    }\n\n    .dataframe thead th {\n        text-align: right;\n    }\n</style>\n<table border=\"1\" class=\"dataframe\">\n  <thead>\n    <tr style=\"text-align: right;\">\n      <th></th>\n      <th>id</th>\n      <th>target</th>\n    </tr>\n  </thead>\n  <tbody>\n    <tr>\n      <th>0</th>\n      <td>0</td>\n      <td>20837650.0</td>\n    </tr>\n    <tr>\n      <th>1</th>\n      <td>1</td>\n      <td>5921950.0</td>\n    </tr>\n    <tr>\n      <th>2</th>\n      <td>2</td>\n      <td>5284000.0</td>\n    </tr>\n    <tr>\n      <th>3</th>\n      <td>3</td>\n      <td>1234400.0</td>\n    </tr>\n    <tr>\n      <th>4</th>\n      <td>4</td>\n      <td>2304700.0</td>\n    </tr>\n  </tbody>\n</table>\n</div>"
     },
     "execution_count": 20,
     "metadata": {},
     "output_type": "execute_result"
    }
   ],
   "source": [
    "# 위에서 구한 예측값을 그대로 넣어줍니다.\n",
    "submission['target'] = y_pred\n",
    "\n",
    "# 데이터가 잘 들어갔는지 확인합니다.\n",
    "submission.head()"
   ],
   "metadata": {
    "collapsed": false,
    "pycharm": {
     "name": "#%%\n"
    }
   }
  },
  {
   "cell_type": "markdown",
   "source": [
    "submission을 csv 파일로 저장합니다.\n",
    "index=False란 추가적인 id를 부여할 필요가 없다는 뜻입니다.\n",
    "정확한 채점을 위해 꼭 index=False를 넣어주세요."
   ],
   "metadata": {
    "collapsed": false
   }
  },
  {
   "cell_type": "code",
   "execution_count": 22,
   "outputs": [],
   "source": [
    "submission.to_csv('submit1.csv', index=False)"
   ],
   "metadata": {
    "collapsed": false,
    "pycharm": {
     "name": "#%%\n"
    }
   }
  }
 ],
 "metadata": {
  "kernelspec": {
   "name": "python3",
   "language": "python",
   "display_name": "Python 3 (ipykernel)"
  },
  "language_info": {
   "codemirror_mode": {
    "name": "ipython",
    "version": 3
   },
   "file_extension": ".py",
   "mimetype": "text/x-python",
   "name": "python",
   "nbconvert_exporter": "python",
   "pygments_lexer": "ipython3",
   "version": "3.8.13"
  }
 },
 "nbformat": 4,
 "nbformat_minor": 5
}