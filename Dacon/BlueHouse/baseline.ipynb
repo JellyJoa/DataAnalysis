{
  "nbformat": 4,
  "nbformat_minor": 0,
  "metadata": {
    "colab": {
      "name": "Untitled0.ipynb",
      "provenance": [],
      "mount_file_id": "1NWyHv805J_2a2y01V49VPO6_pRb0JiCX",
      "authorship_tag": "ABX9TyPeeNpKrM7B6O+3h/+epmtx",
      "include_colab_link": true
    },
    "kernelspec": {
      "name": "python3",
      "display_name": "Python 3"
    },
    "language_info": {
      "name": "python"
    },
    "accelerator": "GPU"
  },
  "cells": [
    {
      "cell_type": "markdown",
      "metadata": {
        "id": "view-in-github",
        "colab_type": "text"
      },
      "source": [
        "<a href=\"https://colab.research.google.com/github/JellyJoa/DataAnalysis/blob/master/Dacon/BlueHouse/baseline.ipynb\" target=\"_parent\"><img src=\"https://colab.research.google.com/assets/colab-badge.svg\" alt=\"Open In Colab\"/></a>"
      ]
    },
    {
      "cell_type": "code",
      "execution_count": 8,
      "metadata": {
        "id": "TO8QmgzNfuCc"
      },
      "outputs": [],
      "source": [
        "#%%\n",
        "import pandas as pd\n",
        "import urllib.request\n",
        "%matplotlib inline\n",
        "import matplotlib.pyplot as plt\n",
        "import re\n",
        "from konlpy.tag import Okt\n",
        "from tensorflow.keras.preprocessing.text import Tokenizer\n",
        "import numpy as np\n",
        "from tensorflow.keras.preprocessing.sequence import pad_sequences\n",
        "import os\n",
        "from tensorflow.keras.datasets import reuters\n",
        "from tensorflow.keras.models import Sequential\n",
        "from tensorflow.keras.layers import Dense, LSTM, Embedding\n",
        "from tensorflow.keras.preprocessing.sequence import pad_sequences\n",
        "from tensorflow.keras.utils import to_categorical\n",
        "from tensorflow.keras.models import load_model\n",
        "from tqdm import tqdm"
      ]
    },
    {
      "cell_type": "code",
      "source": [
        "!pip install konlpy"
      ],
      "metadata": {
        "colab": {
          "base_uri": "https://localhost:8080/"
        },
        "id": "g11-tTmigS38",
        "outputId": "5b4d80e0-563d-4de7-85ed-cf82ff786948"
      },
      "execution_count": 9,
      "outputs": [
        {
          "output_type": "stream",
          "name": "stdout",
          "text": [
            "Looking in indexes: https://pypi.org/simple, https://us-python.pkg.dev/colab-wheels/public/simple/\n",
            "Requirement already satisfied: konlpy in /usr/local/lib/python3.7/dist-packages (0.6.0)\n",
            "Requirement already satisfied: numpy>=1.6 in /usr/local/lib/python3.7/dist-packages (from konlpy) (1.21.6)\n",
            "Requirement already satisfied: JPype1>=0.7.0 in /usr/local/lib/python3.7/dist-packages (from konlpy) (1.4.0)\n",
            "Requirement already satisfied: lxml>=4.1.0 in /usr/local/lib/python3.7/dist-packages (from konlpy) (4.2.6)\n",
            "Requirement already satisfied: typing-extensions in /usr/local/lib/python3.7/dist-packages (from JPype1>=0.7.0->konlpy) (4.2.0)\n"
          ]
        }
      ]
    },
    {
      "cell_type": "code",
      "source": [
        "train = pd.read_csv('/content/drive/MyDrive/DL/train.csv', encoding = 'utf-8')\n",
        "test = pd.read_csv('/content/drive/MyDrive/DL/test.csv', encoding = 'utf-8')\n",
        "sample_submission = pd.read_csv('/content/drive/MyDrive/DL/sample_submission.csv', encoding = 'utf-8')"
      ],
      "metadata": {
        "id": "AVMaHuIVgPtL"
      },
      "execution_count": 10,
      "outputs": []
    },
    {
      "cell_type": "code",
      "source": [
        "train = train.dropna(how = 'any')\n",
        "train['data'] = train['data'].str.replace(\"[^ㄱ-ㅎㅏ-ㅣ가-힣 ]\",\"\")\n",
        "test['data'] = test['data'].str.replace(\"[^ㄱ-ㅎㅏ-ㅣ가-힣 ]\",\"\")\n",
        "stopwords = ['의','가','이','은','들','는','좀','잘','걍','과','도','를','으로','자','에','와','한','하다','을']\n",
        "#%%"
      ],
      "metadata": {
        "colab": {
          "base_uri": "https://localhost:8080/"
        },
        "id": "evqJLPArgOoj",
        "outputId": "e10f6702-21c2-43e7-992b-013b16347b06"
      },
      "execution_count": 11,
      "outputs": [
        {
          "output_type": "stream",
          "name": "stderr",
          "text": [
            "/usr/local/lib/python3.7/dist-packages/ipykernel_launcher.py:2: FutureWarning: The default value of regex will change from True to False in a future version.\n",
            "  \n",
            "/usr/local/lib/python3.7/dist-packages/ipykernel_launcher.py:3: FutureWarning: The default value of regex will change from True to False in a future version.\n",
            "  This is separate from the ipykernel package so we can avoid doing imports until\n"
          ]
        }
      ]
    },
    {
      "cell_type": "code",
      "source": [
        "okt = Okt()"
      ],
      "metadata": {
        "id": "N6qz2KChgLC7"
      },
      "execution_count": 12,
      "outputs": []
    },
    {
      "cell_type": "code",
      "source": [
        "X_train = []\n",
        "for sentence,i in zip(train['data'],tqdm(range(len(train['data'])))) :\n",
        "    temp_X = []\n",
        "    temp_X = okt.morphs(sentence, stem=True)\n",
        "    temp_X = [word for word in temp_X if not word in stopwords]\n",
        "    X_train.append(temp_X)"
      ],
      "metadata": {
        "colab": {
          "base_uri": "https://localhost:8080/"
        },
        "id": "lMStzaM5gHPS",
        "outputId": "dbf71c7b-46e4-44e0-8f88-d5475432a4ad"
      },
      "execution_count": 13,
      "outputs": [
        {
          "output_type": "stream",
          "name": "stderr",
          "text": [
            "100%|█████████▉| 39991/39992 [30:44<00:00, 21.69it/s]\n"
          ]
        }
      ]
    },
    {
      "cell_type": "code",
      "source": [
        "X_test = []\n",
        "for sentence in test['data']:\n",
        "    temp_X = []\n",
        "    temp_X = okt.morphs(sentence, stem=True)\n",
        "    temp_X = [word for word in temp_X if not word in stopwords]\n",
        "    X_test.append(temp_X)"
      ],
      "metadata": {
        "id": "iZ0NfsIhgHTd"
      },
      "execution_count": 14,
      "outputs": []
    },
    {
      "cell_type": "code",
      "source": [
        "tokenizer = Tokenizer()\n",
        "tokenizer.fit_on_texts(X_train)"
      ],
      "metadata": {
        "id": "jSw7_d1_gCZG"
      },
      "execution_count": 15,
      "outputs": []
    },
    {
      "cell_type": "code",
      "source": [
        "vocab_size = 30000\n",
        "tokenizer = Tokenizer(vocab_size)\n",
        "tokenizer.fit_on_texts(X_train)\n",
        "X_train = tokenizer.texts_to_sequences(X_train)\n",
        "X_test = tokenizer.texts_to_sequences(X_test)"
      ],
      "metadata": {
        "id": "o7YbtQTJgCh_"
      },
      "execution_count": 16,
      "outputs": []
    },
    {
      "cell_type": "code",
      "source": [
        "max_len = 500\n",
        "X_train = pad_sequences(X_train, maxlen = max_len)\n",
        "X_test = pad_sequences(X_test, maxlen = max_len)"
      ],
      "metadata": {
        "id": "e-iDvvpwgC9e"
      },
      "execution_count": 17,
      "outputs": []
    },
    {
      "cell_type": "code",
      "source": [
        "y_train = to_categorical(train['category'])"
      ],
      "metadata": {
        "id": "za2CnZzuf9rh"
      },
      "execution_count": 18,
      "outputs": []
    },
    {
      "cell_type": "code",
      "source": [
        "model = Sequential()\n",
        "model.add(Embedding(vocab_size, 120))\n",
        "model.add(LSTM(120))\n",
        "model.add(Dense(3, activation='softmax'))\n",
        "\n",
        "model.compile(loss='categorical_crossentropy', optimizer='adam', metrics=['acc'])\n",
        "\n",
        "history = model.fit(X_train, y_train, batch_size=128, epochs=15)"
      ],
      "metadata": {
        "colab": {
          "base_uri": "https://localhost:8080/"
        },
        "id": "iSp13MjOf9t8",
        "outputId": "a8e30803-d703-4c5b-bbc9-f7ccfa6c2403"
      },
      "execution_count": 19,
      "outputs": [
        {
          "output_type": "stream",
          "name": "stdout",
          "text": [
            "Epoch 1/15\n",
            "313/313 [==============================] - 19s 36ms/step - loss: 0.5305 - acc: 0.7893\n",
            "Epoch 2/15\n",
            "313/313 [==============================] - 11s 36ms/step - loss: 0.3119 - acc: 0.8899\n",
            "Epoch 3/15\n",
            "313/313 [==============================] - 11s 35ms/step - loss: 0.2279 - acc: 0.9203\n",
            "Epoch 4/15\n",
            "313/313 [==============================] - 11s 36ms/step - loss: 0.2130 - acc: 0.9257\n",
            "Epoch 5/15\n",
            "313/313 [==============================] - 11s 35ms/step - loss: 0.1616 - acc: 0.9415\n",
            "Epoch 6/15\n",
            "313/313 [==============================] - 11s 36ms/step - loss: 0.1365 - acc: 0.9511\n",
            "Epoch 7/15\n",
            "313/313 [==============================] - 11s 36ms/step - loss: 0.1441 - acc: 0.9473\n",
            "Epoch 8/15\n",
            "313/313 [==============================] - 11s 36ms/step - loss: 0.1156 - acc: 0.9579\n",
            "Epoch 9/15\n",
            "313/313 [==============================] - 11s 37ms/step - loss: 0.1445 - acc: 0.9497\n",
            "Epoch 10/15\n",
            "313/313 [==============================] - 11s 37ms/step - loss: 0.1117 - acc: 0.9609\n",
            "Epoch 11/15\n",
            "313/313 [==============================] - 11s 36ms/step - loss: 0.0793 - acc: 0.9721\n",
            "Epoch 12/15\n",
            "313/313 [==============================] - 11s 36ms/step - loss: 0.0687 - acc: 0.9758\n",
            "Epoch 13/15\n",
            "313/313 [==============================] - 11s 36ms/step - loss: 0.0598 - acc: 0.9782\n",
            "Epoch 14/15\n",
            "313/313 [==============================] - 11s 36ms/step - loss: 0.0920 - acc: 0.9677\n",
            "Epoch 15/15\n",
            "313/313 [==============================] - 12s 37ms/step - loss: 0.0609 - acc: 0.9768\n"
          ]
        }
      ]
    },
    {
      "cell_type": "code",
      "source": [
        "y_pred = model.predict(X_test)\n",
        "# predicted = y_prob.argmax(axis=-1)\n",
        "sample_submission['category'] = y_pred\n",
        "sample_submission.to_csv('/content/drive/MyDrive/DL/submission.csv', encoding='utf-8', index = False)"
      ],
      "metadata": {
        "id": "GpQdt2-hf9wi"
      },
      "execution_count": 22,
      "outputs": []
    },
    {
      "cell_type": "code",
      "source": [
        "aa = pd.read_csv('/content/drive/MyDrive/DL/submission.csv')\n",
        "print(aa)"
      ],
      "metadata": {
        "colab": {
          "base_uri": "https://localhost:8080/"
        },
        "id": "bPynI1qdxNNR",
        "outputId": "c5a95371-4962-4790-d46e-ded23d936922"
      },
      "execution_count": 24,
      "outputs": [
        {
          "output_type": "stream",
          "name": "stdout",
          "text": [
            "      index  category\n",
            "0         0  0.625299\n",
            "1         1  0.000437\n",
            "2         2  0.000005\n",
            "3         3  0.646807\n",
            "4         4  0.001793\n",
            "...     ...       ...\n",
            "4995   4995  0.999617\n",
            "4996   4996  0.000028\n",
            "4997   4997  0.000043\n",
            "4998   4998  0.999692\n",
            "4999   4999  0.918252\n",
            "\n",
            "[5000 rows x 2 columns]\n"
          ]
        }
      ]
    }
  ]
}