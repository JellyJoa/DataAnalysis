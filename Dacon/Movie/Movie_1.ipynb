{
 "cells": [
  {
   "cell_type": "code",
   "execution_count": 1,
   "metadata": {
    "collapsed": true
   },
   "outputs": [],
   "source": [
    "import pandas as pd\n",
    "import numpy as np\n",
    "import matplotlib.pyplot as plt\n",
    "\n",
    "train = pd.read_csv('./m_data/movies_train.csv')\n",
    "test = pd.read_csv('./m_data/movies_test.csv')"
   ]
  },
  {
   "cell_type": "code",
   "execution_count": 2,
   "outputs": [
    {
     "data": {
      "text/plain": "       title   distributor genre release_time  time screening_rat director  \\\n0     개들의 전쟁      롯데엔터테인먼트    액션   2012-11-22    96      청소년 관람불가      조병옥   \n1       내부자들        (주)쇼박스   느와르   2015-11-19   130      청소년 관람불가      우민호   \n2  은밀하게 위대하게        (주)쇼박스    액션   2013-06-05   123       15세 관람가      장철수   \n3   나는 공무원이다        (주)NEW   코미디   2012-07-12   101        전체 관람가      구자홍   \n4       불량남녀  쇼박스(주)미디어플렉스   코미디   2010-11-04   108       15세 관람가      신근호   \n\n   dir_prev_bfnum  dir_prev_num  num_staff  num_actor  box_off_num  \n0             NaN             0         91          2        23398  \n1      1161602.50             2        387          3      7072501  \n2       220775.25             4        343          4      6959083  \n3        23894.00             2         20          6       217866  \n4            1.00             1        251          2       483387  ",
      "text/html": "<div>\n<style scoped>\n    .dataframe tbody tr th:only-of-type {\n        vertical-align: middle;\n    }\n\n    .dataframe tbody tr th {\n        vertical-align: top;\n    }\n\n    .dataframe thead th {\n        text-align: right;\n    }\n</style>\n<table border=\"1\" class=\"dataframe\">\n  <thead>\n    <tr style=\"text-align: right;\">\n      <th></th>\n      <th>title</th>\n      <th>distributor</th>\n      <th>genre</th>\n      <th>release_time</th>\n      <th>time</th>\n      <th>screening_rat</th>\n      <th>director</th>\n      <th>dir_prev_bfnum</th>\n      <th>dir_prev_num</th>\n      <th>num_staff</th>\n      <th>num_actor</th>\n      <th>box_off_num</th>\n    </tr>\n  </thead>\n  <tbody>\n    <tr>\n      <th>0</th>\n      <td>개들의 전쟁</td>\n      <td>롯데엔터테인먼트</td>\n      <td>액션</td>\n      <td>2012-11-22</td>\n      <td>96</td>\n      <td>청소년 관람불가</td>\n      <td>조병옥</td>\n      <td>NaN</td>\n      <td>0</td>\n      <td>91</td>\n      <td>2</td>\n      <td>23398</td>\n    </tr>\n    <tr>\n      <th>1</th>\n      <td>내부자들</td>\n      <td>(주)쇼박스</td>\n      <td>느와르</td>\n      <td>2015-11-19</td>\n      <td>130</td>\n      <td>청소년 관람불가</td>\n      <td>우민호</td>\n      <td>1161602.50</td>\n      <td>2</td>\n      <td>387</td>\n      <td>3</td>\n      <td>7072501</td>\n    </tr>\n    <tr>\n      <th>2</th>\n      <td>은밀하게 위대하게</td>\n      <td>(주)쇼박스</td>\n      <td>액션</td>\n      <td>2013-06-05</td>\n      <td>123</td>\n      <td>15세 관람가</td>\n      <td>장철수</td>\n      <td>220775.25</td>\n      <td>4</td>\n      <td>343</td>\n      <td>4</td>\n      <td>6959083</td>\n    </tr>\n    <tr>\n      <th>3</th>\n      <td>나는 공무원이다</td>\n      <td>(주)NEW</td>\n      <td>코미디</td>\n      <td>2012-07-12</td>\n      <td>101</td>\n      <td>전체 관람가</td>\n      <td>구자홍</td>\n      <td>23894.00</td>\n      <td>2</td>\n      <td>20</td>\n      <td>6</td>\n      <td>217866</td>\n    </tr>\n    <tr>\n      <th>4</th>\n      <td>불량남녀</td>\n      <td>쇼박스(주)미디어플렉스</td>\n      <td>코미디</td>\n      <td>2010-11-04</td>\n      <td>108</td>\n      <td>15세 관람가</td>\n      <td>신근호</td>\n      <td>1.00</td>\n      <td>1</td>\n      <td>251</td>\n      <td>2</td>\n      <td>483387</td>\n    </tr>\n  </tbody>\n</table>\n</div>"
     },
     "execution_count": 2,
     "metadata": {},
     "output_type": "execute_result"
    }
   ],
   "source": [
    "train.head()"
   ],
   "metadata": {
    "collapsed": false,
    "pycharm": {
     "name": "#%%\n"
    }
   }
  },
  {
   "cell_type": "code",
   "execution_count": 3,
   "outputs": [
    {
     "data": {
      "text/plain": "         title distributor   genre release_time  time screening_rat director  \\\n0       용서는 없다      시네마서비스     느와르   2010-01-07   125      청소년 관람불가      김형준   \n1  아빠가 여자를 좋아해      (주)쇼박스  멜로/로맨스   2010-01-14   113       12세 관람가      이광재   \n2          하모니   CJ 엔터테인먼트     드라마   2010-01-28   115       12세 관람가      강대규   \n3          의형제      (주)쇼박스      액션   2010-02-04   116       15세 관람가       장훈   \n4        평행 이론   CJ 엔터테인먼트      공포   2010-02-18   110       15세 관람가      권호영   \n\n   dir_prev_bfnum  dir_prev_num  num_staff  num_actor  \n0    3.005290e+05             2        304          3  \n1    3.427002e+05             4        275          3  \n2    4.206611e+06             3        419          7  \n3    6.913420e+05             2        408          2  \n4    3.173800e+04             1        380          1  ",
      "text/html": "<div>\n<style scoped>\n    .dataframe tbody tr th:only-of-type {\n        vertical-align: middle;\n    }\n\n    .dataframe tbody tr th {\n        vertical-align: top;\n    }\n\n    .dataframe thead th {\n        text-align: right;\n    }\n</style>\n<table border=\"1\" class=\"dataframe\">\n  <thead>\n    <tr style=\"text-align: right;\">\n      <th></th>\n      <th>title</th>\n      <th>distributor</th>\n      <th>genre</th>\n      <th>release_time</th>\n      <th>time</th>\n      <th>screening_rat</th>\n      <th>director</th>\n      <th>dir_prev_bfnum</th>\n      <th>dir_prev_num</th>\n      <th>num_staff</th>\n      <th>num_actor</th>\n    </tr>\n  </thead>\n  <tbody>\n    <tr>\n      <th>0</th>\n      <td>용서는 없다</td>\n      <td>시네마서비스</td>\n      <td>느와르</td>\n      <td>2010-01-07</td>\n      <td>125</td>\n      <td>청소년 관람불가</td>\n      <td>김형준</td>\n      <td>3.005290e+05</td>\n      <td>2</td>\n      <td>304</td>\n      <td>3</td>\n    </tr>\n    <tr>\n      <th>1</th>\n      <td>아빠가 여자를 좋아해</td>\n      <td>(주)쇼박스</td>\n      <td>멜로/로맨스</td>\n      <td>2010-01-14</td>\n      <td>113</td>\n      <td>12세 관람가</td>\n      <td>이광재</td>\n      <td>3.427002e+05</td>\n      <td>4</td>\n      <td>275</td>\n      <td>3</td>\n    </tr>\n    <tr>\n      <th>2</th>\n      <td>하모니</td>\n      <td>CJ 엔터테인먼트</td>\n      <td>드라마</td>\n      <td>2010-01-28</td>\n      <td>115</td>\n      <td>12세 관람가</td>\n      <td>강대규</td>\n      <td>4.206611e+06</td>\n      <td>3</td>\n      <td>419</td>\n      <td>7</td>\n    </tr>\n    <tr>\n      <th>3</th>\n      <td>의형제</td>\n      <td>(주)쇼박스</td>\n      <td>액션</td>\n      <td>2010-02-04</td>\n      <td>116</td>\n      <td>15세 관람가</td>\n      <td>장훈</td>\n      <td>6.913420e+05</td>\n      <td>2</td>\n      <td>408</td>\n      <td>2</td>\n    </tr>\n    <tr>\n      <th>4</th>\n      <td>평행 이론</td>\n      <td>CJ 엔터테인먼트</td>\n      <td>공포</td>\n      <td>2010-02-18</td>\n      <td>110</td>\n      <td>15세 관람가</td>\n      <td>권호영</td>\n      <td>3.173800e+04</td>\n      <td>1</td>\n      <td>380</td>\n      <td>1</td>\n    </tr>\n  </tbody>\n</table>\n</div>"
     },
     "execution_count": 3,
     "metadata": {},
     "output_type": "execute_result"
    }
   ],
   "source": [
    "test.head()"
   ],
   "metadata": {
    "collapsed": false,
    "pycharm": {
     "name": "#%%\n"
    }
   }
  },
  {
   "cell_type": "code",
   "execution_count": 4,
   "outputs": [
    {
     "name": "stdout",
     "output_type": "stream",
     "text": [
      "<class 'pandas.core.frame.DataFrame'>\n",
      "RangeIndex: 600 entries, 0 to 599\n",
      "Data columns (total 12 columns):\n",
      " #   Column          Non-Null Count  Dtype  \n",
      "---  ------          --------------  -----  \n",
      " 0   title           600 non-null    object \n",
      " 1   distributor     600 non-null    object \n",
      " 2   genre           600 non-null    object \n",
      " 3   release_time    600 non-null    object \n",
      " 4   time            600 non-null    int64  \n",
      " 5   screening_rat   600 non-null    object \n",
      " 6   director        600 non-null    object \n",
      " 7   dir_prev_bfnum  270 non-null    float64\n",
      " 8   dir_prev_num    600 non-null    int64  \n",
      " 9   num_staff       600 non-null    int64  \n",
      " 10  num_actor       600 non-null    int64  \n",
      " 11  box_off_num     600 non-null    int64  \n",
      "dtypes: float64(1), int64(5), object(6)\n",
      "memory usage: 56.4+ KB\n"
     ]
    }
   ],
   "source": [
    "train.info()"
   ],
   "metadata": {
    "collapsed": false,
    "pycharm": {
     "name": "#%%\n"
    }
   }
  },
  {
   "cell_type": "code",
   "execution_count": 5,
   "outputs": [
    {
     "name": "stdout",
     "output_type": "stream",
     "text": [
      "<class 'pandas.core.frame.DataFrame'>\n",
      "RangeIndex: 243 entries, 0 to 242\n",
      "Data columns (total 11 columns):\n",
      " #   Column          Non-Null Count  Dtype  \n",
      "---  ------          --------------  -----  \n",
      " 0   title           243 non-null    object \n",
      " 1   distributor     243 non-null    object \n",
      " 2   genre           243 non-null    object \n",
      " 3   release_time    243 non-null    object \n",
      " 4   time            243 non-null    int64  \n",
      " 5   screening_rat   243 non-null    object \n",
      " 6   director        243 non-null    object \n",
      " 7   dir_prev_bfnum  107 non-null    float64\n",
      " 8   dir_prev_num    243 non-null    int64  \n",
      " 9   num_staff       243 non-null    int64  \n",
      " 10  num_actor       243 non-null    int64  \n",
      "dtypes: float64(1), int64(4), object(6)\n",
      "memory usage: 21.0+ KB\n"
     ]
    }
   ],
   "source": [
    "test.info()"
   ],
   "metadata": {
    "collapsed": false,
    "pycharm": {
     "name": "#%%\n"
    }
   }
  },
  {
   "cell_type": "code",
   "execution_count": 9,
   "outputs": [],
   "source": [
    "train.drop(['dir_prev_bfnum'], axis=1, inplace=True)\n",
    "test.drop(['dir_prev_bfnum'], axis=1, inplace=True)"
   ],
   "metadata": {
    "collapsed": false,
    "pycharm": {
     "name": "#%%\n"
    }
   }
  },
  {
   "cell_type": "code",
   "execution_count": 16,
   "outputs": [
    {
     "data": {
      "text/plain": "         title   distributor genre release_time  time screening_rat director  \\\n0       개들의 전쟁      롯데엔터테인먼트    액션   2012-11-22    96      청소년 관람불가      조병옥   \n1         내부자들        (주)쇼박스   느와르   2015-11-19   130      청소년 관람불가      우민호   \n2    은밀하게 위대하게        (주)쇼박스    액션   2013-06-05   123       15세 관람가      장철수   \n3     나는 공무원이다        (주)NEW   코미디   2012-07-12   101        전체 관람가      구자홍   \n4         불량남녀  쇼박스(주)미디어플렉스   코미디   2010-11-04   108       15세 관람가      신근호   \n..         ...           ...   ...          ...   ...           ...      ...   \n595         해무        (주)NEW   드라마   2014-08-13   111      청소년 관람불가      심성보   \n596       파파로티        (주)쇼박스   드라마   2013-03-14   127       15세 관람가      윤종찬   \n597      살인의 강     (주)마운틴픽쳐스    공포   2010-09-30    99      청소년 관람불가      김대현   \n598     악의 연대기     CJ 엔터테인먼트   느와르   2015-05-14   102       15세 관람가      백운학   \n599        베를린     CJ 엔터테인먼트    액션   2013-01-30   120       15세 관람가      류승완   \n\n     dir_prev_num  num_staff  num_actor  box_off_num  year  \n0               0         91          2        23398  2012  \n1               2        387          3      7072501  2015  \n2               4        343          4      6959083  2013  \n3               2         20          6       217866  2012  \n4               1        251          2       483387  2010  \n..            ...        ...        ...          ...   ...  \n595             1        510          7      1475091  2014  \n596             1        286          6      1716438  2013  \n597             0        123          4         2475  2010  \n598             0        431          4      2192525  2015  \n599             0        363          5      7166532  2013  \n\n[600 rows x 12 columns]",
      "text/html": "<div>\n<style scoped>\n    .dataframe tbody tr th:only-of-type {\n        vertical-align: middle;\n    }\n\n    .dataframe tbody tr th {\n        vertical-align: top;\n    }\n\n    .dataframe thead th {\n        text-align: right;\n    }\n</style>\n<table border=\"1\" class=\"dataframe\">\n  <thead>\n    <tr style=\"text-align: right;\">\n      <th></th>\n      <th>title</th>\n      <th>distributor</th>\n      <th>genre</th>\n      <th>release_time</th>\n      <th>time</th>\n      <th>screening_rat</th>\n      <th>director</th>\n      <th>dir_prev_num</th>\n      <th>num_staff</th>\n      <th>num_actor</th>\n      <th>box_off_num</th>\n      <th>year</th>\n    </tr>\n  </thead>\n  <tbody>\n    <tr>\n      <th>0</th>\n      <td>개들의 전쟁</td>\n      <td>롯데엔터테인먼트</td>\n      <td>액션</td>\n      <td>2012-11-22</td>\n      <td>96</td>\n      <td>청소년 관람불가</td>\n      <td>조병옥</td>\n      <td>0</td>\n      <td>91</td>\n      <td>2</td>\n      <td>23398</td>\n      <td>2012</td>\n    </tr>\n    <tr>\n      <th>1</th>\n      <td>내부자들</td>\n      <td>(주)쇼박스</td>\n      <td>느와르</td>\n      <td>2015-11-19</td>\n      <td>130</td>\n      <td>청소년 관람불가</td>\n      <td>우민호</td>\n      <td>2</td>\n      <td>387</td>\n      <td>3</td>\n      <td>7072501</td>\n      <td>2015</td>\n    </tr>\n    <tr>\n      <th>2</th>\n      <td>은밀하게 위대하게</td>\n      <td>(주)쇼박스</td>\n      <td>액션</td>\n      <td>2013-06-05</td>\n      <td>123</td>\n      <td>15세 관람가</td>\n      <td>장철수</td>\n      <td>4</td>\n      <td>343</td>\n      <td>4</td>\n      <td>6959083</td>\n      <td>2013</td>\n    </tr>\n    <tr>\n      <th>3</th>\n      <td>나는 공무원이다</td>\n      <td>(주)NEW</td>\n      <td>코미디</td>\n      <td>2012-07-12</td>\n      <td>101</td>\n      <td>전체 관람가</td>\n      <td>구자홍</td>\n      <td>2</td>\n      <td>20</td>\n      <td>6</td>\n      <td>217866</td>\n      <td>2012</td>\n    </tr>\n    <tr>\n      <th>4</th>\n      <td>불량남녀</td>\n      <td>쇼박스(주)미디어플렉스</td>\n      <td>코미디</td>\n      <td>2010-11-04</td>\n      <td>108</td>\n      <td>15세 관람가</td>\n      <td>신근호</td>\n      <td>1</td>\n      <td>251</td>\n      <td>2</td>\n      <td>483387</td>\n      <td>2010</td>\n    </tr>\n    <tr>\n      <th>...</th>\n      <td>...</td>\n      <td>...</td>\n      <td>...</td>\n      <td>...</td>\n      <td>...</td>\n      <td>...</td>\n      <td>...</td>\n      <td>...</td>\n      <td>...</td>\n      <td>...</td>\n      <td>...</td>\n      <td>...</td>\n    </tr>\n    <tr>\n      <th>595</th>\n      <td>해무</td>\n      <td>(주)NEW</td>\n      <td>드라마</td>\n      <td>2014-08-13</td>\n      <td>111</td>\n      <td>청소년 관람불가</td>\n      <td>심성보</td>\n      <td>1</td>\n      <td>510</td>\n      <td>7</td>\n      <td>1475091</td>\n      <td>2014</td>\n    </tr>\n    <tr>\n      <th>596</th>\n      <td>파파로티</td>\n      <td>(주)쇼박스</td>\n      <td>드라마</td>\n      <td>2013-03-14</td>\n      <td>127</td>\n      <td>15세 관람가</td>\n      <td>윤종찬</td>\n      <td>1</td>\n      <td>286</td>\n      <td>6</td>\n      <td>1716438</td>\n      <td>2013</td>\n    </tr>\n    <tr>\n      <th>597</th>\n      <td>살인의 강</td>\n      <td>(주)마운틴픽쳐스</td>\n      <td>공포</td>\n      <td>2010-09-30</td>\n      <td>99</td>\n      <td>청소년 관람불가</td>\n      <td>김대현</td>\n      <td>0</td>\n      <td>123</td>\n      <td>4</td>\n      <td>2475</td>\n      <td>2010</td>\n    </tr>\n    <tr>\n      <th>598</th>\n      <td>악의 연대기</td>\n      <td>CJ 엔터테인먼트</td>\n      <td>느와르</td>\n      <td>2015-05-14</td>\n      <td>102</td>\n      <td>15세 관람가</td>\n      <td>백운학</td>\n      <td>0</td>\n      <td>431</td>\n      <td>4</td>\n      <td>2192525</td>\n      <td>2015</td>\n    </tr>\n    <tr>\n      <th>599</th>\n      <td>베를린</td>\n      <td>CJ 엔터테인먼트</td>\n      <td>액션</td>\n      <td>2013-01-30</td>\n      <td>120</td>\n      <td>15세 관람가</td>\n      <td>류승완</td>\n      <td>0</td>\n      <td>363</td>\n      <td>5</td>\n      <td>7166532</td>\n      <td>2013</td>\n    </tr>\n  </tbody>\n</table>\n<p>600 rows × 12 columns</p>\n</div>"
     },
     "execution_count": 16,
     "metadata": {},
     "output_type": "execute_result"
    }
   ],
   "source": [
    "import datetime\n",
    "train['release_time'] = pd.to_datetime(train['release_time'])\n",
    "train['year'] = train['release_time'].dt.year\n",
    "train"
   ],
   "metadata": {
    "collapsed": false,
    "pycharm": {
     "name": "#%%\n"
    }
   }
  },
  {
   "cell_type": "code",
   "execution_count": 18,
   "outputs": [
    {
     "data": {
      "text/plain": "2014    127\n2015    120\n2013     95\n2010     90\n2012     88\n2011     80\nName: year, dtype: int64"
     },
     "execution_count": 18,
     "metadata": {},
     "output_type": "execute_result"
    }
   ],
   "source": [
    "train['year'].value_counts()"
   ],
   "metadata": {
    "collapsed": false,
    "pycharm": {
     "name": "#%%\n"
    }
   }
  },
  {
   "cell_type": "code",
   "execution_count": 19,
   "outputs": [
    {
     "data": {
      "text/plain": "               title  box_off_num\n0             용서는 없다            0\n1        아빠가 여자를 좋아해            0\n2                하모니            0\n3                의형제            0\n4              평행 이론            0\n..               ...          ...\n238        해에게서 소년에게            0\n239           울보 권투부            0\n240             어떤살인            0\n241        말하지 못한 비밀            0\n242  조선안방 스캔들-칠거지악 2            0\n\n[243 rows x 2 columns]",
      "text/html": "<div>\n<style scoped>\n    .dataframe tbody tr th:only-of-type {\n        vertical-align: middle;\n    }\n\n    .dataframe tbody tr th {\n        vertical-align: top;\n    }\n\n    .dataframe thead th {\n        text-align: right;\n    }\n</style>\n<table border=\"1\" class=\"dataframe\">\n  <thead>\n    <tr style=\"text-align: right;\">\n      <th></th>\n      <th>title</th>\n      <th>box_off_num</th>\n    </tr>\n  </thead>\n  <tbody>\n    <tr>\n      <th>0</th>\n      <td>용서는 없다</td>\n      <td>0</td>\n    </tr>\n    <tr>\n      <th>1</th>\n      <td>아빠가 여자를 좋아해</td>\n      <td>0</td>\n    </tr>\n    <tr>\n      <th>2</th>\n      <td>하모니</td>\n      <td>0</td>\n    </tr>\n    <tr>\n      <th>3</th>\n      <td>의형제</td>\n      <td>0</td>\n    </tr>\n    <tr>\n      <th>4</th>\n      <td>평행 이론</td>\n      <td>0</td>\n    </tr>\n    <tr>\n      <th>...</th>\n      <td>...</td>\n      <td>...</td>\n    </tr>\n    <tr>\n      <th>238</th>\n      <td>해에게서 소년에게</td>\n      <td>0</td>\n    </tr>\n    <tr>\n      <th>239</th>\n      <td>울보 권투부</td>\n      <td>0</td>\n    </tr>\n    <tr>\n      <th>240</th>\n      <td>어떤살인</td>\n      <td>0</td>\n    </tr>\n    <tr>\n      <th>241</th>\n      <td>말하지 못한 비밀</td>\n      <td>0</td>\n    </tr>\n    <tr>\n      <th>242</th>\n      <td>조선안방 스캔들-칠거지악 2</td>\n      <td>0</td>\n    </tr>\n  </tbody>\n</table>\n<p>243 rows × 2 columns</p>\n</div>"
     },
     "execution_count": 19,
     "metadata": {},
     "output_type": "execute_result"
    }
   ],
   "source": [
    "submission = pd.read_csv('./m_data/submission.csv')\n",
    "submission"
   ],
   "metadata": {
    "collapsed": false,
    "pycharm": {
     "name": "#%%\n"
    }
   }
  }
 ],
 "metadata": {
  "kernelspec": {
   "display_name": "Python 3",
   "language": "python",
   "name": "python3"
  },
  "language_info": {
   "codemirror_mode": {
    "name": "ipython",
    "version": 2
   },
   "file_extension": ".py",
   "mimetype": "text/x-python",
   "name": "python",
   "nbconvert_exporter": "python",
   "pygments_lexer": "ipython2",
   "version": "2.7.6"
  }
 },
 "nbformat": 4,
 "nbformat_minor": 0
}