{
 "cells": [
  {
   "cell_type": "code",
   "execution_count": 1,
   "metadata": {
    "collapsed": true
   },
   "outputs": [],
   "source": [
    "import pandas as pd\n",
    "\n",
    "train = pd.read_csv('dataset/train.csv')\n",
    "\n",
    "test = pd.read_csv('dataset/test.csv')\n",
    "\n",
    "sample = pd.read_csv('dataset/sample_submission.csv')"
   ]
  },
  {
   "cell_type": "code",
   "execution_count": 2,
   "outputs": [
    {
     "data": {
      "text/plain": "   id  Store        Date  Temperature  Fuel_Price  Promotion1  Promotion2  \\\n0   1      1  05/02/2010        42.31       2.572         NaN         NaN   \n1   2      1  12/02/2010        38.51       2.548         NaN         NaN   \n2   3      1  19/02/2010        39.93       2.514         NaN         NaN   \n3   4      1  26/02/2010        46.63       2.561         NaN         NaN   \n4   5      1  05/03/2010        46.50       2.625         NaN         NaN   \n\n   Promotion3  Promotion4  Promotion5  Unemployment  IsHoliday  Weekly_Sales  \n0         NaN         NaN         NaN         8.106      False    1643690.90  \n1         NaN         NaN         NaN         8.106       True    1641957.44  \n2         NaN         NaN         NaN         8.106      False    1611968.17  \n3         NaN         NaN         NaN         8.106      False    1409727.59  \n4         NaN         NaN         NaN         8.106      False    1554806.68  ",
      "text/html": "<div>\n<style scoped>\n    .dataframe tbody tr th:only-of-type {\n        vertical-align: middle;\n    }\n\n    .dataframe tbody tr th {\n        vertical-align: top;\n    }\n\n    .dataframe thead th {\n        text-align: right;\n    }\n</style>\n<table border=\"1\" class=\"dataframe\">\n  <thead>\n    <tr style=\"text-align: right;\">\n      <th></th>\n      <th>id</th>\n      <th>Store</th>\n      <th>Date</th>\n      <th>Temperature</th>\n      <th>Fuel_Price</th>\n      <th>Promotion1</th>\n      <th>Promotion2</th>\n      <th>Promotion3</th>\n      <th>Promotion4</th>\n      <th>Promotion5</th>\n      <th>Unemployment</th>\n      <th>IsHoliday</th>\n      <th>Weekly_Sales</th>\n    </tr>\n  </thead>\n  <tbody>\n    <tr>\n      <th>0</th>\n      <td>1</td>\n      <td>1</td>\n      <td>05/02/2010</td>\n      <td>42.31</td>\n      <td>2.572</td>\n      <td>NaN</td>\n      <td>NaN</td>\n      <td>NaN</td>\n      <td>NaN</td>\n      <td>NaN</td>\n      <td>8.106</td>\n      <td>False</td>\n      <td>1643690.90</td>\n    </tr>\n    <tr>\n      <th>1</th>\n      <td>2</td>\n      <td>1</td>\n      <td>12/02/2010</td>\n      <td>38.51</td>\n      <td>2.548</td>\n      <td>NaN</td>\n      <td>NaN</td>\n      <td>NaN</td>\n      <td>NaN</td>\n      <td>NaN</td>\n      <td>8.106</td>\n      <td>True</td>\n      <td>1641957.44</td>\n    </tr>\n    <tr>\n      <th>2</th>\n      <td>3</td>\n      <td>1</td>\n      <td>19/02/2010</td>\n      <td>39.93</td>\n      <td>2.514</td>\n      <td>NaN</td>\n      <td>NaN</td>\n      <td>NaN</td>\n      <td>NaN</td>\n      <td>NaN</td>\n      <td>8.106</td>\n      <td>False</td>\n      <td>1611968.17</td>\n    </tr>\n    <tr>\n      <th>3</th>\n      <td>4</td>\n      <td>1</td>\n      <td>26/02/2010</td>\n      <td>46.63</td>\n      <td>2.561</td>\n      <td>NaN</td>\n      <td>NaN</td>\n      <td>NaN</td>\n      <td>NaN</td>\n      <td>NaN</td>\n      <td>8.106</td>\n      <td>False</td>\n      <td>1409727.59</td>\n    </tr>\n    <tr>\n      <th>4</th>\n      <td>5</td>\n      <td>1</td>\n      <td>05/03/2010</td>\n      <td>46.50</td>\n      <td>2.625</td>\n      <td>NaN</td>\n      <td>NaN</td>\n      <td>NaN</td>\n      <td>NaN</td>\n      <td>NaN</td>\n      <td>8.106</td>\n      <td>False</td>\n      <td>1554806.68</td>\n    </tr>\n  </tbody>\n</table>\n</div>"
     },
     "execution_count": 2,
     "metadata": {},
     "output_type": "execute_result"
    }
   ],
   "source": [
    "train.head()"
   ],
   "metadata": {
    "collapsed": false,
    "pycharm": {
     "name": "#%%\n"
    }
   }
  },
  {
   "cell_type": "code",
   "execution_count": 3,
   "outputs": [
    {
     "data": {
      "text/plain": "        id  Store        Date  Temperature  Fuel_Price  Promotion1  \\\n6250  6251     45  31/08/2012        75.09       3.867    23641.30   \n6251  6252     45  07/09/2012        75.70       3.911    11024.45   \n6252  6253     45  14/09/2012        67.87       3.948    11407.95   \n6253  6254     45  21/09/2012        65.32       4.038     8452.20   \n6254  6255     45  28/09/2012        64.88       3.997     4556.61   \n\n      Promotion2  Promotion3  Promotion4  Promotion5  Unemployment  IsHoliday  \\\n6250        6.00       92.93     6988.31     3992.13         8.684      False   \n6251       12.80       52.63     1854.77     2055.70         8.684       True   \n6252         NaN        4.30     3421.72     5268.92         8.684      False   \n6253       92.28       63.24     2376.38     8670.40         8.684      False   \n6254       20.64        1.50     1601.01     3288.25         8.684      False   \n\n      Weekly_Sales  \n6250     734297.87  \n6251     766512.66  \n6252     702238.27  \n6253     723086.20  \n6254     713173.95  ",
      "text/html": "<div>\n<style scoped>\n    .dataframe tbody tr th:only-of-type {\n        vertical-align: middle;\n    }\n\n    .dataframe tbody tr th {\n        vertical-align: top;\n    }\n\n    .dataframe thead th {\n        text-align: right;\n    }\n</style>\n<table border=\"1\" class=\"dataframe\">\n  <thead>\n    <tr style=\"text-align: right;\">\n      <th></th>\n      <th>id</th>\n      <th>Store</th>\n      <th>Date</th>\n      <th>Temperature</th>\n      <th>Fuel_Price</th>\n      <th>Promotion1</th>\n      <th>Promotion2</th>\n      <th>Promotion3</th>\n      <th>Promotion4</th>\n      <th>Promotion5</th>\n      <th>Unemployment</th>\n      <th>IsHoliday</th>\n      <th>Weekly_Sales</th>\n    </tr>\n  </thead>\n  <tbody>\n    <tr>\n      <th>6250</th>\n      <td>6251</td>\n      <td>45</td>\n      <td>31/08/2012</td>\n      <td>75.09</td>\n      <td>3.867</td>\n      <td>23641.30</td>\n      <td>6.00</td>\n      <td>92.93</td>\n      <td>6988.31</td>\n      <td>3992.13</td>\n      <td>8.684</td>\n      <td>False</td>\n      <td>734297.87</td>\n    </tr>\n    <tr>\n      <th>6251</th>\n      <td>6252</td>\n      <td>45</td>\n      <td>07/09/2012</td>\n      <td>75.70</td>\n      <td>3.911</td>\n      <td>11024.45</td>\n      <td>12.80</td>\n      <td>52.63</td>\n      <td>1854.77</td>\n      <td>2055.70</td>\n      <td>8.684</td>\n      <td>True</td>\n      <td>766512.66</td>\n    </tr>\n    <tr>\n      <th>6252</th>\n      <td>6253</td>\n      <td>45</td>\n      <td>14/09/2012</td>\n      <td>67.87</td>\n      <td>3.948</td>\n      <td>11407.95</td>\n      <td>NaN</td>\n      <td>4.30</td>\n      <td>3421.72</td>\n      <td>5268.92</td>\n      <td>8.684</td>\n      <td>False</td>\n      <td>702238.27</td>\n    </tr>\n    <tr>\n      <th>6253</th>\n      <td>6254</td>\n      <td>45</td>\n      <td>21/09/2012</td>\n      <td>65.32</td>\n      <td>4.038</td>\n      <td>8452.20</td>\n      <td>92.28</td>\n      <td>63.24</td>\n      <td>2376.38</td>\n      <td>8670.40</td>\n      <td>8.684</td>\n      <td>False</td>\n      <td>723086.20</td>\n    </tr>\n    <tr>\n      <th>6254</th>\n      <td>6255</td>\n      <td>45</td>\n      <td>28/09/2012</td>\n      <td>64.88</td>\n      <td>3.997</td>\n      <td>4556.61</td>\n      <td>20.64</td>\n      <td>1.50</td>\n      <td>1601.01</td>\n      <td>3288.25</td>\n      <td>8.684</td>\n      <td>False</td>\n      <td>713173.95</td>\n    </tr>\n  </tbody>\n</table>\n</div>"
     },
     "execution_count": 3,
     "metadata": {},
     "output_type": "execute_result"
    }
   ],
   "source": [
    "train.tail()"
   ],
   "metadata": {
    "collapsed": false,
    "pycharm": {
     "name": "#%%\n"
    }
   }
  },
  {
   "cell_type": "code",
   "execution_count": 4,
   "outputs": [
    {
     "name": "stdout",
     "output_type": "stream",
     "text": [
      "<class 'pandas.core.frame.DataFrame'>\n",
      "RangeIndex: 6255 entries, 0 to 6254\n",
      "Data columns (total 13 columns):\n",
      " #   Column        Non-Null Count  Dtype  \n",
      "---  ------        --------------  -----  \n",
      " 0   id            6255 non-null   int64  \n",
      " 1   Store         6255 non-null   int64  \n",
      " 2   Date          6255 non-null   object \n",
      " 3   Temperature   6255 non-null   float64\n",
      " 4   Fuel_Price    6255 non-null   float64\n",
      " 5   Promotion1    2102 non-null   float64\n",
      " 6   Promotion2    1592 non-null   float64\n",
      " 7   Promotion3    1885 non-null   float64\n",
      " 8   Promotion4    1819 non-null   float64\n",
      " 9   Promotion5    2115 non-null   float64\n",
      " 10  Unemployment  6255 non-null   float64\n",
      " 11  IsHoliday     6255 non-null   bool   \n",
      " 12  Weekly_Sales  6255 non-null   float64\n",
      "dtypes: bool(1), float64(9), int64(2), object(1)\n",
      "memory usage: 592.6+ KB\n"
     ]
    }
   ],
   "source": [
    "train.info()"
   ],
   "metadata": {
    "collapsed": false,
    "pycharm": {
     "name": "#%%\n"
    }
   }
  },
  {
   "cell_type": "code",
   "execution_count": 9,
   "outputs": [
    {
     "data": {
      "text/plain": "<Figure size 432x288 with 1 Axes>",
      "image/png": "[encoded data removed]"
     },
     "metadata": {
      "needs_background": "light"
     },
     "output_type": "display_data"
    }
   ],
   "source": [
    "import matplotlib.pyplot as plt\n",
    "%matplotlib inline\n",
    "\n",
    "plt.hist(train.Weekly_Sales, bins=50)\n",
    "plt.show()"
   ],
   "metadata": {
    "collapsed": false,
    "pycharm": {
     "name": "#%%\n"
    }
   }
  },
  {
   "cell_type": "code",
   "execution_count": 10,
   "outputs": [
    {
     "data": {
      "text/plain": "        id  Store        Date  Temperature  Fuel_Price  Promotion1  \\\n0        1      1  05/02/2010        42.31       2.572        0.00   \n1        2      1  12/02/2010        38.51       2.548        0.00   \n2        3      1  19/02/2010        39.93       2.514        0.00   \n3        4      1  26/02/2010        46.63       2.561        0.00   \n4        5      1  05/03/2010        46.50       2.625        0.00   \n...    ...    ...         ...          ...         ...         ...   \n6250  6251     45  31/08/2012        75.09       3.867    23641.30   \n6251  6252     45  07/09/2012        75.70       3.911    11024.45   \n6252  6253     45  14/09/2012        67.87       3.948    11407.95   \n6253  6254     45  21/09/2012        65.32       4.038     8452.20   \n6254  6255     45  28/09/2012        64.88       3.997     4556.61   \n\n      Promotion2  Promotion3  Promotion4  Promotion5  Unemployment  IsHoliday  \\\n0           0.00        0.00        0.00        0.00         8.106      False   \n1           0.00        0.00        0.00        0.00         8.106       True   \n2           0.00        0.00        0.00        0.00         8.106      False   \n3           0.00        0.00        0.00        0.00         8.106      False   \n4           0.00        0.00        0.00        0.00         8.106      False   \n...          ...         ...         ...         ...           ...        ...   \n6250        6.00       92.93     6988.31     3992.13         8.684      False   \n6251       12.80       52.63     1854.77     2055.70         8.684       True   \n6252        0.00        4.30     3421.72     5268.92         8.684      False   \n6253       92.28       63.24     2376.38     8670.40         8.684      False   \n6254       20.64        1.50     1601.01     3288.25         8.684      False   \n\n      Weekly_Sales  \n0       1643690.90  \n1       1641957.44  \n2       1611968.17  \n3       1409727.59  \n4       1554806.68  \n...            ...  \n6250     734297.87  \n6251     766512.66  \n6252     702238.27  \n6253     723086.20  \n6254     713173.95  \n\n[6255 rows x 13 columns]",
      "text/html": "<div>\n<style scoped>\n    .dataframe tbody tr th:only-of-type {\n        vertical-align: middle;\n    }\n\n    .dataframe tbody tr th {\n        vertical-align: top;\n    }\n\n    .dataframe thead th {\n        text-align: right;\n    }\n</style>\n<table border=\"1\" class=\"dataframe\">\n  <thead>\n    <tr style=\"text-align: right;\">\n      <th></th>\n      <th>id</th>\n      <th>Store</th>\n      <th>Date</th>\n      <th>Temperature</th>\n      <th>Fuel_Price</th>\n      <th>Promotion1</th>\n      <th>Promotion2</th>\n      <th>Promotion3</th>\n      <th>Promotion4</th>\n      <th>Promotion5</th>\n      <th>Unemployment</th>\n      <th>IsHoliday</th>\n      <th>Weekly_Sales</th>\n    </tr>\n  </thead>\n  <tbody>\n    <tr>\n      <th>0</th>\n      <td>1</td>\n      <td>1</td>\n      <td>05/02/2010</td>\n      <td>42.31</td>\n      <td>2.572</td>\n      <td>0.00</td>\n      <td>0.00</td>\n      <td>0.00</td>\n      <td>0.00</td>\n      <td>0.00</td>\n      <td>8.106</td>\n      <td>False</td>\n      <td>1643690.90</td>\n    </tr>\n    <tr>\n      <th>1</th>\n      <td>2</td>\n      <td>1</td>\n      <td>12/02/2010</td>\n      <td>38.51</td>\n      <td>2.548</td>\n      <td>0.00</td>\n      <td>0.00</td>\n      <td>0.00</td>\n      <td>0.00</td>\n      <td>0.00</td>\n      <td>8.106</td>\n      <td>True</td>\n      <td>1641957.44</td>\n    </tr>\n    <tr>\n      <th>2</th>\n      <td>3</td>\n      <td>1</td>\n      <td>19/02/2010</td>\n      <td>39.93</td>\n      <td>2.514</td>\n      <td>0.00</td>\n      <td>0.00</td>\n      <td>0.00</td>\n      <td>0.00</td>\n      <td>0.00</td>\n      <td>8.106</td>\n      <td>False</td>\n      <td>1611968.17</td>\n    </tr>\n    <tr>\n      <th>3</th>\n      <td>4</td>\n      <td>1</td>\n      <td>26/02/2010</td>\n      <td>46.63</td>\n      <td>2.561</td>\n      <td>0.00</td>\n      <td>0.00</td>\n      <td>0.00</td>\n      <td>0.00</td>\n      <td>0.00</td>\n      <td>8.106</td>\n      <td>False</td>\n      <td>1409727.59</td>\n    </tr>\n    <tr>\n      <th>4</th>\n      <td>5</td>\n      <td>1</td>\n      <td>05/03/2010</td>\n      <td>46.50</td>\n      <td>2.625</td>\n      <td>0.00</td>\n      <td>0.00</td>\n      <td>0.00</td>\n      <td>0.00</td>\n      <td>0.00</td>\n      <td>8.106</td>\n      <td>False</td>\n      <td>1554806.68</td>\n    </tr>\n    <tr>\n      <th>...</th>\n      <td>...</td>\n      <td>...</td>\n      <td>...</td>\n      <td>...</td>\n      <td>...</td>\n      <td>...</td>\n      <td>...</td>\n      <td>...</td>\n      <td>...</td>\n      <td>...</td>\n      <td>...</td>\n      <td>...</td>\n      <td>...</td>\n    </tr>\n    <tr>\n      <th>6250</th>\n      <td>6251</td>\n      <td>45</td>\n      <td>31/08/2012</td>\n      <td>75.09</td>\n      <td>3.867</td>\n      <td>23641.30</td>\n      <td>6.00</td>\n      <td>92.93</td>\n      <td>6988.31</td>\n      <td>3992.13</td>\n      <td>8.684</td>\n      <td>False</td>\n      <td>734297.87</td>\n    </tr>\n    <tr>\n      <th>6251</th>\n      <td>6252</td>\n      <td>45</td>\n      <td>07/09/2012</td>\n      <td>75.70</td>\n      <td>3.911</td>\n      <td>11024.45</td>\n      <td>12.80</td>\n      <td>52.63</td>\n      <td>1854.77</td>\n      <td>2055.70</td>\n      <td>8.684</td>\n      <td>True</td>\n      <td>766512.66</td>\n    </tr>\n    <tr>\n      <th>6252</th>\n      <td>6253</td>\n      <td>45</td>\n      <td>14/09/2012</td>\n      <td>67.87</td>\n      <td>3.948</td>\n      <td>11407.95</td>\n      <td>0.00</td>\n      <td>4.30</td>\n      <td>3421.72</td>\n      <td>5268.92</td>\n      <td>8.684</td>\n      <td>False</td>\n      <td>702238.27</td>\n    </tr>\n    <tr>\n      <th>6253</th>\n      <td>6254</td>\n      <td>45</td>\n      <td>21/09/2012</td>\n      <td>65.32</td>\n      <td>4.038</td>\n      <td>8452.20</td>\n      <td>92.28</td>\n      <td>63.24</td>\n      <td>2376.38</td>\n      <td>8670.40</td>\n      <td>8.684</td>\n      <td>False</td>\n      <td>723086.20</td>\n    </tr>\n    <tr>\n      <th>6254</th>\n      <td>6255</td>\n      <td>45</td>\n      <td>28/09/2012</td>\n      <td>64.88</td>\n      <td>3.997</td>\n      <td>4556.61</td>\n      <td>20.64</td>\n      <td>1.50</td>\n      <td>1601.01</td>\n      <td>3288.25</td>\n      <td>8.684</td>\n      <td>False</td>\n      <td>713173.95</td>\n    </tr>\n  </tbody>\n</table>\n<p>6255 rows × 13 columns</p>\n</div>"
     },
     "execution_count": 10,
     "metadata": {},
     "output_type": "execute_result"
    }
   ],
   "source": [
    "train = train.fillna(0)\n",
    "train"
   ],
   "metadata": {
    "collapsed": false,
    "pycharm": {
     "name": "#%%\n"
    }
   }
  },
  {
   "cell_type": "code",
   "execution_count": 11,
   "outputs": [
    {
     "data": {
      "text/plain": "        id  Store        Date  Temperature  Fuel_Price  Promotion1  \\\n0        1      1  05/02/2010        42.31       2.572        0.00   \n1        2      1  12/02/2010        38.51       2.548        0.00   \n2        3      1  19/02/2010        39.93       2.514        0.00   \n3        4      1  26/02/2010        46.63       2.561        0.00   \n4        5      1  05/03/2010        46.50       2.625        0.00   \n...    ...    ...         ...          ...         ...         ...   \n6250  6251     45  31/08/2012        75.09       3.867    23641.30   \n6251  6252     45  07/09/2012        75.70       3.911    11024.45   \n6252  6253     45  14/09/2012        67.87       3.948    11407.95   \n6253  6254     45  21/09/2012        65.32       4.038     8452.20   \n6254  6255     45  28/09/2012        64.88       3.997     4556.61   \n\n      Promotion2  Promotion3  Promotion4  Promotion5  Unemployment  IsHoliday  \\\n0           0.00        0.00        0.00        0.00         8.106      False   \n1           0.00        0.00        0.00        0.00         8.106       True   \n2           0.00        0.00        0.00        0.00         8.106      False   \n3           0.00        0.00        0.00        0.00         8.106      False   \n4           0.00        0.00        0.00        0.00         8.106      False   \n...          ...         ...         ...         ...           ...        ...   \n6250        6.00       92.93     6988.31     3992.13         8.684      False   \n6251       12.80       52.63     1854.77     2055.70         8.684       True   \n6252        0.00        4.30     3421.72     5268.92         8.684      False   \n6253       92.28       63.24     2376.38     8670.40         8.684      False   \n6254       20.64        1.50     1601.01     3288.25         8.684      False   \n\n      Weekly_Sales  Month  \n0       1643690.90      2  \n1       1641957.44      2  \n2       1611968.17      2  \n3       1409727.59      2  \n4       1554806.68      3  \n...            ...    ...  \n6250     734297.87      8  \n6251     766512.66      9  \n6252     702238.27      9  \n6253     723086.20      9  \n6254     713173.95      9  \n\n[6255 rows x 14 columns]",
      "text/html": "<div>\n<style scoped>\n    .dataframe tbody tr th:only-of-type {\n        vertical-align: middle;\n    }\n\n    .dataframe tbody tr th {\n        vertical-align: top;\n    }\n\n    .dataframe thead th {\n        text-align: right;\n    }\n</style>\n<table border=\"1\" class=\"dataframe\">\n  <thead>\n    <tr style=\"text-align: right;\">\n      <th></th>\n      <th>id</th>\n      <th>Store</th>\n      <th>Date</th>\n      <th>Temperature</th>\n      <th>Fuel_Price</th>\n      <th>Promotion1</th>\n      <th>Promotion2</th>\n      <th>Promotion3</th>\n      <th>Promotion4</th>\n      <th>Promotion5</th>\n      <th>Unemployment</th>\n      <th>IsHoliday</th>\n      <th>Weekly_Sales</th>\n      <th>Month</th>\n    </tr>\n  </thead>\n  <tbody>\n    <tr>\n      <th>0</th>\n      <td>1</td>\n      <td>1</td>\n      <td>05/02/2010</td>\n      <td>42.31</td>\n      <td>2.572</td>\n      <td>0.00</td>\n      <td>0.00</td>\n      <td>0.00</td>\n      <td>0.00</td>\n      <td>0.00</td>\n      <td>8.106</td>\n      <td>False</td>\n      <td>1643690.90</td>\n      <td>2</td>\n    </tr>\n    <tr>\n      <th>1</th>\n      <td>2</td>\n      <td>1</td>\n      <td>12/02/2010</td>\n      <td>38.51</td>\n      <td>2.548</td>\n      <td>0.00</td>\n      <td>0.00</td>\n      <td>0.00</td>\n      <td>0.00</td>\n      <td>0.00</td>\n      <td>8.106</td>\n      <td>True</td>\n      <td>1641957.44</td>\n      <td>2</td>\n    </tr>\n    <tr>\n      <th>2</th>\n      <td>3</td>\n      <td>1</td>\n      <td>19/02/2010</td>\n      <td>39.93</td>\n      <td>2.514</td>\n      <td>0.00</td>\n      <td>0.00</td>\n      <td>0.00</td>\n      <td>0.00</td>\n      <td>0.00</td>\n      <td>8.106</td>\n      <td>False</td>\n      <td>1611968.17</td>\n      <td>2</td>\n    </tr>\n    <tr>\n      <th>3</th>\n      <td>4</td>\n      <td>1</td>\n      <td>26/02/2010</td>\n      <td>46.63</td>\n      <td>2.561</td>\n      <td>0.00</td>\n      <td>0.00</td>\n      <td>0.00</td>\n      <td>0.00</td>\n      <td>0.00</td>\n      <td>8.106</td>\n      <td>False</td>\n      <td>1409727.59</td>\n      <td>2</td>\n    </tr>\n    <tr>\n      <th>4</th>\n      <td>5</td>\n      <td>1</td>\n      <td>05/03/2010</td>\n      <td>46.50</td>\n      <td>2.625</td>\n      <td>0.00</td>\n      <td>0.00</td>\n      <td>0.00</td>\n      <td>0.00</td>\n      <td>0.00</td>\n      <td>8.106</td>\n      <td>False</td>\n      <td>1554806.68</td>\n      <td>3</td>\n    </tr>\n    <tr>\n      <th>...</th>\n      <td>...</td>\n      <td>...</td>\n      <td>...</td>\n      <td>...</td>\n      <td>...</td>\n      <td>...</td>\n      <td>...</td>\n      <td>...</td>\n      <td>...</td>\n      <td>...</td>\n      <td>...</td>\n      <td>...</td>\n      <td>...</td>\n      <td>...</td>\n    </tr>\n    <tr>\n      <th>6250</th>\n      <td>6251</td>\n      <td>45</td>\n      <td>31/08/2012</td>\n      <td>75.09</td>\n      <td>3.867</td>\n      <td>23641.30</td>\n      <td>6.00</td>\n      <td>92.93</td>\n      <td>6988.31</td>\n      <td>3992.13</td>\n      <td>8.684</td>\n      <td>False</td>\n      <td>734297.87</td>\n      <td>8</td>\n    </tr>\n    <tr>\n      <th>6251</th>\n      <td>6252</td>\n      <td>45</td>\n      <td>07/09/2012</td>\n      <td>75.70</td>\n      <td>3.911</td>\n      <td>11024.45</td>\n      <td>12.80</td>\n      <td>52.63</td>\n      <td>1854.77</td>\n      <td>2055.70</td>\n      <td>8.684</td>\n      <td>True</td>\n      <td>766512.66</td>\n      <td>9</td>\n    </tr>\n    <tr>\n      <th>6252</th>\n      <td>6253</td>\n      <td>45</td>\n      <td>14/09/2012</td>\n      <td>67.87</td>\n      <td>3.948</td>\n      <td>11407.95</td>\n      <td>0.00</td>\n      <td>4.30</td>\n      <td>3421.72</td>\n      <td>5268.92</td>\n      <td>8.684</td>\n      <td>False</td>\n      <td>702238.27</td>\n      <td>9</td>\n    </tr>\n    <tr>\n      <th>6253</th>\n      <td>6254</td>\n      <td>45</td>\n      <td>21/09/2012</td>\n      <td>65.32</td>\n      <td>4.038</td>\n      <td>8452.20</td>\n      <td>92.28</td>\n      <td>63.24</td>\n      <td>2376.38</td>\n      <td>8670.40</td>\n      <td>8.684</td>\n      <td>False</td>\n      <td>723086.20</td>\n      <td>9</td>\n    </tr>\n    <tr>\n      <th>6254</th>\n      <td>6255</td>\n      <td>45</td>\n      <td>28/09/2012</td>\n      <td>64.88</td>\n      <td>3.997</td>\n      <td>4556.61</td>\n      <td>20.64</td>\n      <td>1.50</td>\n      <td>1601.01</td>\n      <td>3288.25</td>\n      <td>8.684</td>\n      <td>False</td>\n      <td>713173.95</td>\n      <td>9</td>\n    </tr>\n  </tbody>\n</table>\n<p>6255 rows × 14 columns</p>\n</div>"
     },
     "execution_count": 11,
     "metadata": {},
     "output_type": "execute_result"
    }
   ],
   "source": [
    "def get_month(date):\n",
    "    month = date[3:5]\n",
    "    month = int(month)\n",
    "    return month\n",
    "\n",
    "train['Month'] = train['Date'].apply(get_month)\n",
    "\n",
    "train"
   ],
   "metadata": {
    "collapsed": false,
    "pycharm": {
     "name": "#%%\n"
    }
   }
  },
  {
   "cell_type": "code",
   "execution_count": 12,
   "outputs": [
    {
     "data": {
      "text/plain": "        id  Store        Date  Temperature  Fuel_Price  Promotion1  \\\n0        1      1  05/02/2010        42.31       2.572        0.00   \n1        2      1  12/02/2010        38.51       2.548        0.00   \n2        3      1  19/02/2010        39.93       2.514        0.00   \n3        4      1  26/02/2010        46.63       2.561        0.00   \n4        5      1  05/03/2010        46.50       2.625        0.00   \n...    ...    ...         ...          ...         ...         ...   \n6250  6251     45  31/08/2012        75.09       3.867    23641.30   \n6251  6252     45  07/09/2012        75.70       3.911    11024.45   \n6252  6253     45  14/09/2012        67.87       3.948    11407.95   \n6253  6254     45  21/09/2012        65.32       4.038     8452.20   \n6254  6255     45  28/09/2012        64.88       3.997     4556.61   \n\n      Promotion2  Promotion3  Promotion4  Promotion5  Unemployment  IsHoliday  \\\n0           0.00        0.00        0.00        0.00         8.106      False   \n1           0.00        0.00        0.00        0.00         8.106       True   \n2           0.00        0.00        0.00        0.00         8.106      False   \n3           0.00        0.00        0.00        0.00         8.106      False   \n4           0.00        0.00        0.00        0.00         8.106      False   \n...          ...         ...         ...         ...           ...        ...   \n6250        6.00       92.93     6988.31     3992.13         8.684      False   \n6251       12.80       52.63     1854.77     2055.70         8.684       True   \n6252        0.00        4.30     3421.72     5268.92         8.684      False   \n6253       92.28       63.24     2376.38     8670.40         8.684      False   \n6254       20.64        1.50     1601.01     3288.25         8.684      False   \n\n      Weekly_Sales  Month  NumberHoliday  \n0       1643690.90      2              0  \n1       1641957.44      2              1  \n2       1611968.17      2              0  \n3       1409727.59      2              0  \n4       1554806.68      3              0  \n...            ...    ...            ...  \n6250     734297.87      8              0  \n6251     766512.66      9              1  \n6252     702238.27      9              0  \n6253     723086.20      9              0  \n6254     713173.95      9              0  \n\n[6255 rows x 15 columns]",
      "text/html": "<div>\n<style scoped>\n    .dataframe tbody tr th:only-of-type {\n        vertical-align: middle;\n    }\n\n    .dataframe tbody tr th {\n        vertical-align: top;\n    }\n\n    .dataframe thead th {\n        text-align: right;\n    }\n</style>\n<table border=\"1\" class=\"dataframe\">\n  <thead>\n    <tr style=\"text-align: right;\">\n      <th></th>\n      <th>id</th>\n      <th>Store</th>\n      <th>Date</th>\n      <th>Temperature</th>\n      <th>Fuel_Price</th>\n      <th>Promotion1</th>\n      <th>Promotion2</th>\n      <th>Promotion3</th>\n      <th>Promotion4</th>\n      <th>Promotion5</th>\n      <th>Unemployment</th>\n      <th>IsHoliday</th>\n      <th>Weekly_Sales</th>\n      <th>Month</th>\n      <th>NumberHoliday</th>\n    </tr>\n  </thead>\n  <tbody>\n    <tr>\n      <th>0</th>\n      <td>1</td>\n      <td>1</td>\n      <td>05/02/2010</td>\n      <td>42.31</td>\n      <td>2.572</td>\n      <td>0.00</td>\n      <td>0.00</td>\n      <td>0.00</td>\n      <td>0.00</td>\n      <td>0.00</td>\n      <td>8.106</td>\n      <td>False</td>\n      <td>1643690.90</td>\n      <td>2</td>\n      <td>0</td>\n    </tr>\n    <tr>\n      <th>1</th>\n      <td>2</td>\n      <td>1</td>\n      <td>12/02/2010</td>\n      <td>38.51</td>\n      <td>2.548</td>\n      <td>0.00</td>\n      <td>0.00</td>\n      <td>0.00</td>\n      <td>0.00</td>\n      <td>0.00</td>\n      <td>8.106</td>\n      <td>True</td>\n      <td>1641957.44</td>\n      <td>2</td>\n      <td>1</td>\n    </tr>\n    <tr>\n      <th>2</th>\n      <td>3</td>\n      <td>1</td>\n      <td>19/02/2010</td>\n      <td>39.93</td>\n      <td>2.514</td>\n      <td>0.00</td>\n      <td>0.00</td>\n      <td>0.00</td>\n      <td>0.00</td>\n      <td>0.00</td>\n      <td>8.106</td>\n      <td>False</td>\n      <td>1611968.17</td>\n      <td>2</td>\n      <td>0</td>\n    </tr>\n    <tr>\n      <th>3</th>\n      <td>4</td>\n      <td>1</td>\n      <td>26/02/2010</td>\n      <td>46.63</td>\n      <td>2.561</td>\n      <td>0.00</td>\n      <td>0.00</td>\n      <td>0.00</td>\n      <td>0.00</td>\n      <td>0.00</td>\n      <td>8.106</td>\n      <td>False</td>\n      <td>1409727.59</td>\n      <td>2</td>\n      <td>0</td>\n    </tr>\n    <tr>\n      <th>4</th>\n      <td>5</td>\n      <td>1</td>\n      <td>05/03/2010</td>\n      <td>46.50</td>\n      <td>2.625</td>\n      <td>0.00</td>\n      <td>0.00</td>\n      <td>0.00</td>\n      <td>0.00</td>\n      <td>0.00</td>\n      <td>8.106</td>\n      <td>False</td>\n      <td>1554806.68</td>\n      <td>3</td>\n      <td>0</td>\n    </tr>\n    <tr>\n      <th>...</th>\n      <td>...</td>\n      <td>...</td>\n      <td>...</td>\n      <td>...</td>\n      <td>...</td>\n      <td>...</td>\n      <td>...</td>\n      <td>...</td>\n      <td>...</td>\n      <td>...</td>\n      <td>...</td>\n      <td>...</td>\n      <td>...</td>\n      <td>...</td>\n      <td>...</td>\n    </tr>\n    <tr>\n      <th>6250</th>\n      <td>6251</td>\n      <td>45</td>\n      <td>31/08/2012</td>\n      <td>75.09</td>\n      <td>3.867</td>\n      <td>23641.30</td>\n      <td>6.00</td>\n      <td>92.93</td>\n      <td>6988.31</td>\n      <td>3992.13</td>\n      <td>8.684</td>\n      <td>False</td>\n      <td>734297.87</td>\n      <td>8</td>\n      <td>0</td>\n    </tr>\n    <tr>\n      <th>6251</th>\n      <td>6252</td>\n      <td>45</td>\n      <td>07/09/2012</td>\n      <td>75.70</td>\n      <td>3.911</td>\n      <td>11024.45</td>\n      <td>12.80</td>\n      <td>52.63</td>\n      <td>1854.77</td>\n      <td>2055.70</td>\n      <td>8.684</td>\n      <td>True</td>\n      <td>766512.66</td>\n      <td>9</td>\n      <td>1</td>\n    </tr>\n    <tr>\n      <th>6252</th>\n      <td>6253</td>\n      <td>45</td>\n      <td>14/09/2012</td>\n      <td>67.87</td>\n      <td>3.948</td>\n      <td>11407.95</td>\n      <td>0.00</td>\n      <td>4.30</td>\n      <td>3421.72</td>\n      <td>5268.92</td>\n      <td>8.684</td>\n      <td>False</td>\n      <td>702238.27</td>\n      <td>9</td>\n      <td>0</td>\n    </tr>\n    <tr>\n      <th>6253</th>\n      <td>6254</td>\n      <td>45</td>\n      <td>21/09/2012</td>\n      <td>65.32</td>\n      <td>4.038</td>\n      <td>8452.20</td>\n      <td>92.28</td>\n      <td>63.24</td>\n      <td>2376.38</td>\n      <td>8670.40</td>\n      <td>8.684</td>\n      <td>False</td>\n      <td>723086.20</td>\n      <td>9</td>\n      <td>0</td>\n    </tr>\n    <tr>\n      <th>6254</th>\n      <td>6255</td>\n      <td>45</td>\n      <td>28/09/2012</td>\n      <td>64.88</td>\n      <td>3.997</td>\n      <td>4556.61</td>\n      <td>20.64</td>\n      <td>1.50</td>\n      <td>1601.01</td>\n      <td>3288.25</td>\n      <td>8.684</td>\n      <td>False</td>\n      <td>713173.95</td>\n      <td>9</td>\n      <td>0</td>\n    </tr>\n  </tbody>\n</table>\n<p>6255 rows × 15 columns</p>\n</div>"
     },
     "execution_count": 12,
     "metadata": {},
     "output_type": "execute_result"
    }
   ],
   "source": [
    "def holiday_to_number(isholiday):\n",
    "    if isholiday == True:\n",
    "        number = 1\n",
    "    else:\n",
    "        number = 0\n",
    "    return number\n",
    "\n",
    "train['NumberHoliday'] = train['IsHoliday'].apply(holiday_to_number)\n",
    "\n",
    "train"
   ],
   "metadata": {
    "collapsed": false,
    "pycharm": {
     "name": "#%%\n"
    }
   }
  },
  {
   "cell_type": "code",
   "execution_count": 13,
   "outputs": [],
   "source": [
    "test = test.fillna(0)\n",
    "\n",
    "test['Month'] = test['Date'].apply(get_month)\n",
    "\n",
    "test['NumberHoliday'] = test['IsHoliday'].apply(holiday_to_number)"
   ],
   "metadata": {
    "collapsed": false,
    "pycharm": {
     "name": "#%%\n"
    }
   }
  },
  {
   "cell_type": "code",
   "execution_count": 14,
   "outputs": [],
   "source": [
    "from sklearn.linear_model import LinearRegression\n",
    "\n",
    "model = LinearRegression()"
   ],
   "metadata": {
    "collapsed": false,
    "pycharm": {
     "name": "#%%\n"
    }
   }
  },
  {
   "cell_type": "code",
   "execution_count": 15,
   "outputs": [],
   "source": [
    "train = train.drop(columns=['id'])\n",
    "test = test.drop(columns=['id'])\n",
    "\n",
    "train = train.drop(columns=['Date','IsHoliday'])\n",
    "test = test.drop(columns=['Date', 'IsHoliday'])\n",
    "\n",
    "x_train = train.drop(columns=['Weekly_Sales'])\n",
    "y_train = train[['Weekly_Sales']]"
   ],
   "metadata": {
    "collapsed": false,
    "pycharm": {
     "name": "#%%\n"
    }
   }
  },
  {
   "cell_type": "code",
   "source": [
    "model.fit(x_train, y_train)"
   ],
   "metadata": {
    "collapsed": false,
    "pycharm": {
     "name": "#%%\n"
    }
   },
   "execution_count": 16,
   "outputs": [
    {
     "data": {
      "text/plain": "LinearRegression()"
     },
     "execution_count": 16,
     "metadata": {},
     "output_type": "execute_result"
    }
   ]
  },
  {
   "cell_type": "code",
   "execution_count": 17,
   "outputs": [
    {
     "name": "stdout",
     "output_type": "stream",
     "text": [
      "[[1481332.55782775]\n",
      " [1461330.0803101 ]\n",
      " [1387783.09207983]\n",
      " [1389854.53005949]\n",
      " [1443978.94274372]\n",
      " [1514601.15440917]\n",
      " [1416193.17838576]\n",
      " [1439121.74595412]\n",
      " [1334090.21769005]\n",
      " [1324831.19678272]]\n"
     ]
    }
   ],
   "source": [
    "pred = model.predict(test)\n",
    "print(pred[:10])"
   ],
   "metadata": {
    "collapsed": false,
    "pycharm": {
     "name": "#%%\n"
    }
   }
  },
  {
   "cell_type": "code",
   "execution_count": 18,
   "outputs": [],
   "source": [
    "sample['Weekly_Sales'] = pred"
   ],
   "metadata": {
    "collapsed": false,
    "pycharm": {
     "name": "#%%\n"
    }
   }
  },
  {
   "cell_type": "code",
   "execution_count": 19,
   "outputs": [
    {
     "data": {
      "text/plain": "   id  Weekly_Sales\n0   1  1.481333e+06\n1   2  1.461330e+06\n2   3  1.387783e+06\n3   4  1.389855e+06\n4   5  1.443979e+06",
      "text/html": "<div>\n<style scoped>\n    .dataframe tbody tr th:only-of-type {\n        vertical-align: middle;\n    }\n\n    .dataframe tbody tr th {\n        vertical-align: top;\n    }\n\n    .dataframe thead th {\n        text-align: right;\n    }\n</style>\n<table border=\"1\" class=\"dataframe\">\n  <thead>\n    <tr style=\"text-align: right;\">\n      <th></th>\n      <th>id</th>\n      <th>Weekly_Sales</th>\n    </tr>\n  </thead>\n  <tbody>\n    <tr>\n      <th>0</th>\n      <td>1</td>\n      <td>1.481333e+06</td>\n    </tr>\n    <tr>\n      <th>1</th>\n      <td>2</td>\n      <td>1.461330e+06</td>\n    </tr>\n    <tr>\n      <th>2</th>\n      <td>3</td>\n      <td>1.387783e+06</td>\n    </tr>\n    <tr>\n      <th>3</th>\n      <td>4</td>\n      <td>1.389855e+06</td>\n    </tr>\n    <tr>\n      <th>4</th>\n      <td>5</td>\n      <td>1.443979e+06</td>\n    </tr>\n  </tbody>\n</table>\n</div>"
     },
     "execution_count": 19,
     "metadata": {},
     "output_type": "execute_result"
    }
   ],
   "source": [
    "sample.head()"
   ],
   "metadata": {
    "collapsed": false,
    "pycharm": {
     "name": "#%%\n"
    }
   }
  },
  {
   "cell_type": "code",
   "execution_count": 20,
   "outputs": [],
   "source": [
    "sample.to_csv('submission.csv', index=False)"
   ],
   "metadata": {
    "collapsed": false,
    "pycharm": {
     "name": "#%%\n"
    }
   }
  }
 ],
 "metadata": {
  "kernelspec": {
   "display_name": "Python 3",
   "language": "python",
   "name": "python3"
  },
  "language_info": {
   "codemirror_mode": {
    "name": "ipython",
    "version": 2
   },
   "file_extension": ".py",
   "mimetype": "text/x-python",
   "name": "python",
   "nbconvert_exporter": "python",
   "pygments_lexer": "ipython2",
   "version": "2.7.6"
  }
 },
 "nbformat": 4,
 "nbformat_minor": 0
}